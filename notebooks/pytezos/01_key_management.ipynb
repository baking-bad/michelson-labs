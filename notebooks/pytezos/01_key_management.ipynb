{
 "cells": [
  {
   "cell_type": "markdown",
   "metadata": {},
   "source": [
    "# Chapter 1\n",
    "This is an introduction to implicit accounts and key management in Tezos."
   ]
  },
  {
   "cell_type": "markdown",
   "metadata": {},
   "source": [
    "As you may know in Tezos there are currently two types of accounts: implicit and originated. In this chapter we will inspect the former type.  \n",
    "Implicit account with some `tez` (Tezos native tokens) is probably the first thing you will need to start working with Tezos.  \n",
    "Implicit account is linked to a [public key](https://en.wikipedia.org/wiki/Public-key_cryptography), is always spendable and delegatable, cannot contain code nor reject a transaction.  \n",
    "Implicit account address starts with `tz` prefix."
   ]
  },
  {
   "cell_type": "markdown",
   "metadata": {},
   "source": [
    "## Base58 encoding\n",
    "Tezos uses a special encoding for various entities identified by raw bytes, e.g. block id, account id, operation id, etc. A common scheme is used for making such identifiers readable, distinguashable, concise, and non-ambiguous:\n",
    "1. Prepend a predefined byte prefix (in some cases also a suffix) to the raw identifier;\n",
    "2. Encode raw bytes using Base58 algorithm with checksum.\n",
    "\n",
    "Here is an example for an [EC](https://en.wikipedia.org/wiki/Elliptic-curve_cryptography) public key:"
   ]
  },
  {
   "cell_type": "code",
   "execution_count": 1,
   "metadata": {},
   "outputs": [
    {
     "data": {
      "text/plain": [
       "[(b'B', 51, b'\\x014', 32, 'block hash'),\n",
       " (b'o', 51, b'\\x05t', 32, 'operation hash'),\n",
       " (b'Lo', 52, b'\\x85\\xe9', 32, 'operation list hash'),\n",
       " (b'LLo', 53, b'\\x1d\\x9fm', 32, 'operation list list hash'),\n",
       " (b'P', 51, b'\\x02\\xaa', 32, 'protocol hash'),\n",
       " (b'Co', 52, b'O\\xc7', 32, 'context hash'),\n",
       " (b'tz1', 36, b'\\x06\\xa1\\x9f', 20, 'ed25519 public key hash'),\n",
       " (b'tz2', 36, b'\\x06\\xa1\\xa1', 20, 'secp256k1 public key hash'),\n",
       " (b'tz3', 36, b'\\x06\\xa1\\xa4', 20, 'p256 public key hash'),\n",
       " (b'KT1', 36, b'\\x02Zy', 20, 'Originated address'),\n",
       " (b'id', 30, b'\\x99g', 16, 'cryptobox public key hash'),\n",
       " (b'expr', 54, b'\\r,@\\x1b', 32, 'script expression'),\n",
       " (b'edsk', 54, b'\\r\\x0f:\\x07', 32, 'ed25519 seed'),\n",
       " (b'edpk', 54, b'\\r\\x0f%\\xd9', 32, 'ed25519 public key'),\n",
       " (b'spsk', 54, b'\\x11\\xa2\\xe0\\xc9', 32, 'secp256k1 secret key'),\n",
       " (b'p2sk', 54, b'\\x10Q\\xee\\xbd', 32, 'p256 secret key'),\n",
       " (b'edesk', 88, b'\\x07Z<\\xb3)', 56, 'ed25519 encrypted seed'),\n",
       " (b'spesk', 88, b'\\t\\xed\\xf1\\xae\\x96', 56, 'secp256k1 encrypted secret key'),\n",
       " (b'p2esk', 88, b'\\t09s\\xab', 56, 'p256_encrypted_secret_key'),\n",
       " (b'sppk', 55, b'\\x03\\xfe\\xe2V', 33, 'secp256k1 public key'),\n",
       " (b'p2pk', 55, b'\\x03\\xb2\\x8b\\x7f', 33, 'p256 public key'),\n",
       " (b'SSp', 53, b'&\\xf8\\x88', 33, 'secp256k1 scalar'),\n",
       " (b'GSp', 53, b'\\x05\\\\\\x00', 33, 'secp256k1 element'),\n",
       " (b'edsk', 98, b'+\\xf6N\\x07', 64, 'ed25519 secret key'),\n",
       " (b'edsig', 99, b'\\t\\xf5\\xcd\\x86\\x12', 64, 'ed25519 signature'),\n",
       " (b'spsig', 99, b'\\rse\\x13?', 64, 'secp256k1 signature'),\n",
       " (b'p2sig', 98, b'6\\xf0,4', 64, 'p256 signature'),\n",
       " (b'sig', 96, b'\\x04\\x82+', 64, 'generic signature'),\n",
       " (b'Net', 15, b'WR\\x00', 4, 'chain id')]"
      ]
     },
     "execution_count": 1,
     "metadata": {},
     "output_type": "execute_result"
    }
   ],
   "source": [
    "from pytezos.encoding import base58_encodings\n",
    "from base58 import b58encode_check\n",
    "\n",
    "base58_encodings  # Here is the list of all known entities used in PyTezos"
   ]
  },
  {
   "cell_type": "code",
   "execution_count": 2,
   "metadata": {},
   "outputs": [
    {
     "data": {
      "text/plain": [
       "b'edpku976gpuAD2bXyx1XGraeKuCo1gUZ3LAJcHM12W1ecxZwoiu22R'"
      ]
     },
     "execution_count": 2,
     "metadata": {},
     "output_type": "execute_result"
    }
   ],
   "source": [
    "public_key_hex = '419491b1796b13d756d394ed925c10727bca06e97353c5ca09402a9b6b07abcc'\n",
    "# Selecting raw prefix for ed25519 public key from the table above\n",
    "b58encode_check(b'\\r\\x0f%\\xd9' + bytes.fromhex(public_key_hex))"
   ]
  },
  {
   "cell_type": "markdown",
   "metadata": {},
   "source": [
    "That's how string identifiers derived from the raw data in a nutshell.  \n",
    "Of course, you don't have to do it manually, you can use PyTezos helpers for that:"
   ]
  },
  {
   "cell_type": "code",
   "execution_count": 3,
   "metadata": {},
   "outputs": [
    {
     "data": {
      "text/plain": [
       "b'edpku976gpuAD2bXyx1XGraeKuCo1gUZ3LAJcHM12W1ecxZwoiu22R'"
      ]
     },
     "execution_count": 3,
     "metadata": {},
     "output_type": "execute_result"
    }
   ],
   "source": [
    "from pytezos.encoding import base58_encode, base58_decode\n",
    "\n",
    "base58_encode(bytes.fromhex(public_key_hex), prefix=b'edpk')"
   ]
  },
  {
   "cell_type": "code",
   "execution_count": 4,
   "metadata": {},
   "outputs": [
    {
     "data": {
      "text/plain": [
       "'419491b1796b13d756d394ed925c10727bca06e97353c5ca09402a9b6b07abcc'"
      ]
     },
     "execution_count": 4,
     "metadata": {},
     "output_type": "execute_result"
    }
   ],
   "source": [
    "base58_decode(b'edpku976gpuAD2bXyx1XGraeKuCo1gUZ3LAJcHM12W1ecxZwoiu22R').hex()"
   ]
  },
  {
   "cell_type": "markdown",
   "metadata": {},
   "source": [
    "## Secret key, public key, public key hash\n",
    "As was mentioned, implicit account is linked to a public key, but it would be more accurate to say that it's linked to a key pair (where public key can be derived from the secret key). Only the owner of the secret key can spend a particular implicit account, however anyone can check that spending is valid using the public key (which is by definition is accessible by everyone). The impicit account address, which is used for specifying the transaction destination, is derived from the public key using cryptographic hash function.  \n",
    "\n",
    "It's not possible to restore secret key from the public one (would take centuries)  \n",
    "It's not possible to restore public key from the address (public key hash)  \n",
    "\n",
    "Here are few examples demonstrating the derivations:"
   ]
  },
  {
   "cell_type": "code",
   "execution_count": 5,
   "metadata": {},
   "outputs": [
    {
     "data": {
      "text/plain": [
       "'edpku976gpuAD2bXyx1XGraeKuCo1gUZ3LAJcHM12W1ecxZwoiu22R'"
      ]
     },
     "execution_count": 5,
     "metadata": {},
     "output_type": "execute_result"
    }
   ],
   "source": [
    "from pytezos.crypto import Key\n",
    "\n",
    "sk = Key.from_encoded_key('edsk3nM41ygNfSxVU4w1uAW3G9EnTQEB5rjojeZedLTGmiGRcierVv')\n",
    "sk.public_key()"
   ]
  },
  {
   "cell_type": "code",
   "execution_count": 6,
   "metadata": {},
   "outputs": [
    {
     "data": {
      "text/plain": [
       "'tz1eKkWU5hGtfLUiqNpucHrXymm83z3DG9Sq'"
      ]
     },
     "execution_count": 6,
     "metadata": {},
     "output_type": "execute_result"
    }
   ],
   "source": [
    "sk.public_key_hash()"
   ]
  },
  {
   "cell_type": "markdown",
   "metadata": {},
   "source": [
    "However if you try to do inverse transform it will fail:"
   ]
  },
  {
   "cell_type": "code",
   "execution_count": 7,
   "metadata": {},
   "outputs": [
    {
     "ename": "ValueError",
     "evalue": "Secret key is undefined",
     "output_type": "error",
     "traceback": [
      "\u001b[0;31m---------------------------------------------------------------------------\u001b[0m",
      "\u001b[0;31mValueError\u001b[0m                                Traceback (most recent call last)",
      "\u001b[0;32m<ipython-input-7-14fd7dd8d5f9>\u001b[0m in \u001b[0;36m<module>\u001b[0;34m\u001b[0m\n\u001b[1;32m      1\u001b[0m \u001b[0mpk\u001b[0m \u001b[0;34m=\u001b[0m \u001b[0mKey\u001b[0m\u001b[0;34m.\u001b[0m\u001b[0mfrom_encoded_key\u001b[0m\u001b[0;34m(\u001b[0m\u001b[0;34m'edpku976gpuAD2bXyx1XGraeKuCo1gUZ3LAJcHM12W1ecxZwoiu22R'\u001b[0m\u001b[0;34m)\u001b[0m\u001b[0;34m\u001b[0m\u001b[0m\n\u001b[0;32m----> 2\u001b[0;31m \u001b[0mpk\u001b[0m\u001b[0;34m.\u001b[0m\u001b[0msecret_key\u001b[0m\u001b[0;34m(\u001b[0m\u001b[0;34m)\u001b[0m\u001b[0;34m\u001b[0m\u001b[0m\n\u001b[0m",
      "\u001b[0;32m~/.pyenv/versions/3.7.0/lib/python3.7/site-packages/pytezos/tools/docstring.py\u001b[0m in \u001b[0;36m__call__\u001b[0;34m(self, *args, **kwargs)\u001b[0m\n\u001b[1;32m     65\u001b[0m \u001b[0;34m\u001b[0m\u001b[0m\n\u001b[1;32m     66\u001b[0m                 \u001b[0;32mdef\u001b[0m \u001b[0m__call__\u001b[0m\u001b[0;34m(\u001b[0m\u001b[0mself\u001b[0m\u001b[0;34m,\u001b[0m \u001b[0;34m*\u001b[0m\u001b[0margs\u001b[0m\u001b[0;34m,\u001b[0m \u001b[0;34m**\u001b[0m\u001b[0mkwargs\u001b[0m\u001b[0;34m)\u001b[0m\u001b[0;34m:\u001b[0m\u001b[0;34m\u001b[0m\u001b[0m\n\u001b[0;32m---> 67\u001b[0;31m                     \u001b[0;32mreturn\u001b[0m \u001b[0mmethod\u001b[0m\u001b[0;34m(\u001b[0m\u001b[0mself\u001b[0m\u001b[0;34m.\u001b[0m\u001b[0mclass_instance\u001b[0m\u001b[0;34m,\u001b[0m \u001b[0;34m*\u001b[0m\u001b[0margs\u001b[0m\u001b[0;34m,\u001b[0m \u001b[0;34m**\u001b[0m\u001b[0mkwargs\u001b[0m\u001b[0;34m)\u001b[0m\u001b[0;34m\u001b[0m\u001b[0m\n\u001b[0m\u001b[1;32m     68\u001b[0m \u001b[0;34m\u001b[0m\u001b[0m\n\u001b[1;32m     69\u001b[0m                 \u001b[0;32mdef\u001b[0m \u001b[0m__repr__\u001b[0m\u001b[0;34m(\u001b[0m\u001b[0mself\u001b[0m\u001b[0;34m)\u001b[0m\u001b[0;34m:\u001b[0m\u001b[0;34m\u001b[0m\u001b[0m\n",
      "\u001b[0;32m~/.pyenv/versions/3.7.0/lib/python3.7/site-packages/pytezos/crypto.py\u001b[0m in \u001b[0;36msecret_key\u001b[0;34m(self, passphrase, ed25519_seed)\u001b[0m\n\u001b[1;32m    291\u001b[0m         \"\"\"\n\u001b[1;32m    292\u001b[0m         \u001b[0;32mif\u001b[0m \u001b[0;32mnot\u001b[0m \u001b[0mself\u001b[0m\u001b[0;34m.\u001b[0m\u001b[0msecret_exponent\u001b[0m\u001b[0;34m:\u001b[0m\u001b[0;34m\u001b[0m\u001b[0m\n\u001b[0;32m--> 293\u001b[0;31m             \u001b[0;32mraise\u001b[0m \u001b[0mValueError\u001b[0m\u001b[0;34m(\u001b[0m\u001b[0;34m\"Secret key is undefined\"\u001b[0m\u001b[0;34m)\u001b[0m\u001b[0;34m\u001b[0m\u001b[0m\n\u001b[0m\u001b[1;32m    294\u001b[0m \u001b[0;34m\u001b[0m\u001b[0m\n\u001b[1;32m    295\u001b[0m         \u001b[0;32mif\u001b[0m \u001b[0mself\u001b[0m\u001b[0;34m.\u001b[0m\u001b[0mcurve\u001b[0m \u001b[0;34m==\u001b[0m \u001b[0;34mb'ed'\u001b[0m \u001b[0;32mand\u001b[0m \u001b[0med25519_seed\u001b[0m\u001b[0;34m:\u001b[0m\u001b[0;34m\u001b[0m\u001b[0m\n",
      "\u001b[0;31mValueError\u001b[0m: Secret key is undefined"
     ]
    }
   ],
   "source": [
    "pk = Key.from_encoded_key('edpku976gpuAD2bXyx1XGraeKuCo1gUZ3LAJcHM12W1ecxZwoiu22R')\n",
    "pk.secret_key()"
   ]
  },
  {
   "cell_type": "markdown",
   "metadata": {},
   "source": [
    "PyTezos allows you to initialize a keypair using raw values or access them afterwards."
   ]
  },
  {
   "cell_type": "code",
   "execution_count": 8,
   "metadata": {},
   "outputs": [
    {
     "data": {
      "text/plain": [
       "'92542d866a5263115aa416fd3e1dce4ced35f5545417d1f73763f7093552a72b419491b1796b13d756d394ed925c10727bca06e97353c5ca09402a9b6b07abcc'"
      ]
     },
     "execution_count": 8,
     "metadata": {},
     "output_type": "execute_result"
    }
   ],
   "source": [
    "# In this case (ed25519 curve) a seed is returned instead of a secret exponent\n",
    "sk.secret_exponent.hex()"
   ]
  },
  {
   "cell_type": "code",
   "execution_count": 9,
   "metadata": {},
   "outputs": [
    {
     "data": {
      "text/plain": [
       "'419491b1796b13d756d394ed925c10727bca06e97353c5ca09402a9b6b07abcc'"
      ]
     },
     "execution_count": 9,
     "metadata": {},
     "output_type": "execute_result"
    }
   ],
   "source": [
    "sk.public_point.hex()  # Compact elliptic point format"
   ]
  },
  {
   "cell_type": "markdown",
   "metadata": {},
   "source": [
    "## Multiple elliptic curves\n",
    "As you may already noticed, implicit account addresses can start with tz1, tz2, or tz3 — it depends on the chosen elliptic curve parameters.  \n",
    "\n",
    "`tz1` — Ed25519, twisted Edwards curve, has very good properties in terms of implementation security and speed of digital signatures, currently one of the most perspective curves;  \n",
    "`tz2` — Secp256k1, defined in Standards for Efficient Cryptography, used in Bitcoin, Ethereum, and other cryptocurrencies, has a wide adoption and library support;  \n",
    "`tz3` — NIST P-256 (aka Secp256r1), one of the most used elliptic curves, natively supported on mobile devices as well as cloud HSMs.\n",
    "\n",
    "The according Base58 prefixes:\n",
    "\n",
    "| Curve     | Secret key | Public key | Public key hash |\n",
    "| --------- | ---------- | ---------- | --------------- |\n",
    "| Ed25519   | edsk       | edpk       | tz1             |\n",
    "| Secp256k1 | spsk       | sppk       | tz2             |\n",
    "| P-256     | p2sk       | p2pk       | tz3             |\n"
   ]
  },
  {
   "cell_type": "markdown",
   "metadata": {},
   "source": [
    "You may also noticed that there are two variants of `edsk` prefix: it depends on whether a Ed25519 seed (32 bytes) or a secret exponent (64 bytes, derived from the seed) is used. In Tezos it is seed that's mostly used."
   ]
  },
  {
   "cell_type": "code",
   "execution_count": 10,
   "metadata": {},
   "outputs": [
    {
     "data": {
      "text/plain": [
       "'edskRwA8M7ZDQfRwt2bEUi2TxpbdDYYfLLYNHB8qMYX3kDD8srM5P4NDuMpkDk3oHFrxP4q6Yyw26t55TMQ7sbaKdKETpZtUyR'"
      ]
     },
     "execution_count": 10,
     "metadata": {},
     "output_type": "execute_result"
    }
   ],
   "source": [
    "edsk = Key.from_encoded_key(\n",
    "    'edsk3nM41ygNfSxVU4w1uAW3G9EnTQEB5rjojeZedLTGmiGRcierVv')\n",
    "edsk.secret_key(ed25519_seed=False)  # returns full secret key"
   ]
  },
  {
   "cell_type": "markdown",
   "metadata": {},
   "source": [
    "In all places where it is necessary, you can specify which curve to use, e.g.:"
   ]
  },
  {
   "cell_type": "code",
   "execution_count": 11,
   "metadata": {},
   "outputs": [
    {
     "data": {
      "text/plain": [
       "'tz3f1mS1a8pnyiZtXox1GtHALhueLhbb7cAq'"
      ]
     },
     "execution_count": 11,
     "metadata": {},
     "output_type": "execute_result"
    }
   ],
   "source": [
    "edpk = Key.from_public_point(\n",
    "    bytes.fromhex('419491b1796b13d756d394ed925c10727bca06e97353c5ca09402a9b6b07abcc'), \n",
    "    curve=b'p2')\n",
    "edpk.public_key_hash()"
   ]
  },
  {
   "cell_type": "markdown",
   "metadata": {},
   "source": [
    "## Encrypted keys and commitments\n",
    "\n",
    "There is a standardized scheme for password encrypted secret keys based on PBKDF2, such encrypted keys have special encoding prefixes `edesk`, `spesk`, and `p2esk` respectfully."
   ]
  },
  {
   "cell_type": "code",
   "execution_count": 12,
   "metadata": {},
   "outputs": [
    {
     "data": {
      "text/plain": [
       "'edesk1q4v8YyqrN1EPSnySoaDGcRByWZ4z4GnLB7xCnz99b8wLAo5eLLynupPG1cJNvT7K6yBgemb6x1L33rYAxh'"
      ]
     },
     "execution_count": 12,
     "metadata": {},
     "output_type": "execute_result"
    }
   ],
   "source": [
    "edesk = Key.from_encoded_key(\n",
    "    'edesk1zxaPJkhNGSzgZDDSphvPzSNrnbmqes8xzUrw1wdFxdRT7ePiQz8D2Q18fMjn6fC9ZRS2rUbg8d8snxxznE', \n",
    "    passphrase='qqq')\n",
    "edesk.secret_key(passphrase='qwerty')"
   ]
  },
  {
   "cell_type": "markdown",
   "metadata": {},
   "source": [
    "Tezos genesis (first) block contains so called \"commitments\" (aka recomended allocations) it's how initial token distribution was conducted. In order to claim your tokens you need:\n",
    "* 15-word mnemonic\n",
    "* email\n",
    "* password\n",
    "* activation code\n",
    "\n",
    "A similar mechnanism is used for granting tokens in public test networks: on a special [website](https://faucet.tzalpha.net/) you can download a json file with all that fields.  \n",
    "In order to derive a secret key from that data one need to generate seed from mnemonic using concatenated email+password as passphrase, and then take first 32 bytes."
   ]
  },
  {
   "cell_type": "code",
   "execution_count": 13,
   "metadata": {},
   "outputs": [
    {
     "data": {
      "text/plain": [
       "'tz1cnQZXoznhduu4MVWfJF6GSyP6mMHMbbWa'"
      ]
     },
     "execution_count": 13,
     "metadata": {},
     "output_type": "execute_result"
    }
   ],
   "source": [
    "sk = Key.from_mnemonic(\n",
    "    mnemonic=[\"rather\", \"aware\", \"school\", \"often\", \"area\", \"quarter\", \"story\", \"note\",\n",
    "              \"goddess\", \"dream\", \"winner\", \"result\", \"scheme\", \"stairs\", \"clown\"],\n",
    "    email='vsvkfovl.lzzsalmj@tezos.example.org',\n",
    "    passphrase='8Rx7GLurGY')\n",
    "sk.public_key_hash()"
   ]
  },
  {
   "cell_type": "markdown",
   "metadata": {},
   "source": [
    "## Generating keys and signatures\n",
    "PyTezos can also generate a new key for you, internally it first creates a mnemonic (which is by default stored on disk, just in case) and then derives a secret key from it.  \n",
    "\n",
    "Note, that you cannot restore a mnemonic from the secret key."
   ]
  },
  {
   "cell_type": "code",
   "execution_count": 14,
   "metadata": {},
   "outputs": [
    {
     "data": {
      "text/plain": [
       "'p2sk3zqDakap9bXEqsTr4sM93ZehELQNGCMX1MXmBsJUi29tFQYijV'"
      ]
     },
     "execution_count": 14,
     "metadata": {},
     "output_type": "execute_result"
    }
   ],
   "source": [
    "newsk = Key.generate(curve=b'p2', export=False)\n",
    "newsk.secret_key()"
   ]
  },
  {
   "cell_type": "markdown",
   "metadata": {},
   "source": [
    "Finally you can sign some arbitrary data with your secret key, or validate and existing signature with a public key. Note that there are four different encodings for the signatures depending on the curve: `edsig`, `spsig`, `p2sig`, and just `sig` (generic, meaning not holding any info about the curve used)."
   ]
  },
  {
   "cell_type": "code",
   "execution_count": 15,
   "metadata": {},
   "outputs": [
    {
     "data": {
      "text/plain": [
       "'p2sigvTBnDjdDacJpSXjYZfsTtAijJb6DhNRcq3GdZq2gopsugVFV17C19h8EegAepyeEaixgB3Y4rG4qQZGhXTBE7P7C8R7MM'"
      ]
     },
     "execution_count": 15,
     "metadata": {},
     "output_type": "execute_result"
    }
   ],
   "source": [
    "newsk.sign(b'hello')"
   ]
  },
  {
   "cell_type": "code",
   "execution_count": 16,
   "metadata": {},
   "outputs": [
    {
     "data": {
      "text/plain": [
       "'sigw8xw8e587gGMWGyHr5LgNhwLuvrxbx1QPGRFANbPbNbN9DUAd46msWhwTjeRPn4uxhSf6objMJkU1sLxvzynqgmFctwwK'"
      ]
     },
     "execution_count": 16,
     "metadata": {},
     "output_type": "execute_result"
    }
   ],
   "source": [
    "newsk.sign(b'hello', generic=True)"
   ]
  },
  {
   "cell_type": "code",
   "execution_count": 17,
   "metadata": {},
   "outputs": [],
   "source": [
    "newpk = Key.from_encoded_key('spsk1zkqrmst1yg2c4xi3crWcZPqgdc9KtPtb9SAZWYHAdiQzdHy7j')\n",
    "newpk.verify(\n",
    "    signature='spsig1RriZtYADyRhyNoQMa6AiPuJJ7AUDcrxWZfgqexzgANqMv4nXs6qsXDoXcoChBgmCcn2t7Y3EkJaVRuAmNh2cDDxWTdmsz',\n",
    "    message=b'test')"
   ]
  },
  {
   "cell_type": "markdown",
   "metadata": {},
   "source": [
    "Verify method throws an exception in case signature is not valid, in our case everything is fine."
   ]
  }
 ],
 "metadata": {
  "kernelspec": {
   "display_name": "Python 3",
   "language": "python",
   "name": "python3"
  },
  "language_info": {
   "codemirror_mode": {
    "name": "ipython",
    "version": 3
   },
   "file_extension": ".py",
   "mimetype": "text/x-python",
   "name": "python",
   "nbconvert_exporter": "python",
   "pygments_lexer": "ipython3",
   "version": "3.7.0"
  },
  "toc": {
   "base_numbering": 1,
   "nav_menu": {},
   "number_sections": true,
   "sideBar": true,
   "skip_h1_title": false,
   "title_cell": "Table of Contents",
   "title_sidebar": "Contents",
   "toc_cell": false,
   "toc_position": {},
   "toc_section_display": true,
   "toc_window_display": false
  },
  "varInspector": {
   "cols": {
    "lenName": 16,
    "lenType": 16,
    "lenVar": 40
   },
   "kernels_config": {
    "python": {
     "delete_cmd_postfix": "",
     "delete_cmd_prefix": "del ",
     "library": "var_list.py",
     "varRefreshCmd": "print(var_dic_list())"
    },
    "r": {
     "delete_cmd_postfix": ") ",
     "delete_cmd_prefix": "rm(",
     "library": "var_list.r",
     "varRefreshCmd": "cat(var_dic_list()) "
    }
   },
   "types_to_exclude": [
    "module",
    "function",
    "builtin_function_or_method",
    "instance",
    "_Feature"
   ],
   "window_display": false
  }
 },
 "nbformat": 4,
 "nbformat_minor": 2
}

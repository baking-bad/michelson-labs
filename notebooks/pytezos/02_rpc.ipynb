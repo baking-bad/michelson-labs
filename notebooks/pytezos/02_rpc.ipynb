{
 "cells": [
  {
   "cell_type": "markdown",
   "metadata": {},
   "source": [
    "# Chapter 2\n",
    "Working with Tezos RPC: networks, chains, blocks, operations, and context."
   ]
  },
  {
   "cell_type": "markdown",
   "metadata": {},
   "source": [
    "In this chapter we will explore main blockchain structures and how to query them using PyTezos.  \n",
    "Tezos node software is built in a [modular way](https://tezos.gitlab.io/whitedoc/the_big_picture.html), there is a generic **Shell** which is responsible for basic block validation, p2p, storage, and **Protocol** that contains main logic. Thanks to the [self-amendment](https://learn.tqtezos.com/files/self-amendment.html#introduction) feature this protocol code can be changed up to a complete replacement. RPC interface provided by the Tezos node reflects this architecture:\n",
    "* There are shell-level endpoints that don't depend on a particular protocol;\n",
    "* There are block-level endpoints which can response differently depending on the protocol version (block level).\n",
    "\n",
    "PyTezos wrapper reflects the RPC endpoint scheme and provides so called \"chaining\" interface for creating requests. For instance if you want to query `GET /a/b/c/d` it would be `a.b.c.d()`. If it's a `POST` request it would be `a.b.c.d.post()`. RPC documentation is integrated to the query engine and you can check available methods on each step, just execute e.g. `a.b.c` in a notebook cell."
   ]
  },
  {
   "cell_type": "markdown",
   "metadata": {},
   "source": [
    "## Network\n",
    "Before moving on to playing with RPC we need to connect to one of Tezos networks. Aside from the `mainnet` which carries value, there are several public [testnets](https://tezos.gitlab.io/introduction/test_networks.html), plus anyone can spawn his own [sandboxnet](https://tezos.gitlab.io/developer/flextesa.html) e.g. for debugging dapps.  \n",
    "\n",
    "First of all we create a PyTezos client instance and initialize the network (by default it uses the network with latest known protocol activated):"
   ]
  },
  {
   "cell_type": "code",
   "execution_count": 1,
   "metadata": {},
   "outputs": [
    {
     "data": {
      "text/plain": [
       "'https://rpc.tzkt.io/mainnet/'"
      ]
     },
     "execution_count": 1,
     "metadata": {},
     "output_type": "execute_result"
    }
   ],
   "source": [
    "from pytezos import pytezos\n",
    "\n",
    "pytezos = pytezos.using(shell='mainnet')\n",
    "pytezos.shell.node.uri"
   ]
  },
  {
   "cell_type": "markdown",
   "metadata": {},
   "source": [
    "It can also be node uri:"
   ]
  },
  {
   "cell_type": "code",
   "execution_count": 2,
   "metadata": {},
   "outputs": [],
   "source": [
    "pytezos = pytezos.using(shell='https://mainnet-tezos.giganode.io/')"
   ]
  },
  {
   "cell_type": "markdown",
   "metadata": {},
   "source": [
    "Note that `using` method returns a new instance of PyTezos client and does not modifies the existing one."
   ]
  },
  {
   "cell_type": "markdown",
   "metadata": {},
   "source": [
    "## Chain\n",
    "There can be multiple chains at a particular moment in a single network:\n",
    "* There is a special testing period in the voting process during which new protocol is battle tested but detached from the real funds.\n",
    "* Due to network delays or other reasons two or more block producers can simultaneously extend main chain essentially creating forks. With time (usually 1-2 blocks) all such chains except one with the highest [\"fitness\"](https://tezos.gitlab.io/whitedoc/proof_of_stake.html?highlight=fitness#fitness) become orphans (not adopted by others) and then obsolete.\n",
    "\n",
    "Keep in mind, that your RPC provider can be at an orphan state at some point of time and rollback only after several minutes.  \n",
    "\n",
    "Most time you will work with the `main` chain:"
   ]
  },
  {
   "cell_type": "code",
   "execution_count": 3,
   "metadata": {
    "scrolled": true
   },
   "outputs": [
    {
     "data": {
      "text/plain": [
       "<pytezos.rpc.shell.ChainQuery object at 0x7fcf48d768d0>\n",
       "\n",
       "Properties\n",
       ".path  # /chains/main\n",
       ".node  # https://mainnet-tezos.giganode.io/ ()\n",
       "\n",
       "RPC endpoints\n",
       ".blocks\n",
       ".chain_id\n",
       ".checkpoint\n",
       ".invalid_blocks\n",
       ".mempool\n",
       "\n",
       "Helpers\n",
       ".watermark()"
      ]
     },
     "execution_count": 3,
     "metadata": {},
     "output_type": "execute_result"
    }
   ],
   "source": [
    "pytezos.shell.chains.main"
   ]
  },
  {
   "cell_type": "markdown",
   "metadata": {},
   "source": [
    "Note the output — this is the builtin documentation mentioned earlier. In particular list of RPC methods is useful for exploration or if you forget something."
   ]
  },
  {
   "cell_type": "markdown",
   "metadata": {},
   "source": [
    "## Block\n",
    "Blocks can be accessed by hash, level (height), special identifiers (`head`, `genesis`), or offsets (`head-123`, `head+123`).  \n",
    "In a nutshell, block consists of a header and a list of operations. Block hash (blake2b) is actually derived from the byte representation of its header."
   ]
  },
  {
   "cell_type": "code",
   "execution_count": 4,
   "metadata": {},
   "outputs": [
    {
     "data": {
      "text/plain": [
       "'BLP93MhbrKvMKLsBuy8UErpwn1QYVCR7DHwhD3geWfXgemZY3jm'"
      ]
     },
     "execution_count": 4,
     "metadata": {},
     "output_type": "execute_result"
    }
   ],
   "source": [
    "pytezos.shell.chains.main.blocks.head.hash()"
   ]
  },
  {
   "cell_type": "markdown",
   "metadata": {},
   "source": [
    "There are useful shortcuts for most common scenarios, e.g. accessing head."
   ]
  },
  {
   "cell_type": "code",
   "execution_count": 5,
   "metadata": {},
   "outputs": [
    {
     "data": {
      "text/plain": [
       "{'protocol': 'PsCARTHAGazKbHtnKfLzQg3kms52kSRpgnDY982a9oYsSXRLQEb',\n",
       " 'chain_id': 'NetXdQprcVkpaWU',\n",
       " 'hash': 'BLP93MhbrKvMKLsBuy8UErpwn1QYVCR7DHwhD3geWfXgemZY3jm',\n",
       " 'level': 1131056,\n",
       " 'proto': 6,\n",
       " 'predecessor': 'BKkHEv6Qq4cWo14QkfQSNFpWiczCxtZvBGUgmRrD62DEf8YbHwj',\n",
       " 'timestamp': '2020-09-16T15:51:58Z',\n",
       " 'validation_pass': 4,\n",
       " 'operations_hash': 'LLobEPiM5zFMSwFQVMxttzS9sTtBJPhqp5Q7shkhp5ZpxFVk8TGDL',\n",
       " 'fitness': ['01', '0000000000074230'],\n",
       " 'context': 'CoV64qaFykBGjNzStJDdTu7NyCPrmPVMPRmFFHVYrdzS1zrGxiZD',\n",
       " 'priority': 0,\n",
       " 'proof_of_work_nonce': 'ba45727c3e590600',\n",
       " 'signature': 'siga8iyjVFyKDkycPSSX47hs4S9byVPEtScXsL5C82yuWD1Xm4qDDKkJvUTjuQUhE5Uwk4NiqiXHfQq53EoRwwrUJpxxQ9vA'}"
      ]
     },
     "execution_count": 5,
     "metadata": {},
     "output_type": "execute_result"
    }
   ],
   "source": [
    "pytezos.shell.head.header()"
   ]
  },
  {
   "cell_type": "markdown",
   "metadata": {},
   "source": [
    "Block header fields are also divided into \"shell\" (protocol independent) and protocol-specific.  \n",
    "Read detailed description of each field in the [whitedoc](https://tezos.gitlab.io/whitedoc/proof_of_stake.html#blocks)  \n",
    "\n",
    "A useful source of information is the block receipt containing state changes happened in the result of applying this block. There are also operation receipts which we will examine a bit later."
   ]
  },
  {
   "cell_type": "code",
   "execution_count": 6,
   "metadata": {},
   "outputs": [
    {
     "data": {
      "text/plain": [
       "{'protocol': 'PtCJ7pwoxe8JasnHY8YonnLYjcVHmhiARPJvqcC6VfHT5s8k8sY',\n",
       " 'next_protocol': 'PtCJ7pwoxe8JasnHY8YonnLYjcVHmhiARPJvqcC6VfHT5s8k8sY',\n",
       " 'test_chain_status': {'status': 'not_running'},\n",
       " 'max_operations_ttl': 60,\n",
       " 'max_operation_data_length': 16384,\n",
       " 'max_block_header_length': 238,\n",
       " 'max_operation_list_length': [{'max_size': 32768, 'max_op': 32},\n",
       "  {'max_size': 32768},\n",
       "  {'max_size': 135168, 'max_op': 132},\n",
       "  {'max_size': 524288}],\n",
       " 'baker': 'tz3RDC3Jdn4j15J7bBHZd29EUee9gVB1CxD9',\n",
       " 'level': {'level': 10000,\n",
       "  'level_position': 9999,\n",
       "  'cycle': 2,\n",
       "  'cycle_position': 1807,\n",
       "  'voting_period': 0,\n",
       "  'voting_period_position': 9999,\n",
       "  'expected_commitment': False},\n",
       " 'voting_period_kind': 'proposal',\n",
       " 'nonce_hash': None,\n",
       " 'consumed_gas': '0',\n",
       " 'deactivated': [],\n",
       " 'balance_updates': [{'kind': 'contract',\n",
       "   'contract': 'tz3RDC3Jdn4j15J7bBHZd29EUee9gVB1CxD9',\n",
       "   'change': '-16000000'},\n",
       "  {'kind': 'freezer',\n",
       "   'category': 'deposits',\n",
       "   'delegate': 'tz3RDC3Jdn4j15J7bBHZd29EUee9gVB1CxD9',\n",
       "   'level': 2,\n",
       "   'change': '16000000'}]}"
      ]
     },
     "execution_count": 6,
     "metadata": {},
     "output_type": "execute_result"
    }
   ],
   "source": [
    "pytezos.shell.blocks[10000].metadata()"
   ]
  },
  {
   "cell_type": "markdown",
   "metadata": {},
   "source": [
    "In order to better understand what receipt fields mean, check out the articles about [Proof-of-stake](https://tezos.gitlab.io/whitedoc/proof_of_stake.html) in Tezos and how [self-amendmend](https://learn.tqtezos.com/files/self-amendment.html) works.  \n",
    "There are also several shortcuts for most common cases:"
   ]
  },
  {
   "cell_type": "code",
   "execution_count": 7,
   "metadata": {},
   "outputs": [
    {
     "data": {
      "text/plain": [
       "276"
      ]
     },
     "execution_count": 7,
     "metadata": {},
     "output_type": "execute_result"
    }
   ],
   "source": [
    "pytezos.shell.head.cycle()"
   ]
  },
  {
   "cell_type": "code",
   "execution_count": 8,
   "metadata": {},
   "outputs": [
    {
     "data": {
      "text/plain": [
       "34"
      ]
     },
     "execution_count": 8,
     "metadata": {},
     "output_type": "execute_result"
    }
   ],
   "source": [
    "pytezos.shell.head.voting_period()"
   ]
  },
  {
   "cell_type": "markdown",
   "metadata": {},
   "source": [
    "Lastly, you can examine some rare and interesting cases, e.g. protocol activation:"
   ]
  },
  {
   "cell_type": "code",
   "execution_count": 9,
   "metadata": {},
   "outputs": [
    {
     "data": {
      "text/plain": [
       "[['btz1LKddKfC9cEitY8Q5bMnGS9yj9uPWnmX68', '4974860242'],\n",
       " ['btz1LKj1hxiXZUkZGuCMTNtGos8npjo9VjFnJ', '14770866000'],\n",
       " ['btz1LKkKTQ34S1BSrcEwYFpVRhm2inDYfjCMg', '1551209817'],\n",
       " ['btz1LKmBsCgNKpkWq3hBBqrPPyEmE1XegouD8', '12000000000'],\n",
       " ['btz1LKnYAGSyGRJiY7pieJVK9RR6v3e2ko6QS', '9000000000']]"
      ]
     },
     "execution_count": 9,
     "metadata": {},
     "output_type": "execute_result"
    }
   ],
   "source": [
    "protocol_parameters = pytezos.shell.blocks[1].protocol_parameters()  # genesis block\n",
    "protocol_parameters['commitments'][:5]  # recomended allocations (aka commitments)"
   ]
  },
  {
   "cell_type": "markdown",
   "metadata": {},
   "source": [
    "## Block slices, cycles, and voting periods\n",
    "This not a wrapped RPC endpoint but a convenient extension allowing to manipulate with block slices and iterate over larger timeframes namely [**cycles**](http://doc.tzalpha.net/whitedoc/proof_of_stake.html#cycles) and [**voting periods**](http://doc.tzalpha.net/whitedoc/voting.html#periods)."
   ]
  },
  {
   "cell_type": "code",
   "execution_count": 10,
   "metadata": {},
   "outputs": [
    {
     "data": {
      "text/plain": [
       "[['BLGD9HqcQiyKa9eQ8pBuNVPR3bkc3XgaT9BgxLaeE2jdvcpCYEX',\n",
       "  'BLmJDttDAPHdS7THb1oaRVzhakZoUJTLdxz1sq49Vw6E2vDxBpG',\n",
       "  'BLUHiyMJSwhVETPprN14kQcQodM5n6yJtTtyD9rTkJbAwD2UCXX',\n",
       "  'BLrX28Eay45rbaCCMuwSH8q6uPTXcB9LiMHy699NfSssbNLzxzF',\n",
       "  'BM3YXmkqgKzWevHe28iKDN1JxXa2XV8rjUwpz7PMyrS1y5FS1NQ',\n",
       "  'BLk8qc7hdBRtB6cBJ2PL2UTtu1eEkaxkpVYTZz113rZEZswYU2k',\n",
       "  'BLyAEwaXShJuZasvUezHUfLqzZ48V8XrPvXF2wRaH15tmzEpsHT',\n",
       "  'BMWVEwEYw9m5iaHzqxDfkPzZTV4rhkSouRh3DkVMVGkxZ3EVaNs',\n",
       "  'BMM2XoWLyzhYfXDc7p5uZ5a4n8318GoXbJiFUKejAQthjANxpm3',\n",
       "  'BKzHjmWqi7wXqrjbKi5NVZ7UGH8hQ9mrkpaABrzSyEfquULxnan',\n",
       "  'BKy1nQDvKvic22MzCkqUNeVEENDZzkaoBkVSiK7uBeC8mwWEUNy']]"
      ]
     },
     "execution_count": 10,
     "metadata": {},
     "output_type": "execute_result"
    }
   ],
   "source": [
    "pytezos.shell.blocks[20:30]()"
   ]
  },
  {
   "cell_type": "markdown",
   "metadata": {},
   "source": [
    "Block slice has `get_range` method that returns boundary levels which can be useful when working with cycles/voting periods."
   ]
  },
  {
   "cell_type": "code",
   "execution_count": 11,
   "metadata": {},
   "outputs": [
    {
     "data": {
      "text/plain": [
       "(1130497, 1131056)"
      ]
     },
     "execution_count": 11,
     "metadata": {},
     "output_type": "execute_result"
    }
   ],
   "source": [
    "pytezos.shell.cycles[-1].get_range()"
   ]
  },
  {
   "cell_type": "code",
   "execution_count": 12,
   "metadata": {},
   "outputs": [
    {
     "data": {
      "text/plain": [
       "(1, 32768)"
      ]
     },
     "execution_count": 12,
     "metadata": {},
     "output_type": "execute_result"
    }
   ],
   "source": [
    "pytezos.shell.voting_periods[1].get_range()"
   ]
  },
  {
   "cell_type": "markdown",
   "metadata": {},
   "source": [
    "The main purpose of block slices (aside from determining boundaries) is operation search, e.g. when you have recently sent an operation and want to find it by hash:"
   ]
  },
  {
   "cell_type": "code",
   "execution_count": 13,
   "metadata": {
    "scrolled": false
   },
   "outputs": [
    {
     "data": {
      "text/plain": [
       "{'protocol': 'PsCARTHAGazKbHtnKfLzQg3kms52kSRpgnDY982a9oYsSXRLQEb',\n",
       " 'chain_id': 'NetXdQprcVkpaWU',\n",
       " 'hash': 'onw8xuA8SKNdJo4VUf5vyhJKRmggWRVuLAavCbRnmQvE1zr65KF',\n",
       " 'branch': 'BLCWACrJjKFGEwUecZQjna3eiWCy21xCz1cu3TdpmSiLN1KCmJz',\n",
       " 'contents': [{'kind': 'transaction',\n",
       "   'source': 'tz1bNL8YciKPtCuKNzQWxVF8Bnm1h3sd8sbB',\n",
       "   'fee': '8113',\n",
       "   'counter': '5373301',\n",
       "   'gas_limit': '78140',\n",
       "   'storage_limit': '0',\n",
       "   'amount': '0',\n",
       "   'destination': 'KT1VG2WtYdSWz5E7chTeAdDPZNy2MpP8pTfL',\n",
       "   'parameters': {'entrypoint': 'default',\n",
       "    'value': {'prim': 'Right',\n",
       "     'args': [{'prim': 'Left',\n",
       "       'args': [{'bytes': 'c139928f72887b79db36eb848dbe78aafa429c980421cc7e88a6d117a22949b1'}]}]}},\n",
       "   'metadata': {'balance_updates': [{'kind': 'contract',\n",
       "      'contract': 'tz1bNL8YciKPtCuKNzQWxVF8Bnm1h3sd8sbB',\n",
       "      'change': '-8113'},\n",
       "     {'kind': 'freezer',\n",
       "      'category': 'fees',\n",
       "      'delegate': 'tz1ei4WtWEMEJekSv8qDnu9PExG6Q8HgRGr3',\n",
       "      'cycle': 275,\n",
       "      'change': '8113'}],\n",
       "    'operation_result': {'status': 'applied',\n",
       "     'storage': {'prim': 'Pair', 'args': [{'int': '4'}, {'prim': 'Unit'}]},\n",
       "     'big_map_diff': [{'action': 'update',\n",
       "       'big_map': '4',\n",
       "       'key_hash': 'exprtfWG91BKChtLpWyNfQCyCzUfkXWCT6CQp2rVYoN5UWGdfRp5gP',\n",
       "       'key': {'bytes': '637a015a2ef8bf984c1c3d9c764afede725dc8e309b24706e9d3333a77f4ae0c'}}],\n",
       "     'consumed_gas': '67833',\n",
       "     'storage_size': '1859'},\n",
       "    'internal_operation_results': [{'kind': 'transaction',\n",
       "      'source': 'KT1VG2WtYdSWz5E7chTeAdDPZNy2MpP8pTfL',\n",
       "      'nonce': 0,\n",
       "      'amount': '1505762090',\n",
       "      'destination': 'tz1bNL8YciKPtCuKNzQWxVF8Bnm1h3sd8sbB',\n",
       "      'result': {'status': 'applied',\n",
       "       'balance_updates': [{'kind': 'contract',\n",
       "         'contract': 'KT1VG2WtYdSWz5E7chTeAdDPZNy2MpP8pTfL',\n",
       "         'change': '-1505762090'},\n",
       "        {'kind': 'contract',\n",
       "         'contract': 'tz1bNL8YciKPtCuKNzQWxVF8Bnm1h3sd8sbB',\n",
       "         'change': '1505762090'}],\n",
       "       'consumed_gas': '10207'}}]}}],\n",
       " 'signature': 'sigY3K6ZYBg4QbzoC1XUqq6UqT1yTLxyh5uge9ixmbGpNTH7P2BZxRphXzAY7hTDNTx8EiUzundyQMNYxoUZ7Tzus3RRqpKs'}"
      ]
     },
     "execution_count": 13,
     "metadata": {},
     "output_type": "execute_result"
    }
   ],
   "source": [
    "pytezos.shell.blocks[1129600:1129700].find_operation('onw8xuA8SKNdJo4VUf5vyhJKRmggWRVuLAavCbRnmQvE1zr65KF')"
   ]
  },
  {
   "cell_type": "markdown",
   "metadata": {},
   "source": [
    "## Operation group\n",
    "If we take a look at the list of operations included into the block we will find a list of lists actually, moreover the size of the outer list is always 4."
   ]
  },
  {
   "cell_type": "code",
   "execution_count": 14,
   "metadata": {},
   "outputs": [
    {
     "data": {
      "text/plain": [
       "[['oo2BUCNwz6G4L5rb3AhicaN9edJNP646vAyz6f4eHRuuybyxWq9',\n",
       "  'ooH77gGGD6pMNYtrmWzzz1yxwvqkXzjE94XeYHnvuy3u5SrQkYh',\n",
       "  'oo7qN3AGx4eTWLEqaPr8P5FJstdG52D8DPuTMm2aiwtzr9B7rue',\n",
       "  'oo2kw6RSkUSz3weWhv1C5dE688AhfS6quyMgx6K27MdQwSLNobw',\n",
       "  'op3FbdodNFrPQU1BZiSJnzZyHtx2WpnAEn2Zrzd8Xgm1DiyNM7N',\n",
       "  'oo7UmkyVr2Scz9gdbpZHipDmuYHytaQR9BgdfjguDuqKxR5zbH9',\n",
       "  'onwNrn3k7wjAZ4vQCbBqJzrFQh3ozcY1ZbiWqw4EA4nR8aYQ59e',\n",
       "  'oo1e5NDtFMyyVQMmRMYUKYrMRYdQm4TLQgnUw5R6gPJoupbPcEC',\n",
       "  'opL52uGpWFtTSezdihuLaEbfS84s1iXY2ryLiJDQEfBsCCeWdxL',\n",
       "  'opWdVVyvvXsrqLy6zZHA63UCxKNbF9Fe6SKNmJbMPC8RbCwmfJk',\n",
       "  'onmoRk4W7HLVsroSNsKNyitDLpfC9hf9y1YdXWWmX74zTXEMzHA',\n",
       "  'onkeQZuNmDGrWN3uVeBtStHeDAc4BeCJUQEWt3NAeBDaABrY8Na',\n",
       "  'onibycjE8JERgnoSp3JBvoZLY5R8czmbdZoca5RrzQWfM3Mz4yW',\n",
       "  'ooEoLToW78btzrR2LcDp883orn4DYfMFU7W7ZDxVYY8Ddod9n7Q',\n",
       "  'opR8rhznAUanCFuFh8G1HNdfXsMSfjHCydmLKSR5e2fdAvzmuzT',\n",
       "  'oodxFfKfSD4kfpHJarE1nVzdNropHK7rtEoKDif53AopZME4xkX',\n",
       "  'ooJvBd43SEWv3xksS2Ymnwb4jAvUA6g98yZ2emMLKrurwBCXQFv',\n",
       "  'oon9Y4ZQEgEKMCs8R3u6kDy2fyEFgx7gcrFF8JwvafAgBHKwUJF',\n",
       "  'ooN3sxtnLVA5L6oJvvD1AGUj6ZRAQvFSEENDJfWDQcV2HKV1fiW',\n",
       "  'oojAabp2dKm5NuD8eErwvzuW8uX1pRMyLa8AfQ6EhEr8mTKWtCs',\n",
       "  'opL83imySoU8bbHdB98acaqxPCvb4pryRPAx4RZosyQT4MepsF3',\n",
       "  'oogHbf2QUdMMRu8B7rssQyFzVjUvjbqJ4LxVZfCxW2detoxjfg4',\n",
       "  'onyyRRrRuEXmq8RpB93hzBMXqVx2PJWvvnbUk7odL39n1CSpaYF'],\n",
       " [],\n",
       " [],\n",
       " ['ongCdvSZSSuNC31CHGoUSTeJGCTwZnXFkoa1iY6481EJgv2pQLH',\n",
       "  'ooUdyPxwpt8JP1Ew3tfijtJrJwG3kh8yhMRmDDBjKXquNohShms',\n",
       "  'oobKg4oRTFNHYQNYV8zuqHBwdoofxeH3AygQ9WpDz36sdHNAc9e',\n",
       "  'onuCEMPsYNEg7NNinFww2VcoK7JEGHFuBCqx1LvhRWhtvQygNFf',\n",
       "  'opJcqE9wMkS8PrLpNTzgtMeusDTYc6i6JnP39PssCeDTJ3KRYhB',\n",
       "  'opWk1k9YiS6XGYS4VyaZmZG2ZN4wYUem6Lu2Uk7TxVKBUk6BujR',\n",
       "  'op8o1YB2AV9rHFJQ5JCCpTbEVL67VvCmiDxqcBzV8awuMszf4jE']]"
      ]
     },
     "execution_count": 14,
     "metadata": {},
     "output_type": "execute_result"
    }
   ],
   "source": [
    "pytezos.shell.head.operation_hashes()"
   ]
  },
  {
   "cell_type": "markdown",
   "metadata": {},
   "source": [
    "These are the so-called validation passes, the operations are grouped in such a way as to detect the error as early as possible.  \n",
    "\n",
    "1. **Endorsement** — contains only operations with kind \"endorsement\", which affect the fitness of the block;\n",
    "2. **Vote** — contains \"ballot\" and \"proposal\" operations used in the self-amending mechanism;\n",
    "3. **Anonymous** — contains operations that do not have signatures thus cannot be linked to any particular account (until some level);\n",
    "4. **Manager** — contains signed operations that do change account states.\n",
    "\n",
    "Read more about various [operation kinds](https://medium.com/tqtezos/lifecycle-of-an-operation-in-tezos-248c51038ec2)."
   ]
  },
  {
   "cell_type": "code",
   "execution_count": 15,
   "metadata": {},
   "outputs": [
    {
     "data": {
      "text/plain": [
       "<pytezos.rpc.protocol.OperationListListQuery object at 0x7fcf3b595588>\n",
       "\n",
       "Properties\n",
       ".path  # /chains/main/blocks/head/operations\n",
       ".node  # https://mainnet-tezos.giganode.io/ ()\n",
       "\n",
       "()\n",
       "All the operations included in the block.\n",
       ":returns: Array\n",
       "\n",
       "[] Find operation by hash.\n",
       "\n",
       ":param item: Operation group hash (base58)\n",
       ":rtype: OperationQuery\n",
       "\n",
       "Helpers\n",
       ".anonymous\n",
       ".endorsements\n",
       ".find_ballots()\n",
       ".find_origination()\n",
       ".find_upvotes()\n",
       ".managers\n",
       ".votes"
      ]
     },
     "execution_count": 15,
     "metadata": {},
     "output_type": "execute_result"
    }
   ],
   "source": [
    "pytezos.shell.head.operations"
   ]
  },
  {
   "cell_type": "markdown",
   "metadata": {},
   "source": [
    "Note shortcuts for validation passes, also you can search through all operations by hash."
   ]
  },
  {
   "cell_type": "markdown",
   "metadata": {},
   "source": [
    "So far we used the term \"operation\" although were actually speaking about \"operation groups\". Here's how an operation group is constructed:\n",
    "\n",
    "```\n",
    "Operation Group  <-- hash refers to the entire group\n",
    "└ Content #0\n",
    "  └ Main operation\n",
    "  └ Internal operation results  <-- only if main operation is \"manager\" and applied\n",
    "    └ Internal operation #0\n",
    "    ...\n",
    "    └ Internal operation #m\n",
    "...\n",
    "└ Content #n\n",
    "```\n",
    "\n",
    "Multicontent structure essentially allows operation batching, however an important rule must be followed: **only operations with the same validation pass can be batched**.  \n",
    "\n",
    "Internal operations may occur as a result of calls to smart contracts, which may invoke other contracts in their turn. Pay attention to the flat structure (intuitively expected tree-like) of internal operations. In Tezos contracts cannot synchronously invoke other contracts but return a list of spawned operations (i.e. async cross-contract calls) instread. The ordering of contract calls is quite unusual, [BFS](https://forum.tezosagora.org/t/problems-with-concurrency/1771) is used (usually DFS):\n",
    "\n",
    "```\n",
    "A      1\n",
    "└ B    2\n",
    "  └ C  4\n",
    "  └ D  5\n",
    "  E    3\n",
    "  └ F  6\n",
    "  └ G  7\n",
    "```\n",
    "\n",
    "How to determine the order of a particular operation from the RPC response:\n",
    "1. Main operations — by **counter**, which is tied to a specific account (signatory) and is incremented by one after each successful operation;\n",
    "2. Internal operations — by **nonce**, which is being reset on every main operation.\n",
    "\n",
    "PyTezos provides convenient iterators for operations and operation results (receipts):"
   ]
  },
  {
   "cell_type": "code",
   "execution_count": 16,
   "metadata": {},
   "outputs": [],
   "source": [
    "from pytezos.operation.result import OperationResult"
   ]
  },
  {
   "cell_type": "code",
   "execution_count": 17,
   "metadata": {},
   "outputs": [
    {
     "name": "stdout",
     "output_type": "stream",
     "text": [
      "transaction \n",
      "transaction internal\n",
      "transaction internal\n"
     ]
    }
   ],
   "source": [
    "opg = pytezos.shell \\\n",
    "    .blocks[1113876] \\\n",
    "    .operations['opHN29qMFpK6fMswaWmb2WYis7JggqF6fzJtysaB5LRAkzC17Zk']()\n",
    "    \n",
    "for op in OperationResult.iter_contents(opg):\n",
    "    print(op['kind'], 'internal' if op['internal'] else '')"
   ]
  },
  {
   "cell_type": "code",
   "execution_count": 18,
   "metadata": {},
   "outputs": [
    {
     "name": "stdout",
     "output_type": "stream",
     "text": [
      "applied\n",
      "applied\n",
      "applied\n"
     ]
    }
   ],
   "source": [
    "for res in OperationResult.iter_results(opg):\n",
    "    print(res['status'])"
   ]
  },
  {
   "cell_type": "markdown",
   "metadata": {},
   "source": [
    "You can also aggregate some stats or extract specific fields:"
   ]
  },
  {
   "cell_type": "code",
   "execution_count": 19,
   "metadata": {},
   "outputs": [
    {
     "data": {
      "text/plain": [
       "257"
      ]
     },
     "execution_count": 19,
     "metadata": {},
     "output_type": "execute_result"
    }
   ],
   "source": [
    "opg = pytezos.shell \\\n",
    "    .blocks[850141] \\\n",
    "    .operations['opGUCeryD3N4pAjLPZNqWVcgkxjPyTVf4y9uRxDzguWaBQvStgj']()\n",
    "\n",
    "OperationResult.burned(opg)"
   ]
  },
  {
   "cell_type": "code",
   "execution_count": 20,
   "metadata": {},
   "outputs": [
    {
     "data": {
      "text/plain": [
       "['KT1XHAmdRKugP1Q38CxDmpcRSxq143KpEiYx']"
      ]
     },
     "execution_count": 20,
     "metadata": {},
     "output_type": "execute_result"
    }
   ],
   "source": [
    "OperationResult.originated_contracts(opg)"
   ]
  },
  {
   "cell_type": "markdown",
   "metadata": {},
   "source": [
    "## Context\n",
    "Context is the blockchain state, it keeps actual information about accounts, balances, contract data, and other. Note, that a node has to run in a special [\"archive\"](https://tezos.gitlab.io/user/history_modes.html) mode in order to provide access to the context. Also note that many data providers close particularly heavy context endpoints.  \n",
    "\n",
    "The most common scenario using context data is querying account state (balance, storage, code, baker-specific info):"
   ]
  },
  {
   "cell_type": "code",
   "execution_count": 21,
   "metadata": {},
   "outputs": [
    {
     "data": {
      "text/plain": [
       "{'balance': '24969932',\n",
       " 'delegate': 'tz1NortRftucvAkD1J58L32EhSVrQEWJCEnB',\n",
       " 'counter': '6761142'}"
      ]
     },
     "execution_count": 21,
     "metadata": {},
     "output_type": "execute_result"
    }
   ],
   "source": [
    "pytezos.shell.head.context.contracts['tz1cf7vkqZiDwSJRpKN4W3NNHPHAXgomM3GE']()"
   ]
  },
  {
   "cell_type": "code",
   "execution_count": 22,
   "metadata": {},
   "outputs": [
    {
     "data": {
      "text/plain": [
       "{'prim': 'Pair', 'args': [{'int': '4'}, {'prim': 'Unit'}]}"
      ]
     },
     "execution_count": 22,
     "metadata": {},
     "output_type": "execute_result"
    }
   ],
   "source": [
    "pytezos.shell.head.context.contracts['KT1VG2WtYdSWz5E7chTeAdDPZNy2MpP8pTfL'].storage()"
   ]
  },
  {
   "cell_type": "markdown",
   "metadata": {},
   "source": [
    "There is no public documentation for context endpoints, but you can utilize the one integrated to PyTezos:"
   ]
  },
  {
   "cell_type": "code",
   "execution_count": 23,
   "metadata": {},
   "outputs": [
    {
     "data": {
      "text/plain": [
       "<pytezos.rpc.protocol.ContextRawJsonQuery object at 0x7fcf48d4b4e0>\n",
       "\n",
       "Properties\n",
       ".path  # /chains/main/blocks/head/context/raw/json\n",
       ".node  # https://mainnet-tezos.giganode.io/ ()\n",
       "\n",
       "()\n",
       "¯\\_(ツ)_/¯\n",
       ":param depth: ¯\\_(ツ)_/¯\n",
       ":returns: Object\n",
       "\n",
       "RPC endpoints\n",
       ".active_delegates_with_rolls\n",
       ".big_maps\n",
       ".block_priority\n",
       ".commitments\n",
       ".contracts\n",
       ".cycle\n",
       ".delegates\n",
       ".delegates_with_frozen_balance\n",
       ".ramp_up\n",
       ".rolls\n",
       ".votes"
      ]
     },
     "execution_count": 23,
     "metadata": {},
     "output_type": "execute_result"
    }
   ],
   "source": [
    "pytezos.shell.head.context.raw.json"
   ]
  },
  {
   "cell_type": "markdown",
   "metadata": {},
   "source": [
    "For example, you can query all keys of a particular big map:"
   ]
  },
  {
   "cell_type": "code",
   "execution_count": 24,
   "metadata": {},
   "outputs": [
    {
     "data": {
      "text/plain": [
       "['exprvSvW5ffvG4epdyhVxqutvzeWXdCTx8AshBRn2JNxpuTkzyt92o',\n",
       " 'exprvNUxqffUzU5UzdSFh2jYWpA9YmFtj5thBqCAhKAdEZZRLdD2pv',\n",
       " 'exprvMg58jmxM2S5y7Cev4H8E4rQgchCmjkFYTTXX4ZUoR59NfEi27',\n",
       " 'exprvKJfvczXea5o7zn9R7Q3cA1C3zPbR9Y4XjtfGiyFcdcPp6ef6U',\n",
       " 'exprvJmH6JcTnhLkR6BFioC9qqmT1b1AvcxmjCcekxS84oHwNbonFC']"
      ]
     },
     "execution_count": 24,
     "metadata": {},
     "output_type": "execute_result"
    }
   ],
   "source": [
    "pytezos.shell.head.context.raw.json.big_maps.index[31].contents()[:5]"
   ]
  },
  {
   "cell_type": "markdown",
   "metadata": {},
   "source": [
    "## Boosting RPC\n",
    "PyTezos uses several tricks to improve experience with RPC requests. First, it caches deterministic requests (i.e. to past blocks) but only for known public networks. This option can be turned off:"
   ]
  },
  {
   "cell_type": "code",
   "execution_count": 25,
   "metadata": {},
   "outputs": [],
   "source": [
    "pytezos.shell.node.caching = False"
   ]
  },
  {
   "cell_type": "markdown",
   "metadata": {},
   "source": [
    "In addition to that, you can use a pool of RPC nodes to make concurrent requests:"
   ]
  },
  {
   "cell_type": "code",
   "execution_count": 26,
   "metadata": {},
   "outputs": [
    {
     "name": "stderr",
     "output_type": "stream",
     "text": [
      "DEBUG:urllib3.connectionpool:Starting new HTTPS connection (1): rpc.tzkt.io:443\n",
      "DEBUG:urllib3.connectionpool:https://rpc.tzkt.io:443 \"GET /mainnet/chains/main/blocks/head/context/contracts/KT1ChNsEFxwyCbJyWGSL3KdjeXE28AY1Kaog HTTP/1.1\" 200 None\n",
      "DEBUG:urllib3.connectionpool:Starting new HTTPS connection (1): tezos-prod.cryptonomic-infra.tech:443\n",
      "DEBUG:urllib3.connectionpool:Starting new HTTPS connection (2): tezos-prod.cryptonomic-infra.tech:443\n",
      "DEBUG:urllib3.connectionpool:Starting new HTTPS connection (3): tezos-prod.cryptonomic-infra.tech:443\n",
      "DEBUG:urllib3.connectionpool:https://tezos-prod.cryptonomic-infra.tech:443 \"GET /chains/main/blocks/head/context/contracts/KT1ChNsEFxwyCbJyWGSL3KdjeXE28AY1Kaog/storage HTTP/1.1\" 200 None\n",
      "DEBUG:urllib3.connectionpool:Starting new HTTPS connection (1): rpc.tezrpc.me:443\n",
      "DEBUG:urllib3.connectionpool:https://tezos-prod.cryptonomic-infra.tech:443 \"GET /chains/main/blocks/head/context/contracts/KT1ChNsEFxwyCbJyWGSL3KdjeXE28AY1Kaog/storage HTTP/1.1\" 200 None\n",
      "DEBUG:urllib3.connectionpool:https://tezos-prod.cryptonomic-infra.tech:443 \"GET /chains/main/blocks/head/context/contracts/KT1ChNsEFxwyCbJyWGSL3KdjeXE28AY1Kaog/storage HTTP/1.1\" 200 None\n",
      "DEBUG:urllib3.connectionpool:Starting new HTTPS connection (1): api.tezos.org.ua:443\n",
      "DEBUG:urllib3.connectionpool:Starting new HTTPS connection (1): api.tez.ie:443\n",
      "DEBUG:urllib3.connectionpool:https://rpc.tezrpc.me:443 \"POST /chains/main/blocks/head/context/contracts/KT1ChNsEFxwyCbJyWGSL3KdjeXE28AY1Kaog/big_map_get HTTP/1.1\" 200 None\n",
      "DEBUG:urllib3.connectionpool:https://api.tezos.org.ua:443 \"POST /chains/main/blocks/head/context/contracts/KT1ChNsEFxwyCbJyWGSL3KdjeXE28AY1Kaog/big_map_get HTTP/1.1\" 301 None\n",
      "DEBUG:urllib3.connectionpool:Starting new HTTPS connection (1): mainnet-tezos.giganode.io:443\n",
      "DEBUG:urllib3.connectionpool:https://api.tez.ie:443 \"POST /chains/main/blocks/head/context/contracts/KT1ChNsEFxwyCbJyWGSL3KdjeXE28AY1Kaog/big_map_get HTTP/1.1\" 200 819\n",
      "DEBUG:urllib3.connectionpool:https://mainnet-tezos.giganode.io:443 \"GET /chains/main/blocks/head/context/contracts/KT1ChNsEFxwyCbJyWGSL3KdjeXE28AY1Kaog/big_map_get HTTP/1.1\" 405 None\n"
     ]
    }
   ],
   "source": [
    "from concurrent.futures import ThreadPoolExecutor\n",
    "import logging\n",
    "\n",
    "logging.basicConfig(level=logging.DEBUG)\n",
    "\n",
    "registry = pytezos.using('mainnet-pool') \\\n",
    "    .contract('KT1ChNsEFxwyCbJyWGSL3KdjeXE28AY1Kaog')\n",
    "\n",
    "bakers_addresses = ['tz1abmz7jiCV2GH2u81LRrGgAFFgvQgiDiaf', \n",
    "                    'tz1WvL7MKyCuUHfC3FxPFyiXcy8hHTBT3vjE', \n",
    "                    'tz1PWCDnz783NNGGQjEFFsHtrcK5yBW4E2rm']\n",
    "\n",
    "def big_map_get(address):\n",
    "    return registry.big_map_get(address, 'head')\n",
    "\n",
    "with ThreadPoolExecutor(max_workers=3) as executor:\n",
    "    snapshot = executor.map(big_map_get, bakers_addresses)"
   ]
  }
 ],
 "metadata": {
  "kernelspec": {
   "display_name": "Python 3",
   "language": "python",
   "name": "python3"
  },
  "language_info": {
   "codemirror_mode": {
    "name": "ipython",
    "version": 3
   },
   "file_extension": ".py",
   "mimetype": "text/x-python",
   "name": "python",
   "nbconvert_exporter": "python",
   "pygments_lexer": "ipython3",
   "version": "3.7.0"
  },
  "toc": {
   "base_numbering": 1,
   "nav_menu": {},
   "number_sections": true,
   "sideBar": true,
   "skip_h1_title": false,
   "title_cell": "Table of Contents",
   "title_sidebar": "Contents",
   "toc_cell": false,
   "toc_position": {},
   "toc_section_display": true,
   "toc_window_display": false
  },
  "varInspector": {
   "cols": {
    "lenName": 16,
    "lenType": 16,
    "lenVar": 40
   },
   "kernels_config": {
    "python": {
     "delete_cmd_postfix": "",
     "delete_cmd_prefix": "del ",
     "library": "var_list.py",
     "varRefreshCmd": "print(var_dic_list())"
    },
    "r": {
     "delete_cmd_postfix": ") ",
     "delete_cmd_prefix": "rm(",
     "library": "var_list.r",
     "varRefreshCmd": "cat(var_dic_list()) "
    }
   },
   "types_to_exclude": [
    "module",
    "function",
    "builtin_function_or_method",
    "instance",
    "_Feature"
   ],
   "window_display": false
  }
 },
 "nbformat": 4,
 "nbformat_minor": 2
}

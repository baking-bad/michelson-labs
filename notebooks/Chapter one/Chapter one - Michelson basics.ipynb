{
 "cells": [
  {
   "cell_type": "markdown",
   "metadata": {},
   "source": [
    "# Michelson tutorial\n",
    "## Chapter one\n",
    "This chapter is an introduction to Michelson smart contracts structure and conventions."
   ]
  },
  {
   "cell_type": "markdown",
   "metadata": {},
   "source": [
    "##### 1. Understanding the stack"
   ]
  },
  {
   "cell_type": "markdown",
   "metadata": {},
   "source": [
    "Michelson is a *low-level* programming language, which means that it doesn't offer all the features of *high-level* programming languages you may be used to, like JavaScript or C++. For example, there are no variables in Michelson.  \n",
    "Every time you write code in Michelson, you must keep in mind something called \"**the stack**\". You can imagine the stack as a game of Jenga: it is a collection of elements that you pile up on top of each other, the goal of \"Michelson Jenga\" being to remove all the pieces except for a specific one that must remain at the end. In order to play, you will be given a list of *instructions* that can manipulate the pieces of the game: you can remove them, change their position, add some more on top, check if two pieces are the same to remove them, etc., but one false move and the stack collapses (which we call *failing*)."
   ]
  },
  {
   "cell_type": "markdown",
   "metadata": {},
   "source": [
    "##### 2. Structure of a Smart Contract"
   ]
  },
  {
   "cell_type": "markdown",
   "metadata": {},
   "source": [
    "A smart contract in Michelson displays a simple structure with 3 parts:\n",
    "1. A part indicating the type of the storage\n",
    "2. A part indicating the type of the parameter\n",
    "3. The code to be executed on incoming transactions  \n",
    "_(Note that the order doesn't matter)_"
   ]
  },
  {
   "cell_type": "markdown",
   "metadata": {},
   "source": [
    "For every incoming transaction, there will be only one parameter. However, the parameter can be, for example, a pair and contain 2 elements. Likewise, the storage is made of a single variable, which can also be a pair, a map, etc. and contain multiple values."
   ]
  },
  {
   "cell_type": "markdown",
   "metadata": {},
   "source": [
    "Here is an example of a very simple smart contract (which doesn't modify its storage):"
   ]
  },
  {
   "cell_type": "code",
   "execution_count": 1,
   "metadata": {},
   "outputs": [
    {
     "name": "stdout",
     "output_type": "stream",
     "text": [
      "storage unit;\n",
      "parameter unit;\n",
      "code { DROP ; PUSH unit Unit ; NIL operation ; PAIR };"
     ]
    }
   ],
   "source": [
    "storage unit ;\n",
    "parameter unit ;\n",
    "code {\n",
    "    DROP ;\n",
    "    PUSH unit Unit ;\n",
    "    NIL operation ;\n",
    "    PAIR\n",
    "}"
   ]
  },
  {
   "cell_type": "markdown",
   "metadata": {},
   "source": [
    "The smart contract removes the pair containing the parameter and the storage from the top of the stack, pushes a unit, an empty list of operation and pair them before returning them."
   ]
  },
  {
   "cell_type": "markdown",
   "metadata": {},
   "source": [
    "A smart contract in Michelson always has to return a pair containing a list of operations to be run at the end of the execution and the new storage."
   ]
  },
  {
   "cell_type": "markdown",
   "metadata": {},
   "source": [
    "When you are ready to run the smart contract, you can open a new cell and type the following command:"
   ]
  },
  {
   "cell_type": "code",
   "execution_count": 2,
   "metadata": {},
   "outputs": [
    {
     "name": "stdout",
     "output_type": "stream",
     "text": [
      "RUN: use %default; drop all; push (Unit, Unit);\n",
      "  DROP: pop (Unit, Unit);\n",
      "  PUSH: push Unit;\n",
      "  NIL: push [];\n",
      "  PAIR: pop [], Unit; push ([], Unit);"
     ]
    },
    {
     "data": {
      "text/html": [
       "<table>\n",
       "<thead>\n",
       "<tr><th>value                                    </th><th>type                                     </th></tr>\n",
       "</thead>\n",
       "<tbody>\n",
       "<tr><td><pre style=&quot;text-align: left;&quot;>Unit</pre></td><td><pre style=&quot;text-align: left;&quot;>unit</pre></td></tr>\n",
       "</tbody>\n",
       "</table>"
      ],
      "text/plain": [
       "value    type\n",
       "-------  ------\n",
       "Unit     unit"
      ]
     },
     "execution_count": 2,
     "metadata": {},
     "output_type": "execute_result"
    }
   ],
   "source": [
    "RUN %default Unit Unit ;"
   ]
  },
  {
   "cell_type": "markdown",
   "metadata": {},
   "source": [
    "**RUN** starts the execution of the smart contract, **%default** targets the default entry point of the smart contract (the only one there is at the moment), the first **Unit** is the parameter and the second **Unit** is the storage."
   ]
  },
  {
   "cell_type": "markdown",
   "metadata": {},
   "source": [
    "##### 3. Operation codes"
   ]
  },
  {
   "cell_type": "markdown",
   "metadata": {},
   "source": [
    "The *code* part of the Michelson contract consists of a serie of instructions that the contract will perform every time it is called. These instructions are run top to bottom and may or may not be followed by parameters. In general, for the operation codes that accept parameters, these parameters indicate the position of the stack to manipulate, the type of value associated to the newly created element or the value itself.  \n",
    "Note that every instruction ends when a semi-colon is inserted (however, you can omit it for the last instruction (generally `PAIR`)."
   ]
  },
  {
   "cell_type": "markdown",
   "metadata": {},
   "source": [
    "Let's have a look at the instructions introduced earlier:"
   ]
  },
  {
   "cell_type": "markdown",
   "metadata": {},
   "source": [
    "`DROP`: this instruction gets rid of the first element on top of the stack."
   ]
  },
  {
   "cell_type": "markdown",
   "metadata": {},
   "source": [
    "`PUSH`: this instruction is the opposite of the `DROP` instruction and adds an element on top of the stack.   \n",
    "&nbsp;&nbsp;&nbsp;&nbsp;&nbsp;&nbsp;You must specify the type and the value, for example `PUSH string \"hello\"` or `PUSH int 3`."
   ]
  },
  {
   "cell_type": "markdown",
   "metadata": {},
   "source": [
    "`NIL`: like `PUSH`, `NIL` introduces a new element on top of the stack. This element is a list.  \n",
    "&nbsp;&nbsp;&nbsp;&nbsp;&nbsp;&nbsp;After the opcode, you must specify the type of values the list will contain (lists can only contain one single type).  \n",
    "&nbsp;&nbsp;&nbsp;&nbsp;&nbsp;&nbsp;As we need a list of operations to end the execution of the smart contract, we add an empty list of operations."
   ]
  },
  {
   "cell_type": "markdown",
   "metadata": {},
   "source": [
    "`PAIR`: finally, as the contract is expecting a pair containing a list of instructions and the new storage, we must create this pair.  \n",
    "&nbsp;&nbsp;&nbsp;&nbsp;&nbsp;&nbsp;The `PAIR` opcode takes the two elements on top of the stack and put them together in a pair.  \n",
    "&nbsp;&nbsp;&nbsp;&nbsp;&nbsp;&nbsp;The first one will be in the left position of the pair, the second one in the right position."
   ]
  },
  {
   "cell_type": "markdown",
   "metadata": {},
   "source": [
    "##### 4. Running the contract step-by-step"
   ]
  },
  {
   "cell_type": "markdown",
   "metadata": {},
   "source": [
    "This notebook allows you to run the smart contract step-by-step and visualize the state of the stack at every step!"
   ]
  },
  {
   "cell_type": "markdown",
   "metadata": {},
   "source": [
    "In order to use this feature, there are 3 instructions you must remember. These instructions are only used in the context of these notebooks and are NOT Michelson instructions:"
   ]
  },
  {
   "cell_type": "markdown",
   "metadata": {},
   "source": [
    "- `BEGIN`: use it to start the execution of the contract. You must also specify the parameter and the storage as in : `BEGIN param storage`.  \n",
    "- `DUMP`: add it to display the current state of the stack.  \n",
    "- `COMMIT`: use it to end the execution of the contract and return the list/storage pair."
   ]
  },
  {
   "cell_type": "markdown",
   "metadata": {},
   "source": [
    "Let's rewrite the example above and use these three instructions:"
   ]
  },
  {
   "cell_type": "code",
   "execution_count": 15,
   "metadata": {},
   "outputs": [
    {
     "name": "stdout",
     "output_type": "stream",
     "text": [
      "storage unit;\n",
      "parameter unit;"
     ]
    }
   ],
   "source": [
    "storage unit ;\n",
    "parameter unit ;"
   ]
  },
  {
   "cell_type": "code",
   "execution_count": 16,
   "metadata": {},
   "outputs": [
    {
     "data": {
      "text/html": [
       "<table>\n",
       "<thead>\n",
       "<tr><th>value                                              </th><th>type                                               </th></tr>\n",
       "</thead>\n",
       "<tbody>\n",
       "<tr><td><pre style=&quot;text-align: left;&quot;>Pair Unit Unit</pre></td><td><pre style=&quot;text-align: left;&quot;>pair unit unit</pre></td></tr>\n",
       "</tbody>\n",
       "</table>"
      ],
      "text/plain": [
       "value           type\n",
       "--------------  --------------\n",
       "Pair Unit Unit  pair unit unit"
      ]
     },
     "execution_count": 16,
     "metadata": {},
     "output_type": "execute_result"
    }
   ],
   "source": [
    "BEGIN Unit Unit ;"
   ]
  },
  {
   "cell_type": "code",
   "execution_count": 17,
   "metadata": {},
   "outputs": [],
   "source": [
    "DROP ;"
   ]
  },
  {
   "cell_type": "code",
   "execution_count": 18,
   "metadata": {},
   "outputs": [
    {
     "data": {
      "text/html": [
       "stack is empty"
      ],
      "text/plain": [
       "stack is empty"
      ]
     },
     "execution_count": 18,
     "metadata": {},
     "output_type": "execute_result"
    }
   ],
   "source": [
    "DUMP ; ## The stack is empty now as we removed the only element that was there"
   ]
  },
  {
   "cell_type": "code",
   "execution_count": 19,
   "metadata": {},
   "outputs": [
    {
     "data": {
      "text/html": [
       "<table>\n",
       "<thead>\n",
       "<tr><th>value                                    </th><th>type                                     </th></tr>\n",
       "</thead>\n",
       "<tbody>\n",
       "<tr><td><pre style=&quot;text-align: left;&quot;>Unit</pre></td><td><pre style=&quot;text-align: left;&quot;>unit</pre></td></tr>\n",
       "</tbody>\n",
       "</table>"
      ],
      "text/plain": [
       "value    type\n",
       "-------  ------\n",
       "Unit     unit"
      ]
     },
     "execution_count": 19,
     "metadata": {},
     "output_type": "execute_result"
    }
   ],
   "source": [
    "PUSH unit Unit ;"
   ]
  },
  {
   "cell_type": "code",
   "execution_count": 20,
   "metadata": {},
   "outputs": [
    {
     "data": {
      "text/html": [
       "<table>\n",
       "<thead>\n",
       "<tr><th>value                                  </th><th>type                                               </th></tr>\n",
       "</thead>\n",
       "<tbody>\n",
       "<tr><td><pre style=&quot;text-align: left;&quot;>[]</pre></td><td><pre style=&quot;text-align: left;&quot;>list operation</pre></td></tr>\n",
       "</tbody>\n",
       "</table>"
      ],
      "text/plain": [
       "value    type\n",
       "-------  --------------\n",
       "[]       list operation"
      ]
     },
     "execution_count": 20,
     "metadata": {},
     "output_type": "execute_result"
    }
   ],
   "source": [
    "NIL operation ;"
   ]
  },
  {
   "cell_type": "code",
   "execution_count": 21,
   "metadata": {},
   "outputs": [
    {
     "data": {
      "text/html": [
       "<table>\n",
       "<thead>\n",
       "<tr><th>value                                    </th><th>type                                               </th></tr>\n",
       "</thead>\n",
       "<tbody>\n",
       "<tr><td><pre style=&quot;text-align: left;&quot;>[]</pre>  </td><td><pre style=&quot;text-align: left;&quot;>list operation</pre></td></tr>\n",
       "<tr><td><pre style=&quot;text-align: left;&quot;>Unit</pre></td><td><pre style=&quot;text-align: left;&quot;>unit</pre>          </td></tr>\n",
       "</tbody>\n",
       "</table>"
      ],
      "text/plain": [
       "value    type\n",
       "-------  --------------\n",
       "[]       list operation\n",
       "Unit     unit"
      ]
     },
     "execution_count": 21,
     "metadata": {},
     "output_type": "execute_result"
    }
   ],
   "source": [
    "DUMP ;"
   ]
  },
  {
   "cell_type": "code",
   "execution_count": 22,
   "metadata": {},
   "outputs": [
    {
     "data": {
      "text/html": [
       "<table>\n",
       "<thead>\n",
       "<tr><th>value                                            </th><th>type                                                           </th></tr>\n",
       "</thead>\n",
       "<tbody>\n",
       "<tr><td><pre style=&quot;text-align: left;&quot;>Pair {} Unit</pre></td><td><pre style=&quot;text-align: left;&quot;>pair (list operation) unit</pre></td></tr>\n",
       "</tbody>\n",
       "</table>"
      ],
      "text/plain": [
       "value         type\n",
       "------------  --------------------------\n",
       "Pair {} Unit  pair (list operation) unit"
      ]
     },
     "execution_count": 22,
     "metadata": {},
     "output_type": "execute_result"
    }
   ],
   "source": [
    "PAIR ;"
   ]
  },
  {
   "cell_type": "code",
   "execution_count": 23,
   "metadata": {},
   "outputs": [
    {
     "data": {
      "text/html": [
       "<table>\n",
       "<thead>\n",
       "<tr><th>value                                    </th><th>type                                     </th></tr>\n",
       "</thead>\n",
       "<tbody>\n",
       "<tr><td><pre style=&quot;text-align: left;&quot;>Unit</pre></td><td><pre style=&quot;text-align: left;&quot;>unit</pre></td></tr>\n",
       "</tbody>\n",
       "</table>"
      ],
      "text/plain": [
       "value    type\n",
       "-------  ------\n",
       "Unit     unit"
      ]
     },
     "execution_count": 23,
     "metadata": {},
     "output_type": "execute_result"
    }
   ],
   "source": [
    "COMMIT ;"
   ]
  }
 ],
 "metadata": {
  "kernelspec": {
   "display_name": "Michelson",
   "language": "michelson",
   "name": "michelson"
  },
  "language_info": {
   "codemirror_mode": "michelson",
   "file_extension": ".tz",
   "mimetype": "text/x-michelson",
   "name": "Michelson"
  }
 },
 "nbformat": 4,
 "nbformat_minor": 4
}

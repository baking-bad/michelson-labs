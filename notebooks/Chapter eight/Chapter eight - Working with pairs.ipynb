{
 "cells": [
  {
   "cell_type": "markdown",
   "metadata": {},
   "source": [
    "# Michelson tutorial\n",
    "## Chapter eight\n",
    "\n",
    "Pairs are probably one of the most important type in your Michelson tool belt. Every contract starts with a pair, every contract ends with a pair. They are a fundamental component of Michelson contracts. A pair is the smallest type of value you can use to store multiple values: it can hold two values of different types. You can also *nest* pairs: a pair can consist of a simple value and another pair or even two other pairs! This model allows nesting multiple pairs one into the other, like Russian dolls.\n",
    "\n",
    "Along the previous lessons, we encountered a couple of instruction that act on pairs, namely **`CAR`** and **`CDR`**. If you remember, these two opcodes extract the left side and the right side of the pair, respectively. There is also **`PAIR`** that creates a new pair with two provided values. But that's just the tip of the iceberg! There are other instructions you can use to create or manipulate pairs. By the end of this chapter, pairs will have no secret for you!\n",
    "\n",
    "##### 1. Overview of the pair type\n",
    "\n",
    "A pair is fundamentally a value that holds two other values. These two values can be of any type. In the documentation, you will find pair type written this way: `(pair type1 type2)`. The value of the pair is written this way: `(Pair value1 value2)`. Every smart contract written in Michelson starts and ends with a pair:"
   ]
  },
  {
   "cell_type": "code",
   "execution_count": 3,
   "metadata": {},
   "outputs": [
    {
     "name": "stdout",
     "output_type": "stream",
     "text": [
      "storage (pair int int);\n",
      "parameter unit;\n",
      "code { DROP ; PUSH int 6 ; PUSH int 7 ; PAIR ; NIL operation ; PAIR };\n",
      "RUN: use %default; drop all; push (Unit, (0, 0));\n",
      "DROP: pop (Unit, (0, 0));\n",
      "PUSH: push 6;\n",
      "PUSH: push 7;\n",
      "PAIR: pop 7, 6; push (7, 6);\n",
      "NIL: push [];\n",
      "PAIR: pop [], (7, 6); push ([], (7, 6));"
     ]
    },
    {
     "data": {
      "text/html": [
       "<table>\n",
       "<thead>\n",
       "<tr><th>value                                        </th><th>type                                             </th></tr>\n",
       "</thead>\n",
       "<tbody>\n",
       "<tr><td><pre style=&quot;text-align: left;&quot;>Pair 7 6</pre></td><td><pre style=&quot;text-align: left;&quot;>pair int int</pre></td></tr>\n",
       "</tbody>\n",
       "</table>"
      ],
      "text/plain": [
       "value     type\n",
       "--------  ------------\n",
       "Pair 7 6  pair int int"
      ]
     },
     "execution_count": 3,
     "metadata": {},
     "output_type": "execute_result"
    }
   ],
   "source": [
    "storage (pair int int) ;\n",
    "parameter unit ;\n",
    "code {\n",
    "    DROP ;\n",
    "    PUSH int 6 ;\n",
    "    PUSH int 7 ;\n",
    "    PAIR ;\n",
    "    NIL operation ;\n",
    "    PAIR ;\n",
    "} ;\n",
    "\n",
    "RUN %default Unit (Pair 0 0) ;"
   ]
  },
  {
   "cell_type": "markdown",
   "metadata": {},
   "source": [
    "You can choose the types you want in a pair, even other pairs:"
   ]
  },
  {
   "cell_type": "code",
   "execution_count": 4,
   "metadata": {},
   "outputs": [
    {
     "name": "stdout",
     "output_type": "stream",
     "text": [
      "storage unit;\n",
      "parameter unit;\n",
      "BEGIN: use %default; drop all; push (Unit, Unit);\n",
      "DROP: pop (Unit, Unit);\n",
      "PUSH: push 5;\n",
      "PUSH: push hello;\n",
      "PAIR: pop hello, 5; push ('hello', 5);\n",
      "PUSH: push 5000;\n",
      "NOW: push 1593158292;\n",
      "PAIR: pop 1593158292, 5000; push (1593158292, 5000);\n",
      "PUSH: push (3, 'hello');\n",
      "PUSH: push (5, 45678);\n",
      "PAIR: pop (5, 45678), (3, 'hello'); push ((5, 45678), (3, 'hello'));"
     ]
    },
    {
     "data": {
      "text/html": [
       "<table>\n",
       "<thead>\n",
       "<tr><th>value                                                                    </th><th>type                                                                        </th><th>name                                             </th></tr>\n",
       "</thead>\n",
       "<tbody>\n",
       "<tr><td><pre style=&quot;text-align: left;&quot;>Pair (Pair 5 45678) (Pair 3 &quot;hello&quot;)</pre></td><td><pre style=&quot;text-align: left;&quot;>pair (pair nat mutez) (pair int string)</pre></td><td><pre style=&quot;text-align: left;&quot;>@third_pair</pre> </td></tr>\n",
       "<tr><td><pre style=&quot;text-align: left;&quot;>Pair 1593158292 5000</pre>                </td><td><pre style=&quot;text-align: left;&quot;>pair timestamp mutez</pre>                   </td><td><pre style=&quot;text-align: left;&quot;>@second_pair</pre></td></tr>\n",
       "<tr><td><pre style=&quot;text-align: left;&quot;>Pair &quot;hello&quot; 5</pre>                      </td><td><pre style=&quot;text-align: left;&quot;>pair string nat</pre>                        </td><td><pre style=&quot;text-align: left;&quot;>@first_pair</pre> </td></tr>\n",
       "</tbody>\n",
       "</table>"
      ],
      "text/plain": [
       "value                                 type                                     name\n",
       "------------------------------------  ---------------------------------------  ------------\n",
       "Pair (Pair 5 45678) (Pair 3 \"hello\")  pair (pair nat mutez) (pair int string)  @third_pair\n",
       "Pair 1593158292 5000                  pair timestamp mutez                     @second_pair\n",
       "Pair \"hello\" 5                        pair string nat                          @first_pair"
      ]
     },
     "execution_count": 4,
     "metadata": {},
     "output_type": "execute_result"
    }
   ],
   "source": [
    "storage unit ;\n",
    "parameter unit ;\n",
    "BEGIN Unit Unit ;\n",
    "DROP ;\n",
    "PUSH nat 5 ;\n",
    "PUSH string \"hello\" ;\n",
    "PAIR @first_pair ;\n",
    "PUSH mutez 5000 ;\n",
    "NOW ;\n",
    "PAIR @second_pair ;\n",
    "PUSH (pair int string) (Pair 3 \"hello\") ;\n",
    "PUSH (pair nat mutez) (Pair 5 45678) ;\n",
    "PAIR @third_pair ;\n",
    "DUMP ;"
   ]
  },
  {
   "cell_type": "markdown",
   "metadata": {},
   "source": [
    "##### 2. Operations on pairs"
   ]
  }
 ],
 "metadata": {
  "kernelspec": {
   "display_name": "Michelson",
   "language": "michelson",
   "name": "michelson"
  },
  "language_info": {
   "codemirror_mode": "michelson",
   "file_extension": ".tz",
   "mimetype": "text/x-michelson",
   "name": "Michelson"
  }
 },
 "nbformat": 4,
 "nbformat_minor": 4
}

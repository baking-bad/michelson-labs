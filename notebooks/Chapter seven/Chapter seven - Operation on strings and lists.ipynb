{
 "cells": [
  {
   "cell_type": "markdown",
   "metadata": {},
   "source": [
    "# Michelson tutorial\n",
    "## Chapter seven\n",
    "\n",
    "This new chapter will be the occasion to work a little more in-depth with two data types that are pretty important on a smart contract: strings and lists.\n",
    "\n",
    "In most projects that you will work on, you will probably have to manipulate strings. Whether you want to save some data provided by your users or compare inputs, strings are an essential component of smart contracts. Unlike other smart contract languages whose developers have been asking for these features for years (for example Solidity), Michelson offers string manipulation functions out of the box. Although still limited compared to other lhigh level languages, these functions will still provide enough flexibility to get the job done.\n",
    "\n",
    "Once you have strings in your smart contract, what about storing them somewhere? Lists could be the perfect place to put them! Michelson offers different possibilities in terms of storage for multiple pieces of data and lists are one of them. Before choosing a list for your needs, you must know more about what make them different and how they work. This will have no more secret for you at the end of this tutorial!\n",
    "\n",
    "- string type\n",
    "- _CONCAT_, _SLICE_, _SIZE_, _COMPARE_\n",
    "- list type\n",
    "- *CONS*, *NIL*, *IF_CONS*, *SIZE*\n",
    "\n",
    "##### 1. Strings and string manipulations\n",
    "\n",
    "We have already worked with strings in the previous chapters, so you should already be familiar with this type. Strings are a series of characters delimited by double-quotes and including only the characters present in the English alphabet (and the escape character in [certain circumstances](https://tezos.gitlab.io/whitedoc/michelson.html#constants)). Strings are comparable values that can be added to contract from different sources: they can come from the parameter, the storage or the **`PUSH`** instruction.\n",
    "\n",
    "Once the string is present in the stack, you can work with it!  \n",
    "First, you can check the length of the string with the **`SIZE`** opcode:"
   ]
  },
  {
   "cell_type": "code",
   "execution_count": 1,
   "metadata": {},
   "outputs": [
    {
     "name": "stdout",
     "output_type": "stream",
     "text": [
      "storage nat;\n",
      "parameter string;\n",
      "code { CAR ; SIZE ; NIL operation ; PAIR };\n",
      "RUN: use %default; drop all; push ('tezos', 0);\n",
      "CAR: pop ('tezos', 0); push tezos;\n",
      "SIZE: pop tezos; push 5;\n",
      "NIL: push [];\n",
      "PAIR: pop [], 5; push ([], 5);"
     ]
    },
    {
     "data": {
      "text/html": [
       "<table>\n",
       "<thead>\n",
       "<tr><th>value                                 </th><th>type                                    </th></tr>\n",
       "</thead>\n",
       "<tbody>\n",
       "<tr><td><pre style=&quot;text-align: left;&quot;>5</pre></td><td><pre style=&quot;text-align: left;&quot;>nat</pre></td></tr>\n",
       "</tbody>\n",
       "</table>"
      ],
      "text/plain": [
       "  value  type\n",
       "-------  ------\n",
       "      5  nat"
      ]
     },
     "execution_count": 1,
     "metadata": {},
     "output_type": "execute_result"
    }
   ],
   "source": [
    "storage nat ;\n",
    "parameter string ;\n",
    "code {\n",
    "    CAR ;\n",
    "    SIZE ;\n",
    "    NIL operation ;\n",
    "    PAIR\n",
    "};\n",
    "\n",
    "RUN %default \"tezos\" 0;"
   ]
  },
  {
   "cell_type": "markdown",
   "metadata": {},
   "source": [
    "As expected, the length of the string *\"Tezos\"* is `5`. Note that the length is returned as a `nat` because negative length are not possible.  \n",
    "Knowing the length of a string can be useful if you want to limit the size of the strings savec into your contract. Let's write an example that will reject string parameters if their length exceeds `5`:"
   ]
  },
  {
   "cell_type": "code",
   "execution_count": 18,
   "metadata": {},
   "outputs": [
    {
     "name": "stdout",
     "output_type": "stream",
     "text": [
      "storage string;\n",
      "parameter string;\n",
      "code { CAR ; DUP ; SIZE ; PUSH nat 5 ; { { COMPARE ; LT } ; IF { { UNIT ; FAILWITH } } { NIL operation ; PAIR } } };\n",
      "RUN: use %default; drop all; push ('tezos', '');\n",
      "CAR: pop ('tezos', ''); push tezos;\n",
      "DUP: push tezos;\n",
      "SIZE: pop tezos; push 5;\n",
      "PUSH: push 5;\n",
      "COMPARE: pop 5, 5; push 0;\n",
      "LT: pop 0; push False;\n",
      "IF: pop False;\n",
      "NIL: push [];\n",
      "PAIR: pop [], tezos; push ([], 'tezos');"
     ]
    },
    {
     "data": {
      "text/html": [
       "<table>\n",
       "<thead>\n",
       "<tr><th>value                                       </th><th>type                                       </th></tr>\n",
       "</thead>\n",
       "<tbody>\n",
       "<tr><td><pre style=&quot;text-align: left;&quot;>&quot;tezos&quot;</pre></td><td><pre style=&quot;text-align: left;&quot;>string</pre></td></tr>\n",
       "</tbody>\n",
       "</table>"
      ],
      "text/plain": [
       "value    type\n",
       "-------  ------\n",
       "\"tezos\"  string"
      ]
     },
     "execution_count": 18,
     "metadata": {},
     "output_type": "execute_result"
    }
   ],
   "source": [
    "storage string ;\n",
    "parameter string ;\n",
    "code {\n",
    "    CAR ;\n",
    "    DUP ;\n",
    "    SIZE ;\n",
    "    PUSH nat 5 ;\n",
    "    IFCMPLT\n",
    "        { FAIL }\n",
    "        {\n",
    "            NIL operation ;\n",
    "            PAIR\n",
    "        }\n",
    "} ;\n",
    "\n",
    "RUN %default \"tezos\" \"\" ;"
   ]
  },
  {
   "cell_type": "markdown",
   "metadata": {},
   "source": [
    "If you add another character to \"tezos\", you will see the contract fail 😊\n",
    "\n",
    "One of the most common actions on strings is concatenation. Michelson provides an instruction that allows you to put two separate strings together: **`CONCAT`**. This is how it works:"
   ]
  },
  {
   "cell_type": "code",
   "execution_count": 19,
   "metadata": {},
   "outputs": [
    {
     "name": "stdout",
     "output_type": "stream",
     "text": [
      "storage string;\n",
      "parameter string;\n",
      "code { CAR ; PUSH string \"Hello \" ; CONCAT ; NIL operation ; PAIR };\n",
      "RUN: use %default; drop all; push ('Tezos', '');\n",
      "CAR: pop ('Tezos', ''); push Tezos;\n",
      "PUSH: push Hello ;\n",
      "CONCAT: pop Hello ; pop Tezos; push Hello Tezos;\n",
      "NIL: push [];\n",
      "PAIR: pop [], Hello Tezos; push ([], 'Hello Tezos');"
     ]
    },
    {
     "data": {
      "text/html": [
       "<table>\n",
       "<thead>\n",
       "<tr><th>value                                             </th><th>type                                       </th></tr>\n",
       "</thead>\n",
       "<tbody>\n",
       "<tr><td><pre style=&quot;text-align: left;&quot;>&quot;Hello Tezos&quot;</pre></td><td><pre style=&quot;text-align: left;&quot;>string</pre></td></tr>\n",
       "</tbody>\n",
       "</table>"
      ],
      "text/plain": [
       "value          type\n",
       "-------------  ------\n",
       "\"Hello Tezos\"  string"
      ]
     },
     "execution_count": 19,
     "metadata": {},
     "output_type": "execute_result"
    }
   ],
   "source": [
    "storage string ;\n",
    "parameter string ;\n",
    "code {\n",
    "    CAR ;\n",
    "    PUSH string \"Hello \" ;\n",
    "    CONCAT ;\n",
    "    NIL operation ;\n",
    "    PAIR\n",
    "} ;\n",
    "\n",
    "RUN %default \"Tezos\" \"\" ;"
   ]
  },
  {
   "cell_type": "markdown",
   "metadata": {},
   "source": [
    "This smart contract does a very simple thing: it takes a string as a parameter and put it together with \"Hello \" before saving it in the storage. When using **`CONCAT`**, just make sure you have two strings on top of the stack and that they are in the right order, the element 1 will be the first one in the new string and element 2 will be the second one.\n",
    "\n",
    "If you want to concatenate multiple strings, you just have to add them to the stack and concatenate the **`CONCAT`** instructions!"
   ]
  },
  {
   "cell_type": "code",
   "execution_count": 32,
   "metadata": {},
   "outputs": [
    {
     "name": "stdout",
     "output_type": "stream",
     "text": [
      "storage string;\n",
      "parameter string;\n",
      "code { CAR ; PUSH string \"Tezos \" ; PUSH string \"Hello \" ; CONCAT ; CONCAT ; NIL operation ; PAIR };\n",
      "RUN: use %default; drop all; push ('World', '');\n",
      "CAR: pop ('World', ''); push World;\n",
      "PUSH: push Tezos ;\n",
      "PUSH: push Hello ;\n",
      "CONCAT: pop Hello ; pop Tezos ; push Hello Tezos ;\n",
      "CONCAT: pop Hello Tezos ; pop World; push Hello Tezos World;\n",
      "NIL: push [];\n",
      "PAIR: pop [], Hello Tezos World; push ([], 'Hello Tezos World');"
     ]
    },
    {
     "data": {
      "text/html": [
       "<table>\n",
       "<thead>\n",
       "<tr><th>value                                                   </th><th>type                                       </th></tr>\n",
       "</thead>\n",
       "<tbody>\n",
       "<tr><td><pre style=&quot;text-align: left;&quot;>&quot;Hello Tezos World&quot;</pre></td><td><pre style=&quot;text-align: left;&quot;>string</pre></td></tr>\n",
       "</tbody>\n",
       "</table>"
      ],
      "text/plain": [
       "value                type\n",
       "-------------------  ------\n",
       "\"Hello Tezos World\"  string"
      ]
     },
     "execution_count": 32,
     "metadata": {},
     "output_type": "execute_result"
    }
   ],
   "source": [
    "storage string ;\n",
    "parameter string ;\n",
    "code {\n",
    "    CAR ;\n",
    "    PUSH string \"Tezos \" ;\n",
    "    PUSH string \"Hello \" ;\n",
    "    CONCAT ;\n",
    "    CONCAT ;\n",
    "    NIL operation ;\n",
    "    PAIR\n",
    "} ;\n",
    "\n",
    "RUN %default \"World\" \"\" ;"
   ]
  },
  {
   "cell_type": "markdown",
   "metadata": {},
   "source": [
    "The opposite action is **`SLICE`**: instead of putting two strings together, we are cutting one in pieces! This instruction takes three parameters: the starting point for the slice, the character length you want to slice and the string. Let's observe a few examples:"
   ]
  },
  {
   "cell_type": "code",
   "execution_count": 27,
   "metadata": {},
   "outputs": [
    {
     "name": "stdout",
     "output_type": "stream",
     "text": [
      "storage unit;\n",
      "parameter unit;\n",
      "BEGIN: use %default; drop all; push (Unit, Unit);\n",
      "DROP: pop (Unit, Unit);\n",
      "PUSH: push BakingBad;\n",
      "PUSH: push 6;\n",
      "PUSH: push 0;"
     ]
    },
    {
     "data": {
      "text/html": [
       "<table>\n",
       "<thead>\n",
       "<tr><th>value                                           </th><th>type                                       </th><th>name                                                 </th></tr>\n",
       "</thead>\n",
       "<tbody>\n",
       "<tr><td><pre style=&quot;text-align: left;&quot;>0</pre>          </td><td><pre style=&quot;text-align: left;&quot;>nat</pre>   </td><td><pre style=&quot;text-align: left;&quot;>@offset</pre>         </td></tr>\n",
       "<tr><td><pre style=&quot;text-align: left;&quot;>6</pre>          </td><td><pre style=&quot;text-align: left;&quot;>nat</pre>   </td><td><pre style=&quot;text-align: left;&quot;>@length</pre>         </td></tr>\n",
       "<tr><td><pre style=&quot;text-align: left;&quot;>&quot;BakingBad&quot;</pre></td><td><pre style=&quot;text-align: left;&quot;>string</pre></td><td><pre style=&quot;text-align: left;&quot;>@string_to_slice</pre></td></tr>\n",
       "</tbody>\n",
       "</table>"
      ],
      "text/plain": [
       "value        type    name\n",
       "-----------  ------  ----------------\n",
       "0            nat     @offset\n",
       "6            nat     @length\n",
       "\"BakingBad\"  string  @string_to_slice"
      ]
     },
     "execution_count": 27,
     "metadata": {},
     "output_type": "execute_result"
    }
   ],
   "source": [
    "storage unit ;\n",
    "parameter unit ;\n",
    "BEGIN Unit Unit ;\n",
    "DROP ;\n",
    "## Pushes a string and extract the first 6 characters\n",
    "PUSH @string_to_slice string \"BakingBad\" ;\n",
    "PUSH @length nat 6 ; ## length\n",
    "PUSH @offset nat 0 ; ## offset\n",
    "DUMP ;"
   ]
  },
  {
   "cell_type": "markdown",
   "metadata": {},
   "source": [
    "This is how the stack looks like before the slicing begins..."
   ]
  },
  {
   "cell_type": "code",
   "execution_count": 28,
   "metadata": {},
   "outputs": [
    {
     "data": {
      "text/html": [
       "<table>\n",
       "<thead>\n",
       "<tr><th>value                                             </th><th>type                                              </th></tr>\n",
       "</thead>\n",
       "<tbody>\n",
       "<tr><td><pre style=&quot;text-align: left;&quot;>Some &quot;Baking&quot;</pre></td><td><pre style=&quot;text-align: left;&quot;>option string</pre></td></tr>\n",
       "</tbody>\n",
       "</table>"
      ],
      "text/plain": [
       "value          type\n",
       "-------------  -------------\n",
       "Some \"Baking\"  option string"
      ]
     },
     "execution_count": 28,
     "metadata": {},
     "output_type": "execute_result"
    }
   ],
   "source": [
    "SLICE ;"
   ]
  },
  {
   "cell_type": "markdown",
   "metadata": {},
   "source": [
    "You probably notice that the result of **`SLICE`** is wrapped in an `option` value. If the offset or the length you set go beyond the bounds of the string, the opcode returns `None`:"
   ]
  },
  {
   "cell_type": "code",
   "execution_count": 30,
   "metadata": {},
   "outputs": [
    {
     "name": "stdout",
     "output_type": "stream",
     "text": [
      "DROP: pop None;\n",
      "PUSH: push BakingBad;\n",
      "PUSH: push 6;\n",
      "PUSH: push 6;\n",
      "SLICE: pop 6, 6, BakingBad; push None;"
     ]
    },
    {
     "data": {
      "text/html": [
       "<table>\n",
       "<thead>\n",
       "<tr><th>value                                    </th><th>type                                              </th></tr>\n",
       "</thead>\n",
       "<tbody>\n",
       "<tr><td><pre style=&quot;text-align: left;&quot;>None</pre></td><td><pre style=&quot;text-align: left;&quot;>option string</pre></td></tr>\n",
       "</tbody>\n",
       "</table>"
      ],
      "text/plain": [
       "value    type\n",
       "-------  -------------\n",
       "None     option string"
      ]
     },
     "execution_count": 30,
     "metadata": {},
     "output_type": "execute_result"
    }
   ],
   "source": [
    "DROP ;\n",
    "PUSH string \"BakingBad\" ;\n",
    "PUSH nat 6 ; ## length\n",
    "PUSH nat 6 ; ## offset\n",
    "SLICE ;"
   ]
  },
  {
   "cell_type": "markdown",
   "metadata": {},
   "source": [
    "Obviously, you are not limited to extract slices of strings from the first character, you can start at whichever position you like, keeping in mind the bounds of the string:"
   ]
  },
  {
   "cell_type": "code",
   "execution_count": 31,
   "metadata": {},
   "outputs": [
    {
     "name": "stdout",
     "output_type": "stream",
     "text": [
      "DROP: pop None;\n",
      "PUSH: push BakingBadIsAwesome;\n",
      "PUSH: push 7;\n",
      "PUSH: push 11;\n",
      "SLICE: pop 11, 7, BakingBadIsAwesome; push ('Awesome',);"
     ]
    },
    {
     "data": {
      "text/html": [
       "<table>\n",
       "<thead>\n",
       "<tr><th>value                                              </th><th>type                                              </th></tr>\n",
       "</thead>\n",
       "<tbody>\n",
       "<tr><td><pre style=&quot;text-align: left;&quot;>Some &quot;Awesome&quot;</pre></td><td><pre style=&quot;text-align: left;&quot;>option string</pre></td></tr>\n",
       "</tbody>\n",
       "</table>"
      ],
      "text/plain": [
       "value           type\n",
       "--------------  -------------\n",
       "Some \"Awesome\"  option string"
      ]
     },
     "execution_count": 31,
     "metadata": {},
     "output_type": "execute_result"
    }
   ],
   "source": [
    "DROP ;\n",
    "PUSH string \"BakingBadIsAwesome\" ;\n",
    "PUSH nat 7 ; ## length\n",
    "PUSH nat 11 ; ## offset\n",
    "SLICE ;"
   ]
  },
  {
   "cell_type": "markdown",
   "metadata": {},
   "source": [
    "Slicing a string in two pieces is going to ask for a little extra work but it is totally possible. Here is how to do it:"
   ]
  },
  {
   "cell_type": "code",
   "execution_count": 36,
   "metadata": {},
   "outputs": [
    {
     "name": "stdout",
     "output_type": "stream",
     "text": [
      "DROP_ALL: drop all;\n",
      "PUSH: push BakingBadIsAwesome;\n",
      "DUP: push BakingBadIsAwesome;\n",
      "PUSH: push 9;\n",
      "PUSH: push 0;\n",
      "SLICE: pop 0, 9, BakingBadIsAwesome; push ('BakingBad',);\n",
      "SWAP: pop ('BakingBad',), BakingBadIsAwesome; push ('BakingBad',); push BakingBadIsAwesome;\n",
      "PUSH: push 9;\n",
      "PUSH: push 9;\n",
      "SLICE: pop 9, 9, BakingBadIsAwesome; push ('IsAwesome',);\n",
      "SWAP: pop ('IsAwesome',), ('BakingBad',); push ('IsAwesome',); push ('BakingBad',);"
     ]
    },
    {
     "data": {
      "text/html": [
       "<table>\n",
       "<thead>\n",
       "<tr><th>value                                                </th><th>type                                              </th></tr>\n",
       "</thead>\n",
       "<tbody>\n",
       "<tr><td><pre style=&quot;text-align: left;&quot;>Some &quot;BakingBad&quot;</pre></td><td><pre style=&quot;text-align: left;&quot;>option string</pre></td></tr>\n",
       "<tr><td><pre style=&quot;text-align: left;&quot;>Some &quot;IsAwesome&quot;</pre></td><td><pre style=&quot;text-align: left;&quot;>option string</pre></td></tr>\n",
       "</tbody>\n",
       "</table>"
      ],
      "text/plain": [
       "value             type\n",
       "----------------  -------------\n",
       "Some \"BakingBad\"  option string\n",
       "Some \"IsAwesome\"  option string"
      ]
     },
     "execution_count": 36,
     "metadata": {},
     "output_type": "execute_result"
    }
   ],
   "source": [
    "DROP ;\n",
    "PUSH string \"BakingBadIsAwesome\" ; ## Push the string to slice in two\n",
    "DUP ; ## Duplicate the string\n",
    "PUSH nat 9 ; ## The length of the first piece\n",
    "PUSH nat 0 ; ## The offset of the first piece\n",
    "SLICE ; ## Extract the first piece of the string\n",
    "SWAP ; ## Get the duplicated original string on top of the stack\n",
    "PUSH nat 9 ; ## The lenght of the second piece\n",
    "PUSH nat 9 ; ## The offset of the second piece\n",
    "SLICE ; ## Extract the second piece of the string\n",
    "SWAP ; ## Put the pieces in the right order\n",
    "DUMP ;"
   ]
  },
  {
   "cell_type": "code",
   "execution_count": null,
   "metadata": {},
   "outputs": [],
   "source": []
  }
 ],
 "metadata": {
  "kernelspec": {
   "display_name": "Michelson",
   "language": "michelson",
   "name": "michelson"
  },
  "language_info": {
   "codemirror_mode": "michelson",
   "file_extension": ".tz",
   "mimetype": "text/x-michelson",
   "name": "Michelson"
  }
 },
 "nbformat": 4,
 "nbformat_minor": 4
}

{
 "cells": [
  {
   "cell_type": "markdown",
   "metadata": {},
   "source": [
    "# Michelson tutorial\n",
    "## Chapter three\n",
    "This chapter introduces conditional structures, fail operators and some useful macros to use in your Michelson code."
   ]
  },
  {
   "cell_type": "code",
   "execution_count": 152,
   "metadata": {},
   "outputs": [
    {
     "name": "stdout",
     "output_type": "stream",
     "text": [
      "storage int;\n",
      "parameter int;"
     ]
    }
   ],
   "source": [
    "storage int ;\n",
    "parameter int ;"
   ]
  },
  {
   "cell_type": "code",
   "execution_count": 153,
   "metadata": {},
   "outputs": [
    {
     "data": {
      "text/html": [
       "<table>\n",
       "<thead>\n",
       "<tr><th>value                                        </th><th>type                                             </th></tr>\n",
       "</thead>\n",
       "<tbody>\n",
       "<tr><td><pre style=&quot;text-align: left;&quot;>Pair 3 4</pre></td><td><pre style=&quot;text-align: left;&quot;>pair int int</pre></td></tr>\n",
       "</tbody>\n",
       "</table>"
      ],
      "text/plain": [
       "value     type\n",
       "--------  ------------\n",
       "Pair 3 4  pair int int"
      ]
     },
     "execution_count": 153,
     "metadata": {},
     "output_type": "execute_result"
    }
   ],
   "source": [
    "BEGIN 3 4 ;"
   ]
  },
  {
   "cell_type": "code",
   "execution_count": 154,
   "metadata": {},
   "outputs": [
    {
     "name": "stdout",
     "output_type": "stream",
     "text": [
      "DUP: push (3, 4);\n",
      "CAR: pop (3, 4); push 3;\n",
      "SWAP: pop 3, (3, 4); push 3; push (3, 4);\n",
      "CDR: pop (3, 4); push 4;"
     ]
    },
    {
     "data": {
      "text/html": [
       "<table>\n",
       "<thead>\n",
       "<tr><th>value                                 </th><th>type                                    </th><th>name                                         </th></tr>\n",
       "</thead>\n",
       "<tbody>\n",
       "<tr><td><pre style=&quot;text-align: left;&quot;>4</pre></td><td><pre style=&quot;text-align: left;&quot;>int</pre></td><td><pre style=&quot;text-align: left;&quot;>@storage</pre></td></tr>\n",
       "<tr><td><pre style=&quot;text-align: left;&quot;>3</pre></td><td><pre style=&quot;text-align: left;&quot;>int</pre></td><td>                                             </td></tr>\n",
       "</tbody>\n",
       "</table>"
      ],
      "text/plain": [
       "  value  type    name\n",
       "-------  ------  --------\n",
       "      4  int     @storage\n",
       "      3  int"
      ]
     },
     "execution_count": 154,
     "metadata": {},
     "output_type": "execute_result"
    }
   ],
   "source": [
    "DUP ; CAR @param ; SWAP ; CDR @storage ; DUMP ;"
   ]
  },
  {
   "cell_type": "code",
   "execution_count": 155,
   "metadata": {},
   "outputs": [
    {
     "data": {
      "text/html": [
       "<table>\n",
       "<thead>\n",
       "<tr><th>value                                 </th><th>type                                    </th></tr>\n",
       "</thead>\n",
       "<tbody>\n",
       "<tr><td><pre style=&quot;text-align: left;&quot;>1</pre></td><td><pre style=&quot;text-align: left;&quot;>int</pre></td></tr>\n",
       "</tbody>\n",
       "</table>"
      ],
      "text/plain": [
       "  value  type\n",
       "-------  ------\n",
       "      1  int"
      ]
     },
     "execution_count": 155,
     "metadata": {},
     "output_type": "execute_result"
    }
   ],
   "source": [
    "COMPARE ;"
   ]
  },
  {
   "cell_type": "code",
   "execution_count": 156,
   "metadata": {},
   "outputs": [
    {
     "name": "stdout",
     "output_type": "stream",
     "text": [
      "DROP: pop 1;\n",
      "PUSH: push 4;\n",
      "PUSH: push 3;\n",
      "COMPARE: pop 3, 4; push -1;"
     ]
    },
    {
     "data": {
      "text/html": [
       "<table>\n",
       "<thead>\n",
       "<tr><th>value                                  </th><th>type                                    </th></tr>\n",
       "</thead>\n",
       "<tbody>\n",
       "<tr><td><pre style=&quot;text-align: left;&quot;>-1</pre></td><td><pre style=&quot;text-align: left;&quot;>int</pre></td></tr>\n",
       "</tbody>\n",
       "</table>"
      ],
      "text/plain": [
       "  value  type\n",
       "-------  ------\n",
       "     -1  int"
      ]
     },
     "execution_count": 156,
     "metadata": {},
     "output_type": "execute_result"
    }
   ],
   "source": [
    "DROP ;\n",
    "PUSH int 4 ; PUSH int 3 ; COMPARE ;"
   ]
  },
  {
   "cell_type": "code",
   "execution_count": 157,
   "metadata": {},
   "outputs": [
    {
     "name": "stdout",
     "output_type": "stream",
     "text": [
      "DROP: pop -1;\n",
      "PUSH: push 4;\n",
      "PUSH: push 3;\n",
      "COMPARE: pop 3, 4; push -1;\n",
      "EQ: pop -1; push False;"
     ]
    },
    {
     "data": {
      "text/html": [
       "<table>\n",
       "<thead>\n",
       "<tr><th>value                                     </th><th>type                                     </th></tr>\n",
       "</thead>\n",
       "<tbody>\n",
       "<tr><td><pre style=&quot;text-align: left;&quot;>False</pre></td><td><pre style=&quot;text-align: left;&quot;>bool</pre></td></tr>\n",
       "</tbody>\n",
       "</table>"
      ],
      "text/plain": [
       "value    type\n",
       "-------  ------\n",
       "False    bool"
      ]
     },
     "execution_count": 157,
     "metadata": {},
     "output_type": "execute_result"
    }
   ],
   "source": [
    "DROP ;\n",
    "PUSH int 4 ; PUSH int 3 ;\n",
    "COMPARE ; EQ ;"
   ]
  },
  {
   "cell_type": "code",
   "execution_count": 158,
   "metadata": {},
   "outputs": [
    {
     "name": "stdout",
     "output_type": "stream",
     "text": [
      "DROP: pop False;\n",
      "PUSH: push 4;\n",
      "PUSH: push 4;\n",
      "COMPARE: pop 4, 4; push 0;\n",
      "EQ: pop 0; push True;"
     ]
    },
    {
     "data": {
      "text/html": [
       "<table>\n",
       "<thead>\n",
       "<tr><th>value                                    </th><th>type                                     </th></tr>\n",
       "</thead>\n",
       "<tbody>\n",
       "<tr><td><pre style=&quot;text-align: left;&quot;>True</pre></td><td><pre style=&quot;text-align: left;&quot;>bool</pre></td></tr>\n",
       "</tbody>\n",
       "</table>"
      ],
      "text/plain": [
       "value    type\n",
       "-------  ------\n",
       "True     bool"
      ]
     },
     "execution_count": 158,
     "metadata": {},
     "output_type": "execute_result"
    }
   ],
   "source": [
    "DROP ;\n",
    "PUSH int 4 ; PUSH int 4 ;\n",
    "COMPARE ; EQ ;"
   ]
  },
  {
   "cell_type": "code",
   "execution_count": 159,
   "metadata": {},
   "outputs": [
    {
     "name": "stdout",
     "output_type": "stream",
     "text": [
      "DROP: pop True;\n",
      "PUSH: push 3;\n",
      "PUSH: push 4;\n",
      "COMPARE: pop 4, 3; push 1;\n",
      "NEQ: pop 1; push True;"
     ]
    },
    {
     "data": {
      "text/html": [
       "<table>\n",
       "<thead>\n",
       "<tr><th>value                                    </th><th>type                                     </th></tr>\n",
       "</thead>\n",
       "<tbody>\n",
       "<tr><td><pre style=&quot;text-align: left;&quot;>True</pre></td><td><pre style=&quot;text-align: left;&quot;>bool</pre></td></tr>\n",
       "</tbody>\n",
       "</table>"
      ],
      "text/plain": [
       "value    type\n",
       "-------  ------\n",
       "True     bool"
      ]
     },
     "execution_count": 159,
     "metadata": {},
     "output_type": "execute_result"
    }
   ],
   "source": [
    "DROP ;\n",
    "PUSH int 3 ; PUSH int 4 ;\n",
    "COMPARE ; NEQ ;"
   ]
  },
  {
   "cell_type": "code",
   "execution_count": 160,
   "metadata": {},
   "outputs": [
    {
     "name": "stdout",
     "output_type": "stream",
     "text": [
      "DROP: pop True;\n",
      "PUSH: push 4;\n",
      "PUSH: push 4;\n",
      "COMPARE: pop 4, 4; push 0;\n",
      "EQ: pop 0; push True;"
     ]
    },
    {
     "data": {
      "text/html": [
       "<table>\n",
       "<thead>\n",
       "<tr><th>value                                    </th><th>type                                     </th></tr>\n",
       "</thead>\n",
       "<tbody>\n",
       "<tr><td><pre style=&quot;text-align: left;&quot;>True</pre></td><td><pre style=&quot;text-align: left;&quot;>bool</pre></td></tr>\n",
       "</tbody>\n",
       "</table>"
      ],
      "text/plain": [
       "value    type\n",
       "-------  ------\n",
       "True     bool"
      ]
     },
     "execution_count": 160,
     "metadata": {},
     "output_type": "execute_result"
    }
   ],
   "source": [
    "DROP ;\n",
    "PUSH int 4 ; PUSH int 4 ;\n",
    "CMPEQ ;"
   ]
  },
  {
   "cell_type": "code",
   "execution_count": 161,
   "metadata": {},
   "outputs": [
    {
     "name": "stdout",
     "output_type": "stream",
     "text": [
      "IF: pop True;\n",
      "  PUSH: push Is true;"
     ]
    },
    {
     "data": {
      "text/html": [
       "<table>\n",
       "<thead>\n",
       "<tr><th>value                                         </th><th>type                                       </th></tr>\n",
       "</thead>\n",
       "<tbody>\n",
       "<tr><td><pre style=&quot;text-align: left;&quot;>&quot;Is true&quot;</pre></td><td><pre style=&quot;text-align: left;&quot;>string</pre></td></tr>\n",
       "</tbody>\n",
       "</table>"
      ],
      "text/plain": [
       "value      type\n",
       "---------  ------\n",
       "\"Is true\"  string"
      ]
     },
     "execution_count": 161,
     "metadata": {},
     "output_type": "execute_result"
    }
   ],
   "source": [
    "IF \n",
    "    { PUSH string \"Is true\" } \n",
    "    { PUSH string \"Is false\"}"
   ]
  },
  {
   "cell_type": "code",
   "execution_count": 162,
   "metadata": {},
   "outputs": [
    {
     "name": "stdout",
     "output_type": "stream",
     "text": [
      "DROP: pop Is true;\n",
      "PUSH: push 4;\n",
      "PUSH: push 4;\n",
      "COMPARE: pop 4, 4; push 0;\n",
      "EQ: pop 0; push True;\n",
      "IF: pop True;\n",
      "  PUSH: push It's equal :);"
     ]
    },
    {
     "data": {
      "text/html": [
       "<table>\n",
       "<thead>\n",
       "<tr><th>value                                               </th><th>type                                       </th></tr>\n",
       "</thead>\n",
       "<tbody>\n",
       "<tr><td><pre style=&quot;text-align: left;&quot;>&quot;It&#x27;s equal :)&quot;</pre></td><td><pre style=&quot;text-align: left;&quot;>string</pre></td></tr>\n",
       "</tbody>\n",
       "</table>"
      ],
      "text/plain": [
       "value            type\n",
       "---------------  ------\n",
       "\"It's equal :)\"  string"
      ]
     },
     "execution_count": 162,
     "metadata": {},
     "output_type": "execute_result"
    }
   ],
   "source": [
    "DROP ;\n",
    "PUSH int 4 ; PUSH int 4 ; \n",
    "COMPARE ;\n",
    "EQ ;\n",
    "IF \n",
    "    { PUSH string \"It's equal :)\" } \n",
    "    { PUSH string \"It is not equal :(\"}"
   ]
  },
  {
   "cell_type": "code",
   "execution_count": 163,
   "metadata": {},
   "outputs": [
    {
     "name": "stdout",
     "output_type": "stream",
     "text": [
      "DROP: pop It's equal :);\n",
      "PUSH: push 4;\n",
      "PUSH: push 4;\n",
      "COMPARE: pop 4, 4; push 0;\n",
      "EQ: pop 0; push True;\n",
      "IF: pop True;\n",
      "  PUSH: push It's equal :);"
     ]
    },
    {
     "data": {
      "text/html": [
       "<table>\n",
       "<thead>\n",
       "<tr><th>value                                               </th><th>type                                       </th></tr>\n",
       "</thead>\n",
       "<tbody>\n",
       "<tr><td><pre style=&quot;text-align: left;&quot;>&quot;It&#x27;s equal :)&quot;</pre></td><td><pre style=&quot;text-align: left;&quot;>string</pre></td></tr>\n",
       "</tbody>\n",
       "</table>"
      ],
      "text/plain": [
       "value            type\n",
       "---------------  ------\n",
       "\"It's equal :)\"  string"
      ]
     },
     "execution_count": 163,
     "metadata": {},
     "output_type": "execute_result"
    }
   ],
   "source": [
    "DROP ;\n",
    "PUSH int 4 ; PUSH int 4 ; \n",
    "IFCMPEQ \n",
    "    { PUSH string \"It's equal :)\" } \n",
    "    { PUSH string \"It is not equal :(\"}"
   ]
  },
  {
   "cell_type": "code",
   "execution_count": 164,
   "metadata": {},
   "outputs": [
    {
     "name": "stdout",
     "output_type": "stream",
     "text": [
      "DROP: pop It's equal :);\n",
      "PUSH: push hello world;\n",
      "PUSH: push hello world;\n",
      "COMPARE: pop hello world, hello world; push 0;\n",
      "EQ: pop 0; push True;\n",
      "IF: pop True;\n",
      "  PUSH: push It's the same string :);"
     ]
    },
    {
     "data": {
      "text/html": [
       "<table>\n",
       "<thead>\n",
       "<tr><th>value                                                         </th><th>type                                       </th></tr>\n",
       "</thead>\n",
       "<tbody>\n",
       "<tr><td><pre style=&quot;text-align: left;&quot;>&quot;It&#x27;s the same string :)&quot;</pre></td><td><pre style=&quot;text-align: left;&quot;>string</pre></td></tr>\n",
       "</tbody>\n",
       "</table>"
      ],
      "text/plain": [
       "value                      type\n",
       "-------------------------  ------\n",
       "\"It's the same string :)\"  string"
      ]
     },
     "execution_count": 164,
     "metadata": {},
     "output_type": "execute_result"
    }
   ],
   "source": [
    "DROP ;\n",
    "PUSH string \"hello world\" ; PUSH string \"hello world\" ; \n",
    "IFCMPEQ \n",
    "    { PUSH string \"It's the same string :)\" } \n",
    "    { PUSH string \"It is not the same string :(\"}"
   ]
  },
  {
   "cell_type": "code",
   "execution_count": 165,
   "metadata": {},
   "outputs": [
    {
     "name": "stdout",
     "output_type": "stream",
     "text": [
      "DROP: pop It's the same string :);\n",
      "PUSH: push 4;\n",
      "PUSH: push 5;\n",
      "COMPARE: pop 5, 4; push 1;\n",
      "EQ: pop 1; push False;\n",
      "IF: pop False;\n",
      "  UNIT: push Unit;\n",
      "  FAILWITH: pop Unit;"
     ]
    },
    {
     "name": "stderr",
     "output_type": "stream",
     "text": [
      "MichelsonRuntimeError: Unit\n",
      "at IF -> FAILWITH"
     ]
    }
   ],
   "source": [
    "DROP ;\n",
    "PUSH int 4 ; PUSH int 5 ;\n",
    "IFCMPEQ\n",
    "    { PUSH string \"Same number!\" }\n",
    "    { FAIL }"
   ]
  },
  {
   "cell_type": "code",
   "execution_count": 168,
   "metadata": {},
   "outputs": [
    {
     "name": "stdout",
     "output_type": "stream",
     "text": [
      "DROP: pop It's the same string :);\n",
      "PUSH: push None;\n",
      "IF_NONE: pop None;\n",
      "  PUSH: push No value!;"
     ]
    },
    {
     "data": {
      "text/html": [
       "<table>\n",
       "<thead>\n",
       "<tr><th>value                                           </th><th>type                                       </th></tr>\n",
       "</thead>\n",
       "<tbody>\n",
       "<tr><td><pre style=&quot;text-align: left;&quot;>&quot;No value!&quot;</pre></td><td><pre style=&quot;text-align: left;&quot;>string</pre></td></tr>\n",
       "</tbody>\n",
       "</table>"
      ],
      "text/plain": [
       "value        type\n",
       "-----------  ------\n",
       "\"No value!\"  string"
      ]
     },
     "execution_count": 168,
     "metadata": {},
     "output_type": "execute_result"
    }
   ],
   "source": [
    "DROP ;\n",
    "PUSH (option string) None ;\n",
    "IF_NONE \n",
    "    { PUSH string \"No value!\" }\n",
    "    { FAIL }"
   ]
  },
  {
   "cell_type": "code",
   "execution_count": 171,
   "metadata": {},
   "outputs": [
    {
     "name": "stdout",
     "output_type": "stream",
     "text": [
      "DROP: pop hello world;\n",
      "PUSH: push ('hello world',);\n",
      "IF_NONE: pop ('hello world',); push hello world;"
     ]
    },
    {
     "data": {
      "text/html": [
       "<table>\n",
       "<thead>\n",
       "<tr><th>value                                             </th><th>type                                       </th></tr>\n",
       "</thead>\n",
       "<tbody>\n",
       "<tr><td><pre style=&quot;text-align: left;&quot;>&quot;hello world&quot;</pre></td><td><pre style=&quot;text-align: left;&quot;>string</pre></td></tr>\n",
       "</tbody>\n",
       "</table>"
      ],
      "text/plain": [
       "value          type\n",
       "-------------  ------\n",
       "\"hello world\"  string"
      ]
     },
     "execution_count": 171,
     "metadata": {},
     "output_type": "execute_result"
    }
   ],
   "source": [
    "DROP ;\n",
    "PUSH (option string) (Some \"hello world\") ;\n",
    "IF_NONE \n",
    "    { FAIL }\n",
    "    { }"
   ]
  },
  {
   "cell_type": "code",
   "execution_count": 172,
   "metadata": {},
   "outputs": [
    {
     "name": "stdout",
     "output_type": "stream",
     "text": [
      "DROP: pop hello world;\n",
      "PUSH: push True;\n",
      "IF: pop True;"
     ]
    }
   ],
   "source": [
    "DROP ;\n",
    "PUSH bool True ;\n",
    "ASSERT ;"
   ]
  },
  {
   "cell_type": "code",
   "execution_count": 173,
   "metadata": {},
   "outputs": [
    {
     "name": "stdout",
     "output_type": "stream",
     "text": [
      "PUSH: push 4;\n",
      "PUSH: push 5;\n",
      "COMPARE: pop 5, 4; push 1;\n",
      "EQ: pop 1; push False;\n",
      "IF: pop False;\n",
      "  UNIT: push Unit;\n",
      "  FAILWITH: pop Unit;"
     ]
    },
    {
     "name": "stderr",
     "output_type": "stream",
     "text": [
      "MichelsonRuntimeError: Unit\n",
      "at IF -> FAILWITH"
     ]
    }
   ],
   "source": [
    "PUSH int 4 ; PUSH int 5 ;\n",
    "ASSERT_CMPEQ ;"
   ]
  },
  {
   "cell_type": "code",
   "execution_count": 174,
   "metadata": {},
   "outputs": [
    {
     "name": "stdout",
     "output_type": "stream",
     "text": [
      "PUSH: push 5;\n",
      "PUSH: push 5;\n",
      "COMPARE: pop 5, 5; push 0;\n",
      "EQ: pop 0; push True;\n",
      "IF: pop True;"
     ]
    }
   ],
   "source": [
    "PUSH int 5 ; PUSH int 5 ;\n",
    "ASSERT_CMPEQ ;"
   ]
  },
  {
   "cell_type": "code",
   "execution_count": 181,
   "metadata": {},
   "outputs": [
    {
     "name": "stdout",
     "output_type": "stream",
     "text": [
      "PUSH: push False;\n",
      "IF: pop False;\n",
      "  PUSH: push Is false!;\n",
      "  FAILWITH: pop Is false!;"
     ]
    },
    {
     "name": "stderr",
     "output_type": "stream",
     "text": [
      "MichelsonRuntimeError: Is false!\n",
      "at IF -> FAILWITH"
     ]
    }
   ],
   "source": [
    "PUSH bool False ;\n",
    "IF\n",
    "    { PUSH string \"Is true!\" }\n",
    "    { PUSH string \"Is false!\" ; FAILWITH } ;\n",
    "DUMP ;"
   ]
  },
  {
   "cell_type": "code",
   "execution_count": null,
   "metadata": {},
   "outputs": [],
   "source": []
  }
 ],
 "metadata": {
  "kernelspec": {
   "display_name": "Michelson",
   "language": "michelson",
   "name": "michelson"
  },
  "language_info": {
   "codemirror_mode": "michelson",
   "file_extension": ".tz",
   "mimetype": "text/x-michelson",
   "name": "Michelson"
  }
 },
 "nbformat": 4,
 "nbformat_minor": 4
}

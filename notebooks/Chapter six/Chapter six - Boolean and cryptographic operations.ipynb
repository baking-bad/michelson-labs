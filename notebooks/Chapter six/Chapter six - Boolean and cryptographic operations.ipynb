{
 "cells": [
  {
   "cell_type": "markdown",
   "metadata": {},
   "source": [
    "# Michelson tutorial\n",
    "## Chapter six\n",
    "\n",
    "Booleans may look simple but they are a very important part of a smart contract. As we learned in the previous chapters, a few instructions return a boolean value after comparing multiple values or evaluing a single one (for example **`EQ`**), which makes booleans an essential part of your smart contracts.\n",
    "\n",
    "In addition to booleans, cryptograhic operations are also at the foundation of a blockchain: every transaction on the Tezos blockchain includes the encrypting of a private key to sign the transaction and the decrypting of that signature with a public key. Michelson offers different solutions to encrypt and decrypt values right from the contract, which can be very useful in particular cases.\n",
    "\n",
    "- Boolean types\n",
    "- _AND_, _OR_, _XOR_, _NOT_\n",
    "- Cryptographic primitives (*HASH_KEY*, *BLAKE2B*, *SHA256*, *SHA512*, *CHECK_SIGNATURE*, *COMPARE*)\n",
    "\n",
    "##### 1. Boolean type and operations on booleans\n",
    "\n",
    "*Boolean* must be the simplest type out there as it accepts only two values: `True` or `False`. However, don't let its simplicity fool you because there is a lot of power in it. After all, the distinction between true or false values (or `0` and `1`) is what powers the computer you are reading this tutorial on.\n",
    "\n",
    "There are 4 operations you can use on booleans that we will present below with examples, let's start with the first one, **`AND`**:"
   ]
  },
  {
   "cell_type": "code",
   "execution_count": 9,
   "metadata": {},
   "outputs": [
    {
     "name": "stdout",
     "output_type": "stream",
     "text": [
      "storage unit;\n",
      "parameter unit;\n",
      "BEGIN: use %default; drop all; push (Unit, Unit);\n",
      "DROP: pop (Unit, Unit);"
     ]
    }
   ],
   "source": [
    "storage unit ;\n",
    "parameter unit ;\n",
    "BEGIN Unit Unit ;\n",
    "DROP ;"
   ]
  },
  {
   "cell_type": "code",
   "execution_count": 10,
   "metadata": {},
   "outputs": [
    {
     "name": "stdout",
     "output_type": "stream",
     "text": [
      "PUSH: push True;\n",
      "PUSH: push True;\n",
      "AND: pop True, True; push True;\n",
      "PUSH: push True;\n",
      "PUSH: push False;\n",
      "AND: pop False, True; push False;\n",
      "PUSH: push False;\n",
      "PUSH: push False;\n",
      "AND: pop False, False; push False;"
     ]
    },
    {
     "data": {
      "text/html": [
       "<table>\n",
       "<thead>\n",
       "<tr><th>value                                     </th><th>type                                     </th><th>name                                               </th></tr>\n",
       "</thead>\n",
       "<tbody>\n",
       "<tr><td><pre style=&quot;text-align: left;&quot;>False</pre></td><td><pre style=&quot;text-align: left;&quot;>bool</pre></td><td><pre style=&quot;text-align: left;&quot;>@third_result</pre> </td></tr>\n",
       "<tr><td><pre style=&quot;text-align: left;&quot;>False</pre></td><td><pre style=&quot;text-align: left;&quot;>bool</pre></td><td><pre style=&quot;text-align: left;&quot;>@second_result</pre></td></tr>\n",
       "<tr><td><pre style=&quot;text-align: left;&quot;>True</pre> </td><td><pre style=&quot;text-align: left;&quot;>bool</pre></td><td><pre style=&quot;text-align: left;&quot;>@first_result</pre> </td></tr>\n",
       "</tbody>\n",
       "</table>"
      ],
      "text/plain": [
       "value    type    name\n",
       "-------  ------  --------------\n",
       "False    bool    @third_result\n",
       "False    bool    @second_result\n",
       "True     bool    @first_result"
      ]
     },
     "execution_count": 10,
     "metadata": {},
     "output_type": "execute_result"
    }
   ],
   "source": [
    "PUSH bool True ;\n",
    "PUSH bool True ;\n",
    "AND @first_result ;\n",
    "PUSH bool True ;\n",
    "PUSH bool False ;\n",
    "AND @second_result ;\n",
    "PUSH bool False ;\n",
    "PUSH bool False ;\n",
    "AND @third_result ;\n",
    "DUMP ;"
   ]
  },
  {
   "cell_type": "markdown",
   "metadata": {},
   "source": [
    "If you already know a programming language, you know what **`AND`** is! The instruction compares two boolean values, if one of them is false, it returns `False`, if they are both true, it returns `True`. Note that, as usual, the instruction works on the top two elements of the stack (unless used with **`DIP`** of course).\n",
    "\n",
    "If you are looking for an instruction that returns `True` if at least one on the boolean value is `True`, you should use **`OR`**:"
   ]
  },
  {
   "cell_type": "code",
   "execution_count": 10,
   "metadata": {},
   "outputs": [
    {
     "name": "stdout",
     "output_type": "stream",
     "text": [
      "DROP_ALL: drop all;\n",
      "PUSH: push True;\n",
      "PUSH: push True;\n",
      "OR: pop True, True; push True;\n",
      "PUSH: push True;\n",
      "PUSH: push False;\n",
      "OR: pop False, True; push True;\n",
      "PUSH: push False;\n",
      "PUSH: push False;\n",
      "OR: pop False, False; push False;"
     ]
    },
    {
     "data": {
      "text/html": [
       "<table>\n",
       "<thead>\n",
       "<tr><th>value                                     </th><th>type                                     </th><th>name                                               </th></tr>\n",
       "</thead>\n",
       "<tbody>\n",
       "<tr><td><pre style=&quot;text-align: left;&quot;>False</pre></td><td><pre style=&quot;text-align: left;&quot;>bool</pre></td><td><pre style=&quot;text-align: left;&quot;>@third_result</pre> </td></tr>\n",
       "<tr><td><pre style=&quot;text-align: left;&quot;>True</pre> </td><td><pre style=&quot;text-align: left;&quot;>bool</pre></td><td><pre style=&quot;text-align: left;&quot;>@second_result</pre></td></tr>\n",
       "<tr><td><pre style=&quot;text-align: left;&quot;>True</pre> </td><td><pre style=&quot;text-align: left;&quot;>bool</pre></td><td><pre style=&quot;text-align: left;&quot;>@first_result</pre> </td></tr>\n",
       "</tbody>\n",
       "</table>"
      ],
      "text/plain": [
       "value    type    name\n",
       "-------  ------  --------------\n",
       "False    bool    @third_result\n",
       "True     bool    @second_result\n",
       "True     bool    @first_result"
      ]
     },
     "execution_count": 10,
     "metadata": {},
     "output_type": "execute_result"
    }
   ],
   "source": [
    "DROP_ALL ; ## cleans up the stack\n",
    "PUSH bool True ;\n",
    "PUSH bool True ;\n",
    "OR @first_result ;\n",
    "PUSH bool True ;\n",
    "PUSH bool False ;\n",
    "OR @second_result ;\n",
    "PUSH bool False ;\n",
    "PUSH bool False ;\n",
    "OR @third_result ;\n",
    "DUMP ;"
   ]
  },
  {
   "cell_type": "markdown",
   "metadata": {},
   "source": [
    "The **`OR`** instruction only returns `False` if both boolean values are `False`, otherwise, it returns `True` if at least one of the values is `True`.\n",
    "\n",
    "Next, Michelson offers the _\"exclusive OR\"_ instruction, **`XOR`**. This one is pretty rare and you won't probably use it as often. In a nutshell, it yields `True` only if the two boolean values are different, otherwise, it yields `False` if they are the same (whether they are both `True` or `False`). Here is an example:"
   ]
  },
  {
   "cell_type": "code",
   "execution_count": 11,
   "metadata": {},
   "outputs": [
    {
     "name": "stdout",
     "output_type": "stream",
     "text": [
      "DROP_ALL: drop all;\n",
      "PUSH: push True;\n",
      "PUSH: push True;\n",
      "XOR: pop True, True; push False;\n",
      "PUSH: push True;\n",
      "PUSH: push False;\n",
      "XOR: pop False, True; push True;\n",
      "PUSH: push False;\n",
      "PUSH: push False;\n",
      "XOR: pop False, False; push False;"
     ]
    },
    {
     "data": {
      "text/html": [
       "<table>\n",
       "<thead>\n",
       "<tr><th>value                                     </th><th>type                                     </th><th>name                                               </th></tr>\n",
       "</thead>\n",
       "<tbody>\n",
       "<tr><td><pre style=&quot;text-align: left;&quot;>False</pre></td><td><pre style=&quot;text-align: left;&quot;>bool</pre></td><td><pre style=&quot;text-align: left;&quot;>@third_result</pre> </td></tr>\n",
       "<tr><td><pre style=&quot;text-align: left;&quot;>True</pre> </td><td><pre style=&quot;text-align: left;&quot;>bool</pre></td><td><pre style=&quot;text-align: left;&quot;>@second_result</pre></td></tr>\n",
       "<tr><td><pre style=&quot;text-align: left;&quot;>False</pre></td><td><pre style=&quot;text-align: left;&quot;>bool</pre></td><td><pre style=&quot;text-align: left;&quot;>@first_result</pre> </td></tr>\n",
       "</tbody>\n",
       "</table>"
      ],
      "text/plain": [
       "value    type    name\n",
       "-------  ------  --------------\n",
       "False    bool    @third_result\n",
       "True     bool    @second_result\n",
       "False    bool    @first_result"
      ]
     },
     "execution_count": 11,
     "metadata": {},
     "output_type": "execute_result"
    }
   ],
   "source": [
    "DROP_ALL ; ## cleans up the stack\n",
    "PUSH bool True ;\n",
    "PUSH bool True ;\n",
    "XOR @first_result ;\n",
    "PUSH bool True ;\n",
    "PUSH bool False ;\n",
    "XOR @second_result ;\n",
    "PUSH bool False ;\n",
    "PUSH bool False ;\n",
    "XOR @third_result ;\n",
    "DUMP ;"
   ]
  },
  {
   "cell_type": "markdown",
   "metadata": {},
   "source": [
    "As you can see, `True` ^ `True` yields `False`, `False` ^ `False` yields also `False` and `True` ^ `False` yields `True`.\n",
    "\n",
    "The last operation in this list is **`NOT`**. If you are familiar with programming languages, you probably guessed what it does, it flips the value of the boolean: `True` becomes `False` and `False` becomes `True`. Unlike the instructions above, **`NOT`** only requires one element on top of the stack:"
   ]
  },
  {
   "cell_type": "code",
   "execution_count": 12,
   "metadata": {},
   "outputs": [
    {
     "name": "stdout",
     "output_type": "stream",
     "text": [
      "DROP_ALL: drop all;\n",
      "PUSH: push True;\n",
      "NOT: pop True; push False;\n",
      "PUSH: push False;\n",
      "NOT: pop False; push True;"
     ]
    },
    {
     "data": {
      "text/html": [
       "<table>\n",
       "<thead>\n",
       "<tr><th>value                                     </th><th>type                                     </th><th>name                                               </th></tr>\n",
       "</thead>\n",
       "<tbody>\n",
       "<tr><td><pre style=&quot;text-align: left;&quot;>True</pre> </td><td><pre style=&quot;text-align: left;&quot;>bool</pre></td><td><pre style=&quot;text-align: left;&quot;>@second_result</pre></td></tr>\n",
       "<tr><td><pre style=&quot;text-align: left;&quot;>False</pre></td><td><pre style=&quot;text-align: left;&quot;>bool</pre></td><td><pre style=&quot;text-align: left;&quot;>@first_result</pre> </td></tr>\n",
       "</tbody>\n",
       "</table>"
      ],
      "text/plain": [
       "value    type    name\n",
       "-------  ------  --------------\n",
       "True     bool    @second_result\n",
       "False    bool    @first_result"
      ]
     },
     "execution_count": 12,
     "metadata": {},
     "output_type": "execute_result"
    }
   ],
   "source": [
    "DROP_ALL ; ## cleans up the stack\n",
    "PUSH bool True ;\n",
    "NOT @first_result ;\n",
    "PUSH bool False ;\n",
    "NOT @second_result ;\n",
    "DUMP ;"
   ]
  },
  {
   "cell_type": "markdown",
   "metadata": {},
   "source": [
    "##### 2. Cryptographic operations\n",
    "\n",
    "Michelson provides three different types for cryptographic values and a few instructions to work with them and other values. It is important to understand the difference between these values as they play essential roles in the blockchain. Here are the three types you can find in smart contracts:\n",
    "- `key`: represents a public key\n",
    "- `key_hash`: represents the hash of a public key\n",
    "- `signature`: represents a cryptographic signature\n",
    "\n",
    "The `key` type is the one that must be the most familiar to you, it is the type assigned to public keys (that generally begin with *edpk*):"
   ]
  },
  {
   "cell_type": "code",
   "execution_count": 25,
   "metadata": {},
   "outputs": [
    {
     "name": "stdout",
     "output_type": "stream",
     "text": [
      "DROP_ALL: drop all;\n",
      "PUSH: push edpkvGfYw3LyB1UcCahKQk4rF2tvbMUk8GFiTuMjL75uGXrpvKXhjn;"
     ]
    },
    {
     "data": {
      "text/html": [
       "<table>\n",
       "<thead>\n",
       "<tr><th>value                                                                                        </th><th>type                                    </th></tr>\n",
       "</thead>\n",
       "<tbody>\n",
       "<tr><td><pre style=&quot;text-align: left;&quot;>&quot;edpkvGfYw3LyB1UcCahKQk4rF2tvbMUk8GFiTuMjL75uGXrpvKXhjn&quot;</pre></td><td><pre style=&quot;text-align: left;&quot;>key</pre></td></tr>\n",
       "</tbody>\n",
       "</table>"
      ],
      "text/plain": [
       "value                                                     type\n",
       "--------------------------------------------------------  ------\n",
       "\"edpkvGfYw3LyB1UcCahKQk4rF2tvbMUk8GFiTuMjL75uGXrpvKXhjn\"  key"
      ]
     },
     "execution_count": 25,
     "metadata": {},
     "output_type": "execute_result"
    }
   ],
   "source": [
    "DROP_ALL ;\n",
    "PUSH key \"edpkvGfYw3LyB1UcCahKQk4rF2tvbMUk8GFiTuMjL75uGXrpvKXhjn\" ;"
   ]
  },
  {
   "cell_type": "markdown",
   "metadata": {},
   "source": [
    "The key hash is the result of hashing a public key. There may be different situations in which the hash of a key is preferrable to the key itself, for example to use it as key in a map. Hashing the public key also yields a key hash that's used as a standard for public keys on Tezos:"
   ]
  },
  {
   "cell_type": "code",
   "execution_count": 26,
   "metadata": {},
   "outputs": [
    {
     "data": {
      "text/html": [
       "<table>\n",
       "<thead>\n",
       "<tr><th>value                                                                      </th><th>type                                         </th></tr>\n",
       "</thead>\n",
       "<tbody>\n",
       "<tr><td><pre style=&quot;text-align: left;&quot;>&quot;tz1VSUr8wwNhLAzempoch5d6hLRiTh8Cjcjb&quot;</pre></td><td><pre style=&quot;text-align: left;&quot;>key_hash</pre></td></tr>\n",
       "</tbody>\n",
       "</table>"
      ],
      "text/plain": [
       "value                                   type\n",
       "--------------------------------------  --------\n",
       "\"tz1VSUr8wwNhLAzempoch5d6hLRiTh8Cjcjb\"  key_hash"
      ]
     },
     "execution_count": 26,
     "metadata": {},
     "output_type": "execute_result"
    }
   ],
   "source": [
    "HASH_KEY ; ## expected value: tz1VSUr8wwNhLAzempoch5d6hLRiTh8Cjcjb"
   ]
  },
  {
   "cell_type": "markdown",
   "metadata": {},
   "source": [
    "> Note: it is not possible to calculate the public key from its hash."
   ]
  },
  {
   "cell_type": "code",
   "execution_count": 11,
   "metadata": {},
   "outputs": [
    {
     "name": "stdout",
     "output_type": "stream",
     "text": [
      "DROP_ALL: drop all;\n",
      "PUSH: push 05010000000568656c6c6f;\n",
      "PUSH: push edsigtnzKd51CDomKVMFBoU8SzFZgNqRkYUaQH4DLUg8Lsimz98DFB82uiHAkdvx29DDqHxPf1noQ8noWpKMZoxTCsfprrbs4Xo;\n",
      "PUSH: push edpktz4xg6csJnJ5vcmMb2H37sWXyBDcoAp3XrBvjRaTSQ1zmZTeRQ;\n",
      "CHECK_SIGNATURE: pop edpktz4xg6csJnJ5vcmMb2H37sWXyBDcoAp3XrBvjRaTSQ1zmZTeRQ, edsigtnzKd51CDomKVMFBoU8SzFZgNqRkYUaQH4DLUg8Lsimz98DFB82uiHAkdvx29DDqHxPf1noQ8noWpKMZoxTCsfprrbs4Xo, 05010000000568656c6c6f; push True;"
     ]
    },
    {
     "data": {
      "text/html": [
       "<table>\n",
       "<thead>\n",
       "<tr><th>value                                    </th><th>type                                     </th></tr>\n",
       "</thead>\n",
       "<tbody>\n",
       "<tr><td><pre style=&quot;text-align: left;&quot;>True</pre></td><td><pre style=&quot;text-align: left;&quot;>bool</pre></td></tr>\n",
       "</tbody>\n",
       "</table>"
      ],
      "text/plain": [
       "value    type\n",
       "-------  ------\n",
       "True     bool"
      ]
     },
     "execution_count": 11,
     "metadata": {},
     "output_type": "execute_result"
    }
   ],
   "source": [
    "DROP_ALL ;\n",
    "PUSH bytes 0x05010000000568656c6c6f ;\n",
    "PUSH signature \"edsigtnzKd51CDomKVMFBoU8SzFZgNqRkYUaQH4DLUg8Lsimz98DFB82uiHAkdvx29DDqHxPf1noQ8noWpKMZoxTCsfprrbs4Xo\" ;\n",
    "PUSH key \"edpktz4xg6csJnJ5vcmMb2H37sWXyBDcoAp3XrBvjRaTSQ1zmZTeRQ\" ;\n",
    "CHECK_SIGNATURE ;"
   ]
  },
  {
   "cell_type": "markdown",
   "metadata": {},
   "source": [
    "The **`COMPARE`** instruction allows you to compare two key hashes together. You can then use **`EQ`** or a macro to verify if the two hashes are the same.\n",
    "\n",
    "This first contract compares two provided keys:"
   ]
  },
  {
   "cell_type": "code",
   "execution_count": 4,
   "metadata": {},
   "outputs": [
    {
     "name": "stdout",
     "output_type": "stream",
     "text": [
      "storage int;\n",
      "parameter key;\n",
      "code { CAR ; HASH_KEY ; PUSH key \"edpkvGfYw3LyB1UcCahKQk4rF2tvbMUk8GFiTuMjL75uGXrpvKXhjn\" ; HASH_KEY ; COMPARE ; NIL operation ; PAIR };\n",
      "RUN: use %default; drop all; push ('edpkvGfYw3LyB1UcCahKQk4rF2tvbMUk8GFiTuMjL75uGXrpvKXhjn', 2);\n",
      "CAR: pop ('edpkvGfYw3LyB1UcCahKQk4rF2tvbMUk8GFiTuMjL75uGXrpvKXhjn', 2); push edpkvGfYw3LyB1UcCahKQk4rF2tvbMUk8GFiTuMjL75uGXrpvKXhjn;\n",
      "HASH_KEY: pop edpkvGfYw3LyB1UcCahKQk4rF2tvbMUk8GFiTuMjL75uGXrpvKXhjn; push tz1VSUr8wwNhLAzempoch5d6hLRiTh8Cjcjb;\n",
      "PUSH: push edpkvGfYw3LyB1UcCahKQk4rF2tvbMUk8GFiTuMjL75uGXrpvKXhjn;\n",
      "HASH_KEY: pop edpkvGfYw3LyB1UcCahKQk4rF2tvbMUk8GFiTuMjL75uGXrpvKXhjn; push tz1VSUr8wwNhLAzempoch5d6hLRiTh8Cjcjb;\n",
      "COMPARE: pop tz1VSUr8wwNhLAzempoch5d6hLRiTh8Cjcjb, tz1VSUr8wwNhLAzempoch5d6hLRiTh8Cjcjb; push 0;\n",
      "NIL: push [];\n",
      "PAIR: pop [], 0; push ([], 0);"
     ]
    },
    {
     "data": {
      "text/html": [
       "<table>\n",
       "<thead>\n",
       "<tr><th>value                                 </th><th>type                                    </th></tr>\n",
       "</thead>\n",
       "<tbody>\n",
       "<tr><td><pre style=&quot;text-align: left;&quot;>0</pre></td><td><pre style=&quot;text-align: left;&quot;>int</pre></td></tr>\n",
       "</tbody>\n",
       "</table>"
      ],
      "text/plain": [
       "  value  type\n",
       "-------  ------\n",
       "      0  int"
      ]
     },
     "execution_count": 4,
     "metadata": {},
     "output_type": "execute_result"
    }
   ],
   "source": [
    "storage int ;\n",
    "parameter key ;\n",
    "code {\n",
    "    CAR ;\n",
    "    HASH_KEY ;\n",
    "    PUSH key \"edpkvGfYw3LyB1UcCahKQk4rF2tvbMUk8GFiTuMjL75uGXrpvKXhjn\";\n",
    "    HASH_KEY ;\n",
    "    COMPARE ;\n",
    "    NIL operation ;\n",
    "    PAIR ;\n",
    "} ;\n",
    "\n",
    "RUN %default \"edpkvGfYw3LyB1UcCahKQk4rF2tvbMUk8GFiTuMjL75uGXrpvKXhjn\" 2 ;"
   ]
  },
  {
   "cell_type": "markdown",
   "metadata": {},
   "source": [
    "This second contract compares two key hashes and stores whether they are identical or not:"
   ]
  },
  {
   "cell_type": "code",
   "execution_count": 5,
   "metadata": {},
   "outputs": [
    {
     "name": "stdout",
     "output_type": "stream",
     "text": [
      "storage bool;\n",
      "parameter key;\n",
      "code { CAR ; HASH_KEY ; PUSH key \"edpkvGfYw3LyB1UcCahKQk4rF2tvbMUk8GFiTuMjL75uGXrpvKXhjn\" ; HASH_KEY ; { COMPARE ; EQ } ; NIL operation ; PAIR };\n",
      "RUN: use %default; drop all; push ('edpkvGfYw3LyB1UcCahKQk4rF2tvbMUk8GFiTuMjL75uGXrpvKXhjn', False);\n",
      "CAR: pop ('edpkvGfYw3LyB1UcCahKQk4rF2tvbMUk8GFiTuMjL75uGXrpvKXhjn', False); push edpkvGfYw3LyB1UcCahKQk4rF2tvbMUk8GFiTuMjL75uGXrpvKXhjn;\n",
      "HASH_KEY: pop edpkvGfYw3LyB1UcCahKQk4rF2tvbMUk8GFiTuMjL75uGXrpvKXhjn; push tz1VSUr8wwNhLAzempoch5d6hLRiTh8Cjcjb;\n",
      "PUSH: push edpkvGfYw3LyB1UcCahKQk4rF2tvbMUk8GFiTuMjL75uGXrpvKXhjn;\n",
      "HASH_KEY: pop edpkvGfYw3LyB1UcCahKQk4rF2tvbMUk8GFiTuMjL75uGXrpvKXhjn; push tz1VSUr8wwNhLAzempoch5d6hLRiTh8Cjcjb;\n",
      "COMPARE: pop tz1VSUr8wwNhLAzempoch5d6hLRiTh8Cjcjb, tz1VSUr8wwNhLAzempoch5d6hLRiTh8Cjcjb; push 0;\n",
      "EQ: pop 0; push True;\n",
      "NIL: push [];\n",
      "PAIR: pop [], True; push ([], True);"
     ]
    },
    {
     "data": {
      "text/html": [
       "<table>\n",
       "<thead>\n",
       "<tr><th>value                                    </th><th>type                                     </th></tr>\n",
       "</thead>\n",
       "<tbody>\n",
       "<tr><td><pre style=&quot;text-align: left;&quot;>True</pre></td><td><pre style=&quot;text-align: left;&quot;>bool</pre></td></tr>\n",
       "</tbody>\n",
       "</table>"
      ],
      "text/plain": [
       "value    type\n",
       "-------  ------\n",
       "True     bool"
      ]
     },
     "execution_count": 5,
     "metadata": {},
     "output_type": "execute_result"
    }
   ],
   "source": [
    "storage bool ;\n",
    "parameter key ;\n",
    "code {\n",
    "    CAR ;\n",
    "    HASH_KEY ;\n",
    "    PUSH key \"edpkvGfYw3LyB1UcCahKQk4rF2tvbMUk8GFiTuMjL75uGXrpvKXhjn\";\n",
    "    HASH_KEY ;\n",
    "    CMPEQ ;\n",
    "    NIL operation ;\n",
    "    PAIR ;\n",
    "} ;\n",
    "\n",
    "RUN %default \"edpkvGfYw3LyB1UcCahKQk4rF2tvbMUk8GFiTuMjL75uGXrpvKXhjn\" False ;"
   ]
  },
  {
   "cell_type": "markdown",
   "metadata": {},
   "source": [
    "Michelson also provides different opcodes for cryptographic operations to create hashes with different algorithms like SHA256, SHA512 and BLAKE2B. These instructions take a serie of bytes and output the result as bytes:"
   ]
  },
  {
   "cell_type": "code",
   "execution_count": 8,
   "metadata": {},
   "outputs": [
    {
     "name": "stdout",
     "output_type": "stream",
     "text": [
      "storage unit;\n",
      "parameter unit;\n",
      "BEGIN: use %default; drop all; push (Unit, Unit);\n",
      "DROP: pop (Unit, Unit);\n",
      "PUSH: push 05010000000b68656c6c6f20776f726c64;\n",
      "BLAKE2B: pop 05010000000b68656c6c6f20776f726c64; push c091fd2fae2e946144b61bd11582b6cee68675a8f3780a9018e542671d4d0f30;\n",
      "PUSH: push 05010000000b68656c6c6f20776f726c64;\n",
      "SHA256: pop 05010000000b68656c6c6f20776f726c64; push 4dc9a42063f0304879a107dea7975a0ca4b7eac54a41adeb476302399b311bcd;\n",
      "PUSH: push 05010000000b68656c6c6f20776f726c64;\n",
      "SHA512: pop 05010000000b68656c6c6f20776f726c64; push b59b50052ad3e5a1c5a164ba55a9fdd07d5387e8bf6a3e3e71aa462b649fc06e4dafa55f65b484011cac4a35bdaba7f69f0ffb4d1347e0962ae9c380e67ab8fe;"
     ]
    },
    {
     "data": {
      "text/html": [
       "<table>\n",
       "<thead>\n",
       "<tr><th>value                                                                                                                                                                  </th><th>type                                      </th><th>name                                         </th></tr>\n",
       "</thead>\n",
       "<tbody>\n",
       "<tr><td><pre style=&quot;text-align: left;&quot;>0xb59b50052ad3e5a1c5a164ba55a9fdd07d5387e8bf6a3e3e71aa462b649fc06e4dafa55f65b484011cac4a35bdaba7f69f0ffb4d1347e0962ae9c380e67ab8fe</pre></td><td><pre style=&quot;text-align: left;&quot;>bytes</pre></td><td><pre style=&quot;text-align: left;&quot;>@sha512</pre> </td></tr>\n",
       "<tr><td><pre style=&quot;text-align: left;&quot;>0x4dc9a42063f0304879a107dea7975a0ca4b7eac54a41adeb476302399b311bcd</pre>                                                                </td><td><pre style=&quot;text-align: left;&quot;>bytes</pre></td><td><pre style=&quot;text-align: left;&quot;>@sha256</pre> </td></tr>\n",
       "<tr><td><pre style=&quot;text-align: left;&quot;>0xc091fd2fae2e946144b61bd11582b6cee68675a8f3780a9018e542671d4d0f30</pre>                                                                </td><td><pre style=&quot;text-align: left;&quot;>bytes</pre></td><td><pre style=&quot;text-align: left;&quot;>@blake2b</pre></td></tr>\n",
       "</tbody>\n",
       "</table>"
      ],
      "text/plain": [
       "value                                                                                                                               type    name\n",
       "----------------------------------------------------------------------------------------------------------------------------------  ------  --------\n",
       "0xb59b50052ad3e5a1c5a164ba55a9fdd07d5387e8bf6a3e3e71aa462b649fc06e4dafa55f65b484011cac4a35bdaba7f69f0ffb4d1347e0962ae9c380e67ab8fe  bytes   @sha512\n",
       "0x4dc9a42063f0304879a107dea7975a0ca4b7eac54a41adeb476302399b311bcd                                                                  bytes   @sha256\n",
       "0xc091fd2fae2e946144b61bd11582b6cee68675a8f3780a9018e542671d4d0f30                                                                  bytes   @blake2b"
      ]
     },
     "execution_count": 8,
     "metadata": {},
     "output_type": "execute_result"
    }
   ],
   "source": [
    "storage unit ;\n",
    "parameter unit ;\n",
    "BEGIN Unit Unit ;\n",
    "DROP ;\n",
    "\n",
    "PUSH bytes 0x05010000000b68656c6c6f20776f726c64 ;\n",
    "BLAKE2B @blake2b ;\n",
    "PUSH bytes 0x05010000000b68656c6c6f20776f726c64 ;\n",
    "SHA256 @sha256 ;\n",
    "PUSH bytes 0x05010000000b68656c6c6f20776f726c64 ;\n",
    "SHA512 @sha512 ;\n",
    "DUMP ;"
   ]
  },
  {
   "cell_type": "code",
   "execution_count": null,
   "metadata": {},
   "outputs": [],
   "source": []
  }
 ],
 "metadata": {
  "kernelspec": {
   "display_name": "Michelson",
   "language": "michelson",
   "name": "michelson"
  },
  "language_info": {
   "codemirror_mode": "michelson",
   "file_extension": ".tz",
   "mimetype": "text/x-michelson",
   "name": "Michelson"
  }
 },
 "nbformat": 4,
 "nbformat_minor": 4
}

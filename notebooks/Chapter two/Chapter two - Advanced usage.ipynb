{
 "cells": [
  {
   "cell_type": "markdown",
   "metadata": {},
   "source": [
    "# Michelson tutorial\n",
    "## Chapter two\n",
    "This chapter introduces types in Michelson, advanced stack usage and stack protection instructions"
   ]
  },
  {
   "cell_type": "markdown",
   "metadata": {},
   "source": [
    "##### 1. Types in Michelson"
   ]
  },
  {
   "cell_type": "markdown",
   "metadata": {},
   "source": [
    "Michelson is a strongly typed language with no type inference, which means that you must always indicates which type you are using to the compiler. The compiler will then checks that all the values used in the contract are correctly typed.  \n",
    "For example, if you write `PUSH int 3 ; PUSH string \"hello\" ; ADD ;`, the compiler will throw an error as you cannot add an integer and a string together:"
   ]
  },
  {
   "cell_type": "code",
   "execution_count": 8,
   "metadata": {},
   "outputs": [
    {
     "name": "stdout",
     "output_type": "stream",
     "text": [
      "storage unit;\n",
      "parameter unit;\n",
      "code { DROP ; PUSH int 3 ; PUSH string \"Hello\" ; ADD ; NIL operation ; PAIR };\n",
      "RUN: use %default; drop all; push (Unit, Unit);\n",
      "DROP: pop (Unit, Unit);\n",
      "PUSH: push 3;\n",
      "PUSH: push Hello;\n",
      "ADD: pop Hello, 3;"
     ]
    },
    {
     "name": "stderr",
     "output_type": "stream",
     "text": [
      "MichelsonRuntimeError: unsupported argument types String and Int\n",
      "at RUN -> ADD"
     ]
    }
   ],
   "source": [
    "## THIS DOESN'T WORK!\n",
    "storage unit ;\n",
    "parameter unit ;\n",
    "code {\n",
    "    DROP ;\n",
    "    PUSH int 3 ;\n",
    "    PUSH string \"Hello\";\n",
    "    ADD ;\n",
    "    NIL operation ;\n",
    "    PAIR\n",
    "} ;\n",
    "RUN %default Unit Unit ;"
   ]
  },
  {
   "cell_type": "markdown",
   "metadata": {},
   "source": [
    "It is also worth pointing out that the values you use on the stack are immutable, which means that you cannot \"modify\" them, you must remove them, add them or concatenate them together to change them."
   ]
  },
  {
   "cell_type": "markdown",
   "metadata": {},
   "source": [
    "You can find below a list of the most common types in Michelson:\n",
    "- Core data types:  \n",
    "  - __int__ (positive and negative numbers) \n",
    "  - __nat__ (positive numbers) \n",
    "  - __string__ (one or multiple characters) \n",
    "  - __bytes__\n",
    "  - __pair__ (a pair of two values)\n",
    "  - __bool__ (boolean value)\n",
    "  - __unit__ (a placeholder type when no value or parameter is required)\n",
    "  - __option__ (optional value with 2 possible values: _SOME (type)_ and _NONE_)\n",
    "  - __list__ (a list of ordered values of the same type)\n",
    "  - __set__ (a list of unordered unique values of the same type)\n",
    "  - __map__ (a list of key/value pairs)\n",
    "  - __big_map__ (a lazily deserialized list of key/value pairs, used for large amounts of data)\n",
    "- Domain specific data types:\n",
    "  - __timestamp__ (dates in ISO 8601 format)\n",
    "  - __mutez__ (Tezos tokens type)\n",
    "  - __address__ (Tezos addresses)\n",
    "  - __operation__ (internal operation emitted by a contract)\n",
    "  - __key__ (public cryptographic key)"
   ]
  },
  {
   "cell_type": "markdown",
   "metadata": {},
   "source": [
    "Some of these types are called [__comparable types__](https://tezos.gitlab.io/whitedoc/michelson.html#full-grammar) which means that the comparison of two values of these types will yield an _integer_ that you can then use to know if they are equal or if one is lower or higher than the other.  \n",
    "For example, *int*, *nat*, *string*, *bytes*, *mutez*, *bool*, *timestamp* and *address* are all comparable types."
   ]
  },
  {
   "cell_type": "code",
   "execution_count": null,
   "metadata": {},
   "outputs": [],
   "source": []
  }
 ],
 "metadata": {
  "kernelspec": {
   "display_name": "Michelson",
   "language": "michelson",
   "name": "michelson"
  },
  "language_info": {
   "codemirror_mode": "michelson",
   "file_extension": ".tz",
   "mimetype": "text/x-michelson",
   "name": "Michelson"
  }
 },
 "nbformat": 4,
 "nbformat_minor": 4
}

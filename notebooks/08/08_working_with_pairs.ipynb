{
 "cells": [
  {
   "cell_type": "markdown",
   "metadata": {},
   "source": [
    "# Chapter 8\n",
    "\n",
    "Pairs are probably one of the most important type in your Michelson tool belt. Every contract starts with a pair, every contract ends with a pair. They are a fundamental component of Michelson contracts. A pair is the smallest type of value you can use to store multiple values: it can hold two values of different types. You can also *nest* pairs: a pair can consist of a simple value and another pair or even two other pairs! This model allows nesting multiple pairs one into the other, like Russian dolls.\n",
    "\n",
    "Along the previous lessons, we encountered a couple of instruction that act on pairs, namely **`CAR`** and **`CDR`**. If you remember, these two opcodes extract the left side and the right side of the pair, respectively. There is also **`PAIR`** that creates a new pair with two provided values. But that's just the tip of the iceberg! There are other instructions you can use to create or manipulate pairs. By the end of this chapter, pairs will have no secret for you!\n",
    "\n",
    "## Overview of the pair type\n",
    "\n",
    "A pair is fundamentally a value that holds two other values. These two values can be of any type. In the documentation, you will find pair type written this way: `(pair type1 type2)`. The value of the pair is written this way: `(Pair value1 value2)`. Every smart contract written in Michelson starts and ends with a pair:"
   ]
  },
  {
   "cell_type": "code",
   "execution_count": 1,
   "metadata": {},
   "outputs": [
    {
     "name": "stdout",
     "output_type": "stream",
     "text": [
      "storage (pair int int);\n",
      "parameter unit;\n",
      "code { DROP ; PUSH int 6 ; PUSH int 7 ; PAIR ; NIL operation ; PAIR };\n",
      "RUN: use %default; drop all; push (Unit, (0, 0));\n",
      "DROP: pop (Unit, (0, 0));\n",
      "PUSH: push 6;\n",
      "PUSH: push 7;\n",
      "PAIR: pop 7, 6; push (7, 6);\n",
      "NIL: push [];\n",
      "PAIR: pop [], (7, 6); push ([], (7, 6));"
     ]
    },
    {
     "data": {
      "text/html": [
       "<table>\n",
       "<thead>\n",
       "<tr><th>value                                        </th><th>type                                             </th></tr>\n",
       "</thead>\n",
       "<tbody>\n",
       "<tr><td><pre style=&quot;text-align: left;&quot;>Pair 7 6</pre></td><td><pre style=&quot;text-align: left;&quot;>pair int int</pre></td></tr>\n",
       "</tbody>\n",
       "</table>"
      ],
      "text/plain": [
       "value     type\n",
       "--------  ------------\n",
       "Pair 7 6  pair int int"
      ]
     },
     "execution_count": 1,
     "metadata": {},
     "output_type": "execute_result"
    }
   ],
   "source": [
    "storage (pair int int) ;\n",
    "parameter unit ;\n",
    "code {\n",
    "    DROP ;\n",
    "    PUSH int 6 ;\n",
    "    PUSH int 7 ;\n",
    "    PAIR ;\n",
    "    NIL operation ;\n",
    "    PAIR ;\n",
    "} ;\n",
    "\n",
    "RUN %default Unit (Pair 0 0) ;"
   ]
  },
  {
   "cell_type": "markdown",
   "metadata": {},
   "source": [
    "You can choose the types you want in a pair, even other pairs:"
   ]
  },
  {
   "cell_type": "code",
   "execution_count": 2,
   "metadata": {},
   "outputs": [
    {
     "name": "stdout",
     "output_type": "stream",
     "text": [
      "storage unit;\n",
      "parameter unit;\n",
      "BEGIN: use %default; drop all; push (Unit, Unit);\n",
      "DROP: pop (Unit, Unit);\n",
      "PUSH: push 5;\n",
      "PUSH: push hello;\n",
      "PAIR: pop hello, 5; push ('hello', 5);\n",
      "PUSH: push 5000;\n",
      "NOW: push 1593416783;\n",
      "PAIR: pop 1593416783, 5000; push (1593416783, 5000);\n",
      "PUSH: push (3, 'hello');\n",
      "PUSH: push (5, 45678);\n",
      "PAIR: pop (5, 45678), (3, 'hello'); push ((5, 45678), (3, 'hello'));"
     ]
    },
    {
     "data": {
      "text/html": [
       "<table>\n",
       "<thead>\n",
       "<tr><th>value                                                                    </th><th>type                                                                        </th><th>name                                             </th></tr>\n",
       "</thead>\n",
       "<tbody>\n",
       "<tr><td><pre style=&quot;text-align: left;&quot;>Pair (Pair 5 45678) (Pair 3 &quot;hello&quot;)</pre></td><td><pre style=&quot;text-align: left;&quot;>pair (pair nat mutez) (pair int string)</pre></td><td><pre style=&quot;text-align: left;&quot;>@third_pair</pre> </td></tr>\n",
       "<tr><td><pre style=&quot;text-align: left;&quot;>Pair 1593416783 5000</pre>                </td><td><pre style=&quot;text-align: left;&quot;>pair timestamp mutez</pre>                   </td><td><pre style=&quot;text-align: left;&quot;>@second_pair</pre></td></tr>\n",
       "<tr><td><pre style=&quot;text-align: left;&quot;>Pair &quot;hello&quot; 5</pre>                      </td><td><pre style=&quot;text-align: left;&quot;>pair string nat</pre>                        </td><td><pre style=&quot;text-align: left;&quot;>@first_pair</pre> </td></tr>\n",
       "</tbody>\n",
       "</table>"
      ],
      "text/plain": [
       "value                                 type                                     name\n",
       "------------------------------------  ---------------------------------------  ------------\n",
       "Pair (Pair 5 45678) (Pair 3 \"hello\")  pair (pair nat mutez) (pair int string)  @third_pair\n",
       "Pair 1593416783 5000                  pair timestamp mutez                     @second_pair\n",
       "Pair \"hello\" 5                        pair string nat                          @first_pair"
      ]
     },
     "execution_count": 2,
     "metadata": {},
     "output_type": "execute_result"
    }
   ],
   "source": [
    "storage unit ;\n",
    "parameter unit ;\n",
    "BEGIN Unit Unit ;\n",
    "DROP ;\n",
    "PUSH nat 5 ;\n",
    "PUSH string \"hello\" ;\n",
    "PAIR @first_pair ;\n",
    "PUSH mutez 5000 ;\n",
    "NOW ;\n",
    "PAIR @second_pair ;\n",
    "PUSH (pair int string) (Pair 3 \"hello\") ;\n",
    "PUSH (pair nat mutez) (Pair 5 45678) ;\n",
    "PAIR @third_pair ;\n",
    "DUMP ;"
   ]
  },
  {
   "cell_type": "markdown",
   "metadata": {},
   "source": [
    "## Operations on pairs"
   ]
  },
  {
   "cell_type": "markdown",
   "metadata": {},
   "source": [
    "A few instructions are available on pairs. The first one is an operation we have already been using since the beginning: **`PAIR`**. **`PAIR`** allows you to take the two elements on top of the stack and put them in a `pair`. It goes without saying that **`PAIR`** only works if there are currently two elements on top of the stack. Unlike `list`, you don't have to specify the type of the two elements, the first element will be on the left side of the pair and the second element on the right side. The instruction was illustrated above.\n",
    "\n",
    "Next come two other instructions that we have also been using for a while: **`CAR`** and **`CDR`**. If you remember, **`CAR`** extracts the left side of a pair while **`CDR`** extracts the right side:"
   ]
  },
  {
   "cell_type": "code",
   "execution_count": 4,
   "metadata": {},
   "outputs": [
    {
     "name": "stdout",
     "output_type": "stream",
     "text": [
      "DROP_ALL: drop all;\n",
      "PUSH: push (5, 'tezos');\n",
      "DUP: push (5, 'tezos');\n",
      "CAR: pop (5, 'tezos'); push 5;\n",
      "SWAP: pop 5, (5, 'tezos'); push 5; push (5, 'tezos');\n",
      "CDR: pop (5, 'tezos'); push tezos;"
     ]
    },
    {
     "data": {
      "text/html": [
       "<table>\n",
       "<thead>\n",
       "<tr><th>value                                       </th><th>type                                       </th><th>name                                            </th></tr>\n",
       "</thead>\n",
       "<tbody>\n",
       "<tr><td><pre style=&quot;text-align: left;&quot;>&quot;tezos&quot;</pre></td><td><pre style=&quot;text-align: left;&quot;>string</pre></td><td><pre style=&quot;text-align: left;&quot;>@right_side</pre></td></tr>\n",
       "<tr><td><pre style=&quot;text-align: left;&quot;>5</pre>      </td><td><pre style=&quot;text-align: left;&quot;>nat</pre>   </td><td><pre style=&quot;text-align: left;&quot;>@left_side</pre> </td></tr>\n",
       "</tbody>\n",
       "</table>"
      ],
      "text/plain": [
       "value    type    name\n",
       "-------  ------  -----------\n",
       "\"tezos\"  string  @right_side\n",
       "5        nat     @left_side"
      ]
     },
     "execution_count": 4,
     "metadata": {},
     "output_type": "execute_result"
    }
   ],
   "source": [
    "DROP_ALL ;\n",
    "PUSH (pair nat string) (Pair 5 \"tezos\") ;\n",
    "DUP ;\n",
    "CAR @left_side ;\n",
    "SWAP ;\n",
    "CDR @right_side ;\n",
    "DUMP ;"
   ]
  },
  {
   "cell_type": "markdown",
   "metadata": {},
   "source": [
    "You should be familiar with their functioning now.  \n",
    "It is possible to \"combine\" these two instructions when working with nested pairs (i.e pairs inside pairs). If you have ever checked Michelson contracts, you probably noticed that nested pairs are pretty common. Let's observe the snippet below:"
   ]
  },
  {
   "cell_type": "code",
   "execution_count": 7,
   "metadata": {},
   "outputs": [
    {
     "name": "stdout",
     "output_type": "stream",
     "text": [
      "DROP_ALL: drop all;\n",
      "PUSH: push ((5, 6), ('hello', 'world'));\n",
      "CAR: pop ((5, 6), ('hello', 'world')); push (5, 6);\n",
      "CDR: pop (5, 6); push 6;"
     ]
    },
    {
     "data": {
      "text/html": [
       "<table>\n",
       "<thead>\n",
       "<tr><th>value                                 </th><th>type                                    </th></tr>\n",
       "</thead>\n",
       "<tbody>\n",
       "<tr><td><pre style=&quot;text-align: left;&quot;>6</pre></td><td><pre style=&quot;text-align: left;&quot;>nat</pre></td></tr>\n",
       "</tbody>\n",
       "</table>"
      ],
      "text/plain": [
       "  value  type\n",
       "-------  ------\n",
       "      6  nat"
      ]
     },
     "execution_count": 7,
     "metadata": {},
     "output_type": "execute_result"
    }
   ],
   "source": [
    "DROP_ALL ;\n",
    "PUSH (pair (pair nat nat) (pair string string)) (Pair (Pair 5 6) (Pair \"hello\" \"world\")) ;\n",
    "CADR ;\n",
    "DUMP ;"
   ]
  },
  {
   "cell_type": "markdown",
   "metadata": {},
   "source": [
    "This is one long instruction! It created nested pairs: a root pair that contains two other pairs: on the left side, a pair with a `nat` on the left and a `nat` on the right, on the right side, a pair with a `string` on the left and a `string` on the right. As you can see from the result, the **`CADR`** instruction is equal to **`CAR ; CDR ;`**, i.e it will extract the pair on the left side of a pair and then extract the right side of the nested pair. If you want to extract the left side of the nested pair, you can use **`CAAR`**:"
   ]
  },
  {
   "cell_type": "code",
   "execution_count": 8,
   "metadata": {},
   "outputs": [
    {
     "name": "stdout",
     "output_type": "stream",
     "text": [
      "DROP_ALL: drop all;\n",
      "PUSH: push ((5, 6), ('hello', 'world'));\n",
      "CAR: pop ((5, 6), ('hello', 'world')); push (5, 6);\n",
      "CAR: pop (5, 6); push 5;"
     ]
    },
    {
     "data": {
      "text/html": [
       "<table>\n",
       "<thead>\n",
       "<tr><th>value                                 </th><th>type                                    </th></tr>\n",
       "</thead>\n",
       "<tbody>\n",
       "<tr><td><pre style=&quot;text-align: left;&quot;>5</pre></td><td><pre style=&quot;text-align: left;&quot;>nat</pre></td></tr>\n",
       "</tbody>\n",
       "</table>"
      ],
      "text/plain": [
       "  value  type\n",
       "-------  ------\n",
       "      5  nat"
      ]
     },
     "execution_count": 8,
     "metadata": {},
     "output_type": "execute_result"
    }
   ],
   "source": [
    "DROP_ALL ;\n",
    "PUSH (pair (pair nat nat) (pair string string)) (Pair (Pair 5 6) (Pair \"hello\" \"world\")) ;\n",
    "CAAR ;\n",
    "DUMP ;"
   ]
  },
  {
   "cell_type": "markdown",
   "metadata": {},
   "source": [
    "To work on the right side of the root pair, you can use **`CDAR`** (to extract its left side) or **`CDDR`** (to extract its right side):"
   ]
  },
  {
   "cell_type": "code",
   "execution_count": 9,
   "metadata": {},
   "outputs": [
    {
     "name": "stdout",
     "output_type": "stream",
     "text": [
      "DROP_ALL: drop all;\n",
      "PUSH: push ((5, 6), ('hello', 'world'));\n",
      "DUP: push ((5, 6), ('hello', 'world'));\n",
      "CDR: pop ((5, 6), ('hello', 'world')); push ('hello', 'world');\n",
      "CAR: pop ('hello', 'world'); push hello;\n",
      "SWAP: pop hello, ((5, 6), ('hello', 'world')); push hello; push ((5, 6), ('hello', 'world'));\n",
      "CDR: pop ((5, 6), ('hello', 'world')); push ('hello', 'world');\n",
      "CDR: pop ('hello', 'world'); push world;"
     ]
    },
    {
     "data": {
      "text/html": [
       "<table>\n",
       "<thead>\n",
       "<tr><th>value                                       </th><th>type                                       </th></tr>\n",
       "</thead>\n",
       "<tbody>\n",
       "<tr><td><pre style=&quot;text-align: left;&quot;>&quot;world&quot;</pre></td><td><pre style=&quot;text-align: left;&quot;>string</pre></td></tr>\n",
       "<tr><td><pre style=&quot;text-align: left;&quot;>&quot;hello&quot;</pre></td><td><pre style=&quot;text-align: left;&quot;>string</pre></td></tr>\n",
       "</tbody>\n",
       "</table>"
      ],
      "text/plain": [
       "value    type\n",
       "-------  ------\n",
       "\"world\"  string\n",
       "\"hello\"  string"
      ]
     },
     "execution_count": 9,
     "metadata": {},
     "output_type": "execute_result"
    }
   ],
   "source": [
    "DROP_ALL ;\n",
    "PUSH (pair (pair nat nat) (pair string string)) (Pair (Pair 5 6) (Pair \"hello\" \"world\")) ;\n",
    "DUP;\n",
    "CDAR ;\n",
    "SWAP ;\n",
    "CDDR ;\n",
    "DUMP ;"
   ]
  },
  {
   "cell_type": "markdown",
   "metadata": {},
   "source": [
    "We can go even further and imagine a three-level nested pair. According to the level you are trying to reach, you can put more **A**s or more **D**s between **C** and **R** to access the value you want:"
   ]
  },
  {
   "cell_type": "code",
   "execution_count": 10,
   "metadata": {},
   "outputs": [
    {
     "name": "stdout",
     "output_type": "stream",
     "text": [
      "DROP_ALL: drop all;\n",
      "PUSH: push ((5, 6), (10, ('hello', 'world')));\n",
      "CDR: pop ((5, 6), (10, ('hello', 'world'))); push (10, ('hello', 'world'));\n",
      "CDR: pop (10, ('hello', 'world')); push ('hello', 'world');\n",
      "CDR: pop ('hello', 'world'); push world;"
     ]
    },
    {
     "data": {
      "text/html": [
       "<table>\n",
       "<thead>\n",
       "<tr><th>value                                       </th><th>type                                       </th></tr>\n",
       "</thead>\n",
       "<tbody>\n",
       "<tr><td><pre style=&quot;text-align: left;&quot;>&quot;world&quot;</pre></td><td><pre style=&quot;text-align: left;&quot;>string</pre></td></tr>\n",
       "</tbody>\n",
       "</table>"
      ],
      "text/plain": [
       "value    type\n",
       "-------  ------\n",
       "\"world\"  string"
      ]
     },
     "execution_count": 10,
     "metadata": {},
     "output_type": "execute_result"
    }
   ],
   "source": [
    "DROP_ALL ;\n",
    "PUSH (pair (pair nat nat) (pair int (pair string string))) (Pair (Pair 5 6) (Pair 10 (Pair \"hello\" \"world\"))) ;\n",
    "CDDDR ;\n",
    "DUMP ;"
   ]
  },
  {
   "cell_type": "markdown",
   "metadata": {},
   "source": []
  }
 ],
 "metadata": {
  "kernelspec": {
   "display_name": "Michelson",
   "language": "michelson",
   "name": "michelson"
  },
  "language_info": {
   "codemirror_mode": "michelson",
   "file_extension": ".tz",
   "mimetype": "text/x-michelson",
   "name": "Michelson"
  }
 },
 "nbformat": 4,
 "nbformat_minor": 4
}

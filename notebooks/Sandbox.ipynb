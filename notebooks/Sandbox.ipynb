{
 "cells": [
  {
   "cell_type": "markdown",
   "metadata": {},
   "source": [
    "### This is only used to test code before adding it to the tutorials"
   ]
  },
  {
   "cell_type": "code",
   "execution_count": 7,
   "metadata": {},
   "outputs": [
    {
     "name": "stdout",
     "output_type": "stream",
     "text": [
      "storage unit;\n",
      "parameter unit;"
     ]
    }
   ],
   "source": [
    "storage unit ;\n",
    "parameter unit ;"
   ]
  },
  {
   "cell_type": "code",
   "execution_count": 8,
   "metadata": {},
   "outputs": [
    {
     "data": {
      "text/html": [
       "<table>\n",
       "<thead>\n",
       "<tr><th>value                                              </th><th>type                                               </th></tr>\n",
       "</thead>\n",
       "<tbody>\n",
       "<tr><td><pre style=&quot;text-align: left;&quot;>Pair Unit Unit</pre></td><td><pre style=&quot;text-align: left;&quot;>pair unit unit</pre></td></tr>\n",
       "</tbody>\n",
       "</table>"
      ],
      "text/plain": [
       "value           type\n",
       "--------------  --------------\n",
       "Pair Unit Unit  pair unit unit"
      ]
     },
     "execution_count": 8,
     "metadata": {},
     "output_type": "execute_result"
    }
   ],
   "source": [
    "BEGIN Unit Unit ;"
   ]
  },
  {
   "cell_type": "code",
   "execution_count": 17,
   "metadata": {},
   "outputs": [
    {
     "name": "stdout",
     "output_type": "stream",
     "text": [
      "DROP_ALL: drop all;\n",
      "PUSH: push 4;\n",
      "PUSH: push 9;\n",
      "EDIV: pop 9, 4; push ((2, 1),);\n",
      "IF_NONE: pop ((2, 1),); push (2, 1);\n",
      "  DUP: push (2, 1);\n",
      "  CAR: pop (2, 1); push 2;\n",
      "  SWAP: pop 2, (2, 1); push 2; push (2, 1);\n",
      "  CDR: pop (2, 1); push 1;"
     ]
    },
    {
     "data": {
      "text/html": [
       "<table>\n",
       "<thead>\n",
       "<tr><th>value                                 </th><th>type                                    </th><th>name                                           </th></tr>\n",
       "</thead>\n",
       "<tbody>\n",
       "<tr><td><pre style=&quot;text-align: left;&quot;>1</pre></td><td><pre style=&quot;text-align: left;&quot;>nat</pre></td><td><pre style=&quot;text-align: left;&quot;>@remainder</pre></td></tr>\n",
       "</tbody>\n",
       "</table>"
      ],
      "text/plain": [
       "  value  type    name\n",
       "-------  ------  ----------\n",
       "      1  nat     @remainder"
      ]
     },
     "execution_count": 17,
     "metadata": {},
     "output_type": "execute_result"
    }
   ],
   "source": [
    "DROP ;\n",
    "PUSH int 4 ;\n",
    "PUSH int 9 ;\n",
    "EDIV ;\n",
    "IF_NONE\n",
    "    { FAIL }\n",
    "    { \n",
    "        DUP ;\n",
    "        CAR @quotient ;\n",
    "        SWAP ;\n",
    "        CDR @remainder ;\n",
    "    }"
   ]
  },
  {
   "cell_type": "code",
   "execution_count": 18,
   "metadata": {},
   "outputs": [
    {
     "data": {
      "text/html": [
       "<table>\n",
       "<thead>\n",
       "<tr><th>value                                 </th><th>type                                    </th><th>name                                           </th></tr>\n",
       "</thead>\n",
       "<tbody>\n",
       "<tr><td><pre style=&quot;text-align: left;&quot;>1</pre></td><td><pre style=&quot;text-align: left;&quot;>nat</pre></td><td><pre style=&quot;text-align: left;&quot;>@remainder</pre></td></tr>\n",
       "<tr><td><pre style=&quot;text-align: left;&quot;>2</pre></td><td><pre style=&quot;text-align: left;&quot;>int</pre></td><td><pre style=&quot;text-align: left;&quot;>@quotient</pre> </td></tr>\n",
       "</tbody>\n",
       "</table>"
      ],
      "text/plain": [
       "  value  type    name\n",
       "-------  ------  ----------\n",
       "      1  nat     @remainder\n",
       "      2  int     @quotient"
      ]
     },
     "execution_count": 18,
     "metadata": {},
     "output_type": "execute_result"
    }
   ],
   "source": [
    "DUMP ;"
   ]
  },
  {
   "cell_type": "markdown",
   "metadata": {},
   "source": [
    "----------------------------"
   ]
  },
  {
   "cell_type": "code",
   "execution_count": 17,
   "metadata": {},
   "outputs": [
    {
     "name": "stdout",
     "output_type": "stream",
     "text": [
      "storage mutez;\n",
      "parameter unit;\n",
      "BEGIN: use %default; drop all; push (Unit, 1000);\n",
      "PATCH: set AMOUNT=10000000;\n",
      "PATCH: set BALANCE=25700000;"
     ]
    }
   ],
   "source": [
    "storage mutez ;\n",
    "parameter unit ;\n",
    "BEGIN Unit 1000 ;\n",
    "PATCH AMOUNT 10000000 ;\n",
    "PATCH BALANCE 25700000 ;"
   ]
  },
  {
   "cell_type": "code",
   "execution_count": 18,
   "metadata": {},
   "outputs": [
    {
     "name": "stdout",
     "output_type": "stream",
     "text": [
      "DROP: pop (Unit, 1000);\n",
      "AMOUNT: push 10000000;\n",
      "BALANCE: push 25700000;\n",
      "ADD: pop 25700000, 10000000; push 35700000;\n",
      "DUP: push 35700000;\n",
      "PUSH: push 100000000;"
     ]
    },
    {
     "data": {
      "text/html": [
       "<table>\n",
       "<thead>\n",
       "<tr><th>value                                         </th><th>type                                      </th><th>name                                             </th></tr>\n",
       "</thead>\n",
       "<tbody>\n",
       "<tr><td><pre style=&quot;text-align: left;&quot;>100000000</pre></td><td><pre style=&quot;text-align: left;&quot;>mutez</pre></td><td><pre style=&quot;text-align: left;&quot;>@limit</pre>      </td></tr>\n",
       "<tr><td><pre style=&quot;text-align: left;&quot;>35700000</pre> </td><td><pre style=&quot;text-align: left;&quot;>mutez</pre></td><td><pre style=&quot;text-align: left;&quot;>@new_balance</pre></td></tr>\n",
       "<tr><td><pre style=&quot;text-align: left;&quot;>35700000</pre> </td><td><pre style=&quot;text-align: left;&quot;>mutez</pre></td><td>                                                 </td></tr>\n",
       "</tbody>\n",
       "</table>"
      ],
      "text/plain": [
       "    value  type    name\n",
       "---------  ------  ------------\n",
       "100000000  mutez   @limit\n",
       " 35700000  mutez   @new_balance\n",
       " 35700000  mutez"
      ]
     },
     "execution_count": 18,
     "metadata": {},
     "output_type": "execute_result"
    }
   ],
   "source": [
    "DROP ;\n",
    "AMOUNT ;\n",
    "BALANCE ;\n",
    "ADD ;\n",
    "DUP @new_balance ;\n",
    "PUSH @limit mutez 100000000 ; # 100 tez\n",
    "DUMP ;"
   ]
  },
  {
   "cell_type": "code",
   "execution_count": 19,
   "metadata": {},
   "outputs": [
    {
     "name": "stdout",
     "output_type": "stream",
     "text": [
      "COMPARE: pop 100000000, 35700000; push 1;\n",
      "GT: pop 1; push True;\n",
      "IF: pop True;\n",
      "  NIL: push [];\n",
      "  PAIR: pop [], 35700000; push ([], 35700000);"
     ]
    },
    {
     "data": {
      "text/html": [
       "<table>\n",
       "<thead>\n",
       "<tr><th>value                                                </th><th>type                                                            </th></tr>\n",
       "</thead>\n",
       "<tbody>\n",
       "<tr><td><pre style=&quot;text-align: left;&quot;>Pair {} 35700000</pre></td><td><pre style=&quot;text-align: left;&quot;>pair (list operation) mutez</pre></td></tr>\n",
       "</tbody>\n",
       "</table>"
      ],
      "text/plain": [
       "value             type\n",
       "----------------  ---------------------------\n",
       "Pair {} 35700000  pair (list operation) mutez"
      ]
     },
     "execution_count": 19,
     "metadata": {},
     "output_type": "execute_result"
    }
   ],
   "source": [
    "IFCMPGT\n",
    "    { NIL operation ; PAIR }\n",
    "    { PUSH string \"BalanceExceeded\" ; FAILWITH }"
   ]
  },
  {
   "cell_type": "code",
   "execution_count": 20,
   "metadata": {},
   "outputs": [
    {
     "data": {
      "text/html": [
       "<table>\n",
       "<thead>\n",
       "<tr><th>value                                        </th><th>type                                      </th></tr>\n",
       "</thead>\n",
       "<tbody>\n",
       "<tr><td><pre style=&quot;text-align: left;&quot;>35700000</pre></td><td><pre style=&quot;text-align: left;&quot;>mutez</pre></td></tr>\n",
       "</tbody>\n",
       "</table>"
      ],
      "text/plain": [
       "   value  type\n",
       "--------  ------\n",
       "35700000  mutez"
      ]
     },
     "execution_count": 20,
     "metadata": {},
     "output_type": "execute_result"
    }
   ],
   "source": [
    "COMMIT"
   ]
  },
  {
   "cell_type": "code",
   "execution_count": null,
   "metadata": {},
   "outputs": [],
   "source": []
  }
 ],
 "metadata": {
  "kernelspec": {
   "display_name": "Michelson",
   "language": "michelson",
   "name": "michelson"
  },
  "language_info": {
   "codemirror_mode": "michelson",
   "file_extension": ".tz",
   "mimetype": "text/x-michelson",
   "name": "Michelson"
  }
 },
 "nbformat": 4,
 "nbformat_minor": 4
}

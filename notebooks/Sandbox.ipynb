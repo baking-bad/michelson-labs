{
 "cells": [
  {
   "cell_type": "markdown",
   "metadata": {},
   "source": [
    "### This is only used to test code before adding it to the tutorials"
   ]
  },
  {
   "cell_type": "code",
   "execution_count": 7,
   "metadata": {},
   "outputs": [
    {
     "name": "stdout",
     "output_type": "stream",
     "text": [
      "storage unit;\n",
      "parameter unit;"
     ]
    }
   ],
   "source": [
    "storage unit ;\n",
    "parameter unit ;"
   ]
  },
  {
   "cell_type": "code",
   "execution_count": 8,
   "metadata": {},
   "outputs": [
    {
     "data": {
      "text/html": [
       "<table>\n",
       "<thead>\n",
       "<tr><th>value                                              </th><th>type                                               </th></tr>\n",
       "</thead>\n",
       "<tbody>\n",
       "<tr><td><pre style=&quot;text-align: left;&quot;>Pair Unit Unit</pre></td><td><pre style=&quot;text-align: left;&quot;>pair unit unit</pre></td></tr>\n",
       "</tbody>\n",
       "</table>"
      ],
      "text/plain": [
       "value           type\n",
       "--------------  --------------\n",
       "Pair Unit Unit  pair unit unit"
      ]
     },
     "execution_count": 8,
     "metadata": {},
     "output_type": "execute_result"
    }
   ],
   "source": [
    "BEGIN Unit Unit ;"
   ]
  },
  {
   "cell_type": "code",
   "execution_count": 17,
   "metadata": {},
   "outputs": [
    {
     "name": "stdout",
     "output_type": "stream",
     "text": [
      "DROP_ALL: drop all;\n",
      "PUSH: push 4;\n",
      "PUSH: push 9;\n",
      "EDIV: pop 9, 4; push ((2, 1),);\n",
      "IF_NONE: pop ((2, 1),); push (2, 1);\n",
      "  DUP: push (2, 1);\n",
      "  CAR: pop (2, 1); push 2;\n",
      "  SWAP: pop 2, (2, 1); push 2; push (2, 1);\n",
      "  CDR: pop (2, 1); push 1;"
     ]
    },
    {
     "data": {
      "text/html": [
       "<table>\n",
       "<thead>\n",
       "<tr><th>value                                 </th><th>type                                    </th><th>name                                           </th></tr>\n",
       "</thead>\n",
       "<tbody>\n",
       "<tr><td><pre style=&quot;text-align: left;&quot;>1</pre></td><td><pre style=&quot;text-align: left;&quot;>nat</pre></td><td><pre style=&quot;text-align: left;&quot;>@remainder</pre></td></tr>\n",
       "</tbody>\n",
       "</table>"
      ],
      "text/plain": [
       "  value  type    name\n",
       "-------  ------  ----------\n",
       "      1  nat     @remainder"
      ]
     },
     "execution_count": 17,
     "metadata": {},
     "output_type": "execute_result"
    }
   ],
   "source": [
    "DROP ;\n",
    "PUSH int 4 ;\n",
    "PUSH int 9 ;\n",
    "EDIV ;\n",
    "IF_NONE\n",
    "    { FAIL }\n",
    "    { \n",
    "        DUP ;\n",
    "        CAR @quotient ;\n",
    "        SWAP ;\n",
    "        CDR @remainder ;\n",
    "    }"
   ]
  },
  {
   "cell_type": "code",
   "execution_count": 18,
   "metadata": {},
   "outputs": [
    {
     "data": {
      "text/html": [
       "<table>\n",
       "<thead>\n",
       "<tr><th>value                                 </th><th>type                                    </th><th>name                                           </th></tr>\n",
       "</thead>\n",
       "<tbody>\n",
       "<tr><td><pre style=&quot;text-align: left;&quot;>1</pre></td><td><pre style=&quot;text-align: left;&quot;>nat</pre></td><td><pre style=&quot;text-align: left;&quot;>@remainder</pre></td></tr>\n",
       "<tr><td><pre style=&quot;text-align: left;&quot;>2</pre></td><td><pre style=&quot;text-align: left;&quot;>int</pre></td><td><pre style=&quot;text-align: left;&quot;>@quotient</pre> </td></tr>\n",
       "</tbody>\n",
       "</table>"
      ],
      "text/plain": [
       "  value  type    name\n",
       "-------  ------  ----------\n",
       "      1  nat     @remainder\n",
       "      2  int     @quotient"
      ]
     },
     "execution_count": 18,
     "metadata": {},
     "output_type": "execute_result"
    }
   ],
   "source": [
    "DUMP ;"
   ]
  },
  {
   "cell_type": "markdown",
   "metadata": {},
   "source": [
    "----------------------------"
   ]
  },
  {
   "cell_type": "code",
   "execution_count": 17,
   "metadata": {},
   "outputs": [
    {
     "name": "stdout",
     "output_type": "stream",
     "text": [
      "storage mutez;\n",
      "parameter unit;\n",
      "BEGIN: use %default; drop all; push (Unit, 1000);\n",
      "PATCH: set AMOUNT=10000000;\n",
      "PATCH: set BALANCE=25700000;"
     ]
    }
   ],
   "source": [
    "storage mutez ;\n",
    "parameter unit ;\n",
    "BEGIN Unit 1000 ;\n",
    "PATCH AMOUNT 10000000 ;\n",
    "PATCH BALANCE 25700000 ;"
   ]
  },
  {
   "cell_type": "code",
   "execution_count": 18,
   "metadata": {},
   "outputs": [
    {
     "name": "stdout",
     "output_type": "stream",
     "text": [
      "DROP: pop (Unit, 1000);\n",
      "AMOUNT: push 10000000;\n",
      "BALANCE: push 25700000;\n",
      "ADD: pop 25700000, 10000000; push 35700000;\n",
      "DUP: push 35700000;\n",
      "PUSH: push 100000000;"
     ]
    },
    {
     "data": {
      "text/html": [
       "<table>\n",
       "<thead>\n",
       "<tr><th>value                                         </th><th>type                                      </th><th>name                                             </th></tr>\n",
       "</thead>\n",
       "<tbody>\n",
       "<tr><td><pre style=&quot;text-align: left;&quot;>100000000</pre></td><td><pre style=&quot;text-align: left;&quot;>mutez</pre></td><td><pre style=&quot;text-align: left;&quot;>@limit</pre>      </td></tr>\n",
       "<tr><td><pre style=&quot;text-align: left;&quot;>35700000</pre> </td><td><pre style=&quot;text-align: left;&quot;>mutez</pre></td><td><pre style=&quot;text-align: left;&quot;>@new_balance</pre></td></tr>\n",
       "<tr><td><pre style=&quot;text-align: left;&quot;>35700000</pre> </td><td><pre style=&quot;text-align: left;&quot;>mutez</pre></td><td>                                                 </td></tr>\n",
       "</tbody>\n",
       "</table>"
      ],
      "text/plain": [
       "    value  type    name\n",
       "---------  ------  ------------\n",
       "100000000  mutez   @limit\n",
       " 35700000  mutez   @new_balance\n",
       " 35700000  mutez"
      ]
     },
     "execution_count": 18,
     "metadata": {},
     "output_type": "execute_result"
    }
   ],
   "source": [
    "DROP ;\n",
    "AMOUNT ;\n",
    "BALANCE ;\n",
    "ADD ;\n",
    "DUP @new_balance ;\n",
    "PUSH @limit mutez 100000000 ; # 100 tez\n",
    "DUMP ;"
   ]
  },
  {
   "cell_type": "code",
   "execution_count": 19,
   "metadata": {},
   "outputs": [
    {
     "name": "stdout",
     "output_type": "stream",
     "text": [
      "COMPARE: pop 100000000, 35700000; push 1;\n",
      "GT: pop 1; push True;\n",
      "IF: pop True;\n",
      "  NIL: push [];\n",
      "  PAIR: pop [], 35700000; push ([], 35700000);"
     ]
    },
    {
     "data": {
      "text/html": [
       "<table>\n",
       "<thead>\n",
       "<tr><th>value                                                </th><th>type                                                            </th></tr>\n",
       "</thead>\n",
       "<tbody>\n",
       "<tr><td><pre style=&quot;text-align: left;&quot;>Pair {} 35700000</pre></td><td><pre style=&quot;text-align: left;&quot;>pair (list operation) mutez</pre></td></tr>\n",
       "</tbody>\n",
       "</table>"
      ],
      "text/plain": [
       "value             type\n",
       "----------------  ---------------------------\n",
       "Pair {} 35700000  pair (list operation) mutez"
      ]
     },
     "execution_count": 19,
     "metadata": {},
     "output_type": "execute_result"
    }
   ],
   "source": [
    "IFCMPGT\n",
    "    { NIL operation ; PAIR }\n",
    "    { PUSH string \"BalanceExceeded\" ; FAILWITH }"
   ]
  },
  {
   "cell_type": "code",
   "execution_count": 20,
   "metadata": {},
   "outputs": [
    {
     "data": {
      "text/html": [
       "<table>\n",
       "<thead>\n",
       "<tr><th>value                                        </th><th>type                                      </th></tr>\n",
       "</thead>\n",
       "<tbody>\n",
       "<tr><td><pre style=&quot;text-align: left;&quot;>35700000</pre></td><td><pre style=&quot;text-align: left;&quot;>mutez</pre></td></tr>\n",
       "</tbody>\n",
       "</table>"
      ],
      "text/plain": [
       "   value  type\n",
       "--------  ------\n",
       "35700000  mutez"
      ]
     },
     "execution_count": 20,
     "metadata": {},
     "output_type": "execute_result"
    }
   ],
   "source": [
    "COMMIT"
   ]
  },
  {
   "cell_type": "code",
   "execution_count": 25,
   "metadata": {},
   "outputs": [
    {
     "name": "stdout",
     "output_type": "stream",
     "text": [
      "storage unit;\n",
      "parameter unit;\n",
      "code { DROP ; PATCH AMOUNT 5670000 ; AMOUNT ; PUSH mutez 0 ; { { COMPARE ; EQ } ; IF { { UNIT ; FAILWITH } } { PUSH address \"tz1VSUr8wwNhLAzempoch5d6hLRiTh8Cjcjb\" ; CONTRACT unit ; IF_NONE { { UNIT ; FAILWITH } } { AMOUNT ; UNIT ; TRANSFER_TOKENS ; NIL operation ; SWAP ; CONS ; UNIT ; SWAP ; PAIR } } } };\n",
      "RUN: use %default; drop all; push (Unit, Unit);\n",
      "DROP: pop (Unit, Unit);\n",
      "PATCH: set AMOUNT=5670000;\n",
      "AMOUNT: push 5670000;\n",
      "PUSH: push 0;\n",
      "COMPARE: pop 0, 5670000; push -1;\n",
      "EQ: pop -1; push False;\n",
      "IF: pop False;\n",
      "PUSH: push tz1VSUr8wwNhLAzempoch5d6hLRiTh8Cjcjb;\n",
      "CONTRACT: pop tz1VSUr8wwNhLAzempoch5d6hLRiTh8Cjcjb; skip check; push ('tz1VSUr8wwNhLAzempoch5d6hLRiTh8Cjcjb%default',);\n",
      "IF_NONE: pop ('tz1VSUr8wwNhLAzempoch5d6hLRiTh8Cjcjb%default',); push tz1VSUr8wwNhLAzempoch5d6hLRiTh8Cjcjb%default;\n",
      "AMOUNT: push 5670000;\n",
      "UNIT: push Unit;\n",
      "TRANSFER_TOKENS: pop Unit, 5670000, tz1VSUr8wwNhLAzempoch5d6hLRiTh8Cjcjb%default; set BALANCE=10030000; push <send 5670000 to tz1VSUr8wwNhLAzempoch5d6hLRiTh8Cjcjb>;\n",
      "NIL: push [];\n",
      "SWAP: pop [], <send 5670000 to tz1VSUr8wwNhLAzempoch5d6hLRiTh8Cjcjb>; push []; push <send 5670000 to tz1VSUr8wwNhLAzempoch5d6hLRiTh8Cjcjb>;\n",
      "CONS: pop <send 5670000 to tz1VSUr8wwNhLAzempoch5d6hLRiTh8Cjcjb>, []; push ['<send 5670000 to tz1VSUr8wwNhLAzempoch5d6hLRiTh8Cjcjb>'];\n",
      "UNIT: push Unit;\n",
      "SWAP: pop Unit, ['<send 5670000 to tz1VSUr8wwNhLAzempoch5d6hLRiTh8Cjcjb>']; push Unit; push ['<send 5670000 to tz1VSUr8wwNhLAzempoch5d6hLRiTh8Cjcjb>'];\n",
      "PAIR: pop ['<send 5670000 to tz1VSUr8wwNhLAzempoch5d6hLRiTh8Cjcjb>'], Unit; push (['<send 5670000 to tz1VSUr8wwNhLAzempoch5d6hLRiTh8Cjcjb>'], Unit);"
     ]
    },
    {
     "data": {
      "text/html": [
       "<table>\n",
       "<thead>\n",
       "<tr><th>value                                    </th><th>type                                     </th></tr>\n",
       "</thead>\n",
       "<tbody>\n",
       "<tr><td><pre style=&quot;text-align: left;&quot;>Unit</pre></td><td><pre style=&quot;text-align: left;&quot;>unit</pre></td></tr>\n",
       "</tbody>\n",
       "</table><br><table>\n",
       "<thead>\n",
       "<tr><th>kind                                            </th><th>target                                                                   </th><th>amount                                      </th><th>entrypoint                                  </th><th>parameters                               </th></tr>\n",
       "</thead>\n",
       "<tbody>\n",
       "<tr><td><pre style=&quot;text-align: left;&quot;>transaction</pre></td><td><pre style=&quot;text-align: left;&quot;>tz1VSUr8wwNhLAzempoch5d6hLRiTh8Cjcjb</pre></td><td><pre style=&quot;text-align: left;&quot;>5670000</pre></td><td><pre style=&quot;text-align: left;&quot;>default</pre></td><td><pre style=&quot;text-align: left;&quot;>Unit</pre></td></tr>\n",
       "</tbody>\n",
       "</table>"
      ],
      "text/plain": [
       "value    type\n",
       "-------  ------\n",
       "Unit     unit\n",
       "kind         target                                  amount  entrypoint    parameters\n",
       "-----------  ------------------------------------  --------  ------------  ------------\n",
       "transaction  tz1VSUr8wwNhLAzempoch5d6hLRiTh8Cjcjb   5670000  default       Unit"
      ]
     },
     "execution_count": 25,
     "metadata": {},
     "output_type": "execute_result"
    }
   ],
   "source": [
    "storage unit ;\n",
    "parameter unit ;\n",
    "code {\n",
    "    DROP ;\n",
    "    PATCH AMOUNT 5670000 ;\n",
    "    AMOUNT ;\n",
    "    PUSH mutez 0 ;\n",
    "    IFCMPEQ\n",
    "        { FAIL }\n",
    "        {\n",
    "            PUSH address \"tz1VSUr8wwNhLAzempoch5d6hLRiTh8Cjcjb\" ;\n",
    "            CONTRACT unit ;\n",
    "            IF_NONE\n",
    "                { FAIL }\n",
    "                {\n",
    "                    AMOUNT ;\n",
    "                    UNIT ;\n",
    "                    TRANSFER_TOKENS ;\n",
    "                    NIL operation ;\n",
    "                    SWAP ;\n",
    "                    CONS ;\n",
    "                    UNIT ;\n",
    "                    SWAP ;\n",
    "                    PAIR\n",
    "                }\n",
    "        }\n",
    "} ;\n",
    "\n",
    "RUN %default Unit Unit ;"
   ]
  },
  {
   "cell_type": "code",
   "execution_count": 30,
   "metadata": {},
   "outputs": [
    {
     "name": "stdout",
     "output_type": "stream",
     "text": [
      "storage address;\n",
      "parameter unit;\n",
      "code { PATCH BALANCE 101000000 ; PATCH AMOUNT 9000000 ; CDR ; PUSH mutez 100000000 ; BALANCE ; { { COMPARE ; LT } ; IF { PUSH string \"INSUFFICIENT_BALANCE\" ; FAILWITH } { PUSH mutez 0 ; AMOUNT ; { { COMPARE ; EQ } ; IF { PUSH string \"INSUFFICIENT_AMOUNT\" ; FAILWITH } { PUSH nat 2 ; AMOUNT ; EDIV ; IF_NONE { { UNIT ; FAILWITH } } { CAR ; DIP { DUP } ; SWAP ; CONTRACT unit ; IF_NONE { { UNIT ; FAILWITH } } { SWAP ; UNIT ; TRANSFER_TOKENS ; NIL operation ; SWAP ; CONS ; PAIR } } } } } } };\n",
      "RUN: use %default; drop all; push (Unit, 'tz1VSUr8wwNhLAzempoch5d6hLRiTh8Cjcjb');\n",
      "PATCH: set BALANCE=101000000;\n",
      "PATCH: set AMOUNT=9000000;\n",
      "CDR: pop (Unit, 'tz1VSUr8wwNhLAzempoch5d6hLRiTh8Cjcjb'); push tz1VSUr8wwNhLAzempoch5d6hLRiTh8Cjcjb;\n",
      "PUSH: push 100000000;\n",
      "BALANCE: push 101000000;\n",
      "COMPARE: pop 101000000, 100000000; push 1;\n",
      "LT: pop 1; push False;\n",
      "IF: pop False;\n",
      "PUSH: push 0;\n",
      "AMOUNT: push 9000000;\n",
      "COMPARE: pop 9000000, 0; push 1;\n",
      "EQ: pop 1; push False;\n",
      "IF: pop False;\n",
      "PUSH: push 2;\n",
      "AMOUNT: push 9000000;\n",
      "EDIV: pop 9000000, 2; push ((4500000, 0),);\n",
      "IF_NONE: pop ((4500000, 0),); push (4500000, 0);\n",
      "  CAR: pop (4500000, 0); push 4500000;\n",
      "  DIP: protect 1 item(s);\n",
      "    DUP: push tz1VSUr8wwNhLAzempoch5d6hLRiTh8Cjcjb;\n",
      "    restore 1 item(s);\n",
      "  SWAP: pop 4500000, tz1VSUr8wwNhLAzempoch5d6hLRiTh8Cjcjb; push 4500000; push tz1VSUr8wwNhLAzempoch5d6hLRiTh8Cjcjb;\n",
      "  CONTRACT: pop tz1VSUr8wwNhLAzempoch5d6hLRiTh8Cjcjb; skip check; push ('tz1VSUr8wwNhLAzempoch5d6hLRiTh8Cjcjb%default',);\n",
      "  IF_NONE: pop ('tz1VSUr8wwNhLAzempoch5d6hLRiTh8Cjcjb%default',); push tz1VSUr8wwNhLAzempoch5d6hLRiTh8Cjcjb%default;\n",
      "    SWAP: pop tz1VSUr8wwNhLAzempoch5d6hLRiTh8Cjcjb%default, 4500000; push tz1VSUr8wwNhLAzempoch5d6hLRiTh8Cjcjb%default; push 4500000;\n",
      "    UNIT: push Unit;\n",
      "    TRANSFER_TOKENS: pop Unit, 4500000, tz1VSUr8wwNhLAzempoch5d6hLRiTh8Cjcjb%default; set BALANCE=96500000; push <send 4500000 to tz1VSUr8wwNhLAzempoch5d6hLRiTh8Cjcjb>;\n",
      "    NIL: push [];\n",
      "    SWAP: pop [], <send 4500000 to tz1VSUr8wwNhLAzempoch5d6hLRiTh8Cjcjb>; push []; push <send 4500000 to tz1VSUr8wwNhLAzempoch5d6hLRiTh8Cjcjb>;\n",
      "    CONS: pop <send 4500000 to tz1VSUr8wwNhLAzempoch5d6hLRiTh8Cjcjb>, []; push ['<send 4500000 to tz1VSUr8wwNhLAzempoch5d6hLRiTh8Cjcjb>'];\n",
      "    PAIR: pop ['<send 4500000 to tz1VSUr8wwNhLAzempoch5d6hLRiTh8Cjcjb>'], tz1VSUr8wwNhLAzempoch5d6hLRiTh8Cjcjb; push (['<send 4500000 to tz1VSUr8wwNhLAzempoch5d6hLRiTh8Cjcjb>'], 'tz1VSUr8wwNhLAzempoch5d6hLRiTh8Cjcjb');"
     ]
    },
    {
     "data": {
      "text/html": [
       "<table>\n",
       "<thead>\n",
       "<tr><th>value                                                                      </th><th>type                                        </th></tr>\n",
       "</thead>\n",
       "<tbody>\n",
       "<tr><td><pre style=&quot;text-align: left;&quot;>&quot;tz1VSUr8wwNhLAzempoch5d6hLRiTh8Cjcjb&quot;</pre></td><td><pre style=&quot;text-align: left;&quot;>address</pre></td></tr>\n",
       "</tbody>\n",
       "</table><br><table>\n",
       "<thead>\n",
       "<tr><th>kind                                            </th><th>target                                                                   </th><th>amount                                      </th><th>entrypoint                                  </th><th>parameters                               </th></tr>\n",
       "</thead>\n",
       "<tbody>\n",
       "<tr><td><pre style=&quot;text-align: left;&quot;>transaction</pre></td><td><pre style=&quot;text-align: left;&quot;>tz1VSUr8wwNhLAzempoch5d6hLRiTh8Cjcjb</pre></td><td><pre style=&quot;text-align: left;&quot;>4500000</pre></td><td><pre style=&quot;text-align: left;&quot;>default</pre></td><td><pre style=&quot;text-align: left;&quot;>Unit</pre></td></tr>\n",
       "</tbody>\n",
       "</table>"
      ],
      "text/plain": [
       "value                                   type\n",
       "--------------------------------------  -------\n",
       "\"tz1VSUr8wwNhLAzempoch5d6hLRiTh8Cjcjb\"  address\n",
       "kind         target                                  amount  entrypoint    parameters\n",
       "-----------  ------------------------------------  --------  ------------  ------------\n",
       "transaction  tz1VSUr8wwNhLAzempoch5d6hLRiTh8Cjcjb   4500000  default       Unit"
      ]
     },
     "execution_count": 30,
     "metadata": {},
     "output_type": "execute_result"
    }
   ],
   "source": [
    "storage address ;\n",
    "parameter unit ;\n",
    "code {\n",
    "    PATCH BALANCE 101000000 ;\n",
    "    PATCH AMOUNT 9000000 ;\n",
    "    CDR ;\n",
    "    PUSH mutez 100000000 ;\n",
    "    BALANCE ;\n",
    "    IFCMPLT\n",
    "        { PUSH string \"INSUFFICIENT_BALANCE\" ; FAILWITH }\n",
    "        {\n",
    "            PUSH mutez 0 ;\n",
    "            AMOUNT ;\n",
    "            IFCMPEQ\n",
    "                { PUSH string \"INSUFFICIENT_AMOUNT\" ; FAILWITH }\n",
    "                {\n",
    "                    PUSH nat 2 ;\n",
    "                    AMOUNT ;\n",
    "                    EDIV ;\n",
    "                    IF_NONE\n",
    "                        { FAIL }\n",
    "                        {\n",
    "                            CAR ;\n",
    "                            DIP { DUP } ;\n",
    "                            SWAP ;\n",
    "                            CONTRACT unit ;\n",
    "                            IF_NONE\n",
    "                                { FAIL }\n",
    "                                {\n",
    "                                    SWAP ;\n",
    "                                    UNIT ;\n",
    "                                    TRANSFER_TOKENS ;\n",
    "                                    NIL operation ;\n",
    "                                    SWAP ;\n",
    "                                    CONS ;\n",
    "                                    PAIR\n",
    "                                }\n",
    "                        }\n",
    "                }\n",
    "        }\n",
    "} ;\n",
    "RUN %default Unit \"tz1VSUr8wwNhLAzempoch5d6hLRiTh8Cjcjb\" ;"
   ]
  },
  {
   "cell_type": "code",
   "execution_count": 7,
   "metadata": {},
   "outputs": [
    {
     "name": "stdout",
     "output_type": "stream",
     "text": [
      "storage (list string);\n",
      "parameter string;\n",
      "BEGIN: use %default; drop all; push ('tezos', []);"
     ]
    },
    {
     "data": {
      "text/html": [
       "<table>\n",
       "<thead>\n",
       "<tr><th>value                                               </th><th>type                                                          </th></tr>\n",
       "</thead>\n",
       "<tbody>\n",
       "<tr><td><pre style=&quot;text-align: left;&quot;>Pair &quot;tezos&quot; {}</pre></td><td><pre style=&quot;text-align: left;&quot;>pair string (list string)</pre></td></tr>\n",
       "</tbody>\n",
       "</table>"
      ],
      "text/plain": [
       "value            type\n",
       "---------------  -------------------------\n",
       "Pair \"tezos\" {}  pair string (list string)"
      ]
     },
     "execution_count": 7,
     "metadata": {},
     "output_type": "execute_result"
    }
   ],
   "source": [
    "storage (list string) ;\n",
    "parameter string ;\n",
    "BEGIN \"tezos\" {};"
   ]
  },
  {
   "cell_type": "code",
   "execution_count": 8,
   "metadata": {},
   "outputs": [
    {
     "name": "stdout",
     "output_type": "stream",
     "text": [
      "DUP: push ('tezos', []);\n",
      "CAR: pop ('tezos', []); push tezos;\n",
      "SWAP: pop tezos, ('tezos', []); push tezos; push ('tezos', []);\n",
      "CDR: pop ('tezos', []); push [];"
     ]
    },
    {
     "data": {
      "text/html": [
       "<table>\n",
       "<thead>\n",
       "<tr><th>value                                       </th><th>type                                            </th></tr>\n",
       "</thead>\n",
       "<tbody>\n",
       "<tr><td><pre style=&quot;text-align: left;&quot;>{}</pre>     </td><td><pre style=&quot;text-align: left;&quot;>list string</pre></td></tr>\n",
       "<tr><td><pre style=&quot;text-align: left;&quot;>&quot;tezos&quot;</pre></td><td><pre style=&quot;text-align: left;&quot;>string</pre>     </td></tr>\n",
       "</tbody>\n",
       "</table>"
      ],
      "text/plain": [
       "value    type\n",
       "-------  -----------\n",
       "{}       list string\n",
       "\"tezos\"  string"
      ]
     },
     "execution_count": 8,
     "metadata": {},
     "output_type": "execute_result"
    }
   ],
   "source": [
    "DUP ; CAR ; SWAP ; CDR ; DUMP ;"
   ]
  },
  {
   "cell_type": "code",
   "execution_count": 9,
   "metadata": {},
   "outputs": [
    {
     "name": "stdout",
     "output_type": "stream",
     "text": [
      "IF_CONS: pop [];\n",
      "  NIL: push [];\n",
      "  SWAP: pop [], tezos; push []; push tezos;\n",
      "  CONS: pop tezos, []; push ['tezos'];"
     ]
    },
    {
     "data": {
      "text/html": [
       "<table>\n",
       "<thead>\n",
       "<tr><th>value                                           </th><th>type                                            </th></tr>\n",
       "</thead>\n",
       "<tbody>\n",
       "<tr><td><pre style=&quot;text-align: left;&quot;>{ &quot;tezos&quot; }</pre></td><td><pre style=&quot;text-align: left;&quot;>list string</pre></td></tr>\n",
       "</tbody>\n",
       "</table>"
      ],
      "text/plain": [
       "value        type\n",
       "-----------  -----------\n",
       "{ \"tezos\" }  list string"
      ]
     },
     "execution_count": 9,
     "metadata": {},
     "output_type": "execute_result"
    }
   ],
   "source": [
    "IF_CONS\n",
    "    { FAIL }\n",
    "    { NIL string ; SWAP ; CONS } ;\n",
    "DUMP ;"
   ]
  },
  {
   "cell_type": "code",
   "execution_count": 19,
   "metadata": {},
   "outputs": [
    {
     "name": "stdout",
     "output_type": "stream",
     "text": [
      "storage int;\n",
      "parameter (list int);\n",
      "BEGIN: use %default; drop all; push ([7, 9, 3], 0);\n",
      "CAR: pop ([7, 9, 3], 0); push [7, 9, 3];"
     ]
    },
    {
     "data": {
      "text/html": [
       "<table>\n",
       "<thead>\n",
       "<tr><th>value                                             </th><th>type                                         </th></tr>\n",
       "</thead>\n",
       "<tbody>\n",
       "<tr><td><pre style=&quot;text-align: left;&quot;>{ 7 ; 9 ; 3 }</pre></td><td><pre style=&quot;text-align: left;&quot;>list int</pre></td></tr>\n",
       "</tbody>\n",
       "</table>"
      ],
      "text/plain": [
       "value          type\n",
       "-------------  --------\n",
       "{ 7 ; 9 ; 3 }  list int"
      ]
     },
     "execution_count": 19,
     "metadata": {},
     "output_type": "execute_result"
    }
   ],
   "source": [
    "storage int ;\n",
    "parameter (list int) ;\n",
    "BEGIN { 7 ; 9 ; 3 } 0;\n",
    "CAR ; DUMP ;"
   ]
  },
  {
   "cell_type": "code",
   "execution_count": 20,
   "metadata": {},
   "outputs": [
    {
     "name": "stdout",
     "output_type": "stream",
     "text": [
      "ITER: pop [7, 9, 3]; push 7;\n",
      "  PUSH: push 2;\n",
      "  ADD: pop 2, 7; push 9;\n",
      "  push 9;\n",
      "  PUSH: push 2;\n",
      "  ADD: pop 2, 9; push 11;\n",
      "  push 3;\n",
      "  PUSH: push 2;\n",
      "  ADD: pop 2, 3; push 5;"
     ]
    },
    {
     "data": {
      "text/html": [
       "<table>\n",
       "<thead>\n",
       "<tr><th>value                                  </th><th>type                                    </th></tr>\n",
       "</thead>\n",
       "<tbody>\n",
       "<tr><td><pre style=&quot;text-align: left;&quot;>5</pre> </td><td><pre style=&quot;text-align: left;&quot;>int</pre></td></tr>\n",
       "<tr><td><pre style=&quot;text-align: left;&quot;>11</pre></td><td><pre style=&quot;text-align: left;&quot;>int</pre></td></tr>\n",
       "<tr><td><pre style=&quot;text-align: left;&quot;>9</pre> </td><td><pre style=&quot;text-align: left;&quot;>int</pre></td></tr>\n",
       "</tbody>\n",
       "</table>"
      ],
      "text/plain": [
       "  value  type\n",
       "-------  ------\n",
       "      5  int\n",
       "     11  int\n",
       "      9  int"
      ]
     },
     "execution_count": 20,
     "metadata": {},
     "output_type": "execute_result"
    }
   ],
   "source": [
    "ITER { PUSH int 2 ; ADD } ;\n",
    "DUMP ;"
   ]
  },
  {
   "cell_type": "code",
   "execution_count": 10,
   "metadata": {},
   "outputs": [
    {
     "name": "stdout",
     "output_type": "stream",
     "text": [
      "storage (list string);\n",
      "parameter (list string);\n",
      "code { CAR ; MAP { DUP ; SIZE ; PUSH nat 5 ; { { COMPARE ; GE } ; IF {} { PUSH string \"X\" } } } ; NIL operation ; PAIR };\n",
      "RUN: use %default; drop all; push (['tezos', 'bakingbad', 'taco', 'crypto'], []);\n",
      "CAR: pop (['tezos', 'bakingbad', 'taco', 'crypto'], []); push ['tezos', 'bakingbad', 'taco', 'crypto'];\n",
      "MAP: pop ['tezos', 'bakingbad', 'taco', 'crypto']; push tezos;\n",
      "DUP: push tezos;\n",
      "SIZE: pop tezos; push 5;\n",
      "PUSH: push 5;\n",
      "COMPARE: pop 5, 5; push 0;\n",
      "GE: pop 0; push True;\n",
      "IF: pop True;\n",
      "pop tezos; push bakingbad;\n",
      "DUP: push bakingbad;\n",
      "SIZE: pop bakingbad; push 9;\n",
      "PUSH: push 5;\n",
      "COMPARE: pop 5, 9; push -1;\n",
      "GE: pop -1; push False;\n",
      "IF: pop False;\n",
      "PUSH: push X;\n",
      "pop X; push taco;\n",
      "DUP: push taco;\n",
      "SIZE: pop taco; push 4;\n",
      "PUSH: push 5;\n",
      "COMPARE: pop 5, 4; push 1;\n",
      "GE: pop 1; push True;\n",
      "IF: pop True;\n",
      "pop taco; push crypto;\n",
      "DUP: push crypto;\n",
      "SIZE: pop crypto; push 6;\n",
      "PUSH: push 5;\n",
      "COMPARE: pop 5, 6; push -1;\n",
      "GE: pop -1; push False;\n",
      "IF: pop False;\n",
      "PUSH: push X;\n",
      "pop X; push ['tezos', 'X', 'taco', 'X'];\n",
      "NIL: push [];\n",
      "PAIR: pop [], ['tezos', 'X', 'taco', 'X']; push ([], ['tezos', 'X', 'taco', 'X']);"
     ]
    },
    {
     "data": {
      "text/html": [
       "<table>\n",
       "<thead>\n",
       "<tr><th>value                                                                </th><th>type                                            </th></tr>\n",
       "</thead>\n",
       "<tbody>\n",
       "<tr><td><pre style=&quot;text-align: left;&quot;>{ &quot;tezos&quot; ; &quot;X&quot; ; &quot;taco&quot; ; &quot;X&quot; }</pre></td><td><pre style=&quot;text-align: left;&quot;>list string</pre></td></tr>\n",
       "</tbody>\n",
       "</table>"
      ],
      "text/plain": [
       "value                             type\n",
       "--------------------------------  -----------\n",
       "{ \"tezos\" ; \"X\" ; \"taco\" ; \"X\" }  list string"
      ]
     },
     "execution_count": 10,
     "metadata": {},
     "output_type": "execute_result"
    }
   ],
   "source": [
    "storage (list string) ;\n",
    "parameter (list string) ;\n",
    "code {\n",
    "    CAR ;\n",
    "    MAP {\n",
    "        DUP ;\n",
    "        SIZE ;\n",
    "        PUSH nat 5 ;\n",
    "        IFCMPGE\n",
    "            {}\n",
    "            { PUSH string \"X\" }\n",
    "    } ;\n",
    "    NIL operation ;\n",
    "    PAIR\n",
    "} ;\n",
    "\n",
    "RUN %default { \"tezos\" ; \"bakingbad\" ; \"taco\" ; \"crypto\" } {} ;"
   ]
  },
  {
   "cell_type": "code",
   "execution_count": null,
   "metadata": {},
   "outputs": [],
   "source": []
  }
 ],
 "metadata": {
  "kernelspec": {
   "display_name": "Michelson",
   "language": "michelson",
   "name": "michelson"
  },
  "language_info": {
   "codemirror_mode": "michelson",
   "file_extension": ".tz",
   "mimetype": "text/x-michelson",
   "name": "Michelson"
  }
 },
 "nbformat": 4,
 "nbformat_minor": 4
}

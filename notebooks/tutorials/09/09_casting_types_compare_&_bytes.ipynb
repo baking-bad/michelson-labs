{
 "cells": [
  {
   "cell_type": "markdown",
   "metadata": {},
   "source": [
    "# Chapter 9\n",
    "\n",
    "Let's take a little break after a long chapter about pairs and before another long chapter about 3 essential types of Michelson: maps, big maps and sets.\n",
    "\n",
    "In this chapter, we will learn more about less common operations that you can accomplish in a Michelson smart contract. First of all, we will check how to convert types between each other, which is called \"casting\". Then, we will have a look at the different possibilities to compare values and we will finish with a talk about bytes and their use cases.\n",
    "\n",
    "## Casting types\n",
    "\n",
    "One particularly pesky headache of using a strongly typed language is the conversion of values from one type to another. Obviously, some conversions are forbidden or impossible, it wouldn't make any sense to convert an integer to a list. However, some conversions may seem practical: after all, a value that's an integer, a natural number or a mutez is a numeric value and in some situations, it could be more convenient to change its type. \n",
    "\n",
    "Imagine a contract with a storage that's a value of type `nat`, you receive 2 ints, you add them, get a new `int` and want to save it in the storage. But you can't, because the storage needs a `nat` value. Or vice-versa, the storage is an `int` value, you add 2 nats together and want to get an `int` back. In this situations, Michelson offers two instructions: **`ABS`** will return the absolute value of a number (i.e a `nat` value) and **`INT`** will change a `nat` value into an `int`."
   ]
  },
  {
   "cell_type": "code",
   "execution_count": 1,
   "metadata": {},
   "outputs": [
    {
     "name": "stdout",
     "output_type": "stream",
     "text": [
      "storage: updated\n",
      "parameter: updated\n",
      "code: updated\n",
      "BEGIN %default / _ => (9 * 8)\n",
      "CAR / (9 * 8) => 9\n",
      "INT / 9 => 9\n",
      "NIL / _ => []\n",
      "PAIR / [] : 9 => ([] * 9)\n",
      "END %default / ([] * 9) => _"
     ]
    },
    {
     "data": {
      "text/html": [
       "<h4>Operations</h4><h4>Storage</h4><table>\n",
       "<thead>\n",
       "<tr><th>type                                    </th><th>value                                 </th></tr>\n",
       "</thead>\n",
       "<tbody>\n",
       "<tr><td><pre style=&quot;text-align: left;&quot;>int</pre></td><td><pre style=&quot;text-align: left;&quot;>9</pre></td></tr>\n",
       "</tbody>\n",
       "</table>"
      ],
      "text/plain": [
       "Operations\n",
       "Storage\n",
       "type      value\n",
       "------  -------\n",
       "int           9"
      ]
     },
     "execution_count": 1,
     "metadata": {},
     "output_type": "execute_result"
    }
   ],
   "source": [
    "storage int ;\n",
    "parameter nat ;\n",
    "code {\n",
    "    CAR ;\n",
    "    INT ;\n",
    "    NIL operation ;\n",
    "    PAIR\n",
    "} ;\n",
    "\n",
    "RUN %default 9 8 ;"
   ]
  },
  {
   "cell_type": "code",
   "execution_count": 2,
   "metadata": {},
   "outputs": [
    {
     "name": "stdout",
     "output_type": "stream",
     "text": [
      "storage: updated\n",
      "parameter: updated\n",
      "code: updated\n",
      "BEGIN %default / _ => (9 * 8)\n",
      "CAR / (9 * 8) => 9\n",
      "ABS / 9 => 9\n",
      "NIL / _ => []\n",
      "PAIR / [] : 9 => ([] * 9)\n",
      "END %default / ([] * 9) => _"
     ]
    },
    {
     "data": {
      "text/html": [
       "<h4>Operations</h4><h4>Storage</h4><table>\n",
       "<thead>\n",
       "<tr><th>type                                    </th><th>value                                 </th></tr>\n",
       "</thead>\n",
       "<tbody>\n",
       "<tr><td><pre style=&quot;text-align: left;&quot;>nat</pre></td><td><pre style=&quot;text-align: left;&quot;>9</pre></td></tr>\n",
       "</tbody>\n",
       "</table>"
      ],
      "text/plain": [
       "Operations\n",
       "Storage\n",
       "type      value\n",
       "------  -------\n",
       "nat           9"
      ]
     },
     "execution_count": 2,
     "metadata": {},
     "output_type": "execute_result"
    }
   ],
   "source": [
    "storage nat ;\n",
    "parameter int ;\n",
    "code {\n",
    "    CAR ;\n",
    "    ABS ;\n",
    "    NIL operation ;\n",
    "    PAIR\n",
    "} ;\n",
    "\n",
    "RUN %default 9 8 ;"
   ]
  },
  {
   "cell_type": "markdown",
   "metadata": {},
   "source": [
    "You may also want to check if the `int` value you have in the stack is above zero before turning it into a `nat` value (because **`ABS`** will remove the negative sign of any integer). If it's the case, you can use **`ISNAT`**. If the `int` value is equal or greater than zero, the instruction returns `(option nat) (Some value)`. If the `int` value is less than zero, the instruction returns `(option nat) (None)`:"
   ]
  },
  {
   "cell_type": "code",
   "execution_count": 3,
   "metadata": {},
   "outputs": [
    {
     "name": "stdout",
     "output_type": "stream",
     "text": [
      "parameter: updated\n",
      "storage: updated\n",
      "code: updated\n",
      "BEGIN %default / _ => (9 * 8)\n",
      "CAR / (9 * 8) => 9\n",
      "ISNAT / 9 => 9?\n",
      "IF_NONE / 9? => 9\n",
      "NIL / _ => []\n",
      "PAIR / [] : 9 => ([] * 9)\n",
      "END %default / ([] * 9) => _"
     ]
    },
    {
     "data": {
      "text/html": [
       "<h4>Operations</h4><h4>Storage</h4><table>\n",
       "<thead>\n",
       "<tr><th>type                                    </th><th>value                                 </th></tr>\n",
       "</thead>\n",
       "<tbody>\n",
       "<tr><td><pre style=&quot;text-align: left;&quot;>nat</pre></td><td><pre style=&quot;text-align: left;&quot;>9</pre></td></tr>\n",
       "</tbody>\n",
       "</table>"
      ],
      "text/plain": [
       "Operations\n",
       "Storage\n",
       "type      value\n",
       "------  -------\n",
       "nat           9"
      ]
     },
     "execution_count": 3,
     "metadata": {},
     "output_type": "execute_result"
    }
   ],
   "source": [
    "parameter int ;\n",
    "storage nat ;\n",
    "code {\n",
    "    CAR ;\n",
    "    ISNAT ;\n",
    "    IF_SOME\n",
    "        {\n",
    "            NIL operation ;\n",
    "            PAIR\n",
    "        }\n",
    "        { FAIL }\n",
    "} ;\n",
    "\n",
    "RUN %default 9 8 ;"
   ]
  },
  {
   "cell_type": "markdown",
   "metadata": {},
   "source": [
    "Now if you change `9` for `-9`, you will see the contract fail as the negative integer triggers the **`FAIL`** instruction.\n",
    "\n",
    "You can also use \"hacks\" to cast some values. One of the most frequently encountered is a hack based on the subtraction. Let's say you need to cast a `timestamp` into an `int`. There is no instruction for that. However, if you subtract a `timestamp` from another `timestamp`, you get an `int`. You can then create a `timestamp` equal to zero and subtract it from the `timestamp` you want to cast into an `int`:"
   ]
  },
  {
   "cell_type": "code",
   "execution_count": 4,
   "metadata": {},
   "outputs": [
    {
     "name": "stdout",
     "output_type": "stream",
     "text": [
      "parameter: updated\n",
      "storage: updated\n",
      "code: updated\n",
      "BEGIN %default / _ => (Unit * 0)\n",
      "DROP / (Unit * 0) => _\n",
      "PUSH / _ => 0\n",
      "NOW / _ => 0\n",
      "SUB / 0 : 0 => 0\n",
      "NIL / _ => []\n",
      "PAIR / [] : 0 => ([] * 0)\n",
      "END %default / ([] * 0) => _"
     ]
    },
    {
     "data": {
      "text/html": [
       "<h4>Operations</h4><h4>Storage</h4><table>\n",
       "<thead>\n",
       "<tr><th>type                                    </th><th>value                                 </th></tr>\n",
       "</thead>\n",
       "<tbody>\n",
       "<tr><td><pre style=&quot;text-align: left;&quot;>int</pre></td><td><pre style=&quot;text-align: left;&quot;>0</pre></td></tr>\n",
       "</tbody>\n",
       "</table>"
      ],
      "text/plain": [
       "Operations\n",
       "Storage\n",
       "type      value\n",
       "------  -------\n",
       "int           0"
      ]
     },
     "execution_count": 4,
     "metadata": {},
     "output_type": "execute_result"
    }
   ],
   "source": [
    "parameter unit ;\n",
    "storage int ;\n",
    "code {\n",
    "    DROP ;\n",
    "    PUSH timestamp 0 ;\n",
    "    NOW ;\n",
    "    SUB ;\n",
    "    NIL operation ;\n",
    "    PAIR ;\n",
    "} ;\n",
    "\n",
    "RUN %default Unit 0 ;"
   ]
  },
  {
   "cell_type": "markdown",
   "metadata": {},
   "source": [
    "Now you have an `int` whose value is the same as the provided `timestamp`!\n",
    "\n",
    "With a little bit of imagination, it is also possible to cast other values, for example a `mutez` into a `nat`! This time, we can use **`EDIV`** to turn a `mutez` value into a `nat` value. When you divide two `mutez` values together, you get an optional value with a pair that contains a `nat` (the result) in the left field. When you divide a value by `1`, the result will be the same value, so if you divide `mutez 22` by `mutez 1`, the result will be `nat 22` as illustrated below:"
   ]
  },
  {
   "cell_type": "code",
   "execution_count": 5,
   "metadata": {},
   "outputs": [
    {
     "name": "stdout",
     "output_type": "stream",
     "text": [
      "parameter: updated\n",
      "storage: updated\n",
      "code: updated\n",
      "BEGIN %default / _ => (Unit * 0)\n",
      "DROP / (Unit * 0) => _\n",
      "PUSH / _ => 0.000001\n",
      "PUSH / _ => 5566.778899\n",
      "EDIV / 5566.778899 : 0.000001 => (5566778899 * 0)?\n",
      "IF_NONE / (5566778899 * 0)? => (5566778899 * 0)\n",
      "CAR / (5566778899 * 0) => 5566778899\n",
      "NIL / _ => []\n",
      "PAIR / [] : 5566778899 => ([] * 5566778899)\n",
      "END %default / ([] * 5566778899) => _"
     ]
    },
    {
     "data": {
      "text/html": [
       "<h4>Operations</h4><h4>Storage</h4><table>\n",
       "<thead>\n",
       "<tr><th>type                                    </th><th>value                                          </th></tr>\n",
       "</thead>\n",
       "<tbody>\n",
       "<tr><td><pre style=&quot;text-align: left;&quot;>nat</pre></td><td><pre style=&quot;text-align: left;&quot;>5566778899</pre></td></tr>\n",
       "</tbody>\n",
       "</table>"
      ],
      "text/plain": [
       "Operations\n",
       "Storage\n",
       "type         value\n",
       "------  ----------\n",
       "nat     5566778899"
      ]
     },
     "execution_count": 5,
     "metadata": {},
     "output_type": "execute_result"
    }
   ],
   "source": [
    "parameter unit ;\n",
    "storage nat ;\n",
    "code {\n",
    "    DROP ;\n",
    "    PUSH mutez 1 ;\n",
    "    PUSH mutez 5566778899 ;\n",
    "    EDIV ;\n",
    "    IF_SOME \n",
    "        {\n",
    "            CAR ;\n",
    "            NIL operation ;\n",
    "            PAIR ;\n",
    "        }\n",
    "        { FAIL }\n",
    "} ;\n",
    "\n",
    "RUN %default Unit 0 ;"
   ]
  },
  {
   "cell_type": "markdown",
   "metadata": {},
   "source": [
    "Finally, it is also possible to cast a contract to its address and an adress to a contract. Observe the following example:"
   ]
  },
  {
   "cell_type": "code",
   "execution_count": 7,
   "metadata": {},
   "outputs": [
    {
     "name": "stdout",
     "output_type": "stream",
     "text": [
      "parameter: updated\n",
      "storage: updated\n",
      "code: updated\n",
      "BEGIN %default / _ => (KT1X3z…eRy%default * tz1VSU…cjb)\n",
      "CAR / (KT1X3z…eRy%default * tz1VSU…cjb) => KT1X3z…eRy%default\n",
      "ADDRESS / KT1X3z…eRy%default => KT1X3z…eRy\n",
      "NIL / _ => []\n",
      "PAIR / [] : KT1X3z…eRy => ([] * KT1X3z…eRy)\n",
      "END %default / ([] * KT1X3z…eRy) => _"
     ]
    },
    {
     "data": {
      "text/html": [
       "<h4>Operations</h4><h4>Storage</h4><table>\n",
       "<thead>\n",
       "<tr><th>type                                        </th><th>value                                                                    </th></tr>\n",
       "</thead>\n",
       "<tbody>\n",
       "<tr><td><pre style=&quot;text-align: left;&quot;>address</pre></td><td><pre style=&quot;text-align: left;&quot;>KT1X3zxdTzPB9DgVzA3ad6dgZe9JEamoaeRy</pre></td></tr>\n",
       "</tbody>\n",
       "</table>"
      ],
      "text/plain": [
       "Operations\n",
       "Storage\n",
       "type     value\n",
       "-------  ------------------------------------\n",
       "address  KT1X3zxdTzPB9DgVzA3ad6dgZe9JEamoaeRy"
      ]
     },
     "execution_count": 7,
     "metadata": {},
     "output_type": "execute_result"
    }
   ],
   "source": [
    "parameter (contract unit) ;\n",
    "storage address ;\n",
    "code {\n",
    "    CAR ;\n",
    "    ADDRESS ;\n",
    "    NIL operation ;\n",
    "    PAIR\n",
    "} ;\n",
    "\n",
    "RUN %default \"KT1X3zxdTzPB9DgVzA3ad6dgZe9JEamoaeRy\" \"tz1VSUr8wwNhLAzempoch5d6hLRiTh8Cjcjb\" ;"
   ]
  },
  {
   "cell_type": "markdown",
   "metadata": {},
   "source": [
    "In this example, we turn a `(contract unit)` type into an address. It is also possible to do the opposite:"
   ]
  },
  {
   "cell_type": "code",
   "execution_count": 8,
   "metadata": {},
   "outputs": [
    {
     "name": "stdout",
     "output_type": "stream",
     "text": [
      "storage: updated\n",
      "parameter: updated\n",
      "code: updated\n",
      "BEGIN %default / _ => (tz1VSU…cjb * KT1X3z…eRy%default)\n",
      "CAR / (tz1VSU…cjb * KT1X3z…eRy%default) => tz1VSU…cjb\n",
      "CONTRACT: skip type checking for tz1VSUr8wwNhLAzempoch5d6hLRiTh8Cjcjb\n",
      "CONTRACT / tz1VSU…cjb => tz1VSU…cjb%default?\n",
      "IF_NONE / tz1VSU…cjb%default? => tz1VSU…cjb%default\n",
      "NIL / _ => []\n",
      "PAIR / [] : tz1VSU…cjb%default => ([] * tz1VSU…cjb%default)\n",
      "END %default / ([] * tz1VSU…cjb%default) => _"
     ]
    },
    {
     "data": {
      "text/html": [
       "<h4>Operations</h4><h4>Storage</h4><table>\n",
       "<thead>\n",
       "<tr><th>type                                         </th><th>value                                                                    </th></tr>\n",
       "</thead>\n",
       "<tbody>\n",
       "<tr><td><pre style=&quot;text-align: left;&quot;>contract</pre></td><td><pre style=&quot;text-align: left;&quot;>tz1VSUr8wwNhLAzempoch5d6hLRiTh8Cjcjb</pre></td></tr>\n",
       "</tbody>\n",
       "</table>"
      ],
      "text/plain": [
       "Operations\n",
       "Storage\n",
       "type      value\n",
       "--------  ------------------------------------\n",
       "contract  tz1VSUr8wwNhLAzempoch5d6hLRiTh8Cjcjb"
      ]
     },
     "execution_count": 8,
     "metadata": {},
     "output_type": "execute_result"
    }
   ],
   "source": [
    "storage (contract unit) ;\n",
    "parameter address ;\n",
    "code {\n",
    "    CAR ;\n",
    "    CONTRACT unit ;\n",
    "    IF_SOME\n",
    "        {\n",
    "            NIL operation ;\n",
    "            PAIR\n",
    "        }\n",
    "        { FAIL }\n",
    "} ;\n",
    "\n",
    "RUN %default \"tz1VSUr8wwNhLAzempoch5d6hLRiTh8Cjcjb\" \"KT1X3zxdTzPB9DgVzA3ad6dgZe9JEamoaeRy\" ;"
   ]
  },
  {
   "cell_type": "markdown",
   "metadata": {},
   "source": [
    "If you remember from the Chapter 5, this step of turning an address into a contract address of type `(contract unit)` is also a necessary step of transferring tokens.\n",
    "\n",
    "## Working with bytes\n",
    "\n",
    "Although a rather uncommon type, Michelson allows us to manipulate bytes. All the instructions available for strings are also available for bytes (namely **`COMPARE`**, **`CONCAT`**, **`SIZE`** and **`SLICE`**) + two extra instructions to pack (value -> bytes) and unpack (bytes -> value) bytes. Most of the times you will have to use bytes is when you will use cryptographic instructions, let's check an example:"
   ]
  },
  {
   "cell_type": "code",
   "execution_count": 9,
   "metadata": {},
   "outputs": [
    {
     "name": "stdout",
     "output_type": "stream",
     "text": [
      "storage: updated\n",
      "parameter: updated\n",
      "code: updated\n",
      "BEGIN %default / _ => (12345 * 0x)\n",
      "CAR / (12345 * 0x) => 12345\n",
      "PACK / 12345 => 0x0500b9c001\n",
      "SHA256 / 0x0500b9c001 => 0xcea356435ff4eee1981f2e2ddc81bee203b3af767c48f97fd84b64fa767d2285\n",
      "NIL / _ => []\n",
      "PAIR / [] : 0xcea356435ff4eee1981f2e2ddc81bee203b3af767c48f97fd84b64fa767d2285 => ([] * 0xcea356435ff4eee1981f2e2ddc81bee203b3af767c48f97fd84b64fa767d2285)\n",
      "END %default / ([] * 0xcea356435ff4eee1981f2e2ddc81bee203b3af767c48f97fd84b64fa767d2285) => _"
     ]
    },
    {
     "data": {
      "text/html": [
       "<h4>Operations</h4><h4>Storage</h4><table>\n",
       "<thead>\n",
       "<tr><th>type                                      </th><th>value                                                                                                </th></tr>\n",
       "</thead>\n",
       "<tbody>\n",
       "<tr><td><pre style=&quot;text-align: left;&quot;>bytes</pre></td><td><pre style=&quot;text-align: left;&quot;>cea356435ff4eee1981f2e2ddc81bee203b3af767c48f97fd84b64fa767d2285</pre></td></tr>\n",
       "</tbody>\n",
       "</table>"
      ],
      "text/plain": [
       "Operations\n",
       "Storage\n",
       "type    value\n",
       "------  ----------------------------------------------------------------\n",
       "bytes   cea356435ff4eee1981f2e2ddc81bee203b3af767c48f97fd84b64fa767d2285"
      ]
     },
     "execution_count": 9,
     "metadata": {},
     "output_type": "execute_result"
    }
   ],
   "source": [
    "storage bytes ;\n",
    "parameter nat ;\n",
    "code {\n",
    "    CAR ;\n",
    "    PACK ;\n",
    "    SHA256 ;\n",
    "    NIL operation ;\n",
    "    PAIR ;\n",
    "} ;\n",
    "\n",
    "RUN %default 12345 0x ;"
   ]
  },
  {
   "cell_type": "markdown",
   "metadata": {},
   "source": [
    "This simple contract takes a value of type `nat`, converts it to `bytes` with the **`PACK`** instruction, gets its SHA256 hash and saves it in the storage. We can use the result of the **`PACK`** instruction to write a contract that does the inverse:"
   ]
  },
  {
   "cell_type": "code",
   "execution_count": 10,
   "metadata": {},
   "outputs": [
    {
     "name": "stdout",
     "output_type": "stream",
     "text": [
      "storage: updated\n",
      "parameter: updated\n",
      "code: updated\n",
      "BEGIN %default / _ => (0x0500b9c001 * 0)\n",
      "CAR / (0x0500b9c001 * 0) => 0x0500b9c001\n",
      "UNPACK / 0x0500b9c001 => 12345?\n",
      "IF_NONE / 12345? => 12345\n",
      "NIL / _ => []\n",
      "PAIR / [] : 12345 => ([] * 12345)\n",
      "END %default / ([] * 12345) => _"
     ]
    },
    {
     "data": {
      "text/html": [
       "<h4>Operations</h4><h4>Storage</h4><table>\n",
       "<thead>\n",
       "<tr><th>type                                    </th><th>value                                     </th></tr>\n",
       "</thead>\n",
       "<tbody>\n",
       "<tr><td><pre style=&quot;text-align: left;&quot;>nat</pre></td><td><pre style=&quot;text-align: left;&quot;>12345</pre></td></tr>\n",
       "</tbody>\n",
       "</table>"
      ],
      "text/plain": [
       "Operations\n",
       "Storage\n",
       "type      value\n",
       "------  -------\n",
       "nat       12345"
      ]
     },
     "execution_count": 10,
     "metadata": {},
     "output_type": "execute_result"
    }
   ],
   "source": [
    "storage nat ;\n",
    "parameter bytes ;\n",
    "code {\n",
    "    CAR ;\n",
    "    UNPACK nat ;\n",
    "    IF_SOME\n",
    "        { NIL operation ; PAIR ; }\n",
    "        { FAIL }\n",
    "} ;\n",
    "\n",
    "RUN %default 0x0500b9c001 0 ;"
   ]
  },
  {
   "cell_type": "markdown",
   "metadata": {},
   "source": [
    "At the end of this contract, we get back our `nat` value of `12345` :)\n",
    "\n",
    "Now, let's try to use another operation on bytes:"
   ]
  },
  {
   "cell_type": "code",
   "execution_count": 11,
   "metadata": {},
   "outputs": [
    {
     "name": "stdout",
     "output_type": "stream",
     "text": [
      "parameter: updated\n",
      "storage: updated\n",
      "code: updated\n",
      "BEGIN %default / _ => ((44 * 33) * 0)\n",
      "CAR / ((44 * 33) * 0) => (44 * 33)\n",
      "UNPAIR / (44 * 33) => 44 : 33\n",
      "PACK / 44 => 0x05002c\n",
      "SWAP / 0x05002c : 33 => 33 : 0x05002c\n",
      "PACK / 33 => 0x050021\n",
      "COMPARE / 0x050021 : 0x05002c => -1\n",
      "NIL / _ => []\n",
      "PAIR / [] : -1 => ([] * -1)\n",
      "END %default / ([] * -1) => _"
     ]
    },
    {
     "data": {
      "text/html": [
       "<h4>Operations</h4><h4>Storage</h4><table>\n",
       "<thead>\n",
       "<tr><th>type                                    </th><th>value                                  </th></tr>\n",
       "</thead>\n",
       "<tbody>\n",
       "<tr><td><pre style=&quot;text-align: left;&quot;>int</pre></td><td><pre style=&quot;text-align: left;&quot;>-1</pre></td></tr>\n",
       "</tbody>\n",
       "</table>"
      ],
      "text/plain": [
       "Operations\n",
       "Storage\n",
       "type      value\n",
       "------  -------\n",
       "int          -1"
      ]
     },
     "execution_count": 11,
     "metadata": {},
     "output_type": "execute_result"
    }
   ],
   "source": [
    "parameter (pair nat nat) ;\n",
    "storage int ;\n",
    "code {\n",
    "    CAR ;\n",
    "    UNPAIR ;\n",
    "    PACK ;\n",
    "    SWAP ;\n",
    "    PACK ;\n",
    "    COMPARE ;\n",
    "    NIL operation ;\n",
    "    PAIR ;\n",
    "} ;\n",
    "\n",
    "RUN %default (Pair 44 33) 0 ;"
   ]
  },
  {
   "cell_type": "markdown",
   "metadata": {},
   "source": [
    "It is also possible to compare two `byte` values with the **`COMPARE`** instruction. Just like when you compare two comparable values, the instruction returns `-1` is the first one is less than the second one, `0` if they are both equal and `1` if the first one is greater than the second one. Try to change the values in the pair passed in the parameter to see it working.\n",
    "\n",
    "We can also extend our previous example and compare the sizes of the bytes:"
   ]
  },
  {
   "cell_type": "code",
   "execution_count": 12,
   "metadata": {},
   "outputs": [
    {
     "name": "stdout",
     "output_type": "stream",
     "text": [
      "parameter: updated\n",
      "storage: updated\n",
      "code: updated\n",
      "BEGIN %default / _ => ((44 * 33) * 0)\n",
      "CAR / ((44 * 33) * 0) => (44 * 33)\n",
      "UNPAIR / (44 * 33) => 44 : 33\n",
      "PACK / 44 => 0x05002c\n",
      "SIZE / 0x05002c => 3\n",
      "SWAP / 3 : 33 => 33 : 3\n",
      "PACK / 33 => 0x050021\n",
      "SIZE / 0x050021 => 3\n",
      "COMPARE / 3 : 3 => 0\n",
      "NIL / _ => []\n",
      "PAIR / [] : 0 => ([] * 0)\n",
      "END %default / ([] * 0) => _"
     ]
    },
    {
     "data": {
      "text/html": [
       "<h4>Operations</h4><h4>Storage</h4><table>\n",
       "<thead>\n",
       "<tr><th>type                                    </th><th>value                                 </th></tr>\n",
       "</thead>\n",
       "<tbody>\n",
       "<tr><td><pre style=&quot;text-align: left;&quot;>int</pre></td><td><pre style=&quot;text-align: left;&quot;>0</pre></td></tr>\n",
       "</tbody>\n",
       "</table>"
      ],
      "text/plain": [
       "Operations\n",
       "Storage\n",
       "type      value\n",
       "------  -------\n",
       "int           0"
      ]
     },
     "execution_count": 12,
     "metadata": {},
     "output_type": "execute_result"
    }
   ],
   "source": [
    "parameter (pair nat nat) ;\n",
    "storage int ;\n",
    "code {\n",
    "    CAR ;\n",
    "    UNPAIR ;\n",
    "    PACK ;\n",
    "    SIZE ;\n",
    "    SWAP ;\n",
    "    PACK ;\n",
    "    SIZE ;\n",
    "    COMPARE ;\n",
    "    NIL operation ;\n",
    "    PAIR ;\n",
    "} ;\n",
    "\n",
    "RUN %default (Pair 44 33) 0 ;"
   ]
  },
  {
   "cell_type": "markdown",
   "metadata": {},
   "source": [
    "As you can see from the `0` returned by the **`COMPARE`** instruction, the two bytes we created have the same size.\n",
    "\n",
    "> Note: not all types can be packed, if you want to know which ones are and are not, you can read the [Michelson reference from Nomadic Labs](https://michelson.nomadic-labs.com/#types) and check in the `PA` column."
   ]
  },
  {
   "cell_type": "markdown",
   "metadata": {},
   "source": [
    "## Exercises\n",
    "\n",
    "1. Write a contract that casts a value of type `int` to nat and a value of type `mutez` to nat before adding the two values together and saving them in the storage."
   ]
  },
  {
   "cell_type": "code",
   "execution_count": null,
   "metadata": {},
   "outputs": [],
   "source": [
    "## Write your code here"
   ]
  },
  {
   "cell_type": "markdown",
   "metadata": {},
   "source": [
    "<details>\n",
    "    <summary>Solution</summary>\n",
    "    <p>Copy-paste the solution in the cell above to compile it!</p>\n",
    "    <br />\n",
    "    <pre>\n",
    "parameter unit ;\n",
    "storage nat ;\n",
    "code {\n",
    "    DROP ;\n",
    "    PUSH int 5 ;\n",
    "    ABS ;\n",
    "    PUSH mutez 1 ;\n",
    "    PUSH mutez 6 ;\n",
    "    EDIV ;\n",
    "    IF_SOME \n",
    "        {\n",
    "            CAR ;\n",
    "            ADD ;\n",
    "            NIL operation ;\n",
    "            PAIR ;\n",
    "        }\n",
    "        { FAIL }\n",
    "} ;\n",
    "\n",
    "RUN %default Unit 0 ;\n",
    "    </pre>\n",
    "</details>"
   ]
  },
  {
   "cell_type": "markdown",
   "metadata": {},
   "source": [
    "2. Pass the strings \"Baking\" and \"Bad\" in a pair as parameter, concatenate them as strings and pack the string before saving a pair in the storage made of the bytes on the left and the string on the right."
   ]
  },
  {
   "cell_type": "code",
   "execution_count": null,
   "metadata": {},
   "outputs": [],
   "source": [
    "## Write your code here"
   ]
  },
  {
   "cell_type": "markdown",
   "metadata": {},
   "source": [
    "<details>\n",
    "    <summary>Solution</summary>\n",
    "    <p>Copy-paste the solution in the cell above to compile it!</p>\n",
    "    <br />\n",
    "    <pre>\n",
    "parameter (pair string string) ;\n",
    "storage (pair bytes string) ;\n",
    "code {\n",
    "    CAR;\n",
    "    UNPAIR;\n",
    "    CONCAT;\n",
    "    DUP;\n",
    "    PACK;\n",
    "    PAIR;\n",
    "    NIL operation;\n",
    "    PAIR;\n",
    "} ;\n",
    "\n",
    "RUN %default (Pair \"Baking\" \"Bad\") (Pair 0x \"\") ;\n",
    "    </pre>\n",
    "</details>"
   ]
  }
 ],
 "metadata": {
  "kernelspec": {
   "display_name": "Michelson",
   "language": "michelson",
   "name": "michelson"
  },
  "language_info": {
   "codemirror_mode": "michelson",
   "file_extension": ".tz",
   "mimetype": "text/x-michelson",
   "name": "Michelson"
  }
 },
 "nbformat": 4,
 "nbformat_minor": 4
}

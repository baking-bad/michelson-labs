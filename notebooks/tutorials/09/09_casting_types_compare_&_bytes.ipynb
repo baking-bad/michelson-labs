{
 "cells": [
  {
   "cell_type": "markdown",
   "metadata": {},
   "source": [
    "# Chapter 9\n",
    "\n",
    "Let's take a little break after a long chapter about pairs and before another long chapter about 3 essential types of Michelson: maps, big maps and sets.\n",
    "\n",
    "In this chapter, we will learn more about less common operations that you can accomplish in a Michelson smart contract. First of all, we will check how to convert types between each other, which is called \"casting\". Then, we will have a look at the different possibilities to compare values and we will finish with a talk about bytes and their use cases.\n",
    "\n",
    "## Casting types\n",
    "\n",
    "One particularly pesky headache of using a strongly typed language is the conversion of values from one type to another. Obviously, some conversions are forbidden or impossible, it wouldn't make any sense to convert an integer to a list. However, some conversions may seem practical: after all, a value that's an integer, a natural number or a mutez is a numeric value and in some situations, it could be more convenient to change its type. \n",
    "\n",
    "Imagine a contract with a storage that's a value of type `nat`, you receive 2 ints, you add them, get a new `int` and want to save it in the storage. But you can't, because the storage needs a `nat` value. Or vice-versa, the storage is an `int` value, you add 2 nats together and want to get an `int` back. In this situations, Michelson offers two instructions: **`ABS`** will return the absolute value of a number (i.e a `nat` value) and **`INT`** will change a `nat` value into an `int`."
   ]
  },
  {
   "cell_type": "code",
   "execution_count": 2,
   "metadata": {},
   "outputs": [
    {
     "name": "stdout",
     "output_type": "stream",
     "text": [
      "storage int;\n",
      "parameter nat;\n",
      "code { CAR ; INT ; NIL operation ; PAIR };\n",
      "RUN: use %default; drop all; push (9, 8);\n",
      "CAR: pop (9, 8); push 9;\n",
      "INT: pop 9; push 9;\n",
      "NIL: push [];\n",
      "PAIR: pop [], 9; push ([], 9);"
     ]
    },
    {
     "data": {
      "text/html": [
       "<table>\n",
       "<thead>\n",
       "<tr><th>value                                 </th><th>type                                    </th></tr>\n",
       "</thead>\n",
       "<tbody>\n",
       "<tr><td><pre style=&quot;text-align: left;&quot;>9</pre></td><td><pre style=&quot;text-align: left;&quot;>int</pre></td></tr>\n",
       "</tbody>\n",
       "</table>"
      ],
      "text/plain": [
       "  value  type\n",
       "-------  ------\n",
       "      9  int"
      ]
     },
     "execution_count": 2,
     "metadata": {},
     "output_type": "execute_result"
    }
   ],
   "source": [
    "storage int ;\n",
    "parameter nat ;\n",
    "code {\n",
    "    CAR ;\n",
    "    INT ;\n",
    "    NIL operation ;\n",
    "    PAIR\n",
    "} ;\n",
    "\n",
    "RUN %default 9 8 ;"
   ]
  },
  {
   "cell_type": "code",
   "execution_count": 3,
   "metadata": {},
   "outputs": [
    {
     "name": "stdout",
     "output_type": "stream",
     "text": [
      "storage nat;\n",
      "parameter int;\n",
      "code { CAR ; ABS ; NIL operation ; PAIR };\n",
      "RUN: use %default; drop all; push (9, 8);\n",
      "CAR: pop (9, 8); push 9;\n",
      "ABS: pop 9; push 9;\n",
      "NIL: push [];\n",
      "PAIR: pop [], 9; push ([], 9);"
     ]
    },
    {
     "data": {
      "text/html": [
       "<table>\n",
       "<thead>\n",
       "<tr><th>value                                 </th><th>type                                    </th></tr>\n",
       "</thead>\n",
       "<tbody>\n",
       "<tr><td><pre style=&quot;text-align: left;&quot;>9</pre></td><td><pre style=&quot;text-align: left;&quot;>nat</pre></td></tr>\n",
       "</tbody>\n",
       "</table>"
      ],
      "text/plain": [
       "  value  type\n",
       "-------  ------\n",
       "      9  nat"
      ]
     },
     "execution_count": 3,
     "metadata": {},
     "output_type": "execute_result"
    }
   ],
   "source": [
    "storage nat ;\n",
    "parameter int ;\n",
    "code {\n",
    "    CAR ;\n",
    "    ABS ;\n",
    "    NIL operation ;\n",
    "    PAIR\n",
    "} ;\n",
    "\n",
    "RUN %default 9 8 ;"
   ]
  },
  {
   "cell_type": "markdown",
   "metadata": {},
   "source": [
    "You may also want to check if the `int` value you have in the stack is above zero before turning it into a `nat` value (because **`ABS`** will remove the negative sign of any integer). If it's the case, you can use **`ISNAT`**. If the `int` value is equal or greater than zero, the instruction returns `(option nat) (Some value)`. If the `int` value is less than zero, the instruction returns `(option nat) (None)`:"
   ]
  },
  {
   "cell_type": "code",
   "execution_count": 6,
   "metadata": {},
   "outputs": [
    {
     "name": "stdout",
     "output_type": "stream",
     "text": [
      "storage nat;\n",
      "parameter int;\n",
      "code { CAR ; ISNAT ; { IF_NONE { { UNIT ; FAILWITH } } { NIL operation ; PAIR } } };\n",
      "RUN: use %default; drop all; push (9, 8);\n",
      "CAR: pop (9, 8); push 9;\n",
      "ISNAT: pop 9; push (9,);\n",
      "IF_NONE: pop (9,); push 9;\n",
      "NIL: push [];\n",
      "PAIR: pop [], 9; push ([], 9);"
     ]
    },
    {
     "data": {
      "text/html": [
       "<table>\n",
       "<thead>\n",
       "<tr><th>value                                 </th><th>type                                    </th></tr>\n",
       "</thead>\n",
       "<tbody>\n",
       "<tr><td><pre style=&quot;text-align: left;&quot;>9</pre></td><td><pre style=&quot;text-align: left;&quot;>nat</pre></td></tr>\n",
       "</tbody>\n",
       "</table>"
      ],
      "text/plain": [
       "  value  type\n",
       "-------  ------\n",
       "      9  nat"
      ]
     },
     "execution_count": 6,
     "metadata": {},
     "output_type": "execute_result"
    }
   ],
   "source": [
    "storage nat ;\n",
    "parameter int ;\n",
    "code {\n",
    "    CAR ;\n",
    "    ISNAT ;\n",
    "    IF_SOME\n",
    "        {\n",
    "            NIL operation ;\n",
    "            PAIR\n",
    "        }\n",
    "        { FAIL }\n",
    "} ;\n",
    "\n",
    "RUN %default 9 8 ;"
   ]
  },
  {
   "cell_type": "markdown",
   "metadata": {},
   "source": [
    "Now if you change `9` for `-9`, you will see the contract fail as the negative integer triggers the **`FAIL`** instruction.\n",
    "\n",
    "You can also use \"hacks\" to cast some values. One of the most frequently encountered is a hack based on the subtraction. Let's say you need to cast a `timestamp` into an `int`. There is no instruction for that. However, if you subtract a `timestamp` from another `timestamp`, you get an `int`. You can then create a `timestamp` equal to zero and subtract it from the `timestamp` you want to cast into an `int`:"
   ]
  },
  {
   "cell_type": "code",
   "execution_count": 30,
   "metadata": {},
   "outputs": [
    {
     "name": "stdout",
     "output_type": "stream",
     "text": [
      "storage int;\n",
      "parameter unit;\n",
      "code { DROP ; PUSH timestamp 0 ; NOW ; SUB ; NIL operation ; PAIR };\n",
      "RUN: use %default; drop all; push (Unit, 0);\n",
      "DROP: pop (Unit, 0);\n",
      "PUSH: push 0;\n",
      "NOW: push 1594026174;\n",
      "SUB: pop 1594026174, 0; push 1594026174;\n",
      "NIL: push [];\n",
      "PAIR: pop [], 1594026174; push ([], 1594026174);"
     ]
    },
    {
     "data": {
      "text/html": [
       "<table>\n",
       "<thead>\n",
       "<tr><th>value                                          </th><th>type                                    </th></tr>\n",
       "</thead>\n",
       "<tbody>\n",
       "<tr><td><pre style=&quot;text-align: left;&quot;>1594026174</pre></td><td><pre style=&quot;text-align: left;&quot;>int</pre></td></tr>\n",
       "</tbody>\n",
       "</table>"
      ],
      "text/plain": [
       "     value  type\n",
       "----------  ------\n",
       "1594026174  int"
      ]
     },
     "execution_count": 30,
     "metadata": {},
     "output_type": "execute_result"
    }
   ],
   "source": [
    "storage int ;\n",
    "parameter unit ;\n",
    "code {\n",
    "    DROP ;\n",
    "    PUSH timestamp 0 ;\n",
    "    NOW ;\n",
    "    SUB ;\n",
    "    NIL operation ;\n",
    "    PAIR ;\n",
    "} ;\n",
    "\n",
    "RUN %default Unit 0 ;"
   ]
  },
  {
   "cell_type": "markdown",
   "metadata": {},
   "source": [
    "Now you have an `int` whose value is the same as the provided `timestamp`!\n",
    "\n",
    "With a little bit of imagination, it is also possible to cast other values, for example a `mutez` into a `nat`! This time, we can use **`EDIV`** to turn a `mutez` value into an `int` value. When you divide two `mutez` values together, you get an optional value with a pair that contains a `nat` (the result) in the left field. If you divide a value by `1`, the result will be the same value, then if you divide `mutez 22` by `mutez 1`, the result will be `nat 22` as illustrated below:"
   ]
  },
  {
   "cell_type": "code",
   "execution_count": 32,
   "metadata": {},
   "outputs": [
    {
     "name": "stdout",
     "output_type": "stream",
     "text": [
      "storage nat;\n",
      "parameter unit;\n",
      "code { DROP ; PUSH mutez 1 ; PUSH mutez 5566778899 ; EDIV ; { IF_NONE { { UNIT ; FAILWITH } } { CAR ; NIL operation ; PAIR } } };\n",
      "RUN: use %default; drop all; push (Unit, 0);\n",
      "DROP: pop (Unit, 0);\n",
      "PUSH: push 1;\n",
      "PUSH: push 5566778899;\n",
      "EDIV: pop 5566778899, 1; push ((5566778899, 0),);\n",
      "IF_NONE: pop ((5566778899, 0),); push (5566778899, 0);\n",
      "CAR: pop (5566778899, 0); push 5566778899;\n",
      "NIL: push [];\n",
      "PAIR: pop [], 5566778899; push ([], 5566778899);"
     ]
    },
    {
     "data": {
      "text/html": [
       "<table>\n",
       "<thead>\n",
       "<tr><th>value                                          </th><th>type                                    </th></tr>\n",
       "</thead>\n",
       "<tbody>\n",
       "<tr><td><pre style=&quot;text-align: left;&quot;>5566778899</pre></td><td><pre style=&quot;text-align: left;&quot;>nat</pre></td></tr>\n",
       "</tbody>\n",
       "</table>"
      ],
      "text/plain": [
       "     value  type\n",
       "----------  ------\n",
       "5566778899  nat"
      ]
     },
     "execution_count": 32,
     "metadata": {},
     "output_type": "execute_result"
    }
   ],
   "source": [
    "storage nat ;\n",
    "parameter unit ;\n",
    "code {\n",
    "    DROP ;\n",
    "    PUSH mutez 1 ;\n",
    "    PUSH mutez 5566778899 ;\n",
    "    EDIV ;\n",
    "    IF_SOME \n",
    "        {\n",
    "            CAR ;\n",
    "            NIL operation ;\n",
    "            PAIR ;\n",
    "        }\n",
    "        { FAIL }\n",
    "} ;\n",
    "\n",
    "RUN %default Unit 0 ;"
   ]
  },
  {
   "cell_type": "code",
   "execution_count": null,
   "metadata": {},
   "outputs": [],
   "source": []
  }
 ],
 "metadata": {
  "kernelspec": {
   "display_name": "Michelson",
   "language": "michelson",
   "name": "michelson"
  },
  "language_info": {
   "codemirror_mode": "michelson",
   "file_extension": ".tz",
   "mimetype": "text/x-michelson",
   "name": "Michelson"
  }
 },
 "nbformat": 4,
 "nbformat_minor": 4
}

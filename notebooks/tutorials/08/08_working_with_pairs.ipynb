{
 "cells": [
  {
   "cell_type": "markdown",
   "metadata": {},
   "source": [
    "# Chapter 8\n",
    "\n",
    "Pairs are probably one of the most important type in your Michelson tool belt. Every contract starts with a pair, every contract ends with a pair. They are a fundamental component of Michelson contracts. A pair is the smallest type of value you can use to store multiple values: it can hold two values of different types. You can also *nest* pairs: a pair can consist of a simple value and another pair or even two other pairs! This model allows nesting multiple pairs one into the other, like Russian dolls.\n",
    "\n",
    "Along the previous lessons, we encountered a couple of instruction that act on pairs, namely **`CAR`** and **`CDR`**. If you remember, these two opcodes extract the left side and the right side of the pair, respectively. There is also **`PAIR`** that creates a new pair with two provided values. But that's just the tip of the iceberg! There are other instructions you can use to create or manipulate pairs. By the end of this chapter, pairs will have no secret for you!\n",
    "\n",
    "## Overview of the pair type\n",
    "\n",
    "A pair is fundamentally a value that holds two other values. These two values can be of any type. In the documentation, you will find pair type written this way: `(pair type1 type2)`. The value of the pair is written this way: `(Pair value1 value2)`. Every smart contract written in Michelson starts and ends with a pair:"
   ]
  },
  {
   "cell_type": "code",
   "execution_count": 1,
   "metadata": {},
   "outputs": [
    {
     "name": "stdout",
     "output_type": "stream",
     "text": [
      "storage (pair int int);\n",
      "parameter unit;\n",
      "code { DROP ; PUSH int 6 ; PUSH int 7 ; PAIR ; NIL operation ; PAIR };\n",
      "RUN: use %default; drop all; push (Unit, (0, 0));\n",
      "DROP: pop (Unit, (0, 0));\n",
      "PUSH: push 6;\n",
      "PUSH: push 7;\n",
      "PAIR: pop 7, 6; push (7, 6);\n",
      "NIL: push [];\n",
      "PAIR: pop [], (7, 6); push ([], (7, 6));"
     ]
    },
    {
     "data": {
      "text/html": [
       "<table>\n",
       "<thead>\n",
       "<tr><th>value                                        </th><th>type                                             </th></tr>\n",
       "</thead>\n",
       "<tbody>\n",
       "<tr><td><pre style=&quot;text-align: left;&quot;>Pair 7 6</pre></td><td><pre style=&quot;text-align: left;&quot;>pair int int</pre></td></tr>\n",
       "</tbody>\n",
       "</table>"
      ],
      "text/plain": [
       "value     type\n",
       "--------  ------------\n",
       "Pair 7 6  pair int int"
      ]
     },
     "execution_count": 1,
     "metadata": {},
     "output_type": "execute_result"
    }
   ],
   "source": [
    "storage (pair int int) ;\n",
    "parameter unit ;\n",
    "code {\n",
    "    DROP ;\n",
    "    PUSH int 6 ;\n",
    "    PUSH int 7 ;\n",
    "    PAIR ;\n",
    "    NIL operation ;\n",
    "    PAIR ;\n",
    "} ;\n",
    "\n",
    "RUN %default Unit (Pair 0 0) ;"
   ]
  },
  {
   "cell_type": "markdown",
   "metadata": {},
   "source": [
    "You can choose the types you want in a pair, even other pairs:"
   ]
  },
  {
   "cell_type": "code",
   "execution_count": 11,
   "metadata": {},
   "outputs": [
    {
     "name": "stdout",
     "output_type": "stream",
     "text": [
      "storage unit;\n",
      "parameter unit;\n",
      "BEGIN: use %default; drop all; push (Unit, Unit);\n",
      "DROP: pop (Unit, Unit);\n",
      "PUSH: push 5;\n",
      "PUSH: push hello;\n",
      "PAIR: pop hello, 5; push ('hello', 5);\n",
      "PUSH: push 5000;\n",
      "NOW: push 1593583442;\n",
      "PAIR: pop 1593583442, 5000; push (1593583442, 5000);\n",
      "PUSH: push (3, 'hello');\n",
      "PUSH: push (5, 45678);\n",
      "PAIR: pop (5, 45678), (3, 'hello'); push ((5, 45678), (3, 'hello'));"
     ]
    },
    {
     "data": {
      "text/html": [
       "<table>\n",
       "<thead>\n",
       "<tr><th>value                                                                    </th><th>type                                                                        </th><th>name                                             </th></tr>\n",
       "</thead>\n",
       "<tbody>\n",
       "<tr><td><pre style=&quot;text-align: left;&quot;>Pair (Pair 5 45678) (Pair 3 &quot;hello&quot;)</pre></td><td><pre style=&quot;text-align: left;&quot;>pair (pair nat mutez) (pair int string)</pre></td><td><pre style=&quot;text-align: left;&quot;>@third_pair</pre> </td></tr>\n",
       "<tr><td><pre style=&quot;text-align: left;&quot;>Pair 1593583442 5000</pre>                </td><td><pre style=&quot;text-align: left;&quot;>pair timestamp mutez</pre>                   </td><td><pre style=&quot;text-align: left;&quot;>@second_pair</pre></td></tr>\n",
       "<tr><td><pre style=&quot;text-align: left;&quot;>Pair &quot;hello&quot; 5</pre>                      </td><td><pre style=&quot;text-align: left;&quot;>pair string nat</pre>                        </td><td><pre style=&quot;text-align: left;&quot;>@first_pair</pre> </td></tr>\n",
       "</tbody>\n",
       "</table>"
      ],
      "text/plain": [
       "value                                 type                                     name\n",
       "------------------------------------  ---------------------------------------  ------------\n",
       "Pair (Pair 5 45678) (Pair 3 \"hello\")  pair (pair nat mutez) (pair int string)  @third_pair\n",
       "Pair 1593583442 5000                  pair timestamp mutez                     @second_pair\n",
       "Pair \"hello\" 5                        pair string nat                          @first_pair"
      ]
     },
     "execution_count": 11,
     "metadata": {},
     "output_type": "execute_result"
    }
   ],
   "source": [
    "storage unit ;\n",
    "parameter unit ;\n",
    "BEGIN Unit Unit ;\n",
    "DROP ;\n",
    "PUSH nat 5 ;\n",
    "PUSH string \"hello\" ;\n",
    "PAIR @first_pair ;\n",
    "PUSH mutez 5000 ;\n",
    "NOW ;\n",
    "PAIR @second_pair ;\n",
    "PUSH (pair int string) (Pair 3 \"hello\") ;\n",
    "PUSH (pair nat mutez) (Pair 5 45678) ;\n",
    "PAIR @third_pair ;\n",
    "DUMP ;"
   ]
  },
  {
   "cell_type": "markdown",
   "metadata": {},
   "source": [
    "## Operations on pairs"
   ]
  },
  {
   "cell_type": "markdown",
   "metadata": {},
   "source": [
    "A few instructions are available on pairs. The first one is an operation we have already been using since the beginning: **`PAIR`**. **`PAIR`** allows you to take the two elements on top of the stack and put them in a `pair`. It goes without saying that **`PAIR`** only works if there are currently two elements on top of the stack. Unlike `list`, you don't have to specify the type of the two elements, the first element will be on the left side of the pair and the second element on the right side. The instruction was illustrated above.\n",
    "\n",
    "Next come two other instructions that we have also been using for a while: **`CAR`** and **`CDR`**. If you remember, **`CAR`** extracts the left side of a pair while **`CDR`** extracts the right side:"
   ]
  },
  {
   "cell_type": "code",
   "execution_count": 12,
   "metadata": {},
   "outputs": [
    {
     "name": "stdout",
     "output_type": "stream",
     "text": [
      "DROP_ALL: drop all;\n",
      "PUSH: push (5, 'tezos');\n",
      "DUP: push (5, 'tezos');\n",
      "CAR: pop (5, 'tezos'); push 5;\n",
      "SWAP: pop 5, (5, 'tezos'); push 5; push (5, 'tezos');\n",
      "CDR: pop (5, 'tezos'); push tezos;"
     ]
    },
    {
     "data": {
      "text/html": [
       "<table>\n",
       "<thead>\n",
       "<tr><th>value                                       </th><th>type                                       </th><th>name                                            </th></tr>\n",
       "</thead>\n",
       "<tbody>\n",
       "<tr><td><pre style=&quot;text-align: left;&quot;>&quot;tezos&quot;</pre></td><td><pre style=&quot;text-align: left;&quot;>string</pre></td><td><pre style=&quot;text-align: left;&quot;>@right_side</pre></td></tr>\n",
       "<tr><td><pre style=&quot;text-align: left;&quot;>5</pre>      </td><td><pre style=&quot;text-align: left;&quot;>nat</pre>   </td><td><pre style=&quot;text-align: left;&quot;>@left_side</pre> </td></tr>\n",
       "</tbody>\n",
       "</table>"
      ],
      "text/plain": [
       "value    type    name\n",
       "-------  ------  -----------\n",
       "\"tezos\"  string  @right_side\n",
       "5        nat     @left_side"
      ]
     },
     "execution_count": 12,
     "metadata": {},
     "output_type": "execute_result"
    }
   ],
   "source": [
    "DROP_ALL ;\n",
    "PUSH (pair nat string) (Pair 5 \"tezos\") ;\n",
    "DUP ;\n",
    "CAR @left_side ;\n",
    "SWAP ;\n",
    "CDR @right_side ;\n",
    "DUMP ;"
   ]
  },
  {
   "cell_type": "markdown",
   "metadata": {},
   "source": [
    "You should be familiar with their functioning now.  \n",
    "It is possible to \"combine\" these two instructions when working with nested pairs (i.e pairs inside pairs). If you have ever checked Michelson contracts, you probably noticed that nested pairs are pretty common. Let's observe the snippet below:"
   ]
  },
  {
   "cell_type": "code",
   "execution_count": 13,
   "metadata": {},
   "outputs": [
    {
     "name": "stdout",
     "output_type": "stream",
     "text": [
      "DROP_ALL: drop all;\n",
      "PUSH: push ((5, 6), ('hello', 'world'));\n",
      "CAR: pop ((5, 6), ('hello', 'world')); push (5, 6);\n",
      "CDR: pop (5, 6); push 6;"
     ]
    },
    {
     "data": {
      "text/html": [
       "<table>\n",
       "<thead>\n",
       "<tr><th>value                                 </th><th>type                                    </th></tr>\n",
       "</thead>\n",
       "<tbody>\n",
       "<tr><td><pre style=&quot;text-align: left;&quot;>6</pre></td><td><pre style=&quot;text-align: left;&quot;>nat</pre></td></tr>\n",
       "</tbody>\n",
       "</table>"
      ],
      "text/plain": [
       "  value  type\n",
       "-------  ------\n",
       "      6  nat"
      ]
     },
     "execution_count": 13,
     "metadata": {},
     "output_type": "execute_result"
    }
   ],
   "source": [
    "DROP_ALL ;\n",
    "PUSH (pair (pair nat nat) (pair string string)) (Pair (Pair 5 6) (Pair \"hello\" \"world\")) ;\n",
    "CADR ;\n",
    "DUMP ;"
   ]
  },
  {
   "cell_type": "markdown",
   "metadata": {},
   "source": [
    "This is one long instruction! It created nested pairs: a root pair that contains two other pairs: on the left side, a pair with a `nat` on the left and a `nat` on the right, on the right side, a pair with a `string` on the left and a `string` on the right. As you can see from the result, the **`CADR`** instruction is equal to **`CAR ; CDR ;`**, i.e it will extract the pair on the left side of a pair and then extract the right side of the nested pair. If you want to extract the left side of the nested pair, you can use **`CAAR`**:"
   ]
  },
  {
   "cell_type": "code",
   "execution_count": 14,
   "metadata": {},
   "outputs": [
    {
     "name": "stdout",
     "output_type": "stream",
     "text": [
      "DROP_ALL: drop all;\n",
      "PUSH: push ((5, 6), ('hello', 'world'));\n",
      "CAR: pop ((5, 6), ('hello', 'world')); push (5, 6);\n",
      "CAR: pop (5, 6); push 5;"
     ]
    },
    {
     "data": {
      "text/html": [
       "<table>\n",
       "<thead>\n",
       "<tr><th>value                                 </th><th>type                                    </th></tr>\n",
       "</thead>\n",
       "<tbody>\n",
       "<tr><td><pre style=&quot;text-align: left;&quot;>5</pre></td><td><pre style=&quot;text-align: left;&quot;>nat</pre></td></tr>\n",
       "</tbody>\n",
       "</table>"
      ],
      "text/plain": [
       "  value  type\n",
       "-------  ------\n",
       "      5  nat"
      ]
     },
     "execution_count": 14,
     "metadata": {},
     "output_type": "execute_result"
    }
   ],
   "source": [
    "DROP_ALL ;\n",
    "PUSH (pair (pair nat nat) (pair string string)) (Pair (Pair 5 6) (Pair \"hello\" \"world\")) ;\n",
    "CAAR ;\n",
    "DUMP ;"
   ]
  },
  {
   "cell_type": "markdown",
   "metadata": {},
   "source": [
    "To work on the right side of the root pair, you can use **`CDAR`** (to extract its left side) or **`CDDR`** (to extract its right side):"
   ]
  },
  {
   "cell_type": "code",
   "execution_count": 35,
   "metadata": {},
   "outputs": [
    {
     "name": "stdout",
     "output_type": "stream",
     "text": [
      "DROP_ALL: drop all;\n",
      "PUSH: push ((5, 6), ('hello', 'world'));\n",
      "DUP: push ((5, 6), ('hello', 'world'));\n",
      "CDR: pop ((5, 6), ('hello', 'world')); push ('hello', 'world');\n",
      "CAR: pop ('hello', 'world'); push hello;\n",
      "SWAP: pop hello, ((5, 6), ('hello', 'world')); push hello; push ((5, 6), ('hello', 'world'));\n",
      "CDR: pop ((5, 6), ('hello', 'world')); push ('hello', 'world');\n",
      "CDR: pop ('hello', 'world'); push world;"
     ]
    },
    {
     "data": {
      "text/html": [
       "<table>\n",
       "<thead>\n",
       "<tr><th>value                                       </th><th>type                                       </th></tr>\n",
       "</thead>\n",
       "<tbody>\n",
       "<tr><td><pre style=&quot;text-align: left;&quot;>&quot;world&quot;</pre></td><td><pre style=&quot;text-align: left;&quot;>string</pre></td></tr>\n",
       "<tr><td><pre style=&quot;text-align: left;&quot;>&quot;hello&quot;</pre></td><td><pre style=&quot;text-align: left;&quot;>string</pre></td></tr>\n",
       "</tbody>\n",
       "</table>"
      ],
      "text/plain": [
       "value    type\n",
       "-------  ------\n",
       "\"world\"  string\n",
       "\"hello\"  string"
      ]
     },
     "execution_count": 35,
     "metadata": {},
     "output_type": "execute_result"
    }
   ],
   "source": [
    "DROP_ALL ;\n",
    "PUSH (pair (pair nat nat) (pair string string)) (Pair (Pair 5 6) (Pair \"hello\" \"world\")) ;\n",
    "DUP;\n",
    "CDAR ;\n",
    "SWAP ;\n",
    "CDDR ;\n",
    "DUMP ;"
   ]
  },
  {
   "cell_type": "markdown",
   "metadata": {},
   "source": [
    "We can go even further and imagine a three-level nested pair. According to the level you are trying to reach, you can put more **A**s or more **D**s between **C** and **R** to access the value you want:"
   ]
  },
  {
   "cell_type": "code",
   "execution_count": 36,
   "metadata": {},
   "outputs": [
    {
     "name": "stdout",
     "output_type": "stream",
     "text": [
      "DROP_ALL: drop all;\n",
      "PUSH: push ((5, 6), (10, ('hello', 'world')));\n",
      "CDR: pop ((5, 6), (10, ('hello', 'world'))); push (10, ('hello', 'world'));\n",
      "CDR: pop (10, ('hello', 'world')); push ('hello', 'world');\n",
      "CDR: pop ('hello', 'world'); push world;"
     ]
    },
    {
     "data": {
      "text/html": [
       "<table>\n",
       "<thead>\n",
       "<tr><th>value                                       </th><th>type                                       </th></tr>\n",
       "</thead>\n",
       "<tbody>\n",
       "<tr><td><pre style=&quot;text-align: left;&quot;>&quot;world&quot;</pre></td><td><pre style=&quot;text-align: left;&quot;>string</pre></td></tr>\n",
       "</tbody>\n",
       "</table>"
      ],
      "text/plain": [
       "value    type\n",
       "-------  ------\n",
       "\"world\"  string"
      ]
     },
     "execution_count": 36,
     "metadata": {},
     "output_type": "execute_result"
    }
   ],
   "source": [
    "DROP_ALL ;\n",
    "PUSH (pair (pair nat nat) (pair int (pair string string))) (Pair (Pair 5 6) (Pair 10 (Pair \"hello\" \"world\"))) ;\n",
    "CDDDR ;\n",
    "DUMP ;"
   ]
  },
  {
   "cell_type": "markdown",
   "metadata": {},
   "source": [
    "The instructions we've seen so far only extracts elements that already exist in pairs, but what about modifying elements of pairs? Imagine you have this pair: `(Pair \"hello\" \"world\")`. How would you go if you want to replace \"world\" with \"Tezos\"?"
   ]
  },
  {
   "cell_type": "code",
   "execution_count": 37,
   "metadata": {
    "scrolled": true
   },
   "outputs": [
    {
     "name": "stdout",
     "output_type": "stream",
     "text": [
      "DROP: pop world;\n",
      "PUSH: push Tezos;\n",
      "PUSH: push ('hello', 'world');\n",
      "CAR: pop ('hello', 'world'); push hello;\n",
      "PAIR: pop hello, Tezos; push ('hello', 'Tezos');"
     ]
    },
    {
     "data": {
      "text/html": [
       "<table>\n",
       "<thead>\n",
       "<tr><th>value                                                    </th><th>type                                                   </th></tr>\n",
       "</thead>\n",
       "<tbody>\n",
       "<tr><td><pre style=&quot;text-align: left;&quot;>Pair &quot;hello&quot; &quot;Tezos&quot;</pre></td><td><pre style=&quot;text-align: left;&quot;>pair string string</pre></td></tr>\n",
       "</tbody>\n",
       "</table>"
      ],
      "text/plain": [
       "value                 type\n",
       "--------------------  ------------------\n",
       "Pair \"hello\" \"Tezos\"  pair string string"
      ]
     },
     "execution_count": 37,
     "metadata": {},
     "output_type": "execute_result"
    }
   ],
   "source": [
    "DROP ;\n",
    "PUSH string \"Tezos\" ;\n",
    "PUSH (pair string string) (Pair \"hello\" \"world\") ;\n",
    "CAR ;\n",
    "PAIR ;\n",
    "DUMP ;"
   ]
  },
  {
   "cell_type": "markdown",
   "metadata": {},
   "source": [
    "This method involves multiple instructions to extract the value you want and pair it with a second value. Michelson provides a few useful macros that just do that. The first one we are going to check is **`SET_CAR`**. **`SET_CAR`** will modify the left side of a pair. In order to use it, you must have two elements in your stack: a pair on top and the element to set on the left side below:"
   ]
  },
  {
   "cell_type": "code",
   "execution_count": 38,
   "metadata": {},
   "outputs": [
    {
     "name": "stdout",
     "output_type": "stream",
     "text": [
      "DROP: pop ('hello', 'Tezos');\n",
      "PUSH: push three;\n",
      "PUSH: push ('two', 'birds');\n",
      "CDR: pop ('two', 'birds'); push birds;\n",
      "SWAP: pop birds, three; push birds; push three;\n",
      "PAIR: pop three, birds; push ('three', 'birds');"
     ]
    },
    {
     "data": {
      "text/html": [
       "<table>\n",
       "<thead>\n",
       "<tr><th>value                                                    </th><th>type                                                   </th></tr>\n",
       "</thead>\n",
       "<tbody>\n",
       "<tr><td><pre style=&quot;text-align: left;&quot;>Pair &quot;three&quot; &quot;birds&quot;</pre></td><td><pre style=&quot;text-align: left;&quot;>pair string string</pre></td></tr>\n",
       "</tbody>\n",
       "</table>"
      ],
      "text/plain": [
       "value                 type\n",
       "--------------------  ------------------\n",
       "Pair \"three\" \"birds\"  pair string string"
      ]
     },
     "execution_count": 38,
     "metadata": {},
     "output_type": "execute_result"
    }
   ],
   "source": [
    "DROP ;\n",
    "PUSH string \"three\" ;\n",
    "PUSH (pair string string) (Pair \"two\" \"birds\") ;\n",
    "SET_CAR ;"
   ]
  },
  {
   "cell_type": "markdown",
   "metadata": {},
   "source": [
    "You can see that the pair we pushed has been modified and the left side that was \"two\" is now \"three\". If you want to do the same thing on the right side, you can use **`SET_CDR`**:"
   ]
  },
  {
   "cell_type": "code",
   "execution_count": 39,
   "metadata": {},
   "outputs": [
    {
     "name": "stdout",
     "output_type": "stream",
     "text": [
      "PUSH: push cats;\n",
      "SWAP: pop cats, ('three', 'birds'); push cats; push ('three', 'birds');\n",
      "CAR: pop ('three', 'birds'); push three;\n",
      "PAIR: pop three, cats; push ('three', 'cats');"
     ]
    },
    {
     "data": {
      "text/html": [
       "<table>\n",
       "<thead>\n",
       "<tr><th>value                                                   </th><th>type                                                   </th></tr>\n",
       "</thead>\n",
       "<tbody>\n",
       "<tr><td><pre style=&quot;text-align: left;&quot;>Pair &quot;three&quot; &quot;cats&quot;</pre></td><td><pre style=&quot;text-align: left;&quot;>pair string string</pre></td></tr>\n",
       "</tbody>\n",
       "</table>"
      ],
      "text/plain": [
       "value                type\n",
       "-------------------  ------------------\n",
       "Pair \"three\" \"cats\"  pair string string"
      ]
     },
     "execution_count": 39,
     "metadata": {},
     "output_type": "execute_result"
    }
   ],
   "source": [
    "PUSH string \"cats\" ;\n",
    "SWAP ; ## brings the pair on top of the element to include\n",
    "SET_CDR ;"
   ]
  },
  {
   "cell_type": "markdown",
   "metadata": {},
   "source": [
    "In this new example, \"birds\" has been replaced with \"cats\". Even better, you can use macros after `SET_` if you want to access nested pairs like in the example above and set their elements:"
   ]
  },
  {
   "cell_type": "code",
   "execution_count": 40,
   "metadata": {},
   "outputs": [
    {
     "name": "stdout",
     "output_type": "stream",
     "text": [
      "PUSH: push ('four', 'birds');\n",
      "PAIR: pop ('four', 'birds'), ('three', 'cats'); push (('four', 'birds'), ('three', 'cats'));\n",
      "PUSH: push five;\n",
      "SWAP: pop five, (('four', 'birds'), ('three', 'cats')); push five; push (('four', 'birds'), ('three', 'cats'));\n",
      "DUP: push (('four', 'birds'), ('three', 'cats'));\n",
      "DIP: protect 1 item(s);\n",
      "  CDR: pop (('four', 'birds'), ('three', 'cats')); push ('three', 'cats');\n",
      "  CDR: pop ('three', 'cats'); push cats;\n",
      "  SWAP: pop cats, five; push cats; push five;\n",
      "  PAIR: pop five, cats; push ('five', 'cats');\n",
      "  restore 1 item(s);\n",
      "CAR: pop (('four', 'birds'), ('three', 'cats')); push ('four', 'birds');\n",
      "PAIR: pop ('four', 'birds'), ('five', 'cats'); push (('four', 'birds'), ('five', 'cats'));"
     ]
    },
    {
     "data": {
      "text/html": [
       "<table>\n",
       "<thead>\n",
       "<tr><th>value                                                                               </th><th>type                                                                               </th></tr>\n",
       "</thead>\n",
       "<tbody>\n",
       "<tr><td><pre style=&quot;text-align: left;&quot;>Pair (Pair &quot;four&quot; &quot;birds&quot;) (Pair &quot;five&quot; &quot;cats&quot;)</pre></td><td><pre style=&quot;text-align: left;&quot;>pair (pair string string) (pair string string)</pre></td></tr>\n",
       "</tbody>\n",
       "</table>"
      ],
      "text/plain": [
       "value                                            type\n",
       "-----------------------------------------------  ----------------------------------------------\n",
       "Pair (Pair \"four\" \"birds\") (Pair \"five\" \"cats\")  pair (pair string string) (pair string string)"
      ]
     },
     "execution_count": 40,
     "metadata": {},
     "output_type": "execute_result"
    }
   ],
   "source": [
    "PUSH (pair string string) (Pair \"four\" \"birds\") ;\n",
    "PAIR ;\n",
    "PUSH string \"five\" ;\n",
    "SWAP ;\n",
    "SET_CDAR ;"
   ]
  },
  {
   "cell_type": "markdown",
   "metadata": {},
   "source": [
    "As expected with the **`CDAR`** macro, we access first the right side of the pair (the **D** in **`CDAR`**) then the left side (the **A** in **`CDAR`**) that we replace with the string we pushed earlier.\n",
    "\n",
    "Now your brain must have warmed up and be ready to go down the rabbithole of pairs in Michelson! So far, we've seen how to set data in a pair, how to extract it and how to swap one value with another one. What about running some code on the data in a pair? 🤯\n",
    "\n",
    "Imagine a pair containing two numbers. How would you proceed if you want to increment the number on the left?"
   ]
  },
  {
   "cell_type": "code",
   "execution_count": 41,
   "metadata": {},
   "outputs": [
    {
     "name": "stdout",
     "output_type": "stream",
     "text": [
      "DROP: pop (('four', 'birds'), ('five', 'cats'));\n",
      "PUSH: push (10, 5);\n",
      "DUP: push (10, 5);\n",
      "CDR: pop (10, 5); push 5;\n",
      "DIP: protect 1 item(s);\n",
      "  CAR: pop (10, 5); push 10;\n",
      "  PUSH: push 5;\n",
      "  ADD: pop 5, 10; push 15;\n",
      "  restore 1 item(s);\n",
      "SWAP: pop 5, 15; push 5; push 15;\n",
      "PAIR: pop 15, 5; push (15, 5);"
     ]
    },
    {
     "data": {
      "text/html": [
       "<table>\n",
       "<thead>\n",
       "<tr><th>value                                         </th><th>type                                             </th></tr>\n",
       "</thead>\n",
       "<tbody>\n",
       "<tr><td><pre style=&quot;text-align: left;&quot;>Pair 15 5</pre></td><td><pre style=&quot;text-align: left;&quot;>pair int int</pre></td></tr>\n",
       "</tbody>\n",
       "</table>"
      ],
      "text/plain": [
       "value      type\n",
       "---------  ------------\n",
       "Pair 15 5  pair int int"
      ]
     },
     "execution_count": 41,
     "metadata": {},
     "output_type": "execute_result"
    }
   ],
   "source": [
    "DROP ;\n",
    "PUSH (pair int int) (Pair 10 5) ;\n",
    "DUP ; \n",
    "CDR ; \n",
    "DIP { CAR ; PUSH int 5 ; ADD } ;\n",
    "SWAP ;\n",
    "PAIR ;"
   ]
  },
  {
   "cell_type": "markdown",
   "metadata": {},
   "source": [
    "Multiple steps are involved here to add `5` to the `10` on the left side of the pair:\n",
    "1. We duplicate the pair as we will need access to both the left field and the right field\n",
    "2. We extract the value on the right side of the pair.\n",
    "3. **`DIP`** protects the value on top of the stack and run the following code on the second element: extract the value on the left side, push `5` and add `5` to the value that was on the left side of the pair.\n",
    "4. **`SWAP`** puts the two values in the initial order\n",
    "5. **`PAIR`** creates a new pair\n",
    "\n",
    "As you can imagine, these are a lot of steps involved in modifying a single value. Fortunately, Michelson provides a very useful macro that will run this code for you under the hood: **`MAP_CAR`**. Let's take the same example and use this macro instead:"
   ]
  },
  {
   "cell_type": "code",
   "execution_count": 42,
   "metadata": {
    "scrolled": true
   },
   "outputs": [
    {
     "name": "stdout",
     "output_type": "stream",
     "text": [
      "DROP: pop (15, 5);\n",
      "PUSH: push (10, 5);\n",
      "DUP: push (10, 5);\n",
      "CDR: pop (10, 5); push 5;\n",
      "DIP: protect 1 item(s);\n",
      "  CAR: pop (10, 5); push 10;\n",
      "  PUSH: push 5;\n",
      "  ADD: pop 5, 10; push 15;\n",
      "  restore 1 item(s);\n",
      "SWAP: pop 5, 15; push 5; push 15;\n",
      "PAIR: pop 15, 5; push (15, 5);"
     ]
    },
    {
     "data": {
      "text/html": [
       "<table>\n",
       "<thead>\n",
       "<tr><th>value                                         </th><th>type                                             </th></tr>\n",
       "</thead>\n",
       "<tbody>\n",
       "<tr><td><pre style=&quot;text-align: left;&quot;>Pair 15 5</pre></td><td><pre style=&quot;text-align: left;&quot;>pair int int</pre></td></tr>\n",
       "</tbody>\n",
       "</table>"
      ],
      "text/plain": [
       "value      type\n",
       "---------  ------------\n",
       "Pair 15 5  pair int int"
      ]
     },
     "execution_count": 42,
     "metadata": {},
     "output_type": "execute_result"
    }
   ],
   "source": [
    "DROP ;\n",
    "PUSH (pair int int) (Pair 10 5) ;\n",
    "MAP_CAR { PUSH int 5 ; ADD } ;"
   ]
  },
  {
   "cell_type": "markdown",
   "metadata": {},
   "source": [
    "You have to admit, that's a lot simpler than the first solution! With **`MAP_CAR`**, you only need to provide the code you want to run on the left field of the pair and the macro will do the rest for you.\n",
    "\n",
    "As you may have guessed, we also have **`MAP_CDR`** to run code on the right side of the pair:"
   ]
  },
  {
   "cell_type": "code",
   "execution_count": 48,
   "metadata": {},
   "outputs": [
    {
     "name": "stdout",
     "output_type": "stream",
     "text": [
      "DROP: pop -2;\n",
      "PUSH: push (20, 3);\n",
      "DUP: push (20, 3);\n",
      "CDR: pop (20, 3); push 3;\n",
      "PUSH: push 6;\n",
      "SWAP: pop 6, 3; push 6; push 3;\n",
      "SUB: pop 3, 6; push -3;\n",
      "SWAP: pop -3, (20, 3); push -3; push (20, 3);\n",
      "CAR: pop (20, 3); push 20;\n",
      "PAIR: pop 20, -3; push (20, -3);"
     ]
    },
    {
     "data": {
      "text/html": [
       "<table>\n",
       "<thead>\n",
       "<tr><th>value                                          </th><th>type                                             </th></tr>\n",
       "</thead>\n",
       "<tbody>\n",
       "<tr><td><pre style=&quot;text-align: left;&quot;>Pair 20 -3</pre></td><td><pre style=&quot;text-align: left;&quot;>pair nat int</pre></td></tr>\n",
       "</tbody>\n",
       "</table>"
      ],
      "text/plain": [
       "value       type\n",
       "----------  ------------\n",
       "Pair 20 -3  pair nat int"
      ]
     },
     "execution_count": 48,
     "metadata": {},
     "output_type": "execute_result"
    }
   ],
   "source": [
    "DROP ;\n",
    "PUSH (pair nat nat) (Pair 20 3) ;\n",
    "MAP_CDR { PUSH nat 6 ; SWAP ; SUB } ;"
   ]
  },
  {
   "cell_type": "markdown",
   "metadata": {},
   "source": [
    "Just like the **`SET_`**, you can modify the right side of the **`MAP_`** to access nested pairs. Let's see an example:"
   ]
  },
  {
   "cell_type": "code",
   "execution_count": 51,
   "metadata": {},
   "outputs": [
    {
     "name": "stdout",
     "output_type": "stream",
     "text": [
      "DROP: pop (20, -3);\n",
      "PUSH: push (('birds', 'cats'), ('dogs', 'cows'));\n",
      "DUP: push (('birds', 'cats'), ('dogs', 'cows'));\n",
      "DIP: protect 1 item(s);\n",
      "  CAR: pop (('birds', 'cats'), ('dogs', 'cows')); push ('birds', 'cats');\n",
      "  DUP: push ('birds', 'cats');\n",
      "  CDR: pop ('birds', 'cats'); push cats;\n",
      "  PUSH: push  and butterflies;\n",
      "  SWAP: pop  and butterflies, cats; push  and butterflies; push cats;\n",
      "  CONCAT: pop cats; pop  and butterflies; push cats and butterflies;\n",
      "  SWAP: pop cats and butterflies, ('birds', 'cats'); push cats and butterflies; push ('birds', 'cats');\n",
      "  CAR: pop ('birds', 'cats'); push birds;\n",
      "  PAIR: pop birds, cats and butterflies; push ('birds', 'cats and butterflies');\n",
      "  restore 1 item(s);\n",
      "CDR: pop (('birds', 'cats'), ('dogs', 'cows')); push ('dogs', 'cows');\n",
      "SWAP: pop ('dogs', 'cows'), ('birds', 'cats and butterflies'); push ('dogs', 'cows'); push ('birds', 'cats and butterflies');\n",
      "PAIR: pop ('birds', 'cats and butterflies'), ('dogs', 'cows'); push (('birds', 'cats and butterflies'), ('dogs', 'cows'));"
     ]
    },
    {
     "data": {
      "text/html": [
       "<table>\n",
       "<thead>\n",
       "<tr><th>value                                                                                               </th><th>type                                                                               </th></tr>\n",
       "</thead>\n",
       "<tbody>\n",
       "<tr><td><pre style=&quot;text-align: left;&quot;>Pair (Pair &quot;birds&quot; &quot;cats and butterflies&quot;) (Pair &quot;dogs&quot; &quot;cows&quot;)</pre></td><td><pre style=&quot;text-align: left;&quot;>pair (pair string string) (pair string string)</pre></td></tr>\n",
       "</tbody>\n",
       "</table>"
      ],
      "text/plain": [
       "value                                                            type\n",
       "---------------------------------------------------------------  ----------------------------------------------\n",
       "Pair (Pair \"birds\" \"cats and butterflies\") (Pair \"dogs\" \"cows\")  pair (pair string string) (pair string string)"
      ]
     },
     "execution_count": 51,
     "metadata": {},
     "output_type": "execute_result"
    }
   ],
   "source": [
    "DROP ; \n",
    "PUSH (pair (pair string string) (pair string string)) (Pair (Pair \"birds\" \"cats\") (Pair \"dogs\" \"cows\")) ;\n",
    "MAP_CADR { PUSH string \" and butterflies\" ; SWAP ; CONCAT } ;"
   ]
  },
  {
   "cell_type": "markdown",
   "metadata": {},
   "source": [
    "## Pairing and unpairing\n",
    "\n",
    "So far, the instructions we have seen only allow us to work on one element of a pair at a time. In some situations, you may want to put some elements of the stack in a pair or remove the elements of a pair to push them on the stack. In the simplest cases, you have two elements that you want to pair together. You can use the **`PAIR`** instruction to construct a pair:"
   ]
  },
  {
   "cell_type": "code",
   "execution_count": 14,
   "metadata": {},
   "outputs": [
    {
     "name": "stdout",
     "output_type": "stream",
     "text": [
      "storage unit;\n",
      "parameter unit;\n",
      "BEGIN: use %default; drop all; push (Unit, Unit);\n",
      "DROP: pop (Unit, Unit);\n",
      "PUSH: push 6;\n",
      "PUSH: push 5559988;\n",
      "PAIR: pop 5559988, 6; push (5559988, 6);"
     ]
    },
    {
     "data": {
      "text/html": [
       "<table>\n",
       "<thead>\n",
       "<tr><th>value                                              </th><th>type                                               </th></tr>\n",
       "</thead>\n",
       "<tbody>\n",
       "<tr><td><pre style=&quot;text-align: left;&quot;>Pair 5559988 6</pre></td><td><pre style=&quot;text-align: left;&quot;>pair mutez int</pre></td></tr>\n",
       "</tbody>\n",
       "</table>"
      ],
      "text/plain": [
       "value           type\n",
       "--------------  --------------\n",
       "Pair 5559988 6  pair mutez int"
      ]
     },
     "execution_count": 14,
     "metadata": {},
     "output_type": "execute_result"
    }
   ],
   "source": [
    "storage unit ;\n",
    "parameter unit ;\n",
    "BEGIN Unit Unit ;\n",
    "DROP ;\n",
    "PUSH int 6 ;\n",
    "PUSH mutez 5559988 ;\n",
    "PAIR ;"
   ]
  },
  {
   "cell_type": "markdown",
   "metadata": {},
   "source": [
    "You can easily deconstruct the pair and get the two elements it contains onto the stack with the **`UNPAIR`** instruction:"
   ]
  },
  {
   "cell_type": "code",
   "execution_count": 15,
   "metadata": {},
   "outputs": [
    {
     "name": "stdout",
     "output_type": "stream",
     "text": [
      "DUP: push (5559988, 6);\n",
      "CAR: pop (5559988, 6); push 5559988;\n",
      "DIP: protect 1 item(s);\n",
      "  CDR: pop (5559988, 6); push 6;\n",
      "  restore 1 item(s);"
     ]
    },
    {
     "data": {
      "text/html": [
       "<table>\n",
       "<thead>\n",
       "<tr><th>value                                       </th><th>type                                      </th></tr>\n",
       "</thead>\n",
       "<tbody>\n",
       "<tr><td><pre style=&quot;text-align: left;&quot;>5559988</pre></td><td><pre style=&quot;text-align: left;&quot;>mutez</pre></td></tr>\n",
       "<tr><td><pre style=&quot;text-align: left;&quot;>6</pre>      </td><td><pre style=&quot;text-align: left;&quot;>int</pre>  </td></tr>\n",
       "</tbody>\n",
       "</table>"
      ],
      "text/plain": [
       "  value  type\n",
       "-------  ------\n",
       "5559988  mutez\n",
       "      6  int"
      ]
     },
     "execution_count": 15,
     "metadata": {},
     "output_type": "execute_result"
    }
   ],
   "source": [
    "UNPAIR ;\n",
    "DUMP ;"
   ]
  },
  {
   "cell_type": "markdown",
   "metadata": {},
   "source": [
    "Under the hood, **`UNPAIR`** is just syntactic sugar for **`DUP ; CAR ; DIP { CDR } ;`** and you can observe that the element that was on the left side of the pair is now on top and the element from the right side just below.\n",
    "\n",
    "Now, what would happen with nested pairs? If we have two pairs in the stack and we want to pair them, we can just use **`PAIR`** as usual. It becomes more complicated if we have 4 elements in the stack and want to create an element of type `(pair (pair type type) (pair type type))`. Of course, we could type a few instructions to get this result (for example **`PAIR ; DIP { PAIR } ; PAIR ;`** but Michelson actually offers us a much simpler and elegant solution: *pair macros*. Let's have a look at an example:"
   ]
  },
  {
   "cell_type": "code",
   "execution_count": 16,
   "metadata": {},
   "outputs": [
    {
     "name": "stdout",
     "output_type": "stream",
     "text": [
      "DROP_ALL: drop all;\n",
      "PUSH: push 6;\n",
      "PUSH: push 8;\n",
      "PUSH: push 12;\n",
      "PUSH: push 19;\n",
      "DIP: protect 2 item(s);\n",
      "  PAIR: pop 8, 6; push (8, 6);\n",
      "  restore 2 item(s);\n",
      "PAIR: pop 19, 12; push (19, 12);\n",
      "PAIR: pop (19, 12), (8, 6); push ((19, 12), (8, 6));"
     ]
    },
    {
     "data": {
      "text/html": [
       "<table>\n",
       "<thead>\n",
       "<tr><th>value                                                            </th><th>type                                                                   </th></tr>\n",
       "</thead>\n",
       "<tbody>\n",
       "<tr><td><pre style=&quot;text-align: left;&quot;>Pair (Pair 19 12) (Pair 8 6)</pre></td><td><pre style=&quot;text-align: left;&quot;>pair (pair nat nat) (pair int int)</pre></td></tr>\n",
       "</tbody>\n",
       "</table>"
      ],
      "text/plain": [
       "value                         type\n",
       "----------------------------  ----------------------------------\n",
       "Pair (Pair 19 12) (Pair 8 6)  pair (pair nat nat) (pair int int)"
      ]
     },
     "execution_count": 16,
     "metadata": {},
     "output_type": "execute_result"
    }
   ],
   "source": [
    "DROP_ALL ;\n",
    "PUSH int 6 ;\n",
    "PUSH int 8 ;\n",
    "PUSH nat 12 ;\n",
    "PUSH nat 19 ;\n",
    "PPAIPAIR;\n",
    "DUMP ;"
   ]
  },
  {
   "cell_type": "markdown",
   "metadata": {},
   "source": [
    "Although **`PPAIPAIR`** looks like my cat walked on my keyboard, it is much easier than concatenating 4 instructions together! This is a very powerful macro that looks intimidating the first time you see it but becomes very easy to use once you understand its mechanism. There are only three rules to remember:\n",
    "1. The macro starts with `P` and ends with `R`.\n",
    "2. A `P` inside the macro indicates a new pair.\n",
    "3. `A` represents the left side of the macro while `I` represents the right side.\n",
    "\n",
    "This is how you can read the macro: this is a pair (**P**PAIPAI**R**), on the left side of the pair, there is a pair (P**P**AIPAIR) whose elements are not pairs (PP**AI**PAIR), on the right side, there is another pair (PPAI**P**AIR) whose elements are not pairs (PPAIP**AI**R).\n",
    "\n",
    "Let's see two more examples:"
   ]
  },
  {
   "cell_type": "code",
   "execution_count": 17,
   "metadata": {
    "scrolled": true
   },
   "outputs": [
    {
     "name": "stdout",
     "output_type": "stream",
     "text": [
      "DROP_ALL: drop all;\n",
      "PUSH: push 6;\n",
      "PUSH: push 8;\n",
      "PUSH: push 12;\n",
      "PUSH: push 19;\n",
      "DIP: protect 1 item(s);\n",
      "  PAIR: pop 12, 8; push (12, 8);\n",
      "  restore 1 item(s);\n",
      "PAIR: pop 19, (12, 8); push (19, (12, 8));"
     ]
    },
    {
     "data": {
      "text/html": [
       "<table>\n",
       "<thead>\n",
       "<tr><th>value                                                   </th><th>type                                                        </th></tr>\n",
       "</thead>\n",
       "<tbody>\n",
       "<tr><td><pre style=&quot;text-align: left;&quot;>Pair 19 (Pair 12 8)</pre></td><td><pre style=&quot;text-align: left;&quot;>pair nat (pair nat int)</pre></td></tr>\n",
       "</tbody>\n",
       "</table>"
      ],
      "text/plain": [
       "value                type\n",
       "-------------------  -----------------------\n",
       "Pair 19 (Pair 12 8)  pair nat (pair nat int)"
      ]
     },
     "execution_count": 17,
     "metadata": {},
     "output_type": "execute_result"
    }
   ],
   "source": [
    "DROP_ALL ;\n",
    "PUSH int 6 ;\n",
    "PUSH int 8 ;\n",
    "PUSH nat 12 ;\n",
    "PUSH nat 19 ;\n",
    "PAPAIR ; ## A pair with a value on the left side and a pair on the right side"
   ]
  },
  {
   "cell_type": "code",
   "execution_count": 18,
   "metadata": {},
   "outputs": [
    {
     "name": "stdout",
     "output_type": "stream",
     "text": [
      "DROP_ALL: drop all;\n",
      "PUSH: push 6;\n",
      "PUSH: push 8;\n",
      "PUSH: push 12;\n",
      "PUSH: push 19;\n",
      "PUSH: push 25;\n",
      "DIP: protect 3 item(s);\n",
      "  PAIR: pop 8, 6; push (8, 6);\n",
      "  restore 3 item(s);\n",
      "DIP: protect 1 item(s);\n",
      "  PAIR: pop 19, 12; push (19, 12);\n",
      "  restore 1 item(s);\n",
      "DIP: protect 1 item(s);\n",
      "  PAIR: pop (19, 12), (8, 6); push ((19, 12), (8, 6));\n",
      "  restore 1 item(s);\n",
      "PAIR: pop 25, ((19, 12), (8, 6)); push (25, ((19, 12), (8, 6)));"
     ]
    },
    {
     "data": {
      "text/html": [
       "<table>\n",
       "<thead>\n",
       "<tr><th>value                                                                      </th><th>type                                                                              </th></tr>\n",
       "</thead>\n",
       "<tbody>\n",
       "<tr><td><pre style=&quot;text-align: left;&quot;>Pair 25 (Pair (Pair 19 12) (Pair 8 6))</pre></td><td><pre style=&quot;text-align: left;&quot;>pair nat (pair (pair nat nat) (pair int int))</pre></td></tr>\n",
       "</tbody>\n",
       "</table>"
      ],
      "text/plain": [
       "value                                   type\n",
       "--------------------------------------  ---------------------------------------------\n",
       "Pair 25 (Pair (Pair 19 12) (Pair 8 6))  pair nat (pair (pair nat nat) (pair int int))"
      ]
     },
     "execution_count": 18,
     "metadata": {},
     "output_type": "execute_result"
    }
   ],
   "source": [
    "DROP_ALL ;\n",
    "PUSH int 6 ;\n",
    "PUSH int 8 ;\n",
    "PUSH nat 12 ;\n",
    "PUSH nat 19 ;\n",
    "PUSH nat 25 ;\n",
    "PAPPAIPAIR ; ## A pair with a value on the left and a pair with 2 nested pairs on the right"
   ]
  },
  {
   "cell_type": "markdown",
   "metadata": {},
   "source": [
    "Now that you understood the principle of the macro, it is very easy to unpair nested pairs. You can follow the same mechanism to deconstruct pairs by prefixing the macro with **`UN`**. For example, let's deconstruct the pair we just created above:"
   ]
  },
  {
   "cell_type": "code",
   "execution_count": 19,
   "metadata": {},
   "outputs": [
    {
     "name": "stdout",
     "output_type": "stream",
     "text": [
      "DUP: push (25, ((19, 12), (8, 6)));\n",
      "CAR: pop (25, ((19, 12), (8, 6))); push 25;\n",
      "DIP: protect 1 item(s);\n",
      "  CDR: pop (25, ((19, 12), (8, 6))); push ((19, 12), (8, 6));\n",
      "  restore 1 item(s);\n",
      "DIP: protect 1 item(s);\n",
      "  DUP: push ((19, 12), (8, 6));\n",
      "  CAR: pop ((19, 12), (8, 6)); push (19, 12);\n",
      "  DIP: protect 1 item(s);\n",
      "    CDR: pop ((19, 12), (8, 6)); push (8, 6);\n",
      "    restore 1 item(s);\n",
      "  restore 1 item(s);\n",
      "DIP: protect 1 item(s);\n",
      "  DUP: push (19, 12);\n",
      "  CAR: pop (19, 12); push 19;\n",
      "  DIP: protect 1 item(s);\n",
      "    CDR: pop (19, 12); push 12;\n",
      "    restore 1 item(s);\n",
      "  restore 1 item(s);\n",
      "DIP: protect 3 item(s);\n",
      "  DUP: push (8, 6);\n",
      "  CAR: pop (8, 6); push 8;\n",
      "  DIP: protect 1 item(s);\n",
      "    CDR: pop (8, 6); push 6;\n",
      "    restore 1 item(s);\n",
      "  restore 3 item(s);"
     ]
    },
    {
     "data": {
      "text/html": [
       "<table>\n",
       "<thead>\n",
       "<tr><th>value                                  </th><th>type                                    </th></tr>\n",
       "</thead>\n",
       "<tbody>\n",
       "<tr><td><pre style=&quot;text-align: left;&quot;>25</pre></td><td><pre style=&quot;text-align: left;&quot;>nat</pre></td></tr>\n",
       "<tr><td><pre style=&quot;text-align: left;&quot;>19</pre></td><td><pre style=&quot;text-align: left;&quot;>nat</pre></td></tr>\n",
       "<tr><td><pre style=&quot;text-align: left;&quot;>12</pre></td><td><pre style=&quot;text-align: left;&quot;>nat</pre></td></tr>\n",
       "<tr><td><pre style=&quot;text-align: left;&quot;>8</pre> </td><td><pre style=&quot;text-align: left;&quot;>int</pre></td></tr>\n",
       "<tr><td><pre style=&quot;text-align: left;&quot;>6</pre> </td><td><pre style=&quot;text-align: left;&quot;>int</pre></td></tr>\n",
       "</tbody>\n",
       "</table>"
      ],
      "text/plain": [
       "  value  type\n",
       "-------  ------\n",
       "     25  nat\n",
       "     19  nat\n",
       "     12  nat\n",
       "      8  int\n",
       "      6  int"
      ]
     },
     "execution_count": 19,
     "metadata": {},
     "output_type": "execute_result"
    }
   ],
   "source": [
    "UNPAPPAIPAIR ;\n",
    "DUMP ;"
   ]
  },
  {
   "cell_type": "markdown",
   "metadata": {},
   "source": [
    "As you can see, we are left with a stack that's exactly the same as it was before we paired all the values together! This macro is going to be vital to deconstruct parameters passed to the contract. Imagine the following contract:"
   ]
  },
  {
   "cell_type": "code",
   "execution_count": 25,
   "metadata": {},
   "outputs": [
    {
     "name": "stdout",
     "output_type": "stream",
     "text": [
      "storage string;\n",
      "parameter (pair (pair int int) string);\n",
      "code { { DUP ; CAR ; DIP { CDR } } ; { { DUP ; CAR ; DIP { CDR } } ; { DUP ; CAR ; DIP { CDR } } } ; ADD ; PUSH int 10 ; { { COMPARE ; EQ } ; IF { NIL operation ; PAIR } { PUSH string \"Not equal to 10!\" ; FAILWITH } } };\n",
      "RUN: use %default; drop all; push (((5, 5), 'hello Tezos'), '');\n",
      "DUP: push (((5, 5), 'hello Tezos'), '');\n",
      "CAR: pop (((5, 5), 'hello Tezos'), ''); push ((5, 5), 'hello Tezos');\n",
      "DIP: protect 1 item(s);\n",
      "CDR: pop (((5, 5), 'hello Tezos'), ''); push ;\n",
      "restore 1 item(s);\n",
      "DUP: push ((5, 5), 'hello Tezos');\n",
      "CAR: pop ((5, 5), 'hello Tezos'); push (5, 5);\n",
      "DIP: protect 1 item(s);\n",
      "CDR: pop ((5, 5), 'hello Tezos'); push hello Tezos;\n",
      "restore 1 item(s);\n",
      "DUP: push (5, 5);\n",
      "CAR: pop (5, 5); push 5;\n",
      "DIP: protect 1 item(s);\n",
      "CDR: pop (5, 5); push 5;\n",
      "restore 1 item(s);\n",
      "ADD: pop 5, 5; push 10;\n",
      "PUSH: push 10;\n",
      "COMPARE: pop 10, 10; push 0;\n",
      "EQ: pop 0; push True;\n",
      "IF: pop True;\n",
      "NIL: push [];\n",
      "PAIR: pop [], hello Tezos; push ([], 'hello Tezos');"
     ]
    },
    {
     "data": {
      "text/html": [
       "<table>\n",
       "<thead>\n",
       "<tr><th>value                                             </th><th>type                                       </th></tr>\n",
       "</thead>\n",
       "<tbody>\n",
       "<tr><td><pre style=&quot;text-align: left;&quot;>&quot;hello Tezos&quot;</pre></td><td><pre style=&quot;text-align: left;&quot;>string</pre></td></tr>\n",
       "</tbody>\n",
       "</table>"
      ],
      "text/plain": [
       "value          type\n",
       "-------------  ------\n",
       "\"hello Tezos\"  string"
      ]
     },
     "execution_count": 25,
     "metadata": {},
     "output_type": "execute_result"
    }
   ],
   "source": [
    "storage string ;\n",
    "parameter (pair (pair int int) string) ;\n",
    "code {\n",
    "    UNPAIR ;\n",
    "    UNPPAIIR ;\n",
    "    ADD ;\n",
    "    PUSH int 10 ;\n",
    "    IFCMPEQ\n",
    "        { NIL operation ; PAIR }\n",
    "        { PUSH string \"Not equal to 10!\" ; FAILWITH }\n",
    "} ;\n",
    "\n",
    "RUN %default (Pair (Pair 5 5) \"hello Tezos\") \"\";"
   ]
  },
  {
   "cell_type": "markdown",
   "metadata": {},
   "source": [
    "In a first step, **`UNPAIR`** extracts the parameter and the storage values from the pair that's pushed onto the stack at the beginning of the execution. Next, **`UNPPAIIR`** unwraps the parameter and gets all its values onto the stack. The two integers that the pair on the left side contained are added together and their result is compared to `10`. If it is equal, the string that was on the right side of the pair is saved in the storage. Otherwise, the contract fails."
   ]
  },
  {
   "cell_type": "code",
   "execution_count": null,
   "metadata": {},
   "outputs": [],
   "source": []
  }
 ],
 "metadata": {
  "kernelspec": {
   "display_name": "Michelson",
   "language": "michelson",
   "name": "michelson"
  },
  "language_info": {
   "codemirror_mode": "michelson",
   "file_extension": ".tz",
   "mimetype": "text/x-michelson",
   "name": "Michelson"
  }
 },
 "nbformat": 4,
 "nbformat_minor": 4
}

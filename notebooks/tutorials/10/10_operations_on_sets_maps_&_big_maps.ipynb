{
 "cells": [
  {
   "cell_type": "markdown",
   "metadata": {},
   "source": [
    "# Chapter 10\n",
    "\n",
    "This chapter is going to introduce three complex types of data that are extremely important for your smart contracts.  \n",
    "So far, the smart contracts we have written were quite simple: they received data as input, applied some logic to the data and output a result. However, this is not what most contracts do. Smart contracts are an interesting solution to many problems because they can retain information and the new input sent to the contract can be compared and/or used against the data that's already in the contract!\n",
    "\n",
    "In a previous chapter, we introduced the `list` type. Lists allow us to store multiple values of the same type in an ordered fashion. However, they lack some features that you may need for your smart contract. For example, it is not possible natively to know if a list contains a certain value (i.e without implementing a loop).\n",
    "\n",
    "Michelson provides three other types of values that can store other values: sets, maps and big maps. Their different properties will be explained below but in a nutshell, sets are lists of unique elements, maps are tables where each value matches a unique key and big maps are maps containing a large number of values. Let's start with sets!\n",
    "\n",
    "## Working with sets\n",
    "\n",
    "Sets are a sorted collection of unique values. A `set` is like a `list` with the main difference of storing only unique values. While `{ 1 ; 2 ; 1 ; 2 ; 1 ; 2 }` is a valid value of type `(list int)`, it wouldn't be a valid value of type `(set int)`. Here is how to create an empty set:"
   ]
  },
  {
   "cell_type": "code",
   "execution_count": 2,
   "metadata": {},
   "outputs": [
    {
     "name": "stdout",
     "output_type": "stream",
     "text": [
      "storage (set int);\n",
      "parameter unit;\n",
      "code { DROP ; EMPTY_SET int ; NIL operation ; PAIR };\n",
      "RUN: use %default; drop all; push (Unit, {1});\n",
      "DROP: pop (Unit, {1});\n",
      "EMPTY_SET: push [];\n",
      "NIL: push [];\n",
      "PAIR: pop [], []; push ([], set());"
     ]
    },
    {
     "data": {
      "text/html": [
       "<table>\n",
       "<thead>\n",
       "<tr><th>value                                  </th><th>type                                        </th></tr>\n",
       "</thead>\n",
       "<tbody>\n",
       "<tr><td><pre style=&quot;text-align: left;&quot;>{}</pre></td><td><pre style=&quot;text-align: left;&quot;>set int</pre></td></tr>\n",
       "</tbody>\n",
       "</table>"
      ],
      "text/plain": [
       "value    type\n",
       "-------  -------\n",
       "{}       set int"
      ]
     },
     "execution_count": 2,
     "metadata": {},
     "output_type": "execute_result"
    }
   ],
   "source": [
    "storage (set int) ;\n",
    "parameter unit ;\n",
    "code {\n",
    "    DROP ;\n",
    "    EMPTY_SET int ;\n",
    "    NIL operation ;\n",
    "    PAIR ;\n",
    "} ;\n",
    "\n",
    "RUN %default Unit { 1 };"
   ]
  },
  {
   "cell_type": "markdown",
   "metadata": {},
   "source": [
    "You can use the **`EMPTY_SET`** instruction to create an empty set. It takes 1 argument, the type of the elements you will store in the set. It must be a comparable type: you can, for example, put strings and integers in a set but you cannot put a map or a set inside a set.\n",
    "\n",
    "Next, you want to save some data inside the set. You can use the **`UPDATE`** instruction to push new values in the set. This instruction requires a little setup illustrated in the example below:"
   ]
  },
  {
   "cell_type": "code",
   "execution_count": 3,
   "metadata": {},
   "outputs": [
    {
     "name": "stdout",
     "output_type": "stream",
     "text": [
      "storage (set int);\n",
      "parameter unit;\n",
      "code { DROP ; EMPTY_SET int ; PUSH bool True ; PUSH int 5 ; UPDATE ; NIL operation ; PAIR };\n",
      "RUN: use %default; drop all; push (Unit, {1});\n",
      "DROP: pop (Unit, {1});\n",
      "EMPTY_SET: push [];\n",
      "PUSH: push True;\n",
      "PUSH: push 5;\n",
      "UPDATE: pop 5, True, []; push {5};\n",
      "NIL: push [];\n",
      "PAIR: pop [], {5}; push ([], {5});"
     ]
    },
    {
     "data": {
      "text/html": [
       "<table>\n",
       "<thead>\n",
       "<tr><th>value                                     </th><th>type                                        </th></tr>\n",
       "</thead>\n",
       "<tbody>\n",
       "<tr><td><pre style=&quot;text-align: left;&quot;>{ 5 }</pre></td><td><pre style=&quot;text-align: left;&quot;>set int</pre></td></tr>\n",
       "</tbody>\n",
       "</table>"
      ],
      "text/plain": [
       "value    type\n",
       "-------  -------\n",
       "{ 5 }    set int"
      ]
     },
     "execution_count": 3,
     "metadata": {},
     "output_type": "execute_result"
    }
   ],
   "source": [
    "storage (set int) ;\n",
    "parameter unit ;\n",
    "code {\n",
    "    DROP ;\n",
    "    EMPTY_SET int ;\n",
    "    PUSH bool True;\n",
    "    PUSH int 5 ;\n",
    "    UPDATE ;\n",
    "    NIL operation ;\n",
    "    PAIR ;\n",
    "} ;\n",
    "\n",
    "RUN %default Unit { 1 };"
   ]
  },
  {
   "cell_type": "markdown",
   "metadata": {},
   "source": [
    "We could also have used the set in the storage:"
   ]
  },
  {
   "cell_type": "code",
   "execution_count": 4,
   "metadata": {},
   "outputs": [
    {
     "name": "stdout",
     "output_type": "stream",
     "text": [
      "storage (set int);\n",
      "parameter unit;\n",
      "code { CDR ; PUSH bool True ; PUSH int 5 ; UPDATE ; NIL operation ; PAIR };\n",
      "RUN: use %default; drop all; push (Unit, {1});\n",
      "CDR: pop (Unit, {1}); push {1};\n",
      "PUSH: push True;\n",
      "PUSH: push 5;\n",
      "UPDATE: pop 5, True, {1}; push {1, 5};\n",
      "NIL: push [];\n",
      "PAIR: pop [], {1, 5}; push ([], {1, 5});"
     ]
    },
    {
     "data": {
      "text/html": [
       "<table>\n",
       "<thead>\n",
       "<tr><th>value                                         </th><th>type                                        </th></tr>\n",
       "</thead>\n",
       "<tbody>\n",
       "<tr><td><pre style=&quot;text-align: left;&quot;>{ 5 ; 1 }</pre></td><td><pre style=&quot;text-align: left;&quot;>set int</pre></td></tr>\n",
       "</tbody>\n",
       "</table>"
      ],
      "text/plain": [
       "value      type\n",
       "---------  -------\n",
       "{ 5 ; 1 }  set int"
      ]
     },
     "execution_count": 4,
     "metadata": {},
     "output_type": "execute_result"
    }
   ],
   "source": [
    "storage (set int) ;\n",
    "parameter unit ;\n",
    "code {\n",
    "    CDR ;\n",
    "    PUSH bool True;\n",
    "    PUSH int 5 ;\n",
    "    UPDATE ;\n",
    "    NIL operation ;\n",
    "    PAIR ;\n",
    "} ;\n",
    "\n",
    "RUN %default Unit { 1 };"
   ]
  },
  {
   "cell_type": "markdown",
   "metadata": {},
   "source": [
    "Here is what happens in the stack: the **`UPDATE`** instruction requires 3 elements in the stack before proceeding: \n",
    "1. The element to add to the set\n",
    "2. A boolean value set to `True` to indicate that you want to add a new element to the set\n",
    "3. The set in which you want to store the new value\n",
    "If the element is already present in the stack, the execution will just continue without any change. Otherwise, the new element will be pushed at the head position of the set.\n",
    "\n",
    "If you set the boolean value to `False` and provide a value that already exists in the set, **`UPDATE`** will remove this element from the set:"
   ]
  },
  {
   "cell_type": "code",
   "execution_count": 6,
   "metadata": {},
   "outputs": [
    {
     "name": "stdout",
     "output_type": "stream",
     "text": [
      "storage (set int);\n",
      "parameter unit;\n",
      "code { CDR ; PUSH bool False ; PUSH int 5 ; UPDATE ; NIL operation ; PAIR };\n",
      "RUN: use %default; drop all; push (Unit, {1, 2, 3, 4, 5});\n",
      "CDR: pop (Unit, {1, 2, 3, 4, 5}); push {1, 2, 3, 4, 5};\n",
      "PUSH: push False;\n",
      "PUSH: push 5;\n",
      "UPDATE: pop 5, False, {1, 2, 3, 4, 5}; push {1, 2, 3, 4};\n",
      "NIL: push [];\n",
      "PAIR: pop [], {1, 2, 3, 4}; push ([], {1, 2, 3, 4});"
     ]
    },
    {
     "data": {
      "text/html": [
       "<table>\n",
       "<thead>\n",
       "<tr><th>value                                                 </th><th>type                                        </th></tr>\n",
       "</thead>\n",
       "<tbody>\n",
       "<tr><td><pre style=&quot;text-align: left;&quot;>{ 1 ; 2 ; 3 ; 4 }</pre></td><td><pre style=&quot;text-align: left;&quot;>set int</pre></td></tr>\n",
       "</tbody>\n",
       "</table>"
      ],
      "text/plain": [
       "value              type\n",
       "-----------------  -------\n",
       "{ 1 ; 2 ; 3 ; 4 }  set int"
      ]
     },
     "execution_count": 6,
     "metadata": {},
     "output_type": "execute_result"
    }
   ],
   "source": [
    "storage (set int) ;\n",
    "parameter unit ;\n",
    "code {\n",
    "    CDR ;\n",
    "    PUSH bool False;\n",
    "    PUSH int 5 ;\n",
    "    UPDATE ;\n",
    "    NIL operation ;\n",
    "    PAIR ;\n",
    "} ;\n",
    "\n",
    "RUN %default Unit { 1 ; 2 ; 3 ; 4 ; 5 };"
   ]
  },
  {
   "cell_type": "markdown",
   "metadata": {},
   "source": [
    "Now you understand why you must set up correctly the stack before using **`UPDATE`**: the 3 required elements must be in the right order and the boolean element must be set to the right value in order to add or remove a value from the set. Here is a more complex example:"
   ]
  },
  {
   "cell_type": "code",
   "execution_count": 8,
   "metadata": {},
   "outputs": [
    {
     "name": "stdout",
     "output_type": "stream",
     "text": [
      "storage (set string);\n",
      "parameter (pair string string);\n",
      "code { { { DUP ; CAR ; DIP { CDR } } ; { DUP ; CAR ; DIP { CDR } } } ; DIP { SWAP } ; PUSH bool True ; SWAP ; UPDATE ; SWAP ; PUSH bool False ; SWAP ; UPDATE ; NIL operation ; PAIR };\n",
      "RUN: use %default; drop all; push (('mango', 'apple'), {'banana', 'strawberry', 'apple'});\n",
      "DUP: push (('mango', 'apple'), {'banana', 'strawberry', 'apple'});\n",
      "CAR: pop (('mango', 'apple'), {'banana', 'strawberry', 'apple'}); push ('mango', 'apple');\n",
      "DIP: protect 1 item(s);\n",
      "CDR: pop (('mango', 'apple'), {'banana', 'strawberry', 'apple'}); push {'banana', 'strawberry', 'apple'};\n",
      "restore 1 item(s);\n",
      "DUP: push ('mango', 'apple');\n",
      "CAR: pop ('mango', 'apple'); push mango;\n",
      "DIP: protect 1 item(s);\n",
      "CDR: pop ('mango', 'apple'); push apple;\n",
      "restore 1 item(s);\n",
      "DIP: protect 1 item(s);\n",
      "SWAP: pop apple, {'banana', 'strawberry', 'apple'}; push apple; push {'banana', 'strawberry', 'apple'};\n",
      "restore 1 item(s);\n",
      "PUSH: push True;\n",
      "SWAP: pop True, mango; push True; push mango;\n",
      "UPDATE: pop mango, True, {'banana', 'strawberry', 'apple'}; push {'banana', 'strawberry', 'apple', 'mango'};\n",
      "SWAP: pop {'banana', 'strawberry', 'apple', 'mango'}, apple; push {'banana', 'strawberry', 'apple', 'mango'}; push apple;\n",
      "PUSH: push False;\n",
      "SWAP: pop False, apple; push False; push apple;\n",
      "UPDATE: pop apple, False, {'banana', 'strawberry', 'apple', 'mango'}; push {'banana', 'strawberry', 'mango'};\n",
      "NIL: push [];\n",
      "PAIR: pop [], {'banana', 'strawberry', 'mango'}; push ([], {'banana', 'strawberry', 'mango'});"
     ]
    },
    {
     "data": {
      "text/html": [
       "<table>\n",
       "<thead>\n",
       "<tr><th>value                                                                     </th><th>type                                           </th></tr>\n",
       "</thead>\n",
       "<tbody>\n",
       "<tr><td><pre style=&quot;text-align: left;&quot;>{ &quot;mango&quot; ; &quot;banana&quot; ; &quot;strawberry&quot; }</pre></td><td><pre style=&quot;text-align: left;&quot;>set string</pre></td></tr>\n",
       "</tbody>\n",
       "</table>"
      ],
      "text/plain": [
       "value                                  type\n",
       "-------------------------------------  ----------\n",
       "{ \"mango\" ; \"banana\" ; \"strawberry\" }  set string"
      ]
     },
     "execution_count": 8,
     "metadata": {},
     "output_type": "execute_result"
    }
   ],
   "source": [
    "storage (set string) ;\n",
    "parameter (pair string string) ;\n",
    "code {\n",
    "    UNPPAIAIR ;\n",
    "    DIP { SWAP } ;\n",
    "    PUSH bool True ;\n",
    "    SWAP ;\n",
    "    UPDATE ;\n",
    "    SWAP ;\n",
    "    PUSH bool False ;\n",
    "    SWAP ;\n",
    "    UPDATE ;\n",
    "    NIL operation ;\n",
    "    PAIR ;\n",
    "} ;\n",
    "\n",
    "RUN %default (Pair \"mango\" \"apple\") { \"banana\" ; \"apple\" ; \"strawberry\" };"
   ]
  },
  {
   "cell_type": "markdown",
   "metadata": {},
   "source": [
    "First, we deconstruct the parameter with **`UNPPAIAIR`** to get our two fruits on the stack with the set of fruits below. Then, we push *mango* into the set of fruits before removing *apple*. A few **`SWAP`** instructions are necessary to put all the elements in the right order. Observe how the boolean values are set to `True` and `False` according to the effect you want to create on the set.\n",
    "\n",
    "Before trying to remove or add a value to a set, it would be great to check if the value is already inside. This is what you can achieve with the **`MEM`** instruction:"
   ]
  },
  {
   "cell_type": "code",
   "execution_count": 11,
   "metadata": {},
   "outputs": [
    {
     "name": "stdout",
     "output_type": "stream",
     "text": [
      "storage (set string);\n",
      "parameter string;\n",
      "code { { DUP ; CAR ; DIP { CDR } } ; DIP { DUP } ; DUP ; DIP { SWAP } ; MEM ; IF { { UNIT ; FAILWITH } } { PUSH bool True ; SWAP ; UPDATE } ; NIL operation ; PAIR };\n",
      "RUN: use %default; drop all; push ('mango', {'banana', 'strawberry', 'apple'});\n",
      "DUP: push ('mango', {'banana', 'strawberry', 'apple'});\n",
      "CAR: pop ('mango', {'banana', 'strawberry', 'apple'}); push mango;\n",
      "DIP: protect 1 item(s);\n",
      "CDR: pop ('mango', {'banana', 'strawberry', 'apple'}); push {'banana', 'strawberry', 'apple'};\n",
      "restore 1 item(s);\n",
      "DIP: protect 1 item(s);\n",
      "DUP: push {'banana', 'strawberry', 'apple'};\n",
      "restore 1 item(s);\n",
      "DUP: push mango;\n",
      "DIP: protect 1 item(s);\n",
      "SWAP: pop mango, {'banana', 'strawberry', 'apple'}; push mango; push {'banana', 'strawberry', 'apple'};\n",
      "restore 1 item(s);\n",
      "MEM: pop mango, {'banana', 'strawberry', 'apple'}; push False;\n",
      "IF: pop False;\n",
      "PUSH: push True;\n",
      "SWAP: pop True, mango; push True; push mango;\n",
      "UPDATE: pop mango, True, {'banana', 'strawberry', 'apple'}; push {'banana', 'strawberry', 'apple', 'mango'};\n",
      "NIL: push [];\n",
      "PAIR: pop [], {'banana', 'strawberry', 'apple', 'mango'}; push ([], {'banana', 'strawberry', 'apple', 'mango'});"
     ]
    },
    {
     "data": {
      "text/html": [
       "<table>\n",
       "<thead>\n",
       "<tr><th>value                                                                               </th><th>type                                           </th></tr>\n",
       "</thead>\n",
       "<tbody>\n",
       "<tr><td><pre style=&quot;text-align: left;&quot;>{ &quot;mango&quot; ; &quot;banana&quot; ; &quot;apple&quot; ; &quot;strawberry&quot; }</pre></td><td><pre style=&quot;text-align: left;&quot;>set string</pre></td></tr>\n",
       "</tbody>\n",
       "</table>"
      ],
      "text/plain": [
       "value                                            type\n",
       "-----------------------------------------------  ----------\n",
       "{ \"mango\" ; \"banana\" ; \"apple\" ; \"strawberry\" }  set string"
      ]
     },
     "execution_count": 11,
     "metadata": {},
     "output_type": "execute_result"
    }
   ],
   "source": [
    "storage (set string) ;\n",
    "parameter string ;\n",
    "code {\n",
    "    UNPAIR ;\n",
    "    DIP { DUP } ;\n",
    "    DUP ;\n",
    "    DIP { SWAP } ;\n",
    "    MEM ;\n",
    "    IF { FAIL } { PUSH bool True ; SWAP ; UPDATE } ;\n",
    "    NIL operation ;\n",
    "    PAIR ;\n",
    "} ;\n",
    "\n",
    "RUN %default \"mango\" { \"banana\" ; \"apple\" ; \"strawberry\" };"
   ]
  },
  {
   "cell_type": "markdown",
   "metadata": {},
   "source": [
    "In this contract, we duplicate the values passed in the parameter because **`MEM`** is going to remove the element and the set we want to test. If the value is not in the set, it will be added, otherwise, the contract will fail. As expected, *mango* is not in the set, so the value gets added to the final set. If you replace *mango* with *apple*, you will see the contract fail.\n",
    "\n",
    "As it is also the case for other types storing multiple values, you can check the size of a set by using the **`SIZE`** instruction:"
   ]
  },
  {
   "cell_type": "code",
   "execution_count": 14,
   "metadata": {},
   "outputs": [
    {
     "name": "stdout",
     "output_type": "stream",
     "text": [
      "storage nat;\n",
      "parameter (set string);\n",
      "code { CAR ; SIZE ; NIL operation ; PAIR };\n",
      "RUN: use %default; drop all; push ({'banana', 'strawberry', 'apple'}, 0);\n",
      "CAR: pop ({'banana', 'strawberry', 'apple'}, 0); push {'banana', 'strawberry', 'apple'};\n",
      "SIZE: pop {'banana', 'strawberry', 'apple'}; push 3;\n",
      "NIL: push [];\n",
      "PAIR: pop [], 3; push ([], 3);"
     ]
    },
    {
     "data": {
      "text/html": [
       "<table>\n",
       "<thead>\n",
       "<tr><th>value                                 </th><th>type                                    </th></tr>\n",
       "</thead>\n",
       "<tbody>\n",
       "<tr><td><pre style=&quot;text-align: left;&quot;>3</pre></td><td><pre style=&quot;text-align: left;&quot;>nat</pre></td></tr>\n",
       "</tbody>\n",
       "</table>"
      ],
      "text/plain": [
       "  value  type\n",
       "-------  ------\n",
       "      3  nat"
      ]
     },
     "execution_count": 14,
     "metadata": {},
     "output_type": "execute_result"
    }
   ],
   "source": [
    "storage nat ;\n",
    "parameter (set string) ;\n",
    "code {\n",
    "    CAR ;\n",
    "    SIZE ;\n",
    "    NIL operation ;\n",
    "    PAIR ;\n",
    "} ;\n",
    "\n",
    "RUN %default { \"banana\" ; \"apple\" ; \"strawberry\" } 0;"
   ]
  },
  {
   "cell_type": "markdown",
   "metadata": {},
   "source": [
    "The **`SIZE`** instruction returns a value of type `nat`. Add more strings to the set to see it working!"
   ]
  },
  {
   "cell_type": "markdown",
   "metadata": {},
   "source": [
    "## Working with maps\n",
    "\n",
    "Maps and big maps are probably the type of complex values you will work with most of the time. As big maps are a kind of map, we start with maps!\n",
    "\n",
    "Maps provide a very convenient way of storing data: they are like a table with two columns, a simple value on the left side that you can use to retrieve the data on the right side. This allows to store complex data that you can find very quickly and easily. For example, in a token contract, you can associate an address with its balance and the chosen allowances. When creating a new map, you have to specifiy the type of the keys and the type of the values, as you won't be able to store data that are not of the specified type. Here is how to create an empty map:"
   ]
  },
  {
   "cell_type": "code",
   "execution_count": 27,
   "metadata": {},
   "outputs": [
    {
     "name": "stdout",
     "output_type": "stream",
     "text": [
      "storage (map address nat);\n",
      "parameter unit;\n",
      "code { DROP ; EMPTY_MAP address nat ; NIL operation ; PAIR };\n",
      "RUN: use %default; drop all; push (Unit, {});\n",
      "DROP: pop (Unit, {});\n",
      "EMPTY_MAP: push {};\n",
      "NIL: push [];\n",
      "PAIR: pop [], {}; push ([], {});"
     ]
    },
    {
     "data": {
      "text/html": [
       "<table>\n",
       "<thead>\n",
       "<tr><th>value                                  </th><th>type                                                </th></tr>\n",
       "</thead>\n",
       "<tbody>\n",
       "<tr><td><pre style=&quot;text-align: left;&quot;>{}</pre></td><td><pre style=&quot;text-align: left;&quot;>map address nat</pre></td></tr>\n",
       "</tbody>\n",
       "</table>"
      ],
      "text/plain": [
       "value    type\n",
       "-------  ---------------\n",
       "{}       map address nat"
      ]
     },
     "execution_count": 27,
     "metadata": {},
     "output_type": "execute_result"
    }
   ],
   "source": [
    "storage (map address nat) ;\n",
    "parameter unit ;\n",
    "code {\n",
    "    DROP ;\n",
    "    EMPTY_MAP address nat ;\n",
    "    NIL operation ;\n",
    "    PAIR ;\n",
    "} ;\n",
    "\n",
    "RUN %default Unit {} ;"
   ]
  },
  {
   "cell_type": "markdown",
   "metadata": {},
   "source": [
    "You can use any type you want as a key as long as it is a comparable type.\n",
    "\n",
    "Adding and removing values from a map is going to be a little easier than doing it with a set 😅 However, we are going to use the same instruction, **`UPDATE`**:"
   ]
  },
  {
   "cell_type": "code",
   "execution_count": 28,
   "metadata": {},
   "outputs": [
    {
     "name": "stdout",
     "output_type": "stream",
     "text": [
      "storage (map address nat);\n",
      "parameter unit;\n",
      "code { DROP ; EMPTY_MAP address nat ; PUSH (option nat) (Some 5) ; PUSH address \"tz1VSUr8wwNhLAzempoch5d6hLRiTh8Cjcjb\" ; UPDATE ; NIL operation ; PAIR };\n",
      "RUN: use %default; drop all; push (Unit, {});\n",
      "DROP: pop (Unit, {});\n",
      "EMPTY_MAP: push {};\n",
      "PUSH: push (5,);\n",
      "PUSH: push tz1VSUr8wwNhLAzempoch5d6hLRiTh8Cjcjb;\n",
      "UPDATE: pop tz1VSUr8wwNhLAzempoch5d6hLRiTh8Cjcjb, (5,), {}; push {'tz1VSUr8wwNhLAzempoch5d6hLRiTh8Cjcjb': 5};\n",
      "NIL: push [];\n",
      "PAIR: pop [], {'tz1VSUr8wwNhLAzempoch5d6hLRiTh8Cjcjb': 5}; push ([], {'tz1VSUr8wwNhLAzempoch5d6hLRiTh8Cjcjb': 5});"
     ]
    },
    {
     "data": {
      "text/html": [
       "<table>\n",
       "<thead>\n",
       "<tr><th>value                                                                                </th><th>type                                                </th></tr>\n",
       "</thead>\n",
       "<tbody>\n",
       "<tr><td><pre style=&quot;text-align: left;&quot;>{ Elt &quot;tz1VSUr8wwNhLAzempoch5d6hLRiTh8Cjcjb&quot; 5 }</pre></td><td><pre style=&quot;text-align: left;&quot;>map address nat</pre></td></tr>\n",
       "</tbody>\n",
       "</table>"
      ],
      "text/plain": [
       "value                                             type\n",
       "------------------------------------------------  ---------------\n",
       "{ Elt \"tz1VSUr8wwNhLAzempoch5d6hLRiTh8Cjcjb\" 5 }  map address nat"
      ]
     },
     "execution_count": 28,
     "metadata": {},
     "output_type": "execute_result"
    }
   ],
   "source": [
    "storage (map address nat) ;\n",
    "parameter unit ;\n",
    "code {\n",
    "    DROP ;\n",
    "    EMPTY_MAP address nat ;\n",
    "    PUSH (option nat) (Some 5) ;\n",
    "    PUSH address \"tz1VSUr8wwNhLAzempoch5d6hLRiTh8Cjcjb\" ;\n",
    "    UPDATE ;\n",
    "    NIL operation ;\n",
    "    PAIR ;\n",
    "} ;\n",
    "\n",
    "RUN %default Unit {} ;"
   ]
  },
  {
   "cell_type": "markdown",
   "metadata": {},
   "source": [
    "In order to add a new key/pair value to a map, the stack must have three elements in the following order:\n",
    "1. The key associated to the value to add\n",
    "2. The value you want to add\n",
    "3. The map that you want to update\n",
    "When the stack is correctly set up, you can call the **`UPDATE`** instruction. It is important that the value you use to update the map is an `optional` value whose type is going to be the expected type of the values in the map. If you use `(Some type)`, you will add a new value to the map. However, if you use `(None)`, you will remove the value at the provided key:"
   ]
  },
  {
   "cell_type": "code",
   "execution_count": 30,
   "metadata": {},
   "outputs": [
    {
     "name": "stdout",
     "output_type": "stream",
     "text": [
      "storage (map address nat);\n",
      "parameter unit;\n",
      "code { CDR ; PUSH (option nat) None ; PUSH address \"tz1VSUr8wwNhLAzempoch5d6hLRiTh8Cjcjb\" ; UPDATE ; NIL operation ; PAIR };\n",
      "RUN: use %default; drop all; push (Unit, {'tz1VSUr8wwNhLAzempoch5d6hLRiTh8Cjcjb': 5, 'tz1UVzNHTxMzkPn1uMXaSCTJYBQQc4x5dyNE': 10});\n",
      "CDR: pop (Unit, {'tz1VSUr8wwNhLAzempoch5d6hLRiTh8Cjcjb': 5, 'tz1UVzNHTxMzkPn1uMXaSCTJYBQQc4x5dyNE': 10}); push {'tz1VSUr8wwNhLAzempoch5d6hLRiTh8Cjcjb': 5, 'tz1UVzNHTxMzkPn1uMXaSCTJYBQQc4x5dyNE': 10};\n",
      "PUSH: push None;\n",
      "PUSH: push tz1VSUr8wwNhLAzempoch5d6hLRiTh8Cjcjb;\n",
      "UPDATE: pop tz1VSUr8wwNhLAzempoch5d6hLRiTh8Cjcjb, None, {'tz1VSUr8wwNhLAzempoch5d6hLRiTh8Cjcjb': 5, 'tz1UVzNHTxMzkPn1uMXaSCTJYBQQc4x5dyNE': 10}; push {'tz1UVzNHTxMzkPn1uMXaSCTJYBQQc4x5dyNE': 10};\n",
      "NIL: push [];\n",
      "PAIR: pop [], {'tz1UVzNHTxMzkPn1uMXaSCTJYBQQc4x5dyNE': 10}; push ([], {'tz1UVzNHTxMzkPn1uMXaSCTJYBQQc4x5dyNE': 10});"
     ]
    },
    {
     "data": {
      "text/html": [
       "<table>\n",
       "<thead>\n",
       "<tr><th>value                                                                                 </th><th>type                                                </th></tr>\n",
       "</thead>\n",
       "<tbody>\n",
       "<tr><td><pre style=&quot;text-align: left;&quot;>{ Elt &quot;tz1UVzNHTxMzkPn1uMXaSCTJYBQQc4x5dyNE&quot; 10 }</pre></td><td><pre style=&quot;text-align: left;&quot;>map address nat</pre></td></tr>\n",
       "</tbody>\n",
       "</table>"
      ],
      "text/plain": [
       "value                                              type\n",
       "-------------------------------------------------  ---------------\n",
       "{ Elt \"tz1UVzNHTxMzkPn1uMXaSCTJYBQQc4x5dyNE\" 10 }  map address nat"
      ]
     },
     "execution_count": 30,
     "metadata": {},
     "output_type": "execute_result"
    }
   ],
   "source": [
    "storage (map address nat) ;\n",
    "parameter unit ;\n",
    "code {\n",
    "    CDR ;\n",
    "    PUSH (option nat) (None) ;\n",
    "    PUSH address \"tz1VSUr8wwNhLAzempoch5d6hLRiTh8Cjcjb\" ;\n",
    "    UPDATE ;\n",
    "    NIL operation ;\n",
    "    PAIR ;\n",
    "} ;\n",
    "\n",
    "RUN %default Unit { Elt \"tz1VSUr8wwNhLAzempoch5d6hLRiTh8Cjcjb\" 5 ; Elt \"tz1UVzNHTxMzkPn1uMXaSCTJYBQQc4x5dyNE\" 10} ;"
   ]
  },
  {
   "cell_type": "markdown",
   "metadata": {},
   "source": [
    "As you can see from this example, giving a `(None)` value to the map value before calling **`UPDATE`** will remove the corresponding key/value pair. If the key doesn't exist, this will have no effect on the map or the contract. Because of this, you may want to check first if a key exists in a map before removing it or updating it. This is what the **`MEM`** instruction is for:"
   ]
  },
  {
   "cell_type": "code",
   "execution_count": 31,
   "metadata": {},
   "outputs": [
    {
     "name": "stdout",
     "output_type": "stream",
     "text": [
      "storage bool;\n",
      "parameter (map address nat);\n",
      "code { CAR ; PUSH address \"tz1VSUr8wwNhLAzempoch5d6hLRiTh8Cjcjb\" ; MEM ; NIL operation ; PAIR };\n",
      "RUN: use %default; drop all; push ({'tz1VSUr8wwNhLAzempoch5d6hLRiTh8Cjcjb': 5, 'tz1UVzNHTxMzkPn1uMXaSCTJYBQQc4x5dyNE': 10}, False);\n",
      "CAR: pop ({'tz1VSUr8wwNhLAzempoch5d6hLRiTh8Cjcjb': 5, 'tz1UVzNHTxMzkPn1uMXaSCTJYBQQc4x5dyNE': 10}, False); push {'tz1VSUr8wwNhLAzempoch5d6hLRiTh8Cjcjb': 5, 'tz1UVzNHTxMzkPn1uMXaSCTJYBQQc4x5dyNE': 10};\n",
      "PUSH: push tz1VSUr8wwNhLAzempoch5d6hLRiTh8Cjcjb;\n",
      "MEM: pop tz1VSUr8wwNhLAzempoch5d6hLRiTh8Cjcjb, {'tz1VSUr8wwNhLAzempoch5d6hLRiTh8Cjcjb': 5, 'tz1UVzNHTxMzkPn1uMXaSCTJYBQQc4x5dyNE': 10}; push True;\n",
      "NIL: push [];\n",
      "PAIR: pop [], True; push ([], True);"
     ]
    },
    {
     "data": {
      "text/html": [
       "<table>\n",
       "<thead>\n",
       "<tr><th>value                                    </th><th>type                                     </th></tr>\n",
       "</thead>\n",
       "<tbody>\n",
       "<tr><td><pre style=&quot;text-align: left;&quot;>True</pre></td><td><pre style=&quot;text-align: left;&quot;>bool</pre></td></tr>\n",
       "</tbody>\n",
       "</table>"
      ],
      "text/plain": [
       "value    type\n",
       "-------  ------\n",
       "True     bool"
      ]
     },
     "execution_count": 31,
     "metadata": {},
     "output_type": "execute_result"
    }
   ],
   "source": [
    "storage bool ;\n",
    "parameter (map address nat) ;\n",
    "code {\n",
    "    CAR ;\n",
    "    PUSH address \"tz1VSUr8wwNhLAzempoch5d6hLRiTh8Cjcjb\" ;\n",
    "    MEM ;\n",
    "    NIL operation ;\n",
    "    PAIR ;\n",
    "} ;\n",
    "\n",
    "RUN %default { Elt \"tz1VSUr8wwNhLAzempoch5d6hLRiTh8Cjcjb\" 5 ; Elt \"tz1UVzNHTxMzkPn1uMXaSCTJYBQQc4x5dyNE\" 10} False ;"
   ]
  },
  {
   "cell_type": "markdown",
   "metadata": {},
   "source": [
    "This very simple contract checks if a single address is present in the map passed as a parameter. Please remember that **`MEM`** is going to pop the key and the map from the stack, so you should duplicate them if you want to use them later:"
   ]
  },
  {
   "cell_type": "code",
   "execution_count": 1,
   "metadata": {},
   "outputs": [
    {
     "name": "stdout",
     "output_type": "stream",
     "text": [
      "storage (map address nat);\n",
      "parameter address;\n",
      "code { DUP ; DIP { { DUP ; CAR ; DIP { CDR } } } ; { DUP ; CAR ; DIP { CDR } } ; MEM ; IF { PUSH (option nat) None ; SWAP ; UPDATE } { PUSH (option nat) (Some 1) ; SWAP ; UPDATE } ; NIL operation ; PAIR };\n",
      "RUN: use %default; drop all; push ('tz1NhNv9g7rtcjyNsH8Zqu79giY5aTqDDrzB', {'tz1VSUr8wwNhLAzempoch5d6hLRiTh8Cjcjb': 5, 'tz1UVzNHTxMzkPn1uMXaSCTJYBQQc4x5dyNE': 10});\n",
      "DUP: push ('tz1NhNv9g7rtcjyNsH8Zqu79giY5aTqDDrzB', {'tz1VSUr8wwNhLAzempoch5d6hLRiTh8Cjcjb': 5, 'tz1UVzNHTxMzkPn1uMXaSCTJYBQQc4x5dyNE': 10});\n",
      "DIP: protect 1 item(s);\n",
      "DUP: push ('tz1NhNv9g7rtcjyNsH8Zqu79giY5aTqDDrzB', {'tz1VSUr8wwNhLAzempoch5d6hLRiTh8Cjcjb': 5, 'tz1UVzNHTxMzkPn1uMXaSCTJYBQQc4x5dyNE': 10});\n",
      "CAR: pop ('tz1NhNv9g7rtcjyNsH8Zqu79giY5aTqDDrzB', {'tz1VSUr8wwNhLAzempoch5d6hLRiTh8Cjcjb': 5, 'tz1UVzNHTxMzkPn1uMXaSCTJYBQQc4x5dyNE': 10}); push tz1NhNv9g7rtcjyNsH8Zqu79giY5aTqDDrzB;\n",
      "DIP: protect 1 item(s);\n",
      "CDR: pop ('tz1NhNv9g7rtcjyNsH8Zqu79giY5aTqDDrzB', {'tz1VSUr8wwNhLAzempoch5d6hLRiTh8Cjcjb': 5, 'tz1UVzNHTxMzkPn1uMXaSCTJYBQQc4x5dyNE': 10}); push {'tz1VSUr8wwNhLAzempoch5d6hLRiTh8Cjcjb': 5, 'tz1UVzNHTxMzkPn1uMXaSCTJYBQQc4x5dyNE': 10};\n",
      "restore 1 item(s);\n",
      "restore 1 item(s);\n",
      "DUP: push ('tz1NhNv9g7rtcjyNsH8Zqu79giY5aTqDDrzB', {'tz1VSUr8wwNhLAzempoch5d6hLRiTh8Cjcjb': 5, 'tz1UVzNHTxMzkPn1uMXaSCTJYBQQc4x5dyNE': 10});\n",
      "CAR: pop ('tz1NhNv9g7rtcjyNsH8Zqu79giY5aTqDDrzB', {'tz1VSUr8wwNhLAzempoch5d6hLRiTh8Cjcjb': 5, 'tz1UVzNHTxMzkPn1uMXaSCTJYBQQc4x5dyNE': 10}); push tz1NhNv9g7rtcjyNsH8Zqu79giY5aTqDDrzB;\n",
      "DIP: protect 1 item(s);\n",
      "CDR: pop ('tz1NhNv9g7rtcjyNsH8Zqu79giY5aTqDDrzB', {'tz1VSUr8wwNhLAzempoch5d6hLRiTh8Cjcjb': 5, 'tz1UVzNHTxMzkPn1uMXaSCTJYBQQc4x5dyNE': 10}); push {'tz1VSUr8wwNhLAzempoch5d6hLRiTh8Cjcjb': 5, 'tz1UVzNHTxMzkPn1uMXaSCTJYBQQc4x5dyNE': 10};\n",
      "restore 1 item(s);\n",
      "MEM: pop tz1NhNv9g7rtcjyNsH8Zqu79giY5aTqDDrzB, {'tz1VSUr8wwNhLAzempoch5d6hLRiTh8Cjcjb': 5, 'tz1UVzNHTxMzkPn1uMXaSCTJYBQQc4x5dyNE': 10}; push False;\n",
      "IF: pop False;\n",
      "PUSH: push (1,);\n",
      "SWAP: pop (1,), tz1NhNv9g7rtcjyNsH8Zqu79giY5aTqDDrzB; push (1,); push tz1NhNv9g7rtcjyNsH8Zqu79giY5aTqDDrzB;\n",
      "UPDATE: pop tz1NhNv9g7rtcjyNsH8Zqu79giY5aTqDDrzB, (1,), {'tz1VSUr8wwNhLAzempoch5d6hLRiTh8Cjcjb': 5, 'tz1UVzNHTxMzkPn1uMXaSCTJYBQQc4x5dyNE': 10}; push {'tz1VSUr8wwNhLAzempoch5d6hLRiTh8Cjcjb': 5, 'tz1UVzNHTxMzkPn1uMXaSCTJYBQQc4x5dyNE': 10, 'tz1NhNv9g7rtcjyNsH8Zqu79giY5aTqDDrzB': 1};\n",
      "NIL: push [];\n",
      "PAIR: pop [], {'tz1VSUr8wwNhLAzempoch5d6hLRiTh8Cjcjb': 5, 'tz1UVzNHTxMzkPn1uMXaSCTJYBQQc4x5dyNE': 10, 'tz1NhNv9g7rtcjyNsH8Zqu79giY5aTqDDrzB': 1}; push ([], {'tz1VSUr8wwNhLAzempoch5d6hLRiTh8Cjcjb': 5, 'tz1UVzNHTxMzkPn1uMXaSCTJYBQQc4x5dyNE': 10, 'tz1NhNv9g7rtcjyNsH8Zqu79giY5aTqDDrzB': 1});"
     ]
    },
    {
     "data": {
      "text/html": [
       "<table>\n",
       "<thead>\n",
       "<tr><th>value  </th><th>type                                                </th></tr>\n",
       "</thead>\n",
       "<tbody>\n",
       "<tr><td><pre style=&quot;text-align: left;&quot;>{ Elt &quot;tz1VSUr8wwNhLAzempoch5d6hLRiTh8Cjcjb&quot; 5 ;\n",
       "  Elt &quot;tz1UVzNHTxMzkPn1uMXaSCTJYBQQc4x5dyNE&quot; 10 ;\n",
       "  Elt &quot;tz1NhNv9g7rtcjyNsH8Zqu79giY5aTqDDrzB&quot; 1 }</pre>        </td><td><pre style=&quot;text-align: left;&quot;>map address nat</pre></td></tr>\n",
       "</tbody>\n",
       "</table>"
      ],
      "text/plain": [
       "value                                              type\n",
       "-------------------------------------------------  ---------------\n",
       "{ Elt \"tz1VSUr8wwNhLAzempoch5d6hLRiTh8Cjcjb\" 5 ;   map address nat\n",
       "  Elt \"tz1UVzNHTxMzkPn1uMXaSCTJYBQQc4x5dyNE\" 10 ;\n",
       "  Elt \"tz1NhNv9g7rtcjyNsH8Zqu79giY5aTqDDrzB\" 1 }"
      ]
     },
     "execution_count": 1,
     "metadata": {},
     "output_type": "execute_result"
    }
   ],
   "source": [
    "storage (map address nat) ;\n",
    "parameter address ;\n",
    "code {\n",
    "    DUP ;\n",
    "    DIP { UNPAIR } ;\n",
    "    UNPAIR ;\n",
    "    MEM ;\n",
    "    IF\n",
    "        { PUSH (option nat) (None) ; SWAP ; UPDATE } ## Removes key/value pair if exists\n",
    "        { PUSH (option nat) (Some 1) ; SWAP ; UPDATE } ; ## Adds key/value pair if doesn't exist\n",
    "    NIL operation ;\n",
    "    PAIR ;\n",
    "} ;\n",
    "\n",
    "RUN %default \"tz1NhNv9g7rtcjyNsH8Zqu79giY5aTqDDrzB\" { Elt \"tz1VSUr8wwNhLAzempoch5d6hLRiTh8Cjcjb\" 5 ; Elt \"tz1UVzNHTxMzkPn1uMXaSCTJYBQQc4x5dyNE\" 10} ;"
   ]
  },
  {
   "cell_type": "markdown",
   "metadata": {},
   "source": [
    "The provided address was not a value in the map, so the contract added it and gave it a balance of `1`. Now, if you change the address in the parameter for an address that's already in the map, you will see it disappear in the final map!\n",
    "\n",
    "After checking if a key exists in a map, you probably want to get the value that's associated with it! Michelson provides the **`GET`** instruction to retrieve values bound to a key in a map:"
   ]
  },
  {
   "cell_type": "code",
   "execution_count": 3,
   "metadata": {},
   "outputs": [
    {
     "name": "stdout",
     "output_type": "stream",
     "text": [
      "storage string;\n",
      "parameter (pair string (map string string));\n",
      "code { CAR ; { DUP ; CAR ; DIP { CDR } } ; GET ; IF_NONE { PUSH string \"none\" } {} ; NIL operation ; PAIR };\n",
      "RUN: use %default; drop all; push (('banana', {'cherry': 'red', 'banana': 'yellow', 'apple': 'green'}), '');\n",
      "CAR: pop (('banana', {'cherry': 'red', 'banana': 'yellow', 'apple': 'green'}), ''); push ('banana', {'cherry': 'red', 'banana': 'yellow', 'apple': 'green'});\n",
      "DUP: push ('banana', {'cherry': 'red', 'banana': 'yellow', 'apple': 'green'});\n",
      "CAR: pop ('banana', {'cherry': 'red', 'banana': 'yellow', 'apple': 'green'}); push banana;\n",
      "DIP: protect 1 item(s);\n",
      "CDR: pop ('banana', {'cherry': 'red', 'banana': 'yellow', 'apple': 'green'}); push {'cherry': 'red', 'banana': 'yellow', 'apple': 'green'};\n",
      "restore 1 item(s);\n",
      "GET: pop banana, {'cherry': 'red', 'banana': 'yellow', 'apple': 'green'}; push ('yellow',);\n",
      "IF_NONE: pop ('yellow',); push yellow;\n",
      "NIL: push [];\n",
      "PAIR: pop [], yellow; push ([], 'yellow');"
     ]
    },
    {
     "data": {
      "text/html": [
       "<table>\n",
       "<thead>\n",
       "<tr><th>value                                        </th><th>type                                       </th></tr>\n",
       "</thead>\n",
       "<tbody>\n",
       "<tr><td><pre style=&quot;text-align: left;&quot;>&quot;yellow&quot;</pre></td><td><pre style=&quot;text-align: left;&quot;>string</pre></td></tr>\n",
       "</tbody>\n",
       "</table>"
      ],
      "text/plain": [
       "value     type\n",
       "--------  ------\n",
       "\"yellow\"  string"
      ]
     },
     "execution_count": 3,
     "metadata": {},
     "output_type": "execute_result"
    }
   ],
   "source": [
    "storage string ;\n",
    "parameter (pair string (map string string)) ;\n",
    "code {\n",
    "    CAR ;\n",
    "    UNPAIR ;\n",
    "    GET ;\n",
    "    IF_NONE\n",
    "        { PUSH string \"none\" }\n",
    "        {} ;\n",
    "    NIL operation ;\n",
    "    PAIR ;\n",
    "} ;\n",
    "\n",
    "RUN %default (Pair \"banana\" { Elt \"cherry\" \"red\" ; Elt \"banana\" \"yellow\" ; Elt \"apple\" \"green\"}) \"\" ;"
   ]
  },
  {
   "cell_type": "markdown",
   "metadata": {},
   "source": [
    "This very simple code sends a string and a map to the contract that will check if the string is a key in the map. If it is, it will save the color of the fruit in the storage. If it is not, it will save `\"none\"` in the storage instead. We could also have gone a different road and used **`IF_SOME`** to check if the **`GET`** instruction returns anything:"
   ]
  },
  {
   "cell_type": "code",
   "execution_count": 4,
   "metadata": {},
   "outputs": [
    {
     "name": "stdout",
     "output_type": "stream",
     "text": [
      "storage string;\n",
      "parameter (pair string (map string string));\n",
      "code { CAR ; { DUP ; CAR ; DIP { CDR } } ; GET ; { IF_NONE { PUSH string \"none\" } {} } ; NIL operation ; PAIR };\n",
      "RUN: use %default; drop all; push (('banana', {'cherry': 'red', 'banana': 'yellow', 'apple': 'green'}), '');\n",
      "CAR: pop (('banana', {'cherry': 'red', 'banana': 'yellow', 'apple': 'green'}), ''); push ('banana', {'cherry': 'red', 'banana': 'yellow', 'apple': 'green'});\n",
      "DUP: push ('banana', {'cherry': 'red', 'banana': 'yellow', 'apple': 'green'});\n",
      "CAR: pop ('banana', {'cherry': 'red', 'banana': 'yellow', 'apple': 'green'}); push banana;\n",
      "DIP: protect 1 item(s);\n",
      "CDR: pop ('banana', {'cherry': 'red', 'banana': 'yellow', 'apple': 'green'}); push {'cherry': 'red', 'banana': 'yellow', 'apple': 'green'};\n",
      "restore 1 item(s);\n",
      "GET: pop banana, {'cherry': 'red', 'banana': 'yellow', 'apple': 'green'}; push ('yellow',);\n",
      "IF_NONE: pop ('yellow',); push yellow;\n",
      "NIL: push [];\n",
      "PAIR: pop [], yellow; push ([], 'yellow');"
     ]
    },
    {
     "data": {
      "text/html": [
       "<table>\n",
       "<thead>\n",
       "<tr><th>value                                        </th><th>type                                       </th></tr>\n",
       "</thead>\n",
       "<tbody>\n",
       "<tr><td><pre style=&quot;text-align: left;&quot;>&quot;yellow&quot;</pre></td><td><pre style=&quot;text-align: left;&quot;>string</pre></td></tr>\n",
       "</tbody>\n",
       "</table>"
      ],
      "text/plain": [
       "value     type\n",
       "--------  ------\n",
       "\"yellow\"  string"
      ]
     },
     "execution_count": 4,
     "metadata": {},
     "output_type": "execute_result"
    }
   ],
   "source": [
    "storage string ;\n",
    "parameter (pair string (map string string)) ;\n",
    "code {\n",
    "    CAR ;\n",
    "    UNPAIR ;\n",
    "    GET ;\n",
    "    IF_SOME\n",
    "        {} \n",
    "        { PUSH string \"none\" };\n",
    "    NIL operation ;\n",
    "    PAIR ;\n",
    "} ;\n",
    "\n",
    "RUN %default (Pair \"banana\" { Elt \"cherry\" \"red\" ; Elt \"banana\" \"yellow\" ; Elt \"apple\" \"green\"}) \"\" ;"
   ]
  },
  {
   "cell_type": "markdown",
   "metadata": {},
   "source": [
    "Whether you use **`IF_NONE`** or **`IF_SOME`**, if a value is found, it will be unwrapped from the optional value and dumped onto the stack. In this example, the values in the map are of type `string`, so **`GET`** returns `(Some string)` and **`IF_NONE`**/**`IF_SOME`** unwraps it and brings `string` to the stack.\n",
    "\n",
    "There is a last instruction to check before ending our tour of maps. Michelson provides an instruction to know the size of a given map, you guessed it, **`SIZE`**!"
   ]
  },
  {
   "cell_type": "code",
   "execution_count": 50,
   "metadata": {},
   "outputs": [
    {
     "name": "stdout",
     "output_type": "stream",
     "text": [
      "storage nat;\n",
      "parameter (map string nat);\n",
      "code { CAR ; SIZE ; NIL operation ; PAIR };\n",
      "RUN: use %default; drop all; push ({'cherry': 16, 'banana': 24, 'apple': 32}, 0);\n",
      "CAR: pop ({'cherry': 16, 'banana': 24, 'apple': 32}, 0); push {'cherry': 16, 'banana': 24, 'apple': 32};\n",
      "SIZE: pop {'cherry': 16, 'banana': 24, 'apple': 32}; push 3;\n",
      "NIL: push [];\n",
      "PAIR: pop [], 3; push ([], 3);"
     ]
    },
    {
     "data": {
      "text/html": [
       "<table>\n",
       "<thead>\n",
       "<tr><th>value                                 </th><th>type                                    </th></tr>\n",
       "</thead>\n",
       "<tbody>\n",
       "<tr><td><pre style=&quot;text-align: left;&quot;>3</pre></td><td><pre style=&quot;text-align: left;&quot;>nat</pre></td></tr>\n",
       "</tbody>\n",
       "</table>"
      ],
      "text/plain": [
       "  value  type\n",
       "-------  ------\n",
       "      3  nat"
      ]
     },
     "execution_count": 50,
     "metadata": {},
     "output_type": "execute_result"
    }
   ],
   "source": [
    "storage nat ;\n",
    "parameter (map string nat) ;\n",
    "code {\n",
    "    CAR ;\n",
    "    SIZE ;\n",
    "    NIL operation ;\n",
    "    PAIR ;\n",
    "} ;\n",
    "\n",
    "RUN %default { Elt \"cherry\" 16 ; Elt \"banana\" 24 ; Elt \"apple\" 32} 0 ;"
   ]
  },
  {
   "cell_type": "markdown",
   "metadata": {},
   "source": [
    "As usual, this kind of instruction returns a `nat` value.\n",
    "\n",
    "Now that you have a better understanding of `maps` in Michelson, we can check `big maps`. Under the hood, big maps are actually maps. The only major difference is that when Michelson loads a map into memory, it goes through all the key/value pairs and get them ready to be used by your code. This consumes gas and can become very expensive if the map is huge. In the case of a big map, Michelson does not prepare the map and will only access the key/value pair you request. This will be a lot cheaper than using a map with a big drawback though: you won't get any information about the map outside of the key/value pair you are trying to access. This means instructions like **`SIZE`** are not possible, as well as iterative instructions like **`ITER`** and **`MAP`**. The only instructions you can use with big maps are **`EMPTY_BIG_MAP`**, **`GET`**, **`MEM`** and **`UPDATE`**. Let's try to create an example that uses all the available instructions for big maps!"
   ]
  },
  {
   "cell_type": "code",
   "execution_count": 65,
   "metadata": {},
   "outputs": [
    {
     "name": "stdout",
     "output_type": "stream",
     "text": [
      "storage (big_map string nat);\n",
      "parameter unit;\n",
      "code { DROP ; EMPTY_BIG_MAP string nat ; PUSH nat 15 ; SOME ; PUSH string \"cherry\" ; UPDATE ; PUSH nat 22 ; SOME ; PUSH string \"banana\" ; UPDATE ; DUP ; PUSH string \"cherry\" ; DUP ; SWAP ; DIP { SWAP } ; MEM ; IF { DIP { DUP } ; DUP ; DIP { SWAP } ; GET ; { IF_NONE { DROP } { PUSH nat 5 ; ADD ; SOME ; SWAP ; UPDATE } } } { DROP } ; NIL operation ; PAIR };\n",
      "RUN: use %default; drop all; push (Unit, -19);\n",
      "DROP: pop (Unit, -19);\n",
      "EMPTY_BIG_MAP: push -20;\n",
      "PUSH: push 15;\n",
      "SOME: pop 15; push (15,);\n",
      "PUSH: push cherry;\n",
      "UPDATE: pop cherry, (15,), -20; push -20;\n",
      "PUSH: push 22;\n",
      "SOME: pop 22; push (22,);\n",
      "PUSH: push banana;\n",
      "UPDATE: pop banana, (22,), -20; push -20;\n",
      "DUP: push -20;\n",
      "PUSH: push cherry;\n",
      "DUP: push cherry;\n",
      "SWAP: pop cherry, cherry; push cherry; push cherry;\n",
      "DIP: protect 1 item(s);\n",
      "SWAP: pop cherry, -20; push cherry; push -20;\n",
      "restore 1 item(s);\n",
      "MEM: pop cherry, -20; push True;\n",
      "IF: pop True;\n",
      "DIP: protect 1 item(s);\n",
      "DUP: push -20;\n",
      "restore 1 item(s);\n",
      "DUP: push cherry;\n",
      "DIP: protect 1 item(s);\n",
      "SWAP: pop cherry, -20; push cherry; push -20;\n",
      "restore 1 item(s);\n",
      "GET: pop cherry, -20; push (15,);\n",
      "IF_NONE: pop (15,); push 15;\n",
      "PUSH: push 5;\n",
      "ADD: pop 5, 15; push 20;\n",
      "SOME: pop 20; push (20,);\n",
      "SWAP: pop (20,), cherry; push (20,); push cherry;\n",
      "UPDATE: pop cherry, (20,), -20; push -20;\n",
      "NIL: push [];\n",
      "PAIR: pop [], -20; push ([], -20);"
     ]
    },
    {
     "data": {
      "text/html": [
       "<table>\n",
       "<thead>\n",
       "<tr><th>value                                 </th><th>type                                                   </th></tr>\n",
       "</thead>\n",
       "<tbody>\n",
       "<tr><td><pre style=&quot;text-align: left;&quot;>1</pre></td><td><pre style=&quot;text-align: left;&quot;>big_map string nat</pre></td></tr>\n",
       "</tbody>\n",
       "</table><br><table>\n",
       "<thead>\n",
       "<tr><th>big_map                               </th><th>action                                     </th><th>key                                          </th><th>value                                   </th></tr>\n",
       "</thead>\n",
       "<tbody>\n",
       "<tr><td><pre style=&quot;text-align: left;&quot;>1</pre></td><td><pre style=&quot;text-align: left;&quot;>alloc</pre> </td><td><pre style=&quot;text-align: left;&quot;>string</pre>  </td><td><pre style=&quot;text-align: left;&quot;>nat</pre></td></tr>\n",
       "<tr><td><pre style=&quot;text-align: left;&quot;>1</pre></td><td><pre style=&quot;text-align: left;&quot;>update</pre></td><td><pre style=&quot;text-align: left;&quot;>&quot;cherry&quot;</pre></td><td><pre style=&quot;text-align: left;&quot;>20</pre> </td></tr>\n",
       "<tr><td><pre style=&quot;text-align: left;&quot;>1</pre></td><td><pre style=&quot;text-align: left;&quot;>update</pre></td><td><pre style=&quot;text-align: left;&quot;>&quot;banana&quot;</pre></td><td><pre style=&quot;text-align: left;&quot;>22</pre> </td></tr>\n",
       "</tbody>\n",
       "</table>"
      ],
      "text/plain": [
       "  value  type\n",
       "-------  ------------------\n",
       "      1  big_map string nat\n",
       "  big_map  action    key       value\n",
       "---------  --------  --------  -------\n",
       "        1  alloc     string    nat\n",
       "        1  update    \"cherry\"  20\n",
       "        1  update    \"banana\"  22"
      ]
     },
     "execution_count": 65,
     "metadata": {},
     "output_type": "execute_result"
    }
   ],
   "source": [
    "storage (big_map string nat) ;\n",
    "parameter unit ;\n",
    "code {\n",
    "    DROP ;\n",
    "    EMPTY_BIG_MAP string nat ;\n",
    "    PUSH nat 15 ;\n",
    "    SOME ;\n",
    "    PUSH string \"cherry\" ;\n",
    "    UPDATE ;\n",
    "    PUSH nat 22 ;\n",
    "    SOME ;\n",
    "    PUSH string \"banana\" ;\n",
    "    UPDATE ;\n",
    "    DUP ;\n",
    "    PUSH string \"cherry\" ;\n",
    "    DUP ;\n",
    "    SWAP ;\n",
    "    DIP { SWAP } ;\n",
    "    MEM ;\n",
    "    IF\n",
    "        { \n",
    "            DIP { DUP } ;\n",
    "            DUP ;\n",
    "            DIP { SWAP } ;\n",
    "            GET ;\n",
    "            IF_SOME\n",
    "                { PUSH nat 5 ; ADD ; SOME ; SWAP ; UPDATE }\n",
    "                { DROP }\n",
    "        }\n",
    "        { DROP } ;\n",
    "    NIL operation ;\n",
    "    PAIR ;\n",
    "};\n",
    "\n",
    "RUN %default Unit {} ;"
   ]
  },
  {
   "cell_type": "markdown",
   "metadata": {},
   "source": [
    "This example is a little far-fetched but it demonstrates how you can use the different instructions available with big maps."
   ]
  },
  {
   "cell_type": "markdown",
   "metadata": {},
   "source": [
    "## Exercises\n",
    "\n",
    "1. Write a contract that takes a pair of 2 strings as a parameter: the first string is the key of the storage big map and the second string is an element that must be added to the set contained in the value of the big map."
   ]
  },
  {
   "cell_type": "code",
   "execution_count": null,
   "metadata": {},
   "outputs": [],
   "source": [
    "## Write your code here"
   ]
  },
  {
   "cell_type": "markdown",
   "metadata": {},
   "source": [
    "<details>\n",
    "    <summary>Solution</summary>\n",
    "    <p>Copy-paste the solution in the cell above to compile it!</p>\n",
    "    <br />\n",
    "    <pre>\n",
    "parameter (pair string string) ;\n",
    "storage (big_map string (set string)) ;\n",
    "code {\n",
    "    UNPPAIIR ;\n",
    "    DIP { SWAP } ;\n",
    "    PAIR ;\n",
    "    DUP ;\n",
    "    UNPAIR ;\n",
    "    GET ;\n",
    "    IF_SOME\n",
    "        {\n",
    "            DIG 2 ;\n",
    "            PUSH bool True; \n",
    "            SWAP ;\n",
    "            UPDATE ;\n",
    "            SOME ;\n",
    "            SWAP ;\n",
    "            UNPAIR ;\n",
    "            DIP { SWAP } ;\n",
    "            UPDATE ;\n",
    "            NIL operation ;\n",
    "            PAIR\n",
    "        }\n",
    "        { FAIL }\n",
    "} ;\n",
    "\n",
    "RUN %default (Pair \"fruits\" \"cherry\") { Elt \"fruits\" { \"banana\" ; \"apple\" ; \"strawberry\" }} ;\n",
    "    </pre>\n",
    "</details>"
   ]
  },
  {
   "cell_type": "markdown",
   "metadata": {},
   "source": [
    "2. Write a contract with a storage big map whose keys are pairs of strings and values are nat values, pass a pair of string and a nat value as parameter and add it to the big map after checking if the key doesn't exist."
   ]
  },
  {
   "cell_type": "code",
   "execution_count": null,
   "metadata": {},
   "outputs": [],
   "source": [
    "## Write your code here"
   ]
  },
  {
   "cell_type": "markdown",
   "metadata": {},
   "source": [
    "<details>\n",
    "    <summary>Solution</summary>\n",
    "    <p>Copy-paste the solution in the cell above to compile it!</p>\n",
    "    <br />\n",
    "    <pre>\n",
    "parameter (pair (pair string string) nat) ;\n",
    "storage (big_map (pair string string) nat) ;\n",
    "code {\n",
    "    DUP ;\n",
    "    UNPAIR ;\n",
    "    CAR ;\n",
    "    GET ;\n",
    "    IF_NONE\n",
    "        {\n",
    "            UNPPAIIR ;\n",
    "            DIP { SOME } ;\n",
    "            UPDATE ;\n",
    "            NIL operation ;\n",
    "            PAIR\n",
    "        }\n",
    "        { FAIL }\n",
    "} ;\n",
    "\n",
    "RUN %default (Pair (Pair \"Baking\" \"Bad\") 100) {};\n",
    "    </pre>\n",
    "</details>"
   ]
  },
  {
   "cell_type": "code",
   "execution_count": null,
   "metadata": {},
   "outputs": [],
   "source": []
  }
 ],
 "metadata": {
  "kernelspec": {
   "display_name": "Michelson",
   "language": "michelson",
   "name": "michelson"
  },
  "language_info": {
   "codemirror_mode": "michelson",
   "file_extension": ".tz",
   "mimetype": "text/x-michelson",
   "name": "Michelson"
  }
 },
 "nbformat": 4,
 "nbformat_minor": 4
}

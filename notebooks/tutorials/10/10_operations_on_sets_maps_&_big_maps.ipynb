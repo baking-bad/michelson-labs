{
 "cells": [
  {
   "cell_type": "markdown",
   "metadata": {},
   "source": [
    "# Chapter 10\n",
    "\n",
    "This chapter is going to introduce three complex types of data that are extremely important for your smart contracts.  \n",
    "So far, the smart contracts we have written were quite simple: they received data as input, applied some logic to the data and output a result. However, this is not what most contracts do. Smart contracts are an interesting solution to many problems because they can retain information and the new input sent to the contract can be compared and/or used against the data that's already in the contract!\n",
    "\n",
    "In a previous chapter, we introduced the `list` type. Lists allow us to store multiple values of the same type in an ordered fashion. However, they lack some features that you may need for your smart contract. For example, it is not possible natively to know if a list contains a certain value (i.e without implementing a loop).\n",
    "\n",
    "Michelson provides three other types of values that can store other values: sets, maps and big maps. Their different properties will be explained below but in a nutshell, sets are lists of unique elements, maps are tables where each value matches a unique key and big maps are maps containing a large number of values. Let's start with sets!\n",
    "\n",
    "## Working with sets\n",
    "\n",
    "Sets are a sorted collection of unique values. A `set` is like a `list` with the main difference of storing only unique values. While `{ 1 ; 2 ; 1 ; 2 ; 1 ; 2 }` is a valid value of type `(list int)`, it wouldn't be a valid value of type `(set int)`. Here is how to create an empty set:"
   ]
  },
  {
   "cell_type": "code",
   "execution_count": 2,
   "metadata": {},
   "outputs": [
    {
     "name": "stdout",
     "output_type": "stream",
     "text": [
      "storage (set int);\n",
      "parameter unit;\n",
      "code { DROP ; EMPTY_SET int ; NIL operation ; PAIR };\n",
      "RUN: use %default; drop all; push (Unit, {1});\n",
      "DROP: pop (Unit, {1});\n",
      "EMPTY_SET: push [];\n",
      "NIL: push [];\n",
      "PAIR: pop [], []; push ([], set());"
     ]
    },
    {
     "data": {
      "text/html": [
       "<table>\n",
       "<thead>\n",
       "<tr><th>value                                  </th><th>type                                        </th></tr>\n",
       "</thead>\n",
       "<tbody>\n",
       "<tr><td><pre style=&quot;text-align: left;&quot;>{}</pre></td><td><pre style=&quot;text-align: left;&quot;>set int</pre></td></tr>\n",
       "</tbody>\n",
       "</table>"
      ],
      "text/plain": [
       "value    type\n",
       "-------  -------\n",
       "{}       set int"
      ]
     },
     "execution_count": 2,
     "metadata": {},
     "output_type": "execute_result"
    }
   ],
   "source": [
    "storage (set int) ;\n",
    "parameter unit ;\n",
    "code {\n",
    "    DROP ;\n",
    "    EMPTY_SET int ;\n",
    "    NIL operation ;\n",
    "    PAIR ;\n",
    "} ;\n",
    "\n",
    "RUN %default Unit { 1 };"
   ]
  },
  {
   "cell_type": "markdown",
   "metadata": {},
   "source": [
    "You can use the **`EMPTY_SET`** instruction to create an empty set. It takes 1 argument, the type of the elements you will store in the set. It must be a comparable type: you can, for example, put strings and integers in a set but you cannot put a map or a set inside a set.\n",
    "\n",
    "Next, you want to save some data inside the set. You can use the **`UPDATE`** instruction to push new values in the set. This instruction requires a little setup illustrated in the example below:"
   ]
  },
  {
   "cell_type": "code",
   "execution_count": 3,
   "metadata": {},
   "outputs": [
    {
     "name": "stdout",
     "output_type": "stream",
     "text": [
      "storage (set int);\n",
      "parameter unit;\n",
      "code { DROP ; EMPTY_SET int ; PUSH bool True ; PUSH int 5 ; UPDATE ; NIL operation ; PAIR };\n",
      "RUN: use %default; drop all; push (Unit, {1});\n",
      "DROP: pop (Unit, {1});\n",
      "EMPTY_SET: push [];\n",
      "PUSH: push True;\n",
      "PUSH: push 5;\n",
      "UPDATE: pop 5, True, []; push {5};\n",
      "NIL: push [];\n",
      "PAIR: pop [], {5}; push ([], {5});"
     ]
    },
    {
     "data": {
      "text/html": [
       "<table>\n",
       "<thead>\n",
       "<tr><th>value                                     </th><th>type                                        </th></tr>\n",
       "</thead>\n",
       "<tbody>\n",
       "<tr><td><pre style=&quot;text-align: left;&quot;>{ 5 }</pre></td><td><pre style=&quot;text-align: left;&quot;>set int</pre></td></tr>\n",
       "</tbody>\n",
       "</table>"
      ],
      "text/plain": [
       "value    type\n",
       "-------  -------\n",
       "{ 5 }    set int"
      ]
     },
     "execution_count": 3,
     "metadata": {},
     "output_type": "execute_result"
    }
   ],
   "source": [
    "storage (set int) ;\n",
    "parameter unit ;\n",
    "code {\n",
    "    DROP ;\n",
    "    EMPTY_SET int ;\n",
    "    PUSH bool True;\n",
    "    PUSH int 5 ;\n",
    "    UPDATE ;\n",
    "    NIL operation ;\n",
    "    PAIR ;\n",
    "} ;\n",
    "\n",
    "RUN %default Unit { 1 };"
   ]
  },
  {
   "cell_type": "markdown",
   "metadata": {},
   "source": [
    "We could also have used the set in the storage:"
   ]
  },
  {
   "cell_type": "code",
   "execution_count": 4,
   "metadata": {},
   "outputs": [
    {
     "name": "stdout",
     "output_type": "stream",
     "text": [
      "storage (set int);\n",
      "parameter unit;\n",
      "code { CDR ; PUSH bool True ; PUSH int 5 ; UPDATE ; NIL operation ; PAIR };\n",
      "RUN: use %default; drop all; push (Unit, {1});\n",
      "CDR: pop (Unit, {1}); push {1};\n",
      "PUSH: push True;\n",
      "PUSH: push 5;\n",
      "UPDATE: pop 5, True, {1}; push {1, 5};\n",
      "NIL: push [];\n",
      "PAIR: pop [], {1, 5}; push ([], {1, 5});"
     ]
    },
    {
     "data": {
      "text/html": [
       "<table>\n",
       "<thead>\n",
       "<tr><th>value                                         </th><th>type                                        </th></tr>\n",
       "</thead>\n",
       "<tbody>\n",
       "<tr><td><pre style=&quot;text-align: left;&quot;>{ 5 ; 1 }</pre></td><td><pre style=&quot;text-align: left;&quot;>set int</pre></td></tr>\n",
       "</tbody>\n",
       "</table>"
      ],
      "text/plain": [
       "value      type\n",
       "---------  -------\n",
       "{ 5 ; 1 }  set int"
      ]
     },
     "execution_count": 4,
     "metadata": {},
     "output_type": "execute_result"
    }
   ],
   "source": [
    "storage (set int) ;\n",
    "parameter unit ;\n",
    "code {\n",
    "    CDR ;\n",
    "    PUSH bool True;\n",
    "    PUSH int 5 ;\n",
    "    UPDATE ;\n",
    "    NIL operation ;\n",
    "    PAIR ;\n",
    "} ;\n",
    "\n",
    "RUN %default Unit { 1 };"
   ]
  },
  {
   "cell_type": "markdown",
   "metadata": {},
   "source": [
    "Here is what happens in the stack: the **`UPDATE`** instruction requires 3 elements in the stack before proceeding: \n",
    "1. The element to add to the set\n",
    "2. A boolean value set to `True` to indicate that you want to add a new element to the set\n",
    "3. The set in which you want to store the new value\n",
    "If the element is already present in the stack, the execution will just continue without any change. Otherwise, the new element will be pushed at the head position of the set.\n",
    "\n",
    "If you set the boolean value to `False` and provide a value that already exists in the set, **`UPDATE`** will remove this element from the set:"
   ]
  },
  {
   "cell_type": "code",
   "execution_count": 6,
   "metadata": {},
   "outputs": [
    {
     "name": "stdout",
     "output_type": "stream",
     "text": [
      "storage (set int);\n",
      "parameter unit;\n",
      "code { CDR ; PUSH bool False ; PUSH int 5 ; UPDATE ; NIL operation ; PAIR };\n",
      "RUN: use %default; drop all; push (Unit, {1, 2, 3, 4, 5});\n",
      "CDR: pop (Unit, {1, 2, 3, 4, 5}); push {1, 2, 3, 4, 5};\n",
      "PUSH: push False;\n",
      "PUSH: push 5;\n",
      "UPDATE: pop 5, False, {1, 2, 3, 4, 5}; push {1, 2, 3, 4};\n",
      "NIL: push [];\n",
      "PAIR: pop [], {1, 2, 3, 4}; push ([], {1, 2, 3, 4});"
     ]
    },
    {
     "data": {
      "text/html": [
       "<table>\n",
       "<thead>\n",
       "<tr><th>value                                                 </th><th>type                                        </th></tr>\n",
       "</thead>\n",
       "<tbody>\n",
       "<tr><td><pre style=&quot;text-align: left;&quot;>{ 1 ; 2 ; 3 ; 4 }</pre></td><td><pre style=&quot;text-align: left;&quot;>set int</pre></td></tr>\n",
       "</tbody>\n",
       "</table>"
      ],
      "text/plain": [
       "value              type\n",
       "-----------------  -------\n",
       "{ 1 ; 2 ; 3 ; 4 }  set int"
      ]
     },
     "execution_count": 6,
     "metadata": {},
     "output_type": "execute_result"
    }
   ],
   "source": [
    "storage (set int) ;\n",
    "parameter unit ;\n",
    "code {\n",
    "    CDR ;\n",
    "    PUSH bool False;\n",
    "    PUSH int 5 ;\n",
    "    UPDATE ;\n",
    "    NIL operation ;\n",
    "    PAIR ;\n",
    "} ;\n",
    "\n",
    "RUN %default Unit { 1 ; 2 ; 3 ; 4 ; 5 };"
   ]
  },
  {
   "cell_type": "markdown",
   "metadata": {},
   "source": [
    "Now you understand why you must set up correctly the stack before using **`UPDATE`**: the 3 required elements must be in the right order and the boolean element must be set to the right value in order to add or remove a value from the set. Here is a more complex example:"
   ]
  },
  {
   "cell_type": "code",
   "execution_count": 8,
   "metadata": {},
   "outputs": [
    {
     "name": "stdout",
     "output_type": "stream",
     "text": [
      "storage (set string);\n",
      "parameter (pair string string);\n",
      "code { { { DUP ; CAR ; DIP { CDR } } ; { DUP ; CAR ; DIP { CDR } } } ; DIP { SWAP } ; PUSH bool True ; SWAP ; UPDATE ; SWAP ; PUSH bool False ; SWAP ; UPDATE ; NIL operation ; PAIR };\n",
      "RUN: use %default; drop all; push (('mango', 'apple'), {'banana', 'strawberry', 'apple'});\n",
      "DUP: push (('mango', 'apple'), {'banana', 'strawberry', 'apple'});\n",
      "CAR: pop (('mango', 'apple'), {'banana', 'strawberry', 'apple'}); push ('mango', 'apple');\n",
      "DIP: protect 1 item(s);\n",
      "CDR: pop (('mango', 'apple'), {'banana', 'strawberry', 'apple'}); push {'banana', 'strawberry', 'apple'};\n",
      "restore 1 item(s);\n",
      "DUP: push ('mango', 'apple');\n",
      "CAR: pop ('mango', 'apple'); push mango;\n",
      "DIP: protect 1 item(s);\n",
      "CDR: pop ('mango', 'apple'); push apple;\n",
      "restore 1 item(s);\n",
      "DIP: protect 1 item(s);\n",
      "SWAP: pop apple, {'banana', 'strawberry', 'apple'}; push apple; push {'banana', 'strawberry', 'apple'};\n",
      "restore 1 item(s);\n",
      "PUSH: push True;\n",
      "SWAP: pop True, mango; push True; push mango;\n",
      "UPDATE: pop mango, True, {'banana', 'strawberry', 'apple'}; push {'banana', 'strawberry', 'apple', 'mango'};\n",
      "SWAP: pop {'banana', 'strawberry', 'apple', 'mango'}, apple; push {'banana', 'strawberry', 'apple', 'mango'}; push apple;\n",
      "PUSH: push False;\n",
      "SWAP: pop False, apple; push False; push apple;\n",
      "UPDATE: pop apple, False, {'banana', 'strawberry', 'apple', 'mango'}; push {'banana', 'strawberry', 'mango'};\n",
      "NIL: push [];\n",
      "PAIR: pop [], {'banana', 'strawberry', 'mango'}; push ([], {'banana', 'strawberry', 'mango'});"
     ]
    },
    {
     "data": {
      "text/html": [
       "<table>\n",
       "<thead>\n",
       "<tr><th>value                                                                     </th><th>type                                           </th></tr>\n",
       "</thead>\n",
       "<tbody>\n",
       "<tr><td><pre style=&quot;text-align: left;&quot;>{ &quot;mango&quot; ; &quot;banana&quot; ; &quot;strawberry&quot; }</pre></td><td><pre style=&quot;text-align: left;&quot;>set string</pre></td></tr>\n",
       "</tbody>\n",
       "</table>"
      ],
      "text/plain": [
       "value                                  type\n",
       "-------------------------------------  ----------\n",
       "{ \"mango\" ; \"banana\" ; \"strawberry\" }  set string"
      ]
     },
     "execution_count": 8,
     "metadata": {},
     "output_type": "execute_result"
    }
   ],
   "source": [
    "storage (set string) ;\n",
    "parameter (pair string string) ;\n",
    "code {\n",
    "    UNPPAIAIR ;\n",
    "    DIP { SWAP } ;\n",
    "    PUSH bool True ;\n",
    "    SWAP ;\n",
    "    UPDATE ;\n",
    "    SWAP ;\n",
    "    PUSH bool False ;\n",
    "    SWAP ;\n",
    "    UPDATE ;\n",
    "    NIL operation ;\n",
    "    PAIR ;\n",
    "} ;\n",
    "\n",
    "RUN %default (Pair \"mango\" \"apple\") { \"banana\" ; \"apple\" ; \"strawberry\" };"
   ]
  },
  {
   "cell_type": "markdown",
   "metadata": {},
   "source": [
    "First, we deconstruct the parameter with **`UNPPAIAIR`** to get our two fruits on the stack with the set of fruits below. Then, we push *mango* into the set of fruits before removing *apple*. A few **`SWAP`** instructions are necessary to put all the elements in the right order. Observe how the boolean values are set to `True` and `False` according to the effect you want to create on the set.\n",
    "\n",
    "Before trying to remove or add a value to a set, it would be great to check if the value is already inside. This is what you can achieve with the **`MEM`** instruction:"
   ]
  },
  {
   "cell_type": "code",
   "execution_count": 11,
   "metadata": {},
   "outputs": [
    {
     "name": "stdout",
     "output_type": "stream",
     "text": [
      "storage (set string);\n",
      "parameter string;\n",
      "code { { DUP ; CAR ; DIP { CDR } } ; DIP { DUP } ; DUP ; DIP { SWAP } ; MEM ; IF { { UNIT ; FAILWITH } } { PUSH bool True ; SWAP ; UPDATE } ; NIL operation ; PAIR };\n",
      "RUN: use %default; drop all; push ('mango', {'banana', 'strawberry', 'apple'});\n",
      "DUP: push ('mango', {'banana', 'strawberry', 'apple'});\n",
      "CAR: pop ('mango', {'banana', 'strawberry', 'apple'}); push mango;\n",
      "DIP: protect 1 item(s);\n",
      "CDR: pop ('mango', {'banana', 'strawberry', 'apple'}); push {'banana', 'strawberry', 'apple'};\n",
      "restore 1 item(s);\n",
      "DIP: protect 1 item(s);\n",
      "DUP: push {'banana', 'strawberry', 'apple'};\n",
      "restore 1 item(s);\n",
      "DUP: push mango;\n",
      "DIP: protect 1 item(s);\n",
      "SWAP: pop mango, {'banana', 'strawberry', 'apple'}; push mango; push {'banana', 'strawberry', 'apple'};\n",
      "restore 1 item(s);\n",
      "MEM: pop mango, {'banana', 'strawberry', 'apple'}; push False;\n",
      "IF: pop False;\n",
      "PUSH: push True;\n",
      "SWAP: pop True, mango; push True; push mango;\n",
      "UPDATE: pop mango, True, {'banana', 'strawberry', 'apple'}; push {'banana', 'strawberry', 'apple', 'mango'};\n",
      "NIL: push [];\n",
      "PAIR: pop [], {'banana', 'strawberry', 'apple', 'mango'}; push ([], {'banana', 'strawberry', 'apple', 'mango'});"
     ]
    },
    {
     "data": {
      "text/html": [
       "<table>\n",
       "<thead>\n",
       "<tr><th>value                                                                               </th><th>type                                           </th></tr>\n",
       "</thead>\n",
       "<tbody>\n",
       "<tr><td><pre style=&quot;text-align: left;&quot;>{ &quot;mango&quot; ; &quot;banana&quot; ; &quot;apple&quot; ; &quot;strawberry&quot; }</pre></td><td><pre style=&quot;text-align: left;&quot;>set string</pre></td></tr>\n",
       "</tbody>\n",
       "</table>"
      ],
      "text/plain": [
       "value                                            type\n",
       "-----------------------------------------------  ----------\n",
       "{ \"mango\" ; \"banana\" ; \"apple\" ; \"strawberry\" }  set string"
      ]
     },
     "execution_count": 11,
     "metadata": {},
     "output_type": "execute_result"
    }
   ],
   "source": [
    "storage (set string) ;\n",
    "parameter string ;\n",
    "code {\n",
    "    UNPAIR ;\n",
    "    DIP { DUP } ;\n",
    "    DUP ;\n",
    "    DIP { SWAP } ;\n",
    "    MEM ;\n",
    "    IF { FAIL } { PUSH bool True ; SWAP ; UPDATE } ;\n",
    "    NIL operation ;\n",
    "    PAIR ;\n",
    "} ;\n",
    "\n",
    "RUN %default \"mango\" { \"banana\" ; \"apple\" ; \"strawberry\" };"
   ]
  },
  {
   "cell_type": "markdown",
   "metadata": {},
   "source": [
    "In this contract, we duplicate the values passed in the parameter because **`MEM`** is going to remove the element and the set we want to test. If the value is not in the set, it will be added, otherwise, the contract will fail. As expected, *mango* is not in the set, so the value gets added to the final set. If you replace *mango* with *apple*, you will see the contract fail.\n",
    "\n",
    "As it is also the case for other types storing multiple values, you can check the size of a set by using the **`SIZE`** instruction:"
   ]
  },
  {
   "cell_type": "code",
   "execution_count": 14,
   "metadata": {},
   "outputs": [
    {
     "name": "stdout",
     "output_type": "stream",
     "text": [
      "storage nat;\n",
      "parameter (set string);\n",
      "code { CAR ; SIZE ; NIL operation ; PAIR };\n",
      "RUN: use %default; drop all; push ({'banana', 'strawberry', 'apple'}, 0);\n",
      "CAR: pop ({'banana', 'strawberry', 'apple'}, 0); push {'banana', 'strawberry', 'apple'};\n",
      "SIZE: pop {'banana', 'strawberry', 'apple'}; push 3;\n",
      "NIL: push [];\n",
      "PAIR: pop [], 3; push ([], 3);"
     ]
    },
    {
     "data": {
      "text/html": [
       "<table>\n",
       "<thead>\n",
       "<tr><th>value                                 </th><th>type                                    </th></tr>\n",
       "</thead>\n",
       "<tbody>\n",
       "<tr><td><pre style=&quot;text-align: left;&quot;>3</pre></td><td><pre style=&quot;text-align: left;&quot;>nat</pre></td></tr>\n",
       "</tbody>\n",
       "</table>"
      ],
      "text/plain": [
       "  value  type\n",
       "-------  ------\n",
       "      3  nat"
      ]
     },
     "execution_count": 14,
     "metadata": {},
     "output_type": "execute_result"
    }
   ],
   "source": [
    "storage nat ;\n",
    "parameter (set string) ;\n",
    "code {\n",
    "    CAR ;\n",
    "    SIZE ;\n",
    "    NIL operation ;\n",
    "    PAIR ;\n",
    "} ;\n",
    "\n",
    "RUN %default { \"banana\" ; \"apple\" ; \"strawberry\" } 0;"
   ]
  },
  {
   "cell_type": "markdown",
   "metadata": {},
   "source": [
    "The **`SIZE`** instruction returns a value of type `nat`. Add more strings to the set to see it working!\n",
    "\n",
    "The last available instruction for sets is **`ITER`**. **`ITER`** allows you to loop through a set and run some code at each iteration. Let's see it in action!"
   ]
  },
  {
   "cell_type": "code",
   "execution_count": 25,
   "metadata": {},
   "outputs": [
    {
     "name": "stdout",
     "output_type": "stream",
     "text": [
      "storage (set int);\n",
      "parameter unit;\n",
      "code { CDR ; EMPTY_SET int ; SWAP ; ITER { PUSH int 3 ; ADD ; PUSH bool True ; SWAP ; UPDATE } ; NIL operation ; PAIR };\n",
      "RUN: use %default; drop all; push (Unit, {1, 2, 3});\n",
      "CDR: pop (Unit, {1, 2, 3}); push {1, 2, 3};\n",
      "EMPTY_SET: push [];\n",
      "SWAP: pop [], {1, 2, 3}; push []; push {1, 2, 3};\n",
      "ITER: pop {1, 2, 3}; push 1;\n",
      "PUSH: push 3;\n",
      "ADD: pop 3, 1; push 4;\n",
      "PUSH: push True;\n",
      "SWAP: pop True, 4; push True; push 4;\n",
      "UPDATE: pop 4, True, []; push {4};\n",
      "push 2;\n",
      "PUSH: push 3;\n",
      "ADD: pop 3, 2; push 5;\n",
      "PUSH: push True;\n",
      "SWAP: pop True, 5; push True; push 5;\n",
      "UPDATE: pop 5, True, {4}; push {4, 5};\n",
      "push 3;\n",
      "PUSH: push 3;\n",
      "ADD: pop 3, 3; push 6;\n",
      "PUSH: push True;\n",
      "SWAP: pop True, 6; push True; push 6;\n",
      "UPDATE: pop 6, True, {4, 5}; push {4, 5, 6};\n",
      "NIL: push [];\n",
      "PAIR: pop [], {4, 5, 6}; push ([], {4, 5, 6});"
     ]
    },
    {
     "data": {
      "text/html": [
       "<table>\n",
       "<thead>\n",
       "<tr><th>value                                             </th><th>type                                        </th></tr>\n",
       "</thead>\n",
       "<tbody>\n",
       "<tr><td><pre style=&quot;text-align: left;&quot;>{ 6 ; 5 ; 4 }</pre></td><td><pre style=&quot;text-align: left;&quot;>set int</pre></td></tr>\n",
       "</tbody>\n",
       "</table>"
      ],
      "text/plain": [
       "value          type\n",
       "-------------  -------\n",
       "{ 6 ; 5 ; 4 }  set int"
      ]
     },
     "execution_count": 25,
     "metadata": {},
     "output_type": "execute_result"
    }
   ],
   "source": [
    "storage (set int) ;\n",
    "parameter unit ;\n",
    "code {\n",
    "    CDR ;\n",
    "    EMPTY_SET int ;\n",
    "    SWAP ;\n",
    "    ITER { PUSH int 3 ; ADD ; PUSH bool True ; SWAP ; UPDATE } ;\n",
    "    NIL operation ;\n",
    "    PAIR ;\n",
    "} ;\n",
    "\n",
    "RUN %default Unit { 1 ; 2 ; 3 };"
   ]
  },
  {
   "cell_type": "code",
   "execution_count": null,
   "metadata": {},
   "outputs": [],
   "source": []
  }
 ],
 "metadata": {
  "kernelspec": {
   "display_name": "Michelson",
   "language": "michelson",
   "name": "michelson"
  },
  "language_info": {
   "codemirror_mode": "michelson",
   "file_extension": ".tz",
   "mimetype": "text/x-michelson",
   "name": "Michelson"
  }
 },
 "nbformat": 4,
 "nbformat_minor": 4
}

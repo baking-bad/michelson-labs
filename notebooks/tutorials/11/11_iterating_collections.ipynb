{
 "cells": [
  {
   "cell_type": "markdown",
   "metadata": {},
   "source": [
    "# Chapter 11\n",
    "\n",
    "In the previous chapter, we introduced different instructions that manipulate and transform different stores of data like `lists`, `sets` and `maps`. We learned how to create these stores, how to save new values inside and how to get them out. However, we left aside one of the most powerful features of this type of data. Instead of manipulating the values one by one, what if we'd loop through the whole structure and gain access to all the data at once? 🤯\n",
    "\n",
    "This chapter is about instructions that will help us manipulate all the values in sets, maps or big maps, whether we want to read those values, use them or modify them. As you will notice throughout the chapter, the instructions we use are sometimes the same and apply to different types, although they may be used differently. This is why you have to remember precisely how the instruction affects the structure on the stack and how the elements must be ordered on the stack before calling the instruction you want.\n",
    "\n",
    "## The **`LOOP`** instruction\n",
    "\n",
    "Most of widely used programming languages have loops so you may be familiar with the concept. In a nutshell, loops consist of a piece of code that repeats itself until a certain condition is met. This can also be done in Michelson. Here is a very simple example of a loop:"
   ]
  },
  {
   "cell_type": "code",
   "execution_count": 4,
   "metadata": {},
   "outputs": [
    {
     "data": {
      "text/html": [
       "<table>\n",
       "<thead>\n",
       "<tr><th>value                                 </th><th>type                                    </th></tr>\n",
       "</thead>\n",
       "<tbody>\n",
       "<tr><td><pre style=&quot;text-align: left;&quot;>5</pre></td><td><pre style=&quot;text-align: left;&quot;>int</pre></td></tr>\n",
       "</tbody>\n",
       "</table>"
      ],
      "text/plain": [
       "  value  type\n",
       "-------  ------\n",
       "      5  int"
      ]
     },
     "execution_count": 4,
     "metadata": {},
     "output_type": "execute_result"
    }
   ],
   "source": [
    "DEBUG False ;\n",
    "storage unit ;\n",
    "parameter unit ;\n",
    "BEGIN Unit Unit ;\n",
    "DROP ;\n",
    "PUSH int 0 ;\n",
    "PUSH bool True ;\n",
    "LOOP {  \n",
    "    PUSH int 1 ; \n",
    "    ADD ; \n",
    "    DUP ;\n",
    "    PUSH int 5 ;\n",
    "    CMPNEQ ;\n",
    "    } ;\n",
    "DUMP ;"
   ]
  },
  {
   "cell_type": "markdown",
   "metadata": {},
   "source": [
    "In the context of this notebook, you can also print the state inside of the loop to help with debugging with the **`PRINT`** keyword. This is how you can check the boolean value at the end of each iteration of the loop:"
   ]
  },
  {
   "cell_type": "code",
   "execution_count": 5,
   "metadata": {},
   "outputs": [
    {
     "name": "stdout",
     "output_type": "stream",
     "text": [
      "True; True; True; True; False;"
     ]
    },
    {
     "data": {
      "text/html": [
       "<table>\n",
       "<thead>\n",
       "<tr><th>value                                 </th><th>type                                    </th></tr>\n",
       "</thead>\n",
       "<tbody>\n",
       "<tr><td><pre style=&quot;text-align: left;&quot;>5</pre></td><td><pre style=&quot;text-align: left;&quot;>int</pre></td></tr>\n",
       "</tbody>\n",
       "</table>"
      ],
      "text/plain": [
       "  value  type\n",
       "-------  ------\n",
       "      5  int"
      ]
     },
     "execution_count": 5,
     "metadata": {},
     "output_type": "execute_result"
    }
   ],
   "source": [
    "DEBUG False ;\n",
    "storage unit ;\n",
    "parameter unit ;\n",
    "BEGIN Unit Unit ;\n",
    "DROP ;\n",
    "PUSH int 0 ;\n",
    "PUSH bool True ;\n",
    "LOOP {  \n",
    "    PUSH int 1 ; \n",
    "    ADD ; \n",
    "    DUP ;\n",
    "    PUSH int 5 ;\n",
    "    CMPNEQ ;\n",
    "    PRINT \"{0}\" ;\n",
    "    } ;\n",
    "DUMP ;"
   ]
  },
  {
   "cell_type": "markdown",
   "metadata": {},
   "source": [
    "This is a naive example to demonstrate how loops work. One of the main characteristics of loops is that they \"sit\" on a boolean value. As long as the boolean value is `True`, the loop will keep executing the code inside. At the end of the loop, you must have at least a boolean value to tell the loop if it must continue iterating or not. \n",
    "\n",
    "In this example, we push `int 0` to the stack and `True` before starting the loop. Then, we push `int 1`, add it to the value present on the stack, duplicate it to keep the value on the stack, push `int 5` and compare the 2 values. **`CMPNEQ`** checks if the value we got from the addition is not equal to `5`. Before we reach `5`, the instruction returns `True`, which keeps the loop iterating. As soon as the value is `5`, **`CMPNEQ`** returns `False` and the loop stops.\n",
    "\n",
    "Loops can become more interesting if you use them with values like lists where you will be able to fetch every element of the list and use them however you want. Let's crank the difficulty up a notch and imagine we want to concatenate all the strings in a list:"
   ]
  },
  {
   "cell_type": "code",
   "execution_count": 19,
   "metadata": {},
   "outputs": [
    {
     "data": {
      "text/html": [
       "<table>\n",
       "<thead>\n",
       "<tr><th>value                                                       </th><th>type                                       </th></tr>\n",
       "</thead>\n",
       "<tbody>\n",
       "<tr><td><pre style=&quot;text-align: left;&quot;>&quot;hello world and Tezos&quot;</pre></td><td><pre style=&quot;text-align: left;&quot;>string</pre></td></tr>\n",
       "</tbody>\n",
       "</table>"
      ],
      "text/plain": [
       "value                    type\n",
       "-----------------------  ------\n",
       "\"hello world and Tezos\"  string"
      ]
     },
     "execution_count": 19,
     "metadata": {},
     "output_type": "execute_result"
    }
   ],
   "source": [
    "DEBUG False;\n",
    "storage unit ;\n",
    "parameter unit ;\n",
    "BEGIN Unit Unit ;\n",
    "DROP ;\n",
    "PUSH string \"\" ;\n",
    "PUSH (list string) {\"hello \" ; \"world \" ; \"and \" ; \"Tezos\"} ;\n",
    "PUSH bool True ;\n",
    "LOOP { \n",
    "    IF_CONS\n",
    "        { SWAP ; DIP { SWAP ; CONCAT } ; PUSH bool True }\n",
    "        { PUSH bool False } ;\n",
    "    } ; \n",
    "DUMP ;"
   ]
  },
  {
   "cell_type": "markdown",
   "metadata": {},
   "source": [
    "This one is a little more complex as it makes it more difficult to follow the different changes of state of the stack. \n",
    "\n",
    "Before the loop, the stack is made of three blocks: a `bool True` block necessary to start the loop, a `(list string)` containing the strings we want to concatenate together and an empty `string` we will use for the first concatenation.\n",
    "\n",
    "On the first iteration, the `bool True` block is removed from the stack, which exposes the list below. **`IF_CONS`** pops the head of the list, pushes the tail onto the stack and pushes the head above if the list is not empty. At this point, the stack is made of a `string`, a `(list string)` and the empty `string`. **`SWAP`** puts the two strings next to each other and **`DIP { SWAP ; CONCAT }`** concatenates them. We then push `bool True` to continue the execution of the loop which will end only when the list is empty.\n",
    "\n",
    "## Iterating on sets\n",
    "\n",
    "As you remember from the previous chapter, sets are a store of values similar to lists with the major difference of containing only unique values. From the various types we will study in this chapter, sets will probably be the easiest ones to iterate. There is only one instruction available to iterate sets, the **`ITER`** instruction. It allows you to loop through a set and run some code at each iteration. Let's check an example to see how it works:"
   ]
  },
  {
   "cell_type": "code",
   "execution_count": 20,
   "metadata": {},
   "outputs": [
    {
     "name": "stdout",
     "output_type": "stream",
     "text": [
      "storage (set int);\n",
      "parameter unit;\n",
      "code { CDR ; EMPTY_SET int ; SWAP ; ITER { PUSH int 3 ; ADD ; PUSH bool True ; SWAP ; UPDATE } ; NIL operation ; PAIR };\n",
      "RUN: use %default; drop all; push (Unit, {1, 2, 3});\n",
      "CDR: pop (Unit, {1, 2, 3}); push {1, 2, 3};\n",
      "EMPTY_SET: push [];\n",
      "SWAP: pop [], {1, 2, 3}; push []; push {1, 2, 3};\n",
      "ITER: pop {1, 2, 3}; push 1;\n",
      "PUSH: push 3;\n",
      "ADD: pop 3, 1; push 4;\n",
      "PUSH: push True;\n",
      "SWAP: pop True, 4; push True; push 4;\n",
      "UPDATE: pop 4, True, []; push {4};\n",
      "push 2;\n",
      "PUSH: push 3;\n",
      "ADD: pop 3, 2; push 5;\n",
      "PUSH: push True;\n",
      "SWAP: pop True, 5; push True; push 5;\n",
      "UPDATE: pop 5, True, {4}; push {4, 5};\n",
      "push 3;\n",
      "PUSH: push 3;\n",
      "ADD: pop 3, 3; push 6;\n",
      "PUSH: push True;\n",
      "SWAP: pop True, 6; push True; push 6;\n",
      "UPDATE: pop 6, True, {4, 5}; push {4, 5, 6};\n",
      "NIL: push [];\n",
      "PAIR: pop [], {4, 5, 6}; push ([], {4, 5, 6});"
     ]
    },
    {
     "data": {
      "text/html": [
       "<table>\n",
       "<thead>\n",
       "<tr><th>value                                             </th><th>type                                        </th></tr>\n",
       "</thead>\n",
       "<tbody>\n",
       "<tr><td><pre style=&quot;text-align: left;&quot;>{ 6 ; 5 ; 4 }</pre></td><td><pre style=&quot;text-align: left;&quot;>set int</pre></td></tr>\n",
       "</tbody>\n",
       "</table>"
      ],
      "text/plain": [
       "value          type\n",
       "-------------  -------\n",
       "{ 6 ; 5 ; 4 }  set int"
      ]
     },
     "execution_count": 20,
     "metadata": {},
     "output_type": "execute_result"
    }
   ],
   "source": [
    "DEBUG True;\n",
    "storage (set int) ;\n",
    "parameter unit ;\n",
    "code {\n",
    "    CDR ;\n",
    "    EMPTY_SET int ;\n",
    "    SWAP ;\n",
    "    ITER { PUSH int 3 ; ADD ; PUSH bool True ; SWAP ; UPDATE } ;\n",
    "    NIL operation ;\n",
    "    PAIR ;\n",
    "} ;\n",
    "\n",
    "RUN %default Unit { 1 ; 2 ; 3 };"
   ]
  },
  {
   "cell_type": "markdown",
   "metadata": {},
   "source": [
    "As you can see, **`ITER`** goes through each element of the set, pushes it to the stack and runs the code provided between brackets. You can either make some calculations with the values and save them in a new set, in which case you have to create an empty set before calling **`ITER`** like we did in this example or you can *reduce* the set, for example:"
   ]
  },
  {
   "cell_type": "code",
   "execution_count": 21,
   "metadata": {},
   "outputs": [
    {
     "name": "stdout",
     "output_type": "stream",
     "text": [
      "storage int;\n",
      "parameter (set int);\n",
      "code { { DUP ; CAR ; DIP { CDR } } ; ITER { ADD } ; NIL operation ; PAIR };\n",
      "RUN: use %default; drop all; push ({1, 2, 3, 4, 5, 6}, 0);\n",
      "DUP: push ({1, 2, 3, 4, 5, 6}, 0);\n",
      "CAR: pop ({1, 2, 3, 4, 5, 6}, 0); push {1, 2, 3, 4, 5, 6};\n",
      "DIP: protect 1 item(s);\n",
      "CDR: pop ({1, 2, 3, 4, 5, 6}, 0); push 0;\n",
      "restore 1 item(s);\n",
      "ITER: pop {1, 2, 3, 4, 5, 6}; push 1;\n",
      "ADD: pop 1, 0; push 1;\n",
      "push 2;\n",
      "ADD: pop 2, 1; push 3;\n",
      "push 3;\n",
      "ADD: pop 3, 3; push 6;\n",
      "push 4;\n",
      "ADD: pop 4, 6; push 10;\n",
      "push 5;\n",
      "ADD: pop 5, 10; push 15;\n",
      "push 6;\n",
      "ADD: pop 6, 15; push 21;\n",
      "NIL: push [];\n",
      "PAIR: pop [], 21; push ([], 21);"
     ]
    },
    {
     "data": {
      "text/html": [
       "<table>\n",
       "<thead>\n",
       "<tr><th>value                                  </th><th>type                                    </th></tr>\n",
       "</thead>\n",
       "<tbody>\n",
       "<tr><td><pre style=&quot;text-align: left;&quot;>21</pre></td><td><pre style=&quot;text-align: left;&quot;>int</pre></td></tr>\n",
       "</tbody>\n",
       "</table>"
      ],
      "text/plain": [
       "  value  type\n",
       "-------  ------\n",
       "     21  int"
      ]
     },
     "execution_count": 21,
     "metadata": {},
     "output_type": "execute_result"
    }
   ],
   "source": [
    "storage int ;\n",
    "parameter (set int) ;\n",
    "code {\n",
    "    UNPAIR ;\n",
    "    ITER { ADD } ;\n",
    "    NIL operation ;\n",
    "    PAIR ;\n",
    "} ;\n",
    "\n",
    "RUN %default { 1 ; 2 ; 3 ; 4 ; 5 ; 6 } 0 ;"
   ]
  },
  {
   "cell_type": "markdown",
   "metadata": {},
   "source": [
    "In this example, the initial storage set to `0` works as an accumulator and each value in the set is added to the accumulator.\n",
    "\n",
    "## Iterating on maps\n",
    "\n",
    "Like lists or sets, maps are a type a value that can be iterated, which means that it is possible to loop through all the key/value pairs, to have access to them or to modify them. Two different instructions exist in Michelson to loop through maps. The first one, **`ITER`**, loops through the map and return a pair containing the element on the left and the value on the right:"
   ]
  },
  {
   "cell_type": "code",
   "execution_count": 22,
   "metadata": {},
   "outputs": [
    {
     "name": "stdout",
     "output_type": "stream",
     "text": [
      "storage (set string);\n",
      "parameter (map string string);\n",
      "code { CAR ; EMPTY_SET string ; SWAP ; ITER { CAR ; PUSH bool True ; SWAP ; UPDATE } ; NIL operation ; PAIR };\n",
      "RUN: use %default; drop all; push ({'cherry': 'red', 'banana': 'yellow', 'apple': 'green'}, set());\n",
      "CAR: pop ({'cherry': 'red', 'banana': 'yellow', 'apple': 'green'}, set()); push {'cherry': 'red', 'banana': 'yellow', 'apple': 'green'};\n",
      "EMPTY_SET: push [];\n",
      "SWAP: pop [], {'cherry': 'red', 'banana': 'yellow', 'apple': 'green'}; push []; push {'cherry': 'red', 'banana': 'yellow', 'apple': 'green'};\n",
      "ITER: pop {'cherry': 'red', 'banana': 'yellow', 'apple': 'green'}; push ('cherry', 'red');\n",
      "CAR: pop ('cherry', 'red'); push cherry;\n",
      "PUSH: push True;\n",
      "SWAP: pop True, cherry; push True; push cherry;\n",
      "UPDATE: pop cherry, True, []; push {'cherry'};\n",
      "push ('banana', 'yellow');\n",
      "CAR: pop ('banana', 'yellow'); push banana;\n",
      "PUSH: push True;\n",
      "SWAP: pop True, banana; push True; push banana;\n",
      "UPDATE: pop banana, True, {'cherry'}; push {'cherry', 'banana'};\n",
      "push ('apple', 'green');\n",
      "CAR: pop ('apple', 'green'); push apple;\n",
      "PUSH: push True;\n",
      "SWAP: pop True, apple; push True; push apple;\n",
      "UPDATE: pop apple, True, {'cherry', 'banana'}; push {'cherry', 'banana', 'apple'};\n",
      "NIL: push [];\n",
      "PAIR: pop [], {'cherry', 'banana', 'apple'}; push ([], {'cherry', 'banana', 'apple'});"
     ]
    },
    {
     "data": {
      "text/html": [
       "<table>\n",
       "<thead>\n",
       "<tr><th>value                                                                 </th><th>type                                           </th></tr>\n",
       "</thead>\n",
       "<tbody>\n",
       "<tr><td><pre style=&quot;text-align: left;&quot;>{ &quot;apple&quot; ; &quot;banana&quot; ; &quot;cherry&quot; }</pre></td><td><pre style=&quot;text-align: left;&quot;>set string</pre></td></tr>\n",
       "</tbody>\n",
       "</table>"
      ],
      "text/plain": [
       "value                              type\n",
       "---------------------------------  ----------\n",
       "{ \"apple\" ; \"banana\" ; \"cherry\" }  set string"
      ]
     },
     "execution_count": 22,
     "metadata": {},
     "output_type": "execute_result"
    }
   ],
   "source": [
    "storage (set string) ;\n",
    "parameter (map string string) ;\n",
    "code {\n",
    "    CAR ;\n",
    "    EMPTY_SET string ;\n",
    "    SWAP ;\n",
    "    ITER { CAR ; PUSH bool True ; SWAP ; UPDATE } ;\n",
    "    NIL operation ;\n",
    "    PAIR ;\n",
    "} ;\n",
    "\n",
    "RUN %default { Elt \"cherry\" \"red\" ; Elt \"banana\" \"yellow\" ; Elt \"apple\" \"green\"} {} ;"
   ]
  },
  {
   "cell_type": "markdown",
   "metadata": {},
   "source": [
    "This contract accepts a map of type `(map string string)` and returns a set of type `(set string)` with the names of the fruits. As you can see, **`ITER`** takes as a parameter a piece of code that will act on the pair of key/value pushed to the stack. The name of the fruit is extracted (**`CAR`**), a value of type `bool` is pushed onto the stack (**`PUSH bool True`**) before being swapped (**`SWAP`**) to be set in the order to update the the set of strings (**`UPDATE`**).\n",
    "\n",
    "**`ITER`** is an instruction that allows you to get the keys and values out of the map and manipulate them. However, it doesn't affect the original map. If you want to change the values of a map in a deterministic way, you can use **`MAP`**. Like **`ITER`**, **`MAP`** loops through a map but its values will be modified by the code you write between curly braces. Here is an example:"
   ]
  },
  {
   "cell_type": "code",
   "execution_count": 23,
   "metadata": {},
   "outputs": [
    {
     "name": "stdout",
     "output_type": "stream",
     "text": [
      "storage (map string nat);\n",
      "parameter (map string nat);\n",
      "code { CAR ; MAP { CDR ; PUSH nat 5 ; ADD } ; NIL operation ; PAIR };\n",
      "RUN: use %default; drop all; push ({'cherry': 16, 'banana': 24, 'apple': 32}, {});\n",
      "CAR: pop ({'cherry': 16, 'banana': 24, 'apple': 32}, {}); push {'cherry': 16, 'banana': 24, 'apple': 32};\n",
      "MAP: pop {'cherry': 16, 'banana': 24, 'apple': 32}; push ('cherry', 16);\n",
      "CDR: pop ('cherry', 16); push 16;\n",
      "PUSH: push 5;\n",
      "ADD: pop 5, 16; push 21;\n",
      "pop 21; push ('banana', 24);\n",
      "CDR: pop ('banana', 24); push 24;\n",
      "PUSH: push 5;\n",
      "ADD: pop 5, 24; push 29;\n",
      "pop 29; push ('apple', 32);\n",
      "CDR: pop ('apple', 32); push 32;\n",
      "PUSH: push 5;\n",
      "ADD: pop 5, 32; push 37;\n",
      "pop 37; push {'cherry': 21, 'banana': 29, 'apple': 37};\n",
      "NIL: push [];\n",
      "PAIR: pop [], {'cherry': 21, 'banana': 29, 'apple': 37}; push ([], {'cherry': 21, 'banana': 29, 'apple': 37});"
     ]
    },
    {
     "data": {
      "text/html": [
       "<table>\n",
       "<thead>\n",
       "<tr><th>value                                                                                      </th><th>type                                               </th></tr>\n",
       "</thead>\n",
       "<tbody>\n",
       "<tr><td><pre style=&quot;text-align: left;&quot;>{ Elt &quot;cherry&quot; 21 ; Elt &quot;banana&quot; 29 ; Elt &quot;apple&quot; 37 }</pre></td><td><pre style=&quot;text-align: left;&quot;>map string nat</pre></td></tr>\n",
       "</tbody>\n",
       "</table>"
      ],
      "text/plain": [
       "value                                                   type\n",
       "------------------------------------------------------  --------------\n",
       "{ Elt \"cherry\" 21 ; Elt \"banana\" 29 ; Elt \"apple\" 37 }  map string nat"
      ]
     },
     "execution_count": 23,
     "metadata": {},
     "output_type": "execute_result"
    }
   ],
   "source": [
    "storage (map string nat) ;\n",
    "parameter (map string nat) ;\n",
    "code {\n",
    "    CAR ;\n",
    "    MAP { CDR ; PUSH nat 5 ; ADD } ;\n",
    "    NIL operation ;\n",
    "    PAIR ;\n",
    "} ;\n",
    "\n",
    "RUN %default { Elt \"cherry\" 16 ; Elt \"banana\" 24 ; Elt \"apple\" 32} {} ;"
   ]
  },
  {
   "cell_type": "markdown",
   "metadata": {},
   "source": [
    "This piece of code loops through the map and at every iteration, a pair containing the key on the left and the value on the right is pushed onto the stack. The value is extracted from the pair and `5` is added to it. The difference with **`ITER`** is that the value remaining at the end is the one that will be saved back in the map as the new value for the current key. You can keep the same type for the values in the map or you can also change their type.\n",
    "\n",
    "> Note: Iterating on big maps is not possible from Michelson. The reason is that big maps are lazily deserialized to save on gas cost and the contract is not aware of all the key/value pairs in a big map as they are deserialized on demand one by one."
   ]
  },
  {
   "cell_type": "markdown",
   "metadata": {},
   "source": [
    "## Exercises\n",
    "\n",
    "1. Write a contract that takes a list of nat as a parameter and has a nat as a storage and loop through the list using the **`LOOP`** instruction to find the first nat greater than 100 before saving it in the storage."
   ]
  },
  {
   "cell_type": "code",
   "execution_count": null,
   "metadata": {},
   "outputs": [],
   "source": [
    "## Write your code here"
   ]
  },
  {
   "cell_type": "markdown",
   "metadata": {},
   "source": [
    "<details>\n",
    "    <summary>Solution</summary>\n",
    "    <p>Copy-paste the solution in the cell above to compile it!</p>\n",
    "    <br />\n",
    "    <pre>\n",
    "parameter (list nat) ;\n",
    "storage nat ;\n",
    "code {\n",
    "    CAR ;\n",
    "    PUSH bool True ;\n",
    "    LOOP\n",
    "        {\n",
    "            IF_CONS\n",
    "                {\n",
    "                    DUP ;\n",
    "                    PUSH nat 100 ;\n",
    "                    IFCMPLT\n",
    "                        { \n",
    "                            SWAP ;\n",
    "                            DROP ;\n",
    "                            PUSH bool False ;\n",
    "                        }\n",
    "                        { \n",
    "                            DROP ;\n",
    "                            PUSH bool True \n",
    "                        } ;\n",
    "                }\n",
    "                {\n",
    "                    PUSH bool False ;\n",
    "                } ;\n",
    "        } ;\n",
    "    NIL operation ;\n",
    "    PAIR\n",
    "} ;\n",
    "\n",
    "RUN %default { 34 ; 56 ; 97 ; 22 ; 123 ; 45 ; 67 } 0 ;\n",
    "    </pre>\n",
    "</details>"
   ]
  },
  {
   "cell_type": "markdown",
   "metadata": {},
   "source": [
    "2. Write a contract whose storage is a map where the keys are names and the values are sets of `nat` numbers. Loop through the map to get the set for each key and loop through each set. If the number in the set is greater than 50, you add 10. If it is less than 50, you subtract 10. The parameter and storage are provided below, you just have to write the code."
   ]
  },
  {
   "cell_type": "code",
   "execution_count": 26,
   "metadata": {},
   "outputs": [
    {
     "name": "stdout",
     "output_type": "stream",
     "text": [
      "parameter unit;\n",
      "storage (map string (set nat));\n",
      "code {};\n",
      "RUN: use %default; drop all; push (Unit, {'Alice': {66, 54, 23}, 'Bob': {12, 22, 44}, 'Eve': {11, 89, 67}});"
     ]
    },
    {
     "name": "stderr",
     "output_type": "stream",
     "text": [
      "MichelsonRuntimeError: code is not initialized\n",
      "at RUN"
     ]
    }
   ],
   "source": [
    "parameter unit ;\n",
    "storage (map string (set nat)) ;\n",
    "code {\n",
    "    ## Write your code here\n",
    "} ;\n",
    "\n",
    "RUN %default Unit { Elt \"Alice\" { 54 ; 23 ; 66 } ; Elt \"Bob\" { 22 ; 12 ; 44 } ; Elt \"Eve\" { 67 ; 11 ; 89 } } ;"
   ]
  },
  {
   "cell_type": "markdown",
   "metadata": {},
   "source": [
    "<details>\n",
    "    <summary>Solution</summary>\n",
    "    <p>Copy-paste the solution in the cell above to compile it!</p>\n",
    "    <br />\n",
    "    <pre>\n",
    "parameter unit ;\n",
    "storage (map string (set nat)) ;\n",
    "code {\n",
    "    CDR ;\n",
    "    MAP\n",
    "        {\n",
    "            CDR ;\n",
    "            EMPTY_SET nat ;\n",
    "            SWAP ;\n",
    "            ITER \n",
    "                {\n",
    "                    DUP ;\n",
    "                    PUSH nat 50 ;\n",
    "                    IFCMPGT { PUSH nat 10 ; ADD } { PUSH nat 10 ; SUB ; ABS } ;\n",
    "                    PUSH bool True ;\n",
    "                    SWAP ;\n",
    "                    UPDATE ;\n",
    "                } ;\n",
    "        } ;\n",
    "    NIL operation ;\n",
    "    PAIR\n",
    "} ;\n",
    "\n",
    "RUN %default Unit { Elt \"Alice\" { 54 ; 23 ; 66 } ; Elt \"Bob\" { 22 ; 12 ; 44 } ; Elt \"Eve\" { 67 ; 11 ; 89 } } ;\n",
    "    </pre>\n",
    "</details>"
   ]
  }
 ],
 "metadata": {
  "kernelspec": {
   "display_name": "Michelson",
   "language": "michelson",
   "name": "michelson"
  },
  "language_info": {
   "codemirror_mode": "michelson",
   "file_extension": ".tz",
   "mimetype": "text/x-michelson",
   "name": "Michelson"
  }
 },
 "nbformat": 4,
 "nbformat_minor": 4
}

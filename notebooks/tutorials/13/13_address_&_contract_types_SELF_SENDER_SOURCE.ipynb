{
 "cells": [
  {
   "cell_type": "markdown",
   "metadata": {},
   "source": [
    "# Chapter 13\n",
    "\n",
    "As much as internal operations are important, they all happen within a predefined context. The Michelson contract doesn't run in a container with no contact with the outside world. A few things that may be necessary for your contract depend on variables from outside the contract. For example, you may want to verify from which address the transaction originated or you may need to forge a transaction to another contract.  \n",
    "Fortunately, Michelson includes several instructions that make manipulating data from the outside world easier. We are going to have a closer look first at the `address` and `contract` types before working with addresses available during the execution of the smart contract.\n",
    "\n",
    "## Address and contract types\n",
    "\n",
    "We have already encountered the `address` type in different contract. The address type can be given to a string that complies with the Tezos address format, may it be the address of an implicit account or of a smart contract. The `address` type doesn't give any guarantee about the existence or validity of the address, only about its format. For example:"
   ]
  },
  {
   "cell_type": "code",
   "execution_count": 5,
   "metadata": {},
   "outputs": [
    {
     "name": "stdout",
     "output_type": "stream",
     "text": [
      "parameter unit;\n",
      "storage address;\n",
      "code { DROP ; PUSH address \"tz1NhNv9g7rtcjyNsH8Zqu79giY5aTqDHrzB\" ; NIL operation ; PAIR };\n",
      "RUN: use %default; drop all; push (Unit, '');\n",
      "DROP: pop (Unit, '');\n",
      "PUSH: push tz1NhNv9g7rtcjyNsH8Zqu79giY5aTqDHrzB;\n",
      "NIL: push [];\n",
      "PAIR: pop [], tz1NhNv9g7rtcjyNsH8Zqu79giY5aTqDHrzB; push ([], 'tz1NhNv9g7rtcjyNsH8Zqu79giY5aTqDHrzB');"
     ]
    },
    {
     "data": {
      "text/html": [
       "<table>\n",
       "<thead>\n",
       "<tr><th>value                                                                      </th><th>type                                        </th></tr>\n",
       "</thead>\n",
       "<tbody>\n",
       "<tr><td><pre style=&quot;text-align: left;&quot;>&quot;tz1NhNv9g7rtcjyNsH8Zqu79giY5aTqDHrzB&quot;</pre></td><td><pre style=&quot;text-align: left;&quot;>address</pre></td></tr>\n",
       "</tbody>\n",
       "</table>"
      ],
      "text/plain": [
       "value                                   type\n",
       "--------------------------------------  -------\n",
       "\"tz1NhNv9g7rtcjyNsH8Zqu79giY5aTqDHrzB\"  address"
      ]
     },
     "execution_count": 5,
     "metadata": {},
     "output_type": "execute_result"
    }
   ],
   "source": [
    "parameter unit ;\n",
    "storage address ;\n",
    "code {\n",
    "    DROP ;\n",
    "    PUSH address \"tz1NhNv9g7rtcjyNsH8Zqu79giY5aTqDHrzB\" ; ## this address doesn't exist\n",
    "    NIL operation ;\n",
    "    PAIR\n",
    "} ;\n",
    "\n",
    "RUN %default Unit \"\" ;"
   ]
  },
  {
   "cell_type": "markdown",
   "metadata": {},
   "source": [
    "As you can see, the compiler doesn't complain you are using an invalid address 😜\n",
    "\n",
    "If you want to make sure the address is valid and existing, you can cast the address into the `contract` type. The `contract` type guarantees that the address is valid and exists in the network. A value of type `contract` receives a parameter which matches the parameter expected by the contract. It is important here to remember that although using the word `contract`, these values don't refer exclusively to smart contracts but can also be implicit accounts. An implicit account in the world of Michelson is just a value of type `contract` with a parameter of type `unit`. Let's see two examples:"
   ]
  },
  {
   "cell_type": "code",
   "execution_count": 6,
   "metadata": {},
   "outputs": [
    {
     "name": "stdout",
     "output_type": "stream",
     "text": [
      "parameter unit;\n",
      "storage (contract unit);\n",
      "code { DROP ; PUSH (contract unit) \"tz1SjrNeUE4zyPGSZpogDZd5tvryixNDsD2v\" ; NIL operation ; PAIR };\n",
      "RUN: use %default; drop all; push (Unit, '');\n",
      "DROP: pop (Unit, '');\n",
      "PUSH:"
     ]
    },
    {
     "name": "stderr",
     "output_type": "stream",
     "text": [
      "MichelsonRuntimeError: type is not pushable: contract unit\n",
      "at RUN -> PUSH"
     ]
    }
   ],
   "source": [
    "parameter unit ;\n",
    "storage (contract unit) ;\n",
    "code {\n",
    "    DROP ;\n",
    "    PUSH (contract unit) \"tz1SjrNeUE4zyPGSZpogDZd5tvryixNDsD2v\" ;\n",
    "    NIL operation ;\n",
    "    PAIR\n",
    "} ;\n",
    "\n",
    "RUN %default Unit \"\";"
   ]
  },
  {
   "cell_type": "markdown",
   "metadata": {},
   "source": [
    "That's a bummer! Values of type `contract` are not *pushable* values, so we will have to cast an address into its `contract` value:"
   ]
  },
  {
   "cell_type": "code",
   "execution_count": 8,
   "metadata": {},
   "outputs": [
    {
     "name": "stdout",
     "output_type": "stream",
     "text": [
      "parameter unit;\n",
      "storage (contract unit);\n",
      "code { DROP ; PUSH address \"tz1SjrNeUE4zyPGSZpogDZd5tvryixNDsD2v\" ; CONTRACT unit ; IF_NONE { { UNIT ; FAILWITH } } {} ; NIL operation ; PAIR };\n",
      "RUN: use %default; drop all; push (Unit, '');\n",
      "DROP: pop (Unit, '');\n",
      "PUSH: push tz1SjrNeUE4zyPGSZpogDZd5tvryixNDsD2v;\n",
      "CONTRACT: pop tz1SjrNeUE4zyPGSZpogDZd5tvryixNDsD2v; skip check; push ('tz1SjrNeUE4zyPGSZpogDZd5tvryixNDsD2v%default',);\n",
      "IF_NONE: pop ('tz1SjrNeUE4zyPGSZpogDZd5tvryixNDsD2v%default',); push tz1SjrNeUE4zyPGSZpogDZd5tvryixNDsD2v%default;\n",
      "NIL: push [];\n",
      "PAIR: pop [], tz1SjrNeUE4zyPGSZpogDZd5tvryixNDsD2v%default; push ([], 'tz1SjrNeUE4zyPGSZpogDZd5tvryixNDsD2v%default');"
     ]
    },
    {
     "data": {
      "text/html": [
       "<table>\n",
       "<thead>\n",
       "<tr><th>value                                                                              </th><th>type                                              </th></tr>\n",
       "</thead>\n",
       "<tbody>\n",
       "<tr><td><pre style=&quot;text-align: left;&quot;>&quot;tz1SjrNeUE4zyPGSZpogDZd5tvryixNDsD2v%default&quot;</pre></td><td><pre style=&quot;text-align: left;&quot;>contract unit</pre></td></tr>\n",
       "</tbody>\n",
       "</table>"
      ],
      "text/plain": [
       "value                                           type\n",
       "----------------------------------------------  -------------\n",
       "\"tz1SjrNeUE4zyPGSZpogDZd5tvryixNDsD2v%default\"  contract unit"
      ]
     },
     "execution_count": 8,
     "metadata": {},
     "output_type": "execute_result"
    }
   ],
   "source": [
    "parameter unit ;\n",
    "storage (contract unit) ;\n",
    "code {\n",
    "    DROP ;\n",
    "    PUSH address \"tz1SjrNeUE4zyPGSZpogDZd5tvryixNDsD2v\" ;\n",
    "    CONTRACT unit;\n",
    "    IF_NONE\n",
    "        { FAIL }\n",
    "        {} ;\n",
    "    NIL operation ;\n",
    "    PAIR\n",
    "} ;\n",
    "\n",
    "RUN %default Unit \"\";"
   ]
  },
  {
   "cell_type": "markdown",
   "metadata": {},
   "source": [
    "This requires a few extra steps but that's the price to pay to make sure we have a valid existing value!  \n",
    "First, there must be a value of type address on top of the stack (in this case, an implicit account address). Next, you use the **`CONTRACT`** instruction followed by the type of the parameter. In the case of an implicit account, the type is `unit`. Notice how the **`CONTRACT`** instruction returns an `optional` value. If the address you provided is not valid and/or doesn't exist, **`CONTRACT`** returns `(None)`. Otherwise, we can wrap things up and end the execution of the contract.  \n",
    "Let's see how it looks like now if we want to do the same with a contract address:"
   ]
  },
  {
   "cell_type": "code",
   "execution_count": 9,
   "metadata": {},
   "outputs": [
    {
     "name": "stdout",
     "output_type": "stream",
     "text": [
      "parameter address;\n",
      "storage (contract (pair address nat));\n",
      "code { CAR ; CONTRACT (pair address nat) ; IF_NONE { { UNIT ; FAILWITH } } {} ; NIL operation ; PAIR };\n",
      "RUN: use %default; drop all; push ('KT1TUx83WuwtA2Ku1pi6A9AZqov7CZfYtLUS', '');\n",
      "CAR: pop ('KT1TUx83WuwtA2Ku1pi6A9AZqov7CZfYtLUS', ''); push KT1TUx83WuwtA2Ku1pi6A9AZqov7CZfYtLUS;\n",
      "CONTRACT: pop KT1TUx83WuwtA2Ku1pi6A9AZqov7CZfYtLUS; skip check; push ('KT1TUx83WuwtA2Ku1pi6A9AZqov7CZfYtLUS%default',);\n",
      "IF_NONE: pop ('KT1TUx83WuwtA2Ku1pi6A9AZqov7CZfYtLUS%default',); push KT1TUx83WuwtA2Ku1pi6A9AZqov7CZfYtLUS%default;\n",
      "NIL: push [];\n",
      "PAIR: pop [], KT1TUx83WuwtA2Ku1pi6A9AZqov7CZfYtLUS%default; push ([], 'KT1TUx83WuwtA2Ku1pi6A9AZqov7CZfYtLUS%default');"
     ]
    },
    {
     "data": {
      "text/html": [
       "<table>\n",
       "<thead>\n",
       "<tr><th>value                                                                              </th><th>type                                                            </th></tr>\n",
       "</thead>\n",
       "<tbody>\n",
       "<tr><td><pre style=&quot;text-align: left;&quot;>&quot;KT1TUx83WuwtA2Ku1pi6A9AZqov7CZfYtLUS%default&quot;</pre></td><td><pre style=&quot;text-align: left;&quot;>contract (pair address nat)</pre></td></tr>\n",
       "</tbody>\n",
       "</table>"
      ],
      "text/plain": [
       "value                                           type\n",
       "----------------------------------------------  ---------------------------\n",
       "\"KT1TUx83WuwtA2Ku1pi6A9AZqov7CZfYtLUS%default\"  contract (pair address nat)"
      ]
     },
     "execution_count": 9,
     "metadata": {},
     "output_type": "execute_result"
    }
   ],
   "source": [
    "parameter address ;\n",
    "storage (contract (pair address nat)) ;\n",
    "code {\n",
    "    CAR ;\n",
    "    CONTRACT (pair address nat) ;\n",
    "    IF_NONE\n",
    "        { FAIL }\n",
    "        {} ;\n",
    "    NIL operation ;\n",
    "    PAIR\n",
    "} ;\n",
    "\n",
    "RUN %default \"KT1TUx83WuwtA2Ku1pi6A9AZqov7CZfYtLUS\" \"\" ;"
   ]
  },
  {
   "cell_type": "markdown",
   "metadata": {},
   "source": [
    "This contract casts the provided address to a value of type `contract (pair address nat)`. This kind of operation assumes that you know beforehand the type of the parameter of the contract. It will fail if the address you provided cannot be cast to the matching contract type.\n",
    "\n",
    "As we demonstrated, it is possible to go from a value of type `address` to a value of type `contract` but the opposite is also possible! You can use the **`ADDRESS`** instruction to achieve this result:"
   ]
  },
  {
   "cell_type": "code",
   "execution_count": 14,
   "metadata": {},
   "outputs": [
    {
     "name": "stdout",
     "output_type": "stream",
     "text": [
      "parameter address;\n",
      "storage address;\n",
      "code { CAR ; CONTRACT (pair address nat) ; IF_NONE { { UNIT ; FAILWITH } } {} ; ADDRESS ; NIL operation ; PAIR };\n",
      "RUN: use %default; drop all; push ('KT1TUx83WuwtA2Ku1pi6A9AZqov7CZfYtLUS', '');\n",
      "CAR: pop ('KT1TUx83WuwtA2Ku1pi6A9AZqov7CZfYtLUS', ''); push KT1TUx83WuwtA2Ku1pi6A9AZqov7CZfYtLUS;\n",
      "CONTRACT: pop KT1TUx83WuwtA2Ku1pi6A9AZqov7CZfYtLUS; skip check; push ('KT1TUx83WuwtA2Ku1pi6A9AZqov7CZfYtLUS%default',);\n",
      "IF_NONE: pop ('KT1TUx83WuwtA2Ku1pi6A9AZqov7CZfYtLUS%default',); push KT1TUx83WuwtA2Ku1pi6A9AZqov7CZfYtLUS%default;\n",
      "ADDRESS: pop KT1TUx83WuwtA2Ku1pi6A9AZqov7CZfYtLUS%default; push KT1TUx83WuwtA2Ku1pi6A9AZqov7CZfYtLUS;\n",
      "NIL: push [];\n",
      "PAIR: pop [], KT1TUx83WuwtA2Ku1pi6A9AZqov7CZfYtLUS; push ([], 'KT1TUx83WuwtA2Ku1pi6A9AZqov7CZfYtLUS');"
     ]
    },
    {
     "data": {
      "text/html": [
       "<table>\n",
       "<thead>\n",
       "<tr><th>value                                                                      </th><th>type                                        </th></tr>\n",
       "</thead>\n",
       "<tbody>\n",
       "<tr><td><pre style=&quot;text-align: left;&quot;>&quot;KT1TUx83WuwtA2Ku1pi6A9AZqov7CZfYtLUS&quot;</pre></td><td><pre style=&quot;text-align: left;&quot;>address</pre></td></tr>\n",
       "</tbody>\n",
       "</table>"
      ],
      "text/plain": [
       "value                                   type\n",
       "--------------------------------------  -------\n",
       "\"KT1TUx83WuwtA2Ku1pi6A9AZqov7CZfYtLUS\"  address"
      ]
     },
     "execution_count": 14,
     "metadata": {},
     "output_type": "execute_result"
    }
   ],
   "source": [
    "parameter address ;\n",
    "storage address ;\n",
    "code {\n",
    "    CAR ;\n",
    "    CONTRACT (pair address nat) ;\n",
    "    IF_NONE\n",
    "        { FAIL }\n",
    "        {} ;\n",
    "    ADDRESS ;\n",
    "    NIL operation ;\n",
    "    PAIR\n",
    "} ;\n",
    "\n",
    "RUN %default \"KT1TUx83WuwtA2Ku1pi6A9AZqov7CZfYtLUS\" \"\" ;"
   ]
  },
  {
   "cell_type": "markdown",
   "metadata": {},
   "source": [
    "The example above shows that if you cast a value of type `address` to a value of type `contract` before casting it again to a value of type `address`, you get the original address back!\n",
    "\n",
    "## SELF, SOURCE and SENDER\n",
    "\n",
    "A Michelson contract runs in an environment where different variables influencing the contract are available and only one instruction away from the stack! We already encountered different instructions that push environment information onto the stack like **`AMOUNT`** or **`NOW`**. Three instructions are related to the topic at hand, `address` and `contract` types.\n",
    "\n",
    "The first one is **`SELF`** that you can use to push the address of the current contract as a value of type `contract`. The parameter refers to the parameter of the current contract:"
   ]
  },
  {
   "cell_type": "code",
   "execution_count": 13,
   "metadata": {},
   "outputs": [
    {
     "name": "stdout",
     "output_type": "stream",
     "text": [
      "parameter int;\n",
      "storage (contract int);\n",
      "code { DROP ; SELF ; NIL operation ; PAIR };\n",
      "RUN: use %default; drop all; push (0, '');\n",
      "DROP: pop (0, '');\n",
      "SELF: use %default; push KT1BEqzn5Wx8uJrZNvuS9DVHmLvG9td3fDLi%default;\n",
      "NIL: push [];\n",
      "PAIR: pop [], KT1BEqzn5Wx8uJrZNvuS9DVHmLvG9td3fDLi%default; push ([], 'KT1BEqzn5Wx8uJrZNvuS9DVHmLvG9td3fDLi%default');"
     ]
    },
    {
     "data": {
      "text/html": [
       "<table>\n",
       "<thead>\n",
       "<tr><th>value                                                                              </th><th>type                                             </th></tr>\n",
       "</thead>\n",
       "<tbody>\n",
       "<tr><td><pre style=&quot;text-align: left;&quot;>&quot;KT1BEqzn5Wx8uJrZNvuS9DVHmLvG9td3fDLi%default&quot;</pre></td><td><pre style=&quot;text-align: left;&quot;>contract int</pre></td></tr>\n",
       "</tbody>\n",
       "</table>"
      ],
      "text/plain": [
       "value                                           type\n",
       "----------------------------------------------  ------------\n",
       "\"KT1BEqzn5Wx8uJrZNvuS9DVHmLvG9td3fDLi%default\"  contract int"
      ]
     },
     "execution_count": 13,
     "metadata": {},
     "output_type": "execute_result"
    }
   ],
   "source": [
    "parameter int ;\n",
    "storage (contract int) ;\n",
    "code {\n",
    "    DROP ;\n",
    "    SELF ;\n",
    "    NIL operation ;\n",
    "    PAIR\n",
    "} ;\n",
    "\n",
    "RUN %default 0 \"\";"
   ]
  },
  {
   "cell_type": "markdown",
   "metadata": {},
   "source": [
    "Although it may be difficult to see the value of getting the address of the current contract, this will become a lot more valuable in the next chapter when we will explore inter-contract operations.\n",
    "\n",
    "Next, we are going to explore two instructions that are similar but widely different in what they achieve and it is very important to understand their difference to avoid bugs in your contracts. **`SOURCE`** and **`SENDER`** are two instructions that push onto the stack the address that created the transaction. However, the difference lays in the transaction we are talking about: in the case of **`SOURCE`**, the address you get is the address of the implicit account from which the very first transaction was sent (in general, this will be from a human user). There was nothing before the address that **`SOURCE`** pushes onto the stack. In the case of **`SENDER`**, the address you get on the stack is the immediate creator of the current transaction which means that in a row of transactions, the address could be the one of a smart contract. If a user sends a transaction from a dapp that will be relayed between a couple of smart contracts, **`SENDER`** will return the instigator of the current transaction while **`SOURCE`** will return the address that started all the subsequent transactions.  \n",
    "It is particularly important to understand the difference in contracts that implement some kind of address-based authentication: if they use the address provided by **`SENDER`**, the address could be the one of a smart contract acting on someone else's behalf. If they use the address provided by **`SOURCE`**, the address will be the one of an implicit account.  \n",
    "\n",
    "Let's see an example that verifies if the address returned by **`SENDER`** is an implicit account:"
   ]
  },
  {
   "cell_type": "code",
   "execution_count": 20,
   "metadata": {},
   "outputs": [
    {
     "name": "stdout",
     "output_type": "stream",
     "text": [
      "PATCH: set SENDER=KT1TUx83WuwtA2Ku1pi6A9AZqov7CZfYtLUS;\n",
      "storage unit;\n",
      "parameter unit;\n",
      "code { SENDER ; CONTRACT unit ; IF_NONE { { UNIT ; FAILWITH } } { DROP } ; UNIT ; NIL operation ; PAIR };\n",
      "RUN: use %default; drop all; push (Unit, Unit);\n",
      "SENDER: push KT1TUx83WuwtA2Ku1pi6A9AZqov7CZfYtLUS;\n",
      "CONTRACT: pop KT1TUx83WuwtA2Ku1pi6A9AZqov7CZfYtLUS; skip check; push ('KT1TUx83WuwtA2Ku1pi6A9AZqov7CZfYtLUS%default',);\n",
      "IF_NONE: pop ('KT1TUx83WuwtA2Ku1pi6A9AZqov7CZfYtLUS%default',); push KT1TUx83WuwtA2Ku1pi6A9AZqov7CZfYtLUS%default;\n",
      "DROP: pop KT1TUx83WuwtA2Ku1pi6A9AZqov7CZfYtLUS%default;\n",
      "UNIT: push Unit;\n",
      "NIL: push [];\n",
      "PAIR: pop [], Unit; push ([], Unit);"
     ]
    },
    {
     "data": {
      "text/html": [
       "<table>\n",
       "<thead>\n",
       "<tr><th>value                                    </th><th>type                                     </th></tr>\n",
       "</thead>\n",
       "<tbody>\n",
       "<tr><td><pre style=&quot;text-align: left;&quot;>Unit</pre></td><td><pre style=&quot;text-align: left;&quot;>unit</pre></td></tr>\n",
       "</tbody>\n",
       "</table>"
      ],
      "text/plain": [
       "value    type\n",
       "-------  ------\n",
       "Unit     unit"
      ]
     },
     "execution_count": 20,
     "metadata": {},
     "output_type": "execute_result"
    }
   ],
   "source": [
    "PATCH SENDER \"KT1TUx83WuwtA2Ku1pi6A9AZqov7CZfYtLUS\" ;\n",
    "\n",
    "storage unit ;\n",
    "parameter unit ;\n",
    "code {\n",
    "    SENDER ;\n",
    "    CONTRACT unit ;\n",
    "    IF_NONE\n",
    "        { FAIL }\n",
    "        { DROP } ;\n",
    "    UNIT ;\n",
    "    NIL operation ;\n",
    "    PAIR\n",
    "} ;\n",
    "\n",
    "RUN %default Unit Unit ;"
   ]
  },
  {
   "cell_type": "markdown",
   "metadata": {},
   "source": [
    "The contract fails if you pass the address of a contract as parameter (note that it won't fail with a contract that accepts a parameter of type `unit`, this code is only used for the sake of demonstration).\n",
    "\n",
    "You could also compare **`SOURCE`** with **`SENDER`** to ensure that you are dealing with the very first transaction:"
   ]
  },
  {
   "cell_type": "code",
   "execution_count": 21,
   "metadata": {},
   "outputs": [
    {
     "name": "stdout",
     "output_type": "stream",
     "text": [
      "PATCH: set SENDER=tz1SjrNeUE4zyPGSZpogDZd5tvryixNDsD2v;\n",
      "PATCH: set SOURCE=KT1TUx83WuwtA2Ku1pi6A9AZqov7CZfYtLUS;\n",
      "parameter unit;\n",
      "storage unit;\n",
      "code { DROP ; SENDER ; SOURCE ; { { COMPARE ; NEQ } ; IF { { UNIT ; FAILWITH } } {} } ; UNIT ; NIL operation ; PAIR };\n",
      "RUN: use %default; drop all; push (Unit, Unit);\n",
      "DROP: pop (Unit, Unit);\n",
      "SENDER: push tz1SjrNeUE4zyPGSZpogDZd5tvryixNDsD2v;\n",
      "SOURCE: push KT1TUx83WuwtA2Ku1pi6A9AZqov7CZfYtLUS;\n",
      "COMPARE: pop KT1TUx83WuwtA2Ku1pi6A9AZqov7CZfYtLUS, tz1SjrNeUE4zyPGSZpogDZd5tvryixNDsD2v; push -1;\n",
      "NEQ: pop -1; push True;\n",
      "IF: pop True;\n",
      "UNIT: push Unit;\n",
      "FAILWITH: pop Unit;"
     ]
    },
    {
     "name": "stderr",
     "output_type": "stream",
     "text": [
      "MichelsonRuntimeError: Unit\n",
      "at RUN -> IF -> FAILWITH"
     ]
    }
   ],
   "source": [
    "PATCH SENDER \"tz1SjrNeUE4zyPGSZpogDZd5tvryixNDsD2v\" ;\n",
    "PATCH SOURCE \"KT1TUx83WuwtA2Ku1pi6A9AZqov7CZfYtLUS\" ;\n",
    "\n",
    "parameter unit ;\n",
    "storage unit ;\n",
    "code {\n",
    "    DROP ;\n",
    "    SENDER ;\n",
    "    SOURCE ;\n",
    "    IFCMPNEQ\n",
    "        { FAIL }\n",
    "        {} ;\n",
    "    UNIT ;\n",
    "    NIL operation ;\n",
    "    PAIR\n",
    "} ;\n",
    "\n",
    "RUN %default Unit Unit ;"
   ]
  },
  {
   "cell_type": "code",
   "execution_count": null,
   "metadata": {},
   "outputs": [],
   "source": []
  }
 ],
 "metadata": {
  "kernelspec": {
   "display_name": "Michelson",
   "language": "michelson",
   "name": "michelson"
  },
  "language_info": {
   "codemirror_mode": "michelson",
   "file_extension": ".tz",
   "mimetype": "text/x-michelson",
   "name": "Michelson"
  }
 },
 "nbformat": 4,
 "nbformat_minor": 4
}

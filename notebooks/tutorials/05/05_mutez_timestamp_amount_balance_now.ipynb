{
 "cells": [
  {
   "cell_type": "markdown",
   "metadata": {},
   "source": [
    "# Chapter 5  \n",
    "\n",
    "In this new installment of our tutorials, we are going to talk about money!  \n",
    "One of the main advantages of smart contracts is that they are \"programmable money\": they let you store, manipulate and send tezzies in a predictable way. Smart contracts can work as middle men and verify that a set of conditions is met before initiating a transaction, sending a certain amount of tezzies or doing any other modification.  \n",
    "\n",
    "In the previous tutorials, we encountered a couple of instructions that push useful information about the smart contract and its context onto the stack: you may remember **`NOW`** that adds the current timestamp on top of the stack. This is not the only one. Michelson provides a few instructions that give you access to a lot of information. In this chapter, we are going to focus on instructions that are related to the financial aspect of smart contracts: **`BALANCE`**, **`AMOUNT`**, **`TRANFER_TOKENS`**. You will also get a refresher about `mutez` operations. At the end of the chapter, you will have everything you need to know in order to handle financial operations in your smart contracts 🤑\n",
    "\n",
    "## `mutez` and `mutez` operations\n",
    "\n",
    "The `mutez` (or *micro-tez*) type is a special type that allows you to manipulate financial values in your smart contracts. `mutez` are indivisible and always positive (as exposed below, a few restrictions are set to avoid negative values of `mutez`). It may seem a little strange at the beginning, but `mutez` values are NOT tezzies, they only represent a financial value. If you write `PUSH mutez 1000`, this doesn't mean you added 1,000 microtez out of thin air in your smart contract. You merely create a value of a certain type to easily manipulate other values.  \n",
    "\n",
    "You can use different arithmetic operations for values of type `mutez`: **`ADD`**, **`SUB`**, **`MUL`**, **`EDIV`** with a few restrictions:\n",
    "\n",
    "- **`ADD`** only works with two values of type `mutez`\n",
    "- **`SUB`** only works with two values of type `mutez` AND fails if the result of the subtraction is negative\n",
    "- **`MUL`** only works with one value of type `mutez` and one value of type `nat`, the result is of type `mutez`\n",
    "- **`EDIV`** only works with one value of type `mutez` and one value of type `nat`, the result is of type `option`, `None` in case of a division by zero, `(Some (pair quotient remainder))` including a pair containing the quotient on the left and the remainder on the right  \n",
    "\n",
    "In addition to these operations, it is also possible to compare two values of type `mutez`. Like any other value, this comparison yields an `int` between `-1` and `1`.  \n",
    "\n",
    "Now let's see some examples:\n",
    "\n",
    "We initialize a simple contract to test these operations:"
   ]
  },
  {
   "cell_type": "code",
   "execution_count": 62,
   "metadata": {},
   "outputs": [
    {
     "name": "stdout",
     "output_type": "stream",
     "text": [
      "storage mutez;\n",
      "parameter unit;\n",
      "BEGIN: use %default; drop all; push (Unit, 1000);"
     ]
    },
    {
     "data": {
      "text/html": [
       "<table>\n",
       "<thead>\n",
       "<tr><th>value                                              </th><th>type                                                </th></tr>\n",
       "</thead>\n",
       "<tbody>\n",
       "<tr><td><pre style=&quot;text-align: left;&quot;>Pair Unit 1000</pre></td><td><pre style=&quot;text-align: left;&quot;>pair unit mutez</pre></td></tr>\n",
       "</tbody>\n",
       "</table>"
      ],
      "text/plain": [
       "value           type\n",
       "--------------  ---------------\n",
       "Pair Unit 1000  pair unit mutez"
      ]
     },
     "execution_count": 62,
     "metadata": {},
     "output_type": "execute_result"
    }
   ],
   "source": [
    "storage mutez ;\n",
    "parameter unit ;\n",
    "BEGIN Unit 1000 ;"
   ]
  },
  {
   "cell_type": "markdown",
   "metadata": {},
   "source": [
    "Now let's separate the storage and push a new value of type `mutez` (nothing new here):"
   ]
  },
  {
   "cell_type": "code",
   "execution_count": 63,
   "metadata": {},
   "outputs": [
    {
     "name": "stdout",
     "output_type": "stream",
     "text": [
      "CDR: pop (Unit, 1000); push 1000;\n",
      "PUSH: push 2000;"
     ]
    },
    {
     "data": {
      "text/html": [
       "<table>\n",
       "<thead>\n",
       "<tr><th>value                                    </th><th>type                                      </th><th>name                                         </th></tr>\n",
       "</thead>\n",
       "<tbody>\n",
       "<tr><td><pre style=&quot;text-align: left;&quot;>2000</pre></td><td><pre style=&quot;text-align: left;&quot;>mutez</pre></td><td>                                             </td></tr>\n",
       "<tr><td><pre style=&quot;text-align: left;&quot;>1000</pre></td><td><pre style=&quot;text-align: left;&quot;>mutez</pre></td><td><pre style=&quot;text-align: left;&quot;>@storage</pre></td></tr>\n",
       "</tbody>\n",
       "</table>"
      ],
      "text/plain": [
       "  value  type    name\n",
       "-------  ------  --------\n",
       "   2000  mutez\n",
       "   1000  mutez   @storage"
      ]
     },
     "execution_count": 63,
     "metadata": {},
     "output_type": "execute_result"
    }
   ],
   "source": [
    "CDR @storage ;\n",
    "PUSH mutez 2000 ;\n",
    "DUMP ;"
   ]
  },
  {
   "cell_type": "markdown",
   "metadata": {},
   "source": [
    "With the **`ADD`** instruction, we can remove the two values of type `mutez` from the stack, add them together and push the result back to the stack:"
   ]
  },
  {
   "cell_type": "code",
   "execution_count": 64,
   "metadata": {},
   "outputs": [
    {
     "data": {
      "text/html": [
       "<table>\n",
       "<thead>\n",
       "<tr><th>value                                    </th><th>type                                      </th></tr>\n",
       "</thead>\n",
       "<tbody>\n",
       "<tr><td><pre style=&quot;text-align: left;&quot;>3000</pre></td><td><pre style=&quot;text-align: left;&quot;>mutez</pre></td></tr>\n",
       "</tbody>\n",
       "</table>"
      ],
      "text/plain": [
       "  value  type\n",
       "-------  ------\n",
       "   3000  mutez"
      ]
     },
     "execution_count": 64,
     "metadata": {},
     "output_type": "execute_result"
    }
   ],
   "source": [
    "ADD ;"
   ]
  },
  {
   "cell_type": "markdown",
   "metadata": {},
   "source": [
    "After adding values together, let's try to subtract one from another! We push a new value of type `mutez` and use the one already present in the stack to demonstrate **`SUB`**:"
   ]
  },
  {
   "cell_type": "code",
   "execution_count": 65,
   "metadata": {},
   "outputs": [
    {
     "name": "stdout",
     "output_type": "stream",
     "text": [
      "PUSH: push 500;\n",
      "SWAP: pop 500, 3000; push 500; push 3000;\n",
      "SUB: pop 3000, 500; push 2500;"
     ]
    },
    {
     "data": {
      "text/html": [
       "<table>\n",
       "<thead>\n",
       "<tr><th>value                                    </th><th>type                                      </th></tr>\n",
       "</thead>\n",
       "<tbody>\n",
       "<tr><td><pre style=&quot;text-align: left;&quot;>2500</pre></td><td><pre style=&quot;text-align: left;&quot;>mutez</pre></td></tr>\n",
       "</tbody>\n",
       "</table>"
      ],
      "text/plain": [
       "  value  type\n",
       "-------  ------\n",
       "   2500  mutez"
      ]
     },
     "execution_count": 65,
     "metadata": {},
     "output_type": "execute_result"
    }
   ],
   "source": [
    "PUSH mutez 500 ;\n",
    "SWAP ;\n",
    "SUB ;"
   ]
  },
  {
   "cell_type": "markdown",
   "metadata": {},
   "source": [
    "Did you notice the **`SWAP`** instruction? You must make sure that the two elements are in the right order. If you try `mutez 500 - mutez 3000`, the contract will fail because `mutez` values cannot be negative.  \n",
    "\n",
    "Next, we can multiply `mutez` values with `nat` values (to ensure positive results). In this situation, the order of the values doesn't matter, so no need to swap them:"
   ]
  },
  {
   "cell_type": "code",
   "execution_count": 66,
   "metadata": {},
   "outputs": [
    {
     "name": "stdout",
     "output_type": "stream",
     "text": [
      "PUSH: push 4;\n",
      "MUL: pop 4, 2500; push 10000;"
     ]
    },
    {
     "data": {
      "text/html": [
       "<table>\n",
       "<thead>\n",
       "<tr><th>value                                     </th><th>type                                      </th></tr>\n",
       "</thead>\n",
       "<tbody>\n",
       "<tr><td><pre style=&quot;text-align: left;&quot;>10000</pre></td><td><pre style=&quot;text-align: left;&quot;>mutez</pre></td></tr>\n",
       "</tbody>\n",
       "</table>"
      ],
      "text/plain": [
       "  value  type\n",
       "-------  ------\n",
       "  10000  mutez"
      ]
     },
     "execution_count": 66,
     "metadata": {},
     "output_type": "execute_result"
    }
   ],
   "source": [
    "PUSH nat 4 ;\n",
    "MUL ;"
   ]
  },
  {
   "cell_type": "markdown",
   "metadata": {},
   "source": [
    "As you can see, the value returned by **`MUL`** is also of type `mutez`.  \n",
    "\n",
    "As it was the case for the other numeric values, using **`EDIV`** with `mutez` is also a bit more complex. If you remember from the previous chapter, the result of **`EDIV`** is an option. If you try a division by zero, the option will have the value `None`. Otherwise, it has a value of type `pair` that contains the quotient on the left and the remainder on the right.  \n",
    "\n",
    "We can write a small piece of code that tries to divide the value on top of the stack by the value we've just pushed. If this value is `0`, the contract fails. Otherwise, it extracts the quotient and the remainder and rearrange them in this order in the stack:"
   ]
  },
  {
   "cell_type": "code",
   "execution_count": 67,
   "metadata": {},
   "outputs": [
    {
     "name": "stdout",
     "output_type": "stream",
     "text": [
      "PUSH: push 10;\n",
      "SWAP: pop 10, 10000; push 10; push 10000;\n",
      "EDIV: pop 10000, 10; push ((1000, 0),);\n",
      "IF_NONE: pop ((1000, 0),); push (1000, 0);\n",
      "  DUP: push (1000, 0);\n",
      "  CAR: pop (1000, 0); push 1000;\n",
      "  SWAP: pop 1000, (1000, 0); push 1000; push (1000, 0);\n",
      "  CDR: pop (1000, 0); push 0;\n",
      "  SWAP: pop 0, 1000; push 0; push 1000;"
     ]
    },
    {
     "data": {
      "text/html": [
       "<table>\n",
       "<thead>\n",
       "<tr><th>value                                    </th><th>type                                      </th><th>name                                           </th></tr>\n",
       "</thead>\n",
       "<tbody>\n",
       "<tr><td><pre style=&quot;text-align: left;&quot;>1000</pre></td><td><pre style=&quot;text-align: left;&quot;>mutez</pre></td><td><pre style=&quot;text-align: left;&quot;>@quotient</pre> </td></tr>\n",
       "<tr><td><pre style=&quot;text-align: left;&quot;>0</pre>   </td><td><pre style=&quot;text-align: left;&quot;>mutez</pre></td><td><pre style=&quot;text-align: left;&quot;>@remainder</pre></td></tr>\n",
       "</tbody>\n",
       "</table>"
      ],
      "text/plain": [
       "  value  type    name\n",
       "-------  ------  ----------\n",
       "   1000  mutez   @quotient\n",
       "      0  mutez   @remainder"
      ]
     },
     "execution_count": 67,
     "metadata": {},
     "output_type": "execute_result"
    }
   ],
   "source": [
    "PUSH nat 10 ;\n",
    "SWAP ;\n",
    "EDIV ;\n",
    "IF_NONE\n",
    "    { PUSH string \"DivisionByZero\" ; FAILWITH }\n",
    "    {\n",
    "        DUP ;\n",
    "        CAR @quotient ;\n",
    "        SWAP ;\n",
    "        CDR @remainder ;\n",
    "        SWAP ;\n",
    "    } ;\n",
    "DUMP ;"
   ]
  },
  {
   "cell_type": "markdown",
   "metadata": {},
   "source": [
    "The two values we get on the stack are exactly the expected ones: `10000 / 10 = 1000` with a remainder of `0`.  \n",
    "\n",
    "Lastly, we can compare two values of type `mutez` and check if one is equal, greater or less than the other one. This will be particularly useful when you want to verify that users send the correct amount of tezzies required by your contract:"
   ]
  },
  {
   "cell_type": "code",
   "execution_count": 61,
   "metadata": {},
   "outputs": [
    {
     "name": "stdout",
     "output_type": "stream",
     "text": [
      "PUSH: push 500;\n",
      "COMPARE: pop 500, 1000; push -1;\n",
      "EQ: pop -1; push False;"
     ]
    },
    {
     "data": {
      "text/html": [
       "<table>\n",
       "<thead>\n",
       "<tr><th>value                                     </th><th>type                                     </th></tr>\n",
       "</thead>\n",
       "<tbody>\n",
       "<tr><td><pre style=&quot;text-align: left;&quot;>False</pre></td><td><pre style=&quot;text-align: left;&quot;>bool</pre></td></tr>\n",
       "</tbody>\n",
       "</table>"
      ],
      "text/plain": [
       "value    type\n",
       "-------  ------\n",
       "False    bool"
      ]
     },
     "execution_count": 61,
     "metadata": {},
     "output_type": "execute_result"
    }
   ],
   "source": [
    "PUSH mutez 500 ;\n",
    "COMPARE ;\n",
    "EQ ;"
   ]
  },
  {
   "cell_type": "markdown",
   "metadata": {},
   "source": [
    "We're adding here an extra step to check if the newly added value in the stack is equal to the one already present. As they are not equal, `False` is pushed onto the stack. Obviously, you can use any of the instructions we studied in Chapter three outside of **`EQ`**.\n",
    "\n",
    "## **`BALANCE`**, **`AMOUNT`** and **`NOW`**\n",
    "\n",
    "Michelson provides a few instructions that are very useful to check the context of execution.  \n",
    "\n",
    "Every time a smart contract runs, a few \"variables\" are available about data related to the current execution. For example, every transaction sent to a smart contract has an amount of tezzies attached to it (even if this is amount may be `0`). You may want to have access to this amount, for example, to check if the users sent enough tezzies for the service they requested or to update their token balance.  \n",
    "You can easily add this piece of information to the stack by using **`AMOUNT`**. The **`AMOUNT`** instruction will simply push a new element on top of the stack of type `mutez` whose value is equal to the amount sent along the transaction.\n",
    "\n",
    "Here are two examples to showcase what you can do with the **`AMOUNT`** instruction:"
   ]
  },
  {
   "cell_type": "code",
   "execution_count": 1,
   "metadata": {},
   "outputs": [
    {
     "name": "stdout",
     "output_type": "stream",
     "text": [
      "storage mutez;\n",
      "parameter unit;\n",
      "code { CDR ; AMOUNT ; { { COMPARE ; GT } ; IF { AMOUNT ; NIL operation ; PAIR } { { UNIT ; FAILWITH } } } };\n",
      "RUN: use %default; drop all; push (Unit, 100);\n",
      "CDR: pop (Unit, 100); push 100;\n",
      "AMOUNT: push 0;\n",
      "COMPARE: pop 0, 100; push -1;\n",
      "GT: pop -1; push False;\n",
      "IF: pop False;\n",
      "UNIT: push Unit;\n",
      "FAILWITH: pop Unit;"
     ]
    },
    {
     "name": "stderr",
     "output_type": "stream",
     "text": [
      "MichelsonRuntimeError: Unit\n",
      "at RUN -> IF -> FAILWITH"
     ]
    }
   ],
   "source": [
    "storage mutez ;\n",
    "parameter unit ;\n",
    "code {\n",
    "    CDR ;\n",
    "    AMOUNT ;\n",
    "    IFCMPGT\n",
    "        { AMOUNT ; NIL operation ; PAIR }\n",
    "        { FAIL }\n",
    "} ;\n",
    "\n",
    "RUN %default Unit 100 ;"
   ]
  },
  {
   "cell_type": "markdown",
   "metadata": {},
   "source": [
    "The contract fails as expected. Indeed, there is no tezzie attached to this transaction, so the value contained in **`AMOUNT`** is not greater than the one in the storage.  \n",
    "Because this environment is detached from the blockchain, you have to specify yourself the value you want to give to `amount` and use a non-Michelson instruction that works only in the context of these notebooks: **`PATCH`**. Here is how it works:"
   ]
  },
  {
   "cell_type": "code",
   "execution_count": 2,
   "metadata": {},
   "outputs": [
    {
     "name": "stdout",
     "output_type": "stream",
     "text": [
      "storage mutez;\n",
      "parameter unit;\n",
      "code { PATCH AMOUNT 200 ; CDR ; AMOUNT ; { { COMPARE ; GT } ; IF { AMOUNT ; NIL operation ; PAIR } { { UNIT ; FAILWITH } } } };\n",
      "RUN: use %default; drop all; push (Unit, 100);\n",
      "PATCH: set AMOUNT=200;\n",
      "CDR: pop (Unit, 100); push 100;\n",
      "AMOUNT: push 200;\n",
      "COMPARE: pop 200, 100; push 1;\n",
      "GT: pop 1; push True;\n",
      "IF: pop True;\n",
      "AMOUNT: push 200;\n",
      "NIL: push [];\n",
      "PAIR: pop [], 200; push ([], 200);"
     ]
    },
    {
     "data": {
      "text/html": [
       "<table>\n",
       "<thead>\n",
       "<tr><th>value                                   </th><th>type                                      </th></tr>\n",
       "</thead>\n",
       "<tbody>\n",
       "<tr><td><pre style=&quot;text-align: left;&quot;>200</pre></td><td><pre style=&quot;text-align: left;&quot;>mutez</pre></td></tr>\n",
       "</tbody>\n",
       "</table>"
      ],
      "text/plain": [
       "  value  type\n",
       "-------  ------\n",
       "    200  mutez"
      ]
     },
     "execution_count": 2,
     "metadata": {},
     "output_type": "execute_result"
    }
   ],
   "source": [
    "storage mutez ;\n",
    "parameter unit ;\n",
    "code {\n",
    "    PATCH AMOUNT 200 ;\n",
    "    CDR ;\n",
    "    AMOUNT ;\n",
    "    IFCMPGT\n",
    "        { AMOUNT ; NIL operation ; PAIR }\n",
    "        { FAIL }\n",
    "} ;\n",
    "\n",
    "RUN %default Unit 100 ;"
   ]
  },
  {
   "cell_type": "markdown",
   "metadata": {},
   "source": [
    "You can see that the newly returned storage is `mutez 200` as expected, because `200` is greater than `100`.  \n",
    "\n",
    "Other scenario: you create a smart contract and you want to prevent people from sending any tezzie. To do so, you must check if the amount is equal to `0` before proceeding and if it is not the case, the contract fails:"
   ]
  },
  {
   "cell_type": "code",
   "execution_count": 7,
   "metadata": {},
   "outputs": [
    {
     "name": "stdout",
     "output_type": "stream",
     "text": [
      "storage string;\n",
      "parameter unit;\n",
      "code { PATCH AMOUNT ; DROP ; AMOUNT ; PUSH mutez 0 ; { { COMPARE ; NEQ } ; IF { { UNIT ; FAILWITH } } { PUSH string \"No amount!\" ; NIL operation ; PAIR } } };\n",
      "RUN: use %default; drop all; push (Unit, '');\n",
      "PATCH: unset AMOUNT;\n",
      "DROP: pop (Unit, '');\n",
      "AMOUNT: push 0;\n",
      "PUSH: push 0;\n",
      "COMPARE: pop 0, 0; push 0;\n",
      "NEQ: pop 0; push False;\n",
      "IF: pop False;\n",
      "PUSH: push No amount!;\n",
      "NIL: push [];\n",
      "PAIR: pop [], No amount!; push ([], 'No amount!');"
     ]
    },
    {
     "data": {
      "text/html": [
       "<table>\n",
       "<thead>\n",
       "<tr><th>value                                            </th><th>type                                       </th></tr>\n",
       "</thead>\n",
       "<tbody>\n",
       "<tr><td><pre style=&quot;text-align: left;&quot;>&quot;No amount!&quot;</pre></td><td><pre style=&quot;text-align: left;&quot;>string</pre></td></tr>\n",
       "</tbody>\n",
       "</table>"
      ],
      "text/plain": [
       "value         type\n",
       "------------  ------\n",
       "\"No amount!\"  string"
      ]
     },
     "execution_count": 7,
     "metadata": {},
     "output_type": "execute_result"
    }
   ],
   "source": [
    "storage string ;\n",
    "parameter unit ;\n",
    "code {\n",
    "    PATCH AMOUNT ;\n",
    "    DROP ;\n",
    "    AMOUNT ;\n",
    "    PUSH mutez 0 ;\n",
    "    IFCMPNEQ\n",
    "        { FAIL }\n",
    "        { \n",
    "            PUSH string \"No amount!\" ;\n",
    "            NIL operation ;\n",
    "            PAIR\n",
    "        }\n",
    "} ;\n",
    "\n",
    "RUN %default Unit \"\" ;"
   ]
  },
  {
   "cell_type": "markdown",
   "metadata": {},
   "source": [
    "You can also use `PATCH AMOUNT` with no value, which will be `0` by default. We then use the **`IFCMPNEQ`** instruction to check if the value on top of the stack (the `0` we pushed just before) is not equal to the one below (the amount). Be careful to push a value of type `mutez` for the comparison.  \n",
    "If the result of the comparison is true (i.e the amount is not equal to `0`), the contract fails. Otherwise, we pushed the amount again (remember that every instruction starting with **`IF`** removes the value(s) on top of the stack) and end the execution by saving the amount in the storage.\n",
    "\n",
    "In some cases, you would like to know the current balance of the contract before running a piece of code. For example, one of your users requests to withdraw his/her share in the smart contract and you need to make sure there are enough funds before initiating the transaction. You may also want to block incoming transactions if the balance of the contract reaches a certain limit.  \n",
    "\n",
    "In these cases, you can use **`BALANCE`**. Just like **`AMOUNT`**, **`BALANCE`** is an instruction that pushes a new value on top of the stack containing the current balance of the smart contract in `mutez`.\n",
    "\n",
    "Let's write a smart contract that keeps track in the storage of the last transaction sent after making sure the current balance doesn't exceed a certain limit:"
   ]
  },
  {
   "cell_type": "code",
   "execution_count": 2,
   "metadata": {},
   "outputs": [
    {
     "name": "stdout",
     "output_type": "stream",
     "text": [
      "storage mutez;\n",
      "parameter unit;\n",
      "code { DROP ; PATCH AMOUNT 10000000 ; PATCH BALANCE 25700000 ; AMOUNT ; BALANCE ; ADD ; DUP ; PUSH mutez 100000000 ; { { COMPARE ; GT } ; IF { NIL operation ; PAIR } { PUSH string \"BalanceExceeded\" ; FAILWITH } } };\n",
      "RUN: use %default; drop all; push (Unit, 1000);\n",
      "DROP: pop (Unit, 1000);\n",
      "PATCH: set AMOUNT=10000000;\n",
      "PATCH: set BALANCE=25700000;\n",
      "AMOUNT: push 10000000;\n",
      "BALANCE: push 25700000;\n",
      "ADD: pop 25700000, 10000000; push 35700000;\n",
      "DUP: push 35700000;\n",
      "PUSH: push 100000000;\n",
      "COMPARE: pop 100000000, 35700000; push 1;\n",
      "GT: pop 1; push True;\n",
      "IF: pop True;\n",
      "NIL: push [];\n",
      "PAIR: pop [], 35700000; push ([], 35700000);"
     ]
    },
    {
     "data": {
      "text/html": [
       "<table>\n",
       "<thead>\n",
       "<tr><th>value                                        </th><th>type                                      </th></tr>\n",
       "</thead>\n",
       "<tbody>\n",
       "<tr><td><pre style=&quot;text-align: left;&quot;>35700000</pre></td><td><pre style=&quot;text-align: left;&quot;>mutez</pre></td></tr>\n",
       "</tbody>\n",
       "</table>"
      ],
      "text/plain": [
       "   value  type\n",
       "--------  ------\n",
       "35700000  mutez"
      ]
     },
     "execution_count": 2,
     "metadata": {},
     "output_type": "execute_result"
    }
   ],
   "source": [
    "storage mutez ;\n",
    "parameter unit ;\n",
    "code {\n",
    "    DROP ;\n",
    "    PATCH AMOUNT 10000000 ; ## manual setting of amount\n",
    "    PATCH BALANCE 25700000 ; ## manual setting of balance\n",
    "    AMOUNT ;\n",
    "    BALANCE ;\n",
    "    ADD ;\n",
    "    DUP ;\n",
    "    PUSH mutez 100000000 ; # 100 tez\n",
    "    IFCMPGT\n",
    "        { NIL operation ; PAIR }\n",
    "        { PUSH string \"BalanceExceeded\" ; FAILWITH }\n",
    "} ;\n",
    "\n",
    "RUN %default Unit 1000 ;"
   ]
  },
  {
   "cell_type": "markdown",
   "metadata": {},
   "source": [
    "This is a very simple smart contract that does one simple thing: it adds the incoming amount to the balance, compares the result with the limit we manually introduce (with `PUSH mutez 100000000 ;`), if the limit is greater than the addition of the amount and the balance, everything is fine, we save the amount in the storage and end the execution. However, if the limit is exceeded, we throw an error with the **`FAIL`** instruction.\n",
    "\n",
    "If you try to change the values (for example adding a `0` to the balance), you can make the contract fail to test that it works properly.\n",
    "\n",
    "We already introduced **`NOW`** in the previous chapters. The instruction pushes the current timestamp onto the stack. This is a very useful feature for time-related actions: for example, we can make a smart contract fail if a transaction comes before a certain period ended since the last transaction:"
   ]
  },
  {
   "cell_type": "code",
   "execution_count": 9,
   "metadata": {},
   "outputs": [
    {
     "name": "stdout",
     "output_type": "stream",
     "text": [
      "storage timestamp;\n",
      "parameter unit;\n",
      "code { CDR ; PUSH int 3600 ; ADD ; NOW ; { { COMPARE ; GE } ; IF { NOW ; NIL operation ; PAIR } { PUSH string \"InvalidInterval\" ; FAILWITH } } };\n",
      "RUN: use %default; drop all; push (Unit, 1592379223);\n",
      "CDR: pop (Unit, 1592379223); push 1592379223;\n",
      "PUSH: push 3600;\n",
      "ADD: pop 3600, 1592379223; push 1592382823;\n",
      "NOW: push 1592456946;\n",
      "COMPARE: pop 1592456946, 1592382823; push 1;\n",
      "GE: pop 1; push True;\n",
      "IF: pop True;\n",
      "NOW: push 1592456946;\n",
      "NIL: push [];\n",
      "PAIR: pop [], 1592456946; push ([], 1592456946);"
     ]
    },
    {
     "data": {
      "text/html": [
       "<table>\n",
       "<thead>\n",
       "<tr><th>value                                          </th><th>type                                          </th></tr>\n",
       "</thead>\n",
       "<tbody>\n",
       "<tr><td><pre style=&quot;text-align: left;&quot;>1592456946</pre></td><td><pre style=&quot;text-align: left;&quot;>timestamp</pre></td></tr>\n",
       "</tbody>\n",
       "</table>"
      ],
      "text/plain": [
       "     value  type\n",
       "----------  ---------\n",
       "1592456946  timestamp"
      ]
     },
     "execution_count": 9,
     "metadata": {},
     "output_type": "execute_result"
    }
   ],
   "source": [
    "storage timestamp ;\n",
    "parameter unit ;\n",
    "code {\n",
    "    CDR ;\n",
    "    PUSH int 3600 ; ## 60 sec * 60 min = 1 hour interval\n",
    "    ADD ;\n",
    "    PATCH NOW 1592381823 ;\n",
    "    NOW ;\n",
    "    IFCMPGE\n",
    "        { NOW ; NIL operation ; PAIR }\n",
    "        { PUSH string \"InvalidInterval\" ; FAILWITH }\n",
    "} ;\n",
    "\n",
    "RUN %default Unit 1592379223 ;"
   ]
  },
  {
   "cell_type": "markdown",
   "metadata": {},
   "source": [
    "As you can see, the contract stores the timestamp of the last successful execution. When a transaction comes, it adds 3,600 seconds to that timestamp and compares it to the current timestamp. If one hour has passed, the new timestamp is saved into the storage. Otherwise, an error is raised and the contract fails.  \n",
    "\n",
    "In the contract, we use `PATCH NOW 1592381823` in order to force a certain value for our **`NOW`** instruction and see the contract fail. If you comment out this line (just add `##` at the very beginning of the line) and run the contract again, you can see that it passes now, because there is more than one hour between `NOW` and the timestamp in the storage. The value returned by **`NOW`** is then saved into the storage.\n",
    "\n",
    "## Address, contract and token transfer\n",
    "\n",
    "One of the many features of smart contracts is their ability to transfer money. You can send tezzies to a smart contract, you can send them from the smart contract to an address and you can even exchange tezzies between smart contracts! You can let anyone transfer money in and out but you can also enforce certain rules that dictate who can make transfers and how these transfers can happen. After reading this section, you will know everything you need to manage tezzies in your smart contracts!\n",
    "\n",
    "Let's start from the beginning, with the `address` type. `address` is a type in Michelson reserved for addresses. It can be used both for implicit account (starting with *tz1*, *tz2* or *tz3*) and smart contract (starting with *KT1*) addresses. You can type an address as a string when you want, for example, to add it onto the stack:"
   ]
  },
  {
   "cell_type": "code",
   "execution_count": 10,
   "metadata": {},
   "outputs": [
    {
     "name": "stdout",
     "output_type": "stream",
     "text": [
      "storage address;\n",
      "parameter unit;\n",
      "code { DROP ; PUSH address \"tz1VSUr8wwNhLAzempoch5d6hLRiTh8Cjcjb\" ; NIL operation ; PAIR };\n",
      "RUN: use %default; drop all; push (Unit, '');\n",
      "DROP: pop (Unit, '');\n",
      "PUSH: push tz1VSUr8wwNhLAzempoch5d6hLRiTh8Cjcjb;\n",
      "NIL: push [];\n",
      "PAIR: pop [], tz1VSUr8wwNhLAzempoch5d6hLRiTh8Cjcjb; push ([], 'tz1VSUr8wwNhLAzempoch5d6hLRiTh8Cjcjb');"
     ]
    },
    {
     "data": {
      "text/html": [
       "<table>\n",
       "<thead>\n",
       "<tr><th>value                                                                      </th><th>type                                        </th></tr>\n",
       "</thead>\n",
       "<tbody>\n",
       "<tr><td><pre style=&quot;text-align: left;&quot;>&quot;tz1VSUr8wwNhLAzempoch5d6hLRiTh8Cjcjb&quot;</pre></td><td><pre style=&quot;text-align: left;&quot;>address</pre></td></tr>\n",
       "</tbody>\n",
       "</table>"
      ],
      "text/plain": [
       "value                                   type\n",
       "--------------------------------------  -------\n",
       "\"tz1VSUr8wwNhLAzempoch5d6hLRiTh8Cjcjb\"  address"
      ]
     },
     "execution_count": 10,
     "metadata": {},
     "output_type": "execute_result"
    }
   ],
   "source": [
    "storage address ;\n",
    "parameter unit ;\n",
    "code {\n",
    "    DROP ;\n",
    "    PUSH address \"tz1VSUr8wwNhLAzempoch5d6hLRiTh8Cjcjb\" ;\n",
    "    NIL operation ;\n",
    "    PAIR\n",
    "} ;\n",
    "\n",
    "RUN %default Unit \"\" ;"
   ]
  },
  {
   "cell_type": "markdown",
   "metadata": {},
   "source": [
    "Be aware that the `address` type does not ensure that the address is a valid address, only that the string follows the address format.\n",
    "\n",
    "If you want to ensure that the address is valid, you can use the `contract (param)` type. This type guarantees that the address is a valid, existing account with a parameter of type `param`. In case of an implicit account, `param` is equal to `unit`. As it is impossible to \"push\" a value of type `contract` onto the stack, you have to start with a value of type `address` and cast it to a value of type `contract`. Let's see an example before detailing what happens:"
   ]
  },
  {
   "cell_type": "code",
   "execution_count": 18,
   "metadata": {},
   "outputs": [
    {
     "name": "stdout",
     "output_type": "stream",
     "text": [
      "storage (contract unit);\n",
      "parameter unit;\n",
      "code { DROP ; PUSH address \"tz1VSUr8wwNhLAzempoch5d6hLRiTh8Cjcjb\" ; CONTRACT unit ; IF_NONE { { UNIT ; FAILWITH } } { NIL operation ; PAIR } };\n",
      "RUN: use %default; drop all; push (Unit, '');\n",
      "DROP: pop (Unit, '');\n",
      "PUSH: push tz1VSUr8wwNhLAzempoch5d6hLRiTh8Cjcjb;\n",
      "CONTRACT: pop tz1VSUr8wwNhLAzempoch5d6hLRiTh8Cjcjb; skip check; push ('tz1VSUr8wwNhLAzempoch5d6hLRiTh8Cjcjb%default',);\n",
      "IF_NONE: pop ('tz1VSUr8wwNhLAzempoch5d6hLRiTh8Cjcjb%default',); push tz1VSUr8wwNhLAzempoch5d6hLRiTh8Cjcjb%default;\n",
      "NIL: push [];\n",
      "PAIR: pop [], tz1VSUr8wwNhLAzempoch5d6hLRiTh8Cjcjb%default; push ([], 'tz1VSUr8wwNhLAzempoch5d6hLRiTh8Cjcjb%default');"
     ]
    },
    {
     "data": {
      "text/html": [
       "<table>\n",
       "<thead>\n",
       "<tr><th>value                                                                              </th><th>type                                              </th></tr>\n",
       "</thead>\n",
       "<tbody>\n",
       "<tr><td><pre style=&quot;text-align: left;&quot;>&quot;tz1VSUr8wwNhLAzempoch5d6hLRiTh8Cjcjb%default&quot;</pre></td><td><pre style=&quot;text-align: left;&quot;>contract unit</pre></td></tr>\n",
       "</tbody>\n",
       "</table>"
      ],
      "text/plain": [
       "value                                           type\n",
       "----------------------------------------------  -------------\n",
       "\"tz1VSUr8wwNhLAzempoch5d6hLRiTh8Cjcjb%default\"  contract unit"
      ]
     },
     "execution_count": 18,
     "metadata": {},
     "output_type": "execute_result"
    }
   ],
   "source": [
    "storage (contract unit) ;\n",
    "parameter unit ;\n",
    "code {\n",
    "    DROP ;\n",
    "    PUSH address \"tz1VSUr8wwNhLAzempoch5d6hLRiTh8Cjcjb\" ;\n",
    "    CONTRACT unit ;\n",
    "    IF_NONE\n",
    "        { FAIL }\n",
    "        { NIL operation ; PAIR }\n",
    "} ;\n",
    "\n",
    "RUN %default Unit \"\" ;"
   ]
  },
  {
   "cell_type": "markdown",
   "metadata": {},
   "source": [
    "In this example, we convert a value of type `address` to a value of type `contract` and save the result in the storage. Several steps are necessary to achieve it:\n",
    "1. We remove the first element of the stack with **`DROP`**.\n",
    "2. We add the address on top of the stack with **`PUSH`**.\n",
    "3. We use a special instruction called **`CONTRACT`** to cast the address to a contract value. Note that we provide a parameter of type `unit` indicating that the resulting value will be an implicit account.\n",
    "4. Two things may happen at this point: if the address is invalid or doesn't exist, **`CONTRACT`** returns the value `None` of type option. We can use it to make the contract fail. If the address is valid and exists, **`CONTRACT`** returns the value `(Some (contract param))` of type option that we unwrap in the second branch of the conditional structure to get the value of type `(contract unit)`. This value is then saved in the storage.\n",
    "\n",
    "In a real-life scenario, you wouldn't probably go through all these steps just to save the result in the storage. This operation can be particularly useful when you want to send tokens from a contract. Michelson provides an instruction that allows you to withdraw tezzies from the contract balance and send them to an implicit account or another contract: **`TRANSFER_TOKENS`**. The use of this instruction is not difficult by itself but you have to make sure to get its necessary parameters in the right order in the stack before calling it. Let's see an example first to observe what **`TRANSFER_TOKENS`** does:"
   ]
  },
  {
   "cell_type": "code",
   "execution_count": 29,
   "metadata": {},
   "outputs": [
    {
     "name": "stdout",
     "output_type": "stream",
     "text": [
      "storage unit;\n",
      "parameter unit;\n",
      "BEGIN: use %default; drop all; push (Unit, Unit);\n",
      "PATCH: set BALANCE=10000000;\n",
      "DROP: pop (Unit, Unit);"
     ]
    }
   ],
   "source": [
    "storage unit ;\n",
    "parameter unit ;\n",
    "BEGIN Unit Unit ;\n",
    "PATCH BALANCE 10000000 ;\n",
    "DROP ;"
   ]
  },
  {
   "cell_type": "markdown",
   "metadata": {},
   "source": [
    "This initializes the storage and the parameter before dropping the first element of the stack. We also add 10 tez to the balance so we have something to send to the receiver's address."
   ]
  },
  {
   "cell_type": "code",
   "execution_count": 30,
   "metadata": {},
   "outputs": [
    {
     "name": "stdout",
     "output_type": "stream",
     "text": [
      "PUSH: push tz1VSUr8wwNhLAzempoch5d6hLRiTh8Cjcjb;\n",
      "CONTRACT: pop tz1VSUr8wwNhLAzempoch5d6hLRiTh8Cjcjb; skip check; push ('tz1VSUr8wwNhLAzempoch5d6hLRiTh8Cjcjb%default',);"
     ]
    },
    {
     "data": {
      "text/html": [
       "<table>\n",
       "<thead>\n",
       "<tr><th>value                                                                                   </th><th>type                                                       </th></tr>\n",
       "</thead>\n",
       "<tbody>\n",
       "<tr><td><pre style=&quot;text-align: left;&quot;>Some &quot;tz1VSUr8wwNhLAzempoch5d6hLRiTh8Cjcjb%default&quot;</pre></td><td><pre style=&quot;text-align: left;&quot;>option (contract unit)</pre></td></tr>\n",
       "</tbody>\n",
       "</table>"
      ],
      "text/plain": [
       "value                                                type\n",
       "---------------------------------------------------  ----------------------\n",
       "Some \"tz1VSUr8wwNhLAzempoch5d6hLRiTh8Cjcjb%default\"  option (contract unit)"
      ]
     },
     "execution_count": 30,
     "metadata": {},
     "output_type": "execute_result"
    }
   ],
   "source": [
    "PUSH address \"tz1VSUr8wwNhLAzempoch5d6hLRiTh8Cjcjb\" ;\n",
    "CONTRACT unit ;\n",
    "DUMP ;"
   ]
  },
  {
   "cell_type": "markdown",
   "metadata": {},
   "source": [
    "Like in the previous contract, we push the receiver's address to the stack and convert it to a `(contract unit)` type."
   ]
  },
  {
   "cell_type": "code",
   "execution_count": 31,
   "metadata": {},
   "outputs": [
    {
     "data": {
      "text/html": [
       "<table>\n",
       "<thead>\n",
       "<tr><th>value                                                                              </th><th>type                                              </th></tr>\n",
       "</thead>\n",
       "<tbody>\n",
       "<tr><td><pre style=&quot;text-align: left;&quot;>&quot;tz1VSUr8wwNhLAzempoch5d6hLRiTh8Cjcjb%default&quot;</pre></td><td><pre style=&quot;text-align: left;&quot;>contract unit</pre></td></tr>\n",
       "</tbody>\n",
       "</table>"
      ],
      "text/plain": [
       "value                                           type\n",
       "----------------------------------------------  -------------\n",
       "\"tz1VSUr8wwNhLAzempoch5d6hLRiTh8Cjcjb%default\"  contract unit"
      ]
     },
     "execution_count": 31,
     "metadata": {},
     "output_type": "execute_result"
    }
   ],
   "source": [
    "IF_NONE\n",
    "    { PUSH string \"InvalidAddress\" ; FAILWITH }\n",
    "    { } ;\n",
    "DUMP ;"
   ]
  },
  {
   "cell_type": "markdown",
   "metadata": {},
   "source": [
    "**`IF_NONE`** verifies that the **`CONTRACT`** instruction succeeded and that a value has been returned. In this case, the value is the address where we will send the tezzies, of type `(contract unit)`."
   ]
  },
  {
   "cell_type": "code",
   "execution_count": 32,
   "metadata": {},
   "outputs": [
    {
     "data": {
      "text/html": [
       "<table>\n",
       "<thead>\n",
       "<tr><th>value                                                                              </th><th>type                                              </th></tr>\n",
       "</thead>\n",
       "<tbody>\n",
       "<tr><td><pre style=&quot;text-align: left;&quot;>5000000</pre>                                       </td><td><pre style=&quot;text-align: left;&quot;>mutez</pre>        </td></tr>\n",
       "<tr><td><pre style=&quot;text-align: left;&quot;>&quot;tz1VSUr8wwNhLAzempoch5d6hLRiTh8Cjcjb%default&quot;</pre></td><td><pre style=&quot;text-align: left;&quot;>contract unit</pre></td></tr>\n",
       "</tbody>\n",
       "</table>"
      ],
      "text/plain": [
       "value                                           type\n",
       "----------------------------------------------  -------------\n",
       "5000000                                         mutez\n",
       "\"tz1VSUr8wwNhLAzempoch5d6hLRiTh8Cjcjb%default\"  contract unit"
      ]
     },
     "execution_count": 32,
     "metadata": {},
     "output_type": "execute_result"
    }
   ],
   "source": [
    "PUSH mutez 5000000 ;\n",
    "DUMP ;"
   ]
  },
  {
   "cell_type": "markdown",
   "metadata": {},
   "source": [
    "We then push the amount we want to send to the receiver's address."
   ]
  },
  {
   "cell_type": "code",
   "execution_count": 33,
   "metadata": {},
   "outputs": [
    {
     "data": {
      "text/html": [
       "<table>\n",
       "<thead>\n",
       "<tr><th>value                                                                              </th><th>type                                              </th></tr>\n",
       "</thead>\n",
       "<tbody>\n",
       "<tr><td><pre style=&quot;text-align: left;&quot;>Unit</pre>                                          </td><td><pre style=&quot;text-align: left;&quot;>unit</pre>         </td></tr>\n",
       "<tr><td><pre style=&quot;text-align: left;&quot;>5000000</pre>                                       </td><td><pre style=&quot;text-align: left;&quot;>mutez</pre>        </td></tr>\n",
       "<tr><td><pre style=&quot;text-align: left;&quot;>&quot;tz1VSUr8wwNhLAzempoch5d6hLRiTh8Cjcjb%default&quot;</pre></td><td><pre style=&quot;text-align: left;&quot;>contract unit</pre></td></tr>\n",
       "</tbody>\n",
       "</table>"
      ],
      "text/plain": [
       "value                                           type\n",
       "----------------------------------------------  -------------\n",
       "Unit                                            unit\n",
       "5000000                                         mutez\n",
       "\"tz1VSUr8wwNhLAzempoch5d6hLRiTh8Cjcjb%default\"  contract unit"
      ]
     },
     "execution_count": 33,
     "metadata": {},
     "output_type": "execute_result"
    }
   ],
   "source": [
    "PUSH unit Unit ;\n",
    "DUMP ;"
   ]
  },
  {
   "cell_type": "markdown",
   "metadata": {},
   "source": [
    "Because we are sending an amount to an implicit account, the expected parameter of the value of type `(contract unit)` is `unit`, so we just need to provide an element of type `unit` to the **`TRANFER_TOKENS`** instruction.  \n",
    "Note that the three parameters necessary to transfer tokens are now on top of the stack and in the right order:\n",
    "1. The parameter expected for the address (`unit` for implicit accounts)\n",
    "2. The amount to be sent in `mutez`\n",
    "3. The receiver's address converted to a value of type `(contract param)`"
   ]
  },
  {
   "cell_type": "code",
   "execution_count": 34,
   "metadata": {},
   "outputs": [
    {
     "data": {
      "text/html": [
       "<table>\n",
       "<thead>\n",
       "<tr><th>value  </th><th>type                                          </th></tr>\n",
       "</thead>\n",
       "<tbody>\n",
       "<tr><td><pre style=&quot;text-align: left;&quot;>amount: &#x27;5000000&#x27;\n",
       "entrypoint: default\n",
       "kind: transaction\n",
       "parameters: Unit\n",
       "target: tz1VSUr8wwNhLAzempoch5d6hLRiTh8Cjcjb</pre>        </td><td><pre style=&quot;text-align: left;&quot;>operation</pre></td></tr>\n",
       "</tbody>\n",
       "</table>"
      ],
      "text/plain": [
       "value                                         type\n",
       "--------------------------------------------  ---------\n",
       "amount: '5000000'                             operation\n",
       "entrypoint: default\n",
       "kind: transaction\n",
       "parameters: Unit\n",
       "target: tz1VSUr8wwNhLAzempoch5d6hLRiTh8Cjcjb"
      ]
     },
     "execution_count": 34,
     "metadata": {},
     "output_type": "execute_result"
    }
   ],
   "source": [
    "TRANSFER_TOKENS ;\n",
    "DUMP ;"
   ]
  },
  {
   "cell_type": "markdown",
   "metadata": {},
   "source": [
    "Calling the **`TRANSFER_TOKENS`** instruction forges a new operation. Remember that contract executions in Michelson are self-contained: they do not communicate with the outside. The execution goes from its beginning to its end and only then it is possible to send new transactions.  \n",
    "You can see that the value we now have on top of the stack is of type `operation` and contains all the information we previously added to the stack: the amount to be sent, the entrypoint to call (`default` by default or in case of a transaction to an implicit account), the operation kind, the parameters (`unit` for transactions to implicit accounts) and the target address. The only thing left now is to add this operation to the list of operations returned at the end of the contract."
   ]
  },
  {
   "cell_type": "code",
   "execution_count": 35,
   "metadata": {},
   "outputs": [
    {
     "name": "stdout",
     "output_type": "stream",
     "text": [
      "NIL: push [];\n",
      "SWAP: pop [], <send 5000000 to tz1VSUr8wwNhLAzempoch5d6hLRiTh8Cjcjb>; push []; push <send 5000000 to tz1VSUr8wwNhLAzempoch5d6hLRiTh8Cjcjb>;\n",
      "CONS: pop <send 5000000 to tz1VSUr8wwNhLAzempoch5d6hLRiTh8Cjcjb>, []; push ['<send 5000000 to tz1VSUr8wwNhLAzempoch5d6hLRiTh8Cjcjb>'];"
     ]
    },
    {
     "data": {
      "text/html": [
       "<table>\n",
       "<thead>\n",
       "<tr><th>value  </th><th>type                                               </th></tr>\n",
       "</thead>\n",
       "<tbody>\n",
       "<tr><td><pre style=&quot;text-align: left;&quot;>- amount: &#x27;5000000&#x27;\n",
       "  entrypoint: default\n",
       "  kind: transaction\n",
       "  parameters: Unit\n",
       "  target: tz1VSUr8wwNhLAzempoch5d6hLRiTh8Cjcjb</pre>        </td><td><pre style=&quot;text-align: left;&quot;>list operation</pre></td></tr>\n",
       "</tbody>\n",
       "</table>"
      ],
      "text/plain": [
       "value                                           type\n",
       "----------------------------------------------  --------------\n",
       "- amount: '5000000'                             list operation\n",
       "  entrypoint: default\n",
       "  kind: transaction\n",
       "  parameters: Unit\n",
       "  target: tz1VSUr8wwNhLAzempoch5d6hLRiTh8Cjcjb"
      ]
     },
     "execution_count": 35,
     "metadata": {},
     "output_type": "execute_result"
    }
   ],
   "source": [
    "NIL operation ;\n",
    "SWAP ;\n",
    "CONS ;\n",
    "DUMP ;"
   ]
  },
  {
   "cell_type": "markdown",
   "metadata": {},
   "source": [
    "Are you excited about finally using that list of operations we have been returning empty so far? 😅  \n",
    "\n",
    "In order to include the operation into the list of operations, you add an empty list as usual with `NIL operation`, you use **`SWAP`** because the element to add to the list must be just above in the stack and you call the **`CONS`** instruction which prepends the value to the list. Now you can return the pair with the list of operations and the storage:"
   ]
  },
  {
   "cell_type": "code",
   "execution_count": 36,
   "metadata": {},
   "outputs": [
    {
     "name": "stdout",
     "output_type": "stream",
     "text": [
      "UNIT: push Unit;\n",
      "SWAP: pop Unit, ['<send 5000000 to tz1VSUr8wwNhLAzempoch5d6hLRiTh8Cjcjb>']; push Unit; push ['<send 5000000 to tz1VSUr8wwNhLAzempoch5d6hLRiTh8Cjcjb>'];\n",
      "PAIR: pop ['<send 5000000 to tz1VSUr8wwNhLAzempoch5d6hLRiTh8Cjcjb>'], Unit; push (['<send 5000000 to tz1VSUr8wwNhLAzempoch5d6hLRiTh8Cjcjb>'], Unit);\n",
      "COMMIT:"
     ]
    },
    {
     "data": {
      "text/html": [
       "<table>\n",
       "<thead>\n",
       "<tr><th>value                                    </th><th>type                                     </th></tr>\n",
       "</thead>\n",
       "<tbody>\n",
       "<tr><td><pre style=&quot;text-align: left;&quot;>Unit</pre></td><td><pre style=&quot;text-align: left;&quot;>unit</pre></td></tr>\n",
       "</tbody>\n",
       "</table><br><table>\n",
       "<thead>\n",
       "<tr><th>kind                                            </th><th>target                                                                   </th><th>amount                                      </th><th>entrypoint                                  </th><th>parameters                               </th></tr>\n",
       "</thead>\n",
       "<tbody>\n",
       "<tr><td><pre style=&quot;text-align: left;&quot;>transaction</pre></td><td><pre style=&quot;text-align: left;&quot;>tz1VSUr8wwNhLAzempoch5d6hLRiTh8Cjcjb</pre></td><td><pre style=&quot;text-align: left;&quot;>5000000</pre></td><td><pre style=&quot;text-align: left;&quot;>default</pre></td><td><pre style=&quot;text-align: left;&quot;>Unit</pre></td></tr>\n",
       "</tbody>\n",
       "</table>"
      ],
      "text/plain": [
       "value    type\n",
       "-------  ------\n",
       "Unit     unit\n",
       "kind         target                                  amount  entrypoint    parameters\n",
       "-----------  ------------------------------------  --------  ------------  ------------\n",
       "transaction  tz1VSUr8wwNhLAzempoch5d6hLRiTh8Cjcjb   5000000  default       Unit"
      ]
     },
     "execution_count": 36,
     "metadata": {},
     "output_type": "execute_result"
    }
   ],
   "source": [
    "UNIT ;\n",
    "SWAP ;\n",
    "PAIR ;\n",
    "COMMIT ;"
   ]
  },
  {
   "cell_type": "markdown",
   "metadata": {},
   "source": [
    "Nothing groundbreaking here, we push a new `unit` on top of the stack, we use **`SWAP`** because the list of operations must be on the left of the pair and then **`PAIR`**."
   ]
  },
  {
   "cell_type": "markdown",
   "metadata": {},
   "source": [
    "## Recap\n",
    "\n",
    "This tutorial has been full of a lot of new information! You learned how to use smart contracts for financial purposes by manipulating values of type `mutez`, accessing different financial values like the amount sent with a transaction or the balance of the contract, protecting the contract funds with more access control features and transferring funds held in the smart contract to an external address. These operations are crucial in the Tezos ecosystem and they must be clearly understood in order to ensure the safety of your smart contracts.\n",
    "\n",
    "## Exercices\n",
    "\n",
    "1. Write a smart contract that transfers the amount sent with a transaction to an address of your choice. Make sure the amount is not equal to zero before creating the transaction."
   ]
  },
  {
   "cell_type": "code",
   "execution_count": null,
   "metadata": {},
   "outputs": [],
   "source": [
    "## Write and run your code here"
   ]
  },
  {
   "cell_type": "markdown",
   "metadata": {},
   "source": [
    "<details>\n",
    "    <summary>Solution (one of the many possible)</summary>\n",
    "    <p>Copy-paste the solution in the cell above to compile it!</p>\n",
    "    <br />\n",
    "    <pre>\n",
    "        storage unit ;\n",
    "        parameter unit ;\n",
    "        code {\n",
    "            DROP ;\n",
    "            PATCH AMOUNT 5670000 ;\n",
    "            AMOUNT ;\n",
    "            PUSH mutez 0 ;\n",
    "            IFCMPEQ\n",
    "                { FAIL }\n",
    "                {\n",
    "                    PUSH address \"tz1VSUr8wwNhLAzempoch5d6hLRiTh8Cjcjb\" ;\n",
    "                    CONTRACT unit ;\n",
    "                    IF_NONE\n",
    "                        { FAIL }\n",
    "                        {\n",
    "                            AMOUNT ;\n",
    "                            UNIT ;\n",
    "                            TRANSFER_TOKENS ;\n",
    "                            NIL operation ;\n",
    "                            SWAP ;\n",
    "                            CONS ;\n",
    "                            UNIT ;\n",
    "                            SWAP ;\n",
    "                            PAIR\n",
    "                        }\n",
    "                }\n",
    "        } ;\n",
    "        RUN %default Unit Unit ;\n",
    "    </pre>\n",
    "</details>"
   ]
  },
  {
   "cell_type": "markdown",
   "metadata": {},
   "source": [
    "2. Write a smart contract that divides the amount received in half, checks if the contract balance is over 100 tez and send half of the amount to the address saved in the storage (expert level 🤓). As usual, check if the amount is greater than zero before proceeding."
   ]
  },
  {
   "cell_type": "code",
   "execution_count": null,
   "metadata": {},
   "outputs": [],
   "source": [
    "## Write and run your code here"
   ]
  },
  {
   "cell_type": "markdown",
   "metadata": {},
   "source": [
    "<details>\n",
    "    <summary>Solution (one of the many possible)</summary>\n",
    "    <p>Copy-paste the solution in the cell above to compile it!</p>\n",
    "    <p>You can change the value in `PATCH AMOUNT` and `PATCH BALANCE` to see if the contract fails when it is supposed to!</p>\n",
    "    <br />\n",
    "    <pre>\n",
    "        storage address ;\n",
    "        parameter unit ;\n",
    "        code {\n",
    "            PATCH BALANCE 101000000 ;\n",
    "            PATCH AMOUNT 9000000 ;\n",
    "            CDR ;\n",
    "            PUSH mutez 100000000 ;\n",
    "            BALANCE ;\n",
    "            IFCMPLT\n",
    "                { PUSH string \"INSUFFICIENT_BALANCE\" ; FAILWITH }\n",
    "                {\n",
    "                    PUSH mutez 0 ;\n",
    "                    AMOUNT ;\n",
    "                    IFCMPEQ\n",
    "                        { PUSH string \"INSUFFICIENT_AMOUNT\" ; FAILWITH }\n",
    "                        {\n",
    "                            PUSH nat 2 ;\n",
    "                            AMOUNT ;\n",
    "                            EDIV ;\n",
    "                            IF_NONE\n",
    "                                { FAIL }\n",
    "                                {\n",
    "                                    CAR ;\n",
    "                                    DIP { DUP } ;\n",
    "                                    SWAP ;\n",
    "                                    CONTRACT unit ;\n",
    "                                    IF_NONE\n",
    "                                        { FAIL }\n",
    "                                        {\n",
    "                                            SWAP ;\n",
    "                                            UNIT ;\n",
    "                                            TRANSFER_TOKENS ;\n",
    "                                            NIL operation ;\n",
    "                                            SWAP ;\n",
    "                                            CONS ;\n",
    "                                            PAIR\n",
    "                                        }\n",
    "                                }\n",
    "                        }\n",
    "                }\n",
    "        } ;\n",
    "        RUN %default Unit \"tz1VSUr8wwNhLAzempoch5d6hLRiTh8Cjcjb\" ;\n",
    "    </pre>\n",
    "</details>"
   ]
  }
 ],
 "metadata": {
  "kernelspec": {
   "display_name": "Michelson",
   "language": "michelson",
   "name": "michelson"
  },
  "language_info": {
   "codemirror_mode": "michelson",
   "file_extension": ".tz",
   "mimetype": "text/x-michelson",
   "name": "Michelson"
  }
 },
 "nbformat": 4,
 "nbformat_minor": 4
}

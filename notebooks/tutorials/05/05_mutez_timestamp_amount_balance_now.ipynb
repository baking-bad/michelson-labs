{
 "cells": [
  {
   "cell_type": "markdown",
   "metadata": {},
   "source": [
    "# Chapter 5  \n",
    "\n",
    "In this new installment of our tutorials, we are going to talk about money!  \n",
    "One of the main advantages of smart contracts is that they are \"programmable money\": they let you store, manipulate and send tez in a predictable way. Smart contracts can work as middle men and verify that a set of conditions is met before initiating a transaction, sending a certain amount of tez or doing any other modification.  \n",
    "\n",
    "In the previous tutorials, we encountered a couple of instructions that push useful information about the smart contract and its context onto the stack: you may remember **`NOW`** that adds the current timestamp on top of the stack. This is not the only one. Michelson provides a few instructions that give you access to a lot of information. In this chapter, we are going to focus on instructions that are related to the financial aspect of smart contracts: **`BALANCE`**, **`AMOUNT`**, **`TRANFER_TOKENS`**. You will also get a refresher about `mutez` operations. At the end of the chapter, you will have everything you need to know in order to handle financial operations in your smart contracts 🤑\n",
    "\n",
    "## `mutez` and `mutez` operations\n",
    "\n",
    "The `mutez` (or *micro-tez*) type is a special type that allows you to manipulate financial values in your smart contracts. `mutez` are indivisible and always non-negative (as exposed below, a few restrictions are set to avoid negative values of `mutez`). It may seem a little strange at the beginning, but `mutez` values are NOT tez, they only represent a financial value. If you write `PUSH mutez 1000`, this doesn't mean you added 1,000 microtez out of thin air in your smart contract. You merely create a value of a certain type to easily manipulate other values.  \n",
    "\n",
    "You can use different arithmetic operations for values of type `mutez`: **`ADD`**, **`SUB`**, **`MUL`**, **`EDIV`** with a few restrictions:\n",
    "\n",
    "- **`ADD`** only works with two values of type `mutez`\n",
    "- **`SUB`** only works with two values of type `mutez` AND fails if the result of the subtraction is negative\n",
    "- **`MUL`** only works with one value of type `mutez` and one value of type `nat`, the result is of type `mutez`\n",
    "- **`EDIV`** only works with one value of type `mutez` and one value of type `nat`, the result is of type `option`, `None` in case of a division by zero, `(Some (pair quotient remainder))` including a pair containing the quotient on the left and the remainder on the right  \n",
    "\n",
    "In addition to these operations, it is also possible to compare two values of type `mutez`. Like any other value, this comparison yields an `int` between `-1` and `1`.  \n",
    "\n",
    "Now let's see some examples:\n",
    "\n",
    "We initialize a simple contract to test these operations:"
   ]
  },
  {
   "cell_type": "code",
   "execution_count": 1,
   "metadata": {},
   "outputs": [
    {
     "name": "stdout",
     "output_type": "stream",
     "text": [
      "storage: updated\n",
      "parameter: updated\n",
      "BEGIN %default / _ => (Unit * 0.001)"
     ]
    },
    {
     "data": {
      "text/html": [
       "<h4>Stack updates</h4><table>\n",
       "<thead>\n",
       "<tr><th>index                                 </th><th>type                                                  </th><th>value                                            </th></tr>\n",
       "</thead>\n",
       "<tbody>\n",
       "<tr><td><pre style=&quot;text-align: left;&quot;>0</pre></td><td><pre style=&quot;text-align: left;&quot;>pair (unit mutez)</pre></td><td><pre style=&quot;text-align: left;&quot;>(Unit, 1000)</pre></td></tr>\n",
       "</tbody>\n",
       "</table>"
      ],
      "text/plain": [
       "Stack updates\n",
       "  index  type               value\n",
       "-------  -----------------  ------------\n",
       "      0  pair (unit mutez)  (Unit, 1000)"
      ]
     },
     "execution_count": 1,
     "metadata": {},
     "output_type": "execute_result"
    }
   ],
   "source": [
    "storage mutez ;\n",
    "parameter unit ;\n",
    "BEGIN Unit 1000 ;"
   ]
  },
  {
   "cell_type": "markdown",
   "metadata": {},
   "source": [
    "Now let's separate the storage and push a new value of type `mutez` (nothing new here):"
   ]
  },
  {
   "cell_type": "code",
   "execution_count": 2,
   "metadata": {},
   "outputs": [
    {
     "name": "stdout",
     "output_type": "stream",
     "text": [
      "CDR / (Unit * 0.001) => 0.001\n",
      "PUSH / _ => 0.002\n",
      "DUMP => [0.002, 0.001]"
     ]
    },
    {
     "data": {
      "text/html": [
       "<h4>Stack updates</h4><table>\n",
       "<thead>\n",
       "<tr><th>index                                 </th><th>type                                      </th><th>value                                    </th></tr>\n",
       "</thead>\n",
       "<tbody>\n",
       "<tr><td><pre style=&quot;text-align: left;&quot;>0</pre></td><td><pre style=&quot;text-align: left;&quot;>mutez</pre></td><td><pre style=&quot;text-align: left;&quot;>2000</pre></td></tr>\n",
       "<tr><td><pre style=&quot;text-align: left;&quot;>1</pre></td><td><pre style=&quot;text-align: left;&quot;>mutez</pre></td><td><pre style=&quot;text-align: left;&quot;>1000</pre></td></tr>\n",
       "</tbody>\n",
       "</table>"
      ],
      "text/plain": [
       "Stack updates\n",
       "  index  type      value\n",
       "-------  ------  -------\n",
       "      0  mutez      2000\n",
       "      1  mutez      1000"
      ]
     },
     "execution_count": 2,
     "metadata": {},
     "output_type": "execute_result"
    }
   ],
   "source": [
    "CDR @storage ;\n",
    "PUSH mutez 2000 ;\n",
    "DUMP ;"
   ]
  },
  {
   "cell_type": "markdown",
   "metadata": {},
   "source": [
    "With the **`ADD`** instruction, we can remove the two values of type `mutez` from the stack, add them together and push the result back to the stack:"
   ]
  },
  {
   "cell_type": "code",
   "execution_count": 3,
   "metadata": {},
   "outputs": [
    {
     "name": "stdout",
     "output_type": "stream",
     "text": [
      "ADD / 0.002 : 0.001 => 0.003"
     ]
    },
    {
     "data": {
      "text/html": [
       "<h4>Stack updates</h4><table>\n",
       "<thead>\n",
       "<tr><th>index                                 </th><th>type                                      </th><th>value                                    </th></tr>\n",
       "</thead>\n",
       "<tbody>\n",
       "<tr><td><pre style=&quot;text-align: left;&quot;>0</pre></td><td><pre style=&quot;text-align: left;&quot;>mutez</pre></td><td><pre style=&quot;text-align: left;&quot;>3000</pre></td></tr>\n",
       "</tbody>\n",
       "</table>"
      ],
      "text/plain": [
       "Stack updates\n",
       "  index  type      value\n",
       "-------  ------  -------\n",
       "      0  mutez      3000"
      ]
     },
     "execution_count": 3,
     "metadata": {},
     "output_type": "execute_result"
    }
   ],
   "source": [
    "ADD ;"
   ]
  },
  {
   "cell_type": "markdown",
   "metadata": {},
   "source": [
    "After adding values together, let's try to subtract one from another! We push a new value of type `mutez` and use the one already present in the stack to demonstrate **`SUB`**:"
   ]
  },
  {
   "cell_type": "code",
   "execution_count": 4,
   "metadata": {},
   "outputs": [
    {
     "name": "stdout",
     "output_type": "stream",
     "text": [
      "PUSH / _ => 0.0005\n",
      "SWAP / 0.0005 : 0.003 => 0.003 : 0.0005\n",
      "SUB / 0.003 : 0.0005 => 0.0025"
     ]
    },
    {
     "data": {
      "text/html": [
       "<h4>Stack updates</h4><table>\n",
       "<thead>\n",
       "<tr><th>index                                 </th><th>type                                      </th><th>value                                    </th></tr>\n",
       "</thead>\n",
       "<tbody>\n",
       "<tr><td><pre style=&quot;text-align: left;&quot;>0</pre></td><td><pre style=&quot;text-align: left;&quot;>mutez</pre></td><td><pre style=&quot;text-align: left;&quot;>2500</pre></td></tr>\n",
       "</tbody>\n",
       "</table>"
      ],
      "text/plain": [
       "Stack updates\n",
       "  index  type      value\n",
       "-------  ------  -------\n",
       "      0  mutez      2500"
      ]
     },
     "execution_count": 4,
     "metadata": {},
     "output_type": "execute_result"
    }
   ],
   "source": [
    "PUSH mutez 500 ;\n",
    "SWAP ;\n",
    "SUB ;"
   ]
  },
  {
   "cell_type": "markdown",
   "metadata": {},
   "source": [
    "Did you notice the **`SWAP`** instruction? You must make sure that the two elements are in the right order. If you try `mutez 500 - mutez 3000`, the contract will fail because `mutez` values cannot be negative.  \n",
    "\n",
    "Next, we can multiply `mutez` values with `nat` values (to ensure positive results). In this situation, the order of the values doesn't matter, so no need to swap them:"
   ]
  },
  {
   "cell_type": "code",
   "execution_count": 5,
   "metadata": {},
   "outputs": [
    {
     "name": "stdout",
     "output_type": "stream",
     "text": [
      "PUSH / _ => 4\n",
      "MUL / 4 : 0.0025 => 0.01"
     ]
    },
    {
     "data": {
      "text/html": [
       "<h4>Stack updates</h4><table>\n",
       "<thead>\n",
       "<tr><th>index                                 </th><th>type                                      </th><th>value                                     </th></tr>\n",
       "</thead>\n",
       "<tbody>\n",
       "<tr><td><pre style=&quot;text-align: left;&quot;>0</pre></td><td><pre style=&quot;text-align: left;&quot;>mutez</pre></td><td><pre style=&quot;text-align: left;&quot;>10000</pre></td></tr>\n",
       "</tbody>\n",
       "</table>"
      ],
      "text/plain": [
       "Stack updates\n",
       "  index  type      value\n",
       "-------  ------  -------\n",
       "      0  mutez     10000"
      ]
     },
     "execution_count": 5,
     "metadata": {},
     "output_type": "execute_result"
    }
   ],
   "source": [
    "PUSH nat 4 ;\n",
    "MUL ;"
   ]
  },
  {
   "cell_type": "markdown",
   "metadata": {},
   "source": [
    "As you can see, the value returned by **`MUL`** is also of type `mutez`.  \n",
    "\n",
    "As it was the case for the other numeric values, using **`EDIV`** with `mutez` is also a bit more complex. If you remember from the previous chapter, the result of **`EDIV`** is an option. If you try a division by zero, the option will have the value `None`. Otherwise, it has a value of type `pair` that contains the quotient on the left and the remainder on the right.  \n",
    "\n",
    "We can write a small piece of code that tries to divide the value on top of the stack by the value we've just pushed. If this value is `0`, the contract fails. Otherwise, it extracts the quotient and the remainder and rearrange them in this order in the stack:"
   ]
  },
  {
   "cell_type": "code",
   "execution_count": 6,
   "metadata": {},
   "outputs": [
    {
     "name": "stdout",
     "output_type": "stream",
     "text": [
      "PUSH / _ => 10\n",
      "SWAP / 10 : 0.01 => 0.01 : 10\n",
      "EDIV / 0.01 : 10 => (0.001 * 0)?\n",
      "IF_NONE / (0.001 * 0)? => (0.001 * 0)\n",
      "DUP / (0.001 * 0) => (0.001 * 0) : (0.001 * 0)\n",
      "CAR / (0.001 * 0) => 0.001\n",
      "SWAP / 0.001 : (0.001 * 0) => (0.001 * 0) : 0.001\n",
      "CDR / (0.001 * 0) => 0\n",
      "SWAP / 0 : 0.001 => 0.001 : 0\n",
      "DUMP => [0.001, 0]"
     ]
    },
    {
     "data": {
      "text/html": [
       "<h4>Stack updates</h4><table>\n",
       "<thead>\n",
       "<tr><th>index                                 </th><th>type                                      </th><th>value                                    </th></tr>\n",
       "</thead>\n",
       "<tbody>\n",
       "<tr><td><pre style=&quot;text-align: left;&quot;>0</pre></td><td><pre style=&quot;text-align: left;&quot;>mutez</pre></td><td><pre style=&quot;text-align: left;&quot;>1000</pre></td></tr>\n",
       "<tr><td><pre style=&quot;text-align: left;&quot;>1</pre></td><td><pre style=&quot;text-align: left;&quot;>mutez</pre></td><td><pre style=&quot;text-align: left;&quot;>0</pre>   </td></tr>\n",
       "</tbody>\n",
       "</table>"
      ],
      "text/plain": [
       "Stack updates\n",
       "  index  type      value\n",
       "-------  ------  -------\n",
       "      0  mutez      1000\n",
       "      1  mutez         0"
      ]
     },
     "execution_count": 6,
     "metadata": {},
     "output_type": "execute_result"
    }
   ],
   "source": [
    "PUSH nat 10 ;\n",
    "SWAP ;\n",
    "EDIV ;\n",
    "IF_NONE\n",
    "    { PUSH string \"DivisionByZero\" ; FAILWITH }\n",
    "    {\n",
    "        DUP ;\n",
    "        CAR @quotient ;\n",
    "        SWAP ;\n",
    "        CDR @remainder ;\n",
    "        SWAP ;\n",
    "    } ;\n",
    "DUMP ;"
   ]
  },
  {
   "cell_type": "markdown",
   "metadata": {},
   "source": [
    "The two values we get on the stack are exactly the expected ones: `10000 / 10 = 1000` with a remainder of `0`.  \n",
    "\n",
    "Lastly, we can compare two values of type `mutez` and check if one is equal, greater or less than the other one. This will be particularly useful when you want to verify that users send the correct amount of tez required by your contract:"
   ]
  },
  {
   "cell_type": "code",
   "execution_count": 7,
   "metadata": {},
   "outputs": [
    {
     "name": "stdout",
     "output_type": "stream",
     "text": [
      "PUSH / _ => 0.0005\n",
      "COMPARE / 0.0005 : 0.001 => -1\n",
      "EQ / -1 => False"
     ]
    },
    {
     "data": {
      "text/html": [
       "<h4>Stack updates</h4><table>\n",
       "<thead>\n",
       "<tr><th>index                                 </th><th>type                                      </th><th>value                                 </th></tr>\n",
       "</thead>\n",
       "<tbody>\n",
       "<tr><td><pre style=&quot;text-align: left;&quot;>0</pre></td><td><pre style=&quot;text-align: left;&quot;>mutez</pre></td><td><pre style=&quot;text-align: left;&quot;>0</pre></td></tr>\n",
       "</tbody>\n",
       "</table>"
      ],
      "text/plain": [
       "Stack updates\n",
       "  index  type      value\n",
       "-------  ------  -------\n",
       "      0  mutez         0"
      ]
     },
     "execution_count": 7,
     "metadata": {},
     "output_type": "execute_result"
    }
   ],
   "source": [
    "PUSH mutez 500 ;\n",
    "COMPARE ;\n",
    "EQ ;"
   ]
  },
  {
   "cell_type": "markdown",
   "metadata": {},
   "source": [
    "We're adding here an extra step to check if the newly added value in the stack is equal to the one already present. As they are not equal, `False` is pushed onto the stack. Obviously, you can use any of the instructions we studied in Chapter three outside of **`EQ`**.\n",
    "\n",
    "## **`BALANCE`**, **`AMOUNT`** and **`NOW`**\n",
    "\n",
    "Michelson provides a few instructions that are very useful to check the context of execution.  \n",
    "\n",
    "Every time a smart contract runs, a few \"variables\" are available about data related to the current execution. For example, every transaction sent to a smart contract has an amount of tez attached to it (even if this is amount may be `0`). You may want to have access to this amount, for example, to check if the users sent enough tez for the service they requested or to update their token balance.  \n",
    "You can easily add this piece of information to the stack by using **`AMOUNT`**. The **`AMOUNT`** instruction will simply push a new element on top of the stack of type `mutez` whose value is equal to the amount sent along the transaction.\n",
    "\n",
    "Here are two examples to showcase what you can do with the **`AMOUNT`** instruction:"
   ]
  },
  {
   "cell_type": "code",
   "execution_count": null,
   "metadata": {},
   "outputs": [
    {
     "name": "stdout",
     "output_type": "stream",
     "text": [
      "storage: updated\n",
      "parameter: updated\n",
      "code: updated\n",
      "BEGIN %default / _ => (Unit * 0.0001)\n",
      "CDR / (Unit * 0.0001) => 0.0001\n",
      "AMOUNT / _ => 0\n",
      "COMPARE / 0 : 0.0001 => -1\n",
      "GT / -1 => False\n",
      "IF / False => _\n",
      "UNIT / _ => Unit\n",
      "FAILWITH: Unit"
     ]
    },
    {
     "name": "stderr",
     "output_type": "stream",
     "text": [
      "FAILWITH: Unit"
     ]
    }
   ],
   "source": [
    "storage mutez ;\n",
    "parameter unit ;\n",
    "code {\n",
    "    CDR ;\n",
    "    AMOUNT ;\n",
    "    IFCMPGT\n",
    "        { AMOUNT ; NIL operation ; PAIR }\n",
    "        { FAIL }\n",
    "} ;\n",
    "\n",
    "RUN %default Unit 100 ;"
   ]
  },
  {
   "cell_type": "markdown",
   "metadata": {},
   "source": [
    "The contract fails as expected. Indeed, there is no tez attached to this transaction, so the value contained in **`AMOUNT`** is not greater than the one in the storage.  \n",
    "Because this environment is detached from the blockchain, you have to specify yourself the value you want to give to `amount` and use a non-Michelson instruction that works only in the context of these notebooks: **`PATCH`**. Here is how it works:"
   ]
  },
  {
   "cell_type": "code",
   "execution_count": 9,
   "metadata": {},
   "outputs": [
    {
     "name": "stdout",
     "output_type": "stream",
     "text": [
      "storage: updated\n",
      "parameter: updated\n",
      "code: updated\n",
      "BEGIN %default / _ => (Unit * 0.0001)\n",
      "CDR / (Unit * 0.0001) => 0.0001\n",
      "AMOUNT / _ => 0.0002\n",
      "COMPARE / 0.0002 : 0.0001 => 1\n",
      "GT / 1 => True\n",
      "IF / True => _\n",
      "AMOUNT / _ => 0.0002\n",
      "NIL / _ => []\n",
      "PAIR / [] : 0.0002 => ([] * 0.0002)\n",
      "END %default / ([] * 0.0002) => _"
     ]
    },
    {
     "data": {
      "text/html": [
       "<h4>Operations</h4><h4>Storage</h4><table>\n",
       "<thead>\n",
       "<tr><th>type                                      </th><th>value                                   </th></tr>\n",
       "</thead>\n",
       "<tbody>\n",
       "<tr><td><pre style=&quot;text-align: left;&quot;>mutez</pre></td><td><pre style=&quot;text-align: left;&quot;>200</pre></td></tr>\n",
       "</tbody>\n",
       "</table>"
      ],
      "text/plain": [
       "Operations\n",
       "Storage\n",
       "type      value\n",
       "------  -------\n",
       "mutez       200"
      ]
     },
     "execution_count": 9,
     "metadata": {},
     "output_type": "execute_result"
    }
   ],
   "source": [
    "storage mutez ;\n",
    "parameter unit ;\n",
    "code {\n",
    "    PATCH AMOUNT 200 ;\n",
    "    CDR ;\n",
    "    AMOUNT ;\n",
    "    IFCMPGT\n",
    "        { AMOUNT ; NIL operation ; PAIR }\n",
    "        { FAIL }\n",
    "} ;\n",
    "\n",
    "RUN %default Unit 100 ;"
   ]
  },
  {
   "cell_type": "markdown",
   "metadata": {},
   "source": [
    "You can see that the newly returned storage is `mutez 200` as expected, because `200` is greater than `100`.  \n",
    "\n",
    "Other scenario: you create a smart contract and you want to prevent people from sending any tez. To do so, you must check if the amount is equal to `0` before proceeding and if it is not the case, the contract fails:"
   ]
  },
  {
   "cell_type": "code",
   "execution_count": 10,
   "metadata": {},
   "outputs": [
    {
     "name": "stdout",
     "output_type": "stream",
     "text": [
      "storage: updated\n",
      "parameter: updated\n",
      "code: updated\n",
      "BEGIN %default / _ => (Unit * '')\n",
      "DROP / (Unit * '') => _\n",
      "AMOUNT / _ => 0\n",
      "PUSH / _ => 0\n",
      "COMPARE / 0 : 0 => 0\n",
      "NEQ / 0 => False\n",
      "IF / False => _\n",
      "PUSH / _ => 'No amount!'\n",
      "NIL / _ => []\n",
      "PAIR / [] : 'No amount!' => ([] * 'No amount!')\n",
      "END %default / ([] * 'No amount!') => _"
     ]
    },
    {
     "data": {
      "text/html": [
       "<h4>Operations</h4><h4>Storage</h4><table>\n",
       "<thead>\n",
       "<tr><th>type                                       </th><th>value                                          </th></tr>\n",
       "</thead>\n",
       "<tbody>\n",
       "<tr><td><pre style=&quot;text-align: left;&quot;>string</pre></td><td><pre style=&quot;text-align: left;&quot;>No amount!</pre></td></tr>\n",
       "</tbody>\n",
       "</table>"
      ],
      "text/plain": [
       "Operations\n",
       "Storage\n",
       "type    value\n",
       "------  ----------\n",
       "string  No amount!"
      ]
     },
     "execution_count": 10,
     "metadata": {},
     "output_type": "execute_result"
    }
   ],
   "source": [
    "storage string ;\n",
    "parameter unit ;\n",
    "code {\n",
    "    PATCH AMOUNT ;\n",
    "    DROP ;\n",
    "    AMOUNT ;\n",
    "    PUSH mutez 0 ;\n",
    "    IFCMPNEQ\n",
    "        { FAIL }\n",
    "        { \n",
    "            PUSH string \"No amount!\" ;\n",
    "            NIL operation ;\n",
    "            PAIR\n",
    "        }\n",
    "} ;\n",
    "\n",
    "RUN %default Unit \"\" ;"
   ]
  },
  {
   "cell_type": "markdown",
   "metadata": {},
   "source": [
    "You can also use `PATCH AMOUNT` with no value, which will be `0` by default. We then use the **`IFCMPNEQ`** instruction to check if the value on top of the stack (the `0` we pushed just before) is not equal to the one below (the amount). Be careful to push a value of type `mutez` for the comparison.  \n",
    "If the result of the comparison is true (i.e the amount is not equal to `0`), the contract fails. Otherwise, we pushed the amount again (remember that every instruction starting with **`IF`** removes the value(s) on top of the stack) and end the execution by saving the amount in the storage.\n",
    "\n",
    "In some cases, you would like to know the current balance of the contract before running a piece of code. For example, one of your users requests to withdraw his/her share in the smart contract and you need to make sure there are enough funds before initiating the transaction. You may also want to block incoming transactions if the balance of the contract reaches a certain limit.  \n",
    "\n",
    "In these cases, you can use **`BALANCE`**. Just like **`AMOUNT`**, **`BALANCE`** is an instruction that pushes a new value on top of the stack containing the current balance of the smart contract in `mutez`.\n",
    "\n",
    "Let's write a smart contract that keeps track in the storage of the last transaction sent after making sure the current balance doesn't exceed a certain limit:"
   ]
  },
  {
   "cell_type": "code",
   "execution_count": 11,
   "metadata": {},
   "outputs": [
    {
     "name": "stdout",
     "output_type": "stream",
     "text": [
      "storage: updated\n",
      "parameter: updated\n",
      "code: updated\n",
      "BEGIN %default / _ => (Unit * 0.001)\n",
      "DROP / (Unit * 0.001) => _\n",
      "AMOUNT / _ => 10\n",
      "BALANCE / _ => 25.7\n",
      "ADD / 25.7 : 10 => 35.7\n",
      "DUP / 35.7 => 35.7 : 35.7\n",
      "PUSH / _ => 100\n",
      "COMPARE / 100 : 35.7 => 1\n",
      "GT / 1 => True\n",
      "IF / True => _\n",
      "NIL / _ => []\n",
      "PAIR / [] : 35.7 => ([] * 35.7)\n",
      "END %default / ([] * 35.7) => _"
     ]
    },
    {
     "data": {
      "text/html": [
       "<h4>Operations</h4><h4>Storage</h4><table>\n",
       "<thead>\n",
       "<tr><th>type                                      </th><th>value                                        </th></tr>\n",
       "</thead>\n",
       "<tbody>\n",
       "<tr><td><pre style=&quot;text-align: left;&quot;>mutez</pre></td><td><pre style=&quot;text-align: left;&quot;>35700000</pre></td></tr>\n",
       "</tbody>\n",
       "</table>"
      ],
      "text/plain": [
       "Operations\n",
       "Storage\n",
       "type       value\n",
       "------  --------\n",
       "mutez   35700000"
      ]
     },
     "execution_count": 11,
     "metadata": {},
     "output_type": "execute_result"
    }
   ],
   "source": [
    "storage mutez ;\n",
    "parameter unit ;\n",
    "code {\n",
    "    DROP ;\n",
    "    PATCH AMOUNT 10000000 ; ## manual setting of amount\n",
    "    PATCH BALANCE 25700000 ; ## manual setting of balance\n",
    "    AMOUNT ;\n",
    "    BALANCE ;\n",
    "    ADD ;\n",
    "    DUP ;\n",
    "    PUSH mutez 100000000 ; # 100 tez\n",
    "    IFCMPGT\n",
    "        { NIL operation ; PAIR }\n",
    "        { PUSH string \"BalanceExceeded\" ; FAILWITH }\n",
    "} ;\n",
    "\n",
    "RUN %default Unit 1000 ;"
   ]
  },
  {
   "cell_type": "markdown",
   "metadata": {},
   "source": [
    "This is a very simple smart contract that does one simple thing: it adds the incoming amount to the balance, compares the result with the limit we manually introduce (with `PUSH mutez 100000000 ;`), if the limit is greater than the addition of the amount and the balance, everything is fine, we save the amount in the storage and end the execution. However, if the limit is exceeded, we throw an error with the **`FAIL`** instruction.\n",
    "\n",
    "If you try to change the values (for example adding a `0` to the balance), you can make the contract fail to test that it works properly.\n",
    "\n",
    "We already introduced **`NOW`** in the previous chapters. The instruction pushes the current timestamp onto the stack. This is a very useful feature for time-related actions: for example, we can make a smart contract fail if a transaction comes before a certain period ended since the last transaction:"
   ]
  },
  {
   "cell_type": "code",
   "execution_count": 25,
   "metadata": {},
   "outputs": [
    {
     "name": "stdout",
     "output_type": "stream",
     "text": [
      "storage: updated\n",
      "parameter: updated\n",
      "code: updated\n",
      "BEGIN %default / _ => (Unit * 1592379223)\n",
      "CDR / (Unit * 1592379223) => 1592379223\n",
      "PUSH / _ => 3600\n",
      "ADD / 3600 : 1592379223 => 1592382823\n",
      "NOW / _ => 1592382823\n",
      "COMPARE / 1592382823 : 1592382823 => 0\n",
      "GE / 0 => True\n",
      "IF / True => _\n",
      "NOW / _ => 1592382823\n",
      "NIL / _ => []\n",
      "PAIR / [] : 1592382823 => ([] * 1592382823)\n",
      "END %default / ([] * 1592382823) => _"
     ]
    },
    {
     "data": {
      "text/html": [
       "<h4>Operations</h4><h4>Storage</h4><table>\n",
       "<thead>\n",
       "<tr><th>type                                          </th><th>value                                          </th></tr>\n",
       "</thead>\n",
       "<tbody>\n",
       "<tr><td><pre style=&quot;text-align: left;&quot;>timestamp</pre></td><td><pre style=&quot;text-align: left;&quot;>1592382823</pre></td></tr>\n",
       "</tbody>\n",
       "</table>"
      ],
      "text/plain": [
       "Operations\n",
       "Storage\n",
       "type            value\n",
       "---------  ----------\n",
       "timestamp  1592382823"
      ]
     },
     "execution_count": 25,
     "metadata": {},
     "output_type": "execute_result"
    }
   ],
   "source": [
    "storage timestamp ;\n",
    "parameter unit ;\n",
    "code {\n",
    "    CDR ;\n",
    "    PUSH int 3600 ; ## 60 sec * 60 min = 1 hour interval\n",
    "    ADD ;\n",
    "    PATCH NOW 1592382823 ;\n",
    "    NOW ;\n",
    "    IFCMPGE\n",
    "        { NOW ; NIL operation ; PAIR }\n",
    "        { PUSH string \"InvalidInterval\" ; FAILWITH }\n",
    "} ;\n",
    "\n",
    "RUN %default Unit 1592379223 ;"
   ]
  },
  {
   "cell_type": "markdown",
   "metadata": {},
   "source": [
    "As you can see, the contract stores the timestamp of the last successful execution. When a transaction comes, it adds 3,600 seconds to that timestamp and compares it to the current timestamp. If one hour has passed, the new timestamp is saved into the storage. Otherwise, an error is raised and the contract fails.  \n",
    "\n",
    "In the contract, we use `PATCH NOW 1592382823` in order to force a certain value for our **`NOW`** instruction and see the contract passes. If you comment out this line (just add `##` at the very beginning of the line) and run the contract again, you can see that it fails now, because there is more than one hour between `NOW` and the timestamp in the storage (by default `NOW` is zero in case you are not attached to any network). The value returned by **`NOW`** is then saved into the storage.\n",
    "\n",
    "## Address, contract and token transfer\n",
    "\n",
    "One of the many features of smart contracts is their ability to transfer money. You can send tez to a smart contract, you can send them from the smart contract to an address and you can even exchange tez between smart contracts! You can let anyone transfer money in and out but you can also enforce certain rules that dictate who can make transfers and how these transfers can happen. After reading this section, you will know everything you need to manage tez in your smart contracts!\n",
    "\n",
    "Let's start from the beginning, with the `address` type. `address` is a type in Michelson reserved for addresses. It can be used both for implicit account (starting with *tz1*, *tz2* or *tz3*) and smart contract (starting with *KT1*) addresses. You can type an address as a string when you want, for example, to add it onto the stack:"
   ]
  },
  {
   "cell_type": "code",
   "execution_count": 27,
   "metadata": {},
   "outputs": [
    {
     "name": "stdout",
     "output_type": "stream",
     "text": [
      "storage: updated\n",
      "parameter: updated\n",
      "code: updated\n",
      "BEGIN %default / _ => (Unit * KT1Txq…QU5)\n",
      "DROP / (Unit * KT1Txq…QU5) => _\n",
      "PUSH / _ => tz1VSU…cjb\n",
      "NIL / _ => []\n",
      "PAIR / [] : tz1VSU…cjb => ([] * tz1VSU…cjb)\n",
      "END %default / ([] * tz1VSU…cjb) => _"
     ]
    },
    {
     "data": {
      "text/html": [
       "<h4>Operations</h4><h4>Storage</h4><table>\n",
       "<thead>\n",
       "<tr><th>type                                        </th><th>value                                                                    </th></tr>\n",
       "</thead>\n",
       "<tbody>\n",
       "<tr><td><pre style=&quot;text-align: left;&quot;>address</pre></td><td><pre style=&quot;text-align: left;&quot;>tz1VSUr8wwNhLAzempoch5d6hLRiTh8Cjcjb</pre></td></tr>\n",
       "</tbody>\n",
       "</table>"
      ],
      "text/plain": [
       "Operations\n",
       "Storage\n",
       "type     value\n",
       "-------  ------------------------------------\n",
       "address  tz1VSUr8wwNhLAzempoch5d6hLRiTh8Cjcjb"
      ]
     },
     "execution_count": 27,
     "metadata": {},
     "output_type": "execute_result"
    }
   ],
   "source": [
    "storage address ;\n",
    "parameter unit ;\n",
    "code {\n",
    "    DROP ;\n",
    "    PUSH address \"tz1VSUr8wwNhLAzempoch5d6hLRiTh8Cjcjb\" ;\n",
    "    NIL operation ;\n",
    "    PAIR\n",
    "} ;\n",
    "\n",
    "RUN %default Unit \"KT1TxqZ8QtKvLu3V3JH7Gx58n7Co8pgtpQU5\" ;"
   ]
  },
  {
   "cell_type": "markdown",
   "metadata": {},
   "source": [
    "Be aware that the `address` type does not ensure that the address is a valid address, only that the string follows the address format.\n",
    "\n",
    "If you want to ensure that the address is valid, you can use the `contract (param)` type. This type guarantees that the address is a valid, existing account with a parameter of type `param`. In case of an implicit account, `param` is equal to `unit`. It is impossible to \"push\" a value of type `contract` onto the stack but you can receive it as a parameter, you can get it with the **`IMPLICIT_ACCOUNT`** and **`SELF`** instructions or you have to start with a value of type `address` and cast it to a value of type `contract`. Let's see an example before detailing what happens:"
   ]
  },
  {
   "cell_type": "code",
   "execution_count": 28,
   "metadata": {},
   "outputs": [
    {
     "name": "stdout",
     "output_type": "stream",
     "text": [
      "storage: updated\n",
      "parameter: updated\n",
      "code: updated\n",
      "BEGIN %default / _ => (Unit * KT1Txq…QU5%default)\n",
      "DROP / (Unit * KT1Txq…QU5%default) => _\n",
      "PUSH / _ => tz1VSU…cjb\n",
      "CONTRACT: skip type checking for tz1VSUr8wwNhLAzempoch5d6hLRiTh8Cjcjb\n",
      "CONTRACT / tz1VSU…cjb => tz1VSU…cjb%default?\n",
      "IF_NONE / tz1VSU…cjb%default? => tz1VSU…cjb%default\n",
      "NIL / _ => []\n",
      "PAIR / [] : tz1VSU…cjb%default => ([] * tz1VSU…cjb%default)\n",
      "END %default / ([] * tz1VSU…cjb%default) => _"
     ]
    },
    {
     "data": {
      "text/html": [
       "<h4>Operations</h4><h4>Storage</h4><table>\n",
       "<thead>\n",
       "<tr><th>type                                         </th><th>value                                                                    </th></tr>\n",
       "</thead>\n",
       "<tbody>\n",
       "<tr><td><pre style=&quot;text-align: left;&quot;>contract</pre></td><td><pre style=&quot;text-align: left;&quot;>tz1VSUr8wwNhLAzempoch5d6hLRiTh8Cjcjb</pre></td></tr>\n",
       "</tbody>\n",
       "</table>"
      ],
      "text/plain": [
       "Operations\n",
       "Storage\n",
       "type      value\n",
       "--------  ------------------------------------\n",
       "contract  tz1VSUr8wwNhLAzempoch5d6hLRiTh8Cjcjb"
      ]
     },
     "execution_count": 28,
     "metadata": {},
     "output_type": "execute_result"
    }
   ],
   "source": [
    "storage (contract unit) ;\n",
    "parameter unit ;\n",
    "code {\n",
    "    DROP ;\n",
    "    PUSH address \"tz1VSUr8wwNhLAzempoch5d6hLRiTh8Cjcjb\" ;\n",
    "    CONTRACT unit ;\n",
    "    IF_NONE\n",
    "        { FAIL }\n",
    "        { NIL operation ; PAIR }\n",
    "} ;\n",
    "\n",
    "RUN %default Unit \"KT1TxqZ8QtKvLu3V3JH7Gx58n7Co8pgtpQU5\" ;"
   ]
  },
  {
   "cell_type": "markdown",
   "metadata": {},
   "source": [
    "In this example, we convert a value of type `address` to a value of type `contract` and save the result in the storage. Several steps are necessary to achieve it:\n",
    "1. We remove the first element of the stack with **`DROP`**.\n",
    "2. We add the address on top of the stack with **`PUSH`**.\n",
    "3. We use a special instruction called **`CONTRACT`** to cast the address to a contract value. Note that we provide a parameter of type `unit` indicating that the resulting value will be an implicit account.\n",
    "> Note: smart contracts can also have a parameter of type `unit`, this kind of parameter doesn't necessarily confirm that you are dealing with an implicit account.\n",
    "4. Two things may happen at this point: if the address is invalid or doesn't exist, **`CONTRACT`** returns the value `None` of type option. We can use it to make the contract fail. If the address is valid and exists, **`CONTRACT`** returns the value `(Some (contract param))` of type option that we unwrap in the second branch of the conditional structure to get the value of type `(contract unit)`. This value is then saved in the storage.\n",
    "\n",
    "> Note: In the Jupyter notebooks, the `Contract` values are not typechecked, so they always return `(Some value)`. Be careful when you use your code in a compiler as it can be a source of error.\n",
    "\n",
    "In a real-life scenario, you wouldn't probably go through all these steps just to save the result in the storage. This operation can be particularly useful when you want to send tokens from a contract. Michelson provides an instruction that allows you to withdraw tez from the contract balance and send them to an implicit account or another contract: **`TRANSFER_TOKENS`**. The use of this instruction is not difficult by itself but you have to make sure to get its necessary parameters in the right order in the stack before calling it. Let's see an example first to observe what **`TRANSFER_TOKENS`** does:"
   ]
  },
  {
   "cell_type": "code",
   "execution_count": 36,
   "metadata": {},
   "outputs": [
    {
     "name": "stdout",
     "output_type": "stream",
     "text": [
      "storage: updated\n",
      "parameter: updated\n",
      "BEGIN %default / _ => (Unit * Unit)\n",
      "DROP / (Unit * Unit) => _"
     ]
    },
    {
     "data": {
      "text/html": [],
      "text/plain": []
     },
     "execution_count": 36,
     "metadata": {},
     "output_type": "execute_result"
    }
   ],
   "source": [
    "storage unit ;\n",
    "parameter unit ;\n",
    "BEGIN Unit Unit ;\n",
    "PATCH BALANCE 10000000 ;\n",
    "DROP ;"
   ]
  },
  {
   "cell_type": "markdown",
   "metadata": {},
   "source": [
    "This initializes the storage and the parameter before dropping the first element of the stack. We also add 10 tez to the balance so we have something to send to the receiver's address."
   ]
  },
  {
   "cell_type": "code",
   "execution_count": 37,
   "metadata": {},
   "outputs": [
    {
     "name": "stdout",
     "output_type": "stream",
     "text": [
      "PUSH / _ => tz1VSU…cjb\n",
      "CONTRACT: skip type checking for tz1VSUr8wwNhLAzempoch5d6hLRiTh8Cjcjb\n",
      "CONTRACT / tz1VSU…cjb => tz1VSU…cjb%default?\n",
      "DUMP => [tz1VSU…cjb%default?]"
     ]
    },
    {
     "data": {
      "text/html": [
       "<h4>Stack updates</h4><table>\n",
       "<thead>\n",
       "<tr><th>index                                 </th><th>type                                                  </th><th>value                                                                    </th></tr>\n",
       "</thead>\n",
       "<tbody>\n",
       "<tr><td><pre style=&quot;text-align: left;&quot;>0</pre></td><td><pre style=&quot;text-align: left;&quot;>option (contract)</pre></td><td><pre style=&quot;text-align: left;&quot;>tz1VSUr8wwNhLAzempoch5d6hLRiTh8Cjcjb</pre></td></tr>\n",
       "</tbody>\n",
       "</table>"
      ],
      "text/plain": [
       "Stack updates\n",
       "  index  type               value\n",
       "-------  -----------------  ------------------------------------\n",
       "      0  option (contract)  tz1VSUr8wwNhLAzempoch5d6hLRiTh8Cjcjb"
      ]
     },
     "execution_count": 37,
     "metadata": {},
     "output_type": "execute_result"
    }
   ],
   "source": [
    "PUSH address \"tz1VSUr8wwNhLAzempoch5d6hLRiTh8Cjcjb\" ;\n",
    "CONTRACT unit ;\n",
    "DUMP ;"
   ]
  },
  {
   "cell_type": "markdown",
   "metadata": {},
   "source": [
    "Like in the previous contract, we push the receiver's address to the stack and convert it to a `(contract unit)` type."
   ]
  },
  {
   "cell_type": "code",
   "execution_count": 38,
   "metadata": {},
   "outputs": [
    {
     "name": "stdout",
     "output_type": "stream",
     "text": [
      "IF_NONE / tz1VSU…cjb%default? => tz1VSU…cjb%default\n",
      "DUMP => [tz1VSU…cjb%default]"
     ]
    },
    {
     "data": {
      "text/html": [
       "<h4>Stack updates</h4><table>\n",
       "<thead>\n",
       "<tr><th>index                                 </th><th>type                                         </th><th>value                                                                    </th></tr>\n",
       "</thead>\n",
       "<tbody>\n",
       "<tr><td><pre style=&quot;text-align: left;&quot;>0</pre></td><td><pre style=&quot;text-align: left;&quot;>contract</pre></td><td><pre style=&quot;text-align: left;&quot;>tz1VSUr8wwNhLAzempoch5d6hLRiTh8Cjcjb</pre></td></tr>\n",
       "</tbody>\n",
       "</table>"
      ],
      "text/plain": [
       "Stack updates\n",
       "  index  type      value\n",
       "-------  --------  ------------------------------------\n",
       "      0  contract  tz1VSUr8wwNhLAzempoch5d6hLRiTh8Cjcjb"
      ]
     },
     "execution_count": 38,
     "metadata": {},
     "output_type": "execute_result"
    }
   ],
   "source": [
    "IF_NONE\n",
    "    { PUSH string \"InvalidAddress\" ; FAILWITH }\n",
    "    { } ;\n",
    "DUMP ;"
   ]
  },
  {
   "cell_type": "markdown",
   "metadata": {},
   "source": [
    "**`IF_NONE`** verifies that the **`CONTRACT`** instruction succeeded and that a value has been returned. In this case, the value is the address where we will send the tez, of type `(contract unit)`."
   ]
  },
  {
   "cell_type": "code",
   "execution_count": 39,
   "metadata": {},
   "outputs": [
    {
     "name": "stdout",
     "output_type": "stream",
     "text": [
      "PUSH / _ => 5\n",
      "DUMP => [5, tz1VSU…cjb%default]"
     ]
    },
    {
     "data": {
      "text/html": [
       "<h4>Stack updates</h4><table>\n",
       "<thead>\n",
       "<tr><th>index                                 </th><th>type                                         </th><th>value                                                                    </th></tr>\n",
       "</thead>\n",
       "<tbody>\n",
       "<tr><td><pre style=&quot;text-align: left;&quot;>0</pre></td><td><pre style=&quot;text-align: left;&quot;>mutez</pre>   </td><td><pre style=&quot;text-align: left;&quot;>5000000</pre>                             </td></tr>\n",
       "<tr><td><pre style=&quot;text-align: left;&quot;>1</pre></td><td><pre style=&quot;text-align: left;&quot;>contract</pre></td><td><pre style=&quot;text-align: left;&quot;>tz1VSUr8wwNhLAzempoch5d6hLRiTh8Cjcjb</pre></td></tr>\n",
       "</tbody>\n",
       "</table>"
      ],
      "text/plain": [
       "Stack updates\n",
       "  index  type      value\n",
       "-------  --------  ------------------------------------\n",
       "      0  mutez     5000000\n",
       "      1  contract  tz1VSUr8wwNhLAzempoch5d6hLRiTh8Cjcjb"
      ]
     },
     "execution_count": 39,
     "metadata": {},
     "output_type": "execute_result"
    }
   ],
   "source": [
    "PUSH mutez 5000000 ;\n",
    "DUMP ;"
   ]
  },
  {
   "cell_type": "markdown",
   "metadata": {},
   "source": [
    "We then push the amount we want to send to the receiver's address."
   ]
  },
  {
   "cell_type": "code",
   "execution_count": 40,
   "metadata": {},
   "outputs": [
    {
     "name": "stdout",
     "output_type": "stream",
     "text": [
      "PUSH / _ => Unit\n",
      "DUMP => [Unit, 5, tz1VSU…cjb%default]"
     ]
    },
    {
     "data": {
      "text/html": [
       "<h4>Stack updates</h4><table>\n",
       "<thead>\n",
       "<tr><th>index                                 </th><th>type                                         </th><th>value                                                                    </th></tr>\n",
       "</thead>\n",
       "<tbody>\n",
       "<tr><td><pre style=&quot;text-align: left;&quot;>0</pre></td><td><pre style=&quot;text-align: left;&quot;>unit</pre>    </td><td><pre style=&quot;text-align: left;&quot;>Unit</pre>                                </td></tr>\n",
       "<tr><td><pre style=&quot;text-align: left;&quot;>1</pre></td><td><pre style=&quot;text-align: left;&quot;>mutez</pre>   </td><td><pre style=&quot;text-align: left;&quot;>5000000</pre>                             </td></tr>\n",
       "<tr><td><pre style=&quot;text-align: left;&quot;>2</pre></td><td><pre style=&quot;text-align: left;&quot;>contract</pre></td><td><pre style=&quot;text-align: left;&quot;>tz1VSUr8wwNhLAzempoch5d6hLRiTh8Cjcjb</pre></td></tr>\n",
       "</tbody>\n",
       "</table>"
      ],
      "text/plain": [
       "Stack updates\n",
       "  index  type      value\n",
       "-------  --------  ------------------------------------\n",
       "      0  unit      Unit\n",
       "      1  mutez     5000000\n",
       "      2  contract  tz1VSUr8wwNhLAzempoch5d6hLRiTh8Cjcjb"
      ]
     },
     "execution_count": 40,
     "metadata": {},
     "output_type": "execute_result"
    }
   ],
   "source": [
    "PUSH unit Unit ;\n",
    "DUMP ;"
   ]
  },
  {
   "cell_type": "markdown",
   "metadata": {},
   "source": [
    "Because we are sending an amount to an implicit account, the expected parameter of the value of type `(contract unit)` is `unit`, so we just need to provide an element of type `unit` to the **`TRANFER_TOKENS`** instruction.  \n",
    "Note that the three parameters necessary to transfer tokens are now on top of the stack and in the right order:\n",
    "1. The parameter expected for the address (`unit` for implicit accounts)\n",
    "2. The amount to be sent in `mutez`\n",
    "3. The receiver's address converted to a value of type `(contract param)`"
   ]
  },
  {
   "cell_type": "code",
   "execution_count": 41,
   "metadata": {},
   "outputs": [
    {
     "name": "stdout",
     "output_type": "stream",
     "text": [
      "TRANSFER_TOKENS / Unit : 5 : tz1VSU…cjb%default => transaction\n",
      "DUMP => [transaction]"
     ]
    },
    {
     "data": {
      "text/html": [
       "<h4>Stack updates</h4><table>\n",
       "<thead>\n",
       "<tr><th>index                                 </th><th>type                                          </th><th>value                                    </th></tr>\n",
       "</thead>\n",
       "<tbody>\n",
       "<tr><td><pre style=&quot;text-align: left;&quot;>0</pre></td><td><pre style=&quot;text-align: left;&quot;>operation</pre></td><td><pre style=&quot;text-align: left;&quot;>Unit</pre></td></tr>\n",
       "</tbody>\n",
       "</table>"
      ],
      "text/plain": [
       "Stack updates\n",
       "  index  type       value\n",
       "-------  ---------  -------\n",
       "      0  operation  Unit"
      ]
     },
     "execution_count": 41,
     "metadata": {},
     "output_type": "execute_result"
    }
   ],
   "source": [
    "TRANSFER_TOKENS ;\n",
    "DUMP ;"
   ]
  },
  {
   "cell_type": "markdown",
   "metadata": {},
   "source": [
    "Calling the **`TRANSFER_TOKENS`** instruction forges a new operation. Remember that contract executions in Michelson are self-contained: they do not communicate with the outside. The execution goes from its beginning to its end and only then it is possible to send new transactions.  \n",
    "You can see that the value we now have on top of the stack is of type `operation` and contains all the information we previously added to the stack: the amount to be sent, the entrypoint to call (`default` by default or in case of a transaction to an implicit account), the operation kind, the parameters (`unit` for transactions to implicit accounts) and the target address. The only thing left now is to add this operation to the list of operations returned at the end of the contract."
   ]
  },
  {
   "cell_type": "code",
   "execution_count": 42,
   "metadata": {},
   "outputs": [
    {
     "name": "stdout",
     "output_type": "stream",
     "text": [
      "NIL / _ => []\n",
      "SWAP / [] : transaction => transaction : []\n",
      "CONS / transaction : [] => [transaction]\n",
      "DUMP => [[transaction]]"
     ]
    },
    {
     "data": {
      "text/html": [
       "<h4>Stack updates</h4><table>\n",
       "<thead>\n",
       "<tr><th>index                                 </th><th>type                                                 </th><th>value                                      </th></tr>\n",
       "</thead>\n",
       "<tbody>\n",
       "<tr><td><pre style=&quot;text-align: left;&quot;>0</pre></td><td><pre style=&quot;text-align: left;&quot;>list (operation)</pre></td><td><pre style=&quot;text-align: left;&quot;>[Unit]</pre></td></tr>\n",
       "</tbody>\n",
       "</table>"
      ],
      "text/plain": [
       "Stack updates\n",
       "  index  type              value\n",
       "-------  ----------------  -------\n",
       "      0  list (operation)  [Unit]"
      ]
     },
     "execution_count": 42,
     "metadata": {},
     "output_type": "execute_result"
    }
   ],
   "source": [
    "NIL operation ;\n",
    "SWAP ;\n",
    "CONS ;\n",
    "DUMP ;"
   ]
  },
  {
   "cell_type": "markdown",
   "metadata": {},
   "source": [
    "Are you excited about finally using that list of operations we have been returning empty so far? 😅  \n",
    "\n",
    "In order to include the operation into the list of operations, you add an empty list as usual with `NIL operation`, you use **`SWAP`** because the element to add to the list must be just above in the stack and you call the **`CONS`** instruction which prepends the value to the list. Now you can return the pair with the list of operations and the storage:"
   ]
  },
  {
   "cell_type": "code",
   "execution_count": 43,
   "metadata": {},
   "outputs": [
    {
     "name": "stdout",
     "output_type": "stream",
     "text": [
      "UNIT / _ => Unit\n",
      "SWAP / Unit : [transaction] => [transaction] : Unit\n",
      "PAIR / [transaction] : Unit => ([transaction] * Unit)\n",
      "END %default / ([transaction] * Unit) => _"
     ]
    },
    {
     "data": {
      "text/html": [
       "<h4>Operations</h4><table>\n",
       "<thead>\n",
       "<tr><th>type                                          </th><th>kind                                            </th><th>source                                                                   </th><th>destination                                                              </th><th>amount                                      </th><th>parameters                                                                               </th></tr>\n",
       "</thead>\n",
       "<tbody>\n",
       "<tr><td><pre style=&quot;text-align: left;&quot;>operation</pre></td><td><pre style=&quot;text-align: left;&quot;>transaction</pre></td><td><pre style=&quot;text-align: left;&quot;>KT1BEqzn5Wx8uJrZNvuS9DVHmLvG9td3fDLi</pre></td><td><pre style=&quot;text-align: left;&quot;>tz1VSUr8wwNhLAzempoch5d6hLRiTh8Cjcjb</pre></td><td><pre style=&quot;text-align: left;&quot;>5000000</pre></td><td><pre style=&quot;text-align: left;&quot;>{&#x27;entrypoint&#x27;: &#x27;default&#x27;, &#x27;value&#x27;: {&#x27;prim&#x27;: &#x27;Unit&#x27;}}</pre></td></tr>\n",
       "</tbody>\n",
       "</table><h4>Storage</h4><table>\n",
       "<thead>\n",
       "<tr><th>type                                     </th><th>value                                    </th></tr>\n",
       "</thead>\n",
       "<tbody>\n",
       "<tr><td><pre style=&quot;text-align: left;&quot;>unit</pre></td><td><pre style=&quot;text-align: left;&quot;>Unit</pre></td></tr>\n",
       "</tbody>\n",
       "</table>"
      ],
      "text/plain": [
       "Operations\n",
       "type       kind         source                                destination                             amount  parameters\n",
       "---------  -----------  ------------------------------------  ------------------------------------  --------  ----------------------------------------------------\n",
       "operation  transaction  KT1BEqzn5Wx8uJrZNvuS9DVHmLvG9td3fDLi  tz1VSUr8wwNhLAzempoch5d6hLRiTh8Cjcjb   5000000  {'entrypoint': 'default', 'value': {'prim': 'Unit'}}Storage\n",
       "type    value\n",
       "------  -------\n",
       "unit    Unit"
      ]
     },
     "execution_count": 43,
     "metadata": {},
     "output_type": "execute_result"
    }
   ],
   "source": [
    "UNIT ;\n",
    "SWAP ;\n",
    "PAIR ;\n",
    "COMMIT ;"
   ]
  },
  {
   "cell_type": "markdown",
   "metadata": {},
   "source": [
    "Nothing groundbreaking here, we push a new `unit` on top of the stack, we use **`SWAP`** because the list of operations must be on the left of the pair and then **`PAIR`**."
   ]
  },
  {
   "cell_type": "markdown",
   "metadata": {},
   "source": [
    "## Recap\n",
    "\n",
    "This tutorial has been full of a lot of new information! You learned how to use smart contracts for financial purposes by manipulating values of type `mutez`, accessing different financial values like the amount sent with a transaction or the balance of the contract, protecting the contract funds with more access control features and transferring funds held in the smart contract to an external address. These operations are crucial in the Tezos ecosystem and they must be clearly understood in order to ensure the safety of your smart contracts.\n",
    "\n",
    "## Exercices\n",
    "\n",
    "1. Write a smart contract that transfers the amount sent with a transaction to an address of your choice. Make sure the amount is not equal to zero before creating the transaction."
   ]
  },
  {
   "cell_type": "code",
   "execution_count": null,
   "metadata": {},
   "outputs": [],
   "source": [
    "## Write and run your code here"
   ]
  },
  {
   "cell_type": "markdown",
   "metadata": {},
   "source": [
    "<details>\n",
    "    <summary>Solution (one of the many possible)</summary>\n",
    "    <p>Copy-paste the solution in the cell above to compile it!</p>\n",
    "    <br />\n",
    "    <pre>\n",
    "        storage unit ;\n",
    "        parameter unit ;\n",
    "        code {\n",
    "            DROP ;\n",
    "            PATCH AMOUNT 5670000 ;\n",
    "            AMOUNT ;\n",
    "            PUSH mutez 0 ;\n",
    "            IFCMPEQ\n",
    "                { FAIL }\n",
    "                {\n",
    "                    PUSH address \"tz1VSUr8wwNhLAzempoch5d6hLRiTh8Cjcjb\" ;\n",
    "                    CONTRACT unit ;\n",
    "                    IF_NONE\n",
    "                        { FAIL }\n",
    "                        {\n",
    "                            AMOUNT ;\n",
    "                            UNIT ;\n",
    "                            TRANSFER_TOKENS ;\n",
    "                            NIL operation ;\n",
    "                            SWAP ;\n",
    "                            CONS ;\n",
    "                            UNIT ;\n",
    "                            SWAP ;\n",
    "                            PAIR\n",
    "                        }\n",
    "                }\n",
    "        } ;\n",
    "        RUN %default Unit Unit ;\n",
    "    </pre>\n",
    "</details>"
   ]
  },
  {
   "cell_type": "markdown",
   "metadata": {},
   "source": [
    "2. Write a smart contract that divides the amount received in half, checks if the contract balance is over 100 tez and send half of the amount to the address saved in the storage (expert level 🤓). As usual, check if the amount is greater than zero before proceeding."
   ]
  },
  {
   "cell_type": "code",
   "execution_count": null,
   "metadata": {},
   "outputs": [],
   "source": [
    "## Write and run your code here"
   ]
  },
  {
   "cell_type": "markdown",
   "metadata": {},
   "source": [
    "<details>\n",
    "    <summary>Solution (one of the many possible)</summary>\n",
    "    <p>Copy-paste the solution in the cell above to compile it!</p>\n",
    "    <p>You can change the value in `PATCH AMOUNT` and `PATCH BALANCE` to see if the contract fails when it is supposed to!</p>\n",
    "    <br />\n",
    "    <pre>\n",
    "        storage address ;\n",
    "        parameter unit ;\n",
    "        code {\n",
    "            PATCH BALANCE 101000000 ;\n",
    "            PATCH AMOUNT 9000000 ;\n",
    "            CDR ;\n",
    "            PUSH mutez 100000000 ;\n",
    "            BALANCE ;\n",
    "            IFCMPLT\n",
    "                { PUSH string \"INSUFFICIENT_BALANCE\" ; FAILWITH }\n",
    "                {\n",
    "                    PUSH mutez 0 ;\n",
    "                    AMOUNT ;\n",
    "                    IFCMPEQ\n",
    "                        { PUSH string \"INSUFFICIENT_AMOUNT\" ; FAILWITH }\n",
    "                        {\n",
    "                            PUSH nat 2 ;\n",
    "                            AMOUNT ;\n",
    "                            EDIV ;\n",
    "                            IF_NONE\n",
    "                                { FAIL }\n",
    "                                {\n",
    "                                    CAR ;\n",
    "                                    DIP { DUP } ;\n",
    "                                    SWAP ;\n",
    "                                    CONTRACT unit ;\n",
    "                                    IF_NONE\n",
    "                                        { FAIL }\n",
    "                                        {\n",
    "                                            SWAP ;\n",
    "                                            UNIT ;\n",
    "                                            TRANSFER_TOKENS ;\n",
    "                                            NIL operation ;\n",
    "                                            SWAP ;\n",
    "                                            CONS ;\n",
    "                                            PAIR\n",
    "                                        }\n",
    "                                }\n",
    "                        }\n",
    "                }\n",
    "        } ;\n",
    "        RUN %default Unit \"tz1VSUr8wwNhLAzempoch5d6hLRiTh8Cjcjb\" ;\n",
    "    </pre>\n",
    "</details>"
   ]
  }
 ],
 "metadata": {
  "kernelspec": {
   "display_name": "Michelson",
   "language": "michelson",
   "name": "michelson"
  },
  "language_info": {
   "codemirror_mode": "michelson",
   "file_extension": ".tz",
   "mimetype": "text/x-michelson",
   "name": "Michelson"
  }
 },
 "nbformat": 4,
 "nbformat_minor": 4
}

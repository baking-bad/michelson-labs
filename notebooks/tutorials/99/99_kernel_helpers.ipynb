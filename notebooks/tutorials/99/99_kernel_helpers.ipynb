{
 "cells": [
  {
   "cell_type": "markdown",
   "metadata": {},
   "source": [
    "# Kernel helpers"
   ]
  },
  {
   "cell_type": "markdown",
   "metadata": {},
   "source": [
    "Here is a complete reference of Michelson kernel helpers. \n",
    "\n",
    "> Note: These instructions are not Michelson primitives and thus cannot be used outside of the Jupyter environment."
   ]
  },
  {
   "cell_type": "markdown",
   "metadata": {},
   "source": [
    "### DUMP\n",
    "Returns the whole stack with values, types, and annotations if any."
   ]
  },
  {
   "cell_type": "code",
   "execution_count": 1,
   "metadata": {},
   "outputs": [
    {
     "data": {
      "text/html": [
       "<table>\n",
       "<thead>\n",
       "<tr><th>value                                  </th><th>type                                    </th><th>name                                     </th></tr>\n",
       "</thead>\n",
       "<tbody>\n",
       "<tr><td><pre style=\"text-align: left;\">42</pre></td><td><pre style=\"text-align: left;\">nat</pre></td><td><pre style=\"text-align: left;\">@var</pre></td></tr>\n",
       "</tbody>\n",
       "</table>"
      ],
      "text/plain": [
       "  value  type    name\n",
       "-------  ------  ------\n",
       "     42  nat     @var"
      ]
     },
     "execution_count": 1,
     "metadata": {},
     "output_type": "execute_result"
    }
   ],
   "source": [
    "PUSH @var nat 42 ;\n",
    "DUMP"
   ]
  },
  {
   "cell_type": "markdown",
   "metadata": {},
   "source": [
    "### DUMP n\n",
    "Returns top `n` items from the stack."
   ]
  },
  {
   "cell_type": "code",
   "execution_count": 2,
   "metadata": {},
   "outputs": [
    {
     "name": "stdout",
     "output_type": "stream",
     "text": [
      "PUSH: push 1;\n",
      "PUSH: push 2;\n",
      "PUSH: push 3;"
     ]
    },
    {
     "data": {
      "text/html": [
       "<table>\n",
       "<thead>\n",
       "<tr><th>value                                   </th><th>type                                       </th></tr>\n",
       "</thead>\n",
       "<tbody>\n",
       "<tr><td><pre style=\"text-align: left;\">\"3\"</pre></td><td><pre style=\"text-align: left;\">string</pre></td></tr>\n",
       "<tr><td><pre style=\"text-align: left;\">\"2\"</pre></td><td><pre style=\"text-align: left;\">string</pre></td></tr>\n",
       "</tbody>\n",
       "</table>"
      ],
      "text/plain": [
       "value    type\n",
       "-------  ------\n",
       "\"3\"      string\n",
       "\"2\"      string"
      ]
     },
     "execution_count": 2,
     "metadata": {},
     "output_type": "execute_result"
    }
   ],
   "source": [
    "PUSH string \"1\" ;\n",
    "PUSH string \"2\" ;\n",
    "PUSH string \"3\" ;\n",
    "DUMP 2"
   ]
  },
  {
   "cell_type": "markdown",
   "metadata": {},
   "source": [
    "### DROP_ALL\n",
    "Clears the stack."
   ]
  },
  {
   "cell_type": "code",
   "execution_count": 3,
   "metadata": {},
   "outputs": [
    {
     "data": {
      "text/html": [
       "stack is empty"
      ],
      "text/plain": [
       "stack is empty"
      ]
     },
     "execution_count": 3,
     "metadata": {},
     "output_type": "execute_result"
    }
   ],
   "source": [
    "DROP_ALL ;\n",
    "DUMP"
   ]
  },
  {
   "cell_type": "markdown",
   "metadata": {},
   "source": [
    "### EXPAND { code }\n",
    "Expands Michelson macros."
   ]
  },
  {
   "cell_type": "code",
   "execution_count": 4,
   "metadata": {},
   "outputs": [
    {
     "data": {
      "text/html": [
       "{ { DIP { PAIR } ; PAIR } }"
      ],
      "text/plain": [
       "{ { DIP { PAIR } ; PAIR } }"
      ]
     },
     "execution_count": 4,
     "metadata": {},
     "output_type": "execute_result"
    }
   ],
   "source": [
    "EXPAND { PAPAIIR }"
   ]
  },
  {
   "cell_type": "markdown",
   "metadata": {},
   "source": [
    "### PATCH prim value?\n",
    "Sets value for one of the context-dependent Michelson instructions: `AMOUNT`, `BALANCE`, `NOW`, `SOURCE`, `SENDER`, `CHAIN_ID`.  \n",
    "You can leave second parameter empty, `0` will be used in that case."
   ]
  },
  {
   "cell_type": "code",
   "execution_count": 5,
   "metadata": {},
   "outputs": [
    {
     "name": "stdout",
     "output_type": "stream",
     "text": [
      "PATCH: set AMOUNT=100500;\n",
      "AMOUNT: push 100500;"
     ]
    },
    {
     "data": {
      "text/html": [
       "<table>\n",
       "<thead>\n",
       "<tr><th>value                                      </th><th>type                                      </th><th>name                                        </th></tr>\n",
       "</thead>\n",
       "<tbody>\n",
       "<tr><td><pre style=\"text-align: left;\">100500</pre></td><td><pre style=\"text-align: left;\">mutez</pre></td><td><pre style=\"text-align: left;\">@amount</pre></td></tr>\n",
       "</tbody>\n",
       "</table>"
      ],
      "text/plain": [
       "  value  type    name\n",
       "-------  ------  -------\n",
       " 100500  mutez   @amount"
      ]
     },
     "execution_count": 5,
     "metadata": {},
     "output_type": "execute_result"
    }
   ],
   "source": [
    "PATCH AMOUNT 100500 ;\n",
    "AMOUNT"
   ]
  },
  {
   "cell_type": "markdown",
   "metadata": {},
   "source": [
    "### DEBUG bool\n",
    "Enables or disables verbose output."
   ]
  },
  {
   "cell_type": "code",
   "execution_count": 6,
   "metadata": {},
   "outputs": [
    {
     "data": {
      "text/html": [
       "<table>\n",
       "<thead>\n",
       "<tr><th>value                                  </th><th>type                                    </th></tr>\n",
       "</thead>\n",
       "<tbody>\n",
       "<tr><td><pre style=\"text-align: left;\">42</pre></td><td><pre style=\"text-align: left;\">nat</pre></td></tr>\n",
       "</tbody>\n",
       "</table>"
      ],
      "text/plain": [
       "  value  type\n",
       "-------  ------\n",
       "     42  nat"
      ]
     },
     "execution_count": 6,
     "metadata": {},
     "output_type": "execute_result"
    }
   ],
   "source": [
    "DEBUG False ;\n",
    "PUSH nat 42"
   ]
  },
  {
   "cell_type": "code",
   "execution_count": 7,
   "metadata": {},
   "outputs": [],
   "source": [
    "DEBUG True"
   ]
  },
  {
   "cell_type": "markdown",
   "metadata": {},
   "source": [
    "### BIG_MAP_DIFF\n",
    "Takes the top of the stack, searches for temporary big_map instances in that element, and displays what the `big_map_diff` would be like if it was a contract execution ending."
   ]
  },
  {
   "cell_type": "code",
   "execution_count": 8,
   "metadata": {},
   "outputs": [
    {
     "name": "stdout",
     "output_type": "stream",
     "text": [
      "EMPTY_BIG_MAP: push -1;\n",
      "PUSH: push bar;\n",
      "SOME: pop bar; push ('bar',);\n",
      "PUSH: push foo;\n",
      "UPDATE: pop foo, ('bar',), -1; push -1;\n",
      "BIG_MAP_DIFF:"
     ]
    },
    {
     "data": {
      "text/html": [
       "<table>\n",
       "<thead>\n",
       "<tr><th>big_map                               </th><th>action                                     </th><th>key                                        </th><th>value                                      </th></tr>\n",
       "</thead>\n",
       "<tbody>\n",
       "<tr><td><pre style=\"text-align: left;\">0</pre></td><td><pre style=\"text-align: left;\">alloc</pre> </td><td><pre style=\"text-align: left;\">string</pre></td><td><pre style=\"text-align: left;\">string</pre></td></tr>\n",
       "<tr><td><pre style=\"text-align: left;\">0</pre></td><td><pre style=\"text-align: left;\">update</pre></td><td><pre style=\"text-align: left;\">\"foo\"</pre> </td><td><pre style=\"text-align: left;\">\"bar\"</pre> </td></tr>\n",
       "</tbody>\n",
       "</table>"
      ],
      "text/plain": [
       "  big_map  action    key     value\n",
       "---------  --------  ------  -------\n",
       "        0  alloc     string  string\n",
       "        0  update    \"foo\"   \"bar\""
      ]
     },
     "execution_count": 8,
     "metadata": {},
     "output_type": "execute_result"
    }
   ],
   "source": [
    "EMPTY_BIG_MAP string string ;\n",
    "PUSH string \"bar\" ;\n",
    "SOME ;\n",
    "PUSH string \"foo\" ;\n",
    "UPDATE ;\n",
    "BIG_MAP_DIFF"
   ]
  },
  {
   "cell_type": "markdown",
   "metadata": {},
   "source": [
    "### BEGIN %entrypoint (param_expr) (storage_expr)\n",
    "Simulates the contract execution beginning. Requires `parameter` and `storage` sections to be initialized. Also, **clears the stack**.  \n",
    "The `%entrypoint` argument can be omitted, `%default` will be used in that case.  \n",
    "This helper also allocates temporary `big_map` instances if there are any in parameters or storage types."
   ]
  },
  {
   "cell_type": "code",
   "execution_count": 9,
   "metadata": {},
   "outputs": [
    {
     "name": "stdout",
     "output_type": "stream",
     "text": [
      "parameter unit;\n",
      "storage unit;\n",
      "BEGIN: use %default; drop all; push (Unit, Unit);"
     ]
    },
    {
     "data": {
      "text/html": [
       "<table>\n",
       "<thead>\n",
       "<tr><th>value                                              </th><th>type                                               </th></tr>\n",
       "</thead>\n",
       "<tbody>\n",
       "<tr><td><pre style=\"text-align: left;\">Pair Unit Unit</pre></td><td><pre style=\"text-align: left;\">pair unit unit</pre></td></tr>\n",
       "</tbody>\n",
       "</table>"
      ],
      "text/plain": [
       "value           type\n",
       "--------------  --------------\n",
       "Pair Unit Unit  pair unit unit"
      ]
     },
     "execution_count": 9,
     "metadata": {},
     "output_type": "execute_result"
    }
   ],
   "source": [
    "parameter unit ;\n",
    "storage unit ;\n",
    "BEGIN Unit Unit ;"
   ]
  },
  {
   "cell_type": "markdown",
   "metadata": {},
   "source": [
    "### COMMIT\n",
    "Simulates the contract execution ending. Requires a `Pair` of operation list and valid storage on top of the stack.  \n",
    "Returns a `list` of internal operations, new storage, and `big_map_diff`."
   ]
  },
  {
   "cell_type": "code",
   "execution_count": 10,
   "metadata": {},
   "outputs": [
    {
     "name": "stdout",
     "output_type": "stream",
     "text": [
      "DROP: pop (Unit, Unit);\n",
      "UNIT: push Unit;\n",
      "NIL: push [];\n",
      "PAIR: pop [], Unit; push ([], Unit);\n",
      "COMMIT:"
     ]
    },
    {
     "data": {
      "text/html": [
       "<table>\n",
       "<thead>\n",
       "<tr><th>value                                    </th><th>type                                     </th></tr>\n",
       "</thead>\n",
       "<tbody>\n",
       "<tr><td><pre style=\"text-align: left;\">Unit</pre></td><td><pre style=\"text-align: left;\">unit</pre></td></tr>\n",
       "</tbody>\n",
       "</table>"
      ],
      "text/plain": [
       "value    type\n",
       "-------  ------\n",
       "Unit     unit"
      ]
     },
     "execution_count": 10,
     "metadata": {},
     "output_type": "execute_result"
    }
   ],
   "source": [
    "DROP ;\n",
    "UNIT ;\n",
    "NIL operation ;\n",
    "PAIR ;\n",
    "COMMIT  ## in our case it will be just new storage"
   ]
  },
  {
   "cell_type": "markdown",
   "metadata": {},
   "source": [
    "### RESET network?\n",
    "**Clears the stack**, deletes all big_map instances, initializes `CHAIN_ID` variable, and remembers the chosen network.  \n",
    "Can be used to set real network context in order to access blockchain data and typecheck values of `contract` type.  \n",
    "If _network_ is not specified, `CHAIN_ID` will we unset."
   ]
  },
  {
   "cell_type": "code",
   "execution_count": 11,
   "metadata": {},
   "outputs": [
    {
     "name": "stdout",
     "output_type": "stream",
     "text": [
      "PUSH: push KT18jLSuXycuWi9pL7ByRjqkrWpPF1S6maHY;\n",
      "CONTRACT: pop KT18jLSuXycuWi9pL7ByRjqkrWpPF1S6maHY; skip check; push ('KT18jLSuXycuWi9pL7ByRjqkrWpPF1S6maHY%default',);\n",
      "IF_NONE: pop ('KT18jLSuXycuWi9pL7ByRjqkrWpPF1S6maHY%default',); push KT18jLSuXycuWi9pL7ByRjqkrWpPF1S6maHY%default;\n",
      "  RENAME: pop KT18jLSuXycuWi9pL7ByRjqkrWpPF1S6maHY%default; push KT18jLSuXycuWi9pL7ByRjqkrWpPF1S6maHY%default;"
     ]
    },
    {
     "data": {
      "text/html": [
       "<table>\n",
       "<thead>\n",
       "<tr><th>value                                                                              </th><th>type                                              </th></tr>\n",
       "</thead>\n",
       "<tbody>\n",
       "<tr><td><pre style=\"text-align: left;\">\"KT18jLSuXycuWi9pL7ByRjqkrWpPF1S6maHY%default\"</pre></td><td><pre style=\"text-align: left;\">contract unit</pre></td></tr>\n",
       "</tbody>\n",
       "</table>"
      ],
      "text/plain": [
       "value                                           type\n",
       "----------------------------------------------  -------------\n",
       "\"KT18jLSuXycuWi9pL7ByRjqkrWpPF1S6maHY%default\"  contract unit"
      ]
     },
     "execution_count": 11,
     "metadata": {},
     "output_type": "execute_result"
    }
   ],
   "source": [
    "PUSH address \"KT18jLSuXycuWi9pL7ByRjqkrWpPF1S6maHY\" ;\n",
    "CONTRACT unit ;  ## no typechecking\n",
    "ASSERT_SOME ;"
   ]
  },
  {
   "cell_type": "code",
   "execution_count": 12,
   "metadata": {},
   "outputs": [
    {
     "name": "stdout",
     "output_type": "stream",
     "text": [
      "RESET: set NETWORK='mainnet'; set CHAIN_ID=NetXdQprcVkpaWU; drop all;\n",
      "CHAIN_ID: push NetXdQprcVkpaWU;\n",
      "PUSH: push KT18jLSuXycuWi9pL7ByRjqkrWpPF1S6maHY;\n",
      "CONTRACT: pop KT18jLSuXycuWi9pL7ByRjqkrWpPF1S6maHY; not found; push None;\n",
      "IF_NONE: pop None;\n",
      "  UNIT: push Unit;\n",
      "  FAILWITH: pop Unit;"
     ]
    },
    {
     "name": "stderr",
     "output_type": "stream",
     "text": [
      "MichelsonRuntimeError: Unit\n",
      "at IF_NONE -> FAILWITH"
     ]
    }
   ],
   "source": [
    "RESET \"mainnet\" ;\n",
    "CHAIN_ID ;\n",
    "PUSH address \"KT18jLSuXycuWi9pL7ByRjqkrWpPF1S6maHY\" ;\n",
    "CONTRACT unit ;\n",
    "ASSERT_SOME ;"
   ]
  },
  {
   "cell_type": "code",
   "execution_count": 13,
   "metadata": {},
   "outputs": [],
   "source": [
    "RESET"
   ]
  },
  {
   "cell_type": "markdown",
   "metadata": {},
   "source": [
    "### RUN %entrypoint (param_expr) (storage_expr)\n",
    "Requires `code` section to be initialized. Internally calls `BEGIN`, then executes `code`, and finishes with `COMMIT`."
   ]
  },
  {
   "cell_type": "code",
   "execution_count": 14,
   "metadata": {},
   "outputs": [
    {
     "name": "stdout",
     "output_type": "stream",
     "text": [
      "parameter unit;\n",
      "storage unit;\n",
      "code { CDR ; NIL operation ; PAIR };"
     ]
    }
   ],
   "source": [
    "parameter unit ;\n",
    "storage unit ;\n",
    "code { CDR ; NIL operation ; PAIR }"
   ]
  },
  {
   "cell_type": "code",
   "execution_count": 15,
   "metadata": {},
   "outputs": [
    {
     "name": "stdout",
     "output_type": "stream",
     "text": [
      "RUN: use %default; drop all; push (Unit, Unit);\n",
      "  CDR: pop (Unit, Unit); push Unit;\n",
      "  NIL: push [];\n",
      "  PAIR: pop [], Unit; push ([], Unit);"
     ]
    },
    {
     "data": {
      "text/html": [
       "<table>\n",
       "<thead>\n",
       "<tr><th>value                                    </th><th>type                                     </th></tr>\n",
       "</thead>\n",
       "<tbody>\n",
       "<tr><td><pre style=\"text-align: left;\">Unit</pre></td><td><pre style=\"text-align: left;\">unit</pre></td></tr>\n",
       "</tbody>\n",
       "</table>"
      ],
      "text/plain": [
       "value    type\n",
       "-------  ------\n",
       "Unit     unit"
      ]
     },
     "execution_count": 15,
     "metadata": {},
     "output_type": "execute_result"
    }
   ],
   "source": [
    "RUN Unit Unit"
   ]
  }
 ],
 "metadata": {
  "kernelspec": {
   "display_name": "Michelson",
   "language": "michelson",
   "name": "michelson"
  },
  "language_info": {
   "codemirror_mode": "michelson",
   "file_extension": ".tz",
   "mimetype": "text/x-michelson",
   "name": "Michelson"
  }
 },
 "nbformat": 4,
 "nbformat_minor": 2
}

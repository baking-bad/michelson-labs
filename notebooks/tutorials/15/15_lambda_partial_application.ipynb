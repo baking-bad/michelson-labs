{
 "cells": [
  {
   "cell_type": "markdown",
   "metadata": {},
   "source": [
    "# Chapter 15\n",
    "\n",
    "You've come a long way from the first chapter! When you started, the stack was a mysterious land where unknown things happen. Now, it has no more secret for you and you manipulate its elements with ease. Congratulations!\n",
    "\n",
    "For this chapter, we are going to explore a more advanced subject of the Michelson language: `lambdas`! Even if you don't know what lambdas are, if you have ever used a high-level programming language, you probably are familiar with a very similar concept: functions. You can imagine a lambda as a very simple function: a piece of Michelson code where you indicate the value you will put in and the value you expect out. The code inside the lambda will manipulate the expected input and return the expected output. Let's see a simple example:"
   ]
  },
  {
   "cell_type": "code",
   "execution_count": 13,
   "metadata": {},
   "outputs": [
    {
     "name": "stdout",
     "output_type": "stream",
     "text": [
      "parameter int;\n",
      "storage int;\n",
      "code { CAR ; LAMBDA int int { PUSH int 2 ; ADD } ; SWAP ; EXEC ; NIL operation ; PAIR };\n",
      "RUN: use %default; drop all; push (5, 6);\n",
      "CAR: pop (5, 6); push 5;\n",
      "LAMBDA: push { PUSH int 2 ; ADD };\n",
      "SWAP: pop { PUSH int 2 ; ADD }, 5; push { PUSH int 2 ; ADD }; push 5;\n",
      "EXEC: pop 5, { PUSH int 2 ; ADD };\n",
      "PUSH: push 2;\n",
      "ADD: pop 2, 5; push 7;\n",
      "pop 7; push 7;\n",
      "NIL: push [];\n",
      "PAIR: pop [], 7; push ([], 7);"
     ]
    },
    {
     "data": {
      "text/html": [
       "<table>\n",
       "<thead>\n",
       "<tr><th>value                                 </th><th>type                                    </th></tr>\n",
       "</thead>\n",
       "<tbody>\n",
       "<tr><td><pre style=&quot;text-align: left;&quot;>7</pre></td><td><pre style=&quot;text-align: left;&quot;>int</pre></td></tr>\n",
       "</tbody>\n",
       "</table>"
      ],
      "text/plain": [
       "  value  type\n",
       "-------  ------\n",
       "      7  int"
      ]
     },
     "execution_count": 13,
     "metadata": {},
     "output_type": "execute_result"
    }
   ],
   "source": [
    "parameter int ;\n",
    "storage int ;\n",
    "code {\n",
    "    CAR ;\n",
    "    LAMBDA int int { PUSH int 2 ; ADD } ;\n",
    "    SWAP ;\n",
    "    EXEC ;\n",
    "    NIL operation ;\n",
    "    PAIR\n",
    "} ;\n",
    "\n",
    "RUN %default 5 6 ;"
   ]
  },
  {
   "cell_type": "markdown",
   "metadata": {},
   "source": [
    "This contract is pretty naive but it demonstrates well what lambdas do. From the `LAMBDA int int { PUSH int 2 ; ADD }` line, you understand that the lambda takes an `int` as an argument and returns an `int`. From the code between curly braces, you understand that `int 2` is going to be pushed onto the stack and added to the parameter received by the lambda. Before we can execute the lambda, we have to make that the parameter(s) it excepts are on top of it in the stack (that's the function of **`SWAP`**). Next, you can use the **`EXEC`** instruction to `exec`ute the lambda. The lambda will take its parameter, run it through the different steps of its code and output a value.\n",
    "\n",
    "It is a very powerful pattern in order to avoid repeating the same piece of code that you need multiple times:"
   ]
  },
  {
   "cell_type": "code",
   "execution_count": 33,
   "metadata": {},
   "outputs": [
    {
     "name": "stdout",
     "output_type": "stream",
     "text": [
      "parameter (pair int int);\n",
      "storage int;\n",
      "code { { { DUP ; CAR ; DIP { CDR } } ; { DUP ; CAR ; DIP { CDR } } } ; LAMBDA int int { PUSH int 2 ; ADD } ; SWAP ; DIP { DUP } ; EXEC ; SWAP ; DUP ; DIG 3 ; EXEC ; SWAP ; DIG 3 ; EXEC ; ADD ; ADD ; NIL operation ; PAIR };\n",
      "RUN: use %default; drop all; push ((5, 6), 7);\n",
      "DUP: push ((5, 6), 7);\n",
      "CAR: pop ((5, 6), 7); push (5, 6);\n",
      "DIP: protect 1 item(s);\n",
      "CDR: pop ((5, 6), 7); push 7;\n",
      "restore 1 item(s);\n",
      "DUP: push (5, 6);\n",
      "CAR: pop (5, 6); push 5;\n",
      "DIP: protect 1 item(s);\n",
      "CDR: pop (5, 6); push 6;\n",
      "restore 1 item(s);\n",
      "LAMBDA: push { PUSH int 2 ; ADD };\n",
      "SWAP: pop { PUSH int 2 ; ADD }, 5; push { PUSH int 2 ; ADD }; push 5;\n",
      "DIP: protect 1 item(s);\n",
      "DUP: push { PUSH int 2 ; ADD };\n",
      "restore 1 item(s);\n",
      "EXEC: pop 5, { PUSH int 2 ; ADD };\n",
      "PUSH: push 2;\n",
      "ADD: pop 2, 5; push 7;\n",
      "pop 7; push 7;\n",
      "SWAP: pop 7, { PUSH int 2 ; ADD }; push 7; push { PUSH int 2 ; ADD };\n",
      "DUP: push { PUSH int 2 ; ADD };\n",
      "DIG: protect 3 item(s); pop 6; restore 3 item(s); push 6;\n",
      "EXEC: pop 6, { PUSH int 2 ; ADD };\n",
      "PUSH: push 2;\n",
      "ADD: pop 2, 6; push 8;\n",
      "pop 8; push 8;\n",
      "SWAP: pop 8, { PUSH int 2 ; ADD }; push 8; push { PUSH int 2 ; ADD };\n",
      "DIG: protect 3 item(s); pop 7; restore 3 item(s); push 7;\n",
      "EXEC: pop 7, { PUSH int 2 ; ADD };\n",
      "PUSH: push 2;\n",
      "ADD: pop 2, 7; push 9;\n",
      "pop 9; push 9;\n",
      "ADD: pop 9, 8; push 17;\n",
      "ADD: pop 17, 7; push 24;\n",
      "NIL: push [];\n",
      "PAIR: pop [], 24; push ([], 24);"
     ]
    },
    {
     "data": {
      "text/html": [
       "<table>\n",
       "<thead>\n",
       "<tr><th>value                                  </th><th>type                                    </th></tr>\n",
       "</thead>\n",
       "<tbody>\n",
       "<tr><td><pre style=&quot;text-align: left;&quot;>24</pre></td><td><pre style=&quot;text-align: left;&quot;>int</pre></td></tr>\n",
       "</tbody>\n",
       "</table>"
      ],
      "text/plain": [
       "  value  type\n",
       "-------  ------\n",
       "     24  int"
      ]
     },
     "execution_count": 33,
     "metadata": {},
     "output_type": "execute_result"
    }
   ],
   "source": [
    "parameter (pair int int) ;\n",
    "storage int ;\n",
    "code {\n",
    "    UNPPAIIR ;\n",
    "    LAMBDA int int { PUSH int 2 ; ADD } ;\n",
    "    SWAP ;\n",
    "    DIP { DUP } ;\n",
    "    EXEC ;\n",
    "    SWAP ;\n",
    "    DUP ;\n",
    "    DIG 3 ;\n",
    "    EXEC ;\n",
    "    SWAP ;\n",
    "    DIG 3 ;\n",
    "    EXEC ;\n",
    "    ADD ;\n",
    "    ADD ;\n",
    "    NIL operation ;\n",
    "    PAIR\n",
    "} ;\n",
    "\n",
    "RUN %default (Pair 5 6) 7 ;"
   ]
  },
  {
   "cell_type": "markdown",
   "metadata": {},
   "source": [
    "This example uses the same lambda as before but this time, we reuse it 3 times with the 3 different `int` values provided in the contract (the two `int` values from the pair passed as a parameter and the `int` in the storage). `2` is added to each of these values before adding them together (`24` is the result of `(5 + 2) + (6 + 2) + (7 + 2)`). This demonstrates how you can reuse the same piece of code in a lambda if it is needed multiple times.\n",
    "\n",
    "> Note: Obviously, you wouldn't use this kind of pattern in a real-world situation and would prefer a loop structure to apply the same code to multiple values, for example with **`LOOP`**.\n",
    "\n",
    "Lambdas can also be stored in storage values like `pair` or `map`, which makes it easy to pass them as parameters or store them to execute them later. Here is a first example with a lambda passed as a parameter:"
   ]
  },
  {
   "cell_type": "code",
   "execution_count": 50,
   "metadata": {},
   "outputs": [
    {
     "name": "stdout",
     "output_type": "stream",
     "text": [
      "parameter (pair int (lambda int int));\n",
      "storage int;\n",
      "code { CAR ; { DUP ; CAR ; DIP { CDR } } ; EXEC ; NIL operation ; PAIR };\n",
      "RUN: use %default; drop all; push ((5, [{'prim': 'PUSH', 'args': [{'prim': 'int'}, {'int': '3'}]}, {'prim': 'ADD'}]), 0);\n",
      "CAR: pop ((5, [{'prim': 'PUSH', 'args': [{'prim': 'int'}, {'int': '3'}]}, {'prim': 'ADD'}]), 0); push (5, [{'prim': 'PUSH', 'args': [{'prim': 'int'}, {'int': '3'}]}, {'prim': 'ADD'}]);\n",
      "DUP: push (5, [{'prim': 'PUSH', 'args': [{'prim': 'int'}, {'int': '3'}]}, {'prim': 'ADD'}]);\n",
      "CAR: pop (5, [{'prim': 'PUSH', 'args': [{'prim': 'int'}, {'int': '3'}]}, {'prim': 'ADD'}]); push 5;\n",
      "DIP: protect 1 item(s);\n",
      "CDR: pop (5, [{'prim': 'PUSH', 'args': [{'prim': 'int'}, {'int': '3'}]}, {'prim': 'ADD'}]); push { PUSH int 3 ; ADD };\n",
      "restore 1 item(s);\n",
      "EXEC: pop 5, { PUSH int 3 ; ADD };\n",
      "PUSH: push 3;\n",
      "ADD: pop 3, 5; push 8;\n",
      "pop 8; push 8;\n",
      "NIL: push [];\n",
      "PAIR: pop [], 8; push ([], 8);"
     ]
    },
    {
     "data": {
      "text/html": [
       "<table>\n",
       "<thead>\n",
       "<tr><th>value                                 </th><th>type                                    </th></tr>\n",
       "</thead>\n",
       "<tbody>\n",
       "<tr><td><pre style=&quot;text-align: left;&quot;>8</pre></td><td><pre style=&quot;text-align: left;&quot;>int</pre></td></tr>\n",
       "</tbody>\n",
       "</table>"
      ],
      "text/plain": [
       "  value  type\n",
       "-------  ------\n",
       "      8  int"
      ]
     },
     "execution_count": 50,
     "metadata": {},
     "output_type": "execute_result"
    }
   ],
   "source": [
    "parameter (pair int (lambda int int)) ;\n",
    "storage int ;\n",
    "code {\n",
    "    CAR ;\n",
    "    UNPAIR ;\n",
    "    EXEC ;\n",
    "    NIL operation ;\n",
    "    PAIR\n",
    "} ;\n",
    "\n",
    "RUN %default (Pair 5 { PUSH int 3 ; ADD }) 0 ;"
   ]
  },
  {
   "cell_type": "markdown",
   "metadata": {},
   "source": [
    "You can see from this example that Michelson doesn't complain much about us passing a lambda as an argument 😊 It goes without saying that the lambda must be correct and fit with the state of the stack when you want to use it.\n",
    "\n",
    "Let's save our lambda in a map and reuse it afterwards:"
   ]
  },
  {
   "cell_type": "code",
   "execution_count": 71,
   "metadata": {},
   "outputs": [
    {
     "name": "stdout",
     "output_type": "stream",
     "text": [
      "parameter (pair string (lambda int int));\n",
      "storage (map string (lambda int int));\n",
      "code { { { DUP ; CAR ; DIP { CDR } } ; { DUP ; CAR ; DIP { CDR } } } ; DUP ; DUG 3 ; DIP { SOME } ; UPDATE ; SWAP ; GET ; IF_NONE { { UNIT ; FAILWITH } } { PUSH int 7 ; EXEC } ; DROP ; PUSH (map string (lambda int int)) {} ; NIL operation ; PAIR };\n",
      "RUN: use %default; drop all; push (('add3', [{'prim': 'PUSH', 'args': [{'prim': 'int'}, {'int': '3'}]}, {'prim': 'ADD'}]), {});\n",
      "DUP: push (('add3', [{'prim': 'PUSH', 'args': [{'prim': 'int'}, {'int': '3'}]}, {'prim': 'ADD'}]), {});\n",
      "CAR: pop (('add3', [{'prim': 'PUSH', 'args': [{'prim': 'int'}, {'int': '3'}]}, {'prim': 'ADD'}]), {}); push ('add3', [{'prim': 'PUSH', 'args': [{'prim': 'int'}, {'int': '3'}]}, {'prim': 'ADD'}]);\n",
      "DIP: protect 1 item(s);\n",
      "CDR: pop (('add3', [{'prim': 'PUSH', 'args': [{'prim': 'int'}, {'int': '3'}]}, {'prim': 'ADD'}]), {}); push {};\n",
      "restore 1 item(s);\n",
      "DUP: push ('add3', [{'prim': 'PUSH', 'args': [{'prim': 'int'}, {'int': '3'}]}, {'prim': 'ADD'}]);\n",
      "CAR: pop ('add3', [{'prim': 'PUSH', 'args': [{'prim': 'int'}, {'int': '3'}]}, {'prim': 'ADD'}]); push add3;\n",
      "DIP: protect 1 item(s);\n",
      "CDR: pop ('add3', [{'prim': 'PUSH', 'args': [{'prim': 'int'}, {'int': '3'}]}, {'prim': 'ADD'}]); push { PUSH int 3 ; ADD };\n",
      "restore 1 item(s);\n",
      "DUP: push add3;\n",
      "DUG: pop add3; protect 3 item(s); push add3; restore 3 item(s);\n",
      "DIP: protect 1 item(s);\n",
      "SOME: pop { PUSH int 3 ; ADD }; push ([{'prim': 'PUSH', 'args': [{'prim': 'int'}, {'int': '3'}]}, {'prim': 'ADD'}],);\n",
      "restore 1 item(s);\n",
      "UPDATE: pop add3, ([{'prim': 'PUSH', 'args': [{'prim': 'int'}, {'int': '3'}]}, {'prim': 'ADD'}],), {}; push {'add3': [{'prim': 'PUSH', 'args': [{'prim': 'int'}, {'int': '3'}]}, {'prim': 'ADD'}]};\n",
      "SWAP: pop {'add3': [{'prim': 'PUSH', 'args': [{'prim': 'int'}, {'int': '3'}]}, {'prim': 'ADD'}]}, add3; push {'add3': [{'prim': 'PUSH', 'args': [{'prim': 'int'}, {'int': '3'}]}, {'prim': 'ADD'}]}; push add3;\n",
      "GET: pop add3, {'add3': [{'prim': 'PUSH', 'args': [{'prim': 'int'}, {'int': '3'}]}, {'prim': 'ADD'}]}; push ([{'prim': 'PUSH', 'args': [{'prim': 'int'}, {'int': '3'}]}, {'prim': 'ADD'}],);\n",
      "IF_NONE: pop ([{'prim': 'PUSH', 'args': [{'prim': 'int'}, {'int': '3'}]}, {'prim': 'ADD'}],); push { PUSH int 3 ; ADD };\n",
      "PUSH: push 7;\n",
      "EXEC: pop 7, { PUSH int 3 ; ADD };\n",
      "PUSH: push 3;\n",
      "ADD: pop 3, 7; push 10;\n",
      "pop 10; push 10;\n",
      "DROP: pop 10;\n",
      "PUSH: push {};\n",
      "NIL: push [];\n",
      "PAIR: pop [], {}; push ([], {});"
     ]
    },
    {
     "data": {
      "text/html": [
       "<table>\n",
       "<thead>\n",
       "<tr><th>value                                  </th><th>type                                                            </th></tr>\n",
       "</thead>\n",
       "<tbody>\n",
       "<tr><td><pre style=&quot;text-align: left;&quot;>{}</pre></td><td><pre style=&quot;text-align: left;&quot;>map string (lambda int int)</pre></td></tr>\n",
       "</tbody>\n",
       "</table>"
      ],
      "text/plain": [
       "value    type\n",
       "-------  ---------------------------\n",
       "{}       map string (lambda int int)"
      ]
     },
     "execution_count": 71,
     "metadata": {},
     "output_type": "execute_result"
    }
   ],
   "source": [
    "parameter (pair string (lambda int int)) ;\n",
    "storage (map string (lambda int int)) ;\n",
    "code {\n",
    "    UNPPAIIR ;\n",
    "    DUP ;\n",
    "    DUG 3 ;\n",
    "    DIP { SOME } ;\n",
    "    UPDATE ;\n",
    "    SWAP ;\n",
    "    GET ;\n",
    "    IF_NONE\n",
    "        { FAIL }\n",
    "        {\n",
    "            PUSH int 7 ;\n",
    "            EXEC ;\n",
    "        } ;\n",
    "    DROP ;\n",
    "    PUSH (map string (lambda int int)) {} ;\n",
    "    NIL operation ;\n",
    "    PAIR ;\n",
    "} ;\n",
    "\n",
    "RUN %default (Pair \"add3\" { PUSH int 3 ; ADD }) {} ;"
   ]
  },
  {
   "cell_type": "markdown",
   "metadata": {},
   "source": [
    "This unuseful contract gets a pair as parameter with the name of the lambda on the left as a `string` and the `lambda` on the right. The storage is a map whose keys are strings and values are lambdas. The contract unwraps the different pairs, duplicates the name of the lambda to find it later, saves it in the name, retrieves it and uses it before returning an empty map.\n",
    "\n",
    "> *Note: saving lambdas in a big map (instead of a simple map) is a pattern used in production by tzBTC. This method allows to change the lambdas and thus the code of the contract. Although it seems like a good idea for upgradable contracts, it obfuscates the actual code and makes it harder to track changes and know what the code really does.*\n",
    "\n",
    "There is another instruction we can use with lambdas call **`APPLY`**. You will probably never use it and rarely see it used but it is worth knowing it exists. In a nutshell, the **`APPLY`** instruction adds two lines of code at the beginning of your lambda: one **`PUSH`** instruction that will push the current value between the **`APPLY`** instruction and the **`LAMBDA`** and one **`PAIR`** instruction that pairs the value added with **`PUSH`** and the parameter passed to the lambda. This kind of pattern can be interesting for lambdas to execute in iterating structures as demonstrated in the example below:"
   ]
  },
  {
   "cell_type": "code",
   "execution_count": 100,
   "metadata": {},
   "outputs": [
    {
     "data": {
      "text/html": [
       "<table>\n",
       "<thead>\n",
       "<tr><th>value                                                    </th><th>type                                         </th></tr>\n",
       "</thead>\n",
       "<tbody>\n",
       "<tr><td><pre style=&quot;text-align: left;&quot;>{ 7 ; 14 ; 21 ; 28 }</pre></td><td><pre style=&quot;text-align: left;&quot;>list int</pre></td></tr>\n",
       "</tbody>\n",
       "</table>"
      ],
      "text/plain": [
       "value                 type\n",
       "--------------------  --------\n",
       "{ 7 ; 14 ; 21 ; 28 }  list int"
      ]
     },
     "execution_count": 100,
     "metadata": {},
     "output_type": "execute_result"
    }
   ],
   "source": [
    "DEBUG False;\n",
    "\n",
    "parameter int;\n",
    "storage (list int);\n",
    "code {\n",
    "      UNPAIR @p @s ; # p :: s\n",
    "      LAMBDA (pair int (pair int int)) int\n",
    "             { UNPAIR ; DIP { UNPAIR } ; ADD ; MUL }; # l :: p :: s\n",
    "      SWAP ; \n",
    "      APPLY ; # l :: s\n",
    "      PUSH int 3 ; \n",
    "      APPLY ; # l :: s\n",
    "      SWAP ; \n",
    "      MAP \n",
    "          { DIP { DUP } ; EXEC } ; # s :: l\n",
    "      DIP { DROP } ; # s\n",
    "      NIL operation; \n",
    "      PAIR \n",
    "};\n",
    "\n",
    "RUN %default 4 {1 ; 2 ; 3 ; 4} ;"
   ]
  },
  {
   "cell_type": "markdown",
   "metadata": {},
   "source": [
    "> The code for this example can be found [here](https://gitlab.com/tezos/tezos/-/blob/master/tests_python/contracts/opcodes/pexec_2.tz)."
   ]
  },
  {
   "cell_type": "code",
   "execution_count": null,
   "metadata": {},
   "outputs": [],
   "source": []
  }
 ],
 "metadata": {
  "kernelspec": {
   "display_name": "Michelson",
   "language": "michelson",
   "name": "michelson"
  },
  "language_info": {
   "codemirror_mode": "michelson",
   "file_extension": ".tz",
   "mimetype": "text/x-michelson",
   "name": "Michelson"
  }
 },
 "nbformat": 4,
 "nbformat_minor": 4
}

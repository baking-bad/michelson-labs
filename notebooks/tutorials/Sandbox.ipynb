{
 "cells": [
  {
   "cell_type": "markdown",
   "metadata": {},
   "source": [
    "### This is only used to test code before adding it to the tutorials"
   ]
  },
  {
   "cell_type": "code",
   "execution_count": 7,
   "metadata": {},
   "outputs": [
    {
     "name": "stdout",
     "output_type": "stream",
     "text": [
      "storage unit;\n",
      "parameter unit;"
     ]
    }
   ],
   "source": [
    "storage unit ;\n",
    "parameter unit ;"
   ]
  },
  {
   "cell_type": "code",
   "execution_count": 8,
   "metadata": {},
   "outputs": [
    {
     "data": {
      "text/html": [
       "<table>\n",
       "<thead>\n",
       "<tr><th>value                                              </th><th>type                                               </th></tr>\n",
       "</thead>\n",
       "<tbody>\n",
       "<tr><td><pre style=&quot;text-align: left;&quot;>Pair Unit Unit</pre></td><td><pre style=&quot;text-align: left;&quot;>pair unit unit</pre></td></tr>\n",
       "</tbody>\n",
       "</table>"
      ],
      "text/plain": [
       "value           type\n",
       "--------------  --------------\n",
       "Pair Unit Unit  pair unit unit"
      ]
     },
     "execution_count": 8,
     "metadata": {},
     "output_type": "execute_result"
    }
   ],
   "source": [
    "BEGIN Unit Unit ;"
   ]
  },
  {
   "cell_type": "code",
   "execution_count": 17,
   "metadata": {},
   "outputs": [
    {
     "name": "stdout",
     "output_type": "stream",
     "text": [
      "DROP_ALL: drop all;\n",
      "PUSH: push 4;\n",
      "PUSH: push 9;\n",
      "EDIV: pop 9, 4; push ((2, 1),);\n",
      "IF_NONE: pop ((2, 1),); push (2, 1);\n",
      "  DUP: push (2, 1);\n",
      "  CAR: pop (2, 1); push 2;\n",
      "  SWAP: pop 2, (2, 1); push 2; push (2, 1);\n",
      "  CDR: pop (2, 1); push 1;"
     ]
    },
    {
     "data": {
      "text/html": [
       "<table>\n",
       "<thead>\n",
       "<tr><th>value                                 </th><th>type                                    </th><th>name                                           </th></tr>\n",
       "</thead>\n",
       "<tbody>\n",
       "<tr><td><pre style=&quot;text-align: left;&quot;>1</pre></td><td><pre style=&quot;text-align: left;&quot;>nat</pre></td><td><pre style=&quot;text-align: left;&quot;>@remainder</pre></td></tr>\n",
       "</tbody>\n",
       "</table>"
      ],
      "text/plain": [
       "  value  type    name\n",
       "-------  ------  ----------\n",
       "      1  nat     @remainder"
      ]
     },
     "execution_count": 17,
     "metadata": {},
     "output_type": "execute_result"
    }
   ],
   "source": [
    "DROP ;\n",
    "PUSH int 4 ;\n",
    "PUSH int 9 ;\n",
    "EDIV ;\n",
    "IF_NONE\n",
    "    { FAIL }\n",
    "    { \n",
    "        DUP ;\n",
    "        CAR @quotient ;\n",
    "        SWAP ;\n",
    "        CDR @remainder ;\n",
    "    }"
   ]
  },
  {
   "cell_type": "code",
   "execution_count": 18,
   "metadata": {},
   "outputs": [
    {
     "data": {
      "text/html": [
       "<table>\n",
       "<thead>\n",
       "<tr><th>value                                 </th><th>type                                    </th><th>name                                           </th></tr>\n",
       "</thead>\n",
       "<tbody>\n",
       "<tr><td><pre style=&quot;text-align: left;&quot;>1</pre></td><td><pre style=&quot;text-align: left;&quot;>nat</pre></td><td><pre style=&quot;text-align: left;&quot;>@remainder</pre></td></tr>\n",
       "<tr><td><pre style=&quot;text-align: left;&quot;>2</pre></td><td><pre style=&quot;text-align: left;&quot;>int</pre></td><td><pre style=&quot;text-align: left;&quot;>@quotient</pre> </td></tr>\n",
       "</tbody>\n",
       "</table>"
      ],
      "text/plain": [
       "  value  type    name\n",
       "-------  ------  ----------\n",
       "      1  nat     @remainder\n",
       "      2  int     @quotient"
      ]
     },
     "execution_count": 18,
     "metadata": {},
     "output_type": "execute_result"
    }
   ],
   "source": [
    "DUMP ;"
   ]
  },
  {
   "cell_type": "markdown",
   "metadata": {},
   "source": [
    "----------------------------"
   ]
  },
  {
   "cell_type": "code",
   "execution_count": 17,
   "metadata": {},
   "outputs": [
    {
     "name": "stdout",
     "output_type": "stream",
     "text": [
      "storage mutez;\n",
      "parameter unit;\n",
      "BEGIN: use %default; drop all; push (Unit, 1000);\n",
      "PATCH: set AMOUNT=10000000;\n",
      "PATCH: set BALANCE=25700000;"
     ]
    }
   ],
   "source": [
    "storage mutez ;\n",
    "parameter unit ;\n",
    "BEGIN Unit 1000 ;\n",
    "PATCH AMOUNT 10000000 ;\n",
    "PATCH BALANCE 25700000 ;"
   ]
  },
  {
   "cell_type": "code",
   "execution_count": 18,
   "metadata": {},
   "outputs": [
    {
     "name": "stdout",
     "output_type": "stream",
     "text": [
      "DROP: pop (Unit, 1000);\n",
      "AMOUNT: push 10000000;\n",
      "BALANCE: push 25700000;\n",
      "ADD: pop 25700000, 10000000; push 35700000;\n",
      "DUP: push 35700000;\n",
      "PUSH: push 100000000;"
     ]
    },
    {
     "data": {
      "text/html": [
       "<table>\n",
       "<thead>\n",
       "<tr><th>value                                         </th><th>type                                      </th><th>name                                             </th></tr>\n",
       "</thead>\n",
       "<tbody>\n",
       "<tr><td><pre style=&quot;text-align: left;&quot;>100000000</pre></td><td><pre style=&quot;text-align: left;&quot;>mutez</pre></td><td><pre style=&quot;text-align: left;&quot;>@limit</pre>      </td></tr>\n",
       "<tr><td><pre style=&quot;text-align: left;&quot;>35700000</pre> </td><td><pre style=&quot;text-align: left;&quot;>mutez</pre></td><td><pre style=&quot;text-align: left;&quot;>@new_balance</pre></td></tr>\n",
       "<tr><td><pre style=&quot;text-align: left;&quot;>35700000</pre> </td><td><pre style=&quot;text-align: left;&quot;>mutez</pre></td><td>                                                 </td></tr>\n",
       "</tbody>\n",
       "</table>"
      ],
      "text/plain": [
       "    value  type    name\n",
       "---------  ------  ------------\n",
       "100000000  mutez   @limit\n",
       " 35700000  mutez   @new_balance\n",
       " 35700000  mutez"
      ]
     },
     "execution_count": 18,
     "metadata": {},
     "output_type": "execute_result"
    }
   ],
   "source": [
    "DROP ;\n",
    "AMOUNT ;\n",
    "BALANCE ;\n",
    "ADD ;\n",
    "DUP @new_balance ;\n",
    "PUSH @limit mutez 100000000 ; # 100 tez\n",
    "DUMP ;"
   ]
  },
  {
   "cell_type": "code",
   "execution_count": 19,
   "metadata": {},
   "outputs": [
    {
     "name": "stdout",
     "output_type": "stream",
     "text": [
      "COMPARE: pop 100000000, 35700000; push 1;\n",
      "GT: pop 1; push True;\n",
      "IF: pop True;\n",
      "  NIL: push [];\n",
      "  PAIR: pop [], 35700000; push ([], 35700000);"
     ]
    },
    {
     "data": {
      "text/html": [
       "<table>\n",
       "<thead>\n",
       "<tr><th>value                                                </th><th>type                                                            </th></tr>\n",
       "</thead>\n",
       "<tbody>\n",
       "<tr><td><pre style=&quot;text-align: left;&quot;>Pair {} 35700000</pre></td><td><pre style=&quot;text-align: left;&quot;>pair (list operation) mutez</pre></td></tr>\n",
       "</tbody>\n",
       "</table>"
      ],
      "text/plain": [
       "value             type\n",
       "----------------  ---------------------------\n",
       "Pair {} 35700000  pair (list operation) mutez"
      ]
     },
     "execution_count": 19,
     "metadata": {},
     "output_type": "execute_result"
    }
   ],
   "source": [
    "IFCMPGT\n",
    "    { NIL operation ; PAIR }\n",
    "    { PUSH string \"BalanceExceeded\" ; FAILWITH }"
   ]
  },
  {
   "cell_type": "code",
   "execution_count": 20,
   "metadata": {},
   "outputs": [
    {
     "data": {
      "text/html": [
       "<table>\n",
       "<thead>\n",
       "<tr><th>value                                        </th><th>type                                      </th></tr>\n",
       "</thead>\n",
       "<tbody>\n",
       "<tr><td><pre style=&quot;text-align: left;&quot;>35700000</pre></td><td><pre style=&quot;text-align: left;&quot;>mutez</pre></td></tr>\n",
       "</tbody>\n",
       "</table>"
      ],
      "text/plain": [
       "   value  type\n",
       "--------  ------\n",
       "35700000  mutez"
      ]
     },
     "execution_count": 20,
     "metadata": {},
     "output_type": "execute_result"
    }
   ],
   "source": [
    "COMMIT"
   ]
  },
  {
   "cell_type": "code",
   "execution_count": 25,
   "metadata": {},
   "outputs": [
    {
     "name": "stdout",
     "output_type": "stream",
     "text": [
      "storage unit;\n",
      "parameter unit;\n",
      "code { DROP ; PATCH AMOUNT 5670000 ; AMOUNT ; PUSH mutez 0 ; { { COMPARE ; EQ } ; IF { { UNIT ; FAILWITH } } { PUSH address \"tz1VSUr8wwNhLAzempoch5d6hLRiTh8Cjcjb\" ; CONTRACT unit ; IF_NONE { { UNIT ; FAILWITH } } { AMOUNT ; UNIT ; TRANSFER_TOKENS ; NIL operation ; SWAP ; CONS ; UNIT ; SWAP ; PAIR } } } };\n",
      "RUN: use %default; drop all; push (Unit, Unit);\n",
      "DROP: pop (Unit, Unit);\n",
      "PATCH: set AMOUNT=5670000;\n",
      "AMOUNT: push 5670000;\n",
      "PUSH: push 0;\n",
      "COMPARE: pop 0, 5670000; push -1;\n",
      "EQ: pop -1; push False;\n",
      "IF: pop False;\n",
      "PUSH: push tz1VSUr8wwNhLAzempoch5d6hLRiTh8Cjcjb;\n",
      "CONTRACT: pop tz1VSUr8wwNhLAzempoch5d6hLRiTh8Cjcjb; skip check; push ('tz1VSUr8wwNhLAzempoch5d6hLRiTh8Cjcjb%default',);\n",
      "IF_NONE: pop ('tz1VSUr8wwNhLAzempoch5d6hLRiTh8Cjcjb%default',); push tz1VSUr8wwNhLAzempoch5d6hLRiTh8Cjcjb%default;\n",
      "AMOUNT: push 5670000;\n",
      "UNIT: push Unit;\n",
      "TRANSFER_TOKENS: pop Unit, 5670000, tz1VSUr8wwNhLAzempoch5d6hLRiTh8Cjcjb%default; set BALANCE=10030000; push <send 5670000 to tz1VSUr8wwNhLAzempoch5d6hLRiTh8Cjcjb>;\n",
      "NIL: push [];\n",
      "SWAP: pop [], <send 5670000 to tz1VSUr8wwNhLAzempoch5d6hLRiTh8Cjcjb>; push []; push <send 5670000 to tz1VSUr8wwNhLAzempoch5d6hLRiTh8Cjcjb>;\n",
      "CONS: pop <send 5670000 to tz1VSUr8wwNhLAzempoch5d6hLRiTh8Cjcjb>, []; push ['<send 5670000 to tz1VSUr8wwNhLAzempoch5d6hLRiTh8Cjcjb>'];\n",
      "UNIT: push Unit;\n",
      "SWAP: pop Unit, ['<send 5670000 to tz1VSUr8wwNhLAzempoch5d6hLRiTh8Cjcjb>']; push Unit; push ['<send 5670000 to tz1VSUr8wwNhLAzempoch5d6hLRiTh8Cjcjb>'];\n",
      "PAIR: pop ['<send 5670000 to tz1VSUr8wwNhLAzempoch5d6hLRiTh8Cjcjb>'], Unit; push (['<send 5670000 to tz1VSUr8wwNhLAzempoch5d6hLRiTh8Cjcjb>'], Unit);"
     ]
    },
    {
     "data": {
      "text/html": [
       "<table>\n",
       "<thead>\n",
       "<tr><th>value                                    </th><th>type                                     </th></tr>\n",
       "</thead>\n",
       "<tbody>\n",
       "<tr><td><pre style=&quot;text-align: left;&quot;>Unit</pre></td><td><pre style=&quot;text-align: left;&quot;>unit</pre></td></tr>\n",
       "</tbody>\n",
       "</table><br><table>\n",
       "<thead>\n",
       "<tr><th>kind                                            </th><th>target                                                                   </th><th>amount                                      </th><th>entrypoint                                  </th><th>parameters                               </th></tr>\n",
       "</thead>\n",
       "<tbody>\n",
       "<tr><td><pre style=&quot;text-align: left;&quot;>transaction</pre></td><td><pre style=&quot;text-align: left;&quot;>tz1VSUr8wwNhLAzempoch5d6hLRiTh8Cjcjb</pre></td><td><pre style=&quot;text-align: left;&quot;>5670000</pre></td><td><pre style=&quot;text-align: left;&quot;>default</pre></td><td><pre style=&quot;text-align: left;&quot;>Unit</pre></td></tr>\n",
       "</tbody>\n",
       "</table>"
      ],
      "text/plain": [
       "value    type\n",
       "-------  ------\n",
       "Unit     unit\n",
       "kind         target                                  amount  entrypoint    parameters\n",
       "-----------  ------------------------------------  --------  ------------  ------------\n",
       "transaction  tz1VSUr8wwNhLAzempoch5d6hLRiTh8Cjcjb   5670000  default       Unit"
      ]
     },
     "execution_count": 25,
     "metadata": {},
     "output_type": "execute_result"
    }
   ],
   "source": [
    "storage unit ;\n",
    "parameter unit ;\n",
    "code {\n",
    "    DROP ;\n",
    "    PATCH AMOUNT 5670000 ;\n",
    "    AMOUNT ;\n",
    "    PUSH mutez 0 ;\n",
    "    IFCMPEQ\n",
    "        { FAIL }\n",
    "        {\n",
    "            PUSH address \"tz1VSUr8wwNhLAzempoch5d6hLRiTh8Cjcjb\" ;\n",
    "            CONTRACT unit ;\n",
    "            IF_NONE\n",
    "                { FAIL }\n",
    "                {\n",
    "                    AMOUNT ;\n",
    "                    UNIT ;\n",
    "                    TRANSFER_TOKENS ;\n",
    "                    NIL operation ;\n",
    "                    SWAP ;\n",
    "                    CONS ;\n",
    "                    UNIT ;\n",
    "                    SWAP ;\n",
    "                    PAIR\n",
    "                }\n",
    "        }\n",
    "} ;\n",
    "\n",
    "RUN %default Unit Unit ;"
   ]
  },
  {
   "cell_type": "code",
   "execution_count": 30,
   "metadata": {},
   "outputs": [
    {
     "name": "stdout",
     "output_type": "stream",
     "text": [
      "storage address;\n",
      "parameter unit;\n",
      "code { PATCH BALANCE 101000000 ; PATCH AMOUNT 9000000 ; CDR ; PUSH mutez 100000000 ; BALANCE ; { { COMPARE ; LT } ; IF { PUSH string \"INSUFFICIENT_BALANCE\" ; FAILWITH } { PUSH mutez 0 ; AMOUNT ; { { COMPARE ; EQ } ; IF { PUSH string \"INSUFFICIENT_AMOUNT\" ; FAILWITH } { PUSH nat 2 ; AMOUNT ; EDIV ; IF_NONE { { UNIT ; FAILWITH } } { CAR ; DIP { DUP } ; SWAP ; CONTRACT unit ; IF_NONE { { UNIT ; FAILWITH } } { SWAP ; UNIT ; TRANSFER_TOKENS ; NIL operation ; SWAP ; CONS ; PAIR } } } } } } };\n",
      "RUN: use %default; drop all; push (Unit, 'tz1VSUr8wwNhLAzempoch5d6hLRiTh8Cjcjb');\n",
      "PATCH: set BALANCE=101000000;\n",
      "PATCH: set AMOUNT=9000000;\n",
      "CDR: pop (Unit, 'tz1VSUr8wwNhLAzempoch5d6hLRiTh8Cjcjb'); push tz1VSUr8wwNhLAzempoch5d6hLRiTh8Cjcjb;\n",
      "PUSH: push 100000000;\n",
      "BALANCE: push 101000000;\n",
      "COMPARE: pop 101000000, 100000000; push 1;\n",
      "LT: pop 1; push False;\n",
      "IF: pop False;\n",
      "PUSH: push 0;\n",
      "AMOUNT: push 9000000;\n",
      "COMPARE: pop 9000000, 0; push 1;\n",
      "EQ: pop 1; push False;\n",
      "IF: pop False;\n",
      "PUSH: push 2;\n",
      "AMOUNT: push 9000000;\n",
      "EDIV: pop 9000000, 2; push ((4500000, 0),);\n",
      "IF_NONE: pop ((4500000, 0),); push (4500000, 0);\n",
      "  CAR: pop (4500000, 0); push 4500000;\n",
      "  DIP: protect 1 item(s);\n",
      "    DUP: push tz1VSUr8wwNhLAzempoch5d6hLRiTh8Cjcjb;\n",
      "    restore 1 item(s);\n",
      "  SWAP: pop 4500000, tz1VSUr8wwNhLAzempoch5d6hLRiTh8Cjcjb; push 4500000; push tz1VSUr8wwNhLAzempoch5d6hLRiTh8Cjcjb;\n",
      "  CONTRACT: pop tz1VSUr8wwNhLAzempoch5d6hLRiTh8Cjcjb; skip check; push ('tz1VSUr8wwNhLAzempoch5d6hLRiTh8Cjcjb%default',);\n",
      "  IF_NONE: pop ('tz1VSUr8wwNhLAzempoch5d6hLRiTh8Cjcjb%default',); push tz1VSUr8wwNhLAzempoch5d6hLRiTh8Cjcjb%default;\n",
      "    SWAP: pop tz1VSUr8wwNhLAzempoch5d6hLRiTh8Cjcjb%default, 4500000; push tz1VSUr8wwNhLAzempoch5d6hLRiTh8Cjcjb%default; push 4500000;\n",
      "    UNIT: push Unit;\n",
      "    TRANSFER_TOKENS: pop Unit, 4500000, tz1VSUr8wwNhLAzempoch5d6hLRiTh8Cjcjb%default; set BALANCE=96500000; push <send 4500000 to tz1VSUr8wwNhLAzempoch5d6hLRiTh8Cjcjb>;\n",
      "    NIL: push [];\n",
      "    SWAP: pop [], <send 4500000 to tz1VSUr8wwNhLAzempoch5d6hLRiTh8Cjcjb>; push []; push <send 4500000 to tz1VSUr8wwNhLAzempoch5d6hLRiTh8Cjcjb>;\n",
      "    CONS: pop <send 4500000 to tz1VSUr8wwNhLAzempoch5d6hLRiTh8Cjcjb>, []; push ['<send 4500000 to tz1VSUr8wwNhLAzempoch5d6hLRiTh8Cjcjb>'];\n",
      "    PAIR: pop ['<send 4500000 to tz1VSUr8wwNhLAzempoch5d6hLRiTh8Cjcjb>'], tz1VSUr8wwNhLAzempoch5d6hLRiTh8Cjcjb; push (['<send 4500000 to tz1VSUr8wwNhLAzempoch5d6hLRiTh8Cjcjb>'], 'tz1VSUr8wwNhLAzempoch5d6hLRiTh8Cjcjb');"
     ]
    },
    {
     "data": {
      "text/html": [
       "<table>\n",
       "<thead>\n",
       "<tr><th>value                                                                      </th><th>type                                        </th></tr>\n",
       "</thead>\n",
       "<tbody>\n",
       "<tr><td><pre style=&quot;text-align: left;&quot;>&quot;tz1VSUr8wwNhLAzempoch5d6hLRiTh8Cjcjb&quot;</pre></td><td><pre style=&quot;text-align: left;&quot;>address</pre></td></tr>\n",
       "</tbody>\n",
       "</table><br><table>\n",
       "<thead>\n",
       "<tr><th>kind                                            </th><th>target                                                                   </th><th>amount                                      </th><th>entrypoint                                  </th><th>parameters                               </th></tr>\n",
       "</thead>\n",
       "<tbody>\n",
       "<tr><td><pre style=&quot;text-align: left;&quot;>transaction</pre></td><td><pre style=&quot;text-align: left;&quot;>tz1VSUr8wwNhLAzempoch5d6hLRiTh8Cjcjb</pre></td><td><pre style=&quot;text-align: left;&quot;>4500000</pre></td><td><pre style=&quot;text-align: left;&quot;>default</pre></td><td><pre style=&quot;text-align: left;&quot;>Unit</pre></td></tr>\n",
       "</tbody>\n",
       "</table>"
      ],
      "text/plain": [
       "value                                   type\n",
       "--------------------------------------  -------\n",
       "\"tz1VSUr8wwNhLAzempoch5d6hLRiTh8Cjcjb\"  address\n",
       "kind         target                                  amount  entrypoint    parameters\n",
       "-----------  ------------------------------------  --------  ------------  ------------\n",
       "transaction  tz1VSUr8wwNhLAzempoch5d6hLRiTh8Cjcjb   4500000  default       Unit"
      ]
     },
     "execution_count": 30,
     "metadata": {},
     "output_type": "execute_result"
    }
   ],
   "source": [
    "storage address ;\n",
    "parameter unit ;\n",
    "code {\n",
    "    PATCH BALANCE 101000000 ;\n",
    "    PATCH AMOUNT 9000000 ;\n",
    "    CDR ;\n",
    "    PUSH mutez 100000000 ;\n",
    "    BALANCE ;\n",
    "    IFCMPLT\n",
    "        { PUSH string \"INSUFFICIENT_BALANCE\" ; FAILWITH }\n",
    "        {\n",
    "            PUSH mutez 0 ;\n",
    "            AMOUNT ;\n",
    "            IFCMPEQ\n",
    "                { PUSH string \"INSUFFICIENT_AMOUNT\" ; FAILWITH }\n",
    "                {\n",
    "                    PUSH nat 2 ;\n",
    "                    AMOUNT ;\n",
    "                    EDIV ;\n",
    "                    IF_NONE\n",
    "                        { FAIL }\n",
    "                        {\n",
    "                            CAR ;\n",
    "                            DIP { DUP } ;\n",
    "                            SWAP ;\n",
    "                            CONTRACT unit ;\n",
    "                            IF_NONE\n",
    "                                { FAIL }\n",
    "                                {\n",
    "                                    SWAP ;\n",
    "                                    UNIT ;\n",
    "                                    TRANSFER_TOKENS ;\n",
    "                                    NIL operation ;\n",
    "                                    SWAP ;\n",
    "                                    CONS ;\n",
    "                                    PAIR\n",
    "                                }\n",
    "                        }\n",
    "                }\n",
    "        }\n",
    "} ;\n",
    "RUN %default Unit \"tz1VSUr8wwNhLAzempoch5d6hLRiTh8Cjcjb\" ;"
   ]
  },
  {
   "cell_type": "code",
   "execution_count": 7,
   "metadata": {},
   "outputs": [
    {
     "name": "stdout",
     "output_type": "stream",
     "text": [
      "storage (list string);\n",
      "parameter string;\n",
      "BEGIN: use %default; drop all; push ('tezos', []);"
     ]
    },
    {
     "data": {
      "text/html": [
       "<table>\n",
       "<thead>\n",
       "<tr><th>value                                               </th><th>type                                                          </th></tr>\n",
       "</thead>\n",
       "<tbody>\n",
       "<tr><td><pre style=&quot;text-align: left;&quot;>Pair &quot;tezos&quot; {}</pre></td><td><pre style=&quot;text-align: left;&quot;>pair string (list string)</pre></td></tr>\n",
       "</tbody>\n",
       "</table>"
      ],
      "text/plain": [
       "value            type\n",
       "---------------  -------------------------\n",
       "Pair \"tezos\" {}  pair string (list string)"
      ]
     },
     "execution_count": 7,
     "metadata": {},
     "output_type": "execute_result"
    }
   ],
   "source": [
    "storage (list string) ;\n",
    "parameter string ;\n",
    "BEGIN \"tezos\" {};"
   ]
  },
  {
   "cell_type": "code",
   "execution_count": 8,
   "metadata": {},
   "outputs": [
    {
     "name": "stdout",
     "output_type": "stream",
     "text": [
      "DUP: push ('tezos', []);\n",
      "CAR: pop ('tezos', []); push tezos;\n",
      "SWAP: pop tezos, ('tezos', []); push tezos; push ('tezos', []);\n",
      "CDR: pop ('tezos', []); push [];"
     ]
    },
    {
     "data": {
      "text/html": [
       "<table>\n",
       "<thead>\n",
       "<tr><th>value                                       </th><th>type                                            </th></tr>\n",
       "</thead>\n",
       "<tbody>\n",
       "<tr><td><pre style=&quot;text-align: left;&quot;>{}</pre>     </td><td><pre style=&quot;text-align: left;&quot;>list string</pre></td></tr>\n",
       "<tr><td><pre style=&quot;text-align: left;&quot;>&quot;tezos&quot;</pre></td><td><pre style=&quot;text-align: left;&quot;>string</pre>     </td></tr>\n",
       "</tbody>\n",
       "</table>"
      ],
      "text/plain": [
       "value    type\n",
       "-------  -----------\n",
       "{}       list string\n",
       "\"tezos\"  string"
      ]
     },
     "execution_count": 8,
     "metadata": {},
     "output_type": "execute_result"
    }
   ],
   "source": [
    "DUP ; CAR ; SWAP ; CDR ; DUMP ;"
   ]
  },
  {
   "cell_type": "code",
   "execution_count": 9,
   "metadata": {},
   "outputs": [
    {
     "name": "stdout",
     "output_type": "stream",
     "text": [
      "IF_CONS: pop [];\n",
      "  NIL: push [];\n",
      "  SWAP: pop [], tezos; push []; push tezos;\n",
      "  CONS: pop tezos, []; push ['tezos'];"
     ]
    },
    {
     "data": {
      "text/html": [
       "<table>\n",
       "<thead>\n",
       "<tr><th>value                                           </th><th>type                                            </th></tr>\n",
       "</thead>\n",
       "<tbody>\n",
       "<tr><td><pre style=&quot;text-align: left;&quot;>{ &quot;tezos&quot; }</pre></td><td><pre style=&quot;text-align: left;&quot;>list string</pre></td></tr>\n",
       "</tbody>\n",
       "</table>"
      ],
      "text/plain": [
       "value        type\n",
       "-----------  -----------\n",
       "{ \"tezos\" }  list string"
      ]
     },
     "execution_count": 9,
     "metadata": {},
     "output_type": "execute_result"
    }
   ],
   "source": [
    "IF_CONS\n",
    "    { FAIL }\n",
    "    { NIL string ; SWAP ; CONS } ;\n",
    "DUMP ;"
   ]
  },
  {
   "cell_type": "code",
   "execution_count": 19,
   "metadata": {},
   "outputs": [
    {
     "name": "stdout",
     "output_type": "stream",
     "text": [
      "storage int;\n",
      "parameter (list int);\n",
      "BEGIN: use %default; drop all; push ([7, 9, 3], 0);\n",
      "CAR: pop ([7, 9, 3], 0); push [7, 9, 3];"
     ]
    },
    {
     "data": {
      "text/html": [
       "<table>\n",
       "<thead>\n",
       "<tr><th>value                                             </th><th>type                                         </th></tr>\n",
       "</thead>\n",
       "<tbody>\n",
       "<tr><td><pre style=&quot;text-align: left;&quot;>{ 7 ; 9 ; 3 }</pre></td><td><pre style=&quot;text-align: left;&quot;>list int</pre></td></tr>\n",
       "</tbody>\n",
       "</table>"
      ],
      "text/plain": [
       "value          type\n",
       "-------------  --------\n",
       "{ 7 ; 9 ; 3 }  list int"
      ]
     },
     "execution_count": 19,
     "metadata": {},
     "output_type": "execute_result"
    }
   ],
   "source": [
    "storage int ;\n",
    "parameter (list int) ;\n",
    "BEGIN { 7 ; 9 ; 3 } 0;\n",
    "CAR ; DUMP ;"
   ]
  },
  {
   "cell_type": "code",
   "execution_count": 20,
   "metadata": {},
   "outputs": [
    {
     "name": "stdout",
     "output_type": "stream",
     "text": [
      "ITER: pop [7, 9, 3]; push 7;\n",
      "  PUSH: push 2;\n",
      "  ADD: pop 2, 7; push 9;\n",
      "  push 9;\n",
      "  PUSH: push 2;\n",
      "  ADD: pop 2, 9; push 11;\n",
      "  push 3;\n",
      "  PUSH: push 2;\n",
      "  ADD: pop 2, 3; push 5;"
     ]
    },
    {
     "data": {
      "text/html": [
       "<table>\n",
       "<thead>\n",
       "<tr><th>value                                  </th><th>type                                    </th></tr>\n",
       "</thead>\n",
       "<tbody>\n",
       "<tr><td><pre style=&quot;text-align: left;&quot;>5</pre> </td><td><pre style=&quot;text-align: left;&quot;>int</pre></td></tr>\n",
       "<tr><td><pre style=&quot;text-align: left;&quot;>11</pre></td><td><pre style=&quot;text-align: left;&quot;>int</pre></td></tr>\n",
       "<tr><td><pre style=&quot;text-align: left;&quot;>9</pre> </td><td><pre style=&quot;text-align: left;&quot;>int</pre></td></tr>\n",
       "</tbody>\n",
       "</table>"
      ],
      "text/plain": [
       "  value  type\n",
       "-------  ------\n",
       "      5  int\n",
       "     11  int\n",
       "      9  int"
      ]
     },
     "execution_count": 20,
     "metadata": {},
     "output_type": "execute_result"
    }
   ],
   "source": [
    "ITER { PUSH int 2 ; ADD } ;\n",
    "DUMP ;"
   ]
  },
  {
   "cell_type": "code",
   "execution_count": 10,
   "metadata": {},
   "outputs": [
    {
     "name": "stdout",
     "output_type": "stream",
     "text": [
      "storage (list string);\n",
      "parameter (list string);\n",
      "code { CAR ; MAP { DUP ; SIZE ; PUSH nat 5 ; { { COMPARE ; GE } ; IF {} { PUSH string \"X\" } } } ; NIL operation ; PAIR };\n",
      "RUN: use %default; drop all; push (['tezos', 'bakingbad', 'taco', 'crypto'], []);\n",
      "CAR: pop (['tezos', 'bakingbad', 'taco', 'crypto'], []); push ['tezos', 'bakingbad', 'taco', 'crypto'];\n",
      "MAP: pop ['tezos', 'bakingbad', 'taco', 'crypto']; push tezos;\n",
      "DUP: push tezos;\n",
      "SIZE: pop tezos; push 5;\n",
      "PUSH: push 5;\n",
      "COMPARE: pop 5, 5; push 0;\n",
      "GE: pop 0; push True;\n",
      "IF: pop True;\n",
      "pop tezos; push bakingbad;\n",
      "DUP: push bakingbad;\n",
      "SIZE: pop bakingbad; push 9;\n",
      "PUSH: push 5;\n",
      "COMPARE: pop 5, 9; push -1;\n",
      "GE: pop -1; push False;\n",
      "IF: pop False;\n",
      "PUSH: push X;\n",
      "pop X; push taco;\n",
      "DUP: push taco;\n",
      "SIZE: pop taco; push 4;\n",
      "PUSH: push 5;\n",
      "COMPARE: pop 5, 4; push 1;\n",
      "GE: pop 1; push True;\n",
      "IF: pop True;\n",
      "pop taco; push crypto;\n",
      "DUP: push crypto;\n",
      "SIZE: pop crypto; push 6;\n",
      "PUSH: push 5;\n",
      "COMPARE: pop 5, 6; push -1;\n",
      "GE: pop -1; push False;\n",
      "IF: pop False;\n",
      "PUSH: push X;\n",
      "pop X; push ['tezos', 'X', 'taco', 'X'];\n",
      "NIL: push [];\n",
      "PAIR: pop [], ['tezos', 'X', 'taco', 'X']; push ([], ['tezos', 'X', 'taco', 'X']);"
     ]
    },
    {
     "data": {
      "text/html": [
       "<table>\n",
       "<thead>\n",
       "<tr><th>value                                                                </th><th>type                                            </th></tr>\n",
       "</thead>\n",
       "<tbody>\n",
       "<tr><td><pre style=&quot;text-align: left;&quot;>{ &quot;tezos&quot; ; &quot;X&quot; ; &quot;taco&quot; ; &quot;X&quot; }</pre></td><td><pre style=&quot;text-align: left;&quot;>list string</pre></td></tr>\n",
       "</tbody>\n",
       "</table>"
      ],
      "text/plain": [
       "value                             type\n",
       "--------------------------------  -----------\n",
       "{ \"tezos\" ; \"X\" ; \"taco\" ; \"X\" }  list string"
      ]
     },
     "execution_count": 10,
     "metadata": {},
     "output_type": "execute_result"
    }
   ],
   "source": [
    "storage (list string) ;\n",
    "parameter (list string) ;\n",
    "code {\n",
    "    CAR ;\n",
    "    MAP {\n",
    "        DUP ;\n",
    "        SIZE ;\n",
    "        PUSH nat 5 ;\n",
    "        IFCMPGE\n",
    "            {}\n",
    "            { PUSH string \"X\" }\n",
    "    } ;\n",
    "    NIL operation ;\n",
    "    PAIR\n",
    "} ;\n",
    "\n",
    "RUN %default { \"tezos\" ; \"bakingbad\" ; \"taco\" ; \"crypto\" } {} ;"
   ]
  },
  {
   "cell_type": "code",
   "execution_count": 21,
   "metadata": {},
   "outputs": [
    {
     "name": "stdout",
     "output_type": "stream",
     "text": [
      "storage unit;\n",
      "parameter unit;\n",
      "BEGIN: use %default; drop all; push (Unit, Unit);\n",
      "PUSH: push ('stuff',);"
     ]
    },
    {
     "data": {
      "text/html": [
       "<table>\n",
       "<thead>\n",
       "<tr><th>value                                            </th><th>type                                              </th></tr>\n",
       "</thead>\n",
       "<tbody>\n",
       "<tr><td><pre style=&quot;text-align: left;&quot;>Some &quot;stuff&quot;</pre></td><td><pre style=&quot;text-align: left;&quot;>option string</pre></td></tr>\n",
       "</tbody>\n",
       "</table>"
      ],
      "text/plain": [
       "value         type\n",
       "------------  -------------\n",
       "Some \"stuff\"  option string"
      ]
     },
     "execution_count": 21,
     "metadata": {},
     "output_type": "execute_result"
    }
   ],
   "source": [
    "storage unit ;\n",
    "parameter unit ;\n",
    "BEGIN Unit Unit ;\n",
    "PUSH (option string) (Some \"stuff\") ;"
   ]
  },
  {
   "cell_type": "code",
   "execution_count": 1,
   "metadata": {},
   "outputs": [
    {
     "name": "stdout",
     "output_type": "stream",
     "text": [
      "parameter unit;\n",
      "storage string;\n",
      "code { PUSH timestamp \"2020-06-30T00:00:00Z\" ; NOW ; { { COMPARE ; GT } ; IF { PUSH timestamp \"2020-07-01T00:00:00Z\" ; NOW ; { { COMPARE ; LT } ; IF { PUSH string \"Happy 2nd birthday Tezos!\" } { PUSH string \"Not today!\" } } } { PUSH string \"Not today!\" } } ; NIL operation ; PAIR };\n",
      "RUN: use %default; drop all; push (Unit, '');\n",
      "PUSH: push 1593475200;\n",
      "NOW: push 1594043059;\n",
      "COMPARE: pop 1594043059, 1593475200; push 1;\n",
      "GT: pop 1; push True;\n",
      "IF: pop True;\n",
      "PUSH: push 1593561600;\n",
      "NOW: push 1594043059;\n",
      "COMPARE: pop 1594043059, 1593561600; push 1;\n",
      "LT: pop 1; push False;\n",
      "IF: pop False;\n",
      "PUSH: push Not today!;\n",
      "NIL: push [];\n",
      "PAIR: pop [], Not today!; push ([], 'Not today!');"
     ]
    },
    {
     "data": {
      "text/html": [
       "<table>\n",
       "<thead>\n",
       "<tr><th>value                                            </th><th>type                                       </th></tr>\n",
       "</thead>\n",
       "<tbody>\n",
       "<tr><td><pre style=&quot;text-align: left;&quot;>&quot;Not today!&quot;</pre></td><td><pre style=&quot;text-align: left;&quot;>string</pre></td></tr>\n",
       "</tbody>\n",
       "</table>"
      ],
      "text/plain": [
       "value         type\n",
       "------------  ------\n",
       "\"Not today!\"  string"
      ]
     },
     "execution_count": 1,
     "metadata": {},
     "output_type": "execute_result"
    }
   ],
   "source": [
    "\n",
    "    parameter unit ;\n",
    "    storage string ;\n",
    "    code {\n",
    "        PUSH timestamp \"2020-06-30T00:00:00Z\" ;\n",
    "        NOW ;\n",
    "        IFCMPGT\n",
    "            {\n",
    "                PUSH timestamp \"2020-07-01T00:00:00Z\" ;\n",
    "                NOW ;\n",
    "                IFCMPLT\n",
    "                    { PUSH string \"Happy 2nd birthday Tezos!\" }\n",
    "                    { PUSH string \"Not today!\" } ;\n",
    "            }\n",
    "            { PUSH string \"Not today!\" } ;\n",
    "        NIL operation ;\n",
    "        PAIR\n",
    "    } ;\n",
    "\n",
    "    RUN %default Unit \"\" ;\n",
    "    "
   ]
  },
  {
   "cell_type": "code",
   "execution_count": 11,
   "metadata": {},
   "outputs": [
    {
     "name": "stdout",
     "output_type": "stream",
     "text": [
      "storage nat;\n",
      "parameter (pair nat nat);\n",
      "BEGIN: use %default; drop all; push ((44, 33), 0);\n",
      "CAR: pop ((44, 33), 0); push (44, 33);\n",
      "DUP: push (44, 33);\n",
      "CAR: pop (44, 33); push 44;\n",
      "DIP: protect 1 item(s);\n",
      "CDR: pop (44, 33); push 33;\n",
      "restore 1 item(s);\n",
      "PACK: pop 44; push 05002c;\n",
      "SWAP: pop 05002c, 33; push 05002c; push 33;\n",
      "PACK: pop 33; push 050021;\n",
      "CONCAT: pop 050021; pop 05002c; push 05002105002c;\n",
      "UNPACK: pop 05002105002c; push (33,);"
     ]
    },
    {
     "data": {
      "text/html": [
       "<table>\n",
       "<thead>\n",
       "<tr><th>value                                       </th><th>type                                           </th></tr>\n",
       "</thead>\n",
       "<tbody>\n",
       "<tr><td><pre style=&quot;text-align: left;&quot;>Some 33</pre></td><td><pre style=&quot;text-align: left;&quot;>option nat</pre></td></tr>\n",
       "</tbody>\n",
       "</table>"
      ],
      "text/plain": [
       "value    type\n",
       "-------  ----------\n",
       "Some 33  option nat"
      ]
     },
     "execution_count": 11,
     "metadata": {},
     "output_type": "execute_result"
    }
   ],
   "source": [
    "storage nat ;\n",
    "parameter (pair nat nat) ;\n",
    "BEGIN (Pair 44 33) 0 ;\n",
    "CAR ;\n",
    "UNPAIR ;\n",
    "PACK ;\n",
    "SWAP ;\n",
    "PACK ;\n",
    "CONCAT ;\n",
    "UNPACK nat ;\n",
    "DUMP ;"
   ]
  },
  {
   "cell_type": "code",
   "execution_count": 35,
   "metadata": {},
   "outputs": [
    {
     "name": "stdout",
     "output_type": "stream",
     "text": [
      "storage (set nat);\n",
      "parameter nat;\n",
      "BEGIN: use %default; drop all; push (4, {1, 2, 3, 4});\n",
      "DUP: push (4, {1, 2, 3, 4});\n",
      "CAR: pop (4, {1, 2, 3, 4}); push 4;\n",
      "DIP: protect 1 item(s);\n",
      "CDR: pop (4, {1, 2, 3, 4}); push {1, 2, 3, 4};\n",
      "restore 1 item(s);\n",
      "PUSH: push True;\n",
      "SWAP: pop True, 4; push True; push 4;\n",
      "UPDATE: pop 4, True, {1, 2, 3, 4}; push {1, 2, 3, 4};"
     ]
    },
    {
     "data": {
      "text/html": [
       "<table>\n",
       "<thead>\n",
       "<tr><th>value                                                 </th><th>type                                        </th></tr>\n",
       "</thead>\n",
       "<tbody>\n",
       "<tr><td><pre style=&quot;text-align: left;&quot;>{ 1 ; 2 ; 3 ; 4 }</pre></td><td><pre style=&quot;text-align: left;&quot;>set nat</pre></td></tr>\n",
       "</tbody>\n",
       "</table>"
      ],
      "text/plain": [
       "value              type\n",
       "-----------------  -------\n",
       "{ 1 ; 2 ; 3 ; 4 }  set nat"
      ]
     },
     "execution_count": 35,
     "metadata": {},
     "output_type": "execute_result"
    }
   ],
   "source": [
    "storage (set nat) ;\n",
    "parameter nat ;\n",
    "BEGIN 4 { 1 ; 2 ; 3 ; 4 } ;\n",
    "UNPAIR ;\n",
    "PUSH bool True ;\n",
    "SWAP ;\n",
    "UPDATE ;\n",
    "DUMP ;"
   ]
  },
  {
   "cell_type": "code",
   "execution_count": 43,
   "metadata": {},
   "outputs": [
    {
     "name": "stdout",
     "output_type": "stream",
     "text": [
      "storage (set string);\n",
      "parameter (pair string string);\n",
      "BEGIN: use %default; drop all; push (('mango', 'apple'), {'apple', 'strawberry', 'banana'});\n",
      "DUP: push (('mango', 'apple'), {'apple', 'strawberry', 'banana'});\n",
      "CAR: pop (('mango', 'apple'), {'apple', 'strawberry', 'banana'}); push ('mango', 'apple');\n",
      "DIP: protect 1 item(s);\n",
      "CDR: pop (('mango', 'apple'), {'apple', 'strawberry', 'banana'}); push {'apple', 'strawberry', 'banana'};\n",
      "restore 1 item(s);\n",
      "DUP: push ('mango', 'apple');\n",
      "CAR: pop ('mango', 'apple'); push mango;\n",
      "DIP: protect 1 item(s);\n",
      "CDR: pop ('mango', 'apple'); push apple;\n",
      "restore 1 item(s);\n",
      "DIP: protect 1 item(s);\n",
      "SWAP: pop apple, {'apple', 'strawberry', 'banana'}; push apple; push {'apple', 'strawberry', 'banana'};\n",
      "restore 1 item(s);\n",
      "PUSH: push True;\n",
      "SWAP: pop True, mango; push True; push mango;\n",
      "UPDATE: pop mango, True, {'apple', 'strawberry', 'banana'}; push {'mango', 'apple', 'strawberry', 'banana'};\n",
      "SWAP: pop {'mango', 'apple', 'strawberry', 'banana'}, apple; push {'mango', 'apple', 'strawberry', 'banana'}; push apple;\n",
      "PUSH: push False;\n",
      "SWAP: pop False, apple; push False; push apple;\n",
      "UPDATE: pop apple, False, {'mango', 'apple', 'strawberry', 'banana'}; push {'mango', 'strawberry', 'banana'};"
     ]
    },
    {
     "data": {
      "text/html": [
       "<table>\n",
       "<thead>\n",
       "<tr><th>value                                                                     </th><th>type                                           </th></tr>\n",
       "</thead>\n",
       "<tbody>\n",
       "<tr><td><pre style=&quot;text-align: left;&quot;>{ &quot;mango&quot; ; &quot;banana&quot; ; &quot;strawberry&quot; }</pre></td><td><pre style=&quot;text-align: left;&quot;>set string</pre></td></tr>\n",
       "</tbody>\n",
       "</table>"
      ],
      "text/plain": [
       "value                                  type\n",
       "-------------------------------------  ----------\n",
       "{ \"mango\" ; \"banana\" ; \"strawberry\" }  set string"
      ]
     },
     "execution_count": 43,
     "metadata": {},
     "output_type": "execute_result"
    }
   ],
   "source": [
    "storage (set string) ;\n",
    "parameter (pair string string) ;\n",
    "BEGIN (Pair \"mango\" \"apple\") { \"banana\" ; \"apple\" ; \"strawberry\" } ;\n",
    "UNPPAIAIR ;\n",
    "DIP { SWAP } ;\n",
    "PUSH bool True ;\n",
    "SWAP ;\n",
    "UPDATE ;\n",
    "SWAP ;\n",
    "PUSH bool False ;\n",
    "SWAP ;\n",
    "UPDATE ;\n",
    "DUMP ;"
   ]
  },
  {
   "cell_type": "code",
   "execution_count": 48,
   "metadata": {},
   "outputs": [
    {
     "name": "stdout",
     "output_type": "stream",
     "text": [
      "storage (set string);\n",
      "parameter string;\n",
      "BEGIN: use %default; drop all; push ('mango', {'apple', 'strawberry', 'banana'});\n",
      "DUP: push ('mango', {'apple', 'strawberry', 'banana'});\n",
      "CAR: pop ('mango', {'apple', 'strawberry', 'banana'}); push mango;\n",
      "DIP: protect 1 item(s);\n",
      "CDR: pop ('mango', {'apple', 'strawberry', 'banana'}); push {'apple', 'strawberry', 'banana'};\n",
      "restore 1 item(s);\n",
      "DIP: protect 1 item(s);\n",
      "DUP: push {'apple', 'strawberry', 'banana'};\n",
      "restore 1 item(s);\n",
      "DUP: push mango;\n",
      "DIP: protect 1 item(s);\n",
      "SWAP: pop mango, {'apple', 'strawberry', 'banana'}; push mango; push {'apple', 'strawberry', 'banana'};\n",
      "restore 1 item(s);\n",
      "MEM: pop mango, {'apple', 'strawberry', 'banana'}; push False;\n",
      "IF: pop False;\n",
      "PUSH: push True;\n",
      "SWAP: pop True, mango; push True; push mango;\n",
      "UPDATE: pop mango, True, {'apple', 'strawberry', 'banana'}; push {'mango', 'apple', 'strawberry', 'banana'};"
     ]
    },
    {
     "data": {
      "text/html": [
       "<table>\n",
       "<thead>\n",
       "<tr><th>value                                                                               </th><th>type                                           </th></tr>\n",
       "</thead>\n",
       "<tbody>\n",
       "<tr><td><pre style=&quot;text-align: left;&quot;>{ &quot;mango&quot; ; &quot;banana&quot; ; &quot;apple&quot; ; &quot;strawberry&quot; }</pre></td><td><pre style=&quot;text-align: left;&quot;>set string</pre></td></tr>\n",
       "</tbody>\n",
       "</table>"
      ],
      "text/plain": [
       "value                                            type\n",
       "-----------------------------------------------  ----------\n",
       "{ \"mango\" ; \"banana\" ; \"apple\" ; \"strawberry\" }  set string"
      ]
     },
     "execution_count": 48,
     "metadata": {},
     "output_type": "execute_result"
    }
   ],
   "source": [
    "storage (set string) ;\n",
    "parameter string ;\n",
    "BEGIN \"mango\" { \"banana\" ; \"apple\" ; \"strawberry\" };\n",
    "UNPAIR ;\n",
    "DIP { DUP } ;\n",
    "DUP ;\n",
    "DIP { SWAP } ;\n",
    "MEM ;\n",
    "IF { FAIL } { PUSH bool True ; SWAP ; UPDATE } ;\n",
    "DUMP ;"
   ]
  },
  {
   "cell_type": "code",
   "execution_count": 53,
   "metadata": {},
   "outputs": [
    {
     "name": "stdout",
     "output_type": "stream",
     "text": [
      "storage (set int);\n",
      "parameter unit;\n",
      "BEGIN: use %default; drop all; push (Unit, {1, 2, 3});\n",
      "CDR: pop (Unit, {1, 2, 3}); push {1, 2, 3};\n",
      "EMPTY_SET: push [];\n",
      "SWAP: pop [], {1, 2, 3}; push []; push {1, 2, 3};\n",
      "ITER: pop {1, 2, 3}; push 1;\n",
      "PUSH: push 3;\n",
      "ADD: pop 3, 1; push 4;\n",
      "PUSH: push True;\n",
      "SWAP: pop True, 4; push True; push 4;\n",
      "UPDATE: pop 4, True, []; push {4};\n",
      "push 2;\n",
      "PUSH: push 3;\n",
      "ADD: pop 3, 2; push 5;\n",
      "PUSH: push True;\n",
      "SWAP: pop True, 5; push True; push 5;\n",
      "UPDATE: pop 5, True, {4}; push {4, 5};\n",
      "push 3;\n",
      "PUSH: push 3;\n",
      "ADD: pop 3, 3; push 6;\n",
      "PUSH: push True;\n",
      "SWAP: pop True, 6; push True; push 6;\n",
      "UPDATE: pop 6, True, {4, 5}; push {4, 5, 6};"
     ]
    },
    {
     "data": {
      "text/html": [
       "<table>\n",
       "<thead>\n",
       "<tr><th>value                                             </th><th>type                                        </th></tr>\n",
       "</thead>\n",
       "<tbody>\n",
       "<tr><td><pre style=&quot;text-align: left;&quot;>{ 6 ; 5 ; 4 }</pre></td><td><pre style=&quot;text-align: left;&quot;>set int</pre></td></tr>\n",
       "</tbody>\n",
       "</table>"
      ],
      "text/plain": [
       "value          type\n",
       "-------------  -------\n",
       "{ 6 ; 5 ; 4 }  set int"
      ]
     },
     "execution_count": 53,
     "metadata": {},
     "output_type": "execute_result"
    }
   ],
   "source": [
    "storage (set int) ;\n",
    "parameter unit ;\n",
    "BEGIN Unit { 1 ; 2 ; 3 };\n",
    "CDR ;\n",
    "EMPTY_SET int ;\n",
    "SWAP ;\n",
    "ITER { PUSH int 3 ; ADD ; PUSH bool True ; SWAP ; UPDATE } ;\n",
    "DUMP ;"
   ]
  },
  {
   "cell_type": "code",
   "execution_count": 56,
   "metadata": {},
   "outputs": [
    {
     "name": "stdout",
     "output_type": "stream",
     "text": [
      "storage (map address nat);\n",
      "parameter address;\n",
      "BEGIN: use %default; drop all; push ('tz1VSUr8wwNhLAzempoch5d6hLRiTh8Cjcjb', {'tz1VSUr8wwNhLAzempoch5d6hLRiTh8Cjcjb': 5, 'tz1UVzNHTxMzkPn1uMXaSCTJYBQQc4x5dyNE': 10});\n",
      "DUP: push ('tz1VSUr8wwNhLAzempoch5d6hLRiTh8Cjcjb', {'tz1VSUr8wwNhLAzempoch5d6hLRiTh8Cjcjb': 5, 'tz1UVzNHTxMzkPn1uMXaSCTJYBQQc4x5dyNE': 10});\n",
      "DIP: protect 1 item(s);\n",
      "DUP: push ('tz1VSUr8wwNhLAzempoch5d6hLRiTh8Cjcjb', {'tz1VSUr8wwNhLAzempoch5d6hLRiTh8Cjcjb': 5, 'tz1UVzNHTxMzkPn1uMXaSCTJYBQQc4x5dyNE': 10});\n",
      "CAR: pop ('tz1VSUr8wwNhLAzempoch5d6hLRiTh8Cjcjb', {'tz1VSUr8wwNhLAzempoch5d6hLRiTh8Cjcjb': 5, 'tz1UVzNHTxMzkPn1uMXaSCTJYBQQc4x5dyNE': 10}); push tz1VSUr8wwNhLAzempoch5d6hLRiTh8Cjcjb;\n",
      "DIP: protect 1 item(s);\n",
      "CDR: pop ('tz1VSUr8wwNhLAzempoch5d6hLRiTh8Cjcjb', {'tz1VSUr8wwNhLAzempoch5d6hLRiTh8Cjcjb': 5, 'tz1UVzNHTxMzkPn1uMXaSCTJYBQQc4x5dyNE': 10}); push {'tz1VSUr8wwNhLAzempoch5d6hLRiTh8Cjcjb': 5, 'tz1UVzNHTxMzkPn1uMXaSCTJYBQQc4x5dyNE': 10};\n",
      "restore 1 item(s);\n",
      "restore 1 item(s);\n",
      "DUP: push ('tz1VSUr8wwNhLAzempoch5d6hLRiTh8Cjcjb', {'tz1VSUr8wwNhLAzempoch5d6hLRiTh8Cjcjb': 5, 'tz1UVzNHTxMzkPn1uMXaSCTJYBQQc4x5dyNE': 10});\n",
      "CAR: pop ('tz1VSUr8wwNhLAzempoch5d6hLRiTh8Cjcjb', {'tz1VSUr8wwNhLAzempoch5d6hLRiTh8Cjcjb': 5, 'tz1UVzNHTxMzkPn1uMXaSCTJYBQQc4x5dyNE': 10}); push tz1VSUr8wwNhLAzempoch5d6hLRiTh8Cjcjb;\n",
      "DIP: protect 1 item(s);\n",
      "CDR: pop ('tz1VSUr8wwNhLAzempoch5d6hLRiTh8Cjcjb', {'tz1VSUr8wwNhLAzempoch5d6hLRiTh8Cjcjb': 5, 'tz1UVzNHTxMzkPn1uMXaSCTJYBQQc4x5dyNE': 10}); push {'tz1VSUr8wwNhLAzempoch5d6hLRiTh8Cjcjb': 5, 'tz1UVzNHTxMzkPn1uMXaSCTJYBQQc4x5dyNE': 10};\n",
      "restore 1 item(s);\n",
      "MEM: pop tz1VSUr8wwNhLAzempoch5d6hLRiTh8Cjcjb, {'tz1VSUr8wwNhLAzempoch5d6hLRiTh8Cjcjb': 5, 'tz1UVzNHTxMzkPn1uMXaSCTJYBQQc4x5dyNE': 10}; push True;\n",
      "IF: pop True;\n",
      "PUSH: push None;\n",
      "SWAP: pop None, tz1VSUr8wwNhLAzempoch5d6hLRiTh8Cjcjb; push None; push tz1VSUr8wwNhLAzempoch5d6hLRiTh8Cjcjb;\n",
      "UPDATE: pop tz1VSUr8wwNhLAzempoch5d6hLRiTh8Cjcjb, None, {'tz1VSUr8wwNhLAzempoch5d6hLRiTh8Cjcjb': 5, 'tz1UVzNHTxMzkPn1uMXaSCTJYBQQc4x5dyNE': 10}; push {'tz1UVzNHTxMzkPn1uMXaSCTJYBQQc4x5dyNE': 10};"
     ]
    },
    {
     "data": {
      "text/html": [
       "<table>\n",
       "<thead>\n",
       "<tr><th>value                                                                                 </th><th>type                                                </th></tr>\n",
       "</thead>\n",
       "<tbody>\n",
       "<tr><td><pre style=&quot;text-align: left;&quot;>{ Elt &quot;tz1UVzNHTxMzkPn1uMXaSCTJYBQQc4x5dyNE&quot; 10 }</pre></td><td><pre style=&quot;text-align: left;&quot;>map address nat</pre></td></tr>\n",
       "</tbody>\n",
       "</table>"
      ],
      "text/plain": [
       "value                                              type\n",
       "-------------------------------------------------  ---------------\n",
       "{ Elt \"tz1UVzNHTxMzkPn1uMXaSCTJYBQQc4x5dyNE\" 10 }  map address nat"
      ]
     },
     "execution_count": 56,
     "metadata": {},
     "output_type": "execute_result"
    }
   ],
   "source": [
    "storage (map address nat) ;\n",
    "parameter address ;\n",
    "BEGIN \"tz1VSUr8wwNhLAzempoch5d6hLRiTh8Cjcjb\" { Elt \"tz1VSUr8wwNhLAzempoch5d6hLRiTh8Cjcjb\" 5 ; Elt \"tz1UVzNHTxMzkPn1uMXaSCTJYBQQc4x5dyNE\" 10} ;\n",
    "DUP ;\n",
    "DIP { UNPAIR } ;\n",
    "UNPAIR ;\n",
    "MEM ;\n",
    "IF\n",
    "    { PUSH (option nat) (None) ; SWAP ; UPDATE }\n",
    "    { PUSH (option nat) (Some 1) ; SWAP ; UPDATE } ;\n",
    "DUMP ;"
   ]
  },
  {
   "cell_type": "code",
   "execution_count": 185,
   "metadata": {},
   "outputs": [
    {
     "data": {
      "text/html": [
       "<table>\n",
       "<thead>\n",
       "<tr><th>value                                            </th><th>type                                                                                                  </th></tr>\n",
       "</thead>\n",
       "<tbody>\n",
       "<tr><td><pre style=&quot;text-align: left;&quot;>Pair {} -121</pre></td><td><pre style=&quot;text-align: left;&quot;>pair (list operation) (big_map (address %spender) (nat %balance))</pre></td></tr>\n",
       "</tbody>\n",
       "</table>"
      ],
      "text/plain": [
       "value         type\n",
       "------------  -----------------------------------------------------------------\n",
       "Pair {} -121  pair (list operation) (big_map (address %spender) (nat %balance))"
      ]
     },
     "execution_count": 185,
     "metadata": {},
     "output_type": "execute_result"
    }
   ],
   "source": [
    "DEBUG False ;\n",
    "storage (big_map (address %spender) (nat %balance)) ;\n",
    "parameter (pair (address %to) (nat %value)) ;\n",
    "BEGIN (Pair \"tz1VSUr8wwNhLAzempoch5d6hLRiTh8Cjcjb\" 10) { Elt \"tz1UVzNHTxMzkPn1uMXaSCTJYBQQc4x5dyNE\" 100 } ;\n",
    "PATCH SOURCE \"tz1UVzNHTxMzkPn1uMXaSCTJYBQQc4x5dyNE\" ;\n",
    "\n",
    "UNPPAIIR ;\n",
    "DUP ;\n",
    "SOURCE ;\n",
    "IFCMPEQ\n",
    "    { PUSH string \"FORBIDDENTRANFER\" ; FAILWITH }\n",
    "    {} ;\n",
    "DIG 2 ;\n",
    "## Checks if source is in the ledger\n",
    "DUP ;\n",
    "SOURCE ;\n",
    "MEM ;\n",
    "IF\n",
    "    {\n",
    "        ## Checks if source has enough balance\n",
    "        DUP ;\n",
    "        SOURCE ;\n",
    "        GET ;\n",
    "        IF_NONE\n",
    "            { PUSH string \"ERROR\" ; FAILWITH }\n",
    "            {\n",
    "                DUP ;\n",
    "                DIP 4 { DUP } ;\n",
    "                DIG 4 ;\n",
    "                IFCMPGT { PUSH string \"INSUFFICIENTBALANCE\" ; FAILWITH } {} ;\n",
    "            } ;\n",
    "        ## Updates sender's balance\n",
    "        DIP 3 { DUP } ;\n",
    "        DIG 3 ;\n",
    "        SWAP ;\n",
    "        SUB ;\n",
    "        ABS ;\n",
    "        SOME ;\n",
    "        SOURCE ;\n",
    "        UPDATE ;\n",
    "        ## Updates recipient's balance\n",
    "        DIP { DUP } ;\n",
    "        SWAP ;\n",
    "        DIP { DUP } ;\n",
    "        MEM ;\n",
    "        IF\n",
    "            {\n",
    "                SWAP ;\n",
    "                DIP { DUP } ;\n",
    "                DUP ;\n",
    "                DIP { SWAP } ;\n",
    "                GET ;\n",
    "                IF_NONE\n",
    "                    {\n",
    "                        DIG 2 ;\n",
    "                        SOME ;\n",
    "                        SWAP ;\n",
    "                        UPDATE ;\n",
    "                    }\n",
    "                    {\n",
    "                        DIG 3 ;\n",
    "                        ADD ;\n",
    "                        SOME ;\n",
    "                        SWAP ;\n",
    "                        UPDATE ;\n",
    "                    } ;\n",
    "            }\n",
    "            {\n",
    "                DUG 2 ;\n",
    "                DIP { SOME } ;\n",
    "                UPDATE ;\n",
    "            } ;\n",
    "        ## Ends execution\n",
    "        NIL operation ;\n",
    "        PAIR ;\n",
    "    }\n",
    "    { PUSH string \"NOTAVALIDKEY\" ; FAILWITH } ;\n",
    "DUMP ;"
   ]
  },
  {
   "cell_type": "code",
   "execution_count": 204,
   "metadata": {},
   "outputs": [
    {
     "name": "stdout",
     "output_type": "stream",
     "text": [
      "PATCH: set SOURCE=tz1UVzNHTxMzkPn1uMXaSCTJYBQQc4x5dyNE;\n",
      "storage (big_map (address %spender) (nat %balance));\n",
      "parameter (pair (address %to) (nat %value));\n",
      "code { { { DUP ; CAR ; DIP { CDR } } ; { DUP ; CAR ; DIP { CDR } } } ; DUP ; SOURCE ; { { COMPARE ; EQ } ; IF { PUSH string \"FORBIDDENTRANFER\" ; FAILWITH } {} } ; DIG 2 ; DUP ; SOURCE ; MEM ; IF { DUP ; SOURCE ; GET ; IF_NONE { PUSH string \"ERROR\" ; FAILWITH } { DUP ; DIP 4 { DUP } ; DIG 4 ; { { COMPARE ; GT } ; IF { PUSH string \"INSUFFICIENTBALANCE\" ; FAILWITH } {} } } ; DIP 3 { DUP } ; DIG 3 ; SWAP ; SUB ; ABS ; SOME ; SOURCE ; UPDATE ; DIP { DUP } ; SWAP ; DIP { DUP } ; MEM ; IF { SWAP ; DIP { DUP } ; DUP ; DIP { SWAP } ; GET ; IF_NONE { DIG 2 ; SOME ; SWAP ; UPDATE } { DIG 3 ; ADD ; SOME ; SWAP ; UPDATE } } { DUG 2 ; DIP { SOME } ; UPDATE } ; NIL operation ; PAIR } { PUSH string \"UNKNOWNSPENDER\" ; FAILWITH } };\n",
      "RUN: use %default; drop all; push (('tz1VSUr8wwNhLAzempoch5d6hLRiTh8Cjcjb', 10), -135);\n",
      "DUP: push (('tz1VSUr8wwNhLAzempoch5d6hLRiTh8Cjcjb', 10), -135);\n",
      "CAR: pop (('tz1VSUr8wwNhLAzempoch5d6hLRiTh8Cjcjb', 10), -135); push ('tz1VSUr8wwNhLAzempoch5d6hLRiTh8Cjcjb', 10);\n",
      "DIP: protect 1 item(s);\n",
      "CDR: pop (('tz1VSUr8wwNhLAzempoch5d6hLRiTh8Cjcjb', 10), -135); push -135;\n",
      "restore 1 item(s);\n",
      "DUP: push ('tz1VSUr8wwNhLAzempoch5d6hLRiTh8Cjcjb', 10);\n",
      "CAR: pop ('tz1VSUr8wwNhLAzempoch5d6hLRiTh8Cjcjb', 10); push tz1VSUr8wwNhLAzempoch5d6hLRiTh8Cjcjb;\n",
      "DIP: protect 1 item(s);\n",
      "CDR: pop ('tz1VSUr8wwNhLAzempoch5d6hLRiTh8Cjcjb', 10); push 10;\n",
      "restore 1 item(s);\n",
      "DUP: push tz1VSUr8wwNhLAzempoch5d6hLRiTh8Cjcjb;\n",
      "SOURCE: push tz1UVzNHTxMzkPn1uMXaSCTJYBQQc4x5dyNE;\n",
      "COMPARE: pop tz1UVzNHTxMzkPn1uMXaSCTJYBQQc4x5dyNE, tz1VSUr8wwNhLAzempoch5d6hLRiTh8Cjcjb; push -1;\n",
      "EQ: pop -1; push False;\n",
      "IF: pop False;\n",
      "DIG: protect 2 item(s); pop -135; restore 2 item(s); push -135;\n",
      "DUP: push -135;\n",
      "SOURCE: push tz1UVzNHTxMzkPn1uMXaSCTJYBQQc4x5dyNE;\n",
      "MEM: pop tz1UVzNHTxMzkPn1uMXaSCTJYBQQc4x5dyNE, -135; push True;\n",
      "IF: pop True;\n",
      "DUP: push -135;\n",
      "SOURCE: push tz1UVzNHTxMzkPn1uMXaSCTJYBQQc4x5dyNE;\n",
      "GET: pop tz1UVzNHTxMzkPn1uMXaSCTJYBQQc4x5dyNE, -135; push (100,);\n",
      "IF_NONE: pop (100,); push 100;\n",
      "DUP: push 100;\n",
      "DIP: protect 4 item(s);\n",
      "  DUP: push 10;\n",
      "  restore 4 item(s);\n",
      "DIG: protect 4 item(s); pop 10; restore 4 item(s); push 10;\n",
      "COMPARE: pop 10, 100; push -1;\n",
      "GT: pop -1; push False;\n",
      "IF: pop False;\n",
      "DIP: protect 3 item(s);\n",
      "DUP: push 10;\n",
      "restore 3 item(s);\n",
      "DIG: protect 3 item(s); pop 10; restore 3 item(s); push 10;\n",
      "SWAP: pop 10, 100; push 10; push 100;\n",
      "SUB: pop 100, 10; push 90;\n",
      "ABS: pop 90; push 90;\n",
      "SOME: pop 90; push (90,);\n",
      "SOURCE: push tz1UVzNHTxMzkPn1uMXaSCTJYBQQc4x5dyNE;\n",
      "UPDATE: pop tz1UVzNHTxMzkPn1uMXaSCTJYBQQc4x5dyNE, (90,), -135; push -135;\n",
      "DIP: protect 1 item(s);\n",
      "DUP: push tz1VSUr8wwNhLAzempoch5d6hLRiTh8Cjcjb;\n",
      "restore 1 item(s);\n",
      "SWAP: pop -135, tz1VSUr8wwNhLAzempoch5d6hLRiTh8Cjcjb; push -135; push tz1VSUr8wwNhLAzempoch5d6hLRiTh8Cjcjb;\n",
      "DIP: protect 1 item(s);\n",
      "DUP: push -135;\n",
      "restore 1 item(s);\n",
      "MEM: pop tz1VSUr8wwNhLAzempoch5d6hLRiTh8Cjcjb, -135; push True;\n",
      "IF: pop True;\n",
      "SWAP: pop -135, tz1VSUr8wwNhLAzempoch5d6hLRiTh8Cjcjb; push -135; push tz1VSUr8wwNhLAzempoch5d6hLRiTh8Cjcjb;\n",
      "DIP: protect 1 item(s);\n",
      "  DUP: push -135;\n",
      "  restore 1 item(s);\n",
      "DUP: push tz1VSUr8wwNhLAzempoch5d6hLRiTh8Cjcjb;\n",
      "DIP: protect 1 item(s);\n",
      "  SWAP: pop tz1VSUr8wwNhLAzempoch5d6hLRiTh8Cjcjb, -135; push tz1VSUr8wwNhLAzempoch5d6hLRiTh8Cjcjb; push -135;\n",
      "  restore 1 item(s);\n",
      "GET: pop tz1VSUr8wwNhLAzempoch5d6hLRiTh8Cjcjb, -135; push (15,);\n",
      "IF_NONE: pop (15,); push 15;\n",
      "  DIG: protect 3 item(s); pop 10; restore 3 item(s); push 10;\n",
      "  ADD: pop 10, 15; push 25;\n",
      "  SOME: pop 25; push (25,);\n",
      "  SWAP: pop (25,), tz1VSUr8wwNhLAzempoch5d6hLRiTh8Cjcjb; push (25,); push tz1VSUr8wwNhLAzempoch5d6hLRiTh8Cjcjb;\n",
      "  UPDATE: pop tz1VSUr8wwNhLAzempoch5d6hLRiTh8Cjcjb, (25,), -135; push -135;\n",
      "NIL: push [];\n",
      "PAIR: pop [], -135; push ([], -135);"
     ]
    },
    {
     "data": {
      "text/html": [
       "<table>\n",
       "<thead>\n",
       "<tr><th>value                                 </th><th>type                                                                          </th></tr>\n",
       "</thead>\n",
       "<tbody>\n",
       "<tr><td><pre style=&quot;text-align: left;&quot;>8</pre></td><td><pre style=&quot;text-align: left;&quot;>big_map (address %spender) (nat %balance)</pre></td></tr>\n",
       "</tbody>\n",
       "</table><br><table>\n",
       "<thead>\n",
       "<tr><th>big_map                               </th><th>action                                     </th><th>key                                                                        </th><th>value                                            </th></tr>\n",
       "</thead>\n",
       "<tbody>\n",
       "<tr><td><pre style=&quot;text-align: left;&quot;>8</pre></td><td><pre style=&quot;text-align: left;&quot;>alloc</pre> </td><td><pre style=&quot;text-align: left;&quot;>address %spender</pre>                      </td><td><pre style=&quot;text-align: left;&quot;>nat %balance</pre></td></tr>\n",
       "<tr><td><pre style=&quot;text-align: left;&quot;>8</pre></td><td><pre style=&quot;text-align: left;&quot;>update</pre></td><td><pre style=&quot;text-align: left;&quot;>&quot;tz1UVzNHTxMzkPn1uMXaSCTJYBQQc4x5dyNE&quot;</pre></td><td><pre style=&quot;text-align: left;&quot;>90</pre>          </td></tr>\n",
       "<tr><td><pre style=&quot;text-align: left;&quot;>8</pre></td><td><pre style=&quot;text-align: left;&quot;>update</pre></td><td><pre style=&quot;text-align: left;&quot;>&quot;tz1VSUr8wwNhLAzempoch5d6hLRiTh8Cjcjb&quot;</pre></td><td><pre style=&quot;text-align: left;&quot;>25</pre>          </td></tr>\n",
       "</tbody>\n",
       "</table>"
      ],
      "text/plain": [
       "  value  type\n",
       "-------  -----------------------------------------\n",
       "      8  big_map (address %spender) (nat %balance)\n",
       "  big_map  action    key                                     value\n",
       "---------  --------  --------------------------------------  ------------\n",
       "        8  alloc     address %spender                        nat %balance\n",
       "        8  update    \"tz1UVzNHTxMzkPn1uMXaSCTJYBQQc4x5dyNE\"  90\n",
       "        8  update    \"tz1VSUr8wwNhLAzempoch5d6hLRiTh8Cjcjb\"  25"
      ]
     },
     "execution_count": 204,
     "metadata": {},
     "output_type": "execute_result"
    }
   ],
   "source": [
    "PATCH SOURCE \"tz1UVzNHTxMzkPn1uMXaSCTJYBQQc4x5dyNE\" ;\n",
    "\n",
    "storage (big_map (address %spender) (nat %balance)) ;\n",
    "parameter (pair (address %to) (nat %value)) ;\n",
    "code {\n",
    "    UNPPAIIR ;\n",
    "    DUP ;\n",
    "    SOURCE ;\n",
    "    IFCMPEQ\n",
    "        { PUSH string \"FORBIDDENTRANFER\" ; FAILWITH }\n",
    "        {} ;\n",
    "    DIG 2 ;\n",
    "    ## Checks if source is in the ledger\n",
    "    DUP ;\n",
    "    SOURCE ;\n",
    "    MEM ;\n",
    "    IF\n",
    "        {\n",
    "            ## Checks if source has enough balance\n",
    "            DUP ;\n",
    "            SOURCE ;\n",
    "            GET ;\n",
    "            IF_NONE\n",
    "                { PUSH string \"ERROR\" ; FAILWITH }\n",
    "                {\n",
    "                    DUP ;\n",
    "                    DIP 4 { DUP } ;\n",
    "                    DIG 4 ;\n",
    "                    IFCMPGT { PUSH string \"INSUFFICIENTBALANCE\" ; FAILWITH } {} ;\n",
    "                } ;\n",
    "            ## Updates sender's balance\n",
    "            DIP 3 { DUP } ;\n",
    "            DIG 3 ;\n",
    "            SWAP ;\n",
    "            SUB ;\n",
    "            ABS ;\n",
    "            SOME ;\n",
    "            SOURCE ;\n",
    "            UPDATE ;\n",
    "            ## Updates recipient's balance\n",
    "            DIP { DUP } ;\n",
    "            SWAP ;\n",
    "            DIP { DUP } ;\n",
    "            MEM ;\n",
    "            IF\n",
    "                {\n",
    "                    SWAP ;\n",
    "                    DIP { DUP } ;\n",
    "                    DUP ;\n",
    "                    DIP { SWAP } ;\n",
    "                    GET ;\n",
    "                    IF_NONE\n",
    "                        {\n",
    "                            DIG 2 ;\n",
    "                            SOME ;\n",
    "                            SWAP ;\n",
    "                            UPDATE ;\n",
    "                        }\n",
    "                        {\n",
    "                            DIG 3 ;\n",
    "                            ADD ;\n",
    "                            SOME ;\n",
    "                            SWAP ;\n",
    "                            UPDATE ;\n",
    "                        } ;\n",
    "                }\n",
    "                {\n",
    "                    DUG 2 ;\n",
    "                    DIP { SOME } ;\n",
    "                    UPDATE ;\n",
    "                } ;\n",
    "            ## Ends execution\n",
    "            NIL operation ;\n",
    "            PAIR ;\n",
    "        }\n",
    "        { PUSH string \"UNKNOWNSPENDER\" ; FAILWITH } ;\n",
    "} ;\n",
    "\n",
    "RUN %default (Pair \"tz1VSUr8wwNhLAzempoch5d6hLRiTh8Cjcjb\" 10) { Elt \"tz1UVzNHTxMzkPn1uMXaSCTJYBQQc4x5dyNE\" 100 ; Elt \"tz1VSUr8wwNhLAzempoch5d6hLRiTh8Cjcjb\" 15 } ;"
   ]
  },
  {
   "cell_type": "code",
   "execution_count": null,
   "metadata": {},
   "outputs": [],
   "source": []
  }
 ],
 "metadata": {
  "kernelspec": {
   "display_name": "Michelson",
   "language": "michelson",
   "name": "michelson"
  },
  "language_info": {
   "codemirror_mode": "michelson",
   "file_extension": ".tz",
   "mimetype": "text/x-michelson",
   "name": "Michelson"
  }
 },
 "nbformat": 4,
 "nbformat_minor": 4
}

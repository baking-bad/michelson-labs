{
 "cells": [
  {
   "cell_type": "markdown",
   "metadata": {},
   "source": [
    "# Chapter 7\n",
    "\n",
    "This new chapter will be the occasion to work a little more in-depth with two data types that are pretty important on a smart contract: strings and lists.\n",
    "\n",
    "In most projects that you will work on, you will probably have to manipulate strings. Whether you want to save some data provided by your users or compare inputs, strings are an essential component of smart contracts. Unlike other smart contract languages whose developers have been asking for these features for years (for example Solidity), Michelson offers string manipulation functions out of the box. Although still limited compared to other high level languages, these functions will still provide enough flexibility to get the job done.\n",
    "\n",
    "Once you have strings in your smart contract, what about storing them somewhere? Lists could be the perfect place for that! Michelson offers different possibilities in terms of storage for multiple pieces of data and lists are one of them. Before choosing a list for your needs, you must know more about what make them different and how they work. This will have no more secret for you at the end of this tutorial!\n",
    "\n",
    "## Strings and string manipulations\n",
    "\n",
    "We have already worked with strings in the previous chapters, so you should already be familiar with this type. Strings are one character or a series of characters delimited by double-quotes and including only the characters present in the English alphabet (and the escape character in [certain circumstances](https://tezos.gitlab.io/whitedoc/michelson.html#constants)). Strings are comparable values that can be added to contract from different sources: they can come from the parameter, the storage or the **`PUSH`** instruction.\n",
    "\n",
    "Once the string is present in the stack, you can work with it!  \n",
    "First, you can check the length of the string with the **`SIZE`** opcode:"
   ]
  },
  {
   "cell_type": "code",
   "execution_count": 2,
   "metadata": {},
   "outputs": [
    {
     "name": "stdout",
     "output_type": "stream",
     "text": [
      "storage: updated\n",
      "parameter: updated\n",
      "code: updated\n",
      "BEGIN %default / _ => ('tezos' * 0)\n",
      "CAR / ('tezos' * 0) => 'tezos'\n",
      "SIZE / 'tezos' => 5\n",
      "NIL / _ => []\n",
      "PAIR / [] : 5 => ([] * 5)\n",
      "END %default / ([] * 5) => _"
     ]
    },
    {
     "data": {
      "text/html": [
       "<h4>Operations</h4><h4>Storage</h4><table>\n",
       "<thead>\n",
       "<tr><th>type                                    </th><th>value                                 </th></tr>\n",
       "</thead>\n",
       "<tbody>\n",
       "<tr><td><pre style=&quot;text-align: left;&quot;>nat</pre></td><td><pre style=&quot;text-align: left;&quot;>5</pre></td></tr>\n",
       "</tbody>\n",
       "</table>"
      ],
      "text/plain": [
       "Operations\n",
       "Storage\n",
       "type      value\n",
       "------  -------\n",
       "nat           5"
      ]
     },
     "execution_count": 2,
     "metadata": {},
     "output_type": "execute_result"
    }
   ],
   "source": [
    "storage nat ;\n",
    "parameter string ;\n",
    "code {\n",
    "    CAR ;\n",
    "    SIZE ;\n",
    "    NIL operation ;\n",
    "    PAIR\n",
    "};\n",
    "\n",
    "RUN %default \"tezos\" 0;"
   ]
  },
  {
   "cell_type": "markdown",
   "metadata": {},
   "source": [
    "As expected, the length of the string *\"Tezos\"* is `5`. Note that the length is returned as a `nat` because negative length are not possible.  \n",
    "Knowing the length of a string can be useful if you want to limit the size of the strings saved into your contract. Let's write an example that will reject string parameters if their length exceeds `5`:"
   ]
  },
  {
   "cell_type": "code",
   "execution_count": 3,
   "metadata": {},
   "outputs": [
    {
     "name": "stdout",
     "output_type": "stream",
     "text": [
      "storage: updated\n",
      "parameter: updated\n",
      "code: updated\n",
      "BEGIN %default / _ => ('tezos' * '')\n",
      "CAR / ('tezos' * '') => 'tezos'\n",
      "DUP / 'tezos' => 'tezos' : 'tezos'\n",
      "SIZE / 'tezos' => 5\n",
      "PUSH / _ => 5\n",
      "COMPARE / 5 : 5 => 0\n",
      "LT / 0 => False\n",
      "IF / False => _\n",
      "NIL / _ => []\n",
      "PAIR / [] : 'tezos' => ([] * 'tezos')\n",
      "END %default / ([] * 'tezos') => _"
     ]
    },
    {
     "data": {
      "text/html": [
       "<h4>Operations</h4><h4>Storage</h4><table>\n",
       "<thead>\n",
       "<tr><th>type                                       </th><th>value                                     </th></tr>\n",
       "</thead>\n",
       "<tbody>\n",
       "<tr><td><pre style=&quot;text-align: left;&quot;>string</pre></td><td><pre style=&quot;text-align: left;&quot;>tezos</pre></td></tr>\n",
       "</tbody>\n",
       "</table>"
      ],
      "text/plain": [
       "Operations\n",
       "Storage\n",
       "type    value\n",
       "------  -------\n",
       "string  tezos"
      ]
     },
     "execution_count": 3,
     "metadata": {},
     "output_type": "execute_result"
    }
   ],
   "source": [
    "storage string ;\n",
    "parameter string ;\n",
    "code {\n",
    "    CAR ;\n",
    "    DUP ;\n",
    "    SIZE ;\n",
    "    PUSH nat 5 ;\n",
    "    IFCMPLT\n",
    "        { FAIL }\n",
    "        {\n",
    "            NIL operation ;\n",
    "            PAIR\n",
    "        }\n",
    "} ;\n",
    "\n",
    "RUN %default \"tezos\" \"\" ;"
   ]
  },
  {
   "cell_type": "markdown",
   "metadata": {},
   "source": [
    "If you add another character to \"tezos\", you will see the contract fail 😊\n",
    "\n",
    "One of the most common actions on strings is concatenation. Michelson provides an instruction that allows you to put two separate strings together: **`CONCAT`**. This is how it works:"
   ]
  },
  {
   "cell_type": "code",
   "execution_count": 4,
   "metadata": {},
   "outputs": [
    {
     "name": "stdout",
     "output_type": "stream",
     "text": [
      "storage: updated\n",
      "parameter: updated\n",
      "code: updated\n",
      "BEGIN %default / _ => ('Tezos' * '')\n",
      "CAR / ('Tezos' * '') => 'Tezos'\n",
      "PUSH / _ => 'Hello '\n",
      "CONCAT / 'Hello ' : 'Tezos' => 'Hello Tezos'\n",
      "NIL / _ => []\n",
      "PAIR / [] : 'Hello Tezos' => ([] * 'Hello Tezos')\n",
      "END %default / ([] * 'Hello Tezos') => _"
     ]
    },
    {
     "data": {
      "text/html": [
       "<h4>Operations</h4><h4>Storage</h4><table>\n",
       "<thead>\n",
       "<tr><th>type                                       </th><th>value                                           </th></tr>\n",
       "</thead>\n",
       "<tbody>\n",
       "<tr><td><pre style=&quot;text-align: left;&quot;>string</pre></td><td><pre style=&quot;text-align: left;&quot;>Hello Tezos</pre></td></tr>\n",
       "</tbody>\n",
       "</table>"
      ],
      "text/plain": [
       "Operations\n",
       "Storage\n",
       "type    value\n",
       "------  -----------\n",
       "string  Hello Tezos"
      ]
     },
     "execution_count": 4,
     "metadata": {},
     "output_type": "execute_result"
    }
   ],
   "source": [
    "storage string ;\n",
    "parameter string ;\n",
    "code {\n",
    "    CAR ;\n",
    "    PUSH string \"Hello \" ;\n",
    "    CONCAT ;\n",
    "    NIL operation ;\n",
    "    PAIR\n",
    "} ;\n",
    "\n",
    "RUN %default \"Tezos\" \"\" ;"
   ]
  },
  {
   "cell_type": "markdown",
   "metadata": {},
   "source": [
    "This smart contract does a very simple thing: it takes a string as a parameter and put it together with \"Hello \" before saving it in the storage. When using **`CONCAT`**, just make sure you have two strings on top of the stack and that they are in the right order, the element 1 will be the first one in the new string and element 2 will be the second one.\n",
    "\n",
    "If you want to concatenate multiple strings, you just have to add them to the stack and concatenate the **`CONCAT`** instructions!"
   ]
  },
  {
   "cell_type": "code",
   "execution_count": 5,
   "metadata": {},
   "outputs": [
    {
     "name": "stdout",
     "output_type": "stream",
     "text": [
      "storage: updated\n",
      "parameter: updated\n",
      "code: updated\n",
      "BEGIN %default / _ => ('World' * '')\n",
      "CAR / ('World' * '') => 'World'\n",
      "PUSH / _ => 'Tezos '\n",
      "PUSH / _ => 'Hello '\n",
      "CONCAT / 'Hello ' : 'Tezos ' => 'Hello Tezos '\n",
      "CONCAT / 'Hello Tezos ' : 'World' => 'Hello Tezos World'\n",
      "NIL / _ => []\n",
      "PAIR / [] : 'Hello Tezos World' => ([] * 'Hello Tezos World')\n",
      "END %default / ([] * 'Hello Tezos World') => _"
     ]
    },
    {
     "data": {
      "text/html": [
       "<h4>Operations</h4><h4>Storage</h4><table>\n",
       "<thead>\n",
       "<tr><th>type                                       </th><th>value                                                 </th></tr>\n",
       "</thead>\n",
       "<tbody>\n",
       "<tr><td><pre style=&quot;text-align: left;&quot;>string</pre></td><td><pre style=&quot;text-align: left;&quot;>Hello Tezos World</pre></td></tr>\n",
       "</tbody>\n",
       "</table>"
      ],
      "text/plain": [
       "Operations\n",
       "Storage\n",
       "type    value\n",
       "------  -----------------\n",
       "string  Hello Tezos World"
      ]
     },
     "execution_count": 5,
     "metadata": {},
     "output_type": "execute_result"
    }
   ],
   "source": [
    "storage string ;\n",
    "parameter string ;\n",
    "code {\n",
    "    CAR ;\n",
    "    PUSH string \"Tezos \" ;\n",
    "    PUSH string \"Hello \" ;\n",
    "    CONCAT ;\n",
    "    CONCAT ;\n",
    "    NIL operation ;\n",
    "    PAIR\n",
    "} ;\n",
    "\n",
    "RUN %default \"World\" \"\" ;"
   ]
  },
  {
   "cell_type": "markdown",
   "metadata": {},
   "source": [
    "The opposite action is **`SLICE`**: instead of putting two strings together, we are cutting one in pieces! This instruction takes three parameters: the starting point for the slice, the character length you want to slice and the string. Let's observe a few examples:"
   ]
  },
  {
   "cell_type": "code",
   "execution_count": 6,
   "metadata": {},
   "outputs": [
    {
     "name": "stdout",
     "output_type": "stream",
     "text": [
      "storage: updated\n",
      "parameter: updated\n",
      "BEGIN %default / _ => (Unit * Unit)\n",
      "DROP / (Unit * Unit) => _\n",
      "PUSH / _ => 'BakingBad'\n",
      "PUSH / _ => 6\n",
      "PUSH / _ => 0\n",
      "DUMP => [0, 6, 'BakingBad']"
     ]
    },
    {
     "data": {
      "text/html": [
       "<h4>Stack updates</h4><table>\n",
       "<thead>\n",
       "<tr><th>index                                 </th><th>type                                       </th><th>value                                         </th></tr>\n",
       "</thead>\n",
       "<tbody>\n",
       "<tr><td><pre style=&quot;text-align: left;&quot;>0</pre></td><td><pre style=&quot;text-align: left;&quot;>nat</pre>   </td><td><pre style=&quot;text-align: left;&quot;>0</pre>        </td></tr>\n",
       "<tr><td><pre style=&quot;text-align: left;&quot;>1</pre></td><td><pre style=&quot;text-align: left;&quot;>nat</pre>   </td><td><pre style=&quot;text-align: left;&quot;>6</pre>        </td></tr>\n",
       "<tr><td><pre style=&quot;text-align: left;&quot;>2</pre></td><td><pre style=&quot;text-align: left;&quot;>string</pre></td><td><pre style=&quot;text-align: left;&quot;>BakingBad</pre></td></tr>\n",
       "</tbody>\n",
       "</table>"
      ],
      "text/plain": [
       "Stack updates\n",
       "  index  type    value\n",
       "-------  ------  ---------\n",
       "      0  nat     0\n",
       "      1  nat     6\n",
       "      2  string  BakingBad"
      ]
     },
     "execution_count": 6,
     "metadata": {},
     "output_type": "execute_result"
    }
   ],
   "source": [
    "storage unit ;\n",
    "parameter unit ;\n",
    "BEGIN Unit Unit ;\n",
    "DROP ;\n",
    "## Pushes a string and extract the first 6 characters\n",
    "PUSH @string_to_slice string \"BakingBad\" ;\n",
    "PUSH @length nat 6 ; ## length\n",
    "PUSH @offset nat 0 ; ## offset\n",
    "DUMP ;"
   ]
  },
  {
   "cell_type": "markdown",
   "metadata": {},
   "source": [
    "This is how the stack looks like before the slicing begins..."
   ]
  },
  {
   "cell_type": "code",
   "execution_count": 7,
   "metadata": {},
   "outputs": [
    {
     "name": "stdout",
     "output_type": "stream",
     "text": [
      "SLICE / 0 : 6 : 'BakingBad' => 'Baking'?"
     ]
    },
    {
     "data": {
      "text/html": [
       "<h4>Stack updates</h4><table>\n",
       "<thead>\n",
       "<tr><th>index                                 </th><th>type                                                </th><th>value                                      </th></tr>\n",
       "</thead>\n",
       "<tbody>\n",
       "<tr><td><pre style=&quot;text-align: left;&quot;>0</pre></td><td><pre style=&quot;text-align: left;&quot;>option (string)</pre></td><td><pre style=&quot;text-align: left;&quot;>Baking</pre></td></tr>\n",
       "</tbody>\n",
       "</table>"
      ],
      "text/plain": [
       "Stack updates\n",
       "  index  type             value\n",
       "-------  ---------------  -------\n",
       "      0  option (string)  Baking"
      ]
     },
     "execution_count": 7,
     "metadata": {},
     "output_type": "execute_result"
    }
   ],
   "source": [
    "SLICE ;"
   ]
  },
  {
   "cell_type": "markdown",
   "metadata": {},
   "source": [
    "You probably notice that the result of **`SLICE`** is wrapped in an `option` value. If the offset or the length you set go beyond the bounds of the string, the opcode returns `None`:"
   ]
  },
  {
   "cell_type": "code",
   "execution_count": 8,
   "metadata": {},
   "outputs": [
    {
     "name": "stdout",
     "output_type": "stream",
     "text": [
      "DROP / 'Baking'? => _\n",
      "PUSH / _ => 'BakingBad'\n",
      "PUSH / _ => 6\n",
      "PUSH / _ => 6\n",
      "SLICE / 6 : 6 : 'BakingBad' => None"
     ]
    },
    {
     "data": {
      "text/html": [
       "<h4>Stack updates</h4><table>\n",
       "<thead>\n",
       "<tr><th>index                                 </th><th>type                                       </th><th>value                                    </th></tr>\n",
       "</thead>\n",
       "<tbody>\n",
       "<tr><td><pre style=&quot;text-align: left;&quot;>0</pre></td><td><pre style=&quot;text-align: left;&quot;>option</pre></td><td><pre style=&quot;text-align: left;&quot;>None</pre></td></tr>\n",
       "</tbody>\n",
       "</table>"
      ],
      "text/plain": [
       "Stack updates\n",
       "  index  type    value\n",
       "-------  ------  -------\n",
       "      0  option"
      ]
     },
     "execution_count": 8,
     "metadata": {},
     "output_type": "execute_result"
    }
   ],
   "source": [
    "DROP ;\n",
    "PUSH string \"BakingBad\" ;\n",
    "PUSH nat 6 ; ## length\n",
    "PUSH nat 6 ; ## offset\n",
    "SLICE ;"
   ]
  },
  {
   "cell_type": "markdown",
   "metadata": {},
   "source": [
    "Obviously, you are not limited to extract slices of strings from the first character, you can start at whichever position you like, keeping in mind the bounds of the string:"
   ]
  },
  {
   "cell_type": "code",
   "execution_count": 9,
   "metadata": {},
   "outputs": [
    {
     "name": "stdout",
     "output_type": "stream",
     "text": [
      "DROP / None => _\n",
      "PUSH / _ => 'BakingBadIsAwesome'\n",
      "PUSH / _ => 7\n",
      "PUSH / _ => 11\n",
      "SLICE / 11 : 7 : 'BakingBadIsAwesome' => 'Awesome'?"
     ]
    },
    {
     "data": {
      "text/html": [
       "<h4>Stack updates</h4><table>\n",
       "<thead>\n",
       "<tr><th>index                                 </th><th>type                                                </th><th>value                                       </th></tr>\n",
       "</thead>\n",
       "<tbody>\n",
       "<tr><td><pre style=&quot;text-align: left;&quot;>0</pre></td><td><pre style=&quot;text-align: left;&quot;>option (string)</pre></td><td><pre style=&quot;text-align: left;&quot;>Awesome</pre></td></tr>\n",
       "</tbody>\n",
       "</table>"
      ],
      "text/plain": [
       "Stack updates\n",
       "  index  type             value\n",
       "-------  ---------------  -------\n",
       "      0  option (string)  Awesome"
      ]
     },
     "execution_count": 9,
     "metadata": {},
     "output_type": "execute_result"
    }
   ],
   "source": [
    "DROP ;\n",
    "PUSH string \"BakingBadIsAwesome\" ;\n",
    "PUSH nat 7 ; ## length\n",
    "PUSH nat 11 ; ## offset\n",
    "SLICE ;"
   ]
  },
  {
   "cell_type": "markdown",
   "metadata": {},
   "source": [
    "Slicing a string in two pieces is going to ask for a little extra work but it is totally possible. Here is how to do it:"
   ]
  },
  {
   "cell_type": "code",
   "execution_count": 10,
   "metadata": {},
   "outputs": [
    {
     "name": "stdout",
     "output_type": "stream",
     "text": [
      "DROP / 'Awesome'? => _\n",
      "PUSH / _ => 'BakingBadIsAwesome'\n",
      "DUP / 'BakingBadIsAwesome' => 'BakingBadIsAwesome' : 'BakingBadIsAwesome'\n",
      "PUSH / _ => 9\n",
      "PUSH / _ => 0\n",
      "SLICE / 0 : 9 : 'BakingBadIsAwesome' => 'BakingBad'?\n",
      "SWAP / 'BakingBad'? : 'BakingBadIsAwesome' => 'BakingBadIsAwesome' : 'BakingBad'?\n",
      "PUSH / _ => 9\n",
      "PUSH / _ => 9\n",
      "SLICE / 9 : 9 : 'BakingBadIsAwesome' => 'IsAwesome'?\n",
      "SWAP / 'IsAwesome'? : 'BakingBad'? => 'BakingBad'? : 'IsAwesome'?\n",
      "DUMP => ['BakingBad'?, 'IsAwesome'?]"
     ]
    },
    {
     "data": {
      "text/html": [
       "<h4>Stack updates</h4><table>\n",
       "<thead>\n",
       "<tr><th>index                                 </th><th>type                                                </th><th>value                                         </th></tr>\n",
       "</thead>\n",
       "<tbody>\n",
       "<tr><td><pre style=&quot;text-align: left;&quot;>0</pre></td><td><pre style=&quot;text-align: left;&quot;>option (string)</pre></td><td><pre style=&quot;text-align: left;&quot;>BakingBad</pre></td></tr>\n",
       "<tr><td><pre style=&quot;text-align: left;&quot;>1</pre></td><td><pre style=&quot;text-align: left;&quot;>option (string)</pre></td><td><pre style=&quot;text-align: left;&quot;>IsAwesome</pre></td></tr>\n",
       "</tbody>\n",
       "</table>"
      ],
      "text/plain": [
       "Stack updates\n",
       "  index  type             value\n",
       "-------  ---------------  ---------\n",
       "      0  option (string)  BakingBad\n",
       "      1  option (string)  IsAwesome"
      ]
     },
     "execution_count": 10,
     "metadata": {},
     "output_type": "execute_result"
    }
   ],
   "source": [
    "DROP ;\n",
    "PUSH string \"BakingBadIsAwesome\" ; ## Push the string to slice in two\n",
    "DUP ; ## Duplicate the string\n",
    "PUSH nat 9 ; ## The length of the first piece\n",
    "PUSH nat 0 ; ## The offset of the first piece\n",
    "SLICE ; ## Extract the first piece of the string\n",
    "SWAP ; ## Get the duplicated original string on top of the stack\n",
    "PUSH nat 9 ; ## The lenght of the second piece\n",
    "PUSH nat 9 ; ## The offset of the second piece\n",
    "SLICE ; ## Extract the second piece of the string\n",
    "SWAP ; ## Put the pieces in the right order\n",
    "DUMP ;"
   ]
  },
  {
   "cell_type": "markdown",
   "metadata": {},
   "source": [
    "The last instruction in our tool box for strings in Michelson is **`COMPARE`**. As it does it for other types, the instruction compares two strings. You can then use it with the usual macros to check if two strings are the same or are different:"
   ]
  },
  {
   "cell_type": "code",
   "execution_count": 11,
   "metadata": {
    "scrolled": true
   },
   "outputs": [
    {
     "name": "stdout",
     "output_type": "stream",
     "text": [
      "PUSH / _ => 'tezos'\n",
      "PUSH / _ => 'tezos'\n",
      "COMPARE / 'tezos' : 'tezos' => 0\n",
      "EQ / 0 => True\n",
      "PUSH / _ => 'bakingbad'\n",
      "PUSH / _ => 'BakingBad'\n",
      "COMPARE / 'BakingBad' : 'bakingbad' => -1\n",
      "EQ / -1 => False\n",
      "DUMP => [False, True]"
     ]
    },
    {
     "data": {
      "text/html": [
       "<h4>Stack updates</h4><table>\n",
       "<thead>\n",
       "<tr><th>index                                 </th><th>type                                     </th><th>value                                     </th></tr>\n",
       "</thead>\n",
       "<tbody>\n",
       "<tr><td><pre style=&quot;text-align: left;&quot;>0</pre></td><td><pre style=&quot;text-align: left;&quot;>bool</pre></td><td><pre style=&quot;text-align: left;&quot;>False</pre></td></tr>\n",
       "<tr><td><pre style=&quot;text-align: left;&quot;>1</pre></td><td><pre style=&quot;text-align: left;&quot;>bool</pre></td><td><pre style=&quot;text-align: left;&quot;>True</pre> </td></tr>\n",
       "</tbody>\n",
       "</table>"
      ],
      "text/plain": [
       "Stack updates\n",
       "  index  type    value\n",
       "-------  ------  -------\n",
       "      0  bool    False\n",
       "      1  bool    True"
      ]
     },
     "execution_count": 11,
     "metadata": {},
     "output_type": "execute_result"
    }
   ],
   "source": [
    "DROP_ALL ;\n",
    "PUSH string \"tezos\" ;\n",
    "PUSH string \"tezos\" ;\n",
    "CMPEQ @first_example ;\n",
    "PUSH string \"bakingbad\" ;\n",
    "PUSH string \"BakingBad\" ;\n",
    "CMPEQ @second_example ;\n",
    "DUMP ;"
   ]
  },
  {
   "cell_type": "markdown",
   "metadata": {},
   "source": [
    "As you can see, **`COMPARE`** is case-sensitive, so it is very important to verify this won't produce false negative results.\n",
    "\n",
    "## Working with lists\n",
    "\n",
    "After manipulating strings, you may want to save them in the storage of the smart contract. Michelson offers different solutions for that, for example sets and maps, but you may prefer a *list*. A list is a special structure that contains different values of the same type. One of its characteristics is that a list is *immutable*, meaning that when you want to add an element to a list, you actually create a new list made of the new element in the first position (which we call the *head*) and the elements of the previous list starting at the second position (the previous list is called the *tail*). Lists are also ordered, which means that their elements are in a specific order.\n",
    "\n",
    "You probably remember how to create an empty list from the contracts we already wrote so far, with `NIL \"type\"`. The **`NIL`** instruction creates a new empty list that will accept elements of the type you specified. For example, **`NIL operation`** is a list that accepts elements of type `operation`. Once you created an empty list, you can easily add an element with the **`CONS`** instruction. First, you push the element onto the stack, next to the list before using **`CONS`**:"
   ]
  },
  {
   "cell_type": "code",
   "execution_count": 12,
   "metadata": {},
   "outputs": [
    {
     "name": "stdout",
     "output_type": "stream",
     "text": [
      "storage: updated\n",
      "parameter: updated\n",
      "code: updated\n",
      "BEGIN %default / _ => ('tezos' * [])\n",
      "CAR / ('tezos' * []) => 'tezos'\n",
      "NIL / _ => []\n",
      "SWAP / [] : 'tezos' => 'tezos' : []\n",
      "CONS / 'tezos' : [] => ['tezos']\n",
      "NIL / _ => []\n",
      "PAIR / [] : ['tezos'] => ([] * ['tezos'])\n",
      "END %default / ([] * ['tezos']) => _"
     ]
    },
    {
     "data": {
      "text/html": [
       "<h4>Operations</h4><h4>Storage</h4><table>\n",
       "<thead>\n",
       "<tr><th>type                                              </th><th>value                                         </th></tr>\n",
       "</thead>\n",
       "<tbody>\n",
       "<tr><td><pre style=&quot;text-align: left;&quot;>list (string)</pre></td><td><pre style=&quot;text-align: left;&quot;>[&#x27;tezos&#x27;]</pre></td></tr>\n",
       "</tbody>\n",
       "</table>"
      ],
      "text/plain": [
       "Operations\n",
       "Storage\n",
       "type           value\n",
       "-------------  ---------\n",
       "list (string)  ['tezos']"
      ]
     },
     "execution_count": 12,
     "metadata": {},
     "output_type": "execute_result"
    }
   ],
   "source": [
    "storage (list string) ;\n",
    "parameter string ;\n",
    "code {\n",
    "    CAR ;\n",
    "    NIL string ;\n",
    "    SWAP ;\n",
    "    CONS ;\n",
    "    NIL operation ;\n",
    "    PAIR ;\n",
    "} ;\n",
    "\n",
    "RUN %default \"tezos\" {};"
   ]
  },
  {
   "cell_type": "markdown",
   "metadata": {},
   "source": [
    "If you wish, you can also push an existing list onto the stack like so:"
   ]
  },
  {
   "cell_type": "code",
   "execution_count": 24,
   "metadata": {},
   "outputs": [
    {
     "name": "stdout",
     "output_type": "stream",
     "text": [
      "storage: updated\n",
      "parameter: updated\n",
      "code: updated\n",
      "BEGIN %default / _ => ('tezos' * [])\n",
      "DROP / ('tezos' * []) => _\n",
      "PUSH / _ => ['baking', 'bad']\n",
      "NIL / _ => []\n",
      "PAIR / [] : ['baking', 'bad'] => ([] * ['baking', 'bad'])\n",
      "END %default / ([] * ['baking', 'bad']) => _"
     ]
    },
    {
     "data": {
      "text/html": [
       "<h4>Operations</h4><h4>Storage</h4><table>\n",
       "<thead>\n",
       "<tr><th>type                                              </th><th>value                                                 </th></tr>\n",
       "</thead>\n",
       "<tbody>\n",
       "<tr><td><pre style=&quot;text-align: left;&quot;>list (string)</pre></td><td><pre style=&quot;text-align: left;&quot;>[&#x27;baking&#x27;, &#x27;bad&#x27;]</pre></td></tr>\n",
       "</tbody>\n",
       "</table>"
      ],
      "text/plain": [
       "Operations\n",
       "Storage\n",
       "type           value\n",
       "-------------  -----------------\n",
       "list (string)  ['baking', 'bad']"
      ]
     },
     "execution_count": 24,
     "metadata": {},
     "output_type": "execute_result"
    }
   ],
   "source": [
    "storage (list string) ;\n",
    "parameter string ;\n",
    "code {\n",
    "    DROP ;\n",
    "    PUSH (list string) {\"baking\"; \"bad\"} ;\n",
    "    NIL operation ;\n",
    "    PAIR ;\n",
    "} ;\n",
    "\n",
    "RUN %default \"tezos\" {};"
   ]
  },
  {
   "cell_type": "markdown",
   "metadata": {},
   "source": [
    "After the list has been added to the stack, you can add new elements at the beginning (*the head*):"
   ]
  },
  {
   "cell_type": "code",
   "execution_count": 14,
   "metadata": {},
   "outputs": [
    {
     "name": "stdout",
     "output_type": "stream",
     "text": [
      "storage: updated\n",
      "parameter: updated\n",
      "code: updated\n",
      "BEGIN %default / _ => ('tezos' * [])\n",
      "CAR / ('tezos' * []) => 'tezos'\n",
      "PUSH / _ => ['baking', 'bad']\n",
      "SWAP / ['baking', 'bad'] : 'tezos' => 'tezos' : ['baking', 'bad']\n",
      "CONS / 'tezos' : ['baking', 'bad'] => ['tezos', 'baking', 'bad']\n",
      "NIL / _ => []\n",
      "PAIR / [] : ['tezos', 'baking', 'bad'] => ([] * ['tezos', 'baking', 'bad'])\n",
      "END %default / ([] * ['tezos', 'baking', 'bad']) => _"
     ]
    },
    {
     "data": {
      "text/html": [
       "<h4>Operations</h4><h4>Storage</h4><table>\n",
       "<thead>\n",
       "<tr><th>type                                              </th><th>value                                                          </th></tr>\n",
       "</thead>\n",
       "<tbody>\n",
       "<tr><td><pre style=&quot;text-align: left;&quot;>list (string)</pre></td><td><pre style=&quot;text-align: left;&quot;>[&#x27;tezos&#x27;, &#x27;baking&#x27;, &#x27;bad&#x27;]</pre></td></tr>\n",
       "</tbody>\n",
       "</table>"
      ],
      "text/plain": [
       "Operations\n",
       "Storage\n",
       "type           value\n",
       "-------------  --------------------------\n",
       "list (string)  ['tezos', 'baking', 'bad']"
      ]
     },
     "execution_count": 14,
     "metadata": {},
     "output_type": "execute_result"
    }
   ],
   "source": [
    "storage (list string) ;\n",
    "parameter string ;\n",
    "code {\n",
    "    CAR;\n",
    "    PUSH (list string) {\"baking\"; \"bad\"} ;\n",
    "    SWAP ;\n",
    "    CONS ;\n",
    "    NIL operation ;\n",
    "    PAIR ;\n",
    "} ;\n",
    "\n",
    "RUN %default \"tezos\" {};"
   ]
  },
  {
   "cell_type": "markdown",
   "metadata": {},
   "source": [
    "Sometimes, you may want to check a list and implement different behaviors if the list is empty or not. In this case, you can use **`IF_CONS`** which verifies if there is a head to the provided list. Like the other **`IF`** instructions, you need to create two branches, the first one will be executed if **`IF_CONS`** is `True` and the second one will be executed if it is `False`:"
   ]
  },
  {
   "cell_type": "code",
   "execution_count": 15,
   "metadata": {},
   "outputs": [
    {
     "name": "stdout",
     "output_type": "stream",
     "text": [
      "storage: updated\n",
      "parameter: updated\n",
      "code: updated\n",
      "BEGIN %default / _ => ('tezos' * [])\n",
      "DUP / ('tezos' * []) => ('tezos' * []) : ('tezos' * [])\n",
      "CAR / ('tezos' * []) => 'tezos'\n",
      "SWAP / 'tezos' : ('tezos' * []) => ('tezos' * []) : 'tezos'\n",
      "CDR / ('tezos' * []) => []\n",
      "IF_CONS / [] => _\n",
      "NIL / _ => []\n",
      "SWAP / [] : 'tezos' => 'tezos' : []\n",
      "CONS / 'tezos' : [] => ['tezos']\n",
      "NIL / _ => []\n",
      "PAIR / [] : ['tezos'] => ([] * ['tezos'])\n",
      "END %default / ([] * ['tezos']) => _"
     ]
    },
    {
     "data": {
      "text/html": [
       "<h4>Operations</h4><h4>Storage</h4><table>\n",
       "<thead>\n",
       "<tr><th>type                                              </th><th>value                                         </th></tr>\n",
       "</thead>\n",
       "<tbody>\n",
       "<tr><td><pre style=&quot;text-align: left;&quot;>list (string)</pre></td><td><pre style=&quot;text-align: left;&quot;>[&#x27;tezos&#x27;]</pre></td></tr>\n",
       "</tbody>\n",
       "</table>"
      ],
      "text/plain": [
       "Operations\n",
       "Storage\n",
       "type           value\n",
       "-------------  ---------\n",
       "list (string)  ['tezos']"
      ]
     },
     "execution_count": 15,
     "metadata": {},
     "output_type": "execute_result"
    }
   ],
   "source": [
    "storage (list string) ;\n",
    "parameter string ;\n",
    "code {\n",
    "    DUP ;\n",
    "    CAR ;\n",
    "    SWAP ;\n",
    "    CDR ;\n",
    "    IF_CONS\n",
    "        { FAIL }\n",
    "        { NIL string ; SWAP ; CONS } ;\n",
    "    NIL operation ;\n",
    "    PAIR ;\n",
    "} ;\n",
    "\n",
    "RUN %default \"tezos\" {} ;\n",
    "## RUN %default \"tezos\" { \"test\" } ;"
   ]
  },
  {
   "cell_type": "markdown",
   "metadata": {},
   "source": [
    "Be careful as **`IF_CONS`** is going to remove the list you are checking. You should duplicate it with **`DUP`** first or if you are checking for an empty string like in this example, you can just push another empty string.  \n",
    "If you comment the first `RUN` and comment out the second, you will see the expected behavior of the contract as it fails when the list in the storage is not empty.\n",
    "\n",
    "Another useful instruction to check lists is **`SIZE`** which returns the number of elements in a list as a `nat` (as usual, the number of elements cannot be negative):"
   ]
  },
  {
   "cell_type": "code",
   "execution_count": 16,
   "metadata": {},
   "outputs": [
    {
     "name": "stdout",
     "output_type": "stream",
     "text": [
      "storage: updated\n",
      "parameter: updated\n",
      "code: updated\n",
      "BEGIN %default / _ => ([7, 4, 6] * 0)\n",
      "CAR / ([7, 4, 6] * 0) => [7, 4, 6]\n",
      "SIZE / [7, 4, 6] => 3\n",
      "NIL / _ => []\n",
      "PAIR / [] : 3 => ([] * 3)\n",
      "END %default / ([] * 3) => _"
     ]
    },
    {
     "data": {
      "text/html": [
       "<h4>Operations</h4><h4>Storage</h4><table>\n",
       "<thead>\n",
       "<tr><th>type                                    </th><th>value                                 </th></tr>\n",
       "</thead>\n",
       "<tbody>\n",
       "<tr><td><pre style=&quot;text-align: left;&quot;>nat</pre></td><td><pre style=&quot;text-align: left;&quot;>3</pre></td></tr>\n",
       "</tbody>\n",
       "</table>"
      ],
      "text/plain": [
       "Operations\n",
       "Storage\n",
       "type      value\n",
       "------  -------\n",
       "nat           3"
      ]
     },
     "execution_count": 16,
     "metadata": {},
     "output_type": "execute_result"
    }
   ],
   "source": [
    "storage nat ;\n",
    "parameter (list int) ;\n",
    "code {\n",
    "    CAR ;\n",
    "    SIZE ;\n",
    "    NIL operation ;\n",
    "    PAIR ;\n",
    "} ;\n",
    "\n",
    "RUN %default { 7 ; 4 ; 6 } 0 ;"
   ]
  },
  {
   "cell_type": "markdown",
   "metadata": {},
   "source": [
    "This is a very simple contract that saves in its storage the length of a list. Try to add or remove elements in the list to see it work 😊\n",
    "\n",
    "One of the powers of list is that they are *iterable*, it means that you can go through the elements one by one, either to check them or modify them. Michelson offers two instructions to loop through lists: **`ITER`** and **`MAP`**. Although they work in a very similar way, they yield very different results. Let's start with **`ITER`**. One of the best ways to understand what it does is to see it in action:"
   ]
  },
  {
   "cell_type": "code",
   "execution_count": 17,
   "metadata": {},
   "outputs": [
    {
     "name": "stdout",
     "output_type": "stream",
     "text": [
      "storage: updated\n",
      "parameter: updated\n",
      "BEGIN %default / _ => ([7, 9, 3] * 0)\n",
      "CAR / ([7, 9, 3] * 0) => [7, 9, 3]\n",
      "DUMP => [[7, 9, 3]]"
     ]
    },
    {
     "data": {
      "text/html": [
       "<h4>Stack updates</h4><table>\n",
       "<thead>\n",
       "<tr><th>index                                 </th><th>type                                           </th><th>value                                         </th></tr>\n",
       "</thead>\n",
       "<tbody>\n",
       "<tr><td><pre style=&quot;text-align: left;&quot;>0</pre></td><td><pre style=&quot;text-align: left;&quot;>list (int)</pre></td><td><pre style=&quot;text-align: left;&quot;>[7, 9, 3]</pre></td></tr>\n",
       "</tbody>\n",
       "</table>"
      ],
      "text/plain": [
       "Stack updates\n",
       "  index  type        value\n",
       "-------  ----------  ---------\n",
       "      0  list (int)  [7, 9, 3]"
      ]
     },
     "execution_count": 17,
     "metadata": {},
     "output_type": "execute_result"
    }
   ],
   "source": [
    "storage int ;\n",
    "parameter (list int) ;\n",
    "BEGIN { 7 ; 9 ; 3 } 0;\n",
    "CAR ; DUMP ;"
   ]
  },
  {
   "cell_type": "markdown",
   "metadata": {},
   "source": [
    "This part is simple, we create a new contract and use a list of `int` as a parameter before extracting the list and putting it on top of the stack. Now comes **`ITER`**:"
   ]
  },
  {
   "cell_type": "code",
   "execution_count": 18,
   "metadata": {},
   "outputs": [
    {
     "name": "stdout",
     "output_type": "stream",
     "text": [
      "ITER / [7, 9, 3] => 7\n",
      "ITER / _ => 9\n",
      "ITER / _ => 3\n",
      "DUMP => [3, 9, 7]"
     ]
    },
    {
     "data": {
      "text/html": [
       "<h4>Stack updates</h4><table>\n",
       "<thead>\n",
       "<tr><th>index                                 </th><th>type                                    </th><th>value                                 </th></tr>\n",
       "</thead>\n",
       "<tbody>\n",
       "<tr><td><pre style=&quot;text-align: left;&quot;>0</pre></td><td><pre style=&quot;text-align: left;&quot;>int</pre></td><td><pre style=&quot;text-align: left;&quot;>3</pre></td></tr>\n",
       "<tr><td><pre style=&quot;text-align: left;&quot;>1</pre></td><td><pre style=&quot;text-align: left;&quot;>int</pre></td><td><pre style=&quot;text-align: left;&quot;>9</pre></td></tr>\n",
       "<tr><td><pre style=&quot;text-align: left;&quot;>2</pre></td><td><pre style=&quot;text-align: left;&quot;>int</pre></td><td><pre style=&quot;text-align: left;&quot;>7</pre></td></tr>\n",
       "</tbody>\n",
       "</table>"
      ],
      "text/plain": [
       "Stack updates\n",
       "  index  type      value\n",
       "-------  ------  -------\n",
       "      0  int           3\n",
       "      1  int           9\n",
       "      2  int           7"
      ]
     },
     "execution_count": 18,
     "metadata": {},
     "output_type": "execute_result"
    }
   ],
   "source": [
    "ITER {} ;\n",
    "DUMP ;"
   ]
  },
  {
   "cell_type": "markdown",
   "metadata": {},
   "source": [
    "In its simplest form, **`ITER`** only takes a *body expression* (the two curly braces) and runs every element of the list against the code inside the curly braces. The first element is pushed onto the stack and the instructions inside the curly braces are run as usual. When there are no more instructions to run, **`ITER`** pushes the second element of the list onto the stack, runs the instructions, and so on until the end of the list.\n",
    "\n",
    "To demonstrate it, we could take each element of the list and add `2` to it:"
   ]
  },
  {
   "cell_type": "code",
   "execution_count": 19,
   "metadata": {},
   "outputs": [
    {
     "name": "stdout",
     "output_type": "stream",
     "text": [
      "PUSH / _ => [7, 9, 3]\n",
      "ITER / [7, 9, 3] => 7\n",
      "PUSH / _ => 2\n",
      "ADD / 2 : 7 => 9\n",
      "ITER / _ => 9\n",
      "PUSH / _ => 2\n",
      "ADD / 2 : 9 => 11\n",
      "ITER / _ => 3\n",
      "PUSH / _ => 2\n",
      "ADD / 2 : 3 => 5\n",
      "DUMP => [5, 11, 9]"
     ]
    },
    {
     "data": {
      "text/html": [
       "<h4>Stack updates</h4><table>\n",
       "<thead>\n",
       "<tr><th>index                                 </th><th>type                                    </th><th>value                                  </th></tr>\n",
       "</thead>\n",
       "<tbody>\n",
       "<tr><td><pre style=&quot;text-align: left;&quot;>0</pre></td><td><pre style=&quot;text-align: left;&quot;>int</pre></td><td><pre style=&quot;text-align: left;&quot;>5</pre> </td></tr>\n",
       "<tr><td><pre style=&quot;text-align: left;&quot;>1</pre></td><td><pre style=&quot;text-align: left;&quot;>int</pre></td><td><pre style=&quot;text-align: left;&quot;>11</pre></td></tr>\n",
       "<tr><td><pre style=&quot;text-align: left;&quot;>2</pre></td><td><pre style=&quot;text-align: left;&quot;>int</pre></td><td><pre style=&quot;text-align: left;&quot;>9</pre> </td></tr>\n",
       "</tbody>\n",
       "</table>"
      ],
      "text/plain": [
       "Stack updates\n",
       "  index  type      value\n",
       "-------  ------  -------\n",
       "      0  int           5\n",
       "      1  int          11\n",
       "      2  int           9"
      ]
     },
     "execution_count": 19,
     "metadata": {},
     "output_type": "execute_result"
    }
   ],
   "source": [
    "DROP_ALL ;\n",
    "PUSH (list int) { 7 ; 9 ; 3 } ;\n",
    "ITER { PUSH int 2 ; ADD } ;\n",
    "DUMP ;"
   ]
  },
  {
   "cell_type": "markdown",
   "metadata": {},
   "source": [
    "First observation from this code snippet, **`ITER`** removes the list from the stack. Make sure to duplicate it if you need it later.  \n",
    "Next, the elements present in the stack are indeed the values from the list + `2` for each value. Remember that the first value in the list will be the last one in the resulting stack. Here is another example:"
   ]
  },
  {
   "cell_type": "code",
   "execution_count": 20,
   "metadata": {},
   "outputs": [
    {
     "name": "stdout",
     "output_type": "stream",
     "text": [
      "PUSH / _ => ['John', 'Amir', 'Stella']\n",
      "ITER / ['John', 'Amir', 'Stella'] => 'John'\n",
      "PUSH / _ => 'Hello '\n",
      "CONCAT / 'Hello ' : 'John' => 'Hello John'\n",
      "ITER / _ => 'Amir'\n",
      "PUSH / _ => 'Hello '\n",
      "CONCAT / 'Hello ' : 'Amir' => 'Hello Amir'\n",
      "ITER / _ => 'Stella'\n",
      "PUSH / _ => 'Hello '\n",
      "CONCAT / 'Hello ' : 'Stella' => 'Hello Stella'\n",
      "DUMP => ['Hello Stella', 'Hello Amir', 'Hello John']"
     ]
    },
    {
     "data": {
      "text/html": [
       "<h4>Stack updates</h4><table>\n",
       "<thead>\n",
       "<tr><th>index                                 </th><th>type                                       </th><th>value                                            </th></tr>\n",
       "</thead>\n",
       "<tbody>\n",
       "<tr><td><pre style=&quot;text-align: left;&quot;>0</pre></td><td><pre style=&quot;text-align: left;&quot;>string</pre></td><td><pre style=&quot;text-align: left;&quot;>Hello Stella</pre></td></tr>\n",
       "<tr><td><pre style=&quot;text-align: left;&quot;>1</pre></td><td><pre style=&quot;text-align: left;&quot;>string</pre></td><td><pre style=&quot;text-align: left;&quot;>Hello Amir</pre>  </td></tr>\n",
       "<tr><td><pre style=&quot;text-align: left;&quot;>2</pre></td><td><pre style=&quot;text-align: left;&quot;>string</pre></td><td><pre style=&quot;text-align: left;&quot;>Hello John</pre>  </td></tr>\n",
       "</tbody>\n",
       "</table>"
      ],
      "text/plain": [
       "Stack updates\n",
       "  index  type    value\n",
       "-------  ------  ------------\n",
       "      0  string  Hello Stella\n",
       "      1  string  Hello Amir\n",
       "      2  string  Hello John"
      ]
     },
     "execution_count": 20,
     "metadata": {},
     "output_type": "execute_result"
    }
   ],
   "source": [
    "DROP_ALL ;\n",
    "PUSH (list string) { \"John\" ; \"Amir\" ; \"Stella\" } ;\n",
    "ITER { PUSH string \"Hello \" ; CONCAT } ;\n",
    "DUMP ;"
   ]
  },
  {
   "cell_type": "markdown",
   "metadata": {},
   "source": [
    "This is how you can greet all the people in a list! **`ITER`** goes through the list, takes the elements one by one and adds \"Hello \" in front of each name. You can add the level of complexity you want in the body expression (we'll keep that for the exercices!)\n",
    "\n",
    "The second iterative instruction is **`MAP`**. It works in a very similar fashion: you write a body expression next to the instruction with the instructions you want to apply to the elements of the list. However, this time, **`MAP`** is going to return a new list!\n",
    "\n",
    "To observe clearly the difference between these two instruction, let's get our first example and replace **`ITER`** with **`MAP`**:"
   ]
  },
  {
   "cell_type": "code",
   "execution_count": 21,
   "metadata": {},
   "outputs": [
    {
     "name": "stdout",
     "output_type": "stream",
     "text": [
      "PUSH / _ => [7, 9, 3]\n",
      "MAP / [7, 9, 3] => 7\n",
      "PUSH / _ => 2\n",
      "ADD / 2 : 7 => 9\n",
      "MAP / 9 => 9\n",
      "PUSH / _ => 2\n",
      "ADD / 2 : 9 => 11\n",
      "MAP / 11 => 3\n",
      "PUSH / _ => 2\n",
      "ADD / 2 : 3 => 5\n",
      "MAP / 5 => [9, 11, 5]\n",
      "DUMP => [[9, 11, 5]]"
     ]
    },
    {
     "data": {
      "text/html": [
       "<h4>Stack updates</h4><table>\n",
       "<thead>\n",
       "<tr><th>index                                 </th><th>type                                           </th><th>value                                          </th></tr>\n",
       "</thead>\n",
       "<tbody>\n",
       "<tr><td><pre style=&quot;text-align: left;&quot;>0</pre></td><td><pre style=&quot;text-align: left;&quot;>list (int)</pre></td><td><pre style=&quot;text-align: left;&quot;>[9, 11, 5]</pre></td></tr>\n",
       "</tbody>\n",
       "</table>"
      ],
      "text/plain": [
       "Stack updates\n",
       "  index  type        value\n",
       "-------  ----------  ----------\n",
       "      0  list (int)  [9, 11, 5]"
      ]
     },
     "execution_count": 21,
     "metadata": {},
     "output_type": "execute_result"
    }
   ],
   "source": [
    "DROP_ALL ;\n",
    "PUSH (list int) { 7 ; 9 ; 3 } ;\n",
    "MAP { PUSH int 2 ; ADD } ;\n",
    "DUMP ;"
   ]
  },
  {
   "cell_type": "markdown",
   "metadata": {},
   "source": [
    "As you can see, instead of having all the updated elements of the list one on top of the other in the stack, we have a single list where all the elements are in the same order as the previous one and are the result of the previous element value + `2`.\n",
    "\n",
    "As you can imagine, this is a powerful feature, it allows you to update a list of values in the same exact way. We can go even further with the pattern and apply a conditional to it. For example, you can ask the contract to increase the value in the list only if it is above a certain value:"
   ]
  },
  {
   "cell_type": "code",
   "execution_count": 22,
   "metadata": {},
   "outputs": [
    {
     "name": "stdout",
     "output_type": "stream",
     "text": [
      "PUSH / _ => [7, 9, 3, 4, 2]\n",
      "MAP / [7, 9, 3, 4, 2] => 7\n",
      "DUP / 7 => 7 : 7\n",
      "PUSH / _ => 4\n",
      "SWAP / 4 : 7 => 7 : 4\n",
      "COMPARE / 7 : 4 => 1\n",
      "GT / 1 => True\n",
      "IF / True => _\n",
      "PUSH / _ => 2\n",
      "ADD / 2 : 7 => 9\n",
      "MAP / 9 => 9\n",
      "DUP / 9 => 9 : 9\n",
      "PUSH / _ => 4\n",
      "SWAP / 4 : 9 => 9 : 4\n",
      "COMPARE / 9 : 4 => 1\n",
      "GT / 1 => True\n",
      "IF / True => _\n",
      "PUSH / _ => 2\n",
      "ADD / 2 : 9 => 11\n",
      "MAP / 11 => 3\n",
      "DUP / 3 => 3 : 3\n",
      "PUSH / _ => 4\n",
      "SWAP / 4 : 3 => 3 : 4\n",
      "COMPARE / 3 : 4 => -1\n",
      "GT / -1 => False\n",
      "IF / False => _\n",
      "MAP / 3 => 4\n",
      "DUP / 4 => 4 : 4\n",
      "PUSH / _ => 4\n",
      "SWAP / 4 : 4 => 4 : 4\n",
      "COMPARE / 4 : 4 => 0\n",
      "GT / 0 => False\n",
      "IF / False => _\n",
      "MAP / 4 => 2\n",
      "DUP / 2 => 2 : 2\n",
      "PUSH / _ => 4\n",
      "SWAP / 4 : 2 => 2 : 4\n",
      "COMPARE / 2 : 4 => -1\n",
      "GT / -1 => False\n",
      "IF / False => _\n",
      "MAP / 2 => [9, 11, 3, 4, 2]\n",
      "DUMP => [[9, 11, 3, 4, 2]]"
     ]
    },
    {
     "data": {
      "text/html": [
       "<h4>Stack updates</h4><table>\n",
       "<thead>\n",
       "<tr><th>index                                 </th><th>type                                           </th><th>value                                                </th></tr>\n",
       "</thead>\n",
       "<tbody>\n",
       "<tr><td><pre style=&quot;text-align: left;&quot;>0</pre></td><td><pre style=&quot;text-align: left;&quot;>list (int)</pre></td><td><pre style=&quot;text-align: left;&quot;>[9, 11, 3, 4, 2]</pre></td></tr>\n",
       "</tbody>\n",
       "</table>"
      ],
      "text/plain": [
       "Stack updates\n",
       "  index  type        value\n",
       "-------  ----------  ----------------\n",
       "      0  list (int)  [9, 11, 3, 4, 2]"
      ]
     },
     "execution_count": 22,
     "metadata": {},
     "output_type": "execute_result"
    }
   ],
   "source": [
    "DROP_ALL ;\n",
    "PUSH (list int) { 7 ; 9 ; 3 ; 4 ; 2 } ;\n",
    "MAP {\n",
    "        DUP ;\n",
    "        PUSH int 4 ;\n",
    "        SWAP ;\n",
    "        IFCMPGT\n",
    "            { PUSH int 2 ; ADD }\n",
    "            {}\n",
    "} ;\n",
    "DUMP ;"
   ]
  },
  {
   "cell_type": "markdown",
   "metadata": {},
   "source": [
    "Don't let the long list of operations scare you, what happens under the hood is actually quite simple!  \n",
    "First, we add a new list of `int` on top of the stack. Then, we loop through it using the **`MAP`** instruction. At the beginning of each iteration, the **`MAP`** instruction pushes the current value on the stack. We duplicate it (because we will need this value later if the comparison yields `True`), we push `4` onto the stack for the comparison and we swap the position of the list value and the comparison element to put them in the right order. **`IFCMPGT`** checks if the top element is greater than the element below. If `True`, we push `2` and add it to the number remaining on the stack. Otherwise, the value from the list is pushed into the new list with no change. You can use the same type for the new list (like in our example) or you can create a list with a different type too!"
   ]
  },
  {
   "cell_type": "markdown",
   "metadata": {},
   "source": [
    "## Exercises\n",
    "\n",
    "1. Write a contract that saves a reversed version of the provided string in the parameter. The string must be 5 characters long.  \n",
    "    (As we haven't seen plain loops yet, we keep the string short, for example \"Tezos\" and be creative with a list)"
   ]
  },
  {
   "cell_type": "code",
   "execution_count": null,
   "metadata": {},
   "outputs": [],
   "source": [
    "## Write your code here"
   ]
  },
  {
   "cell_type": "markdown",
   "metadata": {},
   "source": [
    "<details>\n",
    "    <summary>Solution</summary>\n",
    "    <p>Copy-paste the solution in the cell above to compile it!</p>\n",
    "    <p>Please note that this is just an exercise and there are more elegant and efficient ways to arrive to the same result that you will learn in more advanced lessons later :)</p>\n",
    "    <br />\n",
    "    <pre>\n",
    "        parameter string ;\n",
    "        storage string ;\n",
    "        code {\n",
    "            CAR ;\n",
    "            DUP ;\n",
    "            SIZE ;\n",
    "            PUSH nat 5 ;\n",
    "            IFCMPNEQ\n",
    "                { FAIL }\n",
    "                {\n",
    "                    NIL string ;\n",
    "                    SWAP ;\n",
    "                    DUP ; PUSH nat 1 ; PUSH nat 0 ; SLICE ;\n",
    "                    IF_SOME { DIG 2 ; SWAP ; CONS ; SWAP } { FAIL } ;\n",
    "                    DUP ; PUSH nat 1 ; PUSH nat 1 ; SLICE ;\n",
    "                    IF_SOME { DIG 2 ; SWAP ; CONS ; SWAP } { FAIL } ;\n",
    "                    DUP ; PUSH nat 1 ; PUSH nat 2 ; SLICE ;\n",
    "                    IF_SOME { DIG 2 ; SWAP ; CONS ; SWAP } { FAIL } ;\n",
    "                    DUP ; PUSH nat 1 ; PUSH nat 3 ; SLICE ;\n",
    "                    IF_SOME { DIG 2 ; SWAP ; CONS ; SWAP } { FAIL } ;\n",
    "                    PUSH nat 1 ; PUSH nat 4 ; SLICE ;\n",
    "                    IF_SOME { CONS } { FAIL } ;\n",
    "                    PUSH string \"\" ;\n",
    "                    SWAP ;\n",
    "                    ITER { SWAP ; CONCAT } ;\n",
    "                    NIL operation ;\n",
    "                    PAIR ;\n",
    "                }\n",
    "        } ;\n",
    "        RUN %default \"Tezos\" \"\" ;\n",
    "    </pre>\n",
    "</details>"
   ]
  },
  {
   "cell_type": "markdown",
   "metadata": {},
   "source": [
    "2. Write a contract that receives a list of strings and creates a new list with the strings whose size is less or equal to 5 characters and replaces the longer strings with an \"X\". Store the new list into the storage."
   ]
  },
  {
   "cell_type": "code",
   "execution_count": null,
   "metadata": {},
   "outputs": [],
   "source": [
    "## Write your code here"
   ]
  },
  {
   "cell_type": "markdown",
   "metadata": {},
   "source": [
    "<details>\n",
    "    <summary>Solution</summary>\n",
    "    <p>Copy-paste the solution in the cell above to compile it!</p>\n",
    "    <br />\n",
    "    <pre>\n",
    "        storage (list string) ;\n",
    "        parameter (list string) ;\n",
    "        code {\n",
    "            CAR ;\n",
    "            MAP {\n",
    "                DUP ;\n",
    "                SIZE ;\n",
    "                PUSH nat 5 ;\n",
    "                IFCMPGE\n",
    "                    {}\n",
    "                    { DROP; PUSH string \"X\" }\n",
    "            } ;\n",
    "            NIL operation ;\n",
    "            PAIR\n",
    "        } ;\n",
    "        RUN %default { \"tezos\" ; \"bakingbad\" ; \"taco\" ; \"crypto\" } {} ;\n",
    "    </pre>\n",
    "</details>"
   ]
  },
  {
   "cell_type": "code",
   "execution_count": null,
   "metadata": {},
   "outputs": [],
   "source": []
  }
 ],
 "metadata": {
  "kernelspec": {
   "display_name": "Michelson",
   "language": "michelson",
   "name": "michelson"
  },
  "language_info": {
   "codemirror_mode": "michelson",
   "file_extension": ".tz",
   "mimetype": "text/x-michelson",
   "name": "Michelson"
  }
 },
 "nbformat": 4,
 "nbformat_minor": 4
}

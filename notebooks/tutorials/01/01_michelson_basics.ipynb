{
 "cells": [
  {
   "cell_type": "markdown",
   "metadata": {},
   "source": [
    "# Chapter 1\n",
    "\n",
    "This chapter is an introduction to Michelson smart contracts structure and conventions."
   ]
  },
  {
   "cell_type": "markdown",
   "metadata": {},
   "source": [
    "## Understanding the stack"
   ]
  },
  {
   "cell_type": "markdown",
   "metadata": {},
   "source": [
    "Michelson is a *low-level* programming language, which means that it doesn't offer all the features of *high-level* programming languages you may be used to, like JavaScript or C++. For example, there are no variables in Michelson. \n",
    "\n",
    "Every time you write code in Michelson, you must keep something in mind called \"**the stack**\". You can imagine the stack as a game of Jenga: it is a collection of elements that you pile up on top of each other, the goal of \"Michelson Jenga\" being to remove all the pieces except for a specific one that must remain at the end. In order to play, you are given a list of *instructions* that can manipulate the pieces of the game: you can remove them, change their position, add some more on top, check if two pieces are the same to remove them, etc., but one false move and the stack collapses (which we call *failing*).  \n",
    "\n",
    "As there are no variables, the position of the elements in the stack is crucial: the instructions you use will operate on the elements according to their positions."
   ]
  },
  {
   "cell_type": "markdown",
   "metadata": {},
   "source": [
    "## Structure of a Smart Contract"
   ]
  },
  {
   "cell_type": "markdown",
   "metadata": {},
   "source": [
    "A smart contract in Michelson displays a simple structure with 3 parts:\n",
    "1. A part indicating the type of the parameter\n",
    "2. A part indicating the type of the storage\n",
    "3. The code to be executed on incoming transactions "
   ]
  },
  {
   "cell_type": "markdown",
   "metadata": {},
   "source": [
    "For every incoming transaction, there will be only one argument. However, the argument can be, for example, a pair that contains 2 elements. Likewise, the storage is made of a single value, which can also be a pair, a map, etc. that contains multiple values. When a transaction is sent to the smart contract, a pair is pushed onto the stack containing the parameter sent to the contract and its current storage."
   ]
  },
  {
   "cell_type": "markdown",
   "metadata": {},
   "source": [
    "Here is an example of a very simple smart contract (which doesn't modify its storage):"
   ]
  },
  {
   "cell_type": "code",
   "execution_count": 2,
   "metadata": {},
   "outputs": [
    {
     "name": "stdout",
     "output_type": "stream",
     "text": [
      "storage unit;\n",
      "parameter unit;\n",
      "code { DROP ; PUSH unit Unit ; NIL operation ; PAIR };"
     ]
    }
   ],
   "source": [
    "storage unit ;\n",
    "parameter unit ;\n",
    "code {\n",
    "    DROP ;\n",
    "    PUSH unit Unit ;\n",
    "    NIL operation ;\n",
    "    PAIR\n",
    "}"
   ]
  },
  {
   "cell_type": "markdown",
   "metadata": {},
   "source": [
    "The smart contract removes the pair containing the parameter and the storage from the top of the stack, pushes a unit, an empty list of operation and pair them before returning them."
   ]
  },
  {
   "cell_type": "markdown",
   "metadata": {},
   "source": [
    "A smart contract in Michelson always has to return a pair containing a list of operations to be run after the end of the current execution and the new storage."
   ]
  },
  {
   "cell_type": "markdown",
   "metadata": {},
   "source": [
    "When you are ready to run the smart contract, you can open a new cell and type the following command:"
   ]
  },
  {
   "cell_type": "code",
   "execution_count": 2,
   "metadata": {},
   "outputs": [
    {
     "name": "stdout",
     "output_type": "stream",
     "text": [
      "RUN: use %default; drop all; push (Unit, Unit);\n",
      "  DROP: pop (Unit, Unit);\n",
      "  PUSH: push Unit;\n",
      "  NIL: push [];\n",
      "  PAIR: pop [], Unit; push ([], Unit);"
     ]
    },
    {
     "data": {
      "text/html": [
       "<table>\n",
       "<thead>\n",
       "<tr><th>value                                    </th><th>type                                     </th></tr>\n",
       "</thead>\n",
       "<tbody>\n",
       "<tr><td><pre style=\"text-align: left;\">Unit</pre></td><td><pre style=\"text-align: left;\">unit</pre></td></tr>\n",
       "</tbody>\n",
       "</table>"
      ],
      "text/plain": [
       "value    type\n",
       "-------  ------\n",
       "Unit     unit"
      ]
     },
     "execution_count": 2,
     "metadata": {},
     "output_type": "execute_result"
    }
   ],
   "source": [
    "RUN %default Unit Unit ;"
   ]
  },
  {
   "cell_type": "markdown",
   "metadata": {},
   "source": [
    "**RUN** starts the execution of the smart contract, **%default** targets the default entry point of the smart contract (the only one there is at the moment), the first **Unit** is the parameter and the second **Unit** is the storage."
   ]
  },
  {
   "cell_type": "markdown",
   "metadata": {},
   "source": [
    "## Operation codes"
   ]
  },
  {
   "cell_type": "raw",
   "metadata": {},
   "source": []
  },
  {
   "cell_type": "markdown",
   "metadata": {},
   "source": [
    "The *code* part of the Michelson contract consists of a serie of instructions that the contract will perform every time it is called. These instructions are run top to bottom and may or may not be followed by arguments. In general, for the operation codes that accept arguments, these arguments indicate the position of the element to manipulate in the stack, the type of value associated to the newly created element or the value itself.  \n",
    "Note that every instruction ends when a semi-colon is inserted (however, you can omit it for the last instruction in a block (for example **`PAIR`** at the end)."
   ]
  },
  {
   "cell_type": "markdown",
   "metadata": {},
   "source": [
    "Let's have a look at the instructions introduced earlier:"
   ]
  },
  {
   "cell_type": "markdown",
   "metadata": {},
   "source": [
    "**`DROP`**: this instruction gets rid of the first element on top of the stack."
   ]
  },
  {
   "cell_type": "markdown",
   "metadata": {},
   "source": [
    "**`PUSH`**: this instruction is the opposite of the `DROP` instruction and adds an element on top of the stack.   \n",
    "&nbsp;&nbsp;&nbsp;&nbsp;&nbsp;&nbsp;You must specify the type and the value, for example `PUSH string \"hello\"` or `PUSH int 3`."
   ]
  },
  {
   "cell_type": "markdown",
   "metadata": {},
   "source": [
    "**`NIL`**: like `PUSH`, `NIL` introduces a new element on top of the stack. This element is a list.  \n",
    "&nbsp;&nbsp;&nbsp;&nbsp;&nbsp;&nbsp;After the opcode, you must specify the type of values the list will contain (lists can only contain one single type).  \n",
    "&nbsp;&nbsp;&nbsp;&nbsp;&nbsp;&nbsp;As we need a list of operations to end the execution of the smart contract, we add an empty list of operations."
   ]
  },
  {
   "cell_type": "markdown",
   "metadata": {},
   "source": [
    "**`PAIR`**: finally, as the contract is expecting a pair containing a list of instructions and the new storage, we must create this pair.  \n",
    "&nbsp;&nbsp;&nbsp;&nbsp;&nbsp;&nbsp;The `PAIR` opcode takes the two elements on top of the stack and put them together in a pair.  \n",
    "&nbsp;&nbsp;&nbsp;&nbsp;&nbsp;&nbsp;The first one will be in the left position of the pair, the second one in the right position."
   ]
  },
  {
   "cell_type": "markdown",
   "metadata": {},
   "source": [
    "## Running the contract step-by-step"
   ]
  },
  {
   "cell_type": "markdown",
   "metadata": {},
   "source": [
    "This notebook allows you to run the smart contract step-by-step and visualize the state of the stack at every step!"
   ]
  },
  {
   "cell_type": "markdown",
   "metadata": {},
   "source": [
    "In order to use this feature, there are 3 instructions you must remember. These instructions are only used in the context of these notebooks and are NOT Michelson instructions:"
   ]
  },
  {
   "cell_type": "markdown",
   "metadata": {},
   "source": [
    "- **`BEGIN`**: use it to start the execution of the contract. You must also specify the parameter and the storage as in : `BEGIN param storage`.  \n",
    "- **`DUMP`**: add it to display the current state of the stack.  \n",
    "- **`COMMIT`**: use it to end the execution of the contract and return the list/storage pair."
   ]
  },
  {
   "cell_type": "markdown",
   "metadata": {},
   "source": [
    "Let's rewrite the example above and use these three instructions.  \n",
    "\n",
    "First, we set up the storage and parameter types:"
   ]
  },
  {
   "cell_type": "code",
   "execution_count": 3,
   "metadata": {},
   "outputs": [
    {
     "name": "stdout",
     "output_type": "stream",
     "text": [
      "storage unit;\n",
      "parameter unit;"
     ]
    }
   ],
   "source": [
    "storage unit ;\n",
    "parameter unit ;"
   ]
  },
  {
   "cell_type": "markdown",
   "metadata": {},
   "source": [
    "Then, we start the execution of the smart contract with the **`BEGIN`** instruction followed by the parameter and the storage:"
   ]
  },
  {
   "cell_type": "code",
   "execution_count": 4,
   "metadata": {},
   "outputs": [
    {
     "data": {
      "text/html": [
       "<table>\n",
       "<thead>\n",
       "<tr><th>value                                              </th><th>type                                               </th></tr>\n",
       "</thead>\n",
       "<tbody>\n",
       "<tr><td><pre style=\"text-align: left;\">Pair Unit Unit</pre></td><td><pre style=\"text-align: left;\">pair unit unit</pre></td></tr>\n",
       "</tbody>\n",
       "</table>"
      ],
      "text/plain": [
       "value           type\n",
       "--------------  --------------\n",
       "Pair Unit Unit  pair unit unit"
      ]
     },
     "execution_count": 4,
     "metadata": {},
     "output_type": "execute_result"
    }
   ],
   "source": [
    "BEGIN Unit Unit ;"
   ]
  },
  {
   "cell_type": "markdown",
   "metadata": {},
   "source": [
    "In this example, we are not going to use the storage or the parameter that are automatically pushed onto the stack at the beginning of the execution.  \n",
    "\n",
    "The **`DROP`** instruction removes the element on top of the stack. Its syntax will be explained in details in the next chapter:"
   ]
  },
  {
   "cell_type": "code",
   "execution_count": 5,
   "metadata": {},
   "outputs": [],
   "source": [
    "DROP ;"
   ]
  },
  {
   "cell_type": "markdown",
   "metadata": {},
   "source": [
    "The **`DUMP`** instruction is specific to these Jupyter notebooks (it is not a Michelson instruction) and it will simply print the current state of the stack:"
   ]
  },
  {
   "cell_type": "code",
   "execution_count": null,
   "metadata": {},
   "outputs": [],
   "source": [
    "DUMP ; ## The stack is empty now as we removed the only element that was there"
   ]
  },
  {
   "cell_type": "markdown",
   "metadata": {},
   "source": [
    "Next, we are going to insert a new element in the stack.  \n",
    "\n",
    "The **`PUSH`** instruction pushes a new element on top of the stack. When using it, you must specify the type of the element and its value, for example you can have `PUSH unit Unit`, `PUSH int 3`, `PUSH string \"Hello world\"`, etc. Make sure the value you choose is of the type you need:"
   ]
  },
  {
   "cell_type": "code",
   "execution_count": null,
   "metadata": {},
   "outputs": [],
   "source": [
    "PUSH unit Unit ;"
   ]
  },
  {
   "cell_type": "markdown",
   "metadata": {},
   "source": [
    "Every contract written in Michelson must return a pair value containing two things: a list of operations to be executed when the current execution ends and the new storage.  \n",
    "\n",
    "In case you don't want to execute any operation at the end of your code, you still have to return an empty list of transactions. This is what **`NIL operation`** does. It pushes an empty list of the type mentioned after `NIL` on top of the stack:"
   ]
  },
  {
   "cell_type": "code",
   "execution_count": null,
   "metadata": {},
   "outputs": [],
   "source": [
    "NIL operation ;"
   ]
  },
  {
   "cell_type": "markdown",
   "metadata": {},
   "source": [
    "As mentioned above, our smart contract must return a pair containing a list and the storage. We now have these two elements in the stack, so we can use the **`PAIR`** instruction to put them together in a pair. Please note that the order of the elements is important: the one in first position will be the left value in the newly created pair, the one in second position will be the right value:"
   ]
  },
  {
   "cell_type": "code",
   "execution_count": null,
   "metadata": {},
   "outputs": [],
   "source": [
    "PAIR ;"
   ]
  },
  {
   "cell_type": "markdown",
   "metadata": {},
   "source": [
    "After the pair is created, we can manually end the execution of the contract using the Jupyter notebook specific instruction **`COMMIT`**:"
   ]
  },
  {
   "cell_type": "code",
   "execution_count": null,
   "metadata": {},
   "outputs": [],
   "source": [
    "COMMIT ;"
   ]
  },
  {
   "cell_type": "markdown",
   "metadata": {},
   "source": [
    "## Exercice\n",
    "Write a smart contract in the cell below that saves a new string into the storage:"
   ]
  },
  {
   "cell_type": "code",
   "execution_count": null,
   "metadata": {},
   "outputs": [],
   "source": [
    "## Your code here"
   ]
  },
  {
   "cell_type": "markdown",
   "metadata": {},
   "source": [
    "<details>\n",
    "    <summary>Solution</summary>\n",
    "    <p>Copy-paste the solution in the cell above to compile it!</p>\n",
    "    <br />\n",
    "    <pre>\n",
    "        storage string ;\n",
    "        parameter unit ;\n",
    "        code {\n",
    "            DROP ;\n",
    "            PUSH string \"Welcome to the Michelson tutorials :)\" ;\n",
    "            NIL operation ;\n",
    "            PAIR\n",
    "        };\n",
    "        RUN %default Unit \"nothing\" ;\n",
    "    </pre>\n",
    "</details>"
   ]
  }
 ],
 "metadata": {
  "kernelspec": {
   "display_name": "Michelson",
   "language": "michelson",
   "name": "michelson"
  },
  "language_info": {
   "codemirror_mode": "michelson",
   "file_extension": ".tz",
   "mimetype": "text/x-michelson",
   "name": "Michelson"
  }
 },
 "nbformat": 4,
 "nbformat_minor": 4
}

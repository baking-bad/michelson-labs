{
 "cells": [
  {
   "cell_type": "markdown",
   "metadata": {},
   "source": [
    "# Chapter 14\n",
    "\n",
    "All the use cases we have explored so far follow a very simple flow: a transaction hits the smart contract, the parameter sent with the transaction and the storage are pushed as a pair onto the stack, the code of the contract manipulates the stack with or without the help of environment variables and a pair containing a list of transactions (that was until now empty) and the new storage is returned.\n",
    "\n",
    "However, smart contracts on the Tezos blockchain are also able to interact with the blockchain itself. They can create and send new transactions, they can delegate their funds to bakers and they can even originate new contracts! This will be the subject of this chapter.\n",
    "\n",
    "The interactions between your smart contract and the blockchain allow for the creation of rich and complex applications that can run multiple actions in the background while keeping the requirement for action from your users minimal. Let's start with one of the most important ones, the creation of new transactions!\n",
    "\n",
    "## Creating and sending transactions\n",
    "\n",
    "Until now, we have always returned an empty list of transactions at the end of our smart contracts. A list of transactions, may it be empty or not, is necessary to stop the execution of a smart contract. At the end of the contract, there are two kinds of transactions you may want to send to the network: an amount of tokens to send to an implicit account or a transaction to another smart contract.  \n",
    "It is important to remember that whatever happens inside the contract code has no effect on the blockchain. Nothing will be changed in the smart contract or the rest of blockchain before the contract returns a list of operations and its new storage. It may seem like a limitation, for example, it makes it more difficult to use data from another smart contract inside your contract, but it is actually a necessary security feature: this self-contained environment guarantees that no intervention from outside the contract can modify its storage. Your code modifies the storage without any outside influence in a very deterministic way.\n",
    "\n",
    "That being say, it is of course possible to interact with the Tezos blockchain from the smart contract, at the end of the execution. One of the most common interactions is sending a transaction. If you write a contract that holds people's funds, there should be a way to send them back to them! You could also write a contract that fetches some data from another contract (for example an oracle) and needs to send a transaction.\n",
    "\n",
    "Let's check first how sending a transaction to an implicit account looks like:"
   ]
  },
  {
   "cell_type": "code",
   "execution_count": 7,
   "metadata": {},
   "outputs": [
    {
     "name": "stdout",
     "output_type": "stream",
     "text": [
      "PATCH: set SENDER=tz1VSUr8wwNhLAzempoch5d6hLRiTh8Cjcjb;\n",
      "PATCH: set BALANCE=200;\n",
      "parameter mutez;\n",
      "storage unit;\n",
      "code { CAR ; DUP ; BALANCE ; { { COMPARE ; LT } ; IF { { UNIT ; FAILWITH } } { SENDER ; CONTRACT unit ; IF_NONE { { UNIT ; FAILWITH } } { SWAP ; UNIT ; TRANSFER_TOKENS ; NIL operation ; SWAP ; CONS ; UNIT ; SWAP ; PAIR } } } };\n",
      "RUN: use %default; drop all; push (100, Unit);\n",
      "CAR: pop (100, Unit); push 100;\n",
      "DUP: push 100;\n",
      "BALANCE: push 200;\n",
      "COMPARE: pop 200, 100; push 1;\n",
      "LT: pop 1; push False;\n",
      "IF: pop False;\n",
      "SENDER: push tz1VSUr8wwNhLAzempoch5d6hLRiTh8Cjcjb;\n",
      "CONTRACT: pop tz1VSUr8wwNhLAzempoch5d6hLRiTh8Cjcjb; skip check; push ('tz1VSUr8wwNhLAzempoch5d6hLRiTh8Cjcjb%default',);\n",
      "IF_NONE: pop ('tz1VSUr8wwNhLAzempoch5d6hLRiTh8Cjcjb%default',); push tz1VSUr8wwNhLAzempoch5d6hLRiTh8Cjcjb%default;\n",
      "SWAP: pop tz1VSUr8wwNhLAzempoch5d6hLRiTh8Cjcjb%default, 100; push tz1VSUr8wwNhLAzempoch5d6hLRiTh8Cjcjb%default; push 100;\n",
      "UNIT: push Unit;\n",
      "TRANSFER_TOKENS: pop Unit, 100, tz1VSUr8wwNhLAzempoch5d6hLRiTh8Cjcjb%default; set BALANCE=100; push <send 100 to tz1VSUr8wwNhLAzempoch5d6hLRiTh8Cjcjb>;\n",
      "NIL: push [];\n",
      "SWAP: pop [], <send 100 to tz1VSUr8wwNhLAzempoch5d6hLRiTh8Cjcjb>; push []; push <send 100 to tz1VSUr8wwNhLAzempoch5d6hLRiTh8Cjcjb>;\n",
      "CONS: pop <send 100 to tz1VSUr8wwNhLAzempoch5d6hLRiTh8Cjcjb>, []; push ['<send 100 to tz1VSUr8wwNhLAzempoch5d6hLRiTh8Cjcjb>'];\n",
      "UNIT: push Unit;\n",
      "SWAP: pop Unit, ['<send 100 to tz1VSUr8wwNhLAzempoch5d6hLRiTh8Cjcjb>']; push Unit; push ['<send 100 to tz1VSUr8wwNhLAzempoch5d6hLRiTh8Cjcjb>'];\n",
      "PAIR: pop ['<send 100 to tz1VSUr8wwNhLAzempoch5d6hLRiTh8Cjcjb>'], Unit; push (['<send 100 to tz1VSUr8wwNhLAzempoch5d6hLRiTh8Cjcjb>'], Unit);"
     ]
    },
    {
     "data": {
      "text/html": [
       "<table>\n",
       "<thead>\n",
       "<tr><th>value                                    </th><th>type                                     </th></tr>\n",
       "</thead>\n",
       "<tbody>\n",
       "<tr><td><pre style=&quot;text-align: left;&quot;>Unit</pre></td><td><pre style=&quot;text-align: left;&quot;>unit</pre></td></tr>\n",
       "</tbody>\n",
       "</table><br><table>\n",
       "<thead>\n",
       "<tr><th>kind                                            </th><th>target                                                                   </th><th>amount                                  </th><th>entrypoint                                  </th><th>parameters                               </th></tr>\n",
       "</thead>\n",
       "<tbody>\n",
       "<tr><td><pre style=&quot;text-align: left;&quot;>transaction</pre></td><td><pre style=&quot;text-align: left;&quot;>tz1VSUr8wwNhLAzempoch5d6hLRiTh8Cjcjb</pre></td><td><pre style=&quot;text-align: left;&quot;>100</pre></td><td><pre style=&quot;text-align: left;&quot;>default</pre></td><td><pre style=&quot;text-align: left;&quot;>Unit</pre></td></tr>\n",
       "</tbody>\n",
       "</table>"
      ],
      "text/plain": [
       "value    type\n",
       "-------  ------\n",
       "Unit     unit\n",
       "kind         target                                  amount  entrypoint    parameters\n",
       "-----------  ------------------------------------  --------  ------------  ------------\n",
       "transaction  tz1VSUr8wwNhLAzempoch5d6hLRiTh8Cjcjb       100  default       Unit"
      ]
     },
     "execution_count": 7,
     "metadata": {},
     "output_type": "execute_result"
    }
   ],
   "source": [
    "PATCH SENDER \"tz1VSUr8wwNhLAzempoch5d6hLRiTh8Cjcjb\" ;\n",
    "PATCH BALANCE 200 ;\n",
    "\n",
    "parameter mutez ;\n",
    "storage unit ;\n",
    "code {\n",
    "    CAR ;\n",
    "    DUP ;\n",
    "    BALANCE ;\n",
    "    IFCMPLT\n",
    "        { FAIL }\n",
    "        {\n",
    "            SENDER ;\n",
    "            CONTRACT unit ;\n",
    "            IF_NONE\n",
    "                { FAIL }\n",
    "                {\n",
    "                    SWAP ;\n",
    "                    UNIT ;\n",
    "                    TRANSFER_TOKENS ;\n",
    "                    NIL operation ;\n",
    "                    SWAP ;\n",
    "                    CONS ;\n",
    "                    UNIT ;\n",
    "                    SWAP ;\n",
    "                    PAIR\n",
    "                } ;\n",
    "        };\n",
    "} ;\n",
    "\n",
    "RUN %default 100 Unit ;"
   ]
  },
  {
   "cell_type": "markdown",
   "metadata": {},
   "source": [
    "This simple smart contract takes an amount of `mutez` as a parameter, checks if the balance is greater than the requested amount and sends the amount to the sender of the transaction.\n",
    "\n",
    "In order to create a transaction, you need three elements in the following order on the stack:\n",
    "1. A parameter to send with the value of type `contract`\n",
    "2. An amount in `mutez`\n",
    "3. A value of type `contract`\n",
    "\n",
    "This can be a bit confusing because here, we don't want to send a transaction to a contract but to an implicit account. However, implicit accounts can be seen as codeless contract. Because they don't have any code, they also don't accept any parameter or more precisely, they accept a parameter of type `unit` (because there are no `undefined` or `null` values in Michelson). \n",
    "\n",
    "To send a transaction to an implicit account, we will first cast an `address` into a `contract`. We can use the **`CONTRACT`** instruction with a parameter of type `unit` (because implicit accounts don't have a parameter). Remember that this instruction returns a value of type `option` so we have to use **`IF_NONE`**/**`IF_SOME`** to extract the value. When this is ready, we can add the amount in `mutez` we want to send (`0` is also acceptable). Finally, we have to push a value of type `unit` on top of the previous two elements, for example with **`UNIT`**. Once the stack is ready, we can call **`TRANSFER_TOKENS`**. Although the name can be misleading, this is the instruction that will create a new transaction. Don't forget that, at this point, we have merely created the transaction and it hasn't been sent yet. The transaction will only be sent after we put it inside a list of elements of type `operation` and end the execution of the contract.\n",
    "\n",
    "Now, you understood the basics of sending a transaction from a smart contract, so let's see how we can do the same to send a transaction to another smart contract:"
   ]
  },
  {
   "cell_type": "code",
   "execution_count": 9,
   "metadata": {},
   "outputs": [
    {
     "name": "stdout",
     "output_type": "stream",
     "text": [
      "parameter (pair address int);\n",
      "storage unit;\n",
      "code { CAR ; { DUP ; CAR ; DIP { CDR } } ; CONTRACT int ; IF_NONE { { UNIT ; FAILWITH } } { SWAP ; PUSH mutez 0 ; SWAP ; TRANSFER_TOKENS ; NIL operation ; SWAP ; CONS ; UNIT ; SWAP ; PAIR } };\n",
      "RUN: use %default; drop all; push (('KT1FM76xKAcN8EQkZVfBmeQzjzwNtpzYVwK3', 4), Unit);\n",
      "CAR: pop (('KT1FM76xKAcN8EQkZVfBmeQzjzwNtpzYVwK3', 4), Unit); push ('KT1FM76xKAcN8EQkZVfBmeQzjzwNtpzYVwK3', 4);\n",
      "DUP: push ('KT1FM76xKAcN8EQkZVfBmeQzjzwNtpzYVwK3', 4);\n",
      "CAR: pop ('KT1FM76xKAcN8EQkZVfBmeQzjzwNtpzYVwK3', 4); push KT1FM76xKAcN8EQkZVfBmeQzjzwNtpzYVwK3;\n",
      "DIP: protect 1 item(s);\n",
      "CDR: pop ('KT1FM76xKAcN8EQkZVfBmeQzjzwNtpzYVwK3', 4); push 4;\n",
      "restore 1 item(s);\n",
      "CONTRACT: pop KT1FM76xKAcN8EQkZVfBmeQzjzwNtpzYVwK3; skip check; push ('KT1FM76xKAcN8EQkZVfBmeQzjzwNtpzYVwK3%default',);\n",
      "IF_NONE: pop ('KT1FM76xKAcN8EQkZVfBmeQzjzwNtpzYVwK3%default',); push KT1FM76xKAcN8EQkZVfBmeQzjzwNtpzYVwK3%default;\n",
      "SWAP: pop KT1FM76xKAcN8EQkZVfBmeQzjzwNtpzYVwK3%default, 4; push KT1FM76xKAcN8EQkZVfBmeQzjzwNtpzYVwK3%default; push 4;\n",
      "PUSH: push 0;\n",
      "SWAP: pop 0, 4; push 0; push 4;\n",
      "TRANSFER_TOKENS: pop 4, 0, KT1FM76xKAcN8EQkZVfBmeQzjzwNtpzYVwK3%default; set BALANCE=100; push <call KT1FM76xKAcN8EQkZVfBmeQzjzwNtpzYVwK3%default>;\n",
      "NIL: push [];\n",
      "SWAP: pop [], <call KT1FM76xKAcN8EQkZVfBmeQzjzwNtpzYVwK3%default>; push []; push <call KT1FM76xKAcN8EQkZVfBmeQzjzwNtpzYVwK3%default>;\n",
      "CONS: pop <call KT1FM76xKAcN8EQkZVfBmeQzjzwNtpzYVwK3%default>, []; push ['<call KT1FM76xKAcN8EQkZVfBmeQzjzwNtpzYVwK3%default>'];\n",
      "UNIT: push Unit;\n",
      "SWAP: pop Unit, ['<call KT1FM76xKAcN8EQkZVfBmeQzjzwNtpzYVwK3%default>']; push Unit; push ['<call KT1FM76xKAcN8EQkZVfBmeQzjzwNtpzYVwK3%default>'];\n",
      "PAIR: pop ['<call KT1FM76xKAcN8EQkZVfBmeQzjzwNtpzYVwK3%default>'], Unit; push (['<call KT1FM76xKAcN8EQkZVfBmeQzjzwNtpzYVwK3%default>'], Unit);"
     ]
    },
    {
     "data": {
      "text/html": [
       "<table>\n",
       "<thead>\n",
       "<tr><th>value                                    </th><th>type                                     </th></tr>\n",
       "</thead>\n",
       "<tbody>\n",
       "<tr><td><pre style=&quot;text-align: left;&quot;>Unit</pre></td><td><pre style=&quot;text-align: left;&quot;>unit</pre></td></tr>\n",
       "</tbody>\n",
       "</table><br><table>\n",
       "<thead>\n",
       "<tr><th>kind                                            </th><th>target                                                                   </th><th>amount                                </th><th>entrypoint                                  </th><th>parameters                            </th></tr>\n",
       "</thead>\n",
       "<tbody>\n",
       "<tr><td><pre style=&quot;text-align: left;&quot;>transaction</pre></td><td><pre style=&quot;text-align: left;&quot;>KT1FM76xKAcN8EQkZVfBmeQzjzwNtpzYVwK3</pre></td><td><pre style=&quot;text-align: left;&quot;>0</pre></td><td><pre style=&quot;text-align: left;&quot;>default</pre></td><td><pre style=&quot;text-align: left;&quot;>4</pre></td></tr>\n",
       "</tbody>\n",
       "</table>"
      ],
      "text/plain": [
       "value    type\n",
       "-------  ------\n",
       "Unit     unit\n",
       "kind         target                                  amount  entrypoint      parameters\n",
       "-----------  ------------------------------------  --------  ------------  ------------\n",
       "transaction  KT1FM76xKAcN8EQkZVfBmeQzjzwNtpzYVwK3         0  default                  4"
      ]
     },
     "execution_count": 9,
     "metadata": {},
     "output_type": "execute_result"
    }
   ],
   "source": [
    "parameter (pair address int) ;\n",
    "storage unit ;\n",
    "code {\n",
    "    CAR ;\n",
    "    UNPAIR ;\n",
    "    CONTRACT int ;\n",
    "    IF_NONE\n",
    "        { FAIL }\n",
    "        {\n",
    "            SWAP ;\n",
    "            PUSH mutez 0 ;\n",
    "            SWAP ;\n",
    "            TRANSFER_TOKENS ;\n",
    "            NIL operation ;\n",
    "            SWAP ;\n",
    "            CONS ;\n",
    "            UNIT ;\n",
    "            SWAP ;\n",
    "            PAIR\n",
    "        } ;\n",
    "} ;\n",
    "\n",
    "RUN %default (Pair \"KT1FM76xKAcN8EQkZVfBmeQzjzwNtpzYVwK3\" 4) Unit ;"
   ]
  },
  {
   "cell_type": "markdown",
   "metadata": {},
   "source": [
    "This transaction is a little more straighforward that the previous one but follows exactly the same step, although with different values. We use an amount of `mutez 0` because we don't want to send any token to the contract but we replace the value of type `unit` with a value of type `int`. Note that although the address we send is a contract address, Michelson only sees an `address` and it must be cast to a `contract` value to process the transaction.\n",
    "\n",
    "## Delegating contract funds\n",
    "\n",
    "Like any other address on the Tezos network, contracts can delegate the funds they hold to a baker. This is very simple to implement and creates a new operation to include in the returned list of operations:"
   ]
  },
  {
   "cell_type": "code",
   "execution_count": 11,
   "metadata": {},
   "outputs": [
    {
     "name": "stdout",
     "output_type": "stream",
     "text": [
      "parameter key_hash;\n",
      "storage unit;\n",
      "code { CAR ; SOME ; SET_DELEGATE ; NIL operation ; SWAP ; CONS ; UNIT ; SWAP ; PAIR };\n",
      "RUN: use %default; drop all; push ('edpkvGfYw3LyB1UcCahKQk4rF2tvbMUk8GFiTuMjL75uGXrpvKXhjn', Unit);\n",
      "CAR: pop ('edpkvGfYw3LyB1UcCahKQk4rF2tvbMUk8GFiTuMjL75uGXrpvKXhjn', Unit); push edpkvGfYw3LyB1UcCahKQk4rF2tvbMUk8GFiTuMjL75uGXrpvKXhjn;\n",
      "SOME: pop edpkvGfYw3LyB1UcCahKQk4rF2tvbMUk8GFiTuMjL75uGXrpvKXhjn; push ('edpkvGfYw3LyB1UcCahKQk4rF2tvbMUk8GFiTuMjL75uGXrpvKXhjn',);\n",
      "SET_DELEGATE: pop ('edpkvGfYw3LyB1UcCahKQk4rF2tvbMUk8GFiTuMjL75uGXrpvKXhjn',); push <delegate to edpkvGfYw3LyB1UcCahKQk4rF2tvbMUk8GFiTuMjL75uGXrpvKXhjn>;\n",
      "NIL: push [];\n",
      "SWAP: pop [], <delegate to edpkvGfYw3LyB1UcCahKQk4rF2tvbMUk8GFiTuMjL75uGXrpvKXhjn>; push []; push <delegate to edpkvGfYw3LyB1UcCahKQk4rF2tvbMUk8GFiTuMjL75uGXrpvKXhjn>;\n",
      "CONS: pop <delegate to edpkvGfYw3LyB1UcCahKQk4rF2tvbMUk8GFiTuMjL75uGXrpvKXhjn>, []; push ['<delegate to edpkvGfYw3LyB1UcCahKQk4rF2tvbMUk8GFiTuMjL75uGXrpvKXhjn>'];\n",
      "UNIT: push Unit;\n",
      "SWAP: pop Unit, ['<delegate to edpkvGfYw3LyB1UcCahKQk4rF2tvbMUk8GFiTuMjL75uGXrpvKXhjn>']; push Unit; push ['<delegate to edpkvGfYw3LyB1UcCahKQk4rF2tvbMUk8GFiTuMjL75uGXrpvKXhjn>'];\n",
      "PAIR: pop ['<delegate to edpkvGfYw3LyB1UcCahKQk4rF2tvbMUk8GFiTuMjL75uGXrpvKXhjn>'], Unit; push (['<delegate to edpkvGfYw3LyB1UcCahKQk4rF2tvbMUk8GFiTuMjL75uGXrpvKXhjn>'], Unit);"
     ]
    },
    {
     "data": {
      "text/html": [
       "<table>\n",
       "<thead>\n",
       "<tr><th>value                                    </th><th>type                                     </th></tr>\n",
       "</thead>\n",
       "<tbody>\n",
       "<tr><td><pre style=&quot;text-align: left;&quot;>Unit</pre></td><td><pre style=&quot;text-align: left;&quot;>unit</pre></td></tr>\n",
       "</tbody>\n",
       "</table><br><table>\n",
       "<thead>\n",
       "<tr><th>kind                                           </th><th>target                                                                                     </th></tr>\n",
       "</thead>\n",
       "<tbody>\n",
       "<tr><td><pre style=&quot;text-align: left;&quot;>delegation</pre></td><td><pre style=&quot;text-align: left;&quot;>edpkvGfYw3LyB1UcCahKQk4rF2tvbMUk8GFiTuMjL75uGXrpvKXhjn</pre></td></tr>\n",
       "</tbody>\n",
       "</table>"
      ],
      "text/plain": [
       "value    type\n",
       "-------  ------\n",
       "Unit     unit\n",
       "kind        target\n",
       "----------  ------------------------------------------------------\n",
       "delegation  edpkvGfYw3LyB1UcCahKQk4rF2tvbMUk8GFiTuMjL75uGXrpvKXhjn"
      ]
     },
     "execution_count": 11,
     "metadata": {},
     "output_type": "execute_result"
    }
   ],
   "source": [
    "parameter key_hash ;\n",
    "storage unit ;\n",
    "code {\n",
    "    CAR ;\n",
    "    SOME ;\n",
    "    SET_DELEGATE ;\n",
    "    NIL operation ;\n",
    "    SWAP ;\n",
    "    CONS ;\n",
    "    UNIT ;\n",
    "    SWAP ;\n",
    "    PAIR\n",
    "} ;\n",
    "\n",
    "RUN %default \"edpkvGfYw3LyB1UcCahKQk4rF2tvbMUk8GFiTuMjL75uGXrpvKXhjn\" Unit ;"
   ]
  },
  {
   "cell_type": "markdown",
   "metadata": {},
   "source": [
    "The **`SET_DELEGATE`** instruction must be called with a `key_hash` wrapped in an `option` on the top of the stack. The key hash is what is generally called the \"public key\" (which is different from the \"public key hash\").  \n",
    "Even if the contract in the example seems to work, be aware that this operation will fail if the address you use is not a registered delegate (meaning that you cannot use any address as this is the case in this example). The operation also fails if you send the address to which the funds are already delegated. It is also possible to use `None` before calling **`SET_DELEGATE`** if you want to remove the current delegate.\n",
    "\n",
    "## Originating new contracts\n",
    "\n",
    "Contracts can even create new contracts or \"originate\" them in the Tezos lingo. Contracts that can originate other contracts on demand are called \"contract factories\". Before creating a new contract, the stack must present the following elements in the given order:\n",
    "1. The delegate address wrapped in an `option` type (or `None`)\n",
    "2. The initial balance you want to give to the new contract from the current contract (or `0`)\n",
    "3. The code of the new contract\n",
    "\n",
    "When these elements are in place on the stack, you can call **`CREATE_CONTRACT`** to originate the new contract as illustrated in the example below:"
   ]
  },
  {
   "cell_type": "code",
   "execution_count": 33,
   "metadata": {},
   "outputs": [
    {
     "name": "stdout",
     "output_type": "stream",
     "text": [
      "parameter unit;\n",
      "storage unit;\n",
      "code { DROP ; PUSH int 6 ; PUSH mutez 0 ; PUSH key_hash \"edpkvGfYw3LyB1UcCahKQk4rF2tvbMUk8GFiTuMjL75uGXrpvKXhjn\" ; SOME ; CREATE_CONTRACT { int ; int ; { { DUP ; CAR ; DIP { CDR } } ; ADD ; NIL operation ; PAIR } } ; NIL operation ; SWAP ; CONS ; DIP { DROP } ; UNIT ; SWAP ; PAIR };\n",
      "RUN: use %default; drop all; push (Unit, Unit);\n",
      "DROP: pop (Unit, Unit);\n",
      "PUSH: push 6;\n",
      "PUSH: push 0;\n",
      "PUSH: push edpkvGfYw3LyB1UcCahKQk4rF2tvbMUk8GFiTuMjL75uGXrpvKXhjn;\n",
      "SOME: pop edpkvGfYw3LyB1UcCahKQk4rF2tvbMUk8GFiTuMjL75uGXrpvKXhjn; push ('edpkvGfYw3LyB1UcCahKQk4rF2tvbMUk8GFiTuMjL75uGXrpvKXhjn',);\n",
      "CREATE_CONTRACT: pop ('edpkvGfYw3LyB1UcCahKQk4rF2tvbMUk8GFiTuMjL75uGXrpvKXhjn',), 0, 6; set BALANCE=1000000; push KT1Mjjcb6tmSsLm7Cb3DSQszePjfchPM4Uxm; push <originate KT1Mjjcb6tmSsLm7Cb3DSQszePjfchPM4Uxm>;\n",
      "NIL: push [];\n",
      "SWAP: pop [], <originate KT1Mjjcb6tmSsLm7Cb3DSQszePjfchPM4Uxm>; push []; push <originate KT1Mjjcb6tmSsLm7Cb3DSQszePjfchPM4Uxm>;\n",
      "CONS: pop <originate KT1Mjjcb6tmSsLm7Cb3DSQszePjfchPM4Uxm>, []; push ['<originate KT1Mjjcb6tmSsLm7Cb3DSQszePjfchPM4Uxm>'];\n",
      "DIP: protect 1 item(s);\n",
      "DROP: pop KT1Mjjcb6tmSsLm7Cb3DSQszePjfchPM4Uxm;\n",
      "restore 1 item(s);\n",
      "UNIT: push Unit;\n",
      "SWAP: pop Unit, ['<originate KT1Mjjcb6tmSsLm7Cb3DSQszePjfchPM4Uxm>']; push Unit; push ['<originate KT1Mjjcb6tmSsLm7Cb3DSQszePjfchPM4Uxm>'];\n",
      "PAIR: pop ['<originate KT1Mjjcb6tmSsLm7Cb3DSQszePjfchPM4Uxm>'], Unit; push (['<originate KT1Mjjcb6tmSsLm7Cb3DSQszePjfchPM4Uxm>'], Unit);"
     ]
    },
    {
     "data": {
      "text/html": [
       "<table>\n",
       "<thead>\n",
       "<tr><th>value                                    </th><th>type                                     </th></tr>\n",
       "</thead>\n",
       "<tbody>\n",
       "<tr><td><pre style=&quot;text-align: left;&quot;>Unit</pre></td><td><pre style=&quot;text-align: left;&quot;>unit</pre></td></tr>\n",
       "</tbody>\n",
       "</table><br><table>\n",
       "<thead>\n",
       "<tr><th>kind                                            </th><th>target                                                                   </th><th>amount                                </th><th>storage                               </th><th>code                                                                                             </th><th>delegate                                                                                   </th></tr>\n",
       "</thead>\n",
       "<tbody>\n",
       "<tr><td><pre style=&quot;text-align: left;&quot;>origination</pre></td><td><pre style=&quot;text-align: left;&quot;>KT1Mjjcb6tmSsLm7Cb3DSQszePjfchPM4Uxm</pre></td><td><pre style=&quot;text-align: left;&quot;>0</pre></td><td><pre style=&quot;text-align: left;&quot;>6</pre></td><td><pre style=&quot;text-align: left;&quot;>{ { DUP ; CAR ; DIP { CDR } } ; ADD ; NIL operation ; PAIR }</pre></td><td><pre style=&quot;text-align: left;&quot;>edpkvGfYw3LyB1UcCahKQk4rF2tvbMUk8GFiTuMjL75uGXrpvKXhjn</pre></td></tr>\n",
       "</tbody>\n",
       "</table>"
      ],
      "text/plain": [
       "value    type\n",
       "-------  ------\n",
       "Unit     unit\n",
       "kind         target                                  amount    storage  code                                                          delegate\n",
       "-----------  ------------------------------------  --------  ---------  ------------------------------------------------------------  ------------------------------------------------------\n",
       "origination  KT1Mjjcb6tmSsLm7Cb3DSQszePjfchPM4Uxm         0          6  { { DUP ; CAR ; DIP { CDR } } ; ADD ; NIL operation ; PAIR }  edpkvGfYw3LyB1UcCahKQk4rF2tvbMUk8GFiTuMjL75uGXrpvKXhjn"
      ]
     },
     "execution_count": 33,
     "metadata": {},
     "output_type": "execute_result"
    }
   ],
   "source": [
    "parameter unit ;\n",
    "storage unit ;\n",
    "code {\n",
    "    DROP ;\n",
    "    PUSH int 6 ;\n",
    "    PUSH mutez 0 ;\n",
    "    PUSH key_hash \"edpkvGfYw3LyB1UcCahKQk4rF2tvbMUk8GFiTuMjL75uGXrpvKXhjn\" ;\n",
    "    SOME ;\n",
    "    CREATE_CONTRACT { int ; int ; { UNPAIR ; ADD ; NIL operation ; PAIR } } ;\n",
    "    NIL operation ;\n",
    "    SWAP ;\n",
    "    CONS ;\n",
    "    DIP { DROP } ;\n",
    "    UNIT ;\n",
    "    SWAP ;\n",
    "    PAIR\n",
    "} ;\n",
    "\n",
    "RUN %default Unit Unit ;"
   ]
  },
  {
   "cell_type": "markdown",
   "metadata": {},
   "source": [
    "As you can tell from the contract, once all the arguments are in the correct position in the stack, you can call the **`CREATE_CONTRACT`** instruction which takes one argument: the code of the contract it will originate. Between curly braces, you must start with the type of the storage, before the type of the parameter and finally the code of the contract itself. **`CREATE_CONTRACT`** returns a new operation that you must include in the list of operations to be executed at the end of the current contract and the address of the newly created contract."
   ]
  },
  {
   "cell_type": "markdown",
   "metadata": {},
   "source": [
    "## Exercises\n",
    "\n",
    "1. Write a contract that sends a transaction of 5 tez to itself after verifying it has enough balance before delegating its balance to the contract of your choice."
   ]
  },
  {
   "cell_type": "code",
   "execution_count": null,
   "metadata": {},
   "outputs": [],
   "source": [
    "## Write your code here"
   ]
  },
  {
   "cell_type": "markdown",
   "metadata": {},
   "source": [
    "<details>\n",
    "    <summary>Solution</summary>\n",
    "    <p>Copy-paste the solution in the cell above to compile it!</p>\n",
    "    <br />\n",
    "    <pre>\n",
    "PATCH BALANCE 6000000 ;\n",
    "## PATCH BALANCE 4000000 ;\n",
    "\n",
    "parameter unit ;\n",
    "storage unit ;\n",
    "code {\n",
    "    DROP ;\n",
    "    PUSH mutez 5000000 ;\n",
    "    BALANCE ;\n",
    "    ASSERT_CMPGE ;\n",
    "    SELF ;\n",
    "    PUSH mutez 5000000 ;\n",
    "    UNIT ;\n",
    "    TRANSFER_TOKENS ;\n",
    "    NIL operation ;\n",
    "    SWAP ;\n",
    "    CONS ;\n",
    "    PUSH key_hash \"edpkvGfYw3LyB1UcCahKQk4rF2tvbMUk8GFiTuMjL75uGXrpvKXhjn\" ;\n",
    "    SOME ;\n",
    "    SET_DELEGATE ;\n",
    "    CONS ;\n",
    "    UNIT ;\n",
    "    SWAP ;\n",
    "    PAIR ;\n",
    "} ;\n",
    "\n",
    "RUN %default Unit Unit ;\n",
    "    </pre>\n",
    "</details>"
   ]
  },
  {
   "cell_type": "markdown",
   "metadata": {},
   "source": [
    "2. Write a contract that originates a copy of itself. However, the copy must not include the `CREATE_CONTRACT` instruction, so make the contract do something and then originate a copy of what it does."
   ]
  },
  {
   "cell_type": "code",
   "execution_count": null,
   "metadata": {},
   "outputs": [],
   "source": [
    "## Write your code here"
   ]
  },
  {
   "cell_type": "markdown",
   "metadata": {},
   "source": [
    "<details>\n",
    "    <summary>Solution</summary>\n",
    "    <p>Copy-paste the solution in the cell above to compile it!</p>\n",
    "    <br />\n",
    "    <pre>\n",
    "parameter (pair int int) ;\n",
    "storage int ;\n",
    "code {\n",
    "    CAR ;\n",
    "    UNPAIR ;\n",
    "    ADD @initial_storage ;\n",
    "    DUP ;\n",
    "    PUSH @initial_balance mutez 0 ;\n",
    "    PUSH @delegate (option key_hash) None ;\n",
    "    CREATE_CONTRACT { storage int ; parameter (pair int int) ; {\n",
    "        CAR ;\n",
    "        UNPAIR ;\n",
    "        ADD ;\n",
    "        NIL operation ;\n",
    "        PAIR\n",
    "    } } ;\n",
    "    SWAP ;\n",
    "    DROP ;\n",
    "    NIL operation ;\n",
    "    SWAP ;\n",
    "    CONS ;\n",
    "    PAIR\n",
    "} ;\n",
    "\n",
    "RUN %default (Pair 5 6) 0 ;\n",
    "    </pre>\n",
    "</details>"
   ]
  },
  {
   "cell_type": "code",
   "execution_count": null,
   "metadata": {},
   "outputs": [],
   "source": []
  }
 ],
 "metadata": {
  "kernelspec": {
   "display_name": "Michelson",
   "language": "michelson",
   "name": "michelson"
  },
  "language_info": {
   "codemirror_mode": "michelson",
   "file_extension": ".tz",
   "mimetype": "text/x-michelson",
   "name": "Michelson"
  }
 },
 "nbformat": 4,
 "nbformat_minor": 4
}

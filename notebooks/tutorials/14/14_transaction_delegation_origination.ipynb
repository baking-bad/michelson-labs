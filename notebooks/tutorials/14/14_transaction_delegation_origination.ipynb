{
 "cells": [
  {
   "cell_type": "markdown",
   "metadata": {},
   "source": [
    "# Chapter 14\n",
    "\n",
    "All the use cases we have explored so far follow a very simple flow: a transaction hits the smart contract, the parameter sent with the transaction and the storage are pushed as a pair onto the stack, the code of the contract manipulates the stack without or without the help of environment variables and a pair containing a list of transactions (that was until now empty) and the new storage is returned.\n",
    "\n",
    "However, smart contracts on the Tezos blockchain are also able to interact with the blockchain itself. They can create and send new transactions, they can delegate their funds to bakers and they can even originate new contracts! This will be the subject of this chapter.\n",
    "\n",
    "The interactions between your smart contract and the blockchain allow for the creation of rich and complex applications that can run multiple actions in the background while keeping the requirement for action from your users minimal. Let's start with one of the most important ones, the creation of new transactions!\n",
    "\n",
    "## Creating and sending transactions\n",
    "\n",
    "Until now, we have always returned an empty list of transactions at the end of our smart contracts. A list of transactions, may it be empty or not, is necessary to stop the execution of a smart contract. At the end of the contract, there are two kinds of transactions you may want to send to the network: an amount of tokens to send to an implicit account or a transaction to another smart contract.  \n",
    "It is important to remember that whatever happens inside the contract code has no effect on the blockchain. Nothing will be changed in the smart contract or the rest of blockchain before the contract returns a list of operations and its new storage. It may seem like a limitation, for example, it makes it more difficult to use data from another smart contract inside your contract, but it is actually a necessary security feature: this self-contained environment guarantees that no intervention from outside the contract can modify its storage. Your code modifies the storage without any outside influence in a very deterministic way.\n",
    "\n",
    "That being say, it is of course possible to interact with the Tezos blockchain from the smart contract, at the end of the execution. One of the most common interactions is sending a transactions. If you write a contract that holds people's funds, there should be a way to send them back to them! You could also write a contract that fetches some data from another contract (for example an oracle) and needs to send a transaction.\n",
    "\n",
    "Let's check first how sending a transaction to an implicit account looks like:"
   ]
  },
  {
   "cell_type": "code",
   "execution_count": 7,
   "metadata": {},
   "outputs": [
    {
     "name": "stdout",
     "output_type": "stream",
     "text": [
      "PATCH: set SENDER=tz1VSUr8wwNhLAzempoch5d6hLRiTh8Cjcjb;\n",
      "PATCH: set BALANCE=200;\n",
      "parameter mutez;\n",
      "storage unit;\n",
      "code { CAR ; DUP ; BALANCE ; { { COMPARE ; LT } ; IF { { UNIT ; FAILWITH } } { SENDER ; CONTRACT unit ; IF_NONE { { UNIT ; FAILWITH } } { SWAP ; UNIT ; TRANSFER_TOKENS ; NIL operation ; SWAP ; CONS ; UNIT ; SWAP ; PAIR } } } };\n",
      "RUN: use %default; drop all; push (100, Unit);\n",
      "CAR: pop (100, Unit); push 100;\n",
      "DUP: push 100;\n",
      "BALANCE: push 200;\n",
      "COMPARE: pop 200, 100; push 1;\n",
      "LT: pop 1; push False;\n",
      "IF: pop False;\n",
      "SENDER: push tz1VSUr8wwNhLAzempoch5d6hLRiTh8Cjcjb;\n",
      "CONTRACT: pop tz1VSUr8wwNhLAzempoch5d6hLRiTh8Cjcjb; skip check; push ('tz1VSUr8wwNhLAzempoch5d6hLRiTh8Cjcjb%default',);\n",
      "IF_NONE: pop ('tz1VSUr8wwNhLAzempoch5d6hLRiTh8Cjcjb%default',); push tz1VSUr8wwNhLAzempoch5d6hLRiTh8Cjcjb%default;\n",
      "SWAP: pop tz1VSUr8wwNhLAzempoch5d6hLRiTh8Cjcjb%default, 100; push tz1VSUr8wwNhLAzempoch5d6hLRiTh8Cjcjb%default; push 100;\n",
      "UNIT: push Unit;\n",
      "TRANSFER_TOKENS: pop Unit, 100, tz1VSUr8wwNhLAzempoch5d6hLRiTh8Cjcjb%default; set BALANCE=100; push <send 100 to tz1VSUr8wwNhLAzempoch5d6hLRiTh8Cjcjb>;\n",
      "NIL: push [];\n",
      "SWAP: pop [], <send 100 to tz1VSUr8wwNhLAzempoch5d6hLRiTh8Cjcjb>; push []; push <send 100 to tz1VSUr8wwNhLAzempoch5d6hLRiTh8Cjcjb>;\n",
      "CONS: pop <send 100 to tz1VSUr8wwNhLAzempoch5d6hLRiTh8Cjcjb>, []; push ['<send 100 to tz1VSUr8wwNhLAzempoch5d6hLRiTh8Cjcjb>'];\n",
      "UNIT: push Unit;\n",
      "SWAP: pop Unit, ['<send 100 to tz1VSUr8wwNhLAzempoch5d6hLRiTh8Cjcjb>']; push Unit; push ['<send 100 to tz1VSUr8wwNhLAzempoch5d6hLRiTh8Cjcjb>'];\n",
      "PAIR: pop ['<send 100 to tz1VSUr8wwNhLAzempoch5d6hLRiTh8Cjcjb>'], Unit; push (['<send 100 to tz1VSUr8wwNhLAzempoch5d6hLRiTh8Cjcjb>'], Unit);"
     ]
    },
    {
     "data": {
      "text/html": [
       "<table>\n",
       "<thead>\n",
       "<tr><th>value                                    </th><th>type                                     </th></tr>\n",
       "</thead>\n",
       "<tbody>\n",
       "<tr><td><pre style=&quot;text-align: left;&quot;>Unit</pre></td><td><pre style=&quot;text-align: left;&quot;>unit</pre></td></tr>\n",
       "</tbody>\n",
       "</table><br><table>\n",
       "<thead>\n",
       "<tr><th>kind                                            </th><th>target                                                                   </th><th>amount                                  </th><th>entrypoint                                  </th><th>parameters                               </th></tr>\n",
       "</thead>\n",
       "<tbody>\n",
       "<tr><td><pre style=&quot;text-align: left;&quot;>transaction</pre></td><td><pre style=&quot;text-align: left;&quot;>tz1VSUr8wwNhLAzempoch5d6hLRiTh8Cjcjb</pre></td><td><pre style=&quot;text-align: left;&quot;>100</pre></td><td><pre style=&quot;text-align: left;&quot;>default</pre></td><td><pre style=&quot;text-align: left;&quot;>Unit</pre></td></tr>\n",
       "</tbody>\n",
       "</table>"
      ],
      "text/plain": [
       "value    type\n",
       "-------  ------\n",
       "Unit     unit\n",
       "kind         target                                  amount  entrypoint    parameters\n",
       "-----------  ------------------------------------  --------  ------------  ------------\n",
       "transaction  tz1VSUr8wwNhLAzempoch5d6hLRiTh8Cjcjb       100  default       Unit"
      ]
     },
     "execution_count": 7,
     "metadata": {},
     "output_type": "execute_result"
    }
   ],
   "source": [
    "PATCH SENDER \"tz1VSUr8wwNhLAzempoch5d6hLRiTh8Cjcjb\" ;\n",
    "PATCH BALANCE 200 ;\n",
    "\n",
    "parameter mutez ;\n",
    "storage unit ;\n",
    "code {\n",
    "    CAR ;\n",
    "    DUP ;\n",
    "    BALANCE ;\n",
    "    IFCMPLT\n",
    "        { FAIL }\n",
    "        {\n",
    "            SENDER ;\n",
    "            CONTRACT unit ;\n",
    "            IF_NONE\n",
    "                { FAIL }\n",
    "                {\n",
    "                    SWAP ;\n",
    "                    UNIT ;\n",
    "                    TRANSFER_TOKENS ;\n",
    "                    NIL operation ;\n",
    "                    SWAP ;\n",
    "                    CONS ;\n",
    "                    UNIT ;\n",
    "                    SWAP ;\n",
    "                    PAIR\n",
    "                } ;\n",
    "        };\n",
    "} ;\n",
    "\n",
    "RUN %default 100 Unit ;"
   ]
  },
  {
   "cell_type": "markdown",
   "metadata": {},
   "source": [
    "This simple smart contract takes an amount of `mutez` as a parameter, checks if the balance is greater than the requested amount and sends the amount to the sender of the transaction.\n",
    "\n",
    "In order to create a transaction, you need three elements in the following order on the stack:\n",
    "1. A parameter to send with the value of type `contract`\n",
    "2. An amount in `mutez`\n",
    "3. A value of type `contract`\n",
    "\n",
    "This can be a bit confusing because here, we don't want to send a transaction to a contract but to an implicit account. However, implicit accounts can be seen as codeless contract. Because they don't have any code, they also don't accept any parameter or more precisely, they accept a parameter of type `unit`. \n",
    "\n",
    "To send a transaction to an implicit account, we will first cast an `address` into a `contract`. We can use the **`CONTRACT`** instruction with a parameter of type `unit` (because implicit accounts don't have a parameter). Remember that this instruction returns a value of type `option` so we have to use **`IF_NONE`**/**`IF_SOME`** to extract the value. When this is ready, we can add the amount in `mutez` we want to send (`0` is also acceptable). Finally, we have to push a value of type `unit` on top of the previous two elements, for example with **`UNIT`**. Once the stack is ready, we can call **`TRANFER_TOKENS`**. Although the name can be misleading, this is the instruction that will create a new transaction. Don't forget that, at this point, we have merely created the transaction and it hasn't been sent yet. The transaction will only be sent after we put it inside a list of elements of type `operation` and end the execution of the contract.\n",
    "\n",
    "Now, you understood the basics of sending a transaction from a smart contract, so let's see how we can do the same to send a transaction to another smart contract:"
   ]
  },
  {
   "cell_type": "code",
   "execution_count": 9,
   "metadata": {},
   "outputs": [
    {
     "name": "stdout",
     "output_type": "stream",
     "text": [
      "parameter (pair address int);\n",
      "storage unit;\n",
      "code { CAR ; { DUP ; CAR ; DIP { CDR } } ; CONTRACT int ; IF_NONE { { UNIT ; FAILWITH } } { SWAP ; PUSH mutez 0 ; SWAP ; TRANSFER_TOKENS ; NIL operation ; SWAP ; CONS ; UNIT ; SWAP ; PAIR } };\n",
      "RUN: use %default; drop all; push (('KT1FM76xKAcN8EQkZVfBmeQzjzwNtpzYVwK3', 4), Unit);\n",
      "CAR: pop (('KT1FM76xKAcN8EQkZVfBmeQzjzwNtpzYVwK3', 4), Unit); push ('KT1FM76xKAcN8EQkZVfBmeQzjzwNtpzYVwK3', 4);\n",
      "DUP: push ('KT1FM76xKAcN8EQkZVfBmeQzjzwNtpzYVwK3', 4);\n",
      "CAR: pop ('KT1FM76xKAcN8EQkZVfBmeQzjzwNtpzYVwK3', 4); push KT1FM76xKAcN8EQkZVfBmeQzjzwNtpzYVwK3;\n",
      "DIP: protect 1 item(s);\n",
      "CDR: pop ('KT1FM76xKAcN8EQkZVfBmeQzjzwNtpzYVwK3', 4); push 4;\n",
      "restore 1 item(s);\n",
      "CONTRACT: pop KT1FM76xKAcN8EQkZVfBmeQzjzwNtpzYVwK3; skip check; push ('KT1FM76xKAcN8EQkZVfBmeQzjzwNtpzYVwK3%default',);\n",
      "IF_NONE: pop ('KT1FM76xKAcN8EQkZVfBmeQzjzwNtpzYVwK3%default',); push KT1FM76xKAcN8EQkZVfBmeQzjzwNtpzYVwK3%default;\n",
      "SWAP: pop KT1FM76xKAcN8EQkZVfBmeQzjzwNtpzYVwK3%default, 4; push KT1FM76xKAcN8EQkZVfBmeQzjzwNtpzYVwK3%default; push 4;\n",
      "PUSH: push 0;\n",
      "SWAP: pop 0, 4; push 0; push 4;\n",
      "TRANSFER_TOKENS: pop 4, 0, KT1FM76xKAcN8EQkZVfBmeQzjzwNtpzYVwK3%default; set BALANCE=100; push <call KT1FM76xKAcN8EQkZVfBmeQzjzwNtpzYVwK3%default>;\n",
      "NIL: push [];\n",
      "SWAP: pop [], <call KT1FM76xKAcN8EQkZVfBmeQzjzwNtpzYVwK3%default>; push []; push <call KT1FM76xKAcN8EQkZVfBmeQzjzwNtpzYVwK3%default>;\n",
      "CONS: pop <call KT1FM76xKAcN8EQkZVfBmeQzjzwNtpzYVwK3%default>, []; push ['<call KT1FM76xKAcN8EQkZVfBmeQzjzwNtpzYVwK3%default>'];\n",
      "UNIT: push Unit;\n",
      "SWAP: pop Unit, ['<call KT1FM76xKAcN8EQkZVfBmeQzjzwNtpzYVwK3%default>']; push Unit; push ['<call KT1FM76xKAcN8EQkZVfBmeQzjzwNtpzYVwK3%default>'];\n",
      "PAIR: pop ['<call KT1FM76xKAcN8EQkZVfBmeQzjzwNtpzYVwK3%default>'], Unit; push (['<call KT1FM76xKAcN8EQkZVfBmeQzjzwNtpzYVwK3%default>'], Unit);"
     ]
    },
    {
     "data": {
      "text/html": [
       "<table>\n",
       "<thead>\n",
       "<tr><th>value                                    </th><th>type                                     </th></tr>\n",
       "</thead>\n",
       "<tbody>\n",
       "<tr><td><pre style=&quot;text-align: left;&quot;>Unit</pre></td><td><pre style=&quot;text-align: left;&quot;>unit</pre></td></tr>\n",
       "</tbody>\n",
       "</table><br><table>\n",
       "<thead>\n",
       "<tr><th>kind                                            </th><th>target                                                                   </th><th>amount                                </th><th>entrypoint                                  </th><th>parameters                            </th></tr>\n",
       "</thead>\n",
       "<tbody>\n",
       "<tr><td><pre style=&quot;text-align: left;&quot;>transaction</pre></td><td><pre style=&quot;text-align: left;&quot;>KT1FM76xKAcN8EQkZVfBmeQzjzwNtpzYVwK3</pre></td><td><pre style=&quot;text-align: left;&quot;>0</pre></td><td><pre style=&quot;text-align: left;&quot;>default</pre></td><td><pre style=&quot;text-align: left;&quot;>4</pre></td></tr>\n",
       "</tbody>\n",
       "</table>"
      ],
      "text/plain": [
       "value    type\n",
       "-------  ------\n",
       "Unit     unit\n",
       "kind         target                                  amount  entrypoint      parameters\n",
       "-----------  ------------------------------------  --------  ------------  ------------\n",
       "transaction  KT1FM76xKAcN8EQkZVfBmeQzjzwNtpzYVwK3         0  default                  4"
      ]
     },
     "execution_count": 9,
     "metadata": {},
     "output_type": "execute_result"
    }
   ],
   "source": [
    "parameter (pair address int) ;\n",
    "storage unit ;\n",
    "code {\n",
    "    CAR ;\n",
    "    UNPAIR ;\n",
    "    CONTRACT int ;\n",
    "    IF_NONE\n",
    "        { FAIL }\n",
    "        {\n",
    "            SWAP ;\n",
    "            PUSH mutez 0 ;\n",
    "            SWAP ;\n",
    "            TRANSFER_TOKENS ;\n",
    "            NIL operation ;\n",
    "            SWAP ;\n",
    "            CONS ;\n",
    "            UNIT ;\n",
    "            SWAP ;\n",
    "            PAIR\n",
    "        } ;\n",
    "} ;\n",
    "\n",
    "RUN %default (Pair \"KT1FM76xKAcN8EQkZVfBmeQzjzwNtpzYVwK3\" 4) Unit ;"
   ]
  },
  {
   "cell_type": "markdown",
   "metadata": {},
   "source": [
    "This transaction is a little more straighforward that the previous one but follows exactly the same step, although with different values. We use an amount of `mutez 0` because we don't want to send any token to the contract but we replace the value of type `unit` with a value of type `int`. Note that although the address we send is a contract address, Michelson only sees an `address` and it must be cast to a `contract` value to process the transaction."
   ]
  },
  {
   "cell_type": "code",
   "execution_count": null,
   "metadata": {},
   "outputs": [],
   "source": []
  }
 ],
 "metadata": {
  "kernelspec": {
   "display_name": "Michelson",
   "language": "michelson",
   "name": "michelson"
  },
  "language_info": {
   "codemirror_mode": "michelson",
   "file_extension": ".tz",
   "mimetype": "text/x-michelson",
   "name": "Michelson"
  }
 },
 "nbformat": 4,
 "nbformat_minor": 4
}

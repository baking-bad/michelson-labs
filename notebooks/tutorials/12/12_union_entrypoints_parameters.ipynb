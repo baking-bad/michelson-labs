{
 "cells": [
  {
   "cell_type": "markdown",
   "metadata": {},
   "source": [
    "# Chapter 12\n",
    "\n",
    "So far, in all the contracts we have written, the flow of the execution was pretty straighforward:\n",
    "1. The transaction is sent to the contract with a single parameter.\n",
    "2. The contract uses or not the parameter and runs its code.\n",
    "3. A pair containing a list of operations and the new storage is returned.\n",
    "\n",
    "This works well for simple contracts, but what if you want your contract to do multiple things? You could write different separate contracts of course, but sharing their storage and state will be more complicated. In this chapter, you will learn how to change the behaviour of your contract according to the parameters it received!\n",
    "\n",
    "Let's check a very simple example and see how we can modify it to change its behaviour:"
   ]
  },
  {
   "cell_type": "code",
   "execution_count": 4,
   "metadata": {},
   "outputs": [
    {
     "name": "stdout",
     "output_type": "stream",
     "text": [
      "parameter int;\n",
      "storage int;\n",
      "code { { DUP ; CAR ; DIP { CDR } } ; ADD ; NIL operation ; PAIR };\n",
      "RUN: use %default; drop all; push (5, 6);\n",
      "DUP: push (5, 6);\n",
      "CAR: pop (5, 6); push 5;\n",
      "DIP: protect 1 item(s);\n",
      "CDR: pop (5, 6); push 6;\n",
      "restore 1 item(s);\n",
      "ADD: pop 5, 6; push 11;\n",
      "NIL: push [];\n",
      "PAIR: pop [], 11; push ([], 11);"
     ]
    },
    {
     "data": {
      "text/html": [
       "<table>\n",
       "<thead>\n",
       "<tr><th>value                                  </th><th>type                                    </th></tr>\n",
       "</thead>\n",
       "<tbody>\n",
       "<tr><td><pre style=&quot;text-align: left;&quot;>11</pre></td><td><pre style=&quot;text-align: left;&quot;>int</pre></td></tr>\n",
       "</tbody>\n",
       "</table>"
      ],
      "text/plain": [
       "  value  type\n",
       "-------  ------\n",
       "     11  int"
      ]
     },
     "execution_count": 4,
     "metadata": {},
     "output_type": "execute_result"
    }
   ],
   "source": [
    "parameter int ;\n",
    "storage int ;\n",
    "code {\n",
    "    UNPAIR ;\n",
    "    ADD ;\n",
    "    NIL operation ;\n",
    "    PAIR ;\n",
    "} ;\n",
    "\n",
    "RUN %default 5 6 ;"
   ]
  },
  {
   "cell_type": "markdown",
   "metadata": {},
   "source": [
    "This couldn't be more simple 😅 The contract takes the `int` sent in the parameters and adds it to the `int` in the storage.  \n",
    "Now, imagine you want the same contract to add or subtract two numbers. There must be something in the parameter that tells the contract what to do. This is when `union types` intervene! Let's see first how that would look like:"
   ]
  },
  {
   "cell_type": "code",
   "execution_count": 10,
   "metadata": {},
   "outputs": [
    {
     "name": "stdout",
     "output_type": "stream",
     "text": [
      "parameter (or int int);\n",
      "storage int;\n",
      "code { { DUP ; CAR ; DIP { CDR } } ; IF_LEFT { ADD } { SUB } ; NIL operation ; PAIR };\n",
      "RUN: use %default; drop all; push (5, 6);\n",
      "DUP: push (5, 6);\n",
      "CAR: pop (5, 6); push 5;\n",
      "DIP: protect 1 item(s);\n",
      "CDR: pop (5, 6); push 6;\n",
      "restore 1 item(s);\n",
      "IF_LEFT: pop 5; push 5;\n",
      "ADD: pop 5, 6; push 11;\n",
      "NIL: push [];\n",
      "PAIR: pop [], 11; push ([], 11);"
     ]
    },
    {
     "data": {
      "text/html": [
       "<table>\n",
       "<thead>\n",
       "<tr><th>value                                  </th><th>type                                    </th></tr>\n",
       "</thead>\n",
       "<tbody>\n",
       "<tr><td><pre style=&quot;text-align: left;&quot;>11</pre></td><td><pre style=&quot;text-align: left;&quot;>int</pre></td></tr>\n",
       "</tbody>\n",
       "</table>"
      ],
      "text/plain": [
       "  value  type\n",
       "-------  ------\n",
       "     11  int"
      ]
     },
     "execution_count": 10,
     "metadata": {},
     "output_type": "execute_result"
    }
   ],
   "source": [
    "parameter (or int int) ;\n",
    "storage int ;\n",
    "code {\n",
    "    UNPAIR ;\n",
    "    IF_LEFT\n",
    "        { ADD }\n",
    "        { SUB } ;\n",
    "    NIL operation ;\n",
    "    PAIR ;\n",
    "} ;\n",
    "\n",
    "RUN %default (Left 5) 6 ;"
   ]
  },
  {
   "cell_type": "markdown",
   "metadata": {},
   "source": [
    "You can now see that there are three different things in this new contract compared to the previous one:\n",
    "1. The parameter is `(or (int %increment) (int %decrement))` instead of `int`.\n",
    "2. There is a conditional structure in the code with **`IF_LEFT`**.\n",
    "3. The parameters of the **`RUN`** instruction are different.\n",
    "\n",
    "In order to tell the contract to change its behaviour, we are using a `union type`. As its name indicates, a `union type` is a type made of the union of two other types. In its most basic form, a union type is declared between parentheses with the keyword `or` followed by the two types you want to use. The type on the left is the `left` part of the union, the type on the right the `right` part. After implementing the union type as a parameter, we can pass two different arguments to the contract: a union value with a value on the left or a union value with a value on the right. Now, we want the contract to behave differently according to the value present in the union value. This is what **`IF_LEFT`** does. When we unpair the pair of parameter/storage, the contract knows it expects a union type. If the left side holds a value, the value `(Left value)` will be pushed onto the stack. If the right side holds a value, the value `(Right value)` will be pushed. This is what you can see after the **`RUN`** instruction, we indicated `(Left 5)` as the value we want to use.\n",
    "\n",
    "As you may have guessed, **`IF_LEFT`** will branch into the first pair of curly braces if the left side of the union value holds a value or it will branch into the second pair of curly braces if the right side of the union value holds a value. After branching, the naked value inside the union value is pushed onto the stack and ready to be used. In the case of this example, the `int` value is added to the value in the storage and the new storage is returned.\n",
    "\n",
    "To drive the point home, let's see what happens if we want to subtract the value passed as a parameter:"
   ]
  },
  {
   "cell_type": "code",
   "execution_count": 11,
   "metadata": {},
   "outputs": [
    {
     "name": "stdout",
     "output_type": "stream",
     "text": [
      "parameter (or int int);\n",
      "storage int;\n",
      "code { { DUP ; CAR ; DIP { CDR } } ; IF_LEFT { ADD } { SUB } ; NIL operation ; PAIR };\n",
      "RUN: use %default; drop all; push (5, 6);\n",
      "DUP: push (5, 6);\n",
      "CAR: pop (5, 6); push 5;\n",
      "DIP: protect 1 item(s);\n",
      "CDR: pop (5, 6); push 6;\n",
      "restore 1 item(s);\n",
      "IF_LEFT: pop 5; push 5;\n",
      "SUB: pop 5, 6; push -1;\n",
      "NIL: push [];\n",
      "PAIR: pop [], -1; push ([], -1);"
     ]
    },
    {
     "data": {
      "text/html": [
       "<table>\n",
       "<thead>\n",
       "<tr><th>value                                  </th><th>type                                    </th></tr>\n",
       "</thead>\n",
       "<tbody>\n",
       "<tr><td><pre style=&quot;text-align: left;&quot;>-1</pre></td><td><pre style=&quot;text-align: left;&quot;>int</pre></td></tr>\n",
       "</tbody>\n",
       "</table>"
      ],
      "text/plain": [
       "  value  type\n",
       "-------  ------\n",
       "     -1  int"
      ]
     },
     "execution_count": 11,
     "metadata": {},
     "output_type": "execute_result"
    }
   ],
   "source": [
    "parameter (or int int) ;\n",
    "storage int ;\n",
    "code {\n",
    "    UNPAIR ;\n",
    "    IF_LEFT\n",
    "        { ADD }\n",
    "        { SUB } ;\n",
    "    NIL operation ;\n",
    "    PAIR ;\n",
    "} ;\n",
    "\n",
    "RUN %default (Right 5) 6 ;"
   ]
  },
  {
   "cell_type": "markdown",
   "metadata": {},
   "source": [
    "Pretty simple, we just replace `(Left 5)` with `(Right 5)`! The result of the operation (`-1`) indicates that the contract subtracted the two values instead of adding them together!\n",
    "\n",
    "Now that you understood the bases of using a union type as a parameter, we can introduce annotations to make the code a little easier to read:"
   ]
  },
  {
   "cell_type": "code",
   "execution_count": 12,
   "metadata": {},
   "outputs": [
    {
     "name": "stdout",
     "output_type": "stream",
     "text": [
      "parameter (or (int %increment) (int %decrement));\n",
      "storage int;\n",
      "code { { DUP ; CAR ; DIP { CDR } } ; IF_LEFT { ADD } { SUB } ; NIL operation ; PAIR };\n",
      "RUN: use %increment; drop all; push (5, 6);\n",
      "DUP: push (5, 6);\n",
      "CAR: pop (5, 6); push 5;\n",
      "DIP: protect 1 item(s);\n",
      "CDR: pop (5, 6); push 6;\n",
      "restore 1 item(s);\n",
      "IF_LEFT: pop 5; push 5;\n",
      "ADD: pop 5, 6; push 11;\n",
      "NIL: push [];\n",
      "PAIR: pop [], 11; push ([], 11);"
     ]
    },
    {
     "data": {
      "text/html": [
       "<table>\n",
       "<thead>\n",
       "<tr><th>value                                  </th><th>type                                    </th></tr>\n",
       "</thead>\n",
       "<tbody>\n",
       "<tr><td><pre style=&quot;text-align: left;&quot;>11</pre></td><td><pre style=&quot;text-align: left;&quot;>int</pre></td></tr>\n",
       "</tbody>\n",
       "</table>"
      ],
      "text/plain": [
       "  value  type\n",
       "-------  ------\n",
       "     11  int"
      ]
     },
     "execution_count": 12,
     "metadata": {},
     "output_type": "execute_result"
    }
   ],
   "source": [
    "parameter (or (int %increment) (int %decrement)) ;\n",
    "storage int ;\n",
    "code {\n",
    "    UNPAIR ;\n",
    "    IF_LEFT\n",
    "        { ADD }\n",
    "        { SUB } ;\n",
    "    NIL operation ;\n",
    "    PAIR ;\n",
    "} ;\n",
    "\n",
    "RUN %increment 5 6 ;"
   ]
  },
  {
   "cell_type": "markdown",
   "metadata": {},
   "source": [
    "This contract does the same thing as the one before, the difference is that you can annotate the arguments of the union value and when running the contract, you can use the annotations to target the value of your choice. If you replace `RUN %increment 5 6` with `RUN %decrement 5 6`, you will obtain `-1`. \n",
    "\n",
    "Each side of the union type represents the \"entrypoint\" of the contract and using annotations allows us to identify these entrypoints more clearly. We can say our contract as an \"increment\" entrypoint and a \"decrement\" entrypoint.\n",
    "\n",
    "Now imagine, you want a third entrypoint, for example to reset the storage to zero. Union types only allow two values (left/right). However, nested union types are a thing in Michelson and are widely used in contracts! Let's see how it would look like first without annotations:"
   ]
  },
  {
   "cell_type": "code",
   "execution_count": 16,
   "metadata": {},
   "outputs": [
    {
     "name": "stdout",
     "output_type": "stream",
     "text": [
      "parameter (or (or int int) unit);\n",
      "storage int;\n",
      "code { { DUP ; CAR ; DIP { CDR } } ; IF_LEFT { IF_LEFT { ADD } { SUB } } { DROP ; DROP ; PUSH int 0 } ; NIL operation ; PAIR };\n",
      "RUN: use %default; drop all; push (5, 6);\n",
      "DUP: push (5, 6);\n",
      "CAR: pop (5, 6); push 5;\n",
      "DIP: protect 1 item(s);\n",
      "CDR: pop (5, 6); push 6;\n",
      "restore 1 item(s);\n",
      "IF_LEFT: pop 5; push 5;\n",
      "IF_LEFT: pop 5; push 5;\n",
      "ADD: pop 5, 6; push 11;\n",
      "NIL: push [];\n",
      "PAIR: pop [], 11; push ([], 11);"
     ]
    },
    {
     "data": {
      "text/html": [
       "<table>\n",
       "<thead>\n",
       "<tr><th>value                                  </th><th>type                                    </th></tr>\n",
       "</thead>\n",
       "<tbody>\n",
       "<tr><td><pre style=&quot;text-align: left;&quot;>11</pre></td><td><pre style=&quot;text-align: left;&quot;>int</pre></td></tr>\n",
       "</tbody>\n",
       "</table>"
      ],
      "text/plain": [
       "  value  type\n",
       "-------  ------\n",
       "     11  int"
      ]
     },
     "execution_count": 16,
     "metadata": {},
     "output_type": "execute_result"
    }
   ],
   "source": [
    "parameter (or (or int int) unit) ;\n",
    "storage int ;\n",
    "code {\n",
    "    UNPAIR ;\n",
    "    IF_LEFT\n",
    "        {\n",
    "            IF_LEFT\n",
    "                { ADD }\n",
    "                { SUB } ;\n",
    "        }\n",
    "        { DROP ; DROP ; PUSH int 0 } ;\n",
    "    NIL operation ;\n",
    "    PAIR ;\n",
    "} ;\n",
    "\n",
    "RUN %default (Left (Left 5)) 6 ;"
   ]
  },
  {
   "cell_type": "markdown",
   "metadata": {},
   "source": [
    "The first **`IF_LEFT`** unwraps the first union value and the second one unwraps the second union value that decides if the contract is going to add the values or subtract them. This contract adds the two values but you can easily subtract by replacing `RUN %default (Left (Left 5)) 6 ;` with `RUN %default (Left (Right 5)) 6 ;`. If you want to reset the storage to `0`, you can write `RUN %default (Right Unit) 6 ;`.\n",
    "\n",
    "Here is the same contract written with annotations:"
   ]
  },
  {
   "cell_type": "code",
   "execution_count": 19,
   "metadata": {},
   "outputs": [
    {
     "name": "stdout",
     "output_type": "stream",
     "text": [
      "parameter (or (or (int %increment) (int %decrement)) (unit %reset));\n",
      "storage int;\n",
      "code { { DUP ; CAR ; DIP { CDR } } ; IF_LEFT { IF_LEFT { ADD } { SUB } } { DROP ; DROP ; PUSH int 0 } ; NIL operation ; PAIR };\n",
      "RUN: use %increment; drop all; push (5, 6);\n",
      "DUP: push (5, 6);\n",
      "CAR: pop (5, 6); push 5;\n",
      "DIP: protect 1 item(s);\n",
      "CDR: pop (5, 6); push 6;\n",
      "restore 1 item(s);\n",
      "IF_LEFT: pop 5; push 5;\n",
      "IF_LEFT: pop 5; push 5;\n",
      "ADD: pop 5, 6; push 11;\n",
      "NIL: push [];\n",
      "PAIR: pop [], 11; push ([], 11);"
     ]
    },
    {
     "data": {
      "text/html": [
       "<table>\n",
       "<thead>\n",
       "<tr><th>value                                  </th><th>type                                    </th></tr>\n",
       "</thead>\n",
       "<tbody>\n",
       "<tr><td><pre style=&quot;text-align: left;&quot;>11</pre></td><td><pre style=&quot;text-align: left;&quot;>int</pre></td></tr>\n",
       "</tbody>\n",
       "</table>"
      ],
      "text/plain": [
       "  value  type\n",
       "-------  ------\n",
       "     11  int"
      ]
     },
     "execution_count": 19,
     "metadata": {},
     "output_type": "execute_result"
    }
   ],
   "source": [
    "parameter (or (or (int %increment) (int %decrement)) (unit %reset)) ;\n",
    "storage int ;\n",
    "code {\n",
    "    UNPAIR ;\n",
    "    IF_LEFT\n",
    "        {\n",
    "            IF_LEFT\n",
    "                { ADD }\n",
    "                { SUB } ;\n",
    "        }\n",
    "        { DROP ; DROP ; PUSH int 0 } ;\n",
    "    NIL operation ;\n",
    "    PAIR ;\n",
    "} ;\n",
    "\n",
    "RUN %increment 5 6 ;"
   ]
  },
  {
   "cell_type": "code",
   "execution_count": null,
   "metadata": {},
   "outputs": [],
   "source": []
  }
 ],
 "metadata": {
  "kernelspec": {
   "display_name": "Michelson",
   "language": "michelson",
   "name": "michelson"
  },
  "language_info": {
   "codemirror_mode": "michelson",
   "file_extension": ".tz",
   "mimetype": "text/x-michelson",
   "name": "Michelson"
  }
 },
 "nbformat": 4,
 "nbformat_minor": 4
}

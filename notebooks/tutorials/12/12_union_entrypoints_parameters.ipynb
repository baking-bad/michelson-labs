{
 "cells": [
  {
   "cell_type": "markdown",
   "metadata": {},
   "source": [
    "# Chapter 12\n",
    "\n",
    "## Union types\n",
    "\n",
    "So far, in all the contracts we have written, the flow of the execution was pretty straighforward:\n",
    "1. The transaction is sent to the contract with a single parameter.\n",
    "2. The contract uses or not the parameter and runs its code.\n",
    "3. A pair containing a list of operations and the new storage is returned.\n",
    "\n",
    "This works well for simple contracts, but what if you want your contract to do multiple things? You could write different separate contracts of course, but sharing their storage and state will be more complicated. In this chapter, you will learn how to change the behaviour of your contract according to the parameters it received!\n",
    "\n",
    "Let's check a very simple example and see how we can modify it to change its behaviour:"
   ]
  },
  {
   "cell_type": "code",
   "execution_count": 4,
   "metadata": {},
   "outputs": [
    {
     "name": "stdout",
     "output_type": "stream",
     "text": [
      "parameter int;\n",
      "storage int;\n",
      "code { { DUP ; CAR ; DIP { CDR } } ; ADD ; NIL operation ; PAIR };\n",
      "RUN: use %default; drop all; push (5, 6);\n",
      "DUP: push (5, 6);\n",
      "CAR: pop (5, 6); push 5;\n",
      "DIP: protect 1 item(s);\n",
      "CDR: pop (5, 6); push 6;\n",
      "restore 1 item(s);\n",
      "ADD: pop 5, 6; push 11;\n",
      "NIL: push [];\n",
      "PAIR: pop [], 11; push ([], 11);"
     ]
    },
    {
     "data": {
      "text/html": [
       "<table>\n",
       "<thead>\n",
       "<tr><th>value                                  </th><th>type                                    </th></tr>\n",
       "</thead>\n",
       "<tbody>\n",
       "<tr><td><pre style=&quot;text-align: left;&quot;>11</pre></td><td><pre style=&quot;text-align: left;&quot;>int</pre></td></tr>\n",
       "</tbody>\n",
       "</table>"
      ],
      "text/plain": [
       "  value  type\n",
       "-------  ------\n",
       "     11  int"
      ]
     },
     "execution_count": 4,
     "metadata": {},
     "output_type": "execute_result"
    }
   ],
   "source": [
    "parameter int ;\n",
    "storage int ;\n",
    "code {\n",
    "    UNPAIR ;\n",
    "    ADD ;\n",
    "    NIL operation ;\n",
    "    PAIR ;\n",
    "} ;\n",
    "\n",
    "RUN %default 5 6 ;"
   ]
  },
  {
   "cell_type": "markdown",
   "metadata": {},
   "source": [
    "This couldn't be more simple 😅 The contract takes the `int` sent in the parameters and adds it to the `int` in the storage.  \n",
    "Now, imagine you want the same contract to add or subtract two numbers. There must be something in the parameter that tells the contract what to do. This is when `union types` intervene! Let's see first how that would look like:"
   ]
  },
  {
   "cell_type": "code",
   "execution_count": 10,
   "metadata": {},
   "outputs": [
    {
     "name": "stdout",
     "output_type": "stream",
     "text": [
      "parameter (or int int);\n",
      "storage int;\n",
      "code { { DUP ; CAR ; DIP { CDR } } ; IF_LEFT { ADD } { SUB } ; NIL operation ; PAIR };\n",
      "RUN: use %default; drop all; push (5, 6);\n",
      "DUP: push (5, 6);\n",
      "CAR: pop (5, 6); push 5;\n",
      "DIP: protect 1 item(s);\n",
      "CDR: pop (5, 6); push 6;\n",
      "restore 1 item(s);\n",
      "IF_LEFT: pop 5; push 5;\n",
      "ADD: pop 5, 6; push 11;\n",
      "NIL: push [];\n",
      "PAIR: pop [], 11; push ([], 11);"
     ]
    },
    {
     "data": {
      "text/html": [
       "<table>\n",
       "<thead>\n",
       "<tr><th>value                                  </th><th>type                                    </th></tr>\n",
       "</thead>\n",
       "<tbody>\n",
       "<tr><td><pre style=&quot;text-align: left;&quot;>11</pre></td><td><pre style=&quot;text-align: left;&quot;>int</pre></td></tr>\n",
       "</tbody>\n",
       "</table>"
      ],
      "text/plain": [
       "  value  type\n",
       "-------  ------\n",
       "     11  int"
      ]
     },
     "execution_count": 10,
     "metadata": {},
     "output_type": "execute_result"
    }
   ],
   "source": [
    "parameter (or int int) ;\n",
    "storage int ;\n",
    "code {\n",
    "    UNPAIR ;\n",
    "    IF_LEFT\n",
    "        { ADD }\n",
    "        { SUB } ;\n",
    "    NIL operation ;\n",
    "    PAIR ;\n",
    "} ;\n",
    "\n",
    "RUN %default (Left 5) 6 ;"
   ]
  },
  {
   "cell_type": "markdown",
   "metadata": {},
   "source": [
    "You can now see that there are three different things in this new contract compared to the previous one:\n",
    "1. The parameter is `(or (int %increment) (int %decrement))` instead of `int`.\n",
    "2. There is a conditional structure in the code with **`IF_LEFT`**.\n",
    "3. The parameters of the **`RUN`** instruction are different.\n",
    "\n",
    "In order to tell the contract to change its behaviour, we are using a `union type`. As its name indicates, a `union type` is a type made of the union of two other types. It holds one value that may be of either type. In its most basic form, a union type is declared between parentheses with the keyword `or` followed by the two types you want to use. The type on the left is the `left` part of the union, the type on the right the `right` part. After implementing the union type as a parameter, we can pass two different arguments to the contract: a union value with a value on the left or a union value with a value on the right. Now, we want the contract to behave differently according to the value present in the union value. This is what **`IF_LEFT`** does. When we unpair the pair of parameter/storage, the contract knows it expects a union type. If the left side holds a value, the value in `(Left value)` will be pushed onto the stack. If the right side holds a value, the value in `(Right value)` will be pushed. This is what you can see after the **`RUN`** instruction, we indicated `(Left 5)` as the value we want to use.\n",
    "\n",
    "As you may have guessed, **`IF_LEFT`** will branch into the first pair of curly braces if the left side of the union value holds a value or it will branch into the second pair of curly braces if the right side of the union value holds a value. After branching, the naked value inside the union value is pushed onto the stack and ready to be used. In the case of this example, the `int` value is added to the value in the storage and the new storage is returned.\n",
    "\n",
    "To drive the point home, let's see what happens if we want to subtract the value passed as a parameter:"
   ]
  },
  {
   "cell_type": "code",
   "execution_count": 11,
   "metadata": {},
   "outputs": [
    {
     "name": "stdout",
     "output_type": "stream",
     "text": [
      "parameter (or int int);\n",
      "storage int;\n",
      "code { { DUP ; CAR ; DIP { CDR } } ; IF_LEFT { ADD } { SUB } ; NIL operation ; PAIR };\n",
      "RUN: use %default; drop all; push (5, 6);\n",
      "DUP: push (5, 6);\n",
      "CAR: pop (5, 6); push 5;\n",
      "DIP: protect 1 item(s);\n",
      "CDR: pop (5, 6); push 6;\n",
      "restore 1 item(s);\n",
      "IF_LEFT: pop 5; push 5;\n",
      "SUB: pop 5, 6; push -1;\n",
      "NIL: push [];\n",
      "PAIR: pop [], -1; push ([], -1);"
     ]
    },
    {
     "data": {
      "text/html": [
       "<table>\n",
       "<thead>\n",
       "<tr><th>value                                  </th><th>type                                    </th></tr>\n",
       "</thead>\n",
       "<tbody>\n",
       "<tr><td><pre style=&quot;text-align: left;&quot;>-1</pre></td><td><pre style=&quot;text-align: left;&quot;>int</pre></td></tr>\n",
       "</tbody>\n",
       "</table>"
      ],
      "text/plain": [
       "  value  type\n",
       "-------  ------\n",
       "     -1  int"
      ]
     },
     "execution_count": 11,
     "metadata": {},
     "output_type": "execute_result"
    }
   ],
   "source": [
    "parameter (or int int) ;\n",
    "storage int ;\n",
    "code {\n",
    "    UNPAIR ;\n",
    "    IF_LEFT\n",
    "        { ADD }\n",
    "        { SUB } ;\n",
    "    NIL operation ;\n",
    "    PAIR ;\n",
    "} ;\n",
    "\n",
    "RUN %default (Right 5) 6 ;"
   ]
  },
  {
   "cell_type": "markdown",
   "metadata": {},
   "source": [
    "Pretty simple, we just replace `(Left 5)` with `(Right 5)`! The result of the operation (`-1`) indicates that the contract subtracted the two values instead of adding them together!\n",
    "\n",
    "Now that you understood the bases of using a union type as a parameter, we can introduce annotations to make the code a little easier to read:"
   ]
  },
  {
   "cell_type": "code",
   "execution_count": 12,
   "metadata": {},
   "outputs": [
    {
     "name": "stdout",
     "output_type": "stream",
     "text": [
      "parameter (or (int %increment) (int %decrement));\n",
      "storage int;\n",
      "code { { DUP ; CAR ; DIP { CDR } } ; IF_LEFT { ADD } { SUB } ; NIL operation ; PAIR };\n",
      "RUN: use %increment; drop all; push (5, 6);\n",
      "DUP: push (5, 6);\n",
      "CAR: pop (5, 6); push 5;\n",
      "DIP: protect 1 item(s);\n",
      "CDR: pop (5, 6); push 6;\n",
      "restore 1 item(s);\n",
      "IF_LEFT: pop 5; push 5;\n",
      "ADD: pop 5, 6; push 11;\n",
      "NIL: push [];\n",
      "PAIR: pop [], 11; push ([], 11);"
     ]
    },
    {
     "data": {
      "text/html": [
       "<table>\n",
       "<thead>\n",
       "<tr><th>value                                  </th><th>type                                    </th></tr>\n",
       "</thead>\n",
       "<tbody>\n",
       "<tr><td><pre style=&quot;text-align: left;&quot;>11</pre></td><td><pre style=&quot;text-align: left;&quot;>int</pre></td></tr>\n",
       "</tbody>\n",
       "</table>"
      ],
      "text/plain": [
       "  value  type\n",
       "-------  ------\n",
       "     11  int"
      ]
     },
     "execution_count": 12,
     "metadata": {},
     "output_type": "execute_result"
    }
   ],
   "source": [
    "parameter (or (int %increment) (int %decrement)) ;\n",
    "storage int ;\n",
    "code {\n",
    "    UNPAIR ;\n",
    "    IF_LEFT\n",
    "        { ADD }\n",
    "        { SUB } ;\n",
    "    NIL operation ;\n",
    "    PAIR ;\n",
    "} ;\n",
    "\n",
    "RUN %increment 5 6 ;"
   ]
  },
  {
   "cell_type": "markdown",
   "metadata": {},
   "source": [
    "This contract does the same thing as the one before, the difference is that you can annotate the arguments of the union value and when running the contract, you can use the annotations to target the value of your choice. If you replace `RUN %increment 5 6` with `RUN %decrement 5 6`, you will obtain `-1`. \n",
    "\n",
    "Each side of the union type represents the \"entrypoint\" of the contract and using annotations allows us to identify these entrypoints more clearly. We can say our contract as an \"increment\" entrypoint and a \"decrement\" entrypoint.\n",
    "\n",
    "Now imagine, you want a third entrypoint, for example to reset the storage to zero. Union types only allow two values (left/right). However, nested union types are a thing in Michelson and are widely used in contracts! Let's see how it would look like first without annotations:"
   ]
  },
  {
   "cell_type": "code",
   "execution_count": 16,
   "metadata": {},
   "outputs": [
    {
     "name": "stdout",
     "output_type": "stream",
     "text": [
      "parameter (or (or int int) unit);\n",
      "storage int;\n",
      "code { { DUP ; CAR ; DIP { CDR } } ; IF_LEFT { IF_LEFT { ADD } { SUB } } { DROP ; DROP ; PUSH int 0 } ; NIL operation ; PAIR };\n",
      "RUN: use %default; drop all; push (5, 6);\n",
      "DUP: push (5, 6);\n",
      "CAR: pop (5, 6); push 5;\n",
      "DIP: protect 1 item(s);\n",
      "CDR: pop (5, 6); push 6;\n",
      "restore 1 item(s);\n",
      "IF_LEFT: pop 5; push 5;\n",
      "IF_LEFT: pop 5; push 5;\n",
      "ADD: pop 5, 6; push 11;\n",
      "NIL: push [];\n",
      "PAIR: pop [], 11; push ([], 11);"
     ]
    },
    {
     "data": {
      "text/html": [
       "<table>\n",
       "<thead>\n",
       "<tr><th>value                                  </th><th>type                                    </th></tr>\n",
       "</thead>\n",
       "<tbody>\n",
       "<tr><td><pre style=&quot;text-align: left;&quot;>11</pre></td><td><pre style=&quot;text-align: left;&quot;>int</pre></td></tr>\n",
       "</tbody>\n",
       "</table>"
      ],
      "text/plain": [
       "  value  type\n",
       "-------  ------\n",
       "     11  int"
      ]
     },
     "execution_count": 16,
     "metadata": {},
     "output_type": "execute_result"
    }
   ],
   "source": [
    "parameter (or (or int int) unit) ;\n",
    "storage int ;\n",
    "code {\n",
    "    UNPAIR ;\n",
    "    IF_LEFT\n",
    "        {\n",
    "            IF_LEFT\n",
    "                { ADD }\n",
    "                { SUB } ;\n",
    "        }\n",
    "        { DROP ; DROP ; PUSH int 0 } ;\n",
    "    NIL operation ;\n",
    "    PAIR ;\n",
    "} ;\n",
    "\n",
    "RUN %default (Left (Left 5)) 6 ;"
   ]
  },
  {
   "cell_type": "markdown",
   "metadata": {},
   "source": [
    "The first **`IF_LEFT`** unwraps the first union value and the second one unwraps the second union value that decides if the contract is going to add the values or subtract them. This contract adds the two values but you can easily subtract by replacing `RUN %default (Left (Left 5)) 6 ;` with `RUN %default (Left (Right 5)) 6 ;`. If you want to reset the storage to `0`, you can write `RUN %default (Right Unit) 6 ;`.\n",
    "\n",
    "Here is the same contract written with annotations:"
   ]
  },
  {
   "cell_type": "code",
   "execution_count": 19,
   "metadata": {},
   "outputs": [
    {
     "name": "stdout",
     "output_type": "stream",
     "text": [
      "parameter (or (or (int %increment) (int %decrement)) (unit %reset));\n",
      "storage int;\n",
      "code { { DUP ; CAR ; DIP { CDR } } ; IF_LEFT { IF_LEFT { ADD } { SUB } } { DROP ; DROP ; PUSH int 0 } ; NIL operation ; PAIR };\n",
      "RUN: use %increment; drop all; push (5, 6);\n",
      "DUP: push (5, 6);\n",
      "CAR: pop (5, 6); push 5;\n",
      "DIP: protect 1 item(s);\n",
      "CDR: pop (5, 6); push 6;\n",
      "restore 1 item(s);\n",
      "IF_LEFT: pop 5; push 5;\n",
      "IF_LEFT: pop 5; push 5;\n",
      "ADD: pop 5, 6; push 11;\n",
      "NIL: push [];\n",
      "PAIR: pop [], 11; push ([], 11);"
     ]
    },
    {
     "data": {
      "text/html": [
       "<table>\n",
       "<thead>\n",
       "<tr><th>value                                  </th><th>type                                    </th></tr>\n",
       "</thead>\n",
       "<tbody>\n",
       "<tr><td><pre style=&quot;text-align: left;&quot;>11</pre></td><td><pre style=&quot;text-align: left;&quot;>int</pre></td></tr>\n",
       "</tbody>\n",
       "</table>"
      ],
      "text/plain": [
       "  value  type\n",
       "-------  ------\n",
       "     11  int"
      ]
     },
     "execution_count": 19,
     "metadata": {},
     "output_type": "execute_result"
    }
   ],
   "source": [
    "parameter (or (or (int %increment) (int %decrement)) (unit %reset)) ;\n",
    "storage int ;\n",
    "code {\n",
    "    UNPAIR ;\n",
    "    IF_LEFT\n",
    "        {\n",
    "            IF_LEFT\n",
    "                { ADD }\n",
    "                { SUB } ;\n",
    "        }\n",
    "        { DROP ; DROP ; PUSH int 0 } ;\n",
    "    NIL operation ;\n",
    "    PAIR ;\n",
    "} ;\n",
    "\n",
    "RUN %increment 5 6 ;"
   ]
  },
  {
   "cell_type": "markdown",
   "metadata": {},
   "source": [
    "Obviously, you can make the parameters as complex as you wish, which is often the case with more complex smart contracts:"
   ]
  },
  {
   "cell_type": "code",
   "execution_count": 33,
   "metadata": {},
   "outputs": [
    {
     "name": "stdout",
     "output_type": "stream",
     "text": [
      "parameter (or (pair :add nat nat) (pair :sub nat nat));\n",
      "storage int;\n",
      "code { CAR ; IF_LEFT { { DUP ; CAR ; DIP { CDR } } ; ADD ; INT } { { DUP ; CAR ; DIP { CDR } } ; SUB } ; NIL operation ; PAIR };\n",
      "RUN: use %add;\n",
      "parameter (or (pair :add nat nat) (pair :sub nat nat));\n",
      "storage int;\n",
      "code { CAR ; IF_LEFT { { DUP ; CAR ; DIP { CDR } } ; ADD ; INT } { { DUP ; CAR ; DIP { CDR } } ; SUB } ; NIL operation ; PAIR };\n",
      "RUN: use %add;\n",
      "parameter (or (pair %add nat nat) (pair %sub nat nat));\n",
      "storage int;\n",
      "code { CAR ; IF_LEFT { { DUP ; CAR ; DIP { CDR } } ; ADD ; INT } { { DUP ; CAR ; DIP { CDR } } ; SUB } ; NIL operation ; PAIR };\n",
      "RUN: use %add; drop all; push ((5, 6), 0);\n",
      "CAR: pop ((5, 6), 0); push (5, 6);\n",
      "IF_LEFT: pop (5, 6); push (5, 6);\n",
      "DUP: push (5, 6);\n",
      "CAR: pop (5, 6); push 5;\n",
      "DIP: protect 1 item(s);\n",
      "CDR: pop (5, 6); push 6;\n",
      "restore 1 item(s);\n",
      "ADD: pop 5, 6; push 11;\n",
      "INT: pop 11; push 11;\n",
      "NIL: push [];\n",
      "PAIR: pop [], 11; push ([], 11);"
     ]
    },
    {
     "data": {
      "text/html": [
       "<table>\n",
       "<thead>\n",
       "<tr><th>value                                  </th><th>type                                    </th></tr>\n",
       "</thead>\n",
       "<tbody>\n",
       "<tr><td><pre style=&quot;text-align: left;&quot;>11</pre></td><td><pre style=&quot;text-align: left;&quot;>int</pre></td></tr>\n",
       "</tbody>\n",
       "</table>"
      ],
      "text/plain": [
       "  value  type\n",
       "-------  ------\n",
       "     11  int"
      ]
     },
     "execution_count": 33,
     "metadata": {},
     "output_type": "execute_result"
    }
   ],
   "source": [
    "parameter (or (pair %add nat nat) (pair %sub nat nat)) ;\n",
    "storage int ;\n",
    "code {\n",
    "    CAR ;\n",
    "    IF_LEFT\n",
    "        {\n",
    "            ## unpair the pair and add the numbers\n",
    "            UNPAIR ;\n",
    "            ADD ;\n",
    "            INT ;\n",
    "        }\n",
    "        {\n",
    "            ## unpair the pair and subtract the numbers\n",
    "            UNPAIR ;\n",
    "            SUB ;\n",
    "        } ;\n",
    "    NIL operation ;\n",
    "    PAIR\n",
    "} ;\n",
    "\n",
    "RUN %add (Pair 5 6) 0 ;"
   ]
  },
  {
   "cell_type": "markdown",
   "metadata": {},
   "source": [
    "In this contract example, we pass a union value made of two pairs containing the values we want to add or subtract (instead of using the one in the storage). We tell the contract which one to use with `RUN %add (Pair 5 6) 0` but we could also have written it `RUN %default (Left (Pair 5 6)) 0`.\n",
    "\n",
    "In addition to **`IF_LEFT`**, you can also use **`IF_RIGHT`** which is a macro that will just reverse the order of the element in the union value and run **`IF_LEFT`**:"
   ]
  },
  {
   "cell_type": "code",
   "execution_count": 1,
   "metadata": {},
   "outputs": [
    {
     "name": "stdout",
     "output_type": "stream",
     "text": [
      "parameter (or (int %increment) (int %decrement));\n",
      "storage int;\n",
      "code { { DUP ; CAR ; DIP { CDR } } ; { IF_LEFT { ADD } { SUB } } ; NIL operation ; PAIR };\n",
      "RUN: use %increment; drop all; push (5, 6);\n",
      "DUP: push (5, 6);\n",
      "CAR: pop (5, 6); push 5;\n",
      "DIP: protect 1 item(s);\n",
      "CDR: pop (5, 6); push 6;\n",
      "restore 1 item(s);\n",
      "IF_LEFT: pop 5; push 5;\n",
      "ADD: pop 5, 6; push 11;\n",
      "NIL: push [];\n",
      "PAIR: pop [], 11; push ([], 11);"
     ]
    },
    {
     "data": {
      "text/html": [
       "<table>\n",
       "<thead>\n",
       "<tr><th>value                                  </th><th>type                                    </th></tr>\n",
       "</thead>\n",
       "<tbody>\n",
       "<tr><td><pre style=&quot;text-align: left;&quot;>11</pre></td><td><pre style=&quot;text-align: left;&quot;>int</pre></td></tr>\n",
       "</tbody>\n",
       "</table>"
      ],
      "text/plain": [
       "  value  type\n",
       "-------  ------\n",
       "     11  int"
      ]
     },
     "execution_count": 1,
     "metadata": {},
     "output_type": "execute_result"
    }
   ],
   "source": [
    "parameter (or (int %increment) (int %decrement)) ;\n",
    "storage int ;\n",
    "code {\n",
    "    UNPAIR ;\n",
    "    IF_RIGHT\n",
    "        { SUB }\n",
    "        { ADD } ;\n",
    "    NIL operation ;\n",
    "    PAIR ;\n",
    "} ;\n",
    "\n",
    "RUN %increment 5 6 ;"
   ]
  },
  {
   "cell_type": "markdown",
   "metadata": {},
   "source": [
    "To finish with conditionals, there is a macro you can use to check if you want to verify that the correct side of the union type is used, **`ASSERT_LEFT`**:"
   ]
  },
  {
   "cell_type": "code",
   "execution_count": 67,
   "metadata": {},
   "outputs": [
    {
     "name": "stdout",
     "output_type": "stream",
     "text": [
      "parameter (or (nat %increment) (unit %forbidden));\n",
      "storage nat;\n",
      "code { { DUP ; CAR ; DIP { CDR } } ; { IF_LEFT { RENAME } { { UNIT ; FAILWITH } } } ; ADD ; NIL operation ; PAIR };\n",
      "RUN: use %forbidden; drop all; push (Unit, 5);\n",
      "DUP: push (Unit, 5);\n",
      "CAR: pop (Unit, 5); push Unit;\n",
      "DIP: protect 1 item(s);\n",
      "CDR: pop (Unit, 5); push 5;\n",
      "restore 1 item(s);\n",
      "IF_LEFT: pop Unit; push Unit;\n",
      "UNIT: push Unit;\n",
      "FAILWITH: pop Unit;"
     ]
    },
    {
     "name": "stderr",
     "output_type": "stream",
     "text": [
      "MichelsonRuntimeError: Unit\n",
      "at RUN -> IF_LEFT -> FAILWITH"
     ]
    }
   ],
   "source": [
    "parameter (or (nat %increment) (unit %forbidden)) ;\n",
    "storage nat ;\n",
    "code {\n",
    "    UNPAIR ;\n",
    "    ASSERT_LEFT ;\n",
    "    ADD ;\n",
    "    NIL operation ;\n",
    "    PAIR\n",
    "} ;\n",
    "\n",
    "RUN %forbidden Unit 5 ;"
   ]
  },
  {
   "cell_type": "markdown",
   "metadata": {},
   "source": [
    "As you can see, the contract fails if we try to call the *forbidden* entrypoint. If you switch it to *increment* and pass a number instead of `Unit`, it will work!\n",
    "\n",
    "So far, we have only received union values in the parameters, but it is also possible to create them within the smart contracts. That can be very useful when building a new transaction if you are targetting the entrypoint of another contract. Here is how you can easily set a value of type `union`:"
   ]
  },
  {
   "cell_type": "code",
   "execution_count": 76,
   "metadata": {},
   "outputs": [
    {
     "name": "stdout",
     "output_type": "stream",
     "text": [
      "parameter unit;\n",
      "storage unit;\n",
      "BEGIN: use %default; drop all; push (Unit, Unit);\n",
      "DROP: pop (Unit, Unit);\n",
      "PUSH: push hello;\n",
      "PUSH: push 6;\n",
      "LEFT: pop 6; push 6;"
     ]
    },
    {
     "data": {
      "text/html": [
       "<table>\n",
       "<thead>\n",
       "<tr><th>value                                            </th><th>type                                              </th></tr>\n",
       "</thead>\n",
       "<tbody>\n",
       "<tr><td><pre style=&quot;text-align: left;&quot;>Left 6</pre>      </td><td><pre style=&quot;text-align: left;&quot;>or int string</pre></td></tr>\n",
       "<tr><td><pre style=&quot;text-align: left;&quot;>Left &quot;hello&quot;</pre></td><td><pre style=&quot;text-align: left;&quot;>or string nat</pre></td></tr>\n",
       "</tbody>\n",
       "</table>"
      ],
      "text/plain": [
       "value         type\n",
       "------------  -------------\n",
       "Left 6        or int string\n",
       "Left \"hello\"  or string nat"
      ]
     },
     "execution_count": 76,
     "metadata": {},
     "output_type": "execute_result"
    }
   ],
   "source": [
    "parameter unit ;\n",
    "storage unit ;\n",
    "BEGIN Unit Unit ;\n",
    "DROP ;\n",
    "## By pushing it\n",
    "PUSH (or string nat) (Left \"hello\");\n",
    "## By building it\n",
    "PUSH int 6 ;\n",
    "LEFT string ;\n",
    "DUMP ;"
   ]
  },
  {
   "cell_type": "markdown",
   "metadata": {},
   "source": [
    "A `union type`, like an `int` or a `string` is a *pushable* value, which means that you can use the **`PUSH`** instruction to add a new value onto the stack. If you want to add a new union value, you can use **`PUSH`** followed by the type of the union and its value. Although the union type is a value than can be of two different types, it is always one single value, this is why when you push the value onto the stack, you must use `(Left value)` or `(Right value)` to initialize it.  \n",
    "If you want to use a value on the stack to create the union value, use **`LEFT`** to add it to the left side of the union or **`RIGHT`** to add it to the right side and add the expected type of the other side after the instruction.\n",
    "\n",
    "The `union` type is a powerful concept to create entrypoints in your contract. You can use as many nested union values as you need to redirect the execution of the contract according to the value sent as a parameter.\n",
    "\n",
    "Union types are so useful that it is also possible to use them in ways you may not have imagined before this tutorial! One of the possible applications of `union` types is the implementation of `enum`-like values. Let's consider the following contract:"
   ]
  },
  {
   "cell_type": "code",
   "execution_count": 5,
   "metadata": {},
   "outputs": [
    {
     "name": "stdout",
     "output_type": "stream",
     "text": [
      "parameter (or (or (unit %UP) (unit %DOWN)) (or (unit %LEFT) (unit %RIGHT)));\n",
      "storage unit;\n",
      "code { CAR ; IF_LEFT { IF_LEFT { PUSH string \"UP\" ; FAILWITH } { PUSH string \"DOWN\" ; FAILWITH } } { IF_LEFT { PUSH string \"LEFT\" ; FAILWITH } { PUSH string \"RIGHT\" ; FAILWITH } } };\n",
      "RUN: use %default; drop all; push (Unit, Unit);\n",
      "CAR: pop (Unit, Unit); push Unit;\n",
      "IF_LEFT: pop Unit; push Unit;\n",
      "IF_LEFT: pop Unit; push Unit;\n",
      "PUSH: push DOWN;\n",
      "FAILWITH: pop DOWN;"
     ]
    },
    {
     "name": "stderr",
     "output_type": "stream",
     "text": [
      "MichelsonRuntimeError: DOWN\n",
      "at RUN -> IF_LEFT -> IF_LEFT -> FAILWITH"
     ]
    }
   ],
   "source": [
    "parameter (or (or (unit %UP) (unit %DOWN)) (or (unit %LEFT) (unit %RIGHT))) ;\n",
    "storage unit ;\n",
    "code {\n",
    "    CAR ;\n",
    "    IF_LEFT\n",
    "        {\n",
    "            IF_LEFT\n",
    "                { PUSH string \"UP\" ; FAILWITH }\n",
    "                { PUSH string \"DOWN\" ; FAILWITH }\n",
    "        }\n",
    "        {\n",
    "            IF_LEFT\n",
    "                { PUSH string \"LEFT\" ; FAILWITH }\n",
    "                { PUSH string \"RIGHT\" ; FAILWITH }\n",
    "        }\n",
    "} ;\n",
    "\n",
    "RUN %default (Left (Right Unit)) Unit ;"
   ]
  },
  {
   "cell_type": "markdown",
   "metadata": {},
   "source": [
    "The contract itself is not very interesting but it demonstrates the logic of creating `enums` with `union` values. Here, a nested union value allows us to test a given state that can have 4 different values. By comparison, if we wanted to use `boolean` values, we would have to set 2 separate values in the parameters, probably provide them as a `pair` which would force us to `UNPAIR` the parameter first before running 2 separate conditions. The solution with a `union` is cleaner and more effective."
   ]
  },
  {
   "cell_type": "markdown",
   "metadata": {},
   "source": [
    "## Exercises\n",
    "\n",
    "1. Write a contract that takes a pair as a parameter with a union value on the left and an `int` value on the right. The left side of the union must be called \"add10\" and the right side \"sub10\". When called, \"add10\" will add `10` to the `int` value and \"sub10\" will subtract `10`. The result is saved in the storage."
   ]
  },
  {
   "cell_type": "code",
   "execution_count": null,
   "metadata": {},
   "outputs": [],
   "source": [
    "## Write your code here"
   ]
  },
  {
   "cell_type": "markdown",
   "metadata": {},
   "source": [
    "<details>\n",
    "    <summary>Solution</summary>\n",
    "    <p>Copy-paste the solution in the cell above to compile it!</p>\n",
    "    <br />\n",
    "    <pre>\n",
    "parameter (pair (or (unit %add10) (unit %sub10)) int) ;\n",
    "storage int ;\n",
    "code {\n",
    "    PUSH int 10 ;\n",
    "    SWAP ;\n",
    "    CAR ;\n",
    "    UNPAIR ;\n",
    "    IF_LEFT { DROP ; ADD } { DROP ; SUB } ;\n",
    "    NIL operation ;\n",
    "    PAIR\n",
    "} ;\n",
    "\n",
    "RUN %default (Pair (Left Unit) 23) 0 ;\n",
    "    </pre>\n",
    "</details>"
   ]
  },
  {
   "cell_type": "markdown",
   "metadata": {},
   "source": [
    "2. Write a smart contract that takes a union value as a parameter. In the left field, there is a union value with the annotations \"concat\" and \"slice\" that takes a string. In the right field, there is also a union value with the annotations \"size\" and \"is_equal\". \n",
    "  - For the \"concat\" entrypoint, you pass 2 strings in a pair and verify that the strings are at least 3 character long before concatenating them and saving the result in the storage. \n",
    "  - For the \"slice\" entrypoint, the string must be at least 5 character long, you will slice the first 3 characters and save the substring in the storage.\n",
    "  - For the \"size\" entrypoint, you verify that the string is at least 5 character long before saving it in the storage.\n",
    "  - For the \"is_equal\" entrypoint, you verify the string is equal to \"BakingBad\" before saving it in the storage."
   ]
  },
  {
   "cell_type": "code",
   "execution_count": null,
   "metadata": {},
   "outputs": [],
   "source": [
    "## Write your code here"
   ]
  },
  {
   "cell_type": "markdown",
   "metadata": {},
   "source": [
    "<details>\n",
    "    <summary>Solution</summary>\n",
    "    <p>Copy-paste the solution in the cell above to compile it!</p>\n",
    "    <br />\n",
    "    <pre>\n",
    "parameter (or (or (pair %concat string string) (string %slice)) (or (string %size) (string %is_equal))) ;\n",
    "storage string ;\n",
    "code {\n",
    "    CAR ;\n",
    "    IF_LEFT\n",
    "        {\n",
    "            IF_LEFT\n",
    "                {\n",
    "                    ## %concat\n",
    "                    DUP ;\n",
    "                    UNPAIR ;\n",
    "                    SIZE ;\n",
    "                    PUSH nat 3 ;\n",
    "                    IFCMPLT\n",
    "                        {\n",
    "                            SIZE ;\n",
    "                            PUSH nat 3 ;\n",
    "                            IFCMPLE\n",
    "                                {\n",
    "                                    UNPAIR ;\n",
    "                                    CONCAT ;\n",
    "                                }\n",
    "                                { FAIL }\n",
    "                        }\n",
    "                        { FAIL }\n",
    "                }\n",
    "                {\n",
    "                    ## %slice\n",
    "                    DUP ;\n",
    "                    SIZE ;\n",
    "                    PUSH nat 5 ;\n",
    "                    IFCMPGT\n",
    "                        { FAIL }\n",
    "                        {\n",
    "                            PUSH nat 3 ;\n",
    "                            PUSH nat 0 ;\n",
    "                            SLICE ;\n",
    "                            ASSERT_SOME\n",
    "                        }\n",
    "                }\n",
    "        }\n",
    "        {\n",
    "            IF_LEFT\n",
    "                {\n",
    "                    ## %size\n",
    "                    DUP ;\n",
    "                    SIZE ;\n",
    "                    PUSH nat 5 ;\n",
    "                    ASSERT_CMPLE\n",
    "                }\n",
    "                {\n",
    "                    ## %is_equal\n",
    "                    DUP ;\n",
    "                    PUSH string \"BakingBad\" ;\n",
    "                    ASSERT_CMPEQ\n",
    "                }\n",
    "        } ;\n",
    "    NIL operation ;\n",
    "    PAIR\n",
    "} ;\n",
    "\n",
    "## RUN %default (Left (Left (Pair \"Baking\" \"Bad\"))) \"\" ;\n",
    "## RUN %default (Left (Right \"Tezos\")) \"\" ;\n",
    "## RUN %default (Right (Left \"Tezos\")) \"\" ;\n",
    "RUN %default (Right (Right \"BakingBad\")) \"\" ;\n",
    "    </pre>\n",
    "</details>"
   ]
  }
 ],
 "metadata": {
  "kernelspec": {
   "display_name": "Michelson",
   "language": "michelson",
   "name": "michelson"
  },
  "language_info": {
   "codemirror_mode": "michelson",
   "file_extension": ".tz",
   "mimetype": "text/x-michelson",
   "name": "Michelson"
  }
 },
 "nbformat": 4,
 "nbformat_minor": 4
}

{
 "cells": [
  {
   "cell_type": "markdown",
   "metadata": {},
   "source": [
    "# Chapter 3\n",
    "\n",
    "This chapter introduces conditional structures, fail operators and some useful macros to use in your Michelson code.\n",
    "\n",
    "It is always crucial in your smart contracts to compare values with each other. You may want to make sure that your users send the values your contract is expecting, that a value exists, that the amount sent by your users is sufficient or that the initiator of the transaction has the right to access some part of your code.  \n",
    "\n",
    "Like a lot of other languages, Michelson offers conditional structures that will allow you to compare values together and execute code depending on the result of the comparison of these values.  \n",
    "\n",
    "As you may expect, the instructions involved in these comparisons will look a lot like what you will find in high-level programming languages, with some very specific constraints and considerations due to the low-level nature of Michelson.  \n",
    "\n",
    "In this chapter, we are not going to write a full functional smart contract but manipulate the stack by sending instructions. You will notice that some code snippets start with the **`DROP`** instruction which function will simply be to remove the element created by the previous instruction from the stack and start with a clean stack. It is not involved in the functionalities that are presented.\n",
    "\n",
    "## Compare and generic comparisons\n",
    "\n",
    "As usual, let's declare the storage and parameter type and initialize the smart contract:"
   ]
  },
  {
   "cell_type": "code",
   "execution_count": 1,
   "metadata": {},
   "outputs": [
    {
     "name": "stdout",
     "output_type": "stream",
     "text": [
      "storage int;\n",
      "parameter int;"
     ]
    }
   ],
   "source": [
    "storage int ;\n",
    "parameter int ;"
   ]
  },
  {
   "cell_type": "code",
   "execution_count": 2,
   "metadata": {},
   "outputs": [
    {
     "data": {
      "text/html": [
       "<table>\n",
       "<thead>\n",
       "<tr><th>value                                        </th><th>type                                             </th></tr>\n",
       "</thead>\n",
       "<tbody>\n",
       "<tr><td><pre style=&quot;text-align: left;&quot;>Pair 3 4</pre></td><td><pre style=&quot;text-align: left;&quot;>pair int int</pre></td></tr>\n",
       "</tbody>\n",
       "</table>"
      ],
      "text/plain": [
       "value     type\n",
       "--------  ------------\n",
       "Pair 3 4  pair int int"
      ]
     },
     "execution_count": 2,
     "metadata": {},
     "output_type": "execute_result"
    }
   ],
   "source": [
    "BEGIN 3 4 ;"
   ]
  },
  {
   "cell_type": "markdown",
   "metadata": {},
   "source": [
    "Now it's time to play with our stack!  \n",
    "The following line is more of a refresher about basic instructions to extract the parameter and the storage.  \n",
    "Notice the keyword after **`CAR`** and **`CDR`**? It is an *annotation*, you can use it to track different values in the stack and see how they move:"
   ]
  },
  {
   "cell_type": "code",
   "execution_count": 3,
   "metadata": {},
   "outputs": [
    {
     "name": "stdout",
     "output_type": "stream",
     "text": [
      "DUP: push (3, 4);\n",
      "CAR: pop (3, 4); push 3;\n",
      "SWAP: pop 3, (3, 4); push 3; push (3, 4);\n",
      "CDR: pop (3, 4); push 4;"
     ]
    },
    {
     "data": {
      "text/html": [
       "<table>\n",
       "<thead>\n",
       "<tr><th>value                                 </th><th>type                                    </th><th>name                                         </th></tr>\n",
       "</thead>\n",
       "<tbody>\n",
       "<tr><td><pre style=&quot;text-align: left;&quot;>4</pre></td><td><pre style=&quot;text-align: left;&quot;>int</pre></td><td><pre style=&quot;text-align: left;&quot;>@storage</pre></td></tr>\n",
       "<tr><td><pre style=&quot;text-align: left;&quot;>3</pre></td><td><pre style=&quot;text-align: left;&quot;>int</pre></td><td><pre style=&quot;text-align: left;&quot;>@param</pre>  </td></tr>\n",
       "</tbody>\n",
       "</table>"
      ],
      "text/plain": [
       "  value  type    name\n",
       "-------  ------  --------\n",
       "      4  int     @storage\n",
       "      3  int     @param"
      ]
     },
     "execution_count": 3,
     "metadata": {},
     "output_type": "execute_result"
    }
   ],
   "source": [
    "DUP ; CAR @param ; SWAP ; CDR @storage ; DUMP ;"
   ]
  },
  {
   "cell_type": "markdown",
   "metadata": {},
   "source": [
    "Let's introduce our first comparison instruction!  \n",
    "**`COMPARE`** is an instruction that compares two values and returns a value that can only be `-1`, `0` or `1`. This is how it works:\n",
    "1. **`COMPARE`** takes the two elements currently at the top out of the stack. These two elements **must** be both of a comparable type and of the same type.\n",
    "2. The two elements are compared against each other. The comparison will yield one of the three values below:\n",
    "    - If the two elements are equal, the result is `int 0`.\n",
    "    - If the first element is greater than the second one, the result is `int 1`.\n",
    "    - If the second element is greater than the first one, the result is `int -1`.\n",
    "3. The result is pushed onto the stack.  \n",
    "\n",
    "Observe the effect of **`COMPARE`** below. After the instruction is run, the two integer values that were in the stack are gone and an element of type `int` containing the value `1` is present (`1` indicates that `4` is greater than `3`, which is the case):"
   ]
  },
  {
   "cell_type": "code",
   "execution_count": 189,
   "metadata": {},
   "outputs": [
    {
     "data": {
      "text/html": [
       "<table>\n",
       "<thead>\n",
       "<tr><th>value                                 </th><th>type                                    </th></tr>\n",
       "</thead>\n",
       "<tbody>\n",
       "<tr><td><pre style=&quot;text-align: left;&quot;>1</pre></td><td><pre style=&quot;text-align: left;&quot;>int</pre></td></tr>\n",
       "</tbody>\n",
       "</table>"
      ],
      "text/plain": [
       "  value  type\n",
       "-------  ------\n",
       "      1  int"
      ]
     },
     "execution_count": 189,
     "metadata": {},
     "output_type": "execute_result"
    }
   ],
   "source": [
    "COMPARE ; DUMP ;"
   ]
  },
  {
   "cell_type": "markdown",
   "metadata": {},
   "source": [
    "In the next snippet, we clean up our stack to start from fresh!  \n",
    "Let's check what happens when the values we used above are reversed. Remember that the values are stacked one above the other, so pushing `4` then `3` means that `4` is the second element and `3` the first:"
   ]
  },
  {
   "cell_type": "code",
   "execution_count": 190,
   "metadata": {},
   "outputs": [
    {
     "name": "stdout",
     "output_type": "stream",
     "text": [
      "DROP: pop 1;\n",
      "PUSH: push 4;\n",
      "PUSH: push 3;\n",
      "COMPARE: pop 3, 4; push -1;"
     ]
    },
    {
     "data": {
      "text/html": [
       "<table>\n",
       "<thead>\n",
       "<tr><th>value                                  </th><th>type                                    </th></tr>\n",
       "</thead>\n",
       "<tbody>\n",
       "<tr><td><pre style=&quot;text-align: left;&quot;>-1</pre></td><td><pre style=&quot;text-align: left;&quot;>int</pre></td></tr>\n",
       "</tbody>\n",
       "</table>"
      ],
      "text/plain": [
       "  value  type\n",
       "-------  ------\n",
       "     -1  int"
      ]
     },
     "execution_count": 190,
     "metadata": {},
     "output_type": "execute_result"
    }
   ],
   "source": [
    "DROP ;\n",
    "PUSH int 4 ; PUSH int 3 ; COMPARE ;"
   ]
  },
  {
   "cell_type": "markdown",
   "metadata": {},
   "source": [
    "The result is `-1`, which indicates that the first element is less than the second one.  \n",
    "\n",
    "Now, you may be wondering: \"getting `1`, `0` or `-1` from the comparison is cool, but what to do with that value?\" This is exactly what we are going to see! We can use the value returned by **`COMPARE`** and get a boolean value out of it.  \n",
    "The **`EQ`** instruction checks the value on top of the stack. If the value is equal to `int 0`, **`EQ`** returns `true`. Otherwise, it returns `false`. This is exactly what we need to verify whether our two values are equal or not:"
   ]
  },
  {
   "cell_type": "code",
   "execution_count": 191,
   "metadata": {},
   "outputs": [
    {
     "name": "stdout",
     "output_type": "stream",
     "text": [
      "DROP: pop -1;\n",
      "PUSH: push 4;\n",
      "PUSH: push 3;\n",
      "COMPARE: pop 3, 4; push -1;\n",
      "EQ: pop -1; push False;"
     ]
    },
    {
     "data": {
      "text/html": [
       "<table>\n",
       "<thead>\n",
       "<tr><th>value                                     </th><th>type                                     </th></tr>\n",
       "</thead>\n",
       "<tbody>\n",
       "<tr><td><pre style=&quot;text-align: left;&quot;>False</pre></td><td><pre style=&quot;text-align: left;&quot;>bool</pre></td></tr>\n",
       "</tbody>\n",
       "</table>"
      ],
      "text/plain": [
       "value    type\n",
       "-------  ------\n",
       "False    bool"
      ]
     },
     "execution_count": 191,
     "metadata": {},
     "output_type": "execute_result"
    }
   ],
   "source": [
    "DROP ;\n",
    "PUSH int 4 ; PUSH int 3 ;\n",
    "COMPARE ; EQ ;"
   ]
  },
  {
   "cell_type": "markdown",
   "metadata": {},
   "source": [
    "Let's detail the different steps of the code snippet above:  \n",
    "1. We add an element on top of the stack of type `int` with the value `4`.\n",
    "2. We add another element on top of the previous one of type `int` with the value `3`.\n",
    "3. We use the **`COMPARE`** instruction. It removes the two elements on the stack. `3` is less than `4`, so **`COMPARE`** returns `int -1` and pushes this new value on our empty stack.\n",
    "4. **`EQ`** checks the first (and only) element in the stack. It is not equal to `0`, so it returns false.\n",
    "\n",
    "Now let's see what happens if we use two equal values:"
   ]
  },
  {
   "cell_type": "code",
   "execution_count": 192,
   "metadata": {},
   "outputs": [
    {
     "name": "stdout",
     "output_type": "stream",
     "text": [
      "DROP: pop False;\n",
      "PUSH: push 4;\n",
      "PUSH: push 4;\n",
      "COMPARE: pop 4, 4; push 0;\n",
      "EQ: pop 0; push True;"
     ]
    },
    {
     "data": {
      "text/html": [
       "<table>\n",
       "<thead>\n",
       "<tr><th>value                                    </th><th>type                                     </th></tr>\n",
       "</thead>\n",
       "<tbody>\n",
       "<tr><td><pre style=&quot;text-align: left;&quot;>True</pre></td><td><pre style=&quot;text-align: left;&quot;>bool</pre></td></tr>\n",
       "</tbody>\n",
       "</table>"
      ],
      "text/plain": [
       "value    type\n",
       "-------  ------\n",
       "True     bool"
      ]
     },
     "execution_count": 192,
     "metadata": {},
     "output_type": "execute_result"
    }
   ],
   "source": [
    "DROP ;\n",
    "PUSH int 4 ; PUSH int 4 ;\n",
    "COMPARE ; EQ ;"
   ]
  },
  {
   "cell_type": "markdown",
   "metadata": {},
   "source": [
    "As expected, **`COMPARE`** returns `0` because the two values are identical and **`EQ`** turns the `0` in the stack into the boolean value `True`.  \n",
    "\n",
    "What about checking if the two values are NOT equal? There is an instruction for that too! You can use **`NEQ`** in the same way to return `False` if the two values are equal or `True` if they are not equal:"
   ]
  },
  {
   "cell_type": "code",
   "execution_count": 193,
   "metadata": {},
   "outputs": [
    {
     "name": "stdout",
     "output_type": "stream",
     "text": [
      "DROP: pop True;\n",
      "PUSH: push 3;\n",
      "PUSH: push 4;\n",
      "COMPARE: pop 4, 3; push 1;\n",
      "NEQ: pop 1; push True;"
     ]
    },
    {
     "data": {
      "text/html": [
       "<table>\n",
       "<thead>\n",
       "<tr><th>value                                    </th><th>type                                     </th></tr>\n",
       "</thead>\n",
       "<tbody>\n",
       "<tr><td><pre style=&quot;text-align: left;&quot;>True</pre></td><td><pre style=&quot;text-align: left;&quot;>bool</pre></td></tr>\n",
       "</tbody>\n",
       "</table>"
      ],
      "text/plain": [
       "value    type\n",
       "-------  ------\n",
       "True     bool"
      ]
     },
     "execution_count": 193,
     "metadata": {},
     "output_type": "execute_result"
    }
   ],
   "source": [
    "DROP ;\n",
    "PUSH int 3 ; PUSH int 4 ;\n",
    "COMPARE ; NEQ ;"
   ]
  },
  {
   "cell_type": "markdown",
   "metadata": {},
   "source": [
    "There are a few other instructions you can use like **`EQ`** or **`NEQ`** to check the value returned by **`COMPARE`**:\n",
    "1. **`LT`**: checks if the value is less than `0`, **`COMPARE`** returns `-1` if the first element is less than the second, using **`LT`** will return `True` if **`COMPARE`** returns `-1`.\n",
    "2. **`GT`**: checks if the value is greater than `0`, **`COMPARE`** returns `1` if the first element is greater than the second, using **`GT`** will return `True` if **`COMPARE`** returns `1`.\n",
    "3. **`LE`**: checks if the value is equal or less than `0`, **`COMPARE`** returns `0` or `-1` if the first element is equal or less than the second, using **`LE`** will return `True` if **`COMPARE`** returns `0` or `-1`.\n",
    "4. **`GE`**: checks if the value is equal or greater than `0`, **`COMPARE`** returns `0` or `1` if the first element is equal or greater than the second, using **`GE`** will return `True` if **`COMPARE`** returns `0` or `1`.  \n",
    "\n",
    "Writing two instructions one after the other and remembering that **`COMPARE`** will return `-1`, `0` or `1` that you can then use with another instruction can seem a bit tedious. Michelson knows you want to do more and write less, so it provides useful macros that group instructions together in one single instruction 😉  \n",
    "For example, instead of writing **`COMPARE ; EQ ;`**, you can use **`CMPEQ`**:"
   ]
  },
  {
   "cell_type": "code",
   "execution_count": 194,
   "metadata": {},
   "outputs": [
    {
     "name": "stdout",
     "output_type": "stream",
     "text": [
      "DROP: pop True;\n",
      "PUSH: push 4;\n",
      "PUSH: push 4;\n",
      "COMPARE: pop 4, 4; push 0;\n",
      "EQ: pop 0; push True;"
     ]
    },
    {
     "data": {
      "text/html": [
       "<table>\n",
       "<thead>\n",
       "<tr><th>value                                    </th><th>type                                     </th></tr>\n",
       "</thead>\n",
       "<tbody>\n",
       "<tr><td><pre style=&quot;text-align: left;&quot;>True</pre></td><td><pre style=&quot;text-align: left;&quot;>bool</pre></td></tr>\n",
       "</tbody>\n",
       "</table>"
      ],
      "text/plain": [
       "value    type\n",
       "-------  ------\n",
       "True     bool"
      ]
     },
     "execution_count": 194,
     "metadata": {},
     "output_type": "execute_result"
    }
   ],
   "source": [
    "DROP ;\n",
    "PUSH int 4 ; PUSH int 4 ;\n",
    "CMPEQ ;"
   ]
  },
  {
   "cell_type": "markdown",
   "metadata": {},
   "source": [
    "As you can see, it does exactly the same thing as two code snippets above. You can use any of these macros by using the **`CMP`** prefix followed by one of the instructions listed above: **`CMPEQ`**, **`CMPNEQ`**, **`CMPLT`**, **`CMPGT`**, **`CMPLE`**, **`CMPGE`**.  \n",
    "\n",
    "## Conditionals\n",
    "\n",
    "Now, let's get things a little further. What about running a piece of code only if a **`CMP{EQ|NEQ|LT|GT|LE|GE}`** instruction returns true or false? In a lot of other programming languages, the **`IF`** keyword is used to check if a condition is met and run code accordingly. This is also the case in Michelson. However, when using **`IF`** in Michelson, you have to keep in mind that you *must* have a boolean value in the top element of the stack. Michelson doesn't take shortcuts and only boolean values evaluate to `True` or `False`, there are no \"truthy\" or \"falsy\" values.  \n",
    "\n",
    "Here is an example (remember that we have `True` on top of the stack from the previous example):"
   ]
  },
  {
   "cell_type": "code",
   "execution_count": 195,
   "metadata": {},
   "outputs": [
    {
     "name": "stdout",
     "output_type": "stream",
     "text": [
      "IF: pop True;\n",
      "  PUSH: push Is true;"
     ]
    },
    {
     "data": {
      "text/html": [
       "<table>\n",
       "<thead>\n",
       "<tr><th>value                                         </th><th>type                                       </th></tr>\n",
       "</thead>\n",
       "<tbody>\n",
       "<tr><td><pre style=&quot;text-align: left;&quot;>&quot;Is true&quot;</pre></td><td><pre style=&quot;text-align: left;&quot;>string</pre></td></tr>\n",
       "</tbody>\n",
       "</table>"
      ],
      "text/plain": [
       "value      type\n",
       "---------  ------\n",
       "\"Is true\"  string"
      ]
     },
     "execution_count": 195,
     "metadata": {},
     "output_type": "execute_result"
    }
   ],
   "source": [
    "IF \n",
    "    { PUSH string \"Is true\" } \n",
    "    { PUSH string \"Is false\"}"
   ]
  },
  {
   "cell_type": "markdown",
   "metadata": {},
   "source": [
    "This is obviously a very naive example, but it showcases well what the **`IF`** instruction does in Michelson: it takes the element of type `bool` from the top of the stack and evaluates it. If the element is `True`, it will execute the code in the first block delimited by curly braces. If the element is `False`, it will execute the code in the second block.  \n",
    "\n",
    "Here is a full example to follow what happens step-by-step:"
   ]
  },
  {
   "cell_type": "code",
   "execution_count": 3,
   "metadata": {},
   "outputs": [
    {
     "name": "stdout",
     "output_type": "stream",
     "text": [
      "PUSH: push 4;\n",
      "DUP: push 4;\n",
      "COMPARE: pop 4, 4; push 0;\n",
      "EQ: pop 0; push True;\n",
      "IF: pop True;\n",
      "  PUSH: push It's equal :);"
     ]
    },
    {
     "data": {
      "text/html": [
       "<table>\n",
       "<thead>\n",
       "<tr><th>value                                               </th><th>type                                       </th></tr>\n",
       "</thead>\n",
       "<tbody>\n",
       "<tr><td><pre style=&quot;text-align: left;&quot;>&quot;It&#x27;s equal :)&quot;</pre></td><td><pre style=&quot;text-align: left;&quot;>string</pre></td></tr>\n",
       "</tbody>\n",
       "</table>"
      ],
      "text/plain": [
       "value            type\n",
       "---------------  ------\n",
       "\"It's equal :)\"  string"
      ]
     },
     "execution_count": 3,
     "metadata": {},
     "output_type": "execute_result"
    }
   ],
   "source": [
    "DROP ;\n",
    "PUSH int 4 ;\n",
    "DUP ;\n",
    "COMPARE ;\n",
    "EQ ;\n",
    "IF \n",
    "    { PUSH string \"It's equal :)\" } \n",
    "    { PUSH string \"It is not equal :(\"}"
   ]
  },
  {
   "cell_type": "markdown",
   "metadata": {},
   "source": [
    "Let's detail the magic happening in the code above:\n",
    "1. **`PUSH int 4 ; DUP ;`**: pushes 1 integer on top of the stack and duplicates it to have the same value.\n",
    "2. **`COMPARE`**: checks if the values are equal or not and returns the result as an integer with a value between `-1` and `1`.\n",
    "3. **`EQ`**: checks the value at the top of the stack and verifies if it is equal to `0`. If it is, it returns `True`, otherwise, it returns `False`.\n",
    "4. **`IF`**: checks the boolean value on top of the stack and runs specific code accordingly. If the value is `True`, the first block between curly braces is run. If it is `False`, the second one is run.  \n",
    "\n",
    "You already know by now that Michelson doesn't want you to type a long series of instructions just to check if two integers are of the same value 😜 You remember how it was possible to crush **`COMPARE`** and **`EQ`** together to get **`CMPEQ`**? It is also possible with **`COMPARE`**, **`EQ`** and **`IF`**!  \n",
    "\n",
    "Let's see how that would work:"
   ]
  },
  {
   "cell_type": "code",
   "execution_count": 4,
   "metadata": {},
   "outputs": [
    {
     "name": "stdout",
     "output_type": "stream",
     "text": [
      "DROP: pop It's equal :);\n",
      "PUSH: push 4;\n",
      "DUP: push 4;\n",
      "COMPARE: pop 4, 4; push 0;\n",
      "EQ: pop 0; push True;\n",
      "IF: pop True;\n",
      "  PUSH: push It's equal :);"
     ]
    },
    {
     "data": {
      "text/html": [
       "<table>\n",
       "<thead>\n",
       "<tr><th>value                                               </th><th>type                                       </th></tr>\n",
       "</thead>\n",
       "<tbody>\n",
       "<tr><td><pre style=&quot;text-align: left;&quot;>&quot;It&#x27;s equal :)&quot;</pre></td><td><pre style=&quot;text-align: left;&quot;>string</pre></td></tr>\n",
       "</tbody>\n",
       "</table>"
      ],
      "text/plain": [
       "value            type\n",
       "---------------  ------\n",
       "\"It's equal :)\"  string"
      ]
     },
     "execution_count": 4,
     "metadata": {},
     "output_type": "execute_result"
    }
   ],
   "source": [
    "DROP ;\n",
    "PUSH int 4 ;\n",
    "DUP ;\n",
    "IFCMPEQ \n",
    "    { PUSH string \"It's equal :)\" } \n",
    "    { PUSH string \"It is not equal :(\"}"
   ]
  },
  {
   "cell_type": "markdown",
   "metadata": {},
   "source": [
    "You must admit that this is a lot shorter and simpler! After pushing the two integers on top of the stack, we use the **`IFCMPEQ`** instruction to check if the two values are equal and run some code according to the result. You can also use any of the following combinations: **`IFCMP{EQ|NEQ|LT|GT|LE|GE}`**.  \n",
    "\n",
    "We have been using integers since the beginning to demonstrate how comparisons and conditionals work in Michelson, but you can actually use any comparable type of value. For example, you can also verify whether two strings are the same:"
   ]
  },
  {
   "cell_type": "code",
   "execution_count": 5,
   "metadata": {},
   "outputs": [
    {
     "name": "stdout",
     "output_type": "stream",
     "text": [
      "DROP: pop It's equal :);\n",
      "PUSH: push hello world;\n",
      "PUSH: push hell0 world;\n",
      "COMPARE: pop hell0 world, hello world; push -1;\n",
      "EQ: pop -1; push False;\n",
      "IF: pop False;\n",
      "  PUSH: push It is not the same string :(;"
     ]
    },
    {
     "data": {
      "text/html": [
       "<table>\n",
       "<thead>\n",
       "<tr><th>value                                                              </th><th>type                                       </th></tr>\n",
       "</thead>\n",
       "<tbody>\n",
       "<tr><td><pre style=&quot;text-align: left;&quot;>&quot;It is not the same string :(&quot;</pre></td><td><pre style=&quot;text-align: left;&quot;>string</pre></td></tr>\n",
       "</tbody>\n",
       "</table>"
      ],
      "text/plain": [
       "value                           type\n",
       "------------------------------  ------\n",
       "\"It is not the same string :(\"  string"
      ]
     },
     "execution_count": 5,
     "metadata": {},
     "output_type": "execute_result"
    }
   ],
   "source": [
    "DROP ;\n",
    "PUSH string \"hello world\" ; PUSH string \"hell0 world\" ; \n",
    "IFCMPEQ \n",
    "    { PUSH string \"It's the same string :)\" } \n",
    "    { PUSH string \"It is not the same string :(\"}"
   ]
  },
  {
   "cell_type": "markdown",
   "metadata": {},
   "source": [
    "## FAIL and ASSERT\n",
    "\n",
    "In a real-world smart contract, you want to protect the data saved into the storage from being modified by attackers or from undesirable behaviors. If you create the next big token on Tezos, you must make sure the funds stored in your contract are safe. In some cases, you want a kind of \"circuit breaker\" that will just abort the current execution of the contract if something unexpected or undesirable happens. This will be the job of two macros: **`FAIL`** and **`ASSERT`**.  \n",
    "\n",
    "Every time your contract will meet a **`FAIL`** macro, the execution of the contract will stop and an error will be thrown with a `unit` value as an argument. Nothing is returned (more accurately, a `unit` is returned, which is nothing in practice), nothing is changed:"
   ]
  },
  {
   "cell_type": "code",
   "execution_count": 199,
   "metadata": {},
   "outputs": [
    {
     "name": "stdout",
     "output_type": "stream",
     "text": [
      "DROP: pop It's the same string :);\n",
      "PUSH: push 4;\n",
      "PUSH: push 5;\n",
      "COMPARE: pop 5, 4; push 1;\n",
      "EQ: pop 1; push False;\n",
      "IF: pop False;\n",
      "  UNIT: push Unit;\n",
      "  FAILWITH: pop Unit;"
     ]
    },
    {
     "name": "stderr",
     "output_type": "stream",
     "text": [
      "MichelsonRuntimeError: Unit\n",
      "at IF -> FAILWITH"
     ]
    }
   ],
   "source": [
    "DROP ;\n",
    "PUSH int 4 ; PUSH int 5 ;\n",
    "IFCMPEQ\n",
    "    { PUSH string \"Same number!\" }\n",
    "    { FAIL }"
   ]
  },
  {
   "cell_type": "markdown",
   "metadata": {},
   "source": [
    "You can see that **`IFCMPEQ`** is going to check whether `4` is equal to `5`. As it is not the case, the second code block will be executed, the one containing **`FAIL`**. The contract raises a `MichelsonRuntimeError` followed by the unit returned after **`FAIL`**. The execution is stopped and nothing happens.  \n",
    "\n",
    "The **`IF`** instruction allows to check the result of the comparison of two values of the same type. However, in Michelson, we also have a special type of value called an `option`. This value can be `(Some value)` if there is a value or `None` if there is no value. Certain instructions will push an option on top of the stack. You want then to verify if the option has a value (`Some`) or is empty (`None`).  \n",
    "To this purpose, you can use a special instruction: **`IF_NONE`**. **`IF_NONE`** takes the top element of the stack out (it must be of type `option` though) and will execute the first code block if the value is equal to `None`. Otherwise, it will exectute the second code block. Note that if the value is equal to `(Some value)`, the `value` between parentheses will be pushed on to the stack.  \n",
    "\n",
    "Here is what happens if the value on top of the stack is **`None`**:"
   ]
  },
  {
   "cell_type": "code",
   "execution_count": 4,
   "metadata": {},
   "outputs": [
    {
     "name": "stdout",
     "output_type": "stream",
     "text": [
      "DROP: pop 4;\n",
      "PUSH: push None;\n",
      "IF_NONE: pop None;\n",
      "  PUSH: push No value!;"
     ]
    },
    {
     "data": {
      "text/html": [
       "<table>\n",
       "<thead>\n",
       "<tr><th>value                                           </th><th>type                                       </th></tr>\n",
       "</thead>\n",
       "<tbody>\n",
       "<tr><td><pre style=&quot;text-align: left;&quot;>&quot;No value!&quot;</pre></td><td><pre style=&quot;text-align: left;&quot;>string</pre></td></tr>\n",
       "</tbody>\n",
       "</table>"
      ],
      "text/plain": [
       "value        type\n",
       "-----------  ------\n",
       "\"No value!\"  string"
      ]
     },
     "execution_count": 4,
     "metadata": {},
     "output_type": "execute_result"
    }
   ],
   "source": [
    "DROP ;\n",
    "PUSH (option string) None ;\n",
    "IF_NONE \n",
    "    { PUSH string \"No value!\" }\n",
    "    { FAIL }"
   ]
  },
  {
   "cell_type": "markdown",
   "metadata": {},
   "source": [
    "Now this is what happens if there is **`(Some value)`** on top of the stack:"
   ]
  },
  {
   "cell_type": "code",
   "execution_count": 8,
   "metadata": {},
   "outputs": [
    {
     "name": "stdout",
     "output_type": "stream",
     "text": [
      "DROP: pop No value!;\n",
      "PUSH: push ('hello world',);\n",
      "IF_NONE: pop ('hello world',); push hello world;"
     ]
    },
    {
     "data": {
      "text/html": [
       "<table>\n",
       "<thead>\n",
       "<tr><th>value                                             </th><th>type                                       </th></tr>\n",
       "</thead>\n",
       "<tbody>\n",
       "<tr><td><pre style=&quot;text-align: left;&quot;>&quot;hello world&quot;</pre></td><td><pre style=&quot;text-align: left;&quot;>string</pre></td></tr>\n",
       "</tbody>\n",
       "</table>"
      ],
      "text/plain": [
       "value          type\n",
       "-------------  ------\n",
       "\"hello world\"  string"
      ]
     },
     "execution_count": 8,
     "metadata": {},
     "output_type": "execute_result"
    }
   ],
   "source": [
    "DROP ;\n",
    "PUSH (option string) (Some \"hello world\") ;\n",
    "IF_NONE \n",
    "    { FAIL }\n",
    "    { }"
   ]
  },
  {
   "cell_type": "markdown",
   "metadata": {},
   "source": [
    "You can now see that the string that was wrapped in the `(Some value)` is at the top of the stack.  \n",
    "\n",
    "What if I told you that there is another shortcut to check the value present at the top of the stack? The **`ASSERT`** macro!  \n",
    "**`ASSERT`** expects a boolean value and under the hood, it is a macro for **`IF { } { FAIL }`**. You probably understand this last code by now: if the boolean value is `True`, the code will just continue its execution. If it is `False`, it will fail and return nothing.  \n",
    "Here is a simple example:"
   ]
  },
  {
   "cell_type": "code",
   "execution_count": 202,
   "metadata": {},
   "outputs": [
    {
     "name": "stdout",
     "output_type": "stream",
     "text": [
      "DROP: pop hello world;\n",
      "PUSH: push True;\n",
      "IF: pop True;"
     ]
    }
   ],
   "source": [
    "DROP ;\n",
    "PUSH bool True ;\n",
    "ASSERT ;"
   ]
  },
  {
   "cell_type": "markdown",
   "metadata": {},
   "source": [
    "As you can see, the contract pushes a boolean value equal to `True` on top of the stack. **`ASSERT`** will then check this value and because it is `True`, the contract doesn't fail and continue its execution.  \n",
    "\n",
    "Now we can take the power of **`ASSERT`** even further and extend its capabilities with other macros. Just like **`IF`**, you can use comparison instructions if you want to use other types but booleans.  \n",
    "Let's check how **`ASSERT_CMPEQ`** would work:"
   ]
  },
  {
   "cell_type": "code",
   "execution_count": 203,
   "metadata": {},
   "outputs": [
    {
     "name": "stdout",
     "output_type": "stream",
     "text": [
      "PUSH: push 4;\n",
      "PUSH: push 5;\n",
      "COMPARE: pop 5, 4; push 1;\n",
      "EQ: pop 1; push False;\n",
      "IF: pop False;\n",
      "  UNIT: push Unit;\n",
      "  FAILWITH: pop Unit;"
     ]
    },
    {
     "name": "stderr",
     "output_type": "stream",
     "text": [
      "MichelsonRuntimeError: Unit\n",
      "at IF -> FAILWITH"
     ]
    }
   ],
   "source": [
    "PUSH int 4 ; PUSH int 5 ;\n",
    "ASSERT_CMPEQ ;"
   ]
  },
  {
   "cell_type": "markdown",
   "metadata": {},
   "source": [
    "The code above pushes two integers on top of the stack, compares them against each other and returns `-1`, `0` or `1`, checks if the returned value is equal to zero or not and returns a boolean value, then finally, checks if the boolean value is `true` or `false`.  \n",
    "\n",
    "Now if you use two values that are actually equal, you will see no runtime error:"
   ]
  },
  {
   "cell_type": "code",
   "execution_count": 204,
   "metadata": {},
   "outputs": [
    {
     "name": "stdout",
     "output_type": "stream",
     "text": [
      "PUSH: push 5;\n",
      "PUSH: push 5;\n",
      "COMPARE: pop 5, 5; push 0;\n",
      "EQ: pop 0; push True;\n",
      "IF: pop True;"
     ]
    }
   ],
   "source": [
    "PUSH int 5 ; PUSH int 5 ;\n",
    "ASSERT_CMPEQ ;"
   ]
  },
  {
   "cell_type": "markdown",
   "metadata": {},
   "source": [
    "To finish with this chapter packed with new information, let's see another way of making your contracts fail.  \n",
    "Until now, we have used the **`FAIL`** instruction. If you remember, it stops everything and returns nothing or more precisely, it returns a unit. Actually, **`FAIL`** is also a macro and replaces `UNIT ; FAILWITH ;`. The **`FAILWITH`** instruction is also going to make your contract fail but it will return whatever value is at the top of the stack at this moment. This can be a good solution if you would like to return an error message!  \n",
    "\n",
    "Check the example below:"
   ]
  },
  {
   "cell_type": "code",
   "execution_count": 205,
   "metadata": {},
   "outputs": [
    {
     "name": "stdout",
     "output_type": "stream",
     "text": [
      "PUSH: push False;\n",
      "IF: pop False;\n",
      "  PUSH: push Is false!;\n",
      "  FAILWITH: pop Is false!;"
     ]
    },
    {
     "name": "stderr",
     "output_type": "stream",
     "text": [
      "MichelsonRuntimeError: Is false!\n",
      "at IF -> FAILWITH"
     ]
    }
   ],
   "source": [
    "PUSH bool False ;\n",
    "IF\n",
    "    { PUSH string \"Is true!\" }\n",
    "    { PUSH string \"Is false!\" ; FAILWITH } ;\n",
    "DUMP ;"
   ]
  },
  {
   "cell_type": "markdown",
   "metadata": {},
   "source": [
    "As you can see in the red runtime error box, the error message *Is false!* has been returned instead of *Unit* as it was the case in the previous error messages.  \n",
    "\n",
    "## Recap\n",
    "\n",
    "This chapter was a bit lengthy but it introduces fundamental concepts to write Michelson smart contracts: comparisons, conditions and fails.  \n",
    "With these tools, you can write safer, more robust and more complex contracts that can analyze the data you feed them, run specific code according to the data they receive and fail if they encounter an unexpected situation. Sure, it seems trivial to compare `5` and `4` or to push `True` before running `IF`, but in a real-life scenario, you may want to compare the balance of your users with their withdrawal request before sending them money or verify if a certain user is allowed to withdraw money from a certain account!"
   ]
  },
  {
   "cell_type": "markdown",
   "metadata": {},
   "source": [
    "## Exercices\n",
    "\n",
    "1. Write a smart contract that compares two `nat` numbers provided as parameters. If they are the same, push \"equal\" into the storage. If not, push \"not equal\"."
   ]
  },
  {
   "cell_type": "code",
   "execution_count": null,
   "metadata": {},
   "outputs": [],
   "source": [
    "## Your code here"
   ]
  },
  {
   "cell_type": "markdown",
   "metadata": {},
   "source": [
    "<details>\n",
    "    <summary>Solution</summary>\n",
    "    <p>Copy-paste the solution in the cell above to compile it!</p>\n",
    "    <br />\n",
    "    <pre>\n",
    "        storage string ;\n",
    "        parameter (pair nat nat) ;\n",
    "        code {\n",
    "            CAR ;\n",
    "            DUP ;\n",
    "            CAR ;\n",
    "            SWAP ;\n",
    "            CDR ;\n",
    "            IFCMPEQ\n",
    "                { PUSH string \"equal\" }\n",
    "                { PUSH string \"not equal\" };\n",
    "            NIL operation ;\n",
    "            PAIR ;\n",
    "        } ;\n",
    "        RUN %default (Pair 5 6) \"\" ;\n",
    "    </pre>\n",
    "</details>"
   ]
  },
  {
   "cell_type": "markdown",
   "metadata": {},
   "source": [
    "2. Write a contract that takes a pair of string as parameter, that compares the two strings and fails if they are equal. If they are not equal, save the string in the left field. Use an `ASSERT` macro for this contract."
   ]
  },
  {
   "cell_type": "code",
   "execution_count": 7,
   "metadata": {},
   "outputs": [
    {
     "name": "stdout",
     "output_type": "stream",
     "text": [
      "storage string;\n",
      "parameter (pair string string);\n",
      "code { CAR ; DUP ; DUP ; CAR ; SWAP ; CDR ; { { COMPARE ; NEQ } ; IF {} { { UNIT ; FAILWITH } } } ; CAR ; NIL operation ; PAIR };\n",
      "RUN: use %default; drop all; push (('hello', 'world'), '');\n",
      "CAR: pop (('hello', 'world'), ''); push ('hello', 'world');\n",
      "DUP: push ('hello', 'world');\n",
      "DUP: push ('hello', 'world');\n",
      "CAR: pop ('hello', 'world'); push hello;\n",
      "SWAP: pop hello, ('hello', 'world'); push hello; push ('hello', 'world');\n",
      "CDR: pop ('hello', 'world'); push world;\n",
      "COMPARE: pop world, hello; push 1;\n",
      "NEQ: pop 1; push True;\n",
      "IF: pop True;\n",
      "CAR: pop ('hello', 'world'); push hello;\n",
      "NIL: push [];\n",
      "PAIR: pop [], hello; push ([], 'hello');"
     ]
    },
    {
     "data": {
      "text/html": [
       "<table>\n",
       "<thead>\n",
       "<tr><th>value                                       </th><th>type                                       </th></tr>\n",
       "</thead>\n",
       "<tbody>\n",
       "<tr><td><pre style=&quot;text-align: left;&quot;>&quot;hello&quot;</pre></td><td><pre style=&quot;text-align: left;&quot;>string</pre></td></tr>\n",
       "</tbody>\n",
       "</table>"
      ],
      "text/plain": [
       "value    type\n",
       "-------  ------\n",
       "\"hello\"  string"
      ]
     },
     "execution_count": 7,
     "metadata": {},
     "output_type": "execute_result"
    }
   ],
   "source": [
    "## Your code here"
   ]
  },
  {
   "cell_type": "markdown",
   "metadata": {},
   "source": [
    "<details>\n",
    "    <summary>Solution</summary>\n",
    "    <p>Copy-paste the solution in the cell above to compile it!</p>\n",
    "    <br />\n",
    "    <pre>\n",
    "    storage string ;\n",
    "    parameter (pair string string) ;\n",
    "    code {\n",
    "        CAR ;\n",
    "        DUP ;\n",
    "        DUP ;\n",
    "        CAR ;\n",
    "        SWAP ;\n",
    "        CDR ;\n",
    "        ASSERT_CMPNEQ ;\n",
    "        CAR ;\n",
    "        NIL operation ;\n",
    "        PAIR ;\n",
    "    } ;\n",
    "    RUN %default (Pair \"hello\" \"world\") \"\" ;\n",
    "    </pre>\n",
    "</details>"
   ]
  }
 ],
 "metadata": {
  "kernelspec": {
   "display_name": "Michelson",
   "language": "michelson",
   "name": "michelson"
  },
  "language_info": {
   "codemirror_mode": "michelson",
   "file_extension": ".tz",
   "mimetype": "text/x-michelson",
   "name": "Michelson"
  }
 },
 "nbformat": 4,
 "nbformat_minor": 4
}

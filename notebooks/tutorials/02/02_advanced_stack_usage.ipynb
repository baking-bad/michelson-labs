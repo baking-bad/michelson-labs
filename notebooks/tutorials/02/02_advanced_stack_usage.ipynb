{
 "cells": [
  {
   "cell_type": "markdown",
   "metadata": {},
   "source": [
    "# Chapter 2\n",
    "\n",
    "This chapter introduces types in Michelson, advanced stack usage and stack protection instructions"
   ]
  },
  {
   "cell_type": "markdown",
   "metadata": {},
   "source": [
    "## Types in Michelson"
   ]
  },
  {
   "cell_type": "markdown",
   "metadata": {},
   "source": [
    "Michelson is a strongly typed language with no type inference, which means that you must always indicate which type you are using to the compiler. The compiler will then check that all the values used in the contract are correctly typed.  \n",
    "For example, if you write `PUSH int 3 ; PUSH string \"hello\" ; ADD ;`, the compiler will throw an error as you cannot add an integer and a string together:"
   ]
  },
  {
   "cell_type": "code",
   "execution_count": 8,
   "metadata": {},
   "outputs": [
    {
     "name": "stdout",
     "output_type": "stream",
     "text": [
      "storage unit;\n",
      "parameter unit;\n",
      "code { DROP ; PUSH int 3 ; PUSH string \"Hello\" ; ADD ; NIL operation ; PAIR };\n",
      "RUN: use %default; drop all; push (Unit, Unit);\n",
      "DROP: pop (Unit, Unit);\n",
      "PUSH: push 3;\n",
      "PUSH: push Hello;\n",
      "ADD: pop Hello, 3;"
     ]
    },
    {
     "name": "stderr",
     "output_type": "stream",
     "text": [
      "MichelsonRuntimeError: unsupported argument types String and Int\n",
      "at RUN -> ADD"
     ]
    }
   ],
   "source": [
    "## THIS DOESN'T WORK!\n",
    "storage unit ;\n",
    "parameter unit ;\n",
    "code {\n",
    "    DROP ;\n",
    "    PUSH int 3 ;\n",
    "    PUSH string \"Hello\";\n",
    "    ADD ;\n",
    "    NIL operation ;\n",
    "    PAIR\n",
    "} ;\n",
    "RUN %default Unit Unit ;"
   ]
  },
  {
   "cell_type": "markdown",
   "metadata": {},
   "source": [
    "It is also worth pointing out that the values you use on the stack are immutable, which means that you cannot \"modify\" them, you must remove them, add them or concatenate them together to change them."
   ]
  },
  {
   "cell_type": "markdown",
   "metadata": {},
   "source": [
    "You can find below a list of the most common types in Michelson:\n",
    "- Core data types:  \n",
    "  - __int__ (positive and negative numbers) \n",
    "  - __nat__ (positive numbers) \n",
    "  - __string__ (one or multiple characters) \n",
    "  - __bytes__\n",
    "  - __pair__ (a pair of two values)\n",
    "  - __bool__ (boolean value)\n",
    "  - __unit__ (a placeholder type when no value or parameter is required)\n",
    "  - __option__ (optional value with 2 possible values: _SOME (type)_ and _NONE_)\n",
    "  - __list__ (a list of ordered values of the same type)\n",
    "  - __set__ (a list of unordered unique values of the same type)\n",
    "  - __map__ (a list of key/value pairs)\n",
    "  - __big_map__ (a lazily deserialized list of key/value pairs, used for large amounts of data)\n",
    "- Domain specific data types:\n",
    "  - __timestamp__ (dates in ISO 8601 format)\n",
    "  - __mutez__ (Tezos tokens type)\n",
    "  - __address__ (Tezos addresses)\n",
    "  - __operation__ (internal operation emitted by a contract)\n",
    "  - __key__ (public cryptographic key)"
   ]
  },
  {
   "cell_type": "markdown",
   "metadata": {},
   "source": [
    "Some of these types are called [__comparable types__](https://tezos.gitlab.io/whitedoc/michelson.html#full-grammar) which means that the comparison of two values of these types will yield an _integer_ that you can then use to know if they are equal or if one is lower or higher than the other.  \n",
    "For example, *int*, *nat*, *string*, *bytes*, *mutez*, *bool*, *timestamp* and *address* are all comparable types.  \n",
    "\n",
    "> Note: Be aware of the syntax for types of values that contain other values: for example `(option value)` for option, `(map key value)` for maps, `(pair left_value right_value)` for pairs, etc."
   ]
  },
  {
   "cell_type": "markdown",
   "metadata": {},
   "source": [
    "## Advanced stack usage"
   ]
  },
  {
   "cell_type": "markdown",
   "metadata": {},
   "source": [
    "It is time to play with the stack!  \n",
    "\n",
    "In order to manipulate the stack, you are going to use *instructions*. Instructions are generally short words that will create an effect on the stack. For example, you can use an instruction to push another element on top of the stack, an instruction to duplicate an element, an instruction to change the element position, etc.  \n",
    "\n",
    "We are going to start with simple instructions for simple operations and write a smart contract that accepts a *unit* parameter, has a *string* in the storage and modifies the string in the storage.  \n",
    "\n",
    "> *Note: we will use the terms \"instruction\" and \"opcode\" interchangeably throughout these tutorials. They both refer to the short words used to manipulate the stack in Michelson.*"
   ]
  },
  {
   "cell_type": "markdown",
   "metadata": {},
   "source": [
    "###### - Inline code"
   ]
  },
  {
   "cell_type": "code",
   "execution_count": 4,
   "metadata": {},
   "outputs": [
    {
     "name": "stdout",
     "output_type": "stream",
     "text": [
      "storage string;\n",
      "parameter unit;\n",
      "code { DUP ; CAR ; SWAP ; CDR ; PUSH string \"world\" ; SWAP ; CONCAT ; DIP { DROP } ; NIL operation ; PAIR };"
     ]
    }
   ],
   "source": [
    "storage string ;\n",
    "parameter unit ;\n",
    "code {\n",
    "    DUP ;\n",
    "    CAR ;\n",
    "    SWAP ;\n",
    "    CDR ;\n",
    "    PUSH string \"world\" ;\n",
    "    SWAP ;\n",
    "    CONCAT;\n",
    "    DIP { DROP } ;\n",
    "    NIL operation ;\n",
    "    PAIR\n",
    "}"
   ]
  },
  {
   "cell_type": "code",
   "execution_count": 2,
   "metadata": {},
   "outputs": [
    {
     "name": "stdout",
     "output_type": "stream",
     "text": [
      "RUN: use %default; drop all; push (Unit, 'Hello ');\n",
      "  DUP: push (Unit, 'Hello ');\n",
      "  CAR: pop (Unit, 'Hello '); push Unit;\n",
      "  SWAP: pop Unit, (Unit, 'Hello '); push Unit; push (Unit, 'Hello ');\n",
      "  CDR: pop (Unit, 'Hello '); push Hello ;\n",
      "  PUSH: push world;\n",
      "  SWAP: pop world, Hello ; push world; push Hello ;\n",
      "  CONCAT: pop Hello ; pop world; push Hello world;\n",
      "  DIP: protect 1 item(s);\n",
      "    DROP: pop Unit;\n",
      "    restore 1 item(s);\n",
      "  NIL: push [];\n",
      "  PAIR: pop [], Hello world; push ([], 'Hello world');"
     ]
    },
    {
     "data": {
      "text/html": [
       "<table>\n",
       "<thead>\n",
       "<tr><th>value                                             </th><th>type                                       </th></tr>\n",
       "</thead>\n",
       "<tbody>\n",
       "<tr><td><pre style=&quot;text-align: left;&quot;>&quot;Hello world&quot;</pre></td><td><pre style=&quot;text-align: left;&quot;>string</pre></td></tr>\n",
       "</tbody>\n",
       "</table>"
      ],
      "text/plain": [
       "value          type\n",
       "-------------  ------\n",
       "\"Hello world\"  string"
      ]
     },
     "execution_count": 2,
     "metadata": {},
     "output_type": "execute_result"
    }
   ],
   "source": [
    "RUN %default Unit \"Hello \" ;"
   ]
  },
  {
   "cell_type": "markdown",
   "metadata": {},
   "source": [
    "###### - Step-by-step execution"
   ]
  },
  {
   "cell_type": "markdown",
   "metadata": {},
   "source": [
    "Every Michelson contract starts with two lines that indicate the type of the storage and the parameter.  \n",
    "\n",
    "For this example, we want to create a storage that will keep a string and a parameter that will receive a unit:"
   ]
  },
  {
   "cell_type": "code",
   "execution_count": 28,
   "metadata": {},
   "outputs": [
    {
     "name": "stdout",
     "output_type": "stream",
     "text": [
      "storage string;\n",
      "parameter unit;"
     ]
    }
   ],
   "source": [
    "storage string ;\n",
    "parameter unit ;"
   ]
  },
  {
   "cell_type": "markdown",
   "metadata": {},
   "source": [
    "We start the step-by-step execution by initializing the storage of the smart contract and the received parameter:"
   ]
  },
  {
   "cell_type": "code",
   "execution_count": 29,
   "metadata": {},
   "outputs": [
    {
     "data": {
      "text/html": [
       "<table>\n",
       "<thead>\n",
       "<tr><th>value                                                  </th><th>type                                                 </th></tr>\n",
       "</thead>\n",
       "<tbody>\n",
       "<tr><td><pre style=&quot;text-align: left;&quot;>Pair Unit &quot;Hello &quot;</pre></td><td><pre style=&quot;text-align: left;&quot;>pair unit string</pre></td></tr>\n",
       "</tbody>\n",
       "</table>"
      ],
      "text/plain": [
       "value               type\n",
       "------------------  ----------------\n",
       "Pair Unit \"Hello \"  pair unit string"
      ]
     },
     "execution_count": 29,
     "metadata": {},
     "output_type": "execute_result"
    }
   ],
   "source": [
    "BEGIN Unit \"Hello \" ;"
   ]
  },
  {
   "cell_type": "markdown",
   "metadata": {},
   "source": [
    "The first thing we want to do is duplicating the passed parameter.  \n",
    "\n",
    "To **dup**licate an element of the stack, we use the **`DUP`** opcode. **`DUP`** takes the element at the top of the stack, copies it and pushes it above.  \n",
    "\n",
    "*In a real-world example, this would be an extra step that wouldn't be necessary, but the goal here is to showcase different instructions and how they work together :)*"
   ]
  },
  {
   "cell_type": "code",
   "execution_count": 30,
   "metadata": {},
   "outputs": [
    {
     "data": {
      "text/html": [
       "<table>\n",
       "<thead>\n",
       "<tr><th>value                                                  </th><th>type                                                 </th></tr>\n",
       "</thead>\n",
       "<tbody>\n",
       "<tr><td><pre style=&quot;text-align: left;&quot;>Pair Unit &quot;Hello &quot;</pre></td><td><pre style=&quot;text-align: left;&quot;>pair unit string</pre></td></tr>\n",
       "<tr><td><pre style=&quot;text-align: left;&quot;>Pair Unit &quot;Hello &quot;</pre></td><td><pre style=&quot;text-align: left;&quot;>pair unit string</pre></td></tr>\n",
       "</tbody>\n",
       "</table>"
      ],
      "text/plain": [
       "value               type\n",
       "------------------  ----------------\n",
       "Pair Unit \"Hello \"  pair unit string\n",
       "Pair Unit \"Hello \"  pair unit string"
      ]
     },
     "execution_count": 30,
     "metadata": {},
     "output_type": "execute_result"
    }
   ],
   "source": [
    "DUP ; DUMP ;"
   ]
  },
  {
   "cell_type": "markdown",
   "metadata": {},
   "source": [
    "The element at the top of the stack is now a `pair`. A pair is a type of value that contains 2 values, one on the left and one on the right. Michelson provides instructions to extract these values so we can manipulate them. The first one is **`CAR`** that takes a pair at the top of the stack and returns the value on the left side. Note that the value on the right is taken out of the stack and lost:"
   ]
  },
  {
   "cell_type": "code",
   "execution_count": 31,
   "metadata": {},
   "outputs": [
    {
     "data": {
      "text/html": [
       "<table>\n",
       "<thead>\n",
       "<tr><th>value                                                  </th><th>type                                                 </th></tr>\n",
       "</thead>\n",
       "<tbody>\n",
       "<tr><td><pre style=&quot;text-align: left;&quot;>Unit</pre>              </td><td><pre style=&quot;text-align: left;&quot;>unit</pre>            </td></tr>\n",
       "<tr><td><pre style=&quot;text-align: left;&quot;>Pair Unit &quot;Hello &quot;</pre></td><td><pre style=&quot;text-align: left;&quot;>pair unit string</pre></td></tr>\n",
       "</tbody>\n",
       "</table>"
      ],
      "text/plain": [
       "value               type\n",
       "------------------  ----------------\n",
       "Unit                unit\n",
       "Pair Unit \"Hello \"  pair unit string"
      ]
     },
     "execution_count": 31,
     "metadata": {},
     "output_type": "execute_result"
    }
   ],
   "source": [
    "CAR ; DUMP ;"
   ]
  },
  {
   "cell_type": "markdown",
   "metadata": {},
   "source": [
    "The execution of the contract code always goes from top to bottom, so you may be wondering how to access the pair at the bottom of the stack, if this is the one you want to work with now?  \n",
    "\n",
    "Fortunately, Michelson provides opcodes to change the order of the elements on the stack. The first one we encounter, **`SWAP`** switches the position of the two elements on top of the stack: the element at index 0 goes to index 1 and the element at index 1 goes to index 0:"
   ]
  },
  {
   "cell_type": "code",
   "execution_count": 32,
   "metadata": {},
   "outputs": [
    {
     "data": {
      "text/html": [
       "<table>\n",
       "<thead>\n",
       "<tr><th>value                                                  </th><th>type                                                 </th></tr>\n",
       "</thead>\n",
       "<tbody>\n",
       "<tr><td><pre style=&quot;text-align: left;&quot;>Pair Unit &quot;Hello &quot;</pre></td><td><pre style=&quot;text-align: left;&quot;>pair unit string</pre></td></tr>\n",
       "<tr><td><pre style=&quot;text-align: left;&quot;>Unit</pre>              </td><td><pre style=&quot;text-align: left;&quot;>unit</pre>            </td></tr>\n",
       "</tbody>\n",
       "</table>"
      ],
      "text/plain": [
       "value               type\n",
       "------------------  ----------------\n",
       "Pair Unit \"Hello \"  pair unit string\n",
       "Unit                unit"
      ]
     },
     "execution_count": 32,
     "metadata": {},
     "output_type": "execute_result"
    }
   ],
   "source": [
    "SWAP ; DUMP ;"
   ]
  },
  {
   "cell_type": "markdown",
   "metadata": {},
   "source": [
    "In the second to last example, we introduced the **`CAR`** instruction which extract the left part of a pair.  \n",
    "\n",
    "To extract the right part of the element on top of the stack, you can use **`CDR`**. As for **`CAR`**, the left part of the pair will be removed from the stack and lost:"
   ]
  },
  {
   "cell_type": "code",
   "execution_count": 33,
   "metadata": {},
   "outputs": [
    {
     "data": {
      "text/html": [
       "<table>\n",
       "<thead>\n",
       "<tr><th>value                                        </th><th>type                                       </th></tr>\n",
       "</thead>\n",
       "<tbody>\n",
       "<tr><td><pre style=&quot;text-align: left;&quot;>&quot;Hello &quot;</pre></td><td><pre style=&quot;text-align: left;&quot;>string</pre></td></tr>\n",
       "<tr><td><pre style=&quot;text-align: left;&quot;>Unit</pre>    </td><td><pre style=&quot;text-align: left;&quot;>unit</pre>  </td></tr>\n",
       "</tbody>\n",
       "</table>"
      ],
      "text/plain": [
       "value     type\n",
       "--------  ------\n",
       "\"Hello \"  string\n",
       "Unit      unit"
      ]
     },
     "execution_count": 33,
     "metadata": {},
     "output_type": "execute_result"
    }
   ],
   "source": [
    "CDR ; DUMP ;"
   ]
  },
  {
   "cell_type": "markdown",
   "metadata": {},
   "source": [
    "You can now see above that the stack consists of the string _\"Hello \"_ and a unit.  \n",
    "\n",
    "Let's continue and add a string on top of the stack with the **`PUSH`** instruction:"
   ]
  },
  {
   "cell_type": "code",
   "execution_count": 34,
   "metadata": {},
   "outputs": [
    {
     "data": {
      "text/html": [
       "<table>\n",
       "<thead>\n",
       "<tr><th>value                                        </th><th>type                                       </th></tr>\n",
       "</thead>\n",
       "<tbody>\n",
       "<tr><td><pre style=&quot;text-align: left;&quot;>&quot;world&quot;</pre> </td><td><pre style=&quot;text-align: left;&quot;>string</pre></td></tr>\n",
       "<tr><td><pre style=&quot;text-align: left;&quot;>&quot;Hello &quot;</pre></td><td><pre style=&quot;text-align: left;&quot;>string</pre></td></tr>\n",
       "<tr><td><pre style=&quot;text-align: left;&quot;>Unit</pre>    </td><td><pre style=&quot;text-align: left;&quot;>unit</pre>  </td></tr>\n",
       "</tbody>\n",
       "</table>"
      ],
      "text/plain": [
       "value     type\n",
       "--------  ------\n",
       "\"world\"   string\n",
       "\"Hello \"  string\n",
       "Unit      unit"
      ]
     },
     "execution_count": 34,
     "metadata": {},
     "output_type": "execute_result"
    }
   ],
   "source": [
    "PUSH string \"world\" ; DUMP ;"
   ]
  },
  {
   "cell_type": "markdown",
   "metadata": {},
   "source": [
    "We should put the two strings on top of the stack in the right order so we can store _\"Hello world\"_. We use the **`SWAP`** instruction for that:"
   ]
  },
  {
   "cell_type": "code",
   "execution_count": 35,
   "metadata": {},
   "outputs": [
    {
     "data": {
      "text/html": [
       "<table>\n",
       "<thead>\n",
       "<tr><th>value                                        </th><th>type                                       </th></tr>\n",
       "</thead>\n",
       "<tbody>\n",
       "<tr><td><pre style=&quot;text-align: left;&quot;>&quot;Hello &quot;</pre></td><td><pre style=&quot;text-align: left;&quot;>string</pre></td></tr>\n",
       "<tr><td><pre style=&quot;text-align: left;&quot;>&quot;world&quot;</pre> </td><td><pre style=&quot;text-align: left;&quot;>string</pre></td></tr>\n",
       "<tr><td><pre style=&quot;text-align: left;&quot;>Unit</pre>    </td><td><pre style=&quot;text-align: left;&quot;>unit</pre>  </td></tr>\n",
       "</tbody>\n",
       "</table>"
      ],
      "text/plain": [
       "value     type\n",
       "--------  ------\n",
       "\"Hello \"  string\n",
       "\"world\"   string\n",
       "Unit      unit"
      ]
     },
     "execution_count": 35,
     "metadata": {},
     "output_type": "execute_result"
    }
   ],
   "source": [
    "SWAP ; DUMP ;"
   ]
  },
  {
   "cell_type": "markdown",
   "metadata": {},
   "source": [
    "Once in the right order, we want to put the two strings together to write \"Hello world\".  \n",
    "\n",
    "Michelson provides an instruction that just does that: **`CONCAT`**. It takes the two strings at the top of the stack, removes them, puts them together and adds a single string back.  \n",
    "\n",
    "As usual, you must be sure there are two values of type `string` on top of the stack. **`CONCAT`** will not work with integers, booleans, etc. and it will raise an error at compilation time:"
   ]
  },
  {
   "cell_type": "code",
   "execution_count": 36,
   "metadata": {},
   "outputs": [
    {
     "data": {
      "text/html": [
       "<table>\n",
       "<thead>\n",
       "<tr><th>value                                             </th><th>type                                       </th></tr>\n",
       "</thead>\n",
       "<tbody>\n",
       "<tr><td><pre style=&quot;text-align: left;&quot;>&quot;Hello world&quot;</pre></td><td><pre style=&quot;text-align: left;&quot;>string</pre></td></tr>\n",
       "<tr><td><pre style=&quot;text-align: left;&quot;>Unit</pre>         </td><td><pre style=&quot;text-align: left;&quot;>unit</pre>  </td></tr>\n",
       "</tbody>\n",
       "</table>"
      ],
      "text/plain": [
       "value          type\n",
       "-------------  ------\n",
       "\"Hello world\"  string\n",
       "Unit           unit"
      ]
     },
     "execution_count": 36,
     "metadata": {},
     "output_type": "execute_result"
    }
   ],
   "source": [
    "CONCAT ; DUMP ;"
   ]
  },
  {
   "cell_type": "markdown",
   "metadata": {},
   "source": [
    "The next line introduces two important instructions.  \n",
    "\n",
    "We now have two elements in the stack: a string at *index 0* and a unit at *index 1*. We only want to keep the string and we want to get rid of the unit. We could use **`SWAP`** to put the unit on the top of the stack and remove it, but let's keep things interesting and use another approach.  \n",
    "\n",
    "Michelson provides an instruction that will bypass the element at the indicated position and work on the element just below. This instruction is **`DIP n`** (*n* being the position of the element to bypass).  \n",
    "\n",
    "Regarding the positions you may use after **`DIP`**, there are two situations that require a special attention:  \n",
    "- **`DIP 0`**: This is equivalent to not using the instruction at all (there is no element at the zero position)!\n",
    "- **`DIP 1`**: This is equivalent to using **`DIP`** without an element position number, it will bypass the first element of the stack and work on the second one.  \n",
    "\n",
    "The **`DIP`** instruction is followed by a piece of code that will be executed on the element *below* the element that was bypassed. This piece of code is surrounded by curly braces.  \n",
    "\n",
    "After we bypassed the element in the first position, we want to remove the element at the second position (the *unit*). Michelson provides the **`DROP n`** instruction that just does that: it removes the element at the *n* position. As for **`DIP`**, there are two cases you want to keep in mind:\n",
    "- **`DROP 0`**: This will fail as you will try to remove an element that doesn't exist (there is nothing at the zero position of the stack).\n",
    "- **`DROP 1`**: This is equivalent to using **`DROP`** without an element position number, it will simply remove the element at the top of the stack.  \n",
    "\n",
    "To sum up, the next instruction, `DIP { DROP }`, will bypass the first element of the stack (`DIP`) and remove the following element (`DROP`)."
   ]
  },
  {
   "cell_type": "code",
   "execution_count": 37,
   "metadata": {},
   "outputs": [
    {
     "name": "stdout",
     "output_type": "stream",
     "text": [
      "DIP: protect 1 item(s);\n",
      "  DROP: pop Unit;\n",
      "  restore 1 item(s);"
     ]
    },
    {
     "data": {
      "text/html": [
       "<table>\n",
       "<thead>\n",
       "<tr><th>value                                             </th><th>type                                       </th></tr>\n",
       "</thead>\n",
       "<tbody>\n",
       "<tr><td><pre style=&quot;text-align: left;&quot;>&quot;Hello world&quot;</pre></td><td><pre style=&quot;text-align: left;&quot;>string</pre></td></tr>\n",
       "</tbody>\n",
       "</table>"
      ],
      "text/plain": [
       "value          type\n",
       "-------------  ------\n",
       "\"Hello world\"  string"
      ]
     },
     "execution_count": 37,
     "metadata": {},
     "output_type": "execute_result"
    }
   ],
   "source": [
    "DIP { DROP } ; DUMP ;"
   ]
  },
  {
   "cell_type": "markdown",
   "metadata": {},
   "source": [
    "Now there is a single string in our stack. It is time to wrap things up and return the final pair.  \n",
    "\n",
    "First, we create an empty list of operations with **`NIL operation`**:"
   ]
  },
  {
   "cell_type": "code",
   "execution_count": 38,
   "metadata": {},
   "outputs": [
    {
     "data": {
      "text/html": [
       "<table>\n",
       "<thead>\n",
       "<tr><th>value                                             </th><th>type                                               </th></tr>\n",
       "</thead>\n",
       "<tbody>\n",
       "<tr><td><pre style=&quot;text-align: left;&quot;>[]</pre>           </td><td><pre style=&quot;text-align: left;&quot;>list operation</pre></td></tr>\n",
       "<tr><td><pre style=&quot;text-align: left;&quot;>&quot;Hello world&quot;</pre></td><td><pre style=&quot;text-align: left;&quot;>string</pre>        </td></tr>\n",
       "</tbody>\n",
       "</table>"
      ],
      "text/plain": [
       "value          type\n",
       "-------------  --------------\n",
       "[]             list operation\n",
       "\"Hello world\"  string"
      ]
     },
     "execution_count": 38,
     "metadata": {},
     "output_type": "execute_result"
    }
   ],
   "source": [
    "NIL operation ; DUMP ;"
   ]
  },
  {
   "cell_type": "markdown",
   "metadata": {},
   "source": [
    "Then, we put the two elements of the stack in a pair:"
   ]
  },
  {
   "cell_type": "code",
   "execution_count": 39,
   "metadata": {},
   "outputs": [
    {
     "data": {
      "text/html": [
       "<table>\n",
       "<thead>\n",
       "<tr><th>value                                                     </th><th>type                                                             </th></tr>\n",
       "</thead>\n",
       "<tbody>\n",
       "<tr><td><pre style=&quot;text-align: left;&quot;>Pair {} &quot;Hello world&quot;</pre></td><td><pre style=&quot;text-align: left;&quot;>pair (list operation) string</pre></td></tr>\n",
       "</tbody>\n",
       "</table>"
      ],
      "text/plain": [
       "value                  type\n",
       "---------------------  ----------------------------\n",
       "Pair {} \"Hello world\"  pair (list operation) string"
      ]
     },
     "execution_count": 39,
     "metadata": {},
     "output_type": "execute_result"
    }
   ],
   "source": [
    "PAIR ;"
   ]
  },
  {
   "cell_type": "markdown",
   "metadata": {},
   "source": [
    "Finally, we use the **`COMMIT`** instruction provided by this Jupyter notebook to return the pair containing the empty list of operations and the new storage:"
   ]
  },
  {
   "cell_type": "code",
   "execution_count": 40,
   "metadata": {},
   "outputs": [
    {
     "data": {
      "text/html": [
       "<table>\n",
       "<thead>\n",
       "<tr><th>value                                             </th><th>type                                       </th></tr>\n",
       "</thead>\n",
       "<tbody>\n",
       "<tr><td><pre style=&quot;text-align: left;&quot;>&quot;Hello world&quot;</pre></td><td><pre style=&quot;text-align: left;&quot;>string</pre></td></tr>\n",
       "</tbody>\n",
       "</table>"
      ],
      "text/plain": [
       "value          type\n",
       "-------------  ------\n",
       "\"Hello world\"  string"
      ]
     },
     "execution_count": 40,
     "metadata": {},
     "output_type": "execute_result"
    }
   ],
   "source": [
    "COMMIT ;"
   ]
  },
  {
   "cell_type": "markdown",
   "metadata": {},
   "source": [
    "## Exercises:"
   ]
  },
  {
   "cell_type": "markdown",
   "metadata": {},
   "source": [
    "1. Write a smart contract that puts two new strings in the stack and concatenates them."
   ]
  },
  {
   "cell_type": "code",
   "execution_count": null,
   "metadata": {},
   "outputs": [],
   "source": [
    "## Your code here"
   ]
  },
  {
   "cell_type": "markdown",
   "metadata": {},
   "source": [
    "<details>\n",
    "    <summary>Solution</summary>\n",
    "    <p>Copy-paste the solution in the cell above to compile it!</p>\n",
    "    <br />\n",
    "    <pre>\n",
    "        storage string ;\n",
    "        parameter unit ;\n",
    "        code {\n",
    "            DROP ;\n",
    "            PUSH string \"world!\" ;\n",
    "            PUSH string \"Hello \" ;\n",
    "            CONCAT ;\n",
    "            NIL operation ;\n",
    "            PAIR\n",
    "        };\n",
    "        RUN %default Unit \"nothing\" ;\n",
    "    </pre>\n",
    "</details>"
   ]
  },
  {
   "cell_type": "markdown",
   "metadata": {},
   "source": [
    "2. Using the **`ADD`** instruction to add two integers together (like **`CONCAT`** concatenates two strings), write a smart contract with an integer in the storage and an integer in the parameter that adds these two values before storing the result in the storage."
   ]
  },
  {
   "cell_type": "code",
   "execution_count": null,
   "metadata": {},
   "outputs": [],
   "source": [
    "## Your code here"
   ]
  },
  {
   "cell_type": "markdown",
   "metadata": {},
   "source": [
    "<details>\n",
    "    <summary>Solution</summary>\n",
    "    <p>Copy-paste the solution in the cell above to compile it!</p>\n",
    "    <br />\n",
    "    <pre>\n",
    "        storage int ;\n",
    "        parameter int ;\n",
    "        code {\n",
    "            DUP ;\n",
    "            CDR ;\n",
    "            SWAP ;\n",
    "            CAR ;\n",
    "            ADD ;\n",
    "            NIL operation ;\n",
    "            PAIR\n",
    "        };\n",
    "        RUN %default 3 4 ;\n",
    "    </pre>\n",
    "</details>"
   ]
  }
 ],
 "metadata": {
  "kernelspec": {
   "display_name": "Michelson",
   "language": "michelson",
   "name": "michelson"
  },
  "language_info": {
   "codemirror_mode": "michelson",
   "file_extension": ".tz",
   "mimetype": "text/x-michelson",
   "name": "Michelson"
  }
 },
 "nbformat": 4,
 "nbformat_minor": 4
}

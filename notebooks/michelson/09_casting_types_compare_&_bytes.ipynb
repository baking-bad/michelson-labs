{
 "cells": [
  {
   "cell_type": "markdown",
   "metadata": {},
   "source": [
    "# Chapter 9\n",
    "\n",
    "Let's take a little break after a long chapter about pairs and before another long chapter about 3 essential types of Michelson: maps, big maps and sets.\n",
    "\n",
    "In this chapter, we will learn more about less common operations that you can accomplish in a Michelson smart contract. First of all, we will check how to convert types between each other, which is called \"casting\". Then, we will have a look at the different possibilities to compare values and we will finish with a talk about bytes and their use cases.\n",
    "\n",
    "## Casting types\n",
    "\n",
    "One particularly pesky headache of using a strongly typed language is the conversion of values from one type to another. Obviously, some conversions are forbidden or impossible, it wouldn't make any sense to convert an integer to a list. However, some conversions may seem practical: after all, a value that's an integer, a natural number or a mutez is a numeric value and in some situations, it could be more convenient to change its type. \n",
    "\n",
    "Imagine a contract with a storage that's a value of type `nat`, you receive 2 ints, you add them, get a new `int` and want to save it in the storage. But you can't, because the storage needs a `nat` value. Or vice-versa, the storage is an `int` value, you add 2 nats together and want to get an `int` back. In this situations, Michelson offers two instructions: **`ABS`** will return the absolute value of a number (i.e a `nat` value) and **`INT`** will change a `nat` value into an `int`."
   ]
  },
  {
   "cell_type": "code",
   "execution_count": 2,
   "metadata": {},
   "outputs": [
    {
     "name": "stdout",
     "output_type": "stream",
     "text": [
      "storage int;\n",
      "parameter nat;\n",
      "code { CAR ; INT ; NIL operation ; PAIR };\n",
      "RUN: use %default; drop all; push (9, 8);\n",
      "CAR: pop (9, 8); push 9;\n",
      "INT: pop 9; push 9;\n",
      "NIL: push [];\n",
      "PAIR: pop [], 9; push ([], 9);"
     ]
    },
    {
     "data": {
      "text/html": [
       "<table>\n",
       "<thead>\n",
       "<tr><th>value                                 </th><th>type                                    </th></tr>\n",
       "</thead>\n",
       "<tbody>\n",
       "<tr><td><pre style=&quot;text-align: left;&quot;>9</pre></td><td><pre style=&quot;text-align: left;&quot;>int</pre></td></tr>\n",
       "</tbody>\n",
       "</table>"
      ],
      "text/plain": [
       "  value  type\n",
       "-------  ------\n",
       "      9  int"
      ]
     },
     "execution_count": 2,
     "metadata": {},
     "output_type": "execute_result"
    }
   ],
   "source": [
    "storage int ;\n",
    "parameter nat ;\n",
    "code {\n",
    "    CAR ;\n",
    "    INT ;\n",
    "    NIL operation ;\n",
    "    PAIR\n",
    "} ;\n",
    "\n",
    "RUN %default 9 8 ;"
   ]
  },
  {
   "cell_type": "code",
   "execution_count": 3,
   "metadata": {},
   "outputs": [
    {
     "name": "stdout",
     "output_type": "stream",
     "text": [
      "storage nat;\n",
      "parameter int;\n",
      "code { CAR ; ABS ; NIL operation ; PAIR };\n",
      "RUN: use %default; drop all; push (9, 8);\n",
      "CAR: pop (9, 8); push 9;\n",
      "ABS: pop 9; push 9;\n",
      "NIL: push [];\n",
      "PAIR: pop [], 9; push ([], 9);"
     ]
    },
    {
     "data": {
      "text/html": [
       "<table>\n",
       "<thead>\n",
       "<tr><th>value                                 </th><th>type                                    </th></tr>\n",
       "</thead>\n",
       "<tbody>\n",
       "<tr><td><pre style=&quot;text-align: left;&quot;>9</pre></td><td><pre style=&quot;text-align: left;&quot;>nat</pre></td></tr>\n",
       "</tbody>\n",
       "</table>"
      ],
      "text/plain": [
       "  value  type\n",
       "-------  ------\n",
       "      9  nat"
      ]
     },
     "execution_count": 3,
     "metadata": {},
     "output_type": "execute_result"
    }
   ],
   "source": [
    "storage nat ;\n",
    "parameter int ;\n",
    "code {\n",
    "    CAR ;\n",
    "    ABS ;\n",
    "    NIL operation ;\n",
    "    PAIR\n",
    "} ;\n",
    "\n",
    "RUN %default 9 8 ;"
   ]
  },
  {
   "cell_type": "markdown",
   "metadata": {},
   "source": [
    "You may also want to check if the `int` value you have in the stack is above zero before turning it into a `nat` value (because **`ABS`** will remove the negative sign of any integer). If it's the case, you can use **`ISNAT`**. If the `int` value is equal or greater than zero, the instruction returns `(option nat) (Some value)`. If the `int` value is less than zero, the instruction returns `(option nat) (None)`:"
   ]
  },
  {
   "cell_type": "code",
   "execution_count": 6,
   "metadata": {},
   "outputs": [
    {
     "name": "stdout",
     "output_type": "stream",
     "text": [
      "storage nat;\n",
      "parameter int;\n",
      "code { CAR ; ISNAT ; { IF_NONE { { UNIT ; FAILWITH } } { NIL operation ; PAIR } } };\n",
      "RUN: use %default; drop all; push (9, 8);\n",
      "CAR: pop (9, 8); push 9;\n",
      "ISNAT: pop 9; push (9,);\n",
      "IF_NONE: pop (9,); push 9;\n",
      "NIL: push [];\n",
      "PAIR: pop [], 9; push ([], 9);"
     ]
    },
    {
     "data": {
      "text/html": [
       "<table>\n",
       "<thead>\n",
       "<tr><th>value                                 </th><th>type                                    </th></tr>\n",
       "</thead>\n",
       "<tbody>\n",
       "<tr><td><pre style=&quot;text-align: left;&quot;>9</pre></td><td><pre style=&quot;text-align: left;&quot;>nat</pre></td></tr>\n",
       "</tbody>\n",
       "</table>"
      ],
      "text/plain": [
       "  value  type\n",
       "-------  ------\n",
       "      9  nat"
      ]
     },
     "execution_count": 6,
     "metadata": {},
     "output_type": "execute_result"
    }
   ],
   "source": [
    "parameter int ;\n",
    "storage nat ;\n",
    "code {\n",
    "    CAR ;\n",
    "    ISNAT ;\n",
    "    IF_SOME\n",
    "        {\n",
    "            NIL operation ;\n",
    "            PAIR\n",
    "        }\n",
    "        { FAIL }\n",
    "} ;\n",
    "\n",
    "RUN %default 9 8 ;"
   ]
  },
  {
   "cell_type": "markdown",
   "metadata": {},
   "source": [
    "Now if you change `9` for `-9`, you will see the contract fail as the negative integer triggers the **`FAIL`** instruction.\n",
    "\n",
    "You can also use \"hacks\" to cast some values. One of the most frequently encountered is a hack based on the subtraction. Let's say you need to cast a `timestamp` into an `int`. There is no instruction for that. However, if you subtract a `timestamp` from another `timestamp`, you get an `int`. You can then create a `timestamp` equal to zero and subtract it from the `timestamp` you want to cast into an `int`:"
   ]
  },
  {
   "cell_type": "code",
   "execution_count": 30,
   "metadata": {},
   "outputs": [
    {
     "name": "stdout",
     "output_type": "stream",
     "text": [
      "storage int;\n",
      "parameter unit;\n",
      "code { DROP ; PUSH timestamp 0 ; NOW ; SUB ; NIL operation ; PAIR };\n",
      "RUN: use %default; drop all; push (Unit, 0);\n",
      "DROP: pop (Unit, 0);\n",
      "PUSH: push 0;\n",
      "NOW: push 1594026174;\n",
      "SUB: pop 1594026174, 0; push 1594026174;\n",
      "NIL: push [];\n",
      "PAIR: pop [], 1594026174; push ([], 1594026174);"
     ]
    },
    {
     "data": {
      "text/html": [
       "<table>\n",
       "<thead>\n",
       "<tr><th>value                                          </th><th>type                                    </th></tr>\n",
       "</thead>\n",
       "<tbody>\n",
       "<tr><td><pre style=&quot;text-align: left;&quot;>1594026174</pre></td><td><pre style=&quot;text-align: left;&quot;>int</pre></td></tr>\n",
       "</tbody>\n",
       "</table>"
      ],
      "text/plain": [
       "     value  type\n",
       "----------  ------\n",
       "1594026174  int"
      ]
     },
     "execution_count": 30,
     "metadata": {},
     "output_type": "execute_result"
    }
   ],
   "source": [
    "parameter unit ;\n",
    "storage int ;\n",
    "code {\n",
    "    DROP ;\n",
    "    PUSH timestamp 0 ;\n",
    "    NOW ;\n",
    "    SUB ;\n",
    "    NIL operation ;\n",
    "    PAIR ;\n",
    "} ;\n",
    "\n",
    "RUN %default Unit 0 ;"
   ]
  },
  {
   "cell_type": "markdown",
   "metadata": {},
   "source": [
    "Now you have an `int` whose value is the same as the provided `timestamp`!\n",
    "\n",
    "With a little bit of imagination, it is also possible to cast other values, for example a `mutez` into a `nat`! This time, we can use **`EDIV`** to turn a `mutez` value into a `nat` value. When you divide two `mutez` values together, you get an optional value with a pair that contains a `nat` (the result) in the left field. When you divide a value by `1`, the result will be the same value, so if you divide `mutez 22` by `mutez 1`, the result will be `nat 22` as illustrated below:"
   ]
  },
  {
   "cell_type": "code",
   "execution_count": 32,
   "metadata": {},
   "outputs": [
    {
     "name": "stdout",
     "output_type": "stream",
     "text": [
      "storage nat;\n",
      "parameter unit;\n",
      "code { DROP ; PUSH mutez 1 ; PUSH mutez 5566778899 ; EDIV ; { IF_NONE { { UNIT ; FAILWITH } } { CAR ; NIL operation ; PAIR } } };\n",
      "RUN: use %default; drop all; push (Unit, 0);\n",
      "DROP: pop (Unit, 0);\n",
      "PUSH: push 1;\n",
      "PUSH: push 5566778899;\n",
      "EDIV: pop 5566778899, 1; push ((5566778899, 0),);\n",
      "IF_NONE: pop ((5566778899, 0),); push (5566778899, 0);\n",
      "CAR: pop (5566778899, 0); push 5566778899;\n",
      "NIL: push [];\n",
      "PAIR: pop [], 5566778899; push ([], 5566778899);"
     ]
    },
    {
     "data": {
      "text/html": [
       "<table>\n",
       "<thead>\n",
       "<tr><th>value                                          </th><th>type                                    </th></tr>\n",
       "</thead>\n",
       "<tbody>\n",
       "<tr><td><pre style=&quot;text-align: left;&quot;>5566778899</pre></td><td><pre style=&quot;text-align: left;&quot;>nat</pre></td></tr>\n",
       "</tbody>\n",
       "</table>"
      ],
      "text/plain": [
       "     value  type\n",
       "----------  ------\n",
       "5566778899  nat"
      ]
     },
     "execution_count": 32,
     "metadata": {},
     "output_type": "execute_result"
    }
   ],
   "source": [
    "parameter unit ;\n",
    "storage nat ;\n",
    "code {\n",
    "    DROP ;\n",
    "    PUSH mutez 1 ;\n",
    "    PUSH mutez 5566778899 ;\n",
    "    EDIV ;\n",
    "    IF_SOME \n",
    "        {\n",
    "            CAR ;\n",
    "            NIL operation ;\n",
    "            PAIR ;\n",
    "        }\n",
    "        { FAIL }\n",
    "} ;\n",
    "\n",
    "RUN %default Unit 0 ;"
   ]
  },
  {
   "cell_type": "markdown",
   "metadata": {},
   "source": [
    "Finally, it is also possible to cast a contract to its address and an adress to a contract. Observe the following example:"
   ]
  },
  {
   "cell_type": "code",
   "execution_count": 34,
   "metadata": {},
   "outputs": [
    {
     "name": "stdout",
     "output_type": "stream",
     "text": [
      "storage address;\n",
      "parameter (contract unit);\n",
      "code { CAR ; ADDRESS ; NIL operation ; PAIR };\n",
      "RUN: use %default; drop all; push ('tz1VSUr8wwNhLAzempoch5d6hLRiTh8Cjcjb', '0');\n",
      "CAR: pop ('tz1VSUr8wwNhLAzempoch5d6hLRiTh8Cjcjb', '0'); push tz1VSUr8wwNhLAzempoch5d6hLRiTh8Cjcjb;\n",
      "ADDRESS: pop tz1VSUr8wwNhLAzempoch5d6hLRiTh8Cjcjb; push tz1VSUr8wwNhLAzempoch5d6hLRiTh8Cjcjb;\n",
      "NIL: push [];\n",
      "PAIR: pop [], tz1VSUr8wwNhLAzempoch5d6hLRiTh8Cjcjb; push ([], 'tz1VSUr8wwNhLAzempoch5d6hLRiTh8Cjcjb');"
     ]
    },
    {
     "data": {
      "text/html": [
       "<table>\n",
       "<thead>\n",
       "<tr><th>value                                                                      </th><th>type                                        </th></tr>\n",
       "</thead>\n",
       "<tbody>\n",
       "<tr><td><pre style=&quot;text-align: left;&quot;>&quot;tz1VSUr8wwNhLAzempoch5d6hLRiTh8Cjcjb&quot;</pre></td><td><pre style=&quot;text-align: left;&quot;>address</pre></td></tr>\n",
       "</tbody>\n",
       "</table>"
      ],
      "text/plain": [
       "value                                   type\n",
       "--------------------------------------  -------\n",
       "\"tz1VSUr8wwNhLAzempoch5d6hLRiTh8Cjcjb\"  address"
      ]
     },
     "execution_count": 34,
     "metadata": {},
     "output_type": "execute_result"
    }
   ],
   "source": [
    "parameter (contract unit) ;\n",
    "storage address ;\n",
    "code {\n",
    "    CAR ;\n",
    "    ADDRESS ;\n",
    "    NIL operation ;\n",
    "    PAIR\n",
    "} ;\n",
    "\n",
    "RUN %default \"tz1VSUr8wwNhLAzempoch5d6hLRiTh8Cjcjb\" \"0\" ;"
   ]
  },
  {
   "cell_type": "markdown",
   "metadata": {},
   "source": [
    "In this example, we turn a `(contract unit)` type into an address. It is also possible to do the opposite:"
   ]
  },
  {
   "cell_type": "code",
   "execution_count": 36,
   "metadata": {},
   "outputs": [
    {
     "name": "stdout",
     "output_type": "stream",
     "text": [
      "storage (contract unit);\n",
      "parameter address;\n",
      "code { CAR ; CONTRACT unit ; { IF_NONE { { UNIT ; FAILWITH } } { NIL operation ; PAIR } } };\n",
      "RUN: use %default; drop all; push ('tz1VSUr8wwNhLAzempoch5d6hLRiTh8Cjcjb', '0');\n",
      "CAR: pop ('tz1VSUr8wwNhLAzempoch5d6hLRiTh8Cjcjb', '0'); push tz1VSUr8wwNhLAzempoch5d6hLRiTh8Cjcjb;\n",
      "CONTRACT: pop tz1VSUr8wwNhLAzempoch5d6hLRiTh8Cjcjb; skip check; push ('tz1VSUr8wwNhLAzempoch5d6hLRiTh8Cjcjb%default',);\n",
      "IF_NONE: pop ('tz1VSUr8wwNhLAzempoch5d6hLRiTh8Cjcjb%default',); push tz1VSUr8wwNhLAzempoch5d6hLRiTh8Cjcjb%default;\n",
      "NIL: push [];\n",
      "PAIR: pop [], tz1VSUr8wwNhLAzempoch5d6hLRiTh8Cjcjb%default; push ([], 'tz1VSUr8wwNhLAzempoch5d6hLRiTh8Cjcjb%default');"
     ]
    },
    {
     "data": {
      "text/html": [
       "<table>\n",
       "<thead>\n",
       "<tr><th>value                                                                              </th><th>type                                              </th></tr>\n",
       "</thead>\n",
       "<tbody>\n",
       "<tr><td><pre style=&quot;text-align: left;&quot;>&quot;tz1VSUr8wwNhLAzempoch5d6hLRiTh8Cjcjb%default&quot;</pre></td><td><pre style=&quot;text-align: left;&quot;>contract unit</pre></td></tr>\n",
       "</tbody>\n",
       "</table>"
      ],
      "text/plain": [
       "value                                           type\n",
       "----------------------------------------------  -------------\n",
       "\"tz1VSUr8wwNhLAzempoch5d6hLRiTh8Cjcjb%default\"  contract unit"
      ]
     },
     "execution_count": 36,
     "metadata": {},
     "output_type": "execute_result"
    }
   ],
   "source": [
    "storage (contract unit) ;\n",
    "parameter address ;\n",
    "code {\n",
    "    CAR ;\n",
    "    CONTRACT unit ;\n",
    "    IF_SOME\n",
    "        {\n",
    "            NIL operation ;\n",
    "            PAIR\n",
    "        }\n",
    "        { FAIL }\n",
    "} ;\n",
    "\n",
    "RUN %default \"tz1VSUr8wwNhLAzempoch5d6hLRiTh8Cjcjb\" \"0\" ;"
   ]
  },
  {
   "cell_type": "markdown",
   "metadata": {},
   "source": [
    "If you remember from the Chapter 5, this step of turning an address into a contract address of type `(contract unit)` is also a necessary step of transferring tokens.\n",
    "\n",
    "## Working with bytes\n",
    "\n",
    "Although a rather uncommon type, Michelson allows us to manipulate bytes. All the instructions available for strings are also available for bytes (namely **`COMPARE`**, **`CONCAT`**, **`SIZE`** and **`SLICE`**) + two extra instructions to pack (value -> bytes) and unpack (bytes -> value) bytes. Most of the times you will have to use bytes is when you will use cryptographic instructions, let's check an example:"
   ]
  },
  {
   "cell_type": "code",
   "execution_count": 47,
   "metadata": {},
   "outputs": [
    {
     "name": "stdout",
     "output_type": "stream",
     "text": [
      "storage bytes;\n",
      "parameter nat;\n",
      "code { CAR ; PACK ; SHA256 ; NIL operation ; PAIR };\n",
      "RUN: use %default; drop all; push (12345, b'');\n",
      "CAR: pop (12345, b''); push 12345;\n",
      "PACK: pop 12345; push 0500b9c001;\n",
      "SHA256: pop 0500b9c001; push cea356435ff4eee1981f2e2ddc81bee203b3af767c48f97fd84b64fa767d2285;\n",
      "NIL: push [];\n",
      "PAIR: pop [], cea356435ff4eee1981f2e2ddc81bee203b3af767c48f97fd84b64fa767d2285; push ([], b'\\xce\\xa3VC_\\xf4\\xee\\xe1\\x98\\x1f.-\\xdc\\x81\\xbe\\xe2\\x03\\xb3\\xafv|H\\xf9\\x7f\\xd8Kd\\xfav}\"\\x85');"
     ]
    },
    {
     "data": {
      "text/html": [
       "<table>\n",
       "<thead>\n",
       "<tr><th>value                                                                                                  </th><th>type                                      </th></tr>\n",
       "</thead>\n",
       "<tbody>\n",
       "<tr><td><pre style=&quot;text-align: left;&quot;>0xcea356435ff4eee1981f2e2ddc81bee203b3af767c48f97fd84b64fa767d2285</pre></td><td><pre style=&quot;text-align: left;&quot;>bytes</pre></td></tr>\n",
       "</tbody>\n",
       "</table>"
      ],
      "text/plain": [
       "value                                                               type\n",
       "------------------------------------------------------------------  ------\n",
       "0xcea356435ff4eee1981f2e2ddc81bee203b3af767c48f97fd84b64fa767d2285  bytes"
      ]
     },
     "execution_count": 47,
     "metadata": {},
     "output_type": "execute_result"
    }
   ],
   "source": [
    "storage bytes ;\n",
    "parameter nat ;\n",
    "code {\n",
    "    CAR ;\n",
    "    PACK ;\n",
    "    SHA256 ;\n",
    "    NIL operation ;\n",
    "    PAIR ;\n",
    "} ;\n",
    "\n",
    "RUN %default 12345 0x ;"
   ]
  },
  {
   "cell_type": "markdown",
   "metadata": {},
   "source": [
    "This simple contract takes a value of type `nat`, converts it to `bytes` with the **`PACK`** instruction, gets its SHA256 hash and saves it in the storage. We can use the result of the **`PACK`** instruction to write a contract that does the inverse:"
   ]
  },
  {
   "cell_type": "code",
   "execution_count": 50,
   "metadata": {},
   "outputs": [
    {
     "name": "stdout",
     "output_type": "stream",
     "text": [
      "storage nat;\n",
      "parameter bytes;\n",
      "code { CAR ; UNPACK nat ; { IF_NONE { { UNIT ; FAILWITH } } { NIL operation ; PAIR } } };\n",
      "RUN: use %default; drop all; push (b'\\x05\\x00\\xb9\\xc0\\x01', 0);\n",
      "CAR: pop (b'\\x05\\x00\\xb9\\xc0\\x01', 0); push 0500b9c001;\n",
      "UNPACK: pop 0500b9c001; push (12345,);\n",
      "IF_NONE: pop (12345,); push 12345;\n",
      "NIL: push [];\n",
      "PAIR: pop [], 12345; push ([], 12345);"
     ]
    },
    {
     "data": {
      "text/html": [
       "<table>\n",
       "<thead>\n",
       "<tr><th>value                                     </th><th>type                                    </th></tr>\n",
       "</thead>\n",
       "<tbody>\n",
       "<tr><td><pre style=&quot;text-align: left;&quot;>12345</pre></td><td><pre style=&quot;text-align: left;&quot;>nat</pre></td></tr>\n",
       "</tbody>\n",
       "</table>"
      ],
      "text/plain": [
       "  value  type\n",
       "-------  ------\n",
       "  12345  nat"
      ]
     },
     "execution_count": 50,
     "metadata": {},
     "output_type": "execute_result"
    }
   ],
   "source": [
    "storage nat ;\n",
    "parameter bytes ;\n",
    "code {\n",
    "    CAR ;\n",
    "    UNPACK nat ;\n",
    "    IF_SOME\n",
    "        { NIL operation ; PAIR ; }\n",
    "        { FAIL }\n",
    "} ;\n",
    "\n",
    "RUN %default 0x0500b9c001 0 ;"
   ]
  },
  {
   "cell_type": "markdown",
   "metadata": {},
   "source": [
    "At the end of this contract, we get back our `nat` value of `12345` :)\n",
    "\n",
    "Now, let's try to use another operation on bytes:"
   ]
  },
  {
   "cell_type": "code",
   "execution_count": 58,
   "metadata": {},
   "outputs": [
    {
     "name": "stdout",
     "output_type": "stream",
     "text": [
      "storage int;\n",
      "parameter (pair nat nat);\n",
      "code { CAR ; { DUP ; CAR ; DIP { CDR } } ; PACK ; SWAP ; PACK ; COMPARE ; NIL operation ; PAIR };\n",
      "RUN: use %default; drop all; push ((44, 33), 0);\n",
      "CAR: pop ((44, 33), 0); push (44, 33);\n",
      "DUP: push (44, 33);\n",
      "CAR: pop (44, 33); push 44;\n",
      "DIP: protect 1 item(s);\n",
      "CDR: pop (44, 33); push 33;\n",
      "restore 1 item(s);\n",
      "PACK: pop 44; push 05002c;\n",
      "SWAP: pop 05002c, 33; push 05002c; push 33;\n",
      "PACK: pop 33; push 050021;\n",
      "COMPARE: pop 050021, 05002c; push -1;\n",
      "NIL: push [];\n",
      "PAIR: pop [], -1; push ([], -1);"
     ]
    },
    {
     "data": {
      "text/html": [
       "<table>\n",
       "<thead>\n",
       "<tr><th>value                                  </th><th>type                                    </th></tr>\n",
       "</thead>\n",
       "<tbody>\n",
       "<tr><td><pre style=&quot;text-align: left;&quot;>-1</pre></td><td><pre style=&quot;text-align: left;&quot;>int</pre></td></tr>\n",
       "</tbody>\n",
       "</table>"
      ],
      "text/plain": [
       "  value  type\n",
       "-------  ------\n",
       "     -1  int"
      ]
     },
     "execution_count": 58,
     "metadata": {},
     "output_type": "execute_result"
    }
   ],
   "source": [
    "parameter (pair nat nat) ;\n",
    "storage int ;\n",
    "code {\n",
    "    CAR ;\n",
    "    UNPAIR ;\n",
    "    PACK ;\n",
    "    SWAP ;\n",
    "    PACK ;\n",
    "    COMPARE ;\n",
    "    NIL operation ;\n",
    "    PAIR ;\n",
    "} ;\n",
    "\n",
    "RUN %default (Pair 44 33) 0 ;"
   ]
  },
  {
   "cell_type": "markdown",
   "metadata": {},
   "source": [
    "It is also possible to compare two `byte` values with the **`COMPARE`** instruction. Just like when you compare two comparable values, the instruction returns `-1` is the first one is less than the second one, `0` if they are both equal and `1` if the first one is greater than the second one. Try to change the values in the pair passed in the parameter to see it working.\n",
    "\n",
    "We can also extend our previous example and compare the sizes of the bytes:"
   ]
  },
  {
   "cell_type": "code",
   "execution_count": 59,
   "metadata": {},
   "outputs": [
    {
     "name": "stdout",
     "output_type": "stream",
     "text": [
      "storage int;\n",
      "parameter (pair nat nat);\n",
      "code { CAR ; { DUP ; CAR ; DIP { CDR } } ; PACK ; SIZE ; SWAP ; PACK ; SIZE ; COMPARE ; NIL operation ; PAIR };\n",
      "RUN: use %default; drop all; push ((44, 33), 0);\n",
      "CAR: pop ((44, 33), 0); push (44, 33);\n",
      "DUP: push (44, 33);\n",
      "CAR: pop (44, 33); push 44;\n",
      "DIP: protect 1 item(s);\n",
      "CDR: pop (44, 33); push 33;\n",
      "restore 1 item(s);\n",
      "PACK: pop 44; push 05002c;\n",
      "SIZE: pop 05002c; push 3;\n",
      "SWAP: pop 3, 33; push 3; push 33;\n",
      "PACK: pop 33; push 050021;\n",
      "SIZE: pop 050021; push 3;\n",
      "COMPARE: pop 3, 3; push 0;\n",
      "NIL: push [];\n",
      "PAIR: pop [], 0; push ([], 0);"
     ]
    },
    {
     "data": {
      "text/html": [
       "<table>\n",
       "<thead>\n",
       "<tr><th>value                                 </th><th>type                                    </th></tr>\n",
       "</thead>\n",
       "<tbody>\n",
       "<tr><td><pre style=&quot;text-align: left;&quot;>0</pre></td><td><pre style=&quot;text-align: left;&quot;>int</pre></td></tr>\n",
       "</tbody>\n",
       "</table>"
      ],
      "text/plain": [
       "  value  type\n",
       "-------  ------\n",
       "      0  int"
      ]
     },
     "execution_count": 59,
     "metadata": {},
     "output_type": "execute_result"
    }
   ],
   "source": [
    "parameter (pair nat nat) ;\n",
    "storage int ;\n",
    "code {\n",
    "    CAR ;\n",
    "    UNPAIR ;\n",
    "    PACK ;\n",
    "    SIZE ;\n",
    "    SWAP ;\n",
    "    PACK ;\n",
    "    SIZE ;\n",
    "    COMPARE ;\n",
    "    NIL operation ;\n",
    "    PAIR ;\n",
    "} ;\n",
    "\n",
    "RUN %default (Pair 44 33) 0 ;"
   ]
  },
  {
   "cell_type": "markdown",
   "metadata": {},
   "source": [
    "As you can see from the `0` returned by the **`COMPARE`** instruction, the two bytes we created have the same size.\n",
    "\n",
    "> Note: not all types can be packed, if you want to know which ones are and are not, you can read the [Michelson reference from Nomadic Labs](https://michelson.nomadic-labs.com/#types) and check in the `PA` column."
   ]
  },
  {
   "cell_type": "markdown",
   "metadata": {},
   "source": [
    "## Exercises\n",
    "\n",
    "1. Write a contract that casts a value of type `int` to nat and a value of type `mutez` to nat before adding the two values together and saving them in the storage."
   ]
  },
  {
   "cell_type": "code",
   "execution_count": null,
   "metadata": {},
   "outputs": [],
   "source": [
    "## Write your code here"
   ]
  },
  {
   "cell_type": "markdown",
   "metadata": {},
   "source": [
    "<details>\n",
    "    <summary>Solution</summary>\n",
    "    <p>Copy-paste the solution in the cell above to compile it!</p>\n",
    "    <br />\n",
    "    <pre>\n",
    "parameter unit ;\n",
    "storage nat ;\n",
    "code {\n",
    "    DROP ;\n",
    "    PUSH int 5 ;\n",
    "    ABS ;\n",
    "    PUSH mutez 1 ;\n",
    "    PUSH mutez 6 ;\n",
    "    EDIV ;\n",
    "    IF_SOME \n",
    "        {\n",
    "            CAR ;\n",
    "            ADD ;\n",
    "            NIL operation ;\n",
    "            PAIR ;\n",
    "        }\n",
    "        { FAIL }\n",
    "} ;\n",
    "\n",
    "RUN %default Unit 0 ;\n",
    "    </pre>\n",
    "</details>"
   ]
  },
  {
   "cell_type": "markdown",
   "metadata": {},
   "source": [
    "2. Pass the strings \"Baking\" and \"Bad\" in a pair as parameter, concatenate them as strings and pack the string before saving a pair in the storage made of the bytes on the left and the string on the right."
   ]
  },
  {
   "cell_type": "code",
   "execution_count": null,
   "metadata": {},
   "outputs": [],
   "source": [
    "## Write your code here"
   ]
  },
  {
   "cell_type": "markdown",
   "metadata": {},
   "source": [
    "<details>\n",
    "    <summary>Solution</summary>\n",
    "    <p>Copy-paste the solution in the cell above to compile it!</p>\n",
    "    <br />\n",
    "    <pre>\n",
    "parameter (pair string string) ;\n",
    "storage (pair bytes string) ;\n",
    "code {\n",
    "    CAR ;\n",
    "    DUP ;\n",
    "    UNPAIR ;\n",
    "    CONCAT ;\n",
    "    PACK ;\n",
    "    SWAP ;\n",
    "    UNPAIR ;\n",
    "    CONCAT ;\n",
    "    SWAP ;\n",
    "    PAIR ;\n",
    "    NIL operation ;\n",
    "    PAIR\n",
    "} ;\n",
    "\n",
    "RUN %default (Pair \"Backing\" \"Bad\") (Pair 0x \"\") ;\n",
    "    </pre>\n",
    "</details>"
   ]
  }
 ],
 "metadata": {
  "kernelspec": {
   "display_name": "Michelson",
   "language": "michelson",
   "name": "michelson"
  },
  "language_info": {
   "codemirror_mode": "michelson",
   "file_extension": ".tz",
   "mimetype": "text/x-michelson",
   "name": "Michelson"
  }
 },
 "nbformat": 4,
 "nbformat_minor": 4
}

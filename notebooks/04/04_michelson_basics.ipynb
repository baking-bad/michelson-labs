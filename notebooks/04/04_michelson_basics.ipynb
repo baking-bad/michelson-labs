{
 "cells": [
  {
   "cell_type": "markdown",
   "metadata": {},
   "source": [
    "# Chapter 4  \n",
    "\n",
    "Among all operations that you can execute in a smart contract, arithmetic operations are probably the most common ones, but also the simplest ones. After all, computers in general were created to provide an easy way to do arithmetic operations that started to become too complex.  \n",
    "\n",
    "Within your smart contract, you may want to add or subtract tokens to the balance of your users or you may want to multiply or divide different values. As you will understand it when reading what follows, it will be extremely easy in Michelson. You only have two conditions to remember before trying any operation: first, you must make sure that you have two elements on top of the stack. Second, you must verify that these two elements are of comparable types and of types that work together.  \n",
    "\n",
    "Unlike programming languages that you may already be familiar with, Michelson doesn't use arithmetic operators you know like **+**, **-**, __*__ or **/**. Everything is \"instruction-based\" and you will have to use instructions that modify the stack to make operations."
   ]
  },
  {
   "cell_type": "markdown",
   "metadata": {},
   "source": [
    "## Available types for arithmetic operations\n",
    "\n",
    "As you may have already guessed, Michelson allows us to work with `int` and `nat` for arithmetic operations. An operation of two `int` will yield an `int` and an operation of two`nat` will yield a `nat`. These two types can be used together for addition, subtraction, multiplication and division but as long there is an `int` in your operation, the result will also be an `int`. For example, `int + nat = int`.  \n",
    "\n",
    "In addition to `int` and `nat`, you can use other types for arithmetic operations, for example `mutez` and `timestamp`. Here is a table that sums up all the possible combinations and the type of the result:  \n",
    "\n",
    "| Value type \t| Available operation \t| Value type \t| Result type \t|\n",
    "|:----------:\t|:-------------------:\t|:----------:\t|:-----------:\t|\n",
    "|     int    \t|   ADD/SUB/MUL/EDIV  \t|     int    \t|     int     \t|\n",
    "|     nat    \t|   ADD/SUB/MUL/EDIV  \t|     nat    \t|     int     \t|\n",
    "|     int    \t|   ADD/SUB/MUL/EDIV  \t|     nat    \t|     int     \t|\n",
    "|  timestamp \t|       ADD/SUB       \t|     int    \t|  timestamp  \t|\n",
    "|  timestamp \t|         SUB         \t|  timestamp \t|     int     \t|\n",
    "|    mutez   \t|       ADD/SUB       \t|    mutez   \t|    mutez    \t|\n",
    "|    mutez   \t|       MUL/EDIV      \t|     nat    \t|    mutez    \t|"
   ]
  },
  {
   "cell_type": "markdown",
   "metadata": {},
   "source": [
    "A few considerations to keep in mind regarding the table above:  \n",
    "- Be always very mindful about the return type when you put `int` and `nat` together. You may spend some time scratching your head and wondering why you are not getting the type you are expecting because you overlooked the types you are using in your operation.\n",
    "- A few operations are available for types outside of `int` and `nat`, but they are somehow limited (for logical reasons). For example, it wouldn't make any sense to multiply timestamps with other values or multiply `mutez` together.\n",
    "- Other limitations are set in place for safety purposes: limiting the possible operations on `mutez` prevents negative balances or integer overflow."
   ]
  },
  {
   "cell_type": "markdown",
   "metadata": {},
   "source": [
    "## The **`ADD`** instruction\n",
    "\n",
    "The first instruction we are going to play with is the **`ADD`** instruction. As its name suggests, it takes two values and add them together. If you refer to the table above, you can observe that it is one of the most widely available instruction throughout the different types. **`ADD`** also allows you to use different types of values, keeping in mind that the return type is always fix.  \n",
    "\n",
    "Let's check some examples and see how it works:"
   ]
  },
  {
   "cell_type": "code",
   "execution_count": 54,
   "metadata": {},
   "outputs": [
    {
     "name": "stdout",
     "output_type": "stream",
     "text": [
      "storage unit;\n",
      "parameter unit;\n",
      "BEGIN: use %default; drop all; push (Unit, Unit);\n",
      "DROP: pop (Unit, Unit);"
     ]
    }
   ],
   "source": [
    "## We quickly initialize a contract environment to manipulate different values on the stack\n",
    "storage unit ;\n",
    "parameter unit ;\n",
    "BEGIN Unit Unit ;\n",
    "DROP ;"
   ]
  },
  {
   "cell_type": "markdown",
   "metadata": {},
   "source": [
    "In this first example, we push 2 `int` on to the stack and add them.  \n",
    "As you can see, the return value is of type `int` and is the result of `5 + 5`."
   ]
  },
  {
   "cell_type": "code",
   "execution_count": 55,
   "metadata": {},
   "outputs": [
    {
     "name": "stdout",
     "output_type": "stream",
     "text": [
      "PUSH: push 5;\n",
      "PUSH: push 5;\n",
      "ADD: pop 5, 5; push 10;"
     ]
    },
    {
     "data": {
      "text/html": [
       "<table>\n",
       "<thead>\n",
       "<tr><th>value                                  </th><th>type                                    </th></tr>\n",
       "</thead>\n",
       "<tbody>\n",
       "<tr><td><pre style=&quot;text-align: left;&quot;>10</pre></td><td><pre style=&quot;text-align: left;&quot;>int</pre></td></tr>\n",
       "</tbody>\n",
       "</table>"
      ],
      "text/plain": [
       "  value  type\n",
       "-------  ------\n",
       "     10  int"
      ]
     },
     "execution_count": 55,
     "metadata": {},
     "output_type": "execute_result"
    }
   ],
   "source": [
    "PUSH int 5 ;\n",
    "PUSH int 5 ;\n",
    "ADD ;"
   ]
  },
  {
   "cell_type": "markdown",
   "metadata": {},
   "source": [
    "Now we have a value of type `int` on top of the stack. Let's push a value of type `nat` and see what happens:"
   ]
  },
  {
   "cell_type": "code",
   "execution_count": 56,
   "metadata": {},
   "outputs": [
    {
     "name": "stdout",
     "output_type": "stream",
     "text": [
      "PUSH: push 5;\n",
      "ADD: pop 5, 10; push 15;"
     ]
    },
    {
     "data": {
      "text/html": [
       "<table>\n",
       "<thead>\n",
       "<tr><th>value                                  </th><th>type                                    </th></tr>\n",
       "</thead>\n",
       "<tbody>\n",
       "<tr><td><pre style=&quot;text-align: left;&quot;>15</pre></td><td><pre style=&quot;text-align: left;&quot;>int</pre></td></tr>\n",
       "</tbody>\n",
       "</table>"
      ],
      "text/plain": [
       "  value  type\n",
       "-------  ------\n",
       "     15  int"
      ]
     },
     "execution_count": 56,
     "metadata": {},
     "output_type": "execute_result"
    }
   ],
   "source": [
    "PUSH nat 5 ;\n",
    "ADD ;"
   ]
  },
  {
   "cell_type": "markdown",
   "metadata": {},
   "source": [
    "As expected, `int 10 + nat 5` equals `int 15`. The addition of `int` and `nat` always yields an `int` (*for logical reasons, the result of something like `int -20 + nat 5` cannot be a `nat` value*).  \n",
    "\n",
    "In the next snippet, you will see a new instruction, **`NOW`**. We will come back to it in a later chapter, just know for now that it pushes the current timestamp on top of the stack. We can then use the timestamp to demonstrate how **`ADD`** works with values of this type:"
   ]
  },
  {
   "cell_type": "code",
   "execution_count": 57,
   "metadata": {},
   "outputs": [
    {
     "name": "stdout",
     "output_type": "stream",
     "text": [
      "NOW: push 1592111017;\n",
      "ADD: pop 1592111017, 15; push 1592111032;"
     ]
    },
    {
     "data": {
      "text/html": [
       "<table>\n",
       "<thead>\n",
       "<tr><th>value                                          </th><th>type                                          </th></tr>\n",
       "</thead>\n",
       "<tbody>\n",
       "<tr><td><pre style=&quot;text-align: left;&quot;>1592111032</pre></td><td><pre style=&quot;text-align: left;&quot;>timestamp</pre></td></tr>\n",
       "</tbody>\n",
       "</table>"
      ],
      "text/plain": [
       "     value  type\n",
       "----------  ---------\n",
       "1592111032  timestamp"
      ]
     },
     "execution_count": 57,
     "metadata": {},
     "output_type": "execute_result"
    }
   ],
   "source": [
    "NOW ;\n",
    "ADD ;"
   ]
  },
  {
   "cell_type": "markdown",
   "metadata": {},
   "source": [
    "According to the day and time you are running this code block, the timestamp will be different. However, you should clearly see that the initial value has been incremented with `15`, which was the value we had in our stack when we pushed the timestamp. You can also push a value and add it to the existing timestamp:"
   ]
  },
  {
   "cell_type": "code",
   "execution_count": 58,
   "metadata": {},
   "outputs": [
    {
     "name": "stdout",
     "output_type": "stream",
     "text": [
      "PUSH: push 500;\n",
      "ADD: pop 500, 1592111032; push 1592111532;"
     ]
    },
    {
     "data": {
      "text/html": [
       "<table>\n",
       "<thead>\n",
       "<tr><th>value                                          </th><th>type                                          </th></tr>\n",
       "</thead>\n",
       "<tbody>\n",
       "<tr><td><pre style=&quot;text-align: left;&quot;>1592111532</pre></td><td><pre style=&quot;text-align: left;&quot;>timestamp</pre></td></tr>\n",
       "</tbody>\n",
       "</table>"
      ],
      "text/plain": [
       "     value  type\n",
       "----------  ---------\n",
       "1592111532  timestamp"
      ]
     },
     "execution_count": 58,
     "metadata": {},
     "output_type": "execute_result"
    }
   ],
   "source": [
    "PUSH int 500 ;\n",
    "ADD ;"
   ]
  },
  {
   "cell_type": "markdown",
   "metadata": {},
   "source": [
    "Let's clean our stack and see how adding `mutez` together works. As in the previous examples, we just push two values on top of the stack and add them. This yields a result in `mutez`:"
   ]
  },
  {
   "cell_type": "code",
   "execution_count": 59,
   "metadata": {},
   "outputs": [
    {
     "name": "stdout",
     "output_type": "stream",
     "text": [
      "DROP: pop 1592111532;\n",
      "PUSH: push 50;\n",
      "PUSH: push 20;\n",
      "ADD: pop 20, 50; push 70;"
     ]
    },
    {
     "data": {
      "text/html": [
       "<table>\n",
       "<thead>\n",
       "<tr><th>value                                  </th><th>type                                      </th></tr>\n",
       "</thead>\n",
       "<tbody>\n",
       "<tr><td><pre style=&quot;text-align: left;&quot;>70</pre></td><td><pre style=&quot;text-align: left;&quot;>mutez</pre></td></tr>\n",
       "</tbody>\n",
       "</table>"
      ],
      "text/plain": [
       "  value  type\n",
       "-------  ------\n",
       "     70  mutez"
      ]
     },
     "execution_count": 59,
     "metadata": {},
     "output_type": "execute_result"
    }
   ],
   "source": [
    "DROP ;\n",
    "PUSH mutez 50 ;\n",
    "PUSH mutez 20 ;\n",
    "ADD ;"
   ]
  },
  {
   "cell_type": "markdown",
   "metadata": {},
   "source": [
    "Keep in mind that `mutez` values are NOT tezzies but a *representation* of their value. When writing `PUSH mutez 50`, you are not manipulating tezzies, only their representation. There are specific instructions we will study later that tell the contract to send actual tezzies."
   ]
  },
  {
   "cell_type": "markdown",
   "metadata": {},
   "source": [
    "## The **`SUB`** instruction\n",
    "\n",
    "After adding different amounts comes a time when you have to subtract 😅 The **`SUB`** instruction works very similarly to the **`ADD`** instruction outside of a few exceptions we are going to study here.  \n",
    "\n",
    "First, let's start with a simple example:"
   ]
  },
  {
   "cell_type": "code",
   "execution_count": 60,
   "metadata": {},
   "outputs": [
    {
     "name": "stdout",
     "output_type": "stream",
     "text": [
      "DROP: pop 70;\n",
      "PUSH: push 3;\n",
      "PUSH: push 5;\n",
      "SUB: pop 5, 3; push 2;"
     ]
    },
    {
     "data": {
      "text/html": [
       "<table>\n",
       "<thead>\n",
       "<tr><th>value                                 </th><th>type                                    </th></tr>\n",
       "</thead>\n",
       "<tbody>\n",
       "<tr><td><pre style=&quot;text-align: left;&quot;>2</pre></td><td><pre style=&quot;text-align: left;&quot;>int</pre></td></tr>\n",
       "</tbody>\n",
       "</table>"
      ],
      "text/plain": [
       "  value  type\n",
       "-------  ------\n",
       "      2  int"
      ]
     },
     "execution_count": 60,
     "metadata": {},
     "output_type": "execute_result"
    }
   ],
   "source": [
    "DROP ; ## let's start with a clean stack\n",
    "PUSH int 3 ;\n",
    "PUSH int 5 ;\n",
    "SUB ;"
   ]
  },
  {
   "cell_type": "markdown",
   "metadata": {},
   "source": [
    "In this example, you can see that we push `3` to the stack, then `5` before subtracting `3` from `5`.  \n",
    "In a subtraction, the order of the elements is essential, this is why you have to remember the right order of the elements in the stack: `5 - 3` is not going to yield the same result as `3 - 5`!  \n",
    "Let's see what would happen if we push the values in the reverse order:"
   ]
  },
  {
   "cell_type": "code",
   "execution_count": 61,
   "metadata": {},
   "outputs": [
    {
     "name": "stdout",
     "output_type": "stream",
     "text": [
      "DROP: pop 2;\n",
      "PUSH: push 5;\n",
      "PUSH: push 3;\n",
      "SUB: pop 3, 5; push -2;"
     ]
    },
    {
     "data": {
      "text/html": [
       "<table>\n",
       "<thead>\n",
       "<tr><th>value                                  </th><th>type                                    </th></tr>\n",
       "</thead>\n",
       "<tbody>\n",
       "<tr><td><pre style=&quot;text-align: left;&quot;>-2</pre></td><td><pre style=&quot;text-align: left;&quot;>int</pre></td></tr>\n",
       "</tbody>\n",
       "</table>"
      ],
      "text/plain": [
       "  value  type\n",
       "-------  ------\n",
       "     -2  int"
      ]
     },
     "execution_count": 61,
     "metadata": {},
     "output_type": "execute_result"
    }
   ],
   "source": [
    "DROP ;\n",
    "PUSH int 5 ;\n",
    "PUSH int 3 ;\n",
    "SUB ;"
   ]
  },
  {
   "cell_type": "markdown",
   "metadata": {},
   "source": [
    "As you can see, you get now `-2`. This may be what you want, as integers can have negative values.  \n",
    "\n",
    "**`SUB`** is going to work a little differently for `nat` values:"
   ]
  },
  {
   "cell_type": "code",
   "execution_count": 62,
   "metadata": {},
   "outputs": [
    {
     "name": "stdout",
     "output_type": "stream",
     "text": [
      "DROP: pop -2;\n",
      "PUSH: push 5;\n",
      "PUSH: push 3;\n",
      "SUB: pop 3, 5; push -2;\n",
      "PUSH: push 3;\n",
      "PUSH: push 5;\n",
      "SUB: pop 5, 3; push 2;"
     ]
    },
    {
     "data": {
      "text/html": [
       "<table>\n",
       "<thead>\n",
       "<tr><th>value                                  </th><th>type                                    </th><th>name                                              </th></tr>\n",
       "</thead>\n",
       "<tbody>\n",
       "<tr><td><pre style=&quot;text-align: left;&quot;>2</pre> </td><td><pre style=&quot;text-align: left;&quot;>int</pre></td><td><pre style=&quot;text-align: left;&quot;>@second_value</pre></td></tr>\n",
       "<tr><td><pre style=&quot;text-align: left;&quot;>-2</pre></td><td><pre style=&quot;text-align: left;&quot;>int</pre></td><td><pre style=&quot;text-align: left;&quot;>@first_value</pre> </td></tr>\n",
       "</tbody>\n",
       "</table>"
      ],
      "text/plain": [
       "  value  type    name\n",
       "-------  ------  -------------\n",
       "      2  int     @second_value\n",
       "     -2  int     @first_value"
      ]
     },
     "execution_count": 62,
     "metadata": {},
     "output_type": "execute_result"
    }
   ],
   "source": [
    "DROP ;\n",
    "PUSH nat 5 ;\n",
    "PUSH nat 3 ;\n",
    "SUB @first_value ;\n",
    "PUSH nat 3 ;\n",
    "PUSH nat 5 ;\n",
    "SUB @second_value ;\n",
    "DUMP ;"
   ]
  },
  {
   "cell_type": "markdown",
   "metadata": {},
   "source": [
    "Something very interesting happens here, can you spot it? We started with `nat` values and we end up with `int` values! The result of the subtraction of 2 `nat` values is always an `int` as there is a possibility for a negative number. Now, an `int` value may not be what you want. Maybe you are updating a `nat` value in your storage and you need a `nat` value to put it back in the storage. In this case, you can use the **`ABS`** instruction. **`ABS`** turns an `int` value into a `nat` value. As usual, make sure that the top element of the stack is of type `int` before using it:"
   ]
  },
  {
   "cell_type": "code",
   "execution_count": 63,
   "metadata": {},
   "outputs": [
    {
     "name": "stdout",
     "output_type": "stream",
     "text": [
      "ABS: pop 2; push 2;\n",
      "SWAP: pop 2, -2; push 2; push -2;\n",
      "ABS: pop -2; push 2;"
     ]
    },
    {
     "data": {
      "text/html": [
       "<table>\n",
       "<thead>\n",
       "<tr><th>value                                 </th><th>type                                    </th><th>name                                              </th></tr>\n",
       "</thead>\n",
       "<tbody>\n",
       "<tr><td><pre style=&quot;text-align: left;&quot;>2</pre></td><td><pre style=&quot;text-align: left;&quot;>nat</pre></td><td><pre style=&quot;text-align: left;&quot;>@first_value</pre> </td></tr>\n",
       "<tr><td><pre style=&quot;text-align: left;&quot;>2</pre></td><td><pre style=&quot;text-align: left;&quot;>nat</pre></td><td><pre style=&quot;text-align: left;&quot;>@second_value</pre></td></tr>\n",
       "</tbody>\n",
       "</table>"
      ],
      "text/plain": [
       "  value  type    name\n",
       "-------  ------  -------------\n",
       "      2  nat     @first_value\n",
       "      2  nat     @second_value"
      ]
     },
     "execution_count": 63,
     "metadata": {},
     "output_type": "execute_result"
    }
   ],
   "source": [
    "ABS @second_value ;\n",
    "SWAP ;\n",
    "ABS @first_value ;\n",
    "DUMP ;"
   ]
  },
  {
   "cell_type": "markdown",
   "metadata": {},
   "source": [
    "You can also use **`SUB`** with timestamps. In this case, you can only subtract `int` values from timestamps that represent the number of seconds to subtract, for example:"
   ]
  },
  {
   "cell_type": "code",
   "execution_count": 64,
   "metadata": {},
   "outputs": [
    {
     "name": "stdout",
     "output_type": "stream",
     "text": [
      "DROP_ALL: drop all;\n",
      "PUSH: push 100;\n",
      "NOW: push 1592111022;\n",
      "SUB: pop 1592111022, 100; push 1592110922;"
     ]
    },
    {
     "data": {
      "text/html": [
       "<table>\n",
       "<thead>\n",
       "<tr><th>value                                          </th><th>type                                          </th></tr>\n",
       "</thead>\n",
       "<tbody>\n",
       "<tr><td><pre style=&quot;text-align: left;&quot;>1592110922</pre></td><td><pre style=&quot;text-align: left;&quot;>timestamp</pre></td></tr>\n",
       "</tbody>\n",
       "</table>"
      ],
      "text/plain": [
       "     value  type\n",
       "----------  ---------\n",
       "1592110922  timestamp"
      ]
     },
     "execution_count": 64,
     "metadata": {},
     "output_type": "execute_result"
    }
   ],
   "source": [
    "DROP_ALL ; ## DROP_ALL is a non-Michelson instruction used in these notebooks to reset the stack to zero\n",
    "PUSH int 100 ;\n",
    "NOW ;\n",
    "SUB ;"
   ]
  },
  {
   "cell_type": "markdown",
   "metadata": {},
   "source": [
    "In the steps of the execution, you can observe that the current timestamp is pushed onto the stack before `100` is subtracted from it.  \n",
    "If you wish, you can also subtract one timestamp from another to get the difference in seconds between both of them:"
   ]
  },
  {
   "cell_type": "code",
   "execution_count": 65,
   "metadata": {},
   "outputs": [
    {
     "name": "stdout",
     "output_type": "stream",
     "text": [
      "DROP: pop 1592110922;\n",
      "PUSH: push 100;\n",
      "NOW: push 1592111024;\n",
      "SUB: pop 1592111024, 100; push 1592110924;\n",
      "NOW: push 1592111024;\n",
      "SUB: pop 1592111024, 1592110924; push 100;"
     ]
    },
    {
     "data": {
      "text/html": [
       "<table>\n",
       "<thead>\n",
       "<tr><th>value                                   </th><th>type                                    </th></tr>\n",
       "</thead>\n",
       "<tbody>\n",
       "<tr><td><pre style=&quot;text-align: left;&quot;>100</pre></td><td><pre style=&quot;text-align: left;&quot;>int</pre></td></tr>\n",
       "</tbody>\n",
       "</table>"
      ],
      "text/plain": [
       "  value  type\n",
       "-------  ------\n",
       "    100  int"
      ]
     },
     "execution_count": 65,
     "metadata": {},
     "output_type": "execute_result"
    }
   ],
   "source": [
    "DROP ;\n",
    "PUSH int 100 ;\n",
    "NOW ;\n",
    "SUB ;\n",
    "NOW ;\n",
    "SUB ;"
   ]
  },
  {
   "cell_type": "markdown",
   "metadata": {},
   "source": [
    "In a first time, we push `int 100` onto the stack, then the current timestamp and we subtract `100` from the timestamp. Next, we push another timestamp onto the stack and subtract the first created timestamp from the second one. The result should be `100` because the operation is so fast the timestamp doesn't really have time to update the second time we push it.  \n",
    "\n",
    "As you would expect, it is also possible to subtract mutez from one another to get the difference between the two amounts:"
   ]
  },
  {
   "cell_type": "code",
   "execution_count": 67,
   "metadata": {},
   "outputs": [
    {
     "name": "stdout",
     "output_type": "stream",
     "text": [
      "DROP: pop 100;\n",
      "PUSH: push 25;\n",
      "PUSH: push 50;\n",
      "SUB: pop 50, 25; push 25;"
     ]
    },
    {
     "data": {
      "text/html": [
       "<table>\n",
       "<thead>\n",
       "<tr><th>value                                  </th><th>type                                      </th></tr>\n",
       "</thead>\n",
       "<tbody>\n",
       "<tr><td><pre style=&quot;text-align: left;&quot;>25</pre></td><td><pre style=&quot;text-align: left;&quot;>mutez</pre></td></tr>\n",
       "</tbody>\n",
       "</table>"
      ],
      "text/plain": [
       "  value  type\n",
       "-------  ------\n",
       "     25  mutez"
      ]
     },
     "execution_count": 67,
     "metadata": {},
     "output_type": "execute_result"
    }
   ],
   "source": [
    "DROP ;\n",
    "PUSH mutez 25 ;\n",
    "PUSH mutez 50 ;\n",
    "SUB ;"
   ]
  },
  {
   "cell_type": "markdown",
   "metadata": {},
   "source": [
    "Once again, be careful of the order you push the elements onto the stack, for safety purposes, negative amounts of `mutez` are not allowed and the contract will fail if it happens:"
   ]
  },
  {
   "cell_type": "code",
   "execution_count": 68,
   "metadata": {},
   "outputs": [
    {
     "name": "stdout",
     "output_type": "stream",
     "text": [
      "DROP: pop 25;\n",
      "PUSH: push 50;\n",
      "PUSH: push 25;\n",
      "SUB: pop 25, 50;"
     ]
    },
    {
     "name": "stderr",
     "output_type": "stream",
     "text": [
      "MichelsonRuntimeError: expected non-negative val\n",
      "at SUB"
     ]
    }
   ],
   "source": [
    "DROP ;\n",
    "PUSH mutez 50 ;\n",
    "PUSH mutez 25 ;\n",
    "SUB ;"
   ]
  },
  {
   "cell_type": "markdown",
   "metadata": {},
   "source": [
    "## The **`MUL`** instruction\n",
    "\n",
    "Multiplications are far less common throughout Michelson types than addition or subtraction. For timestamps, they just don't make sense. For `mutez`, they are possible only under a certain condition. You can use it for `int` and `nat` values. The syntax is the same as addition and subtraction and this time, you can relax about the order of the elements 😊"
   ]
  },
  {
   "cell_type": "code",
   "execution_count": 69,
   "metadata": {},
   "outputs": [
    {
     "name": "stdout",
     "output_type": "stream",
     "text": [
      "DROP: pop 25;\n",
      "PUSH: push 5;\n",
      "PUSH: push 4;\n",
      "MUL: pop 4, 5; push 20;"
     ]
    },
    {
     "data": {
      "text/html": [
       "<table>\n",
       "<thead>\n",
       "<tr><th>value                                  </th><th>type                                    </th></tr>\n",
       "</thead>\n",
       "<tbody>\n",
       "<tr><td><pre style=&quot;text-align: left;&quot;>20</pre></td><td><pre style=&quot;text-align: left;&quot;>int</pre></td></tr>\n",
       "</tbody>\n",
       "</table>"
      ],
      "text/plain": [
       "  value  type\n",
       "-------  ------\n",
       "     20  int"
      ]
     },
     "execution_count": 69,
     "metadata": {},
     "output_type": "execute_result"
    }
   ],
   "source": [
    "DROP ;\n",
    "PUSH int 5 ;\n",
    "PUSH int 4 ;\n",
    "MUL ;"
   ]
  },
  {
   "cell_type": "code",
   "execution_count": 70,
   "metadata": {},
   "outputs": [
    {
     "name": "stdout",
     "output_type": "stream",
     "text": [
      "DROP: pop 20;\n",
      "PUSH: push 3;\n",
      "PUSH: push 10;\n",
      "MUL: pop 10, 3; push 30;"
     ]
    },
    {
     "data": {
      "text/html": [
       "<table>\n",
       "<thead>\n",
       "<tr><th>value                                  </th><th>type                                    </th></tr>\n",
       "</thead>\n",
       "<tbody>\n",
       "<tr><td><pre style=&quot;text-align: left;&quot;>30</pre></td><td><pre style=&quot;text-align: left;&quot;>nat</pre></td></tr>\n",
       "</tbody>\n",
       "</table>"
      ],
      "text/plain": [
       "  value  type\n",
       "-------  ------\n",
       "     30  nat"
      ]
     },
     "execution_count": 70,
     "metadata": {},
     "output_type": "execute_result"
    }
   ],
   "source": [
    "DROP ;\n",
    "PUSH nat 3 ;\n",
    "PUSH nat 10 ;\n",
    "MUL ;"
   ]
  },
  {
   "cell_type": "markdown",
   "metadata": {},
   "source": [
    "As it is also the case for addition and subtraction, the multiplication of `int` and `nat` values together yields a new `int`:"
   ]
  },
  {
   "cell_type": "code",
   "execution_count": 72,
   "metadata": {
    "scrolled": true
   },
   "outputs": [
    {
     "name": "stdout",
     "output_type": "stream",
     "text": [
      "DROP: pop 30;\n",
      "PUSH: push 5;\n",
      "PUSH: push 3;\n",
      "MUL: pop 3, 5; push 15;"
     ]
    },
    {
     "data": {
      "text/html": [
       "<table>\n",
       "<thead>\n",
       "<tr><th>value                                  </th><th>type                                    </th></tr>\n",
       "</thead>\n",
       "<tbody>\n",
       "<tr><td><pre style=&quot;text-align: left;&quot;>15</pre></td><td><pre style=&quot;text-align: left;&quot;>int</pre></td></tr>\n",
       "</tbody>\n",
       "</table>"
      ],
      "text/plain": [
       "  value  type\n",
       "-------  ------\n",
       "     15  int"
      ]
     },
     "execution_count": 72,
     "metadata": {},
     "output_type": "execute_result"
    }
   ],
   "source": [
    "DROP ;\n",
    "PUSH int 5 ;\n",
    "PUSH nat 3 ;\n",
    "MUL ;"
   ]
  },
  {
   "cell_type": "markdown",
   "metadata": {},
   "source": [
    "Finally, you can multiply `mutez` values with `nat` values:"
   ]
  },
  {
   "cell_type": "code",
   "execution_count": 73,
   "metadata": {},
   "outputs": [
    {
     "name": "stdout",
     "output_type": "stream",
     "text": [
      "DROP: pop 15;\n",
      "PUSH: push 500;\n",
      "PUSH: push 5;\n",
      "MUL: pop 5, 500; push 2500;"
     ]
    },
    {
     "data": {
      "text/html": [
       "<table>\n",
       "<thead>\n",
       "<tr><th>value                                    </th><th>type                                      </th></tr>\n",
       "</thead>\n",
       "<tbody>\n",
       "<tr><td><pre style=&quot;text-align: left;&quot;>2500</pre></td><td><pre style=&quot;text-align: left;&quot;>mutez</pre></td></tr>\n",
       "</tbody>\n",
       "</table>"
      ],
      "text/plain": [
       "  value  type\n",
       "-------  ------\n",
       "   2500  mutez"
      ]
     },
     "execution_count": 73,
     "metadata": {},
     "output_type": "execute_result"
    }
   ],
   "source": [
    "DROP ;\n",
    "PUSH mutez 500 ;\n",
    "PUSH nat 5 ;\n",
    "MUL ;"
   ]
  },
  {
   "cell_type": "markdown",
   "metadata": {},
   "source": [
    "## The **`EDIV`** instruction\n",
    "\n",
    "Division in Michelson is a little more technical than the other arithmetic operations and requires more explanation.  \n",
    "\n",
    "Michelson performs what is called a [Euclidean division](https://en.wikipedia.org/wiki/Euclidean_division), hence the **E**(uclidean)**DIV**(ision) name. In a nutshell, a Euclidean division divides two numbers together and returns a result (formally known as the *quotient*) and a *remainder* (there are no float numbers in Michelson). If there is a pizza with 9 slices and 4 people who want pizza, a Euclidean division of the pizza will distribute 2 slices to everyone (total 8 slices) with 1 slice left.  \n",
    "\n",
    "Keeping in mind this example, let's observe how the division and its result would look like in Michelson:"
   ]
  },
  {
   "cell_type": "code",
   "execution_count": 74,
   "metadata": {
    "scrolled": true
   },
   "outputs": [
    {
     "name": "stdout",
     "output_type": "stream",
     "text": [
      "DROP: pop 2500;\n",
      "PUSH: push 4;\n",
      "PUSH: push 9;\n",
      "EDIV: pop 9, 4; push ((2, 1),);"
     ]
    },
    {
     "data": {
      "text/html": [
       "<table>\n",
       "<thead>\n",
       "<tr><th>value                                               </th><th>type                                                      </th></tr>\n",
       "</thead>\n",
       "<tbody>\n",
       "<tr><td><pre style=&quot;text-align: left;&quot;>Some (Pair 2 1)</pre></td><td><pre style=&quot;text-align: left;&quot;>option (pair int nat)</pre></td></tr>\n",
       "</tbody>\n",
       "</table>"
      ],
      "text/plain": [
       "value            type\n",
       "---------------  ---------------------\n",
       "Some (Pair 2 1)  option (pair int nat)"
      ]
     },
     "execution_count": 74,
     "metadata": {},
     "output_type": "execute_result"
    }
   ],
   "source": [
    "DROP ;\n",
    "PUSH int 4 ;\n",
    "PUSH int 9 ;\n",
    "EDIV ;"
   ]
  },
  {
   "cell_type": "markdown",
   "metadata": {},
   "source": [
    "Now that's a surprise! The other arithmetic operations above only yield numbers but this one gives us a pretty complex result back! The result of **`EDIV`** is an option that contains a pair with the quotient (the result of the division) on the left and the remainder on the right. The quotient is of type `int` and the remainder is of type `nat` (unsurprisingly, the remainder cannot be a negative number)."
   ]
  },
  {
   "cell_type": "markdown",
   "metadata": {},
   "source": [
    "Outside of `int` and `nat`, you can use **`EDIV`** with `mutez` values, only if the divisor is of type `nat`:"
   ]
  },
  {
   "cell_type": "code",
   "execution_count": 76,
   "metadata": {},
   "outputs": [
    {
     "name": "stdout",
     "output_type": "stream",
     "text": [
      "DROP: pop ((2, 1),);\n",
      "PUSH: push 5;\n",
      "PUSH: push 500;\n",
      "EDIV: pop 500, 5; push ((100, 0),);"
     ]
    },
    {
     "data": {
      "text/html": [
       "<table>\n",
       "<thead>\n",
       "<tr><th>value                                                 </th><th>type                                                          </th></tr>\n",
       "</thead>\n",
       "<tbody>\n",
       "<tr><td><pre style=&quot;text-align: left;&quot;>Some (Pair 100 0)</pre></td><td><pre style=&quot;text-align: left;&quot;>option (pair mutez mutez)</pre></td></tr>\n",
       "</tbody>\n",
       "</table>"
      ],
      "text/plain": [
       "value              type\n",
       "-----------------  -------------------------\n",
       "Some (Pair 100 0)  option (pair mutez mutez)"
      ]
     },
     "execution_count": 76,
     "metadata": {},
     "output_type": "execute_result"
    }
   ],
   "source": [
    "DROP ;\n",
    "PUSH nat 5 ;\n",
    "PUSH mutez 500 ;\n",
    "EDIV ;"
   ]
  },
  {
   "cell_type": "markdown",
   "metadata": {},
   "source": [
    "The example above is also great to demonstrate that the pair result can contain a `0` as the remainder of the division."
   ]
  },
  {
   "cell_type": "markdown",
   "metadata": {},
   "source": [
    "## Other operations on numeric values\n",
    "\n",
    "Outside of arithmetic operations, you can use other operations to manipulate numeric values in Michelson. We've already talked about **`ABS`** earlier that turns an `int` value into a `nat`. Here is a refresher:"
   ]
  },
  {
   "cell_type": "code",
   "execution_count": 77,
   "metadata": {},
   "outputs": [
    {
     "name": "stdout",
     "output_type": "stream",
     "text": [
      "DROP: pop ((100, 0),);\n",
      "PUSH: push 5;\n",
      "ABS: pop 5; push 5;\n",
      "PUSH: push -6;\n",
      "ABS: pop -6; push 6;"
     ]
    },
    {
     "data": {
      "text/html": [
       "<table>\n",
       "<thead>\n",
       "<tr><th>value                                 </th><th>type                                    </th></tr>\n",
       "</thead>\n",
       "<tbody>\n",
       "<tr><td><pre style=&quot;text-align: left;&quot;>6</pre></td><td><pre style=&quot;text-align: left;&quot;>nat</pre></td></tr>\n",
       "<tr><td><pre style=&quot;text-align: left;&quot;>5</pre></td><td><pre style=&quot;text-align: left;&quot;>nat</pre></td></tr>\n",
       "</tbody>\n",
       "</table>"
      ],
      "text/plain": [
       "  value  type\n",
       "-------  ------\n",
       "      6  nat\n",
       "      5  nat"
      ]
     },
     "execution_count": 77,
     "metadata": {},
     "output_type": "execute_result"
    }
   ],
   "source": [
    "DROP ;\n",
    "PUSH int 5 ;\n",
    "ABS ;\n",
    "PUSH int -6 ;\n",
    "ABS ;\n",
    "DUMP ;"
   ]
  },
  {
   "cell_type": "markdown",
   "metadata": {},
   "source": [
    "You can use **`NEG`** to turn a positive value into a negative one. The result will logically be an `int` even if the value you give is a `nat`:"
   ]
  },
  {
   "cell_type": "code",
   "execution_count": 78,
   "metadata": {},
   "outputs": [
    {
     "name": "stdout",
     "output_type": "stream",
     "text": [
      "DROP_ALL: drop all;\n",
      "PUSH: push 5;\n",
      "NEG: pop 5; push -5;\n",
      "PUSH: push 5;\n",
      "NEG: pop 5; push -5;"
     ]
    },
    {
     "data": {
      "text/html": [
       "<table>\n",
       "<thead>\n",
       "<tr><th>value                                  </th><th>type                                    </th></tr>\n",
       "</thead>\n",
       "<tbody>\n",
       "<tr><td><pre style=&quot;text-align: left;&quot;>-5</pre></td><td><pre style=&quot;text-align: left;&quot;>int</pre></td></tr>\n",
       "<tr><td><pre style=&quot;text-align: left;&quot;>-5</pre></td><td><pre style=&quot;text-align: left;&quot;>int</pre></td></tr>\n",
       "</tbody>\n",
       "</table>"
      ],
      "text/plain": [
       "  value  type\n",
       "-------  ------\n",
       "     -5  int\n",
       "     -5  int"
      ]
     },
     "execution_count": 78,
     "metadata": {},
     "output_type": "execute_result"
    }
   ],
   "source": [
    "DROP_ALL ;\n",
    "PUSH int 5 ;\n",
    "NEG ;\n",
    "PUSH nat 5 ;\n",
    "NEG ;\n",
    "DUMP ;"
   ]
  },
  {
   "cell_type": "markdown",
   "metadata": {},
   "source": [
    "Sometimes, you may want to flip the type of a number from `nat` to `int` the same way **`ABS`** turns an `int` into a `nat`. In this case, you can use the **`INT`** instruction:  \n",
    "> Note: you may have noticed by now that Michelson is case-sensitive, writing `int` and `INT` is completely different, as is writing `pair`, `Pair` and `PAIR`. Types are always written in lowercase (`pair`), values are written with their first character uppercase (`Pair`) and instructions are all uppercase (`PAIR`)."
   ]
  },
  {
   "cell_type": "code",
   "execution_count": 79,
   "metadata": {},
   "outputs": [
    {
     "name": "stdout",
     "output_type": "stream",
     "text": [
      "DROP_ALL: drop all;\n",
      "PUSH: push 5;\n",
      "INT: pop 5; push 5;"
     ]
    },
    {
     "data": {
      "text/html": [
       "<table>\n",
       "<thead>\n",
       "<tr><th>value                                 </th><th>type                                    </th></tr>\n",
       "</thead>\n",
       "<tbody>\n",
       "<tr><td><pre style=&quot;text-align: left;&quot;>5</pre></td><td><pre style=&quot;text-align: left;&quot;>int</pre></td></tr>\n",
       "</tbody>\n",
       "</table>"
      ],
      "text/plain": [
       "  value  type\n",
       "-------  ------\n",
       "      5  int"
      ]
     },
     "execution_count": 79,
     "metadata": {},
     "output_type": "execute_result"
    }
   ],
   "source": [
    "DROP_ALL ;\n",
    "PUSH nat 5 ;\n",
    "INT ;\n",
    "DUMP ;"
   ]
  },
  {
   "cell_type": "markdown",
   "metadata": {},
   "source": [
    "Michelson offers also a practical shortcut to check if an `int` is positive and turn it into a `nat`: **`ISNAT`**. The instruction takes a value of type `int` and returns `None` if the `int` is less than `0` or `(Some nat)` if the `int` is greater than `0`:"
   ]
  },
  {
   "cell_type": "code",
   "execution_count": 80,
   "metadata": {},
   "outputs": [
    {
     "name": "stdout",
     "output_type": "stream",
     "text": [
      "DROP: pop 5;\n",
      "PUSH: push 5;\n",
      "ISNAT: pop 5; push (5,);\n",
      "PUSH: push -4;\n",
      "ISNAT: pop -4; push None;"
     ]
    },
    {
     "data": {
      "text/html": [
       "<table>\n",
       "<thead>\n",
       "<tr><th>value                                      </th><th>type                                           </th></tr>\n",
       "</thead>\n",
       "<tbody>\n",
       "<tr><td><pre style=&quot;text-align: left;&quot;>None</pre>  </td><td><pre style=&quot;text-align: left;&quot;>option nat</pre></td></tr>\n",
       "<tr><td><pre style=&quot;text-align: left;&quot;>Some 5</pre></td><td><pre style=&quot;text-align: left;&quot;>option nat</pre></td></tr>\n",
       "</tbody>\n",
       "</table>"
      ],
      "text/plain": [
       "value    type\n",
       "-------  ----------\n",
       "None     option nat\n",
       "Some 5   option nat"
      ]
     },
     "execution_count": 80,
     "metadata": {},
     "output_type": "execute_result"
    }
   ],
   "source": [
    "DROP ;\n",
    "PUSH int 5 ;\n",
    "ISNAT ;\n",
    "PUSH int -4 ;\n",
    "ISNAT ;\n",
    "DUMP ;"
   ]
  },
  {
   "cell_type": "markdown",
   "metadata": {},
   "source": [
    "## Exercises:"
   ]
  },
  {
   "cell_type": "markdown",
   "metadata": {},
   "source": [
    "1. Write a series of 4 arithmetic operations that use the value returned by the previous operation:"
   ]
  },
  {
   "cell_type": "code",
   "execution_count": null,
   "metadata": {},
   "outputs": [],
   "source": [
    "## Your code here"
   ]
  },
  {
   "cell_type": "markdown",
   "metadata": {},
   "source": [
    "<details>\n",
    "    <summary>Solution (one of the many possible)</summary>\n",
    "    <p>Copy-paste the solution in the cell above to compile it!</p>\n",
    "    <br />\n",
    "    <div>\n",
    "        storage unit ;<br />\n",
    "        parameter unit ;<br />\n",
    "        code {<br />\n",
    "            &emsp;&emsp;DROP ;<br />\n",
    "            &emsp;&emsp;PUSH int 50 ;<br />\n",
    "            &emsp;&emsp;PUSH nat 40 ;<br />\n",
    "            &emsp;&emsp;ADD ;<br />\n",
    "            &emsp;&emsp;PUSH int 10 ;<br />\n",
    "            &emsp;&emsp;SUB ;<br />\n",
    "            &emsp;&emsp;ABS ;<br />\n",
    "            &emsp;&emsp;PUSH mutez 50 ;<br />\n",
    "            &emsp;&emsp;MUL ;<br />\n",
    "            &emsp;&emsp;## The code below is just some cleaning steps to return the contract properly<br />\n",
    "            &emsp;&emsp;DROP ;<br />\n",
    "            &emsp;&emsp;UNIT ;<br />\n",
    "            &emsp;&emsp;NIL operation ;<br />\n",
    "            &emsp;&emsp;PAIR<br />\n",
    "        } ;<br />\n",
    "        RUN %default Unit Unit ;\n",
    "    </div>\n",
    "</details>"
   ]
  },
  {
   "cell_type": "markdown",
   "metadata": {},
   "source": [
    "2. Using instructions from this tutorial and the previous one, devise a smart contract that divides two numbers, fails in case of a division by zero and saves the quotient in the storage otherwise:"
   ]
  },
  {
   "cell_type": "code",
   "execution_count": null,
   "metadata": {},
   "outputs": [],
   "source": [
    "## Your code here"
   ]
  },
  {
   "cell_type": "markdown",
   "metadata": {},
   "source": [
    "<details>\n",
    "    <summary>Solution</summary>\n",
    "    <p>Copy-paste the solution in the cell above to compile it!</p>\n",
    "    <br />\n",
    "    <div>\n",
    "        storage int ;<br />\n",
    "        parameter int ;<br />\n",
    "        code {<br />\n",
    "            &emsp;&emsp;CAR ;<br />\n",
    "            &emsp;&emsp;PUSH int 2 ;<br />\n",
    "            &emsp;&emsp;EDIV ;<br />\n",
    "            &emsp;&emsp;IF_NONE<br />\n",
    "                &emsp;&emsp;&emsp;&emsp;{ FAIL }<br />\n",
    "                &emsp;&emsp;&emsp;&emsp;{ CDR ; INT } ;<br />\n",
    "            &emsp;&emsp;NIL operation ;<br />\n",
    "            &emsp;&emsp;PAIR ;<br />\n",
    "        } ;<br />\n",
    "        RUN %default 6 0;\n",
    "    </div>\n",
    "</details>"
   ]
  }
 ],
 "metadata": {
  "kernelspec": {
   "display_name": "Michelson",
   "language": "michelson",
   "name": "michelson"
  },
  "language_info": {
   "codemirror_mode": "michelson",
   "file_extension": ".tz",
   "mimetype": "text/x-michelson",
   "name": "Michelson"
  }
 },
 "nbformat": 4,
 "nbformat_minor": 4
}

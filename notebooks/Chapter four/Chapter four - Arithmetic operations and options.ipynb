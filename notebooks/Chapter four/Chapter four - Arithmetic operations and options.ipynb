{
 "cells": [
  {
   "cell_type": "markdown",
   "metadata": {},
   "source": [
    "# Michelson tutorial\n",
    "## Chapter four  \n",
    "\n",
    "Among all operations that you can execute in a smart contract, arithmetic operations are probably the most common ones, but also the simplest ones. After all, computers in general were created to provide an easy way to do arithmetic operations that started to become too complex.  \n",
    "\n",
    "Within your smart contract, you may want to add or subtract tokens to the balance of your users or you may want to multiply or divide different values. As you will understand it when reading what follows, it will be extremely easy in Michelson. You only have two conditions to remember before trying any operation: first, you must make sure that you have two elements on top of the stack. Second, you must verify that these two elements are of comparable types and of types that work together.  \n",
    "\n",
    "Unlike programming languages that you may already be familiar with, Michelson doesn't use arithmetic operators you know like **+**, **-**, __*__ or **/**. Everything is \"instruction-based\" and you will have to use instructions that modify the stack to make operations."
   ]
  },
  {
   "cell_type": "markdown",
   "metadata": {},
   "source": [
    "1. Available types for arithmetic operations\n",
    "2. The **`ADD`** instruction\n",
    "3. The **`SUB`** instruction\n",
    "4. The **`MUL`** instruction\n",
    "5. The **`EDIV`** instruction\n",
    "6. Other operations on numeric values"
   ]
  },
  {
   "cell_type": "markdown",
   "metadata": {},
   "source": [
    "##### 1. Available types for arithmetic operations"
   ]
  },
  {
   "cell_type": "markdown",
   "metadata": {},
   "source": [
    "As you may have already guessed, Michelson allows us to work with `int` and `nat` for arithmetic operations. An operation of two `int` will yield an `int` and an operation of two`nat` will yield a `nat`. These two types can be used together for addition, subtraction, multiplication and division but as long there is an `int` in your operation, the result will also be an `int`. For example, `int + nat = int`.  \n",
    "\n",
    "In addition of `int` and `nat`, you can use other types for arithmetic operations, for example `mutez` and `timestamp`. Here is a table that sums up all the possible combinations and the type of the result:  \n",
    "\n",
    "| Value type \t| Available operation \t| Value type \t| Result type \t|\n",
    "|:----------:\t|:-------------------:\t|:----------:\t|:-----------:\t|\n",
    "|     int    \t|   ADD/SUB/MUL/EDIV  \t|     int    \t|     int     \t|\n",
    "|     nat    \t|   ADD/SUB/MUL/EDIV  \t|     nat    \t|     nat     \t|\n",
    "|     int    \t|   ADD/SUB/MUL/EDIV  \t|     nat    \t|     int     \t|\n",
    "|  timestamp \t|       ADD/SUB       \t|     int    \t|  timestamp  \t|\n",
    "|  timestamp \t|         SUB         \t|  timestamp \t|     int     \t|\n",
    "|    mutez   \t|       ADD/SUB       \t|    mutez   \t|    mutez    \t|\n",
    "|    mutez   \t|       MUL/EDIV      \t|     nat    \t|    mutez    \t|"
   ]
  },
  {
   "cell_type": "markdown",
   "metadata": {},
   "source": [
    "A few considerations to keep in mind regarding the table above:  \n",
    "- Be always very mindful about the return type when you put `int` and `nat` together. You may spend some time scratching your head and wondering why you are not getting the type you are expecting because you overlooked the types you are using in your operation.\n",
    "- A few operations are available for types outside of `int` and `nat`, but they are somewhow limited (for logical reasons). For example, it wouldn't make any sense to multiply timestamps with other values or multiply `mutez` together.\n",
    "- Other limitations are set in place for safety purposes: limiting the possible operations on `mutez` prevent negative balances or integer overflow."
   ]
  },
  {
   "cell_type": "markdown",
   "metadata": {},
   "source": [
    "##### 2. The **`ADD`** instruction"
   ]
  },
  {
   "cell_type": "markdown",
   "metadata": {},
   "source": [
    "The first instruction we are going to play with is the **`ADD`** instruction. As its name suggests, it takes two values and add them together. If you refer to the table above, you can observe that it is one of the most widely available instruction throughout the different types. **`ADD`** also allows you to use different types of values, keeping in mind that the return type is always fix.  \n",
    "\n",
    "Let's check some examples and see how it works:"
   ]
  },
  {
   "cell_type": "code",
   "execution_count": 16,
   "metadata": {},
   "outputs": [
    {
     "name": "stdout",
     "output_type": "stream",
     "text": [
      "storage unit;\n",
      "parameter unit;\n",
      "BEGIN: use %default; drop all; push (Unit, Unit);\n",
      "DROP: pop (Unit, Unit);"
     ]
    }
   ],
   "source": [
    "## We quickly initialize a contract environment to manipulate different values on the stack\n",
    "storage unit ;\n",
    "parameter unit ;\n",
    "BEGIN Unit Unit ;\n",
    "DROP ;"
   ]
  },
  {
   "cell_type": "markdown",
   "metadata": {},
   "source": [
    "In this first example, we push 2 `int` on to the stack and add them.  \n",
    "As you can see, the return value is of type `int` and is the result of `5 + 5`."
   ]
  },
  {
   "cell_type": "code",
   "execution_count": 17,
   "metadata": {},
   "outputs": [
    {
     "name": "stdout",
     "output_type": "stream",
     "text": [
      "PUSH: push 5;\n",
      "PUSH: push 5;\n",
      "ADD: pop 5, 5; push 10;"
     ]
    },
    {
     "data": {
      "text/html": [
       "<table>\n",
       "<thead>\n",
       "<tr><th>value                                  </th><th>type                                    </th></tr>\n",
       "</thead>\n",
       "<tbody>\n",
       "<tr><td><pre style=&quot;text-align: left;&quot;>10</pre></td><td><pre style=&quot;text-align: left;&quot;>int</pre></td></tr>\n",
       "</tbody>\n",
       "</table>"
      ],
      "text/plain": [
       "  value  type\n",
       "-------  ------\n",
       "     10  int"
      ]
     },
     "execution_count": 17,
     "metadata": {},
     "output_type": "execute_result"
    }
   ],
   "source": [
    "PUSH int 5 ;\n",
    "PUSH int 5 ;\n",
    "ADD ;"
   ]
  },
  {
   "cell_type": "markdown",
   "metadata": {},
   "source": [
    "Now we have a value of type `int` on top of the stack. Let's push a value of type `nat` and see what happens:"
   ]
  },
  {
   "cell_type": "code",
   "execution_count": 18,
   "metadata": {},
   "outputs": [
    {
     "name": "stdout",
     "output_type": "stream",
     "text": [
      "PUSH: push 5;\n",
      "ADD: pop 5, 10; push 15;"
     ]
    },
    {
     "data": {
      "text/html": [
       "<table>\n",
       "<thead>\n",
       "<tr><th>value                                  </th><th>type                                    </th></tr>\n",
       "</thead>\n",
       "<tbody>\n",
       "<tr><td><pre style=&quot;text-align: left;&quot;>15</pre></td><td><pre style=&quot;text-align: left;&quot;>int</pre></td></tr>\n",
       "</tbody>\n",
       "</table>"
      ],
      "text/plain": [
       "  value  type\n",
       "-------  ------\n",
       "     15  int"
      ]
     },
     "execution_count": 18,
     "metadata": {},
     "output_type": "execute_result"
    }
   ],
   "source": [
    "PUSH nat 5 ;\n",
    "ADD ;"
   ]
  },
  {
   "cell_type": "markdown",
   "metadata": {},
   "source": [
    "As expected, `int 10 + nat 5` equals `int 15`. The addition of `int` and `nat` always yields an `int` (*for logical reasons, the result of something like `int -20 + nat 5` cannot be a `nat` value*).  \n",
    "\n",
    "In the next snippet, you will see a new instruction, **`NOW`**. We will come back to it in a later chapter, just know for now that it pushes the current timestamp on top of the stack. We can then use the timestamp to demonstrate how **`ADD`** works with values of this type:"
   ]
  },
  {
   "cell_type": "code",
   "execution_count": 19,
   "metadata": {},
   "outputs": [
    {
     "name": "stdout",
     "output_type": "stream",
     "text": [
      "NOW: push 1592033776;\n",
      "ADD: pop 1592033776, 15; push 1592033791;"
     ]
    },
    {
     "data": {
      "text/html": [
       "<table>\n",
       "<thead>\n",
       "<tr><th>value                                          </th><th>type                                          </th></tr>\n",
       "</thead>\n",
       "<tbody>\n",
       "<tr><td><pre style=&quot;text-align: left;&quot;>1592033791</pre></td><td><pre style=&quot;text-align: left;&quot;>timestamp</pre></td></tr>\n",
       "</tbody>\n",
       "</table>"
      ],
      "text/plain": [
       "     value  type\n",
       "----------  ---------\n",
       "1592033791  timestamp"
      ]
     },
     "execution_count": 19,
     "metadata": {},
     "output_type": "execute_result"
    }
   ],
   "source": [
    "NOW ;\n",
    "ADD ;"
   ]
  },
  {
   "cell_type": "markdown",
   "metadata": {},
   "source": [
    "According to the day and time you are running this code block, the timestamp will be different. However, you should clearly see that the initial value has been incremented with `15`, which was the value we had in our stack when we pushed the timestamp. You can also push a value and add it to the existing timestamp:"
   ]
  },
  {
   "cell_type": "code",
   "execution_count": 13,
   "metadata": {},
   "outputs": [
    {
     "name": "stdout",
     "output_type": "stream",
     "text": [
      "PUSH: push 500;\n",
      "ADD: pop 500, 1592032504; push 1592033004;"
     ]
    },
    {
     "data": {
      "text/html": [
       "<table>\n",
       "<thead>\n",
       "<tr><th>value                                          </th><th>type                                          </th></tr>\n",
       "</thead>\n",
       "<tbody>\n",
       "<tr><td><pre style=&quot;text-align: left;&quot;>1592033004</pre></td><td><pre style=&quot;text-align: left;&quot;>timestamp</pre></td></tr>\n",
       "</tbody>\n",
       "</table>"
      ],
      "text/plain": [
       "     value  type\n",
       "----------  ---------\n",
       "1592033004  timestamp"
      ]
     },
     "execution_count": 13,
     "metadata": {},
     "output_type": "execute_result"
    }
   ],
   "source": [
    "PUSH int 500 ;\n",
    "ADD ;"
   ]
  },
  {
   "cell_type": "markdown",
   "metadata": {},
   "source": [
    "Let's clean our stack and see how adding `mutez` together works. As in the previous examples, we just push two values on top of the stack and add them. This yields a result in `mutez`:"
   ]
  },
  {
   "cell_type": "code",
   "execution_count": 14,
   "metadata": {},
   "outputs": [
    {
     "name": "stdout",
     "output_type": "stream",
     "text": [
      "DROP: pop 1592033004;\n",
      "PUSH: push 50;\n",
      "PUSH: push 20;\n",
      "ADD: pop 20, 50; push 70;"
     ]
    },
    {
     "data": {
      "text/html": [
       "<table>\n",
       "<thead>\n",
       "<tr><th>value                                  </th><th>type                                      </th></tr>\n",
       "</thead>\n",
       "<tbody>\n",
       "<tr><td><pre style=&quot;text-align: left;&quot;>70</pre></td><td><pre style=&quot;text-align: left;&quot;>mutez</pre></td></tr>\n",
       "</tbody>\n",
       "</table>"
      ],
      "text/plain": [
       "  value  type\n",
       "-------  ------\n",
       "     70  mutez"
      ]
     },
     "execution_count": 14,
     "metadata": {},
     "output_type": "execute_result"
    }
   ],
   "source": [
    "DROP ;\n",
    "PUSH mutez 50 ;\n",
    "PUSH mutez 20 ;\n",
    "ADD ;"
   ]
  },
  {
   "cell_type": "markdown",
   "metadata": {},
   "source": [
    "Keep in mind that `mutez` values are NOT tezzies but a *representation* of their value. When writing `PUSH mutez 50`, you are not manipulating tezzies, only their representation. There are specific instructions we will study later that tell the contract to send actual tezzies."
   ]
  },
  {
   "cell_type": "code",
   "execution_count": null,
   "metadata": {},
   "outputs": [],
   "source": []
  }
 ],
 "metadata": {
  "kernelspec": {
   "display_name": "Michelson",
   "language": "michelson",
   "name": "michelson"
  },
  "language_info": {
   "codemirror_mode": "michelson",
   "file_extension": ".tz",
   "mimetype": "text/x-michelson",
   "name": "Michelson"
  }
 },
 "nbformat": 4,
 "nbformat_minor": 4
}
